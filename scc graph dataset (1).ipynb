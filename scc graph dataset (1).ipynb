{
 "cells": [
  {
   "cell_type": "code",
   "execution_count": 8,
   "id": "90e64b6e",
   "metadata": {
    "scrolled": true
   },
   "outputs": [],
   "source": [
    "import torch\n",
    "import os \n",
    "import sys\n",
    "import umap, numba\n",
    "import numpy as np\n",
    "import tqdm\n",
    "import glob, pandas as pd\n",
    "import pickle\n",
    "import fire\n",
    "import scipy.sparse as sps\n",
    "from visdom import Visdom\n",
    "from sklearn.metrics import f1_score\n",
    "import copy\n",
    "import torch.nn.functional as F\n",
    "from torch import nn\n",
    "from sklearn.preprocessing import LabelEncoder, OneHotEncoder\n",
    "import torch_cluster\n",
    "from torch_cluster import knn_graph\n",
    "from torch_geometric.data import Data \n",
    "from torch_geometric.utils import train_test_split_edges\n",
    "from torch_geometric.utils.convert import to_networkx\n",
    "from torch_geometric.data import InMemoryDataset,DataLoader\n",
    "from torch_geometric.utils import add_remaining_self_loops\n",
    "from torch_cluster import radius_graph\n",
    "from torch_geometric.utils import subgraph"
   ]
  },
  {
   "cell_type": "code",
   "execution_count": 10,
   "id": "b71ddafe",
   "metadata": {},
   "outputs": [],
   "source": [
    "IDs=['109_A1c_ASAP_tumor_map', '10_A1a_ASAP_tumor_map', '10_A1b_ASAP_tumor_map', '10_A2b_ASAP_tumor_map', '110_A2b_ASAP_tumor_map', '112_a_ASAP_tumor_map', '112_b_ASAP_tumor_map', '123_A1a_ASAP_tumor_map', '12_A1c_ASAP_tumor_map', '14_A1b_ASAP_tumor_map', '14_A2b_ASAP_tumor_map', '169_A2b_ASAP_tumor_map', '270_A1b_ASAP_tumor_map', '270_A1d_ASAP_tumor_map', '270_A1e_ASAP_tumor_map', '270_A2b_ASAP_tumor_map', '270_A2f_ASAP_tumor_map', '281_A1d_ASAP_tumor_map', '281_A1f_ASAP_tumor_map', '281_A2eX_ASAP_tumor_map', '311_A2c_ASAP_tumor_map', '327_A1a_ASAP_tumor_map', '327_A1d_ASAP_tumor_map', '327_B1c_ASAP_tumor_map', '341_a_ASAP_tumor_map', '341_b_ASAP_tumor_map', '342_a_ASAP_tumor_map', '342_b_ASAP_tumor_map', '343_a_ASAP_tumor_map', '343_b_ASAP_tumor_map', '343_c_ASAP_tumor_map', '343_d_ASAP_tumor_map', '344_a_ASAP_tumor_map', '344_b_ASAP_tumor_map', '345_a_ASAP_tumor_map', '345_b_ASAP_tumor_map', '346_a_ASAP_tumor_map', '346_b_ASAP_tumor_map', '350_A1a_ASAP_tumor_map', '350_A1b_ASAP_tumor_map', '350_A1c_ASAP_tumor_map', '350_A1d_ASAP_tumor_map', '350_A1e_ASAP_tumor_map', '351_A2b_ASAP_tumor_map', '352_A1d_ASAP_tumor_map', '352_A1e_ASAP_tumor_map', '352_A1g_ASAP_tumor_map', '352_A1h_ASAP_tumor_map', '352_A1i_ASAP_tumor_map', '353_A2b_ASAP_tumor_map', '354_A1b_ASAP_tumor_map', '354_A1c_ASAP_tumor_map', '354_A1d_ASAP_tumor_map', '354_A3a_ASAP_tumor_map', '354_A3b_ASAP_tumor_map', '354_A3c_ASAP_tumor_map', '354_D1b_ASAP_tumor_map', '355_A1d_ASAP_tumor_map', '356_A1b_ASAP_tumor_map', '358_A1a_ASAP_tumor_map', '358_A1b_ASAP_tumor_map', '361_a_ASAP_tumor_map', '361_b_ASAP_tumor_map', '362_A1a_ASAP_tumor_map', '362_A1b_ASAP_tumor_map', '362_A1c_ASAP_tumor_map', '363_A1b_ASAP_tumor_map', '363_A1c_ASAP_tumor_map', '363_A2b_ASAP_tumor_map', '363_A3b_ASAP_tumor_map', '364_A1b_ASAP_tumor_map', '364_A2b_ASAP_tumor_map', '364_A4b_ASAP_tumor_map', '365_A1b_ASAP_tumor_map', '365_A2b_ASAP_tumor_map', '366_A1a_ASAP_tumor_map', '366_A1b_ASAP_tumor_map', '366_A1c_ASAP_tumor_map', '367_A2b_ASAP_tumor_map', '368_A1b_ASAP_tumor_map', '368_A1c_ASAP_tumor_map', '368_A1d_ASAP_tumor_map', '369_A1b_ASAP_tumor_map', '369_A1c_ASAP_tumor_map', '369_A2b_ASAP_tumor_map', '370_A1b_ASAP_tumor_map', '370_A2a_ASAP_tumor_map', '370_A2b_ASAP_tumor_map', '37_A2d_ASAP_tumor_map', '61_A1a_ASAP_tumor_map', '61_B1a_ASAP_tumor_map', '70_A2b_ASAP_tumor_map', '7_A1c_ASAP_tumor_map', '7_A1d_ASAP_tumor_map', '7_A1e_ASAP_tumor_map']"
   ]
  },
  {
   "cell_type": "code",
   "execution_count": 13,
   "id": "2f5ceacd",
   "metadata": {},
   "outputs": [],
   "source": [
    "\n",
    "#TUMOR_PERCENT=0.2\n",
    "\n",
    "def get_graph_dataset(embedding_dir='', \n",
    "                      basename='', \n",
    "                      target_col='scc',  \n",
    "                      k=8,\n",
    "                      radius=0,\n",
    "                      dataset_save_loc=''):\n",
    "    with open(os.path.join(embedding_dir,f\"{basename}\"),\"rb\") as file:\n",
    "        embeddings=torch.load(file) \n",
    "    df=embeddings['patch_info']\n",
    "    X=pd.DataFrame(embeddings['embeddings'])\n",
    "    df['y_true']=df[target_col]\n",
    "    xy=torch.tensor(embeddings['patch_info'][['x','y']].values)\n",
    "    X=torch.tensor(X.values)\n",
    "    y=torch.tensor(df.loc[:,'y_true'].values)\n",
    "    \n",
    "    if not radius:\n",
    "        G=knn_graph(xy,k=k)\n",
    "    else:\n",
    "        G=radius_graph(xy, r=radius*np.sqrt(2), batch=None, loop=True)\n",
    "    G=(add_remaining_self_loops(G)[0]).detach().cpu()\n",
    "    xy=xy.detach().cpu()\n",
    "    datasets=[]\n",
    "    edges=G.detach().cpu().numpy().astype(int)\n",
    "    n_components,components=list(sps.csgraph.connected_components(sps.coo_matrix((np.ones_like(edges[0]),(edges[0],edges[1])))))\n",
    "    components=torch.LongTensor(components)\n",
    "    for i in range(n_components):\n",
    "        G_new=subgraph(components==i,G,relabel_nodes=True)[0]\n",
    "        xy_new=xy[components==i]\n",
    "        X_new=X[components==i]\n",
    "        ohe = OneHotEncoder()\n",
    "        y_new=(y[components==i]).reshape(-1,1)\n",
    "        y_new=ohe.fit_transform((y_new)).toarray()\n",
    "        #y_whole_slide_image_label=y_new.float().mean()>=TUMOR_PERCENT\n",
    "        np.random.seed(42)\n",
    "        idx=np.arange(X_new.shape[0])\n",
    "        idx2=np.arange(X_new.shape[0])\n",
    "        np.random.shuffle(idx)\n",
    "        train_idx,val_idx,test_idx=torch.tensor(np.isin(idx2,idx[:int(0.8*len(idx))])),torch.tensor(np.isin(idx2,idx[int(0.8*len(idx)):int(0.9*len(idx))])),torch.tensor(np.isin(idx2,idx[int(0.9*len(idx)):]))\n",
    "        dataset=Data(x=X_new, edge_index=G_new, edge_attr=None, y=y_new, pos=xy_new)\n",
    "        dataset.train_mask=train_idx\n",
    "        dataset.val_mask=val_idx\n",
    "        dataset.test_mask=test_idx\n",
    "        datasets.append(dataset)\n",
    "    #components=components.numpy()\n",
    "    \n",
    "    torch.save(datasets, os.path.join(dataset_save_loc,f\"dataset{ID}.pkl\"))\n",
    "    return datasets\n",
    "    \n",
    "\n"
   ]
  },
  {
   "cell_type": "code",
   "execution_count": 12,
   "id": "8b48c4db",
   "metadata": {
    "scrolled": true
   },
   "outputs": [
    {
     "ename": "FileNotFoundError",
     "evalue": "[Errno 2] No such file or directory: '/dartfs/rc/nosnapshots/V/VaickusL-nb/EDIT_Students/users/Sophie_Chen/graph_dataset/112_a_ASAP_tumor_map.pkl/dataset.pkl'",
     "output_type": "error",
     "traceback": [
      "\u001b[0;31m---------------------------------------------------------------------------\u001b[0m",
      "\u001b[0;31mFileNotFoundError\u001b[0m                         Traceback (most recent call last)",
      "Input \u001b[0;32mIn [12]\u001b[0m, in \u001b[0;36m<cell line: 1>\u001b[0;34m()\u001b[0m\n\u001b[0;32m----> 1\u001b[0m \u001b[43mget_graph_dataset\u001b[49m\u001b[43m(\u001b[49m\u001b[43membedding_dir\u001b[49m\u001b[38;5;241;43m=\u001b[39;49m\u001b[38;5;124;43m\"\u001b[39;49m\u001b[38;5;124;43m/dartfs/rc/nosnapshots/V/VaickusL-nb/EDIT_Students/users/Sophie_Chen/cnn_embeddings/\u001b[39;49m\u001b[38;5;124;43m\"\u001b[39;49m\u001b[43m,\u001b[49m\n\u001b[1;32m      2\u001b[0m \u001b[43m                  \u001b[49m\u001b[43mbasename\u001b[49m\u001b[38;5;241;43m=\u001b[39;49m\u001b[38;5;124;43m'\u001b[39;49m\u001b[38;5;124;43m109_A1c_ASAP_tumor_map\u001b[39;49m\u001b[38;5;124;43m'\u001b[39;49m\u001b[43m \u001b[49m\u001b[38;5;241;43m+\u001b[39;49m\u001b[38;5;124;43m'\u001b[39;49m\u001b[38;5;124;43m.pkl\u001b[39;49m\u001b[38;5;124;43m'\u001b[39;49m\u001b[43m,\u001b[49m\n\u001b[1;32m      3\u001b[0m \u001b[43m                  \u001b[49m\u001b[43mtarget_col\u001b[49m\u001b[38;5;241;43m=\u001b[39;49m\u001b[38;5;124;43m'\u001b[39;49m\u001b[38;5;124;43mscc\u001b[39;49m\u001b[38;5;124;43m'\u001b[39;49m\u001b[43m,\u001b[49m\n\u001b[1;32m      4\u001b[0m \u001b[43m                  \u001b[49m\u001b[43mk\u001b[49m\u001b[38;5;241;43m=\u001b[39;49m\u001b[38;5;241;43m8\u001b[39;49m\u001b[43m,\u001b[49m\n\u001b[1;32m      5\u001b[0m \u001b[43m                  \u001b[49m\u001b[43mradius\u001b[49m\u001b[38;5;241;43m=\u001b[39;49m\u001b[38;5;241;43m256\u001b[39;49m\u001b[43m,\u001b[49m\n\u001b[1;32m      6\u001b[0m \u001b[43m                  \u001b[49m\u001b[43mdataset_save_loc\u001b[49m\u001b[38;5;241;43m=\u001b[39;49m\u001b[38;5;124;43mf\u001b[39;49m\u001b[38;5;124;43m\"\u001b[39;49m\u001b[38;5;124;43m/dartfs/rc/nosnapshots/V/VaickusL-nb/EDIT_Students/users/Sophie_Chen/graph_dataset/112_a_ASAP_tumor_map.pkl\u001b[39;49m\u001b[38;5;124;43m\"\u001b[39;49m\u001b[43m)\u001b[49m\n",
      "Input \u001b[0;32mIn [11]\u001b[0m, in \u001b[0;36mget_graph_dataset\u001b[0;34m(embedding_dir, basename, target_col, k, radius, dataset_save_loc)\u001b[0m\n\u001b[1;32m     43\u001b[0m     datasets\u001b[38;5;241m.\u001b[39mappend(dataset)\n\u001b[1;32m     44\u001b[0m \u001b[38;5;66;03m#components=components.numpy()\u001b[39;00m\n\u001b[0;32m---> 46\u001b[0m \u001b[43mtorch\u001b[49m\u001b[38;5;241;43m.\u001b[39;49m\u001b[43msave\u001b[49m\u001b[43m(\u001b[49m\u001b[43mdatasets\u001b[49m\u001b[43m,\u001b[49m\u001b[43m \u001b[49m\u001b[43mos\u001b[49m\u001b[38;5;241;43m.\u001b[39;49m\u001b[43mpath\u001b[49m\u001b[38;5;241;43m.\u001b[39;49m\u001b[43mjoin\u001b[49m\u001b[43m(\u001b[49m\u001b[43mdataset_save_loc\u001b[49m\u001b[43m,\u001b[49m\u001b[38;5;124;43mf\u001b[39;49m\u001b[38;5;124;43m\"\u001b[39;49m\u001b[38;5;124;43mdataset.pkl\u001b[39;49m\u001b[38;5;124;43m\"\u001b[39;49m\u001b[43m)\u001b[49m\u001b[43m)\u001b[49m\n\u001b[1;32m     47\u001b[0m \u001b[38;5;28;01mreturn\u001b[39;00m datasets\n",
      "File \u001b[0;32m~/anaconda3/envs/hiss/lib/python3.8/site-packages/torch/serialization.py:376\u001b[0m, in \u001b[0;36msave\u001b[0;34m(obj, f, pickle_module, pickle_protocol, _use_new_zipfile_serialization)\u001b[0m\n\u001b[1;32m    340\u001b[0m \u001b[38;5;124;03m\"\"\"save(obj, f, pickle_module=pickle, pickle_protocol=DEFAULT_PROTOCOL, _use_new_zipfile_serialization=True)\u001b[39;00m\n\u001b[1;32m    341\u001b[0m \n\u001b[1;32m    342\u001b[0m \u001b[38;5;124;03mSaves an object to a disk file.\u001b[39;00m\n\u001b[0;32m   (...)\u001b[0m\n\u001b[1;32m    372\u001b[0m \u001b[38;5;124;03m    >>> torch.save(x, buffer)\u001b[39;00m\n\u001b[1;32m    373\u001b[0m \u001b[38;5;124;03m\"\"\"\u001b[39;00m\n\u001b[1;32m    374\u001b[0m _check_dill_version(pickle_module)\n\u001b[0;32m--> 376\u001b[0m \u001b[38;5;28;01mwith\u001b[39;00m \u001b[43m_open_file_like\u001b[49m\u001b[43m(\u001b[49m\u001b[43mf\u001b[49m\u001b[43m,\u001b[49m\u001b[43m \u001b[49m\u001b[38;5;124;43m'\u001b[39;49m\u001b[38;5;124;43mwb\u001b[39;49m\u001b[38;5;124;43m'\u001b[39;49m\u001b[43m)\u001b[49m \u001b[38;5;28;01mas\u001b[39;00m opened_file:\n\u001b[1;32m    377\u001b[0m     \u001b[38;5;28;01mif\u001b[39;00m _use_new_zipfile_serialization:\n\u001b[1;32m    378\u001b[0m         \u001b[38;5;28;01mwith\u001b[39;00m _open_zipfile_writer(opened_file) \u001b[38;5;28;01mas\u001b[39;00m opened_zipfile:\n",
      "File \u001b[0;32m~/anaconda3/envs/hiss/lib/python3.8/site-packages/torch/serialization.py:230\u001b[0m, in \u001b[0;36m_open_file_like\u001b[0;34m(name_or_buffer, mode)\u001b[0m\n\u001b[1;32m    228\u001b[0m \u001b[38;5;28;01mdef\u001b[39;00m \u001b[38;5;21m_open_file_like\u001b[39m(name_or_buffer, mode):\n\u001b[1;32m    229\u001b[0m     \u001b[38;5;28;01mif\u001b[39;00m _is_path(name_or_buffer):\n\u001b[0;32m--> 230\u001b[0m         \u001b[38;5;28;01mreturn\u001b[39;00m \u001b[43m_open_file\u001b[49m\u001b[43m(\u001b[49m\u001b[43mname_or_buffer\u001b[49m\u001b[43m,\u001b[49m\u001b[43m \u001b[49m\u001b[43mmode\u001b[49m\u001b[43m)\u001b[49m\n\u001b[1;32m    231\u001b[0m     \u001b[38;5;28;01melse\u001b[39;00m:\n\u001b[1;32m    232\u001b[0m         \u001b[38;5;28;01mif\u001b[39;00m \u001b[38;5;124m'\u001b[39m\u001b[38;5;124mw\u001b[39m\u001b[38;5;124m'\u001b[39m \u001b[38;5;129;01min\u001b[39;00m mode:\n",
      "File \u001b[0;32m~/anaconda3/envs/hiss/lib/python3.8/site-packages/torch/serialization.py:211\u001b[0m, in \u001b[0;36m_open_file.__init__\u001b[0;34m(self, name, mode)\u001b[0m\n\u001b[1;32m    210\u001b[0m \u001b[38;5;28;01mdef\u001b[39;00m \u001b[38;5;21m__init__\u001b[39m(\u001b[38;5;28mself\u001b[39m, name, mode):\n\u001b[0;32m--> 211\u001b[0m     \u001b[38;5;28msuper\u001b[39m(_open_file, \u001b[38;5;28mself\u001b[39m)\u001b[38;5;241m.\u001b[39m\u001b[38;5;21m__init__\u001b[39m(\u001b[38;5;28;43mopen\u001b[39;49m\u001b[43m(\u001b[49m\u001b[43mname\u001b[49m\u001b[43m,\u001b[49m\u001b[43m \u001b[49m\u001b[43mmode\u001b[49m\u001b[43m)\u001b[49m)\n",
      "\u001b[0;31mFileNotFoundError\u001b[0m: [Errno 2] No such file or directory: '/dartfs/rc/nosnapshots/V/VaickusL-nb/EDIT_Students/users/Sophie_Chen/graph_dataset/112_a_ASAP_tumor_map.pkl/dataset.pkl'"
     ]
    }
   ],
   "source": [
    "\n",
    "get_graph_dataset(embedding_dir=\"/dartfs/rc/nosnapshots/V/VaickusL-nb/EDIT_Students/users/Sophie_Chen/cnn_embeddings/\",\n",
    "                  basename='109_A1c_ASAP_tumor_map' +'.pkl',\n",
    "                  target_col='scc',\n",
    "                  k=8,\n",
    "                  radius=256,\n",
    "                  dataset_save_loc=f\"/dartfs/rc/nosnapshots/V/VaickusL-nb/EDIT_Students/users/Sophie_Chen/graph_dataset/112_a_ASAP_tumor_map.pkl\")"
   ]
  },
  {
   "cell_type": "code",
   "execution_count": 37,
   "id": "3df6333e",
   "metadata": {
    "scrolled": false
   },
   "outputs": [
    {
     "name": "stderr",
     "output_type": "stream",
     "text": [
      "100%|██████████████████████████████████████████████████████████████████████████| 95/95 [01:32<00:00,  1.03it/s]\n"
     ]
    }
   ],
   "source": [
    "IDs=['109_A1c_ASAP_tumor_map', '10_A1a_ASAP_tumor_map', '10_A1b_ASAP_tumor_map', '10_A2b_ASAP_tumor_map', '110_A2b_ASAP_tumor_map', '112_a_ASAP_tumor_map', '112_b_ASAP_tumor_map', '123_A1a_ASAP_tumor_map', '12_A1c_ASAP_tumor_map', '14_A1b_ASAP_tumor_map', '14_A2b_ASAP_tumor_map', '169_A2b_ASAP_tumor_map', '270_A1b_ASAP_tumor_map', '270_A1d_ASAP_tumor_map', '270_A1e_ASAP_tumor_map', '270_A2b_ASAP_tumor_map', '270_A2f_ASAP_tumor_map', '281_A1d_ASAP_tumor_map', '281_A1f_ASAP_tumor_map', '281_A2eX_ASAP_tumor_map', '311_A2c_ASAP_tumor_map', '327_A1a_ASAP_tumor_map', '327_A1d_ASAP_tumor_map', '327_B1c_ASAP_tumor_map', '341_a_ASAP_tumor_map', '341_b_ASAP_tumor_map', '342_a_ASAP_tumor_map', '342_b_ASAP_tumor_map', '343_a_ASAP_tumor_map', '343_b_ASAP_tumor_map', '343_c_ASAP_tumor_map', '343_d_ASAP_tumor_map', '344_a_ASAP_tumor_map', '344_b_ASAP_tumor_map', '345_a_ASAP_tumor_map', '345_b_ASAP_tumor_map', '346_a_ASAP_tumor_map', '346_b_ASAP_tumor_map', '350_A1a_ASAP_tumor_map', '350_A1b_ASAP_tumor_map', '350_A1c_ASAP_tumor_map', '350_A1d_ASAP_tumor_map', '350_A1e_ASAP_tumor_map', '351_A2b_ASAP_tumor_map', '352_A1d_ASAP_tumor_map', '352_A1e_ASAP_tumor_map', '352_A1g_ASAP_tumor_map', '352_A1h_ASAP_tumor_map', '352_A1i_ASAP_tumor_map', '353_A2b_ASAP_tumor_map', '354_A1b_ASAP_tumor_map', '354_A1c_ASAP_tumor_map', '354_A1d_ASAP_tumor_map', '354_A3a_ASAP_tumor_map', '354_A3b_ASAP_tumor_map', '354_A3c_ASAP_tumor_map', '354_D1b_ASAP_tumor_map', '355_A1d_ASAP_tumor_map', '356_A1b_ASAP_tumor_map', '358_A1a_ASAP_tumor_map', '358_A1b_ASAP_tumor_map', '361_a_ASAP_tumor_map', '361_b_ASAP_tumor_map', '362_A1a_ASAP_tumor_map', '362_A1b_ASAP_tumor_map', '362_A1c_ASAP_tumor_map', '363_A1b_ASAP_tumor_map', '363_A1c_ASAP_tumor_map', '363_A2b_ASAP_tumor_map', '363_A3b_ASAP_tumor_map', '364_A1b_ASAP_tumor_map', '364_A2b_ASAP_tumor_map', '364_A4b_ASAP_tumor_map', '365_A1b_ASAP_tumor_map', '365_A2b_ASAP_tumor_map', '366_A1a_ASAP_tumor_map', '366_A1b_ASAP_tumor_map', '366_A1c_ASAP_tumor_map', '367_A2b_ASAP_tumor_map', '368_A1b_ASAP_tumor_map', '368_A1c_ASAP_tumor_map', '368_A1d_ASAP_tumor_map', '369_A1b_ASAP_tumor_map', '369_A1c_ASAP_tumor_map', '369_A2b_ASAP_tumor_map', '370_A1b_ASAP_tumor_map', '370_A2a_ASAP_tumor_map', '370_A2b_ASAP_tumor_map', '37_A2d_ASAP_tumor_map', '61_A1a_ASAP_tumor_map', '61_B1a_ASAP_tumor_map', '70_A2b_ASAP_tumor_map', '7_A1c_ASAP_tumor_map', '7_A1d_ASAP_tumor_map', '7_A1e_ASAP_tumor_map']\n",
    "\n",
    "for ID in tqdm.tqdm(IDs):\n",
    "    get_graph_dataset(embedding_dir=\"/dartfs/rc/nosnapshots/V/VaickusL-nb/EDIT_Students/users/Sophie_Chen/cnn_embeddings/\",\n",
    "                  basename=ID +'.pkl',\n",
    "                  target_col='scc',\n",
    "                  k=8,\n",
    "                  radius=256)\n",
    "    \n"
   ]
  },
  {
   "cell_type": "code",
   "execution_count": 40,
   "id": "7fb21fd4",
   "metadata": {},
   "outputs": [],
   "source": [
    "IDs=['109_A1c_ASAP_tumor_map', '10_A1a_ASAP_tumor_map', '10_A1b_ASAP_tumor_map', '10_A2b_ASAP_tumor_map', '110_A2b_ASAP_tumor_map', '112_a_ASAP_tumor_map', '112_b_ASAP_tumor_map', '123_A1a_ASAP_tumor_map', '12_A1c_ASAP_tumor_map', '14_A1b_ASAP_tumor_map', '14_A2b_ASAP_tumor_map', '169_A2b_ASAP_tumor_map', '270_A1b_ASAP_tumor_map', '270_A1d_ASAP_tumor_map', '270_A1e_ASAP_tumor_map', '270_A2b_ASAP_tumor_map', '270_A2f_ASAP_tumor_map', '281_A1d_ASAP_tumor_map', '281_A1f_ASAP_tumor_map', '281_A2eX_ASAP_tumor_map', '311_A2c_ASAP_tumor_map', '327_A1a_ASAP_tumor_map', '327_A1d_ASAP_tumor_map', '327_B1c_ASAP_tumor_map', '341_a_ASAP_tumor_map', '341_b_ASAP_tumor_map', '342_a_ASAP_tumor_map', '342_b_ASAP_tumor_map', '343_a_ASAP_tumor_map', '343_b_ASAP_tumor_map', '343_c_ASAP_tumor_map', '343_d_ASAP_tumor_map', '344_a_ASAP_tumor_map', '344_b_ASAP_tumor_map', '345_a_ASAP_tumor_map', '345_b_ASAP_tumor_map', '346_a_ASAP_tumor_map', '346_b_ASAP_tumor_map', '350_A1a_ASAP_tumor_map', '350_A1b_ASAP_tumor_map', '350_A1c_ASAP_tumor_map', '350_A1d_ASAP_tumor_map', '350_A1e_ASAP_tumor_map', '351_A2b_ASAP_tumor_map', '352_A1d_ASAP_tumor_map', '352_A1e_ASAP_tumor_map', '352_A1g_ASAP_tumor_map', '352_A1h_ASAP_tumor_map', '352_A1i_ASAP_tumor_map', '353_A2b_ASAP_tumor_map', '354_A1b_ASAP_tumor_map', '354_A1c_ASAP_tumor_map', '354_A1d_ASAP_tumor_map', '354_A3a_ASAP_tumor_map', '354_A3b_ASAP_tumor_map', '354_A3c_ASAP_tumor_map', '354_D1b_ASAP_tumor_map', '355_A1d_ASAP_tumor_map', '356_A1b_ASAP_tumor_map', '358_A1a_ASAP_tumor_map', '358_A1b_ASAP_tumor_map', '361_a_ASAP_tumor_map', '361_b_ASAP_tumor_map', '362_A1a_ASAP_tumor_map', '362_A1b_ASAP_tumor_map', '362_A1c_ASAP_tumor_map', '363_A1b_ASAP_tumor_map', '363_A1c_ASAP_tumor_map', '363_A2b_ASAP_tumor_map', '363_A3b_ASAP_tumor_map', '364_A1b_ASAP_tumor_map', '364_A2b_ASAP_tumor_map', '364_A4b_ASAP_tumor_map', '365_A1b_ASAP_tumor_map', '365_A2b_ASAP_tumor_map', '366_A1a_ASAP_tumor_map', '366_A1b_ASAP_tumor_map', '366_A1c_ASAP_tumor_map', '367_A2b_ASAP_tumor_map', '368_A1b_ASAP_tumor_map', '368_A1c_ASAP_tumor_map', '368_A1d_ASAP_tumor_map', '369_A1b_ASAP_tumor_map', '369_A1c_ASAP_tumor_map', '369_A2b_ASAP_tumor_map', '370_A1b_ASAP_tumor_map', '370_A2a_ASAP_tumor_map', '370_A2b_ASAP_tumor_map', '37_A2d_ASAP_tumor_map', '61_A1a_ASAP_tumor_map', '61_B1a_ASAP_tumor_map', '70_A2b_ASAP_tumor_map', '7_A1c_ASAP_tumor_map', '7_A1d_ASAP_tumor_map', '7_A1e_ASAP_tumor_map']\n",
    "\n",
    "all_dataset=[]\n",
    "for ID in (IDs):\n",
    "    graph_dataset=get_graph_dataset(embedding_dir=\"/dartfs/rc/nosnapshots/V/VaickusL-nb/EDIT_Students/users/Sophie_Chen/cnn_embeddings/\",\n",
    "                  basename=ID +'.pkl',\n",
    "                  target_col='scc',\n",
    "                  k=8,\n",
    "                  radius=256)\n",
    "    all_dataset.append(graph_dataset)"
   ]
  },
  {
   "cell_type": "code",
   "execution_count": 44,
   "id": "2afce4ad",
   "metadata": {
    "scrolled": true
   },
   "outputs": [
    {
     "data": {
      "text/plain": [
       "[Data(x=[4639, 2048], edge_index=[2, 22765], y=[4639], pos=[4639, 2], train_mask=[4639], val_mask=[4639], test_mask=[4639]),\n",
       " Data(x=[4710, 2048], edge_index=[2, 23116], y=[4710], pos=[4710, 2], train_mask=[4710], val_mask=[4710], test_mask=[4710]),\n",
       " Data(x=[5083, 2048], edge_index=[2, 24985], y=[5083], pos=[5083, 2], train_mask=[5083], val_mask=[5083], test_mask=[5083])]"
      ]
     },
     "execution_count": 44,
     "metadata": {},
     "output_type": "execute_result"
    }
   ],
   "source": []
  },
  {
   "cell_type": "code",
   "execution_count": null,
   "id": "60146724",
   "metadata": {},
   "outputs": [],
   "source": [
    "import pickle\n",
    "pickle.dump(dict(graph_dataset=graph_datasets,train_test_split))"
   ]
  },
  {
   "cell_type": "code",
   "execution_count": 13,
   "id": "b8e75ec1",
   "metadata": {},
   "outputs": [],
   "source": [
    "df=pd.read_pickle(\"/dartfs/rc/nosnapshots/V/VaickusL-nb/EDIT_Students/users/Sophie_Chen/file_locations.pkl\")"
   ]
  },
  {
   "cell_type": "code",
   "execution_count": 14,
   "id": "e71fdf3b",
   "metadata": {
    "scrolled": true
   },
   "outputs": [
    {
     "name": "stderr",
     "output_type": "stream",
     "text": [
      "  1%|▌                                                    | 1/95 [00:05<07:56,  5.06s/it]"
     ]
    },
    {
     "name": "stdout",
     "output_type": "stream",
     "text": [
      "109_A1c_ASAP_tumor_map 2\n"
     ]
    },
    {
     "name": "stderr",
     "output_type": "stream",
     "text": [
      "  2%|█                                                    | 2/95 [00:07<05:03,  3.27s/it]"
     ]
    },
    {
     "name": "stdout",
     "output_type": "stream",
     "text": [
      "10_A1a_ASAP_tumor_map 3\n"
     ]
    },
    {
     "name": "stderr",
     "output_type": "stream",
     "text": [
      "  3%|█▋                                                   | 3/95 [00:09<04:12,  2.74s/it]"
     ]
    },
    {
     "name": "stdout",
     "output_type": "stream",
     "text": [
      "10_A1b_ASAP_tumor_map 3\n"
     ]
    },
    {
     "name": "stderr",
     "output_type": "stream",
     "text": [
      "  4%|██▏                                                  | 4/95 [00:11<03:52,  2.56s/it]"
     ]
    },
    {
     "name": "stdout",
     "output_type": "stream",
     "text": [
      "10_A2b_ASAP_tumor_map 3\n"
     ]
    },
    {
     "name": "stderr",
     "output_type": "stream",
     "text": [
      "  5%|██▊                                                  | 5/95 [00:13<03:39,  2.44s/it]"
     ]
    },
    {
     "name": "stdout",
     "output_type": "stream",
     "text": [
      "110_A2b_ASAP_tumor_map 4\n"
     ]
    },
    {
     "name": "stderr",
     "output_type": "stream",
     "text": [
      "  6%|███▎                                                 | 6/95 [00:14<02:49,  1.90s/it]"
     ]
    },
    {
     "name": "stdout",
     "output_type": "stream",
     "text": [
      "112_a_ASAP_tumor_map 8\n"
     ]
    },
    {
     "name": "stderr",
     "output_type": "stream",
     "text": [
      "  7%|███▉                                                 | 7/95 [00:15<02:18,  1.57s/it]"
     ]
    },
    {
     "name": "stdout",
     "output_type": "stream",
     "text": [
      "112_b_ASAP_tumor_map 8\n"
     ]
    },
    {
     "name": "stderr",
     "output_type": "stream",
     "text": [
      "  8%|████▍                                                | 8/95 [00:17<02:28,  1.71s/it]"
     ]
    },
    {
     "name": "stdout",
     "output_type": "stream",
     "text": [
      "123_A1a_ASAP_tumor_map 6\n"
     ]
    },
    {
     "name": "stderr",
     "output_type": "stream",
     "text": [
      "  9%|█████                                                | 9/95 [00:20<02:54,  2.03s/it]"
     ]
    },
    {
     "name": "stdout",
     "output_type": "stream",
     "text": [
      "12_A1c_ASAP_tumor_map 3\n"
     ]
    },
    {
     "name": "stderr",
     "output_type": "stream",
     "text": [
      " 11%|█████▍                                              | 10/95 [00:22<02:52,  2.03s/it]"
     ]
    },
    {
     "name": "stdout",
     "output_type": "stream",
     "text": [
      "14_A1b_ASAP_tumor_map 3\n"
     ]
    },
    {
     "name": "stderr",
     "output_type": "stream",
     "text": [
      " 12%|██████                                              | 11/95 [00:24<02:44,  1.95s/it]"
     ]
    },
    {
     "name": "stdout",
     "output_type": "stream",
     "text": [
      "14_A2b_ASAP_tumor_map 3\n"
     ]
    },
    {
     "name": "stderr",
     "output_type": "stream",
     "text": [
      " 13%|██████▌                                             | 12/95 [00:25<02:42,  1.96s/it]"
     ]
    },
    {
     "name": "stdout",
     "output_type": "stream",
     "text": [
      "169_A2b_ASAP_tumor_map 3\n"
     ]
    },
    {
     "name": "stderr",
     "output_type": "stream",
     "text": [
      " 14%|███████                                             | 13/95 [00:28<02:57,  2.16s/it]"
     ]
    },
    {
     "name": "stdout",
     "output_type": "stream",
     "text": [
      "270_A1b_ASAP_tumor_map 2\n"
     ]
    },
    {
     "name": "stderr",
     "output_type": "stream",
     "text": [
      " 15%|███████▋                                            | 14/95 [00:31<03:07,  2.32s/it]"
     ]
    },
    {
     "name": "stdout",
     "output_type": "stream",
     "text": [
      "270_A1d_ASAP_tumor_map 2\n"
     ]
    },
    {
     "name": "stderr",
     "output_type": "stream",
     "text": [
      " 16%|████████▏                                           | 15/95 [00:33<03:12,  2.41s/it]"
     ]
    },
    {
     "name": "stdout",
     "output_type": "stream",
     "text": [
      "270_A1e_ASAP_tumor_map 2\n"
     ]
    },
    {
     "name": "stderr",
     "output_type": "stream",
     "text": [
      " 17%|████████▊                                           | 16/95 [00:36<03:10,  2.42s/it]"
     ]
    },
    {
     "name": "stdout",
     "output_type": "stream",
     "text": [
      "270_A2b_ASAP_tumor_map 2\n"
     ]
    },
    {
     "name": "stderr",
     "output_type": "stream",
     "text": [
      " 18%|█████████▎                                          | 17/95 [00:37<02:34,  1.99s/it]"
     ]
    },
    {
     "name": "stdout",
     "output_type": "stream",
     "text": [
      "270_A2f_ASAP_tumor_map 1\n"
     ]
    },
    {
     "name": "stderr",
     "output_type": "stream",
     "text": [
      " 19%|█████████▊                                          | 18/95 [00:39<02:27,  1.91s/it]"
     ]
    },
    {
     "name": "stdout",
     "output_type": "stream",
     "text": [
      "281_A1d_ASAP_tumor_map 2\n"
     ]
    },
    {
     "name": "stderr",
     "output_type": "stream",
     "text": [
      " 20%|██████████▍                                         | 19/95 [00:40<02:23,  1.89s/it]"
     ]
    },
    {
     "name": "stdout",
     "output_type": "stream",
     "text": [
      "281_A1f_ASAP_tumor_map 2\n"
     ]
    },
    {
     "name": "stderr",
     "output_type": "stream",
     "text": [
      " 21%|██████████▉                                         | 20/95 [00:42<02:17,  1.83s/it]"
     ]
    },
    {
     "name": "stdout",
     "output_type": "stream",
     "text": [
      "281_A2eX_ASAP_tumor_map 2\n"
     ]
    },
    {
     "name": "stderr",
     "output_type": "stream",
     "text": [
      " 22%|███████████▍                                        | 21/95 [00:44<02:09,  1.76s/it]"
     ]
    },
    {
     "name": "stdout",
     "output_type": "stream",
     "text": [
      "311_A2c_ASAP_tumor_map 2\n"
     ]
    },
    {
     "name": "stderr",
     "output_type": "stream",
     "text": [
      " 23%|████████████                                        | 22/95 [00:47<02:40,  2.20s/it]"
     ]
    },
    {
     "name": "stdout",
     "output_type": "stream",
     "text": [
      "327_A1a_ASAP_tumor_map 3\n"
     ]
    },
    {
     "name": "stderr",
     "output_type": "stream",
     "text": [
      " 24%|████████████▌                                       | 23/95 [00:49<02:34,  2.15s/it]"
     ]
    },
    {
     "name": "stdout",
     "output_type": "stream",
     "text": [
      "327_A1d_ASAP_tumor_map 2\n"
     ]
    },
    {
     "name": "stderr",
     "output_type": "stream",
     "text": [
      " 25%|█████████████▏                                      | 24/95 [00:54<03:29,  2.95s/it]"
     ]
    },
    {
     "name": "stdout",
     "output_type": "stream",
     "text": [
      "327_B1c_ASAP_tumor_map 2\n"
     ]
    },
    {
     "name": "stderr",
     "output_type": "stream",
     "text": [
      " 26%|█████████████▋                                      | 25/95 [00:55<02:49,  2.43s/it]"
     ]
    },
    {
     "name": "stdout",
     "output_type": "stream",
     "text": [
      "341_a_ASAP_tumor_map 3\n"
     ]
    },
    {
     "name": "stderr",
     "output_type": "stream",
     "text": [
      " 27%|██████████████▏                                     | 26/95 [00:56<02:15,  1.97s/it]"
     ]
    },
    {
     "name": "stdout",
     "output_type": "stream",
     "text": [
      "341_b_ASAP_tumor_map 3\n"
     ]
    },
    {
     "name": "stderr",
     "output_type": "stream",
     "text": [
      " 28%|██████████████▊                                     | 27/95 [00:57<01:49,  1.61s/it]"
     ]
    },
    {
     "name": "stdout",
     "output_type": "stream",
     "text": [
      "342_a_ASAP_tumor_map 8\n"
     ]
    },
    {
     "name": "stderr",
     "output_type": "stream",
     "text": [
      " 29%|███████████████▎                                    | 28/95 [00:58<01:33,  1.39s/it]"
     ]
    },
    {
     "name": "stdout",
     "output_type": "stream",
     "text": [
      "342_b_ASAP_tumor_map 8\n"
     ]
    },
    {
     "name": "stderr",
     "output_type": "stream",
     "text": [
      " 31%|███████████████▊                                    | 29/95 [01:00<01:47,  1.63s/it]"
     ]
    },
    {
     "name": "stdout",
     "output_type": "stream",
     "text": [
      "343_a_ASAP_tumor_map 3\n"
     ]
    },
    {
     "name": "stderr",
     "output_type": "stream",
     "text": [
      " 32%|████████████████▍                                   | 30/95 [01:02<02:07,  1.97s/it]"
     ]
    },
    {
     "name": "stdout",
     "output_type": "stream",
     "text": [
      "343_b_ASAP_tumor_map 1\n"
     ]
    },
    {
     "name": "stderr",
     "output_type": "stream",
     "text": [
      " 33%|████████████████▉                                   | 31/95 [01:05<02:23,  2.24s/it]"
     ]
    },
    {
     "name": "stdout",
     "output_type": "stream",
     "text": [
      "343_c_ASAP_tumor_map 2\n"
     ]
    },
    {
     "name": "stderr",
     "output_type": "stream",
     "text": [
      " 34%|█████████████████▌                                  | 32/95 [01:08<02:36,  2.48s/it]"
     ]
    },
    {
     "name": "stdout",
     "output_type": "stream",
     "text": [
      "343_d_ASAP_tumor_map 1\n"
     ]
    },
    {
     "name": "stderr",
     "output_type": "stream",
     "text": [
      " 35%|██████████████████                                  | 33/95 [01:10<02:12,  2.14s/it]"
     ]
    },
    {
     "name": "stdout",
     "output_type": "stream",
     "text": [
      "344_a_ASAP_tumor_map 4\n"
     ]
    },
    {
     "name": "stderr",
     "output_type": "stream",
     "text": [
      " 36%|██████████████████▌                                 | 34/95 [01:11<01:54,  1.88s/it]"
     ]
    },
    {
     "name": "stdout",
     "output_type": "stream",
     "text": [
      "344_b_ASAP_tumor_map 4\n"
     ]
    },
    {
     "name": "stderr",
     "output_type": "stream",
     "text": [
      " 37%|███████████████████▏                                | 35/95 [01:13<01:51,  1.86s/it]"
     ]
    },
    {
     "name": "stdout",
     "output_type": "stream",
     "text": [
      "345_a_ASAP_tumor_map 3\n"
     ]
    },
    {
     "name": "stderr",
     "output_type": "stream",
     "text": [
      " 38%|███████████████████▋                                | 36/95 [01:15<01:49,  1.85s/it]"
     ]
    },
    {
     "name": "stdout",
     "output_type": "stream",
     "text": [
      "345_b_ASAP_tumor_map 3\n"
     ]
    },
    {
     "name": "stderr",
     "output_type": "stream",
     "text": [
      " 39%|████████████████████▎                               | 37/95 [01:16<01:39,  1.72s/it]"
     ]
    },
    {
     "name": "stdout",
     "output_type": "stream",
     "text": [
      "346_a_ASAP_tumor_map 6\n"
     ]
    },
    {
     "name": "stderr",
     "output_type": "stream",
     "text": [
      " 40%|████████████████████▊                               | 38/95 [01:18<01:34,  1.66s/it]"
     ]
    },
    {
     "name": "stdout",
     "output_type": "stream",
     "text": [
      "346_b_ASAP_tumor_map 11\n"
     ]
    },
    {
     "name": "stderr",
     "output_type": "stream",
     "text": [
      " 41%|█████████████████████▎                              | 39/95 [01:20<01:38,  1.75s/it]"
     ]
    },
    {
     "name": "stdout",
     "output_type": "stream",
     "text": [
      "350_A1a_ASAP_tumor_map 5\n"
     ]
    },
    {
     "name": "stderr",
     "output_type": "stream",
     "text": [
      " 42%|█████████████████████▉                              | 40/95 [01:22<01:46,  1.94s/it]"
     ]
    },
    {
     "name": "stdout",
     "output_type": "stream",
     "text": [
      "350_A1b_ASAP_tumor_map 3\n"
     ]
    },
    {
     "name": "stderr",
     "output_type": "stream",
     "text": [
      " 43%|██████████████████████▍                             | 41/95 [01:24<01:52,  2.07s/it]"
     ]
    },
    {
     "name": "stdout",
     "output_type": "stream",
     "text": [
      "350_A1c_ASAP_tumor_map 3\n"
     ]
    },
    {
     "name": "stderr",
     "output_type": "stream",
     "text": [
      " 44%|██████████████████████▉                             | 42/95 [01:26<01:51,  2.10s/it]"
     ]
    },
    {
     "name": "stdout",
     "output_type": "stream",
     "text": [
      "350_A1d_ASAP_tumor_map 3\n"
     ]
    },
    {
     "name": "stderr",
     "output_type": "stream",
     "text": [
      " 45%|███████████████████████▌                            | 43/95 [01:28<01:44,  2.01s/it]"
     ]
    },
    {
     "name": "stdout",
     "output_type": "stream",
     "text": [
      "350_A1e_ASAP_tumor_map 3\n"
     ]
    },
    {
     "name": "stderr",
     "output_type": "stream",
     "text": [
      " 46%|████████████████████████                            | 44/95 [01:30<01:32,  1.81s/it]"
     ]
    },
    {
     "name": "stdout",
     "output_type": "stream",
     "text": [
      "351_A2b_ASAP_tumor_map 6\n"
     ]
    },
    {
     "name": "stderr",
     "output_type": "stream",
     "text": [
      " 47%|████████████████████████▋                           | 45/95 [01:32<01:43,  2.07s/it]"
     ]
    },
    {
     "name": "stdout",
     "output_type": "stream",
     "text": [
      "352_A1d_ASAP_tumor_map 6\n"
     ]
    },
    {
     "name": "stderr",
     "output_type": "stream",
     "text": [
      " 48%|█████████████████████████▏                          | 46/95 [01:35<01:47,  2.19s/it]"
     ]
    },
    {
     "name": "stdout",
     "output_type": "stream",
     "text": [
      "352_A1e_ASAP_tumor_map 6\n"
     ]
    },
    {
     "name": "stderr",
     "output_type": "stream",
     "text": [
      " 49%|█████████████████████████▋                          | 47/95 [01:37<01:43,  2.15s/it]"
     ]
    },
    {
     "name": "stdout",
     "output_type": "stream",
     "text": [
      "352_A1g_ASAP_tumor_map 6\n"
     ]
    },
    {
     "name": "stderr",
     "output_type": "stream",
     "text": [
      " 51%|██████████████████████████▎                         | 48/95 [01:39<01:36,  2.06s/it]"
     ]
    },
    {
     "name": "stdout",
     "output_type": "stream",
     "text": [
      "352_A1h_ASAP_tumor_map 6\n"
     ]
    },
    {
     "name": "stderr",
     "output_type": "stream",
     "text": [
      " 52%|██████████████████████████▊                         | 49/95 [01:40<01:31,  1.98s/it]"
     ]
    },
    {
     "name": "stdout",
     "output_type": "stream",
     "text": [
      "352_A1i_ASAP_tumor_map 6\n"
     ]
    },
    {
     "name": "stderr",
     "output_type": "stream",
     "text": [
      " 53%|███████████████████████████▎                        | 50/95 [01:43<01:32,  2.06s/it]"
     ]
    },
    {
     "name": "stdout",
     "output_type": "stream",
     "text": [
      "353_A2b_ASAP_tumor_map 4\n"
     ]
    },
    {
     "name": "stderr",
     "output_type": "stream",
     "text": [
      " 54%|███████████████████████████▉                        | 51/95 [01:44<01:25,  1.95s/it]"
     ]
    },
    {
     "name": "stdout",
     "output_type": "stream",
     "text": [
      "354_A1b_ASAP_tumor_map 1\n"
     ]
    },
    {
     "name": "stderr",
     "output_type": "stream",
     "text": [
      " 55%|████████████████████████████▍                       | 52/95 [01:46<01:24,  1.96s/it]"
     ]
    },
    {
     "name": "stdout",
     "output_type": "stream",
     "text": [
      "354_A1c_ASAP_tumor_map 1\n"
     ]
    },
    {
     "name": "stderr",
     "output_type": "stream",
     "text": [
      " 56%|█████████████████████████████                       | 53/95 [01:49<01:26,  2.05s/it]"
     ]
    },
    {
     "name": "stdout",
     "output_type": "stream",
     "text": [
      "354_A1d_ASAP_tumor_map 1\n"
     ]
    },
    {
     "name": "stderr",
     "output_type": "stream",
     "text": [
      " 57%|█████████████████████████████▌                      | 54/95 [01:50<01:19,  1.94s/it]"
     ]
    },
    {
     "name": "stdout",
     "output_type": "stream",
     "text": [
      "354_A3a_ASAP_tumor_map 4\n"
     ]
    },
    {
     "name": "stderr",
     "output_type": "stream",
     "text": [
      " 58%|██████████████████████████████                      | 55/95 [01:53<01:26,  2.17s/it]"
     ]
    },
    {
     "name": "stdout",
     "output_type": "stream",
     "text": [
      "354_A3b_ASAP_tumor_map 2\n"
     ]
    },
    {
     "name": "stderr",
     "output_type": "stream",
     "text": [
      " 59%|██████████████████████████████▋                     | 56/95 [01:56<01:36,  2.47s/it]"
     ]
    },
    {
     "name": "stdout",
     "output_type": "stream",
     "text": [
      "354_A3c_ASAP_tumor_map 2\n"
     ]
    },
    {
     "name": "stderr",
     "output_type": "stream",
     "text": [
      " 60%|███████████████████████████████▏                    | 57/95 [01:58<01:27,  2.29s/it]"
     ]
    },
    {
     "name": "stdout",
     "output_type": "stream",
     "text": [
      "354_D1b_ASAP_tumor_map 2\n"
     ]
    },
    {
     "name": "stderr",
     "output_type": "stream",
     "text": [
      " 61%|███████████████████████████████▋                    | 58/95 [01:59<01:11,  1.93s/it]"
     ]
    },
    {
     "name": "stdout",
     "output_type": "stream",
     "text": [
      "355_A1d_ASAP_tumor_map 3\n"
     ]
    },
    {
     "name": "stderr",
     "output_type": "stream",
     "text": [
      " 62%|████████████████████████████████▎                   | 59/95 [02:00<01:02,  1.74s/it]"
     ]
    },
    {
     "name": "stdout",
     "output_type": "stream",
     "text": [
      "356_A1b_ASAP_tumor_map 3\n"
     ]
    },
    {
     "name": "stderr",
     "output_type": "stream",
     "text": [
      " 63%|████████████████████████████████▊                   | 60/95 [02:02<01:03,  1.81s/it]"
     ]
    },
    {
     "name": "stdout",
     "output_type": "stream",
     "text": [
      "358_A1a_ASAP_tumor_map 6\n"
     ]
    },
    {
     "name": "stderr",
     "output_type": "stream",
     "text": [
      " 64%|█████████████████████████████████▍                  | 61/95 [02:05<01:06,  1.95s/it]"
     ]
    },
    {
     "name": "stdout",
     "output_type": "stream",
     "text": [
      "358_A1b_ASAP_tumor_map 5\n"
     ]
    },
    {
     "name": "stderr",
     "output_type": "stream",
     "text": [
      " 65%|█████████████████████████████████▉                  | 62/95 [02:07<01:04,  1.96s/it]"
     ]
    },
    {
     "name": "stdout",
     "output_type": "stream",
     "text": [
      "361_a_ASAP_tumor_map 4\n"
     ]
    },
    {
     "name": "stderr",
     "output_type": "stream",
     "text": [
      " 66%|██████████████████████████████████▍                 | 63/95 [02:09<01:09,  2.16s/it]"
     ]
    },
    {
     "name": "stdout",
     "output_type": "stream",
     "text": [
      "361_b_ASAP_tumor_map 2\n"
     ]
    },
    {
     "name": "stderr",
     "output_type": "stream",
     "text": [
      " 67%|███████████████████████████████████                 | 64/95 [02:12<01:09,  2.24s/it]"
     ]
    },
    {
     "name": "stdout",
     "output_type": "stream",
     "text": [
      "362_A1a_ASAP_tumor_map 2\n"
     ]
    },
    {
     "name": "stderr",
     "output_type": "stream",
     "text": [
      " 68%|███████████████████████████████████▌                | 65/95 [02:14<01:11,  2.39s/it]"
     ]
    },
    {
     "name": "stdout",
     "output_type": "stream",
     "text": [
      "362_A1b_ASAP_tumor_map 2\n"
     ]
    },
    {
     "name": "stderr",
     "output_type": "stream",
     "text": [
      " 69%|████████████████████████████████████▏               | 66/95 [02:17<01:08,  2.38s/it]"
     ]
    },
    {
     "name": "stdout",
     "output_type": "stream",
     "text": [
      "362_A1c_ASAP_tumor_map 2\n"
     ]
    },
    {
     "name": "stderr",
     "output_type": "stream",
     "text": [
      " 71%|████████████████████████████████████▋               | 67/95 [02:19<01:08,  2.44s/it]"
     ]
    },
    {
     "name": "stdout",
     "output_type": "stream",
     "text": [
      "363_A1b_ASAP_tumor_map 2\n"
     ]
    },
    {
     "name": "stderr",
     "output_type": "stream",
     "text": [
      " 72%|█████████████████████████████████████▏              | 68/95 [02:22<01:06,  2.48s/it]"
     ]
    },
    {
     "name": "stdout",
     "output_type": "stream",
     "text": [
      "363_A1c_ASAP_tumor_map 2\n"
     ]
    },
    {
     "name": "stderr",
     "output_type": "stream",
     "text": [
      " 73%|█████████████████████████████████████▊              | 69/95 [02:25<01:09,  2.68s/it]"
     ]
    },
    {
     "name": "stdout",
     "output_type": "stream",
     "text": [
      "363_A2b_ASAP_tumor_map 3\n"
     ]
    },
    {
     "name": "stderr",
     "output_type": "stream",
     "text": [
      " 74%|██████████████████████████████████████▎             | 70/95 [02:28<01:08,  2.73s/it]"
     ]
    },
    {
     "name": "stdout",
     "output_type": "stream",
     "text": [
      "363_A3b_ASAP_tumor_map 2\n"
     ]
    },
    {
     "name": "stderr",
     "output_type": "stream",
     "text": [
      " 75%|██████████████████████████████████████▊             | 71/95 [02:31<01:06,  2.75s/it]"
     ]
    },
    {
     "name": "stdout",
     "output_type": "stream",
     "text": [
      "364_A1b_ASAP_tumor_map 3\n"
     ]
    },
    {
     "name": "stderr",
     "output_type": "stream",
     "text": [
      " 76%|███████████████████████████████████████▍            | 72/95 [02:34<01:03,  2.77s/it]"
     ]
    },
    {
     "name": "stdout",
     "output_type": "stream",
     "text": [
      "364_A2b_ASAP_tumor_map 3\n"
     ]
    },
    {
     "name": "stderr",
     "output_type": "stream",
     "text": [
      " 77%|███████████████████████████████████████▉            | 73/95 [02:36<01:00,  2.75s/it]"
     ]
    },
    {
     "name": "stdout",
     "output_type": "stream",
     "text": [
      "364_A4b_ASAP_tumor_map 3\n"
     ]
    },
    {
     "name": "stderr",
     "output_type": "stream",
     "text": [
      " 78%|████████████████████████████████████████▌           | 74/95 [02:39<00:56,  2.67s/it]"
     ]
    },
    {
     "name": "stdout",
     "output_type": "stream",
     "text": [
      "365_A1b_ASAP_tumor_map 4\n"
     ]
    },
    {
     "name": "stderr",
     "output_type": "stream",
     "text": [
      " 79%|█████████████████████████████████████████           | 75/95 [02:41<00:51,  2.55s/it]"
     ]
    },
    {
     "name": "stdout",
     "output_type": "stream",
     "text": [
      "365_A2b_ASAP_tumor_map 3\n"
     ]
    },
    {
     "name": "stderr",
     "output_type": "stream",
     "text": [
      " 80%|█████████████████████████████████████████▌          | 76/95 [02:43<00:44,  2.32s/it]"
     ]
    },
    {
     "name": "stdout",
     "output_type": "stream",
     "text": [
      "366_A1a_ASAP_tumor_map 2\n"
     ]
    },
    {
     "name": "stderr",
     "output_type": "stream",
     "text": [
      " 81%|██████████████████████████████████████████▏         | 77/95 [02:45<00:40,  2.25s/it]"
     ]
    },
    {
     "name": "stdout",
     "output_type": "stream",
     "text": [
      "366_A1b_ASAP_tumor_map 2\n"
     ]
    },
    {
     "name": "stderr",
     "output_type": "stream",
     "text": [
      " 82%|██████████████████████████████████████████▋         | 78/95 [02:47<00:37,  2.21s/it]"
     ]
    },
    {
     "name": "stdout",
     "output_type": "stream",
     "text": [
      "366_A1c_ASAP_tumor_map 2\n"
     ]
    },
    {
     "name": "stderr",
     "output_type": "stream",
     "text": [
      " 83%|███████████████████████████████████████████▏        | 79/95 [02:48<00:31,  1.97s/it]"
     ]
    },
    {
     "name": "stdout",
     "output_type": "stream",
     "text": [
      "367_A2b_ASAP_tumor_map 5\n"
     ]
    },
    {
     "name": "stderr",
     "output_type": "stream",
     "text": [
      " 84%|███████████████████████████████████████████▊        | 80/95 [02:52<00:36,  2.46s/it]"
     ]
    },
    {
     "name": "stdout",
     "output_type": "stream",
     "text": [
      "368_A1b_ASAP_tumor_map 2\n"
     ]
    },
    {
     "name": "stderr",
     "output_type": "stream",
     "text": [
      " 85%|████████████████████████████████████████████▎       | 81/95 [02:56<00:40,  2.89s/it]"
     ]
    },
    {
     "name": "stdout",
     "output_type": "stream",
     "text": [
      "368_A1c_ASAP_tumor_map 2\n"
     ]
    },
    {
     "name": "stderr",
     "output_type": "stream",
     "text": [
      " 86%|████████████████████████████████████████████▉       | 82/95 [03:00<00:42,  3.27s/it]"
     ]
    },
    {
     "name": "stdout",
     "output_type": "stream",
     "text": [
      "368_A1d_ASAP_tumor_map 2\n"
     ]
    },
    {
     "name": "stderr",
     "output_type": "stream",
     "text": [
      " 87%|█████████████████████████████████████████████▍      | 83/95 [03:02<00:33,  2.82s/it]"
     ]
    },
    {
     "name": "stdout",
     "output_type": "stream",
     "text": [
      "369_A1b_ASAP_tumor_map 3\n"
     ]
    },
    {
     "name": "stderr",
     "output_type": "stream",
     "text": [
      " 88%|█████████████████████████████████████████████▉      | 84/95 [03:03<00:26,  2.45s/it]"
     ]
    },
    {
     "name": "stdout",
     "output_type": "stream",
     "text": [
      "369_A1c_ASAP_tumor_map 4\n"
     ]
    },
    {
     "name": "stderr",
     "output_type": "stream",
     "text": [
      " 89%|██████████████████████████████████████████████▌     | 85/95 [03:05<00:22,  2.25s/it]"
     ]
    },
    {
     "name": "stdout",
     "output_type": "stream",
     "text": [
      "369_A2b_ASAP_tumor_map 6\n"
     ]
    },
    {
     "name": "stderr",
     "output_type": "stream",
     "text": [
      " 91%|███████████████████████████████████████████████     | 86/95 [03:07<00:17,  1.98s/it]"
     ]
    },
    {
     "name": "stdout",
     "output_type": "stream",
     "text": [
      "370_A1b_ASAP_tumor_map 3\n"
     ]
    },
    {
     "name": "stderr",
     "output_type": "stream",
     "text": [
      " 92%|███████████████████████████████████████████████▌    | 87/95 [03:08<00:13,  1.73s/it]"
     ]
    },
    {
     "name": "stdout",
     "output_type": "stream",
     "text": [
      "370_A2a_ASAP_tumor_map 3\n"
     ]
    },
    {
     "name": "stderr",
     "output_type": "stream",
     "text": [
      " 93%|████████████████████████████████████████████████▏   | 88/95 [03:09<00:11,  1.58s/it]"
     ]
    },
    {
     "name": "stdout",
     "output_type": "stream",
     "text": [
      "370_A2b_ASAP_tumor_map 3\n"
     ]
    },
    {
     "name": "stderr",
     "output_type": "stream",
     "text": [
      " 94%|████████████████████████████████████████████████▋   | 89/95 [03:11<00:10,  1.71s/it]"
     ]
    },
    {
     "name": "stdout",
     "output_type": "stream",
     "text": [
      "37_A2d_ASAP_tumor_map 2\n"
     ]
    },
    {
     "name": "stderr",
     "output_type": "stream",
     "text": [
      " 95%|█████████████████████████████████████████████████▎  | 90/95 [03:12<00:07,  1.59s/it]"
     ]
    },
    {
     "name": "stdout",
     "output_type": "stream",
     "text": [
      "61_A1a_ASAP_tumor_map 5\n"
     ]
    },
    {
     "name": "stderr",
     "output_type": "stream",
     "text": [
      " 96%|█████████████████████████████████████████████████▊  | 91/95 [03:14<00:05,  1.48s/it]"
     ]
    },
    {
     "name": "stdout",
     "output_type": "stream",
     "text": [
      "61_B1a_ASAP_tumor_map 6\n"
     ]
    },
    {
     "name": "stderr",
     "output_type": "stream",
     "text": [
      " 97%|██████████████████████████████████████████████████▎ | 92/95 [03:15<00:04,  1.44s/it]"
     ]
    },
    {
     "name": "stdout",
     "output_type": "stream",
     "text": [
      "70_A2b_ASAP_tumor_map 6\n"
     ]
    },
    {
     "name": "stderr",
     "output_type": "stream",
     "text": [
      " 98%|██████████████████████████████████████████████████▉ | 93/95 [03:17<00:03,  1.70s/it]"
     ]
    },
    {
     "name": "stdout",
     "output_type": "stream",
     "text": [
      "7_A1c_ASAP_tumor_map 3\n"
     ]
    },
    {
     "name": "stderr",
     "output_type": "stream",
     "text": [
      " 99%|███████████████████████████████████████████████████▍| 94/95 [03:19<00:01,  1.82s/it]"
     ]
    },
    {
     "name": "stdout",
     "output_type": "stream",
     "text": [
      "7_A1d_ASAP_tumor_map 3\n"
     ]
    },
    {
     "name": "stderr",
     "output_type": "stream",
     "text": [
      "100%|████████████████████████████████████████████████████| 95/95 [03:21<00:00,  2.12s/it]"
     ]
    },
    {
     "name": "stdout",
     "output_type": "stream",
     "text": [
      "7_A1e_ASAP_tumor_map 3\n"
     ]
    },
    {
     "name": "stderr",
     "output_type": "stream",
     "text": [
      "\n"
     ]
    }
   ],
   "source": [
    "import math\n",
    "from sklearn.model_selection import train_test_split\n",
    "from itertools import chain\n",
    "graph_datasets={}\n",
    "for ID in tqdm.tqdm(IDs):\n",
    "    all_dataset = get_graph_dataset(embedding_dir=\"/dartfs/rc/nosnapshots/V/VaickusL-nb/EDIT_Students/users/Sophie_Chen/cnn_embeddings/\", \n",
    "                                    basename=ID+ \".pkl\", \n",
    "                                    target_col='scc', \n",
    "                                    k=8, \n",
    "                                    radius=256, \n",
    "                                    dataset_save_loc=f\"/dartfs/rc/nosnapshots/V/VaickusL-nb/EDIT_Students/users/Sophie_Chen/graph_dataset/\")                        \n",
    "    print(ID, len(all_dataset))\n",
    "    if len(all_dataset) == 1:\n",
    "        graph_datasets[ID]= {'train' : all_dataset, 'val' : []}\n",
    "    else:\n",
    "        train_size=int(math.ceil(len(all_dataset)*0.9))\n",
    "        train_dataset, val_dataset = train_test_split(all_dataset,train_size=0.90,random_state=42)\n",
    "        graph_datasets[ID]= {'train' : train_dataset, 'val' : val_dataset}\n"
   ]
  },
  {
   "cell_type": "code",
   "execution_count": 15,
   "id": "400d5c7c",
   "metadata": {
    "scrolled": true
   },
   "outputs": [
    {
     "data": {
      "text/plain": [
       "{'109_A1c_ASAP_tumor_map': {'train': [Data(x=[20589, 2048], edge_index=[2, 102219], y=[20589, 2], pos=[20589, 2], train_mask=[20589], val_mask=[20589], test_mask=[20589])],\n",
       "  'val': [Data(x=[20706, 2048], edge_index=[2, 102704], y=[20706, 2], pos=[20706, 2], train_mask=[20706], val_mask=[20706], test_mask=[20706])]},\n",
       " '10_A1a_ASAP_tumor_map': {'train': [Data(x=[5563, 2048], edge_index=[2, 27309], y=[5563, 2], pos=[5563, 2], train_mask=[5563], val_mask=[5563], test_mask=[5563]),\n",
       "   Data(x=[5101, 2048], edge_index=[2, 24973], y=[5101, 2], pos=[5101, 2], train_mask=[5101], val_mask=[5101], test_mask=[5101])],\n",
       "  'val': [Data(x=[5804, 2048], edge_index=[2, 28532], y=[5804, 2], pos=[5804, 2], train_mask=[5804], val_mask=[5804], test_mask=[5804])]},\n",
       " '10_A1b_ASAP_tumor_map': {'train': [Data(x=[5719, 2048], edge_index=[2, 28113], y=[5719, 2], pos=[5719, 2], train_mask=[5719], val_mask=[5719], test_mask=[5719]),\n",
       "   Data(x=[5649, 2048], edge_index=[2, 27761], y=[5649, 2], pos=[5649, 2], train_mask=[5649], val_mask=[5649], test_mask=[5649])],\n",
       "  'val': [Data(x=[5642, 2048], edge_index=[2, 27702], y=[5642, 2], pos=[5642, 2], train_mask=[5642], val_mask=[5642], test_mask=[5642])]},\n",
       " '10_A2b_ASAP_tumor_map': {'train': [Data(x=[6098, 2048], edge_index=[2, 29956], y=[6098, 2], pos=[6098, 2], train_mask=[6098], val_mask=[6098], test_mask=[6098]),\n",
       "   Data(x=[6239, 2048], edge_index=[2, 30715], y=[6239, 2], pos=[6239, 2], train_mask=[6239], val_mask=[6239], test_mask=[6239])],\n",
       "  'val': [Data(x=[6085, 2048], edge_index=[2, 29929], y=[6085, 2], pos=[6085, 2], train_mask=[6085], val_mask=[6085], test_mask=[6085])]},\n",
       " '110_A2b_ASAP_tumor_map': {'train': [Data(x=[4220, 2048], edge_index=[2, 20574], y=[4220, 2], pos=[4220, 2], train_mask=[4220], val_mask=[4220], test_mask=[4220]),\n",
       "   Data(x=[4557, 2048], edge_index=[2, 22333], y=[4557, 2], pos=[4557, 2], train_mask=[4557], val_mask=[4557], test_mask=[4557]),\n",
       "   Data(x=[4607, 2048], edge_index=[2, 22561], y=[4607, 2], pos=[4607, 2], train_mask=[4607], val_mask=[4607], test_mask=[4607])],\n",
       "  'val': [Data(x=[4472, 2048], edge_index=[2, 21880], y=[4472, 2], pos=[4472, 2], train_mask=[4472], val_mask=[4472], test_mask=[4472])]},\n",
       " '112_a_ASAP_tumor_map': {'train': [Data(x=[817, 2048], edge_index=[2, 3897], y=[817, 2], pos=[817, 2], train_mask=[817], val_mask=[817], test_mask=[817]),\n",
       "   Data(x=[795, 2048], edge_index=[2, 3785], y=[795, 2], pos=[795, 2], train_mask=[795], val_mask=[795], test_mask=[795]),\n",
       "   Data(x=[703, 2048], edge_index=[2, 3369], y=[703, 2], pos=[703, 2], train_mask=[703], val_mask=[703], test_mask=[703]),\n",
       "   Data(x=[832, 2048], edge_index=[2, 3972], y=[832, 2], pos=[832, 2], train_mask=[832], val_mask=[832], test_mask=[832]),\n",
       "   Data(x=[668, 2048], edge_index=[2, 3170], y=[668, 2], pos=[668, 2], train_mask=[668], val_mask=[668], test_mask=[668]),\n",
       "   Data(x=[884, 2048], edge_index=[2, 4244], y=[884, 2], pos=[884, 2], train_mask=[884], val_mask=[884], test_mask=[884]),\n",
       "   Data(x=[583, 2048], edge_index=[2, 2769], y=[583, 2], pos=[583, 2], train_mask=[583], val_mask=[583], test_mask=[583])],\n",
       "  'val': [Data(x=[935, 2048], edge_index=[2, 4489], y=[935, 2], pos=[935, 2], train_mask=[935], val_mask=[935], test_mask=[935])]},\n",
       " '112_b_ASAP_tumor_map': {'train': [Data(x=[902, 2048], edge_index=[2, 4298], y=[902, 2], pos=[902, 2], train_mask=[902], val_mask=[902], test_mask=[902]),\n",
       "   Data(x=[815, 2048], edge_index=[2, 3889], y=[815, 2], pos=[815, 2], train_mask=[815], val_mask=[815], test_mask=[815]),\n",
       "   Data(x=[878, 2048], edge_index=[2, 4210], y=[878, 2], pos=[878, 2], train_mask=[878], val_mask=[878], test_mask=[878]),\n",
       "   Data(x=[844, 2048], edge_index=[2, 4004], y=[844, 2], pos=[844, 2], train_mask=[844], val_mask=[844], test_mask=[844]),\n",
       "   Data(x=[826, 2048], edge_index=[2, 3952], y=[826, 2], pos=[826, 2], train_mask=[826], val_mask=[826], test_mask=[826]),\n",
       "   Data(x=[871, 2048], edge_index=[2, 4135], y=[871, 2], pos=[871, 2], train_mask=[871], val_mask=[871], test_mask=[871]),\n",
       "   Data(x=[842, 2048], edge_index=[2, 4024], y=[842, 2], pos=[842, 2], train_mask=[842], val_mask=[842], test_mask=[842])],\n",
       "  'val': [Data(x=[850, 2048], edge_index=[2, 4038], y=[850, 2], pos=[850, 2], train_mask=[850], val_mask=[850], test_mask=[850])]},\n",
       " '123_A1a_ASAP_tumor_map': {'train': [Data(x=[2626, 2048], edge_index=[2, 12492], y=[2626, 2], pos=[2626, 2], train_mask=[2626], val_mask=[2626], test_mask=[2626]),\n",
       "   Data(x=[1742, 2048], edge_index=[2, 8152], y=[1742, 2], pos=[1742, 2], train_mask=[1742], val_mask=[1742], test_mask=[1742]),\n",
       "   Data(x=[2955, 2048], edge_index=[2, 14357], y=[2955, 2], pos=[2955, 2], train_mask=[2955], val_mask=[2955], test_mask=[2955]),\n",
       "   Data(x=[2561, 2048], edge_index=[2, 12297], y=[2561, 2], pos=[2561, 2], train_mask=[2561], val_mask=[2561], test_mask=[2561]),\n",
       "   Data(x=[2825, 2048], edge_index=[2, 13425], y=[2825, 2], pos=[2825, 2], train_mask=[2825], val_mask=[2825], test_mask=[2825])],\n",
       "  'val': [Data(x=[3280, 2048], edge_index=[2, 15970], y=[3280, 2], pos=[3280, 2], train_mask=[3280], val_mask=[3280], test_mask=[3280])]},\n",
       " '12_A1c_ASAP_tumor_map': {'train': [Data(x=[7126, 2048], edge_index=[2, 35066], y=[7126, 2], pos=[7126, 2], train_mask=[7126], val_mask=[7126], test_mask=[7126]),\n",
       "   Data(x=[6957, 2048], edge_index=[2, 34275], y=[6957, 2], pos=[6957, 2], train_mask=[6957], val_mask=[6957], test_mask=[6957])],\n",
       "  'val': [Data(x=[6814, 2048], edge_index=[2, 33326], y=[6814, 2], pos=[6814, 2], train_mask=[6814], val_mask=[6814], test_mask=[6814])]},\n",
       " '14_A1b_ASAP_tumor_map': {'train': [Data(x=[5176, 2048], edge_index=[2, 25114], y=[5176, 2], pos=[5176, 2], train_mask=[5176], val_mask=[5176], test_mask=[5176]),\n",
       "   Data(x=[4841, 2048], edge_index=[2, 23269], y=[4841, 2], pos=[4841, 2], train_mask=[4841], val_mask=[4841], test_mask=[4841])],\n",
       "  'val': [Data(x=[4577, 2048], edge_index=[2, 22143], y=[4577, 2], pos=[4577, 2], train_mask=[4577], val_mask=[4577], test_mask=[4577])]},\n",
       " '14_A2b_ASAP_tumor_map': {'train': [Data(x=[5075, 2048], edge_index=[2, 24045], y=[5075, 2], pos=[5075, 2], train_mask=[5075], val_mask=[5075], test_mask=[5075]),\n",
       "   Data(x=[4659, 2048], edge_index=[2, 22071], y=[4659, 2], pos=[4659, 2], train_mask=[4659], val_mask=[4659], test_mask=[4659])],\n",
       "  'val': [Data(x=[5046, 2048], edge_index=[2, 24084], y=[5046, 2], pos=[5046, 2], train_mask=[5046], val_mask=[5046], test_mask=[5046])]},\n",
       " '169_A2b_ASAP_tumor_map': {'train': [Data(x=[5137, 2048], edge_index=[2, 25303], y=[5137, 2], pos=[5137, 2], train_mask=[5137], val_mask=[5137], test_mask=[5137]),\n",
       "   Data(x=[5193, 2048], edge_index=[2, 25555], y=[5193, 2], pos=[5193, 2], train_mask=[5193], val_mask=[5193], test_mask=[5193])],\n",
       "  'val': [Data(x=[5220, 2048], edge_index=[2, 25698], y=[5220, 1], pos=[5220, 2], train_mask=[5220], val_mask=[5220], test_mask=[5220])]},\n",
       " '270_A1b_ASAP_tumor_map': {'train': [Data(x=[10733, 2048], edge_index=[2, 52753], y=[10733, 2], pos=[10733, 2], train_mask=[10733], val_mask=[10733], test_mask=[10733])],\n",
       "  'val': [Data(x=[10638, 2048], edge_index=[2, 52354], y=[10638, 2], pos=[10638, 2], train_mask=[10638], val_mask=[10638], test_mask=[10638])]},\n",
       " '270_A1d_ASAP_tumor_map': {'train': [Data(x=[10457, 2048], edge_index=[2, 51557], y=[10457, 2], pos=[10457, 2], train_mask=[10457], val_mask=[10457], test_mask=[10457])],\n",
       "  'val': [Data(x=[10268, 2048], edge_index=[2, 50640], y=[10268, 2], pos=[10268, 2], train_mask=[10268], val_mask=[10268], test_mask=[10268])]},\n",
       " '270_A1e_ASAP_tumor_map': {'train': [Data(x=[10168, 2048], edge_index=[2, 50196], y=[10168, 2], pos=[10168, 2], train_mask=[10168], val_mask=[10168], test_mask=[10168])],\n",
       "  'val': [Data(x=[10423, 2048], edge_index=[2, 51437], y=[10423, 2], pos=[10423, 2], train_mask=[10423], val_mask=[10423], test_mask=[10423])]},\n",
       " '270_A2b_ASAP_tumor_map': {'train': [Data(x=[10205, 2048], edge_index=[2, 50345], y=[10205, 2], pos=[10205, 2], train_mask=[10205], val_mask=[10205], test_mask=[10205])],\n",
       "  'val': [Data(x=[8924, 2048], edge_index=[2, 43966], y=[8924, 2], pos=[8924, 2], train_mask=[8924], val_mask=[8924], test_mask=[8924])]},\n",
       " '270_A2f_ASAP_tumor_map': {'train': [Data(x=[7420, 2048], edge_index=[2, 36228], y=[7420, 2], pos=[7420, 2], train_mask=[7420], val_mask=[7420], test_mask=[7420])],\n",
       "  'val': []},\n",
       " '281_A1d_ASAP_tumor_map': {'train': [Data(x=[6622, 2048], edge_index=[2, 32648], y=[6622, 2], pos=[6622, 2], train_mask=[6622], val_mask=[6622], test_mask=[6622])],\n",
       "  'val': [Data(x=[6675, 2048], edge_index=[2, 32849], y=[6675, 2], pos=[6675, 2], train_mask=[6675], val_mask=[6675], test_mask=[6675])]},\n",
       " '281_A1f_ASAP_tumor_map': {'train': [Data(x=[7200, 2048], edge_index=[2, 35514], y=[7200, 2], pos=[7200, 2], train_mask=[7200], val_mask=[7200], test_mask=[7200])],\n",
       "  'val': [Data(x=[7185, 2048], edge_index=[2, 35435], y=[7185, 2], pos=[7185, 2], train_mask=[7185], val_mask=[7185], test_mask=[7185])]},\n",
       " '281_A2eX_ASAP_tumor_map': {'train': [Data(x=[6892, 2048], edge_index=[2, 33970], y=[6892, 2], pos=[6892, 2], train_mask=[6892], val_mask=[6892], test_mask=[6892])],\n",
       "  'val': [Data(x=[6557, 2048], edge_index=[2, 32353], y=[6557, 2], pos=[6557, 2], train_mask=[6557], val_mask=[6557], test_mask=[6557])]},\n",
       " '311_A2c_ASAP_tumor_map': {'train': [Data(x=[6043, 2048], edge_index=[2, 29801], y=[6043, 2], pos=[6043, 2], train_mask=[6043], val_mask=[6043], test_mask=[6043])],\n",
       "  'val': [Data(x=[6294, 2048], edge_index=[2, 30852], y=[6294, 2], pos=[6294, 2], train_mask=[6294], val_mask=[6294], test_mask=[6294])]},\n",
       " '327_A1a_ASAP_tumor_map': {'train': [Data(x=[8925, 2048], edge_index=[2, 44005], y=[8925, 2], pos=[8925, 2], train_mask=[8925], val_mask=[8925], test_mask=[8925]),\n",
       "   Data(x=[7523, 2048], edge_index=[2, 36939], y=[7523, 2], pos=[7523, 2], train_mask=[7523], val_mask=[7523], test_mask=[7523])],\n",
       "  'val': [Data(x=[9594, 2048], edge_index=[2, 47078], y=[9594, 2], pos=[9594, 2], train_mask=[9594], val_mask=[9594], test_mask=[9594])]},\n",
       " '327_A1d_ASAP_tumor_map': {'train': [Data(x=[8040, 2048], edge_index=[2, 39486], y=[8040, 2], pos=[8040, 2], train_mask=[8040], val_mask=[8040], test_mask=[8040])],\n",
       "  'val': [Data(x=[8280, 2048], edge_index=[2, 40538], y=[8280, 2], pos=[8280, 2], train_mask=[8280], val_mask=[8280], test_mask=[8280])]},\n",
       " '327_B1c_ASAP_tumor_map': {'train': [Data(x=[18384, 2048], edge_index=[2, 90616], y=[18384, 2], pos=[18384, 2], train_mask=[18384], val_mask=[18384], test_mask=[18384])],\n",
       "  'val': [Data(x=[20123, 2048], edge_index=[2, 99557], y=[20123, 2], pos=[20123, 2], train_mask=[20123], val_mask=[20123], test_mask=[20123])]},\n",
       " '341_a_ASAP_tumor_map': {'train': [Data(x=[3285, 2048], edge_index=[2, 16061], y=[3285, 2], pos=[3285, 2], train_mask=[3285], val_mask=[3285], test_mask=[3285]),\n",
       "   Data(x=[3282, 2048], edge_index=[2, 16056], y=[3282, 2], pos=[3282, 2], train_mask=[3282], val_mask=[3282], test_mask=[3282])],\n",
       "  'val': [Data(x=[2812, 2048], edge_index=[2, 13740], y=[2812, 2], pos=[2812, 2], train_mask=[2812], val_mask=[2812], test_mask=[2812])]},\n",
       " '341_b_ASAP_tumor_map': {'train': [Data(x=[2217, 2048], edge_index=[2, 10801], y=[2217, 2], pos=[2217, 2], train_mask=[2217], val_mask=[2217], test_mask=[2217]),\n",
       "   Data(x=[2806, 2048], edge_index=[2, 13728], y=[2806, 2], pos=[2806, 2], train_mask=[2806], val_mask=[2806], test_mask=[2806])],\n",
       "  'val': [Data(x=[1747, 2048], edge_index=[2, 8461], y=[1747, 2], pos=[1747, 2], train_mask=[1747], val_mask=[1747], test_mask=[1747])]},\n",
       " '342_a_ASAP_tumor_map': {'train': [Data(x=[817, 2048], edge_index=[2, 3897], y=[817, 2], pos=[817, 2], train_mask=[817], val_mask=[817], test_mask=[817]),\n",
       "   Data(x=[795, 2048], edge_index=[2, 3785], y=[795, 2], pos=[795, 2], train_mask=[795], val_mask=[795], test_mask=[795]),\n",
       "   Data(x=[703, 2048], edge_index=[2, 3369], y=[703, 2], pos=[703, 2], train_mask=[703], val_mask=[703], test_mask=[703]),\n",
       "   Data(x=[832, 2048], edge_index=[2, 3972], y=[832, 2], pos=[832, 2], train_mask=[832], val_mask=[832], test_mask=[832]),\n",
       "   Data(x=[668, 2048], edge_index=[2, 3170], y=[668, 2], pos=[668, 2], train_mask=[668], val_mask=[668], test_mask=[668]),\n",
       "   Data(x=[884, 2048], edge_index=[2, 4244], y=[884, 2], pos=[884, 2], train_mask=[884], val_mask=[884], test_mask=[884]),\n",
       "   Data(x=[583, 2048], edge_index=[2, 2769], y=[583, 2], pos=[583, 2], train_mask=[583], val_mask=[583], test_mask=[583])],\n",
       "  'val': [Data(x=[935, 2048], edge_index=[2, 4489], y=[935, 2], pos=[935, 2], train_mask=[935], val_mask=[935], test_mask=[935])]},\n",
       " '342_b_ASAP_tumor_map': {'train': [Data(x=[902, 2048], edge_index=[2, 4298], y=[902, 2], pos=[902, 2], train_mask=[902], val_mask=[902], test_mask=[902]),\n",
       "   Data(x=[815, 2048], edge_index=[2, 3889], y=[815, 2], pos=[815, 2], train_mask=[815], val_mask=[815], test_mask=[815]),\n",
       "   Data(x=[878, 2048], edge_index=[2, 4210], y=[878, 2], pos=[878, 2], train_mask=[878], val_mask=[878], test_mask=[878]),\n",
       "   Data(x=[844, 2048], edge_index=[2, 4004], y=[844, 2], pos=[844, 2], train_mask=[844], val_mask=[844], test_mask=[844]),\n",
       "   Data(x=[826, 2048], edge_index=[2, 3952], y=[826, 2], pos=[826, 2], train_mask=[826], val_mask=[826], test_mask=[826]),\n",
       "   Data(x=[871, 2048], edge_index=[2, 4135], y=[871, 2], pos=[871, 2], train_mask=[871], val_mask=[871], test_mask=[871]),\n",
       "   Data(x=[842, 2048], edge_index=[2, 4024], y=[842, 2], pos=[842, 2], train_mask=[842], val_mask=[842], test_mask=[842])],\n",
       "  'val': [Data(x=[850, 2048], edge_index=[2, 4038], y=[850, 2], pos=[850, 2], train_mask=[850], val_mask=[850], test_mask=[850])]},\n",
       " '343_a_ASAP_tumor_map': {'train': [Data(x=[6056, 2048], edge_index=[2, 28736], y=[6056, 2], pos=[6056, 2], train_mask=[6056], val_mask=[6056], test_mask=[6056]),\n",
       "   Data(x=[217, 2048], edge_index=[2, 991], y=[217, 1], pos=[217, 2], train_mask=[217], val_mask=[217], test_mask=[217])],\n",
       "  'val': [Data(x=[10754, 2048], edge_index=[2, 51502], y=[10754, 2], pos=[10754, 2], train_mask=[10754], val_mask=[10754], test_mask=[10754])]},\n",
       " '343_b_ASAP_tumor_map': {'train': [Data(x=[22341, 2048], edge_index=[2, 109241], y=[22341, 2], pos=[22341, 2], train_mask=[22341], val_mask=[22341], test_mask=[22341])],\n",
       "  'val': []},\n",
       " '343_c_ASAP_tumor_map': {'train': [Data(x=[8943, 2048], edge_index=[2, 43861], y=[8943, 2], pos=[8943, 2], train_mask=[8943], val_mask=[8943], test_mask=[8943])],\n",
       "  'val': [Data(x=[14272, 2048], edge_index=[2, 69508], y=[14272, 2], pos=[14272, 2], train_mask=[14272], val_mask=[14272], test_mask=[14272])]},\n",
       " '343_d_ASAP_tumor_map': {'train': [Data(x=[23840, 2048], edge_index=[2, 116080], y=[23840, 2], pos=[23840, 2], train_mask=[23840], val_mask=[23840], test_mask=[23840])],\n",
       "  'val': []},\n",
       " '344_a_ASAP_tumor_map': {'train': [Data(x=[2319, 2048], edge_index=[2, 11133], y=[2319, 2], pos=[2319, 2], train_mask=[2319], val_mask=[2319], test_mask=[2319]),\n",
       "   Data(x=[2536, 2048], edge_index=[2, 12266], y=[2536, 2], pos=[2536, 2], train_mask=[2536], val_mask=[2536], test_mask=[2536]),\n",
       "   Data(x=[2706, 2048], edge_index=[2, 13020], y=[2706, 2], pos=[2706, 2], train_mask=[2706], val_mask=[2706], test_mask=[2706])],\n",
       "  'val': [Data(x=[2423, 2048], edge_index=[2, 11553], y=[2423, 2], pos=[2423, 2], train_mask=[2423], val_mask=[2423], test_mask=[2423])]},\n",
       " '344_b_ASAP_tumor_map': {'train': [Data(x=[2642, 2048], edge_index=[2, 12780], y=[2642, 2], pos=[2642, 2], train_mask=[2642], val_mask=[2642], test_mask=[2642]),\n",
       "   Data(x=[2598, 2048], edge_index=[2, 12504], y=[2598, 2], pos=[2598, 2], train_mask=[2598], val_mask=[2598], test_mask=[2598]),\n",
       "   Data(x=[2578, 2048], edge_index=[2, 12512], y=[2578, 2], pos=[2578, 2], train_mask=[2578], val_mask=[2578], test_mask=[2578])],\n",
       "  'val': [Data(x=[2523, 2048], edge_index=[2, 12237], y=[2523, 2], pos=[2523, 2], train_mask=[2523], val_mask=[2523], test_mask=[2523])]},\n",
       " '345_a_ASAP_tumor_map': {'train': [Data(x=[5059, 2048], edge_index=[2, 24891], y=[5059, 2], pos=[5059, 2], train_mask=[5059], val_mask=[5059], test_mask=[5059]),\n",
       "   Data(x=[4642, 2048], edge_index=[2, 22826], y=[4642, 2], pos=[4642, 2], train_mask=[4642], val_mask=[4642], test_mask=[4642])],\n",
       "  'val': [Data(x=[4837, 2048], edge_index=[2, 23785], y=[4837, 2], pos=[4837, 2], train_mask=[4837], val_mask=[4837], test_mask=[4837])]},\n",
       " '345_b_ASAP_tumor_map': {'train': [Data(x=[5019, 2048], edge_index=[2, 24651], y=[5019, 2], pos=[5019, 2], train_mask=[5019], val_mask=[5019], test_mask=[5019]),\n",
       "   Data(x=[5072, 2048], edge_index=[2, 24926], y=[5072, 2], pos=[5072, 2], train_mask=[5072], val_mask=[5072], test_mask=[5072])],\n",
       "  'val': [Data(x=[4723, 2048], edge_index=[2, 23209], y=[4723, 2], pos=[4723, 2], train_mask=[4723], val_mask=[4723], test_mask=[4723])]},\n",
       " '346_a_ASAP_tumor_map': {'train': [Data(x=[2608, 2048], edge_index=[2, 12462], y=[2608, 2], pos=[2608, 2], train_mask=[2608], val_mask=[2608], test_mask=[2608]),\n",
       "   Data(x=[532, 2048], edge_index=[2, 2502], y=[532, 2], pos=[532, 2], train_mask=[532], val_mask=[532], test_mask=[532]),\n",
       "   Data(x=[2529, 2048], edge_index=[2, 12003], y=[2529, 2], pos=[2529, 2], train_mask=[2529], val_mask=[2529], test_mask=[2529]),\n",
       "   Data(x=[2207, 2048], edge_index=[2, 10509], y=[2207, 2], pos=[2207, 2], train_mask=[2207], val_mask=[2207], test_mask=[2207]),\n",
       "   Data(x=[2774, 2048], edge_index=[2, 13196], y=[2774, 2], pos=[2774, 2], train_mask=[2774], val_mask=[2774], test_mask=[2774])],\n",
       "  'val': [Data(x=[296, 2048], edge_index=[2, 1326], y=[296, 2], pos=[296, 2], train_mask=[296], val_mask=[296], test_mask=[296])]},\n",
       " '346_b_ASAP_tumor_map': {'train': [Data(x=[2110, 2048], edge_index=[2, 10048], y=[2110, 2], pos=[2110, 2], train_mask=[2110], val_mask=[2110], test_mask=[2110]),\n",
       "   Data(x=[256, 2048], edge_index=[2, 1190], y=[256, 2], pos=[256, 2], train_mask=[256], val_mask=[256], test_mask=[256]),\n",
       "   Data(x=[647, 2048], edge_index=[2, 3041], y=[647, 2], pos=[647, 2], train_mask=[647], val_mask=[647], test_mask=[647]),\n",
       "   Data(x=[1926, 2048], edge_index=[2, 9266], y=[1926, 2], pos=[1926, 2], train_mask=[1926], val_mask=[1926], test_mask=[1926]),\n",
       "   Data(x=[256, 2048], edge_index=[2, 1138], y=[256, 2], pos=[256, 2], train_mask=[256], val_mask=[256], test_mask=[256]),\n",
       "   Data(x=[1968, 2048], edge_index=[2, 9308], y=[1968, 2], pos=[1968, 2], train_mask=[1968], val_mask=[1968], test_mask=[1968]),\n",
       "   Data(x=[2800, 2048], edge_index=[2, 13298], y=[2800, 2], pos=[2800, 2], train_mask=[2800], val_mask=[2800], test_mask=[2800]),\n",
       "   Data(x=[369, 2048], edge_index=[2, 1685], y=[369, 2], pos=[369, 2], train_mask=[369], val_mask=[369], test_mask=[369]),\n",
       "   Data(x=[358, 2048], edge_index=[2, 1636], y=[358, 2], pos=[358, 2], train_mask=[358], val_mask=[358], test_mask=[358])],\n",
       "  'val': [Data(x=[223, 2048], edge_index=[2, 1035], y=[223, 2], pos=[223, 2], train_mask=[223], val_mask=[223], test_mask=[223]),\n",
       "   Data(x=[375, 2048], edge_index=[2, 1731], y=[375, 2], pos=[375, 2], train_mask=[375], val_mask=[375], test_mask=[375])]},\n",
       " '350_A1a_ASAP_tumor_map': {'train': [Data(x=[2152, 2048], edge_index=[2, 10320], y=[2152, 2], pos=[2152, 2], train_mask=[2152], val_mask=[2152], test_mask=[2152]),\n",
       "   Data(x=[2573, 2048], edge_index=[2, 12497], y=[2573, 2], pos=[2573, 2], train_mask=[2573], val_mask=[2573], test_mask=[2573]),\n",
       "   Data(x=[5921, 2048], edge_index=[2, 28809], y=[5921, 2], pos=[5921, 2], train_mask=[5921], val_mask=[5921], test_mask=[5921]),\n",
       "   Data(x=[2435, 2048], edge_index=[2, 11667], y=[2435, 2], pos=[2435, 2], train_mask=[2435], val_mask=[2435], test_mask=[2435])],\n",
       "  'val': [Data(x=[2947, 2048], edge_index=[2, 14323], y=[2947, 2], pos=[2947, 2], train_mask=[2947], val_mask=[2947], test_mask=[2947])]},\n",
       " '350_A1b_ASAP_tumor_map': {'train': [Data(x=[6168, 2048], edge_index=[2, 30254], y=[6168, 2], pos=[6168, 2], train_mask=[6168], val_mask=[6168], test_mask=[6168]),\n",
       "   Data(x=[6601, 2048], edge_index=[2, 32313], y=[6601, 2], pos=[6601, 2], train_mask=[6601], val_mask=[6601], test_mask=[6601])],\n",
       "  'val': [Data(x=[6628, 2048], edge_index=[2, 32542], y=[6628, 2], pos=[6628, 2], train_mask=[6628], val_mask=[6628], test_mask=[6628])]},\n",
       " '350_A1c_ASAP_tumor_map': {'train': [Data(x=[6353, 2048], edge_index=[2, 31203], y=[6353, 2], pos=[6353, 2], train_mask=[6353], val_mask=[6353], test_mask=[6353]),\n",
       "   Data(x=[6222, 2048], edge_index=[2, 30556], y=[6222, 2], pos=[6222, 2], train_mask=[6222], val_mask=[6222], test_mask=[6222])],\n",
       "  'val': [Data(x=[5921, 2048], edge_index=[2, 29101], y=[5921, 2], pos=[5921, 2], train_mask=[5921], val_mask=[5921], test_mask=[5921])]},\n",
       " '350_A1d_ASAP_tumor_map': {'train': [Data(x=[5494, 2048], edge_index=[2, 26986], y=[5494, 2], pos=[5494, 2], train_mask=[5494], val_mask=[5494], test_mask=[5494]),\n",
       "   Data(x=[5831, 2048], edge_index=[2, 28669], y=[5831, 2], pos=[5831, 2], train_mask=[5831], val_mask=[5831], test_mask=[5831])],\n",
       "  'val': [Data(x=[5516, 2048], edge_index=[2, 27058], y=[5516, 2], pos=[5516, 2], train_mask=[5516], val_mask=[5516], test_mask=[5516])]},\n",
       " '350_A1e_ASAP_tumor_map': {'train': [Data(x=[4710, 2048], edge_index=[2, 23116], y=[4710, 2], pos=[4710, 2], train_mask=[4710], val_mask=[4710], test_mask=[4710]),\n",
       "   Data(x=[5083, 2048], edge_index=[2, 24985], y=[5083, 2], pos=[5083, 2], train_mask=[5083], val_mask=[5083], test_mask=[5083])],\n",
       "  'val': [Data(x=[4639, 2048], edge_index=[2, 22765], y=[4639, 2], pos=[4639, 2], train_mask=[4639], val_mask=[4639], test_mask=[4639])]},\n",
       " '351_A2b_ASAP_tumor_map': {'train': [Data(x=[1686, 2048], edge_index=[2, 8148], y=[1686, 2], pos=[1686, 2], train_mask=[1686], val_mask=[1686], test_mask=[1686]),\n",
       "   Data(x=[1663, 2048], edge_index=[2, 8025], y=[1663, 2], pos=[1663, 2], train_mask=[1663], val_mask=[1663], test_mask=[1663]),\n",
       "   Data(x=[1787, 2048], edge_index=[2, 8725], y=[1787, 2], pos=[1787, 2], train_mask=[1787], val_mask=[1787], test_mask=[1787]),\n",
       "   Data(x=[1805, 2048], edge_index=[2, 8797], y=[1805, 2], pos=[1805, 2], train_mask=[1805], val_mask=[1805], test_mask=[1805]),\n",
       "   Data(x=[1665, 2048], edge_index=[2, 8099], y=[1665, 2], pos=[1665, 2], train_mask=[1665], val_mask=[1665], test_mask=[1665])],\n",
       "  'val': [Data(x=[1672, 2048], edge_index=[2, 8158], y=[1672, 2], pos=[1672, 2], train_mask=[1672], val_mask=[1672], test_mask=[1672])]},\n",
       " '352_A1d_ASAP_tumor_map': {'train': [Data(x=[3270, 2048], edge_index=[2, 16022], y=[3270, 2], pos=[3270, 2], train_mask=[3270], val_mask=[3270], test_mask=[3270]),\n",
       "   Data(x=[3424, 2048], edge_index=[2, 16834], y=[3424, 2], pos=[3424, 2], train_mask=[3424], val_mask=[3424], test_mask=[3424]),\n",
       "   Data(x=[3966, 2048], edge_index=[2, 19470], y=[3966, 2], pos=[3966, 2], train_mask=[3966], val_mask=[3966], test_mask=[3966]),\n",
       "   Data(x=[3803, 2048], edge_index=[2, 18603], y=[3803, 2], pos=[3803, 2], train_mask=[3803], val_mask=[3803], test_mask=[3803]),\n",
       "   Data(x=[3460, 2048], edge_index=[2, 16982], y=[3460, 2], pos=[3460, 2], train_mask=[3460], val_mask=[3460], test_mask=[3460])],\n",
       "  'val': [Data(x=[3325, 2048], edge_index=[2, 16313], y=[3325, 2], pos=[3325, 2], train_mask=[3325], val_mask=[3325], test_mask=[3325])]},\n",
       " '352_A1e_ASAP_tumor_map': {'train': [Data(x=[3076, 2048], edge_index=[2, 15040], y=[3076, 2], pos=[3076, 2], train_mask=[3076], val_mask=[3076], test_mask=[3076]),\n",
       "   Data(x=[3317, 2048], edge_index=[2, 16267], y=[3317, 2], pos=[3317, 2], train_mask=[3317], val_mask=[3317], test_mask=[3317]),\n",
       "   Data(x=[3746, 2048], edge_index=[2, 18414], y=[3746, 2], pos=[3746, 2], train_mask=[3746], val_mask=[3746], test_mask=[3746]),\n",
       "   Data(x=[3797, 2048], edge_index=[2, 18657], y=[3797, 2], pos=[3797, 2], train_mask=[3797], val_mask=[3797], test_mask=[3797]),\n",
       "   Data(x=[3216, 2048], edge_index=[2, 15736], y=[3216, 2], pos=[3216, 2], train_mask=[3216], val_mask=[3216], test_mask=[3216])],\n",
       "  'val': [Data(x=[3533, 2048], edge_index=[2, 17355], y=[3533, 2], pos=[3533, 2], train_mask=[3533], val_mask=[3533], test_mask=[3533])]},\n",
       " '352_A1g_ASAP_tumor_map': {'train': [Data(x=[2713, 2048], edge_index=[2, 13289], y=[2713, 2], pos=[2713, 2], train_mask=[2713], val_mask=[2713], test_mask=[2713]),\n",
       "   Data(x=[2708, 2048], edge_index=[2, 13252], y=[2708, 2], pos=[2708, 2], train_mask=[2708], val_mask=[2708], test_mask=[2708]),\n",
       "   Data(x=[2900, 2048], edge_index=[2, 14226], y=[2900, 2], pos=[2900, 2], train_mask=[2900], val_mask=[2900], test_mask=[2900]),\n",
       "   Data(x=[2921, 2048], edge_index=[2, 14269], y=[2921, 2], pos=[2921, 2], train_mask=[2921], val_mask=[2921], test_mask=[2921]),\n",
       "   Data(x=[2752, 2048], edge_index=[2, 13480], y=[2752, 2], pos=[2752, 2], train_mask=[2752], val_mask=[2752], test_mask=[2752])],\n",
       "  'val': [Data(x=[3023, 2048], edge_index=[2, 14817], y=[3023, 2], pos=[3023, 2], train_mask=[3023], val_mask=[3023], test_mask=[3023])]},\n",
       " '352_A1h_ASAP_tumor_map': {'train': [Data(x=[2578, 2048], edge_index=[2, 12626], y=[2578, 2], pos=[2578, 2], train_mask=[2578], val_mask=[2578], test_mask=[2578]),\n",
       "   Data(x=[2365, 2048], edge_index=[2, 11465], y=[2365, 2], pos=[2365, 2], train_mask=[2365], val_mask=[2365], test_mask=[2365]),\n",
       "   Data(x=[2314, 2048], edge_index=[2, 11216], y=[2314, 2], pos=[2314, 2], train_mask=[2314], val_mask=[2314], test_mask=[2314]),\n",
       "   Data(x=[2572, 2048], edge_index=[2, 12592], y=[2572, 2], pos=[2572, 2], train_mask=[2572], val_mask=[2572], test_mask=[2572]),\n",
       "   Data(x=[2198, 2048], edge_index=[2, 10612], y=[2198, 2], pos=[2198, 2], train_mask=[2198], val_mask=[2198], test_mask=[2198])],\n",
       "  'val': [Data(x=[2780, 2048], edge_index=[2, 13618], y=[2780, 2], pos=[2780, 2], train_mask=[2780], val_mask=[2780], test_mask=[2780])]},\n",
       " '352_A1i_ASAP_tumor_map': {'train': [Data(x=[2440, 2048], edge_index=[2, 11852], y=[2440, 2], pos=[2440, 2], train_mask=[2440], val_mask=[2440], test_mask=[2440]),\n",
       "   Data(x=[2460, 2048], edge_index=[2, 12036], y=[2460, 2], pos=[2460, 2], train_mask=[2460], val_mask=[2460], test_mask=[2460]),\n",
       "   Data(x=[2678, 2048], edge_index=[2, 13116], y=[2678, 2], pos=[2678, 2], train_mask=[2678], val_mask=[2678], test_mask=[2678]),\n",
       "   Data(x=[2647, 2048], edge_index=[2, 12957], y=[2647, 2], pos=[2647, 2], train_mask=[2647], val_mask=[2647], test_mask=[2647]),\n",
       "   Data(x=[2462, 2048], edge_index=[2, 12048], y=[2462, 2], pos=[2462, 2], train_mask=[2462], val_mask=[2462], test_mask=[2462])],\n",
       "  'val': [Data(x=[1890, 2048], edge_index=[2, 9174], y=[1890, 2], pos=[1890, 2], train_mask=[1890], val_mask=[1890], test_mask=[1890])]},\n",
       " '353_A2b_ASAP_tumor_map': {'train': [Data(x=[4220, 2048], edge_index=[2, 20574], y=[4220, 2], pos=[4220, 2], train_mask=[4220], val_mask=[4220], test_mask=[4220]),\n",
       "   Data(x=[4557, 2048], edge_index=[2, 22333], y=[4557, 2], pos=[4557, 2], train_mask=[4557], val_mask=[4557], test_mask=[4557]),\n",
       "   Data(x=[4607, 2048], edge_index=[2, 22561], y=[4607, 2], pos=[4607, 2], train_mask=[4607], val_mask=[4607], test_mask=[4607])],\n",
       "  'val': [Data(x=[4472, 2048], edge_index=[2, 21880], y=[4472, 2], pos=[4472, 2], train_mask=[4472], val_mask=[4472], test_mask=[4472])]},\n",
       " '354_A1b_ASAP_tumor_map': {'train': [Data(x=[13521, 2048], edge_index=[2, 65591], y=[13521, 2], pos=[13521, 2], train_mask=[13521], val_mask=[13521], test_mask=[13521])],\n",
       "  'val': []},\n",
       " '354_A1c_ASAP_tumor_map': {'train': [Data(x=[15681, 2048], edge_index=[2, 76283], y=[15681, 2], pos=[15681, 2], train_mask=[15681], val_mask=[15681], test_mask=[15681])],\n",
       "  'val': []},\n",
       " '354_A1d_ASAP_tumor_map': {'train': [Data(x=[18198, 2048], edge_index=[2, 89710], y=[18198, 2], pos=[18198, 2], train_mask=[18198], val_mask=[18198], test_mask=[18198])],\n",
       "  'val': []},\n",
       " '354_A3a_ASAP_tumor_map': {'train': [Data(x=[459, 2048], edge_index=[2, 2023], y=[459, 1], pos=[459, 2], train_mask=[459], val_mask=[459], test_mask=[459]),\n",
       "   Data(x=[8477, 2048], edge_index=[2, 40317], y=[8477, 2], pos=[8477, 2], train_mask=[8477], val_mask=[8477], test_mask=[8477]),\n",
       "   Data(x=[2248, 2048], edge_index=[2, 10640], y=[2248, 1], pos=[2248, 2], train_mask=[2248], val_mask=[2248], test_mask=[2248])],\n",
       "  'val': [Data(x=[2063, 2048], edge_index=[2, 9639], y=[2063, 2], pos=[2063, 2], train_mask=[2063], val_mask=[2063], test_mask=[2063])]},\n",
       " '354_A3b_ASAP_tumor_map': {'train': [Data(x=[11270, 2048], edge_index=[2, 54620], y=[11270, 2], pos=[11270, 2], train_mask=[11270], val_mask=[11270], test_mask=[11270])],\n",
       "  'val': [Data(x=[10642, 2048], edge_index=[2, 51608], y=[10642, 2], pos=[10642, 2], train_mask=[10642], val_mask=[10642], test_mask=[10642])]},\n",
       " '354_A3c_ASAP_tumor_map': {'train': [Data(x=[12102, 2048], edge_index=[2, 58352], y=[12102, 2], pos=[12102, 2], train_mask=[12102], val_mask=[12102], test_mask=[12102])],\n",
       "  'val': [Data(x=[13586, 2048], edge_index=[2, 66282], y=[13586, 2], pos=[13586, 2], train_mask=[13586], val_mask=[13586], test_mask=[13586])]},\n",
       " '354_D1b_ASAP_tumor_map': {'train': [Data(x=[7910, 2048], edge_index=[2, 38174], y=[7910, 2], pos=[7910, 2], train_mask=[7910], val_mask=[7910], test_mask=[7910])],\n",
       "  'val': [Data(x=[7125, 2048], edge_index=[2, 34687], y=[7125, 2], pos=[7125, 2], train_mask=[7125], val_mask=[7125], test_mask=[7125])]},\n",
       " '355_A1d_ASAP_tumor_map': {'train': [Data(x=[2793, 2048], edge_index=[2, 13597], y=[2793, 2], pos=[2793, 2], train_mask=[2793], val_mask=[2793], test_mask=[2793]),\n",
       "   Data(x=[2950, 2048], edge_index=[2, 14440], y=[2950, 2], pos=[2950, 2], train_mask=[2950], val_mask=[2950], test_mask=[2950])],\n",
       "  'val': [Data(x=[2684, 2048], edge_index=[2, 13052], y=[2684, 2], pos=[2684, 2], train_mask=[2684], val_mask=[2684], test_mask=[2684])]},\n",
       " '356_A1b_ASAP_tumor_map': {'train': [Data(x=[3738, 2048], edge_index=[2, 18284], y=[3738, 2], pos=[3738, 2], train_mask=[3738], val_mask=[3738], test_mask=[3738]),\n",
       "   Data(x=[3631, 2048], edge_index=[2, 17755], y=[3631, 2], pos=[3631, 2], train_mask=[3631], val_mask=[3631], test_mask=[3631])],\n",
       "  'val': [Data(x=[3395, 2048], edge_index=[2, 16605], y=[3395, 2], pos=[3395, 2], train_mask=[3395], val_mask=[3395], test_mask=[3395])]},\n",
       " '358_A1a_ASAP_tumor_map': {'train': [Data(x=[2626, 2048], edge_index=[2, 12492], y=[2626, 2], pos=[2626, 2], train_mask=[2626], val_mask=[2626], test_mask=[2626]),\n",
       "   Data(x=[1742, 2048], edge_index=[2, 8152], y=[1742, 2], pos=[1742, 2], train_mask=[1742], val_mask=[1742], test_mask=[1742]),\n",
       "   Data(x=[2955, 2048], edge_index=[2, 14357], y=[2955, 2], pos=[2955, 2], train_mask=[2955], val_mask=[2955], test_mask=[2955]),\n",
       "   Data(x=[2561, 2048], edge_index=[2, 12297], y=[2561, 2], pos=[2561, 2], train_mask=[2561], val_mask=[2561], test_mask=[2561]),\n",
       "   Data(x=[2825, 2048], edge_index=[2, 13425], y=[2825, 2], pos=[2825, 2], train_mask=[2825], val_mask=[2825], test_mask=[2825])],\n",
       "  'val': [Data(x=[3280, 2048], edge_index=[2, 15970], y=[3280, 2], pos=[3280, 2], train_mask=[3280], val_mask=[3280], test_mask=[3280])]},\n",
       " '358_A1b_ASAP_tumor_map': {'train': [Data(x=[3117, 2048], edge_index=[2, 15001], y=[3117, 2], pos=[3117, 2], train_mask=[3117], val_mask=[3117], test_mask=[3117]),\n",
       "   Data(x=[2663, 2048], edge_index=[2, 12951], y=[2663, 2], pos=[2663, 2], train_mask=[2663], val_mask=[2663], test_mask=[2663]),\n",
       "   Data(x=[5892, 2048], edge_index=[2, 28576], y=[5892, 2], pos=[5892, 2], train_mask=[5892], val_mask=[5892], test_mask=[5892]),\n",
       "   Data(x=[3544, 2048], edge_index=[2, 17260], y=[3544, 2], pos=[3544, 2], train_mask=[3544], val_mask=[3544], test_mask=[3544])],\n",
       "  'val': [Data(x=[3285, 2048], edge_index=[2, 15963], y=[3285, 2], pos=[3285, 2], train_mask=[3285], val_mask=[3285], test_mask=[3285])]},\n",
       " '361_a_ASAP_tumor_map': {'train': [Data(x=[5045, 2048], edge_index=[2, 24627], y=[5045, 2], pos=[5045, 2], train_mask=[5045], val_mask=[5045], test_mask=[5045]),\n",
       "   Data(x=[506, 2048], edge_index=[2, 2386], y=[506, 2], pos=[506, 2], train_mask=[506], val_mask=[506], test_mask=[506]),\n",
       "   Data(x=[8312, 2048], edge_index=[2, 40554], y=[8312, 2], pos=[8312, 2], train_mask=[8312], val_mask=[8312], test_mask=[8312])],\n",
       "  'val': [Data(x=[2890, 2048], edge_index=[2, 14014], y=[2890, 2], pos=[2890, 2], train_mask=[2890], val_mask=[2890], test_mask=[2890])]},\n",
       " '361_b_ASAP_tumor_map': {'train': [Data(x=[15269, 2048], edge_index=[2, 74929], y=[15269, 2], pos=[15269, 2], train_mask=[15269], val_mask=[15269], test_mask=[15269])],\n",
       "  'val': [Data(x=[6360, 2048], edge_index=[2, 31250], y=[6360, 2], pos=[6360, 2], train_mask=[6360], val_mask=[6360], test_mask=[6360])]},\n",
       " '362_A1a_ASAP_tumor_map': {'train': [Data(x=[10656, 2048], edge_index=[2, 52170], y=[10656, 2], pos=[10656, 2], train_mask=[10656], val_mask=[10656], test_mask=[10656])],\n",
       "  'val': [Data(x=[8954, 2048], edge_index=[2, 43558], y=[8954, 2], pos=[8954, 2], train_mask=[8954], val_mask=[8954], test_mask=[8954])]},\n",
       " '362_A1b_ASAP_tumor_map': {'train': [Data(x=[10277, 2048], edge_index=[2, 50425], y=[10277, 2], pos=[10277, 2], train_mask=[10277], val_mask=[10277], test_mask=[10277])],\n",
       "  'val': [Data(x=[10950, 2048], edge_index=[2, 53728], y=[10950, 2], pos=[10950, 2], train_mask=[10950], val_mask=[10950], test_mask=[10950])]},\n",
       " '362_A1c_ASAP_tumor_map': {'train': [Data(x=[8771, 2048], edge_index=[2, 42925], y=[8771, 2], pos=[8771, 2], train_mask=[8771], val_mask=[8771], test_mask=[8771])],\n",
       "  'val': [Data(x=[10025, 2048], edge_index=[2, 49095], y=[10025, 2], pos=[10025, 2], train_mask=[10025], val_mask=[10025], test_mask=[10025])]},\n",
       " '363_A1b_ASAP_tumor_map': {'train': [Data(x=[10713, 2048], edge_index=[2, 52717], y=[10713, 2], pos=[10713, 2], train_mask=[10713], val_mask=[10713], test_mask=[10713])],\n",
       "  'val': [Data(x=[10069, 2048], edge_index=[2, 49471], y=[10069, 2], pos=[10069, 2], train_mask=[10069], val_mask=[10069], test_mask=[10069])]},\n",
       " '363_A1c_ASAP_tumor_map': {'train': [Data(x=[10333, 2048], edge_index=[2, 50949], y=[10333, 2], pos=[10333, 2], train_mask=[10333], val_mask=[10333], test_mask=[10333])],\n",
       "  'val': [Data(x=[10265, 2048], edge_index=[2, 50613], y=[10265, 2], pos=[10265, 2], train_mask=[10265], val_mask=[10265], test_mask=[10265])]},\n",
       " '363_A2b_ASAP_tumor_map': {'train': [Data(x=[8385, 2048], edge_index=[2, 41225], y=[8385, 2], pos=[8385, 2], train_mask=[8385], val_mask=[8385], test_mask=[8385]),\n",
       "   Data(x=[8318, 2048], edge_index=[2, 40800], y=[8318, 2], pos=[8318, 2], train_mask=[8318], val_mask=[8318], test_mask=[8318])],\n",
       "  'val': [Data(x=[8570, 2048], edge_index=[2, 42180], y=[8570, 2], pos=[8570, 2], train_mask=[8570], val_mask=[8570], test_mask=[8570])]},\n",
       " '363_A3b_ASAP_tumor_map': {'train': [Data(x=[11918, 2048], edge_index=[2, 58766], y=[11918, 2], pos=[11918, 2], train_mask=[11918], val_mask=[11918], test_mask=[11918])],\n",
       "  'val': [Data(x=[11553, 2048], edge_index=[2, 56695], y=[11553, 2], pos=[11553, 2], train_mask=[11553], val_mask=[11553], test_mask=[11553])]},\n",
       " '364_A1b_ASAP_tumor_map': {'train': [Data(x=[7890, 2048], edge_index=[2, 38608], y=[7890, 2], pos=[7890, 2], train_mask=[7890], val_mask=[7890], test_mask=[7890]),\n",
       "   Data(x=[7228, 2048], edge_index=[2, 35234], y=[7228, 2], pos=[7228, 2], train_mask=[7228], val_mask=[7228], test_mask=[7228])],\n",
       "  'val': [Data(x=[7129, 2048], edge_index=[2, 34695], y=[7129, 2], pos=[7129, 2], train_mask=[7129], val_mask=[7129], test_mask=[7129])]},\n",
       " '364_A2b_ASAP_tumor_map': {'train': [Data(x=[7762, 2048], edge_index=[2, 37502], y=[7762, 2], pos=[7762, 2], train_mask=[7762], val_mask=[7762], test_mask=[7762]),\n",
       "   Data(x=[6950, 2048], edge_index=[2, 33088], y=[6950, 2], pos=[6950, 2], train_mask=[6950], val_mask=[6950], test_mask=[6950])],\n",
       "  'val': [Data(x=[7887, 2048], edge_index=[2, 38045], y=[7887, 2], pos=[7887, 2], train_mask=[7887], val_mask=[7887], test_mask=[7887])]},\n",
       " '364_A4b_ASAP_tumor_map': {'train': [Data(x=[7567, 2048], edge_index=[2, 36695], y=[7567, 2], pos=[7567, 2], train_mask=[7567], val_mask=[7567], test_mask=[7567]),\n",
       "   Data(x=[6416, 2048], edge_index=[2, 30756], y=[6416, 2], pos=[6416, 2], train_mask=[6416], val_mask=[6416], test_mask=[6416])],\n",
       "  'val': [Data(x=[8013, 2048], edge_index=[2, 38809], y=[8013, 2], pos=[8013, 2], train_mask=[8013], val_mask=[8013], test_mask=[8013])]},\n",
       " '365_A1b_ASAP_tumor_map': {'train': [Data(x=[6347, 2048], edge_index=[2, 31109], y=[6347, 2], pos=[6347, 2], train_mask=[6347], val_mask=[6347], test_mask=[6347]),\n",
       "   Data(x=[186, 2048], edge_index=[2, 812], y=[186, 1], pos=[186, 2], train_mask=[186], val_mask=[186], test_mask=[186]),\n",
       "   Data(x=[6236, 2048], edge_index=[2, 30544], y=[6236, 2], pos=[6236, 2], train_mask=[6236], val_mask=[6236], test_mask=[6236])],\n",
       "  'val': [Data(x=[6763, 2048], edge_index=[2, 33205], y=[6763, 2], pos=[6763, 2], train_mask=[6763], val_mask=[6763], test_mask=[6763])]},\n",
       " '365_A2b_ASAP_tumor_map': {'train': [Data(x=[6896, 2048], edge_index=[2, 33746], y=[6896, 2], pos=[6896, 2], train_mask=[6896], val_mask=[6896], test_mask=[6896]),\n",
       "   Data(x=[5952, 2048], edge_index=[2, 29198], y=[5952, 1], pos=[5952, 2], train_mask=[5952], val_mask=[5952], test_mask=[5952])],\n",
       "  'val': [Data(x=[5449, 2048], edge_index=[2, 26585], y=[5449, 2], pos=[5449, 2], train_mask=[5449], val_mask=[5449], test_mask=[5449])]},\n",
       " '366_A1a_ASAP_tumor_map': {'train': [Data(x=[7163, 2048], edge_index=[2, 34633], y=[7163, 2], pos=[7163, 2], train_mask=[7163], val_mask=[7163], test_mask=[7163])],\n",
       "  'val': [Data(x=[6673, 2048], edge_index=[2, 32347], y=[6673, 2], pos=[6673, 2], train_mask=[6673], val_mask=[6673], test_mask=[6673])]},\n",
       " '366_A1b_ASAP_tumor_map': {'train': [Data(x=[8481, 2048], edge_index=[2, 41449], y=[8481, 2], pos=[8481, 2], train_mask=[8481], val_mask=[8481], test_mask=[8481])],\n",
       "  'val': [Data(x=[8178, 2048], edge_index=[2, 39998], y=[8178, 2], pos=[8178, 2], train_mask=[8178], val_mask=[8178], test_mask=[8178])]},\n",
       " '366_A1c_ASAP_tumor_map': {'train': [Data(x=[8477, 2048], edge_index=[2, 41553], y=[8477, 2], pos=[8477, 2], train_mask=[8477], val_mask=[8477], test_mask=[8477])],\n",
       "  'val': [Data(x=[8539, 2048], edge_index=[2, 41785], y=[8539, 2], pos=[8539, 2], train_mask=[8539], val_mask=[8539], test_mask=[8539])]},\n",
       " '367_A2b_ASAP_tumor_map': {'train': [Data(x=[2290, 2048], edge_index=[2, 11108], y=[2290, 2], pos=[2290, 2], train_mask=[2290], val_mask=[2290], test_mask=[2290]),\n",
       "   Data(x=[2311, 2048], edge_index=[2, 11239], y=[2311, 2], pos=[2311, 2], train_mask=[2311], val_mask=[2311], test_mask=[2311]),\n",
       "   Data(x=[2053, 2048], edge_index=[2, 10031], y=[2053, 2], pos=[2053, 2], train_mask=[2053], val_mask=[2053], test_mask=[2053]),\n",
       "   Data(x=[2518, 2048], edge_index=[2, 12228], y=[2518, 2], pos=[2518, 2], train_mask=[2518], val_mask=[2518], test_mask=[2518])],\n",
       "  'val': [Data(x=[2000, 2048], edge_index=[2, 9724], y=[2000, 2], pos=[2000, 2], train_mask=[2000], val_mask=[2000], test_mask=[2000])]},\n",
       " '368_A1b_ASAP_tumor_map': {'train': [Data(x=[14939, 2048], edge_index=[2, 73293], y=[14939, 2], pos=[14939, 2], train_mask=[14939], val_mask=[14939], test_mask=[14939])],\n",
       "  'val': [Data(x=[14068, 2048], edge_index=[2, 68870], y=[14068, 2], pos=[14068, 2], train_mask=[14068], val_mask=[14068], test_mask=[14068])]},\n",
       " '368_A1c_ASAP_tumor_map': {'train': [Data(x=[16135, 2048], edge_index=[2, 79453], y=[16135, 2], pos=[16135, 2], train_mask=[16135], val_mask=[16135], test_mask=[16135])],\n",
       "  'val': [Data(x=[15735, 2048], edge_index=[2, 76983], y=[15735, 2], pos=[15735, 2], train_mask=[15735], val_mask=[15735], test_mask=[15735])]},\n",
       " '368_A1d_ASAP_tumor_map': {'train': [Data(x=[17493, 2048], edge_index=[2, 86455], y=[17493, 2], pos=[17493, 2], train_mask=[17493], val_mask=[17493], test_mask=[17493])],\n",
       "  'val': [Data(x=[16641, 2048], edge_index=[2, 81905], y=[16641, 2], pos=[16641, 2], train_mask=[16641], val_mask=[16641], test_mask=[16641])]},\n",
       " '369_A1b_ASAP_tumor_map': {'train': [Data(x=[4862, 2048], edge_index=[2, 23662], y=[4862, 2], pos=[4862, 2], train_mask=[4862], val_mask=[4862], test_mask=[4862]),\n",
       "   Data(x=[5344, 2048], edge_index=[2, 26102], y=[5344, 2], pos=[5344, 2], train_mask=[5344], val_mask=[5344], test_mask=[5344])],\n",
       "  'val': [Data(x=[4344, 2048], edge_index=[2, 21160], y=[4344, 2], pos=[4344, 2], train_mask=[4344], val_mask=[4344], test_mask=[4344])]},\n",
       " '369_A1c_ASAP_tumor_map': {'train': [Data(x=[3579, 2048], edge_index=[2, 17421], y=[3579, 2], pos=[3579, 2], train_mask=[3579], val_mask=[3579], test_mask=[3579]),\n",
       "   Data(x=[2806, 2048], edge_index=[2, 13668], y=[2806, 2], pos=[2806, 2], train_mask=[2806], val_mask=[2806], test_mask=[2806]),\n",
       "   Data(x=[3465, 2048], edge_index=[2, 16751], y=[3465, 2], pos=[3465, 2], train_mask=[3465], val_mask=[3465], test_mask=[3465])],\n",
       "  'val': [Data(x=[3144, 2048], edge_index=[2, 15240], y=[3144, 2], pos=[3144, 2], train_mask=[3144], val_mask=[3144], test_mask=[3144])]},\n",
       " '369_A2b_ASAP_tumor_map': {'train': [Data(x=[3510, 2048], edge_index=[2, 17166], y=[3510, 2], pos=[3510, 2], train_mask=[3510], val_mask=[3510], test_mask=[3510]),\n",
       "   Data(x=[3861, 2048], edge_index=[2, 18849], y=[3861, 2], pos=[3861, 2], train_mask=[3861], val_mask=[3861], test_mask=[3861]),\n",
       "   Data(x=[1230, 2048], edge_index=[2, 5880], y=[1230, 1], pos=[1230, 2], train_mask=[1230], val_mask=[1230], test_mask=[1230]),\n",
       "   Data(x=[1299, 2048], edge_index=[2, 6165], y=[1299, 1], pos=[1299, 2], train_mask=[1299], val_mask=[1299], test_mask=[1299]),\n",
       "   Data(x=[3534, 2048], edge_index=[2, 17090], y=[3534, 2], pos=[3534, 2], train_mask=[3534], val_mask=[3534], test_mask=[3534])],\n",
       "  'val': [Data(x=[851, 2048], edge_index=[2, 4003], y=[851, 1], pos=[851, 2], train_mask=[851], val_mask=[851], test_mask=[851])]},\n",
       " '370_A1b_ASAP_tumor_map': {'train': [Data(x=[3522, 2048], edge_index=[2, 17230], y=[3522, 2], pos=[3522, 2], train_mask=[3522], val_mask=[3522], test_mask=[3522]),\n",
       "   Data(x=[3468, 2048], edge_index=[2, 16934], y=[3468, 2], pos=[3468, 2], train_mask=[3468], val_mask=[3468], test_mask=[3468])],\n",
       "  'val': [Data(x=[3362, 2048], edge_index=[2, 16446], y=[3362, 2], pos=[3362, 2], train_mask=[3362], val_mask=[3362], test_mask=[3362])]},\n",
       " '370_A2a_ASAP_tumor_map': {'train': [Data(x=[3051, 2048], edge_index=[2, 14891], y=[3051, 2], pos=[3051, 2], train_mask=[3051], val_mask=[3051], test_mask=[3051]),\n",
       "   Data(x=[2460, 2048], edge_index=[2, 11918], y=[2460, 2], pos=[2460, 2], train_mask=[2460], val_mask=[2460], test_mask=[2460])],\n",
       "  'val': [Data(x=[3383, 2048], edge_index=[2, 16557], y=[3383, 2], pos=[3383, 2], train_mask=[3383], val_mask=[3383], test_mask=[3383])]},\n",
       " '370_A2b_ASAP_tumor_map': {'train': [Data(x=[3236, 2048], edge_index=[2, 15876], y=[3236, 2], pos=[3236, 2], train_mask=[3236], val_mask=[3236], test_mask=[3236]),\n",
       "   Data(x=[3291, 2048], edge_index=[2, 16135], y=[3291, 2], pos=[3291, 2], train_mask=[3291], val_mask=[3291], test_mask=[3291])],\n",
       "  'val': [Data(x=[3095, 2048], edge_index=[2, 15181], y=[3095, 2], pos=[3095, 2], train_mask=[3095], val_mask=[3095], test_mask=[3095])]},\n",
       " '37_A2d_ASAP_tumor_map': {'train': [Data(x=[7697, 2048], edge_index=[2, 36761], y=[7697, 2], pos=[7697, 2], train_mask=[7697], val_mask=[7697], test_mask=[7697])],\n",
       "  'val': [Data(x=[7718, 2048], edge_index=[2, 36598], y=[7718, 2], pos=[7718, 2], train_mask=[7718], val_mask=[7718], test_mask=[7718])]},\n",
       " '61_A1a_ASAP_tumor_map': {'train': [Data(x=[1708, 2048], edge_index=[2, 8198], y=[1708, 2], pos=[1708, 2], train_mask=[1708], val_mask=[1708], test_mask=[1708]),\n",
       "   Data(x=[2059, 2048], edge_index=[2, 9967], y=[2059, 2], pos=[2059, 2], train_mask=[2059], val_mask=[2059], test_mask=[2059]),\n",
       "   Data(x=[2178, 2048], edge_index=[2, 10598], y=[2178, 2], pos=[2178, 2], train_mask=[2178], val_mask=[2178], test_mask=[2178]),\n",
       "   Data(x=[2096, 2048], edge_index=[2, 10164], y=[2096, 2], pos=[2096, 2], train_mask=[2096], val_mask=[2096], test_mask=[2096])],\n",
       "  'val': [Data(x=[2201, 2048], edge_index=[2, 10721], y=[2201, 2], pos=[2201, 2], train_mask=[2201], val_mask=[2201], test_mask=[2201])]},\n",
       " '61_B1a_ASAP_tumor_map': {'train': [Data(x=[2145, 2048], edge_index=[2, 10425], y=[2145, 2], pos=[2145, 2], train_mask=[2145], val_mask=[2145], test_mask=[2145]),\n",
       "   Data(x=[212, 2048], edge_index=[2, 974], y=[212, 1], pos=[212, 2], train_mask=[212], val_mask=[212], test_mask=[212]),\n",
       "   Data(x=[2055, 2048], edge_index=[2, 9939], y=[2055, 2], pos=[2055, 2], train_mask=[2055], val_mask=[2055], test_mask=[2055]),\n",
       "   Data(x=[1275, 2048], edge_index=[2, 6075], y=[1275, 2], pos=[1275, 2], train_mask=[1275], val_mask=[1275], test_mask=[1275]),\n",
       "   Data(x=[1771, 2048], edge_index=[2, 8535], y=[1771, 2], pos=[1771, 2], train_mask=[1771], val_mask=[1771], test_mask=[1771])],\n",
       "  'val': [Data(x=[2088, 2048], edge_index=[2, 10144], y=[2088, 2], pos=[2088, 2], train_mask=[2088], val_mask=[2088], test_mask=[2088])]},\n",
       " '70_A2b_ASAP_tumor_map': {'train': [Data(x=[1686, 2048], edge_index=[2, 8148], y=[1686, 2], pos=[1686, 2], train_mask=[1686], val_mask=[1686], test_mask=[1686]),\n",
       "   Data(x=[1663, 2048], edge_index=[2, 8025], y=[1663, 2], pos=[1663, 2], train_mask=[1663], val_mask=[1663], test_mask=[1663]),\n",
       "   Data(x=[1787, 2048], edge_index=[2, 8725], y=[1787, 2], pos=[1787, 2], train_mask=[1787], val_mask=[1787], test_mask=[1787]),\n",
       "   Data(x=[1805, 2048], edge_index=[2, 8797], y=[1805, 2], pos=[1805, 2], train_mask=[1805], val_mask=[1805], test_mask=[1805]),\n",
       "   Data(x=[1665, 2048], edge_index=[2, 8099], y=[1665, 2], pos=[1665, 2], train_mask=[1665], val_mask=[1665], test_mask=[1665])],\n",
       "  'val': [Data(x=[1672, 2048], edge_index=[2, 8158], y=[1672, 2], pos=[1672, 2], train_mask=[1672], val_mask=[1672], test_mask=[1672])]},\n",
       " '7_A1c_ASAP_tumor_map': {'train': [Data(x=[6353, 2048], edge_index=[2, 31203], y=[6353, 2], pos=[6353, 2], train_mask=[6353], val_mask=[6353], test_mask=[6353]),\n",
       "   Data(x=[6222, 2048], edge_index=[2, 30556], y=[6222, 2], pos=[6222, 2], train_mask=[6222], val_mask=[6222], test_mask=[6222])],\n",
       "  'val': [Data(x=[5921, 2048], edge_index=[2, 29101], y=[5921, 2], pos=[5921, 2], train_mask=[5921], val_mask=[5921], test_mask=[5921])]},\n",
       " '7_A1d_ASAP_tumor_map': {'train': [Data(x=[5494, 2048], edge_index=[2, 26986], y=[5494, 2], pos=[5494, 2], train_mask=[5494], val_mask=[5494], test_mask=[5494]),\n",
       "   Data(x=[5831, 2048], edge_index=[2, 28669], y=[5831, 2], pos=[5831, 2], train_mask=[5831], val_mask=[5831], test_mask=[5831])],\n",
       "  'val': [Data(x=[5516, 2048], edge_index=[2, 27058], y=[5516, 2], pos=[5516, 2], train_mask=[5516], val_mask=[5516], test_mask=[5516])]},\n",
       " '7_A1e_ASAP_tumor_map': {'train': [Data(x=[4710, 2048], edge_index=[2, 23116], y=[4710, 2], pos=[4710, 2], train_mask=[4710], val_mask=[4710], test_mask=[4710]),\n",
       "   Data(x=[5083, 2048], edge_index=[2, 24985], y=[5083, 2], pos=[5083, 2], train_mask=[5083], val_mask=[5083], test_mask=[5083])],\n",
       "  'val': [Data(x=[4639, 2048], edge_index=[2, 22765], y=[4639, 2], pos=[4639, 2], train_mask=[4639], val_mask=[4639], test_mask=[4639])]}}"
      ]
     },
     "execution_count": 15,
     "metadata": {},
     "output_type": "execute_result"
    }
   ],
   "source": [
    "graph_datasets"
   ]
  },
  {
   "cell_type": "code",
   "execution_count": 16,
   "id": "7cfb8d93",
   "metadata": {},
   "outputs": [],
   "source": [
    "import pickle\n",
    "pickle.dump(graph_datasets,open('/dartfs/rc/nosnapshots/V/VaickusL-nb/EDIT_Students/users/Sophie_Chen/graph_dataset/graph_dataset.pkl','wb'))"
   ]
  },
  {
   "cell_type": "code",
   "execution_count": 17,
   "id": "6989ad72",
   "metadata": {},
   "outputs": [],
   "source": [
    "e=pd.read_pickle(\"/dartfs/rc/nosnapshots/V/VaickusL-nb/EDIT_Students/users/Sophie_Chen/graph_dataset/graph_dataset.pkl\")"
   ]
  },
  {
   "cell_type": "code",
   "execution_count": 18,
   "id": "9ed97c19",
   "metadata": {
    "collapsed": true
   },
   "outputs": [
    {
     "data": {
      "text/plain": [
       "{'109_A1c_ASAP_tumor_map': {'train': [Data(x=[20589, 2048], edge_index=[2, 102219], y=[20589], pos=[20589, 2], train_mask=[20589], val_mask=[20589], test_mask=[20589])],\n",
       "  'val': [Data(x=[20706, 2048], edge_index=[2, 102704], y=[20706], pos=[20706, 2], train_mask=[20706], val_mask=[20706], test_mask=[20706])]},\n",
       " '10_A1a_ASAP_tumor_map': {'train': [Data(x=[5563, 2048], edge_index=[2, 27309], y=[5563], pos=[5563, 2], train_mask=[5563], val_mask=[5563], test_mask=[5563]),\n",
       "   Data(x=[5101, 2048], edge_index=[2, 24973], y=[5101], pos=[5101, 2], train_mask=[5101], val_mask=[5101], test_mask=[5101])],\n",
       "  'val': [Data(x=[5804, 2048], edge_index=[2, 28532], y=[5804], pos=[5804, 2], train_mask=[5804], val_mask=[5804], test_mask=[5804])]},\n",
       " '10_A1b_ASAP_tumor_map': {'train': [Data(x=[5719, 2048], edge_index=[2, 28113], y=[5719], pos=[5719, 2], train_mask=[5719], val_mask=[5719], test_mask=[5719]),\n",
       "   Data(x=[5649, 2048], edge_index=[2, 27761], y=[5649], pos=[5649, 2], train_mask=[5649], val_mask=[5649], test_mask=[5649])],\n",
       "  'val': [Data(x=[5642, 2048], edge_index=[2, 27702], y=[5642], pos=[5642, 2], train_mask=[5642], val_mask=[5642], test_mask=[5642])]},\n",
       " '10_A2b_ASAP_tumor_map': {'train': [Data(x=[6098, 2048], edge_index=[2, 29956], y=[6098], pos=[6098, 2], train_mask=[6098], val_mask=[6098], test_mask=[6098]),\n",
       "   Data(x=[6239, 2048], edge_index=[2, 30715], y=[6239], pos=[6239, 2], train_mask=[6239], val_mask=[6239], test_mask=[6239])],\n",
       "  'val': [Data(x=[6085, 2048], edge_index=[2, 29929], y=[6085], pos=[6085, 2], train_mask=[6085], val_mask=[6085], test_mask=[6085])]},\n",
       " '110_A2b_ASAP_tumor_map': {'train': [Data(x=[4220, 2048], edge_index=[2, 20574], y=[4220], pos=[4220, 2], train_mask=[4220], val_mask=[4220], test_mask=[4220]),\n",
       "   Data(x=[4557, 2048], edge_index=[2, 22333], y=[4557], pos=[4557, 2], train_mask=[4557], val_mask=[4557], test_mask=[4557]),\n",
       "   Data(x=[4607, 2048], edge_index=[2, 22561], y=[4607], pos=[4607, 2], train_mask=[4607], val_mask=[4607], test_mask=[4607])],\n",
       "  'val': [Data(x=[4472, 2048], edge_index=[2, 21880], y=[4472], pos=[4472, 2], train_mask=[4472], val_mask=[4472], test_mask=[4472])]},\n",
       " '112_a_ASAP_tumor_map': {'train': [Data(x=[817, 2048], edge_index=[2, 3897], y=[817], pos=[817, 2], train_mask=[817], val_mask=[817], test_mask=[817]),\n",
       "   Data(x=[795, 2048], edge_index=[2, 3785], y=[795], pos=[795, 2], train_mask=[795], val_mask=[795], test_mask=[795]),\n",
       "   Data(x=[703, 2048], edge_index=[2, 3369], y=[703], pos=[703, 2], train_mask=[703], val_mask=[703], test_mask=[703]),\n",
       "   Data(x=[832, 2048], edge_index=[2, 3972], y=[832], pos=[832, 2], train_mask=[832], val_mask=[832], test_mask=[832]),\n",
       "   Data(x=[668, 2048], edge_index=[2, 3170], y=[668], pos=[668, 2], train_mask=[668], val_mask=[668], test_mask=[668]),\n",
       "   Data(x=[884, 2048], edge_index=[2, 4244], y=[884], pos=[884, 2], train_mask=[884], val_mask=[884], test_mask=[884]),\n",
       "   Data(x=[583, 2048], edge_index=[2, 2769], y=[583], pos=[583, 2], train_mask=[583], val_mask=[583], test_mask=[583])],\n",
       "  'val': [Data(x=[935, 2048], edge_index=[2, 4489], y=[935], pos=[935, 2], train_mask=[935], val_mask=[935], test_mask=[935])]},\n",
       " '112_b_ASAP_tumor_map': {'train': [Data(x=[902, 2048], edge_index=[2, 4298], y=[902], pos=[902, 2], train_mask=[902], val_mask=[902], test_mask=[902]),\n",
       "   Data(x=[815, 2048], edge_index=[2, 3889], y=[815], pos=[815, 2], train_mask=[815], val_mask=[815], test_mask=[815]),\n",
       "   Data(x=[878, 2048], edge_index=[2, 4210], y=[878], pos=[878, 2], train_mask=[878], val_mask=[878], test_mask=[878]),\n",
       "   Data(x=[844, 2048], edge_index=[2, 4004], y=[844], pos=[844, 2], train_mask=[844], val_mask=[844], test_mask=[844]),\n",
       "   Data(x=[826, 2048], edge_index=[2, 3952], y=[826], pos=[826, 2], train_mask=[826], val_mask=[826], test_mask=[826]),\n",
       "   Data(x=[871, 2048], edge_index=[2, 4135], y=[871], pos=[871, 2], train_mask=[871], val_mask=[871], test_mask=[871]),\n",
       "   Data(x=[842, 2048], edge_index=[2, 4024], y=[842], pos=[842, 2], train_mask=[842], val_mask=[842], test_mask=[842])],\n",
       "  'val': [Data(x=[850, 2048], edge_index=[2, 4038], y=[850], pos=[850, 2], train_mask=[850], val_mask=[850], test_mask=[850])]},\n",
       " '123_A1a_ASAP_tumor_map': {'train': [Data(x=[2626, 2048], edge_index=[2, 12492], y=[2626], pos=[2626, 2], train_mask=[2626], val_mask=[2626], test_mask=[2626]),\n",
       "   Data(x=[1742, 2048], edge_index=[2, 8152], y=[1742], pos=[1742, 2], train_mask=[1742], val_mask=[1742], test_mask=[1742]),\n",
       "   Data(x=[2955, 2048], edge_index=[2, 14357], y=[2955], pos=[2955, 2], train_mask=[2955], val_mask=[2955], test_mask=[2955]),\n",
       "   Data(x=[2561, 2048], edge_index=[2, 12297], y=[2561], pos=[2561, 2], train_mask=[2561], val_mask=[2561], test_mask=[2561]),\n",
       "   Data(x=[2825, 2048], edge_index=[2, 13425], y=[2825], pos=[2825, 2], train_mask=[2825], val_mask=[2825], test_mask=[2825])],\n",
       "  'val': [Data(x=[3280, 2048], edge_index=[2, 15970], y=[3280], pos=[3280, 2], train_mask=[3280], val_mask=[3280], test_mask=[3280])]},\n",
       " '12_A1c_ASAP_tumor_map': {'train': [Data(x=[7126, 2048], edge_index=[2, 35066], y=[7126], pos=[7126, 2], train_mask=[7126], val_mask=[7126], test_mask=[7126]),\n",
       "   Data(x=[6957, 2048], edge_index=[2, 34275], y=[6957], pos=[6957, 2], train_mask=[6957], val_mask=[6957], test_mask=[6957])],\n",
       "  'val': [Data(x=[6814, 2048], edge_index=[2, 33326], y=[6814], pos=[6814, 2], train_mask=[6814], val_mask=[6814], test_mask=[6814])]},\n",
       " '14_A1b_ASAP_tumor_map': {'train': [Data(x=[5176, 2048], edge_index=[2, 25114], y=[5176], pos=[5176, 2], train_mask=[5176], val_mask=[5176], test_mask=[5176]),\n",
       "   Data(x=[4841, 2048], edge_index=[2, 23269], y=[4841], pos=[4841, 2], train_mask=[4841], val_mask=[4841], test_mask=[4841])],\n",
       "  'val': [Data(x=[4577, 2048], edge_index=[2, 22143], y=[4577], pos=[4577, 2], train_mask=[4577], val_mask=[4577], test_mask=[4577])]},\n",
       " '14_A2b_ASAP_tumor_map': {'train': [Data(x=[5075, 2048], edge_index=[2, 24045], y=[5075], pos=[5075, 2], train_mask=[5075], val_mask=[5075], test_mask=[5075]),\n",
       "   Data(x=[4659, 2048], edge_index=[2, 22071], y=[4659], pos=[4659, 2], train_mask=[4659], val_mask=[4659], test_mask=[4659])],\n",
       "  'val': [Data(x=[5046, 2048], edge_index=[2, 24084], y=[5046], pos=[5046, 2], train_mask=[5046], val_mask=[5046], test_mask=[5046])]},\n",
       " '169_A2b_ASAP_tumor_map': {'train': [Data(x=[5137, 2048], edge_index=[2, 25303], y=[5137], pos=[5137, 2], train_mask=[5137], val_mask=[5137], test_mask=[5137]),\n",
       "   Data(x=[5193, 2048], edge_index=[2, 25555], y=[5193], pos=[5193, 2], train_mask=[5193], val_mask=[5193], test_mask=[5193])],\n",
       "  'val': [Data(x=[5220, 2048], edge_index=[2, 25698], y=[5220], pos=[5220, 2], train_mask=[5220], val_mask=[5220], test_mask=[5220])]},\n",
       " '270_A1b_ASAP_tumor_map': {'train': [Data(x=[10733, 2048], edge_index=[2, 52753], y=[10733], pos=[10733, 2], train_mask=[10733], val_mask=[10733], test_mask=[10733])],\n",
       "  'val': [Data(x=[10638, 2048], edge_index=[2, 52354], y=[10638], pos=[10638, 2], train_mask=[10638], val_mask=[10638], test_mask=[10638])]},\n",
       " '270_A1d_ASAP_tumor_map': {'train': [Data(x=[10457, 2048], edge_index=[2, 51557], y=[10457], pos=[10457, 2], train_mask=[10457], val_mask=[10457], test_mask=[10457])],\n",
       "  'val': [Data(x=[10268, 2048], edge_index=[2, 50640], y=[10268], pos=[10268, 2], train_mask=[10268], val_mask=[10268], test_mask=[10268])]},\n",
       " '270_A1e_ASAP_tumor_map': {'train': [Data(x=[10168, 2048], edge_index=[2, 50196], y=[10168], pos=[10168, 2], train_mask=[10168], val_mask=[10168], test_mask=[10168])],\n",
       "  'val': [Data(x=[10423, 2048], edge_index=[2, 51437], y=[10423], pos=[10423, 2], train_mask=[10423], val_mask=[10423], test_mask=[10423])]},\n",
       " '270_A2b_ASAP_tumor_map': {'train': [Data(x=[10205, 2048], edge_index=[2, 50345], y=[10205], pos=[10205, 2], train_mask=[10205], val_mask=[10205], test_mask=[10205])],\n",
       "  'val': [Data(x=[8924, 2048], edge_index=[2, 43966], y=[8924], pos=[8924, 2], train_mask=[8924], val_mask=[8924], test_mask=[8924])]},\n",
       " '270_A2f_ASAP_tumor_map': {'train': [Data(x=[7420, 2048], edge_index=[2, 36228], y=[7420], pos=[7420, 2], train_mask=[7420], val_mask=[7420], test_mask=[7420])],\n",
       "  'val': []},\n",
       " '281_A1d_ASAP_tumor_map': {'train': [Data(x=[6622, 2048], edge_index=[2, 32648], y=[6622], pos=[6622, 2], train_mask=[6622], val_mask=[6622], test_mask=[6622])],\n",
       "  'val': [Data(x=[6675, 2048], edge_index=[2, 32849], y=[6675], pos=[6675, 2], train_mask=[6675], val_mask=[6675], test_mask=[6675])]},\n",
       " '281_A1f_ASAP_tumor_map': {'train': [Data(x=[7200, 2048], edge_index=[2, 35514], y=[7200], pos=[7200, 2], train_mask=[7200], val_mask=[7200], test_mask=[7200])],\n",
       "  'val': [Data(x=[7185, 2048], edge_index=[2, 35435], y=[7185], pos=[7185, 2], train_mask=[7185], val_mask=[7185], test_mask=[7185])]},\n",
       " '281_A2eX_ASAP_tumor_map': {'train': [Data(x=[6892, 2048], edge_index=[2, 33970], y=[6892], pos=[6892, 2], train_mask=[6892], val_mask=[6892], test_mask=[6892])],\n",
       "  'val': [Data(x=[6557, 2048], edge_index=[2, 32353], y=[6557], pos=[6557, 2], train_mask=[6557], val_mask=[6557], test_mask=[6557])]},\n",
       " '311_A2c_ASAP_tumor_map': {'train': [Data(x=[6043, 2048], edge_index=[2, 29801], y=[6043], pos=[6043, 2], train_mask=[6043], val_mask=[6043], test_mask=[6043])],\n",
       "  'val': [Data(x=[6294, 2048], edge_index=[2, 30852], y=[6294], pos=[6294, 2], train_mask=[6294], val_mask=[6294], test_mask=[6294])]},\n",
       " '327_A1a_ASAP_tumor_map': {'train': [Data(x=[8925, 2048], edge_index=[2, 44005], y=[8925], pos=[8925, 2], train_mask=[8925], val_mask=[8925], test_mask=[8925]),\n",
       "   Data(x=[7523, 2048], edge_index=[2, 36939], y=[7523], pos=[7523, 2], train_mask=[7523], val_mask=[7523], test_mask=[7523])],\n",
       "  'val': [Data(x=[9594, 2048], edge_index=[2, 47078], y=[9594], pos=[9594, 2], train_mask=[9594], val_mask=[9594], test_mask=[9594])]},\n",
       " '327_A1d_ASAP_tumor_map': {'train': [Data(x=[8040, 2048], edge_index=[2, 39486], y=[8040], pos=[8040, 2], train_mask=[8040], val_mask=[8040], test_mask=[8040])],\n",
       "  'val': [Data(x=[8280, 2048], edge_index=[2, 40538], y=[8280], pos=[8280, 2], train_mask=[8280], val_mask=[8280], test_mask=[8280])]},\n",
       " '327_B1c_ASAP_tumor_map': {'train': [Data(x=[18384, 2048], edge_index=[2, 90616], y=[18384], pos=[18384, 2], train_mask=[18384], val_mask=[18384], test_mask=[18384])],\n",
       "  'val': [Data(x=[20123, 2048], edge_index=[2, 99557], y=[20123], pos=[20123, 2], train_mask=[20123], val_mask=[20123], test_mask=[20123])]},\n",
       " '341_a_ASAP_tumor_map': {'train': [Data(x=[3285, 2048], edge_index=[2, 16061], y=[3285], pos=[3285, 2], train_mask=[3285], val_mask=[3285], test_mask=[3285]),\n",
       "   Data(x=[3282, 2048], edge_index=[2, 16056], y=[3282], pos=[3282, 2], train_mask=[3282], val_mask=[3282], test_mask=[3282])],\n",
       "  'val': [Data(x=[2812, 2048], edge_index=[2, 13740], y=[2812], pos=[2812, 2], train_mask=[2812], val_mask=[2812], test_mask=[2812])]},\n",
       " '341_b_ASAP_tumor_map': {'train': [Data(x=[2217, 2048], edge_index=[2, 10801], y=[2217], pos=[2217, 2], train_mask=[2217], val_mask=[2217], test_mask=[2217]),\n",
       "   Data(x=[2806, 2048], edge_index=[2, 13728], y=[2806], pos=[2806, 2], train_mask=[2806], val_mask=[2806], test_mask=[2806])],\n",
       "  'val': [Data(x=[1747, 2048], edge_index=[2, 8461], y=[1747], pos=[1747, 2], train_mask=[1747], val_mask=[1747], test_mask=[1747])]},\n",
       " '342_a_ASAP_tumor_map': {'train': [Data(x=[817, 2048], edge_index=[2, 3897], y=[817], pos=[817, 2], train_mask=[817], val_mask=[817], test_mask=[817]),\n",
       "   Data(x=[795, 2048], edge_index=[2, 3785], y=[795], pos=[795, 2], train_mask=[795], val_mask=[795], test_mask=[795]),\n",
       "   Data(x=[703, 2048], edge_index=[2, 3369], y=[703], pos=[703, 2], train_mask=[703], val_mask=[703], test_mask=[703]),\n",
       "   Data(x=[832, 2048], edge_index=[2, 3972], y=[832], pos=[832, 2], train_mask=[832], val_mask=[832], test_mask=[832]),\n",
       "   Data(x=[668, 2048], edge_index=[2, 3170], y=[668], pos=[668, 2], train_mask=[668], val_mask=[668], test_mask=[668]),\n",
       "   Data(x=[884, 2048], edge_index=[2, 4244], y=[884], pos=[884, 2], train_mask=[884], val_mask=[884], test_mask=[884]),\n",
       "   Data(x=[583, 2048], edge_index=[2, 2769], y=[583], pos=[583, 2], train_mask=[583], val_mask=[583], test_mask=[583])],\n",
       "  'val': [Data(x=[935, 2048], edge_index=[2, 4489], y=[935], pos=[935, 2], train_mask=[935], val_mask=[935], test_mask=[935])]},\n",
       " '342_b_ASAP_tumor_map': {'train': [Data(x=[902, 2048], edge_index=[2, 4298], y=[902], pos=[902, 2], train_mask=[902], val_mask=[902], test_mask=[902]),\n",
       "   Data(x=[815, 2048], edge_index=[2, 3889], y=[815], pos=[815, 2], train_mask=[815], val_mask=[815], test_mask=[815]),\n",
       "   Data(x=[878, 2048], edge_index=[2, 4210], y=[878], pos=[878, 2], train_mask=[878], val_mask=[878], test_mask=[878]),\n",
       "   Data(x=[844, 2048], edge_index=[2, 4004], y=[844], pos=[844, 2], train_mask=[844], val_mask=[844], test_mask=[844]),\n",
       "   Data(x=[826, 2048], edge_index=[2, 3952], y=[826], pos=[826, 2], train_mask=[826], val_mask=[826], test_mask=[826]),\n",
       "   Data(x=[871, 2048], edge_index=[2, 4135], y=[871], pos=[871, 2], train_mask=[871], val_mask=[871], test_mask=[871]),\n",
       "   Data(x=[842, 2048], edge_index=[2, 4024], y=[842], pos=[842, 2], train_mask=[842], val_mask=[842], test_mask=[842])],\n",
       "  'val': [Data(x=[850, 2048], edge_index=[2, 4038], y=[850], pos=[850, 2], train_mask=[850], val_mask=[850], test_mask=[850])]},\n",
       " '343_a_ASAP_tumor_map': {'train': [Data(x=[6056, 2048], edge_index=[2, 28736], y=[6056], pos=[6056, 2], train_mask=[6056], val_mask=[6056], test_mask=[6056]),\n",
       "   Data(x=[217, 2048], edge_index=[2, 991], y=[217], pos=[217, 2], train_mask=[217], val_mask=[217], test_mask=[217])],\n",
       "  'val': [Data(x=[10754, 2048], edge_index=[2, 51502], y=[10754], pos=[10754, 2], train_mask=[10754], val_mask=[10754], test_mask=[10754])]},\n",
       " '343_b_ASAP_tumor_map': {'train': [Data(x=[22341, 2048], edge_index=[2, 109241], y=[22341], pos=[22341, 2], train_mask=[22341], val_mask=[22341], test_mask=[22341])],\n",
       "  'val': []},\n",
       " '343_c_ASAP_tumor_map': {'train': [Data(x=[8943, 2048], edge_index=[2, 43861], y=[8943], pos=[8943, 2], train_mask=[8943], val_mask=[8943], test_mask=[8943])],\n",
       "  'val': [Data(x=[14272, 2048], edge_index=[2, 69508], y=[14272], pos=[14272, 2], train_mask=[14272], val_mask=[14272], test_mask=[14272])]},\n",
       " '343_d_ASAP_tumor_map': {'train': [Data(x=[23840, 2048], edge_index=[2, 116080], y=[23840], pos=[23840, 2], train_mask=[23840], val_mask=[23840], test_mask=[23840])],\n",
       "  'val': []},\n",
       " '344_a_ASAP_tumor_map': {'train': [Data(x=[2319, 2048], edge_index=[2, 11133], y=[2319], pos=[2319, 2], train_mask=[2319], val_mask=[2319], test_mask=[2319]),\n",
       "   Data(x=[2536, 2048], edge_index=[2, 12266], y=[2536], pos=[2536, 2], train_mask=[2536], val_mask=[2536], test_mask=[2536]),\n",
       "   Data(x=[2706, 2048], edge_index=[2, 13020], y=[2706], pos=[2706, 2], train_mask=[2706], val_mask=[2706], test_mask=[2706])],\n",
       "  'val': [Data(x=[2423, 2048], edge_index=[2, 11553], y=[2423], pos=[2423, 2], train_mask=[2423], val_mask=[2423], test_mask=[2423])]},\n",
       " '344_b_ASAP_tumor_map': {'train': [Data(x=[2642, 2048], edge_index=[2, 12780], y=[2642], pos=[2642, 2], train_mask=[2642], val_mask=[2642], test_mask=[2642]),\n",
       "   Data(x=[2598, 2048], edge_index=[2, 12504], y=[2598], pos=[2598, 2], train_mask=[2598], val_mask=[2598], test_mask=[2598]),\n",
       "   Data(x=[2578, 2048], edge_index=[2, 12512], y=[2578], pos=[2578, 2], train_mask=[2578], val_mask=[2578], test_mask=[2578])],\n",
       "  'val': [Data(x=[2523, 2048], edge_index=[2, 12237], y=[2523], pos=[2523, 2], train_mask=[2523], val_mask=[2523], test_mask=[2523])]},\n",
       " '345_a_ASAP_tumor_map': {'train': [Data(x=[5059, 2048], edge_index=[2, 24891], y=[5059], pos=[5059, 2], train_mask=[5059], val_mask=[5059], test_mask=[5059]),\n",
       "   Data(x=[4642, 2048], edge_index=[2, 22826], y=[4642], pos=[4642, 2], train_mask=[4642], val_mask=[4642], test_mask=[4642])],\n",
       "  'val': [Data(x=[4837, 2048], edge_index=[2, 23785], y=[4837], pos=[4837, 2], train_mask=[4837], val_mask=[4837], test_mask=[4837])]},\n",
       " '345_b_ASAP_tumor_map': {'train': [Data(x=[5019, 2048], edge_index=[2, 24651], y=[5019], pos=[5019, 2], train_mask=[5019], val_mask=[5019], test_mask=[5019]),\n",
       "   Data(x=[5072, 2048], edge_index=[2, 24926], y=[5072], pos=[5072, 2], train_mask=[5072], val_mask=[5072], test_mask=[5072])],\n",
       "  'val': [Data(x=[4723, 2048], edge_index=[2, 23209], y=[4723], pos=[4723, 2], train_mask=[4723], val_mask=[4723], test_mask=[4723])]},\n",
       " '346_a_ASAP_tumor_map': {'train': [Data(x=[2608, 2048], edge_index=[2, 12462], y=[2608], pos=[2608, 2], train_mask=[2608], val_mask=[2608], test_mask=[2608]),\n",
       "   Data(x=[532, 2048], edge_index=[2, 2502], y=[532], pos=[532, 2], train_mask=[532], val_mask=[532], test_mask=[532]),\n",
       "   Data(x=[2529, 2048], edge_index=[2, 12003], y=[2529], pos=[2529, 2], train_mask=[2529], val_mask=[2529], test_mask=[2529]),\n",
       "   Data(x=[2207, 2048], edge_index=[2, 10509], y=[2207], pos=[2207, 2], train_mask=[2207], val_mask=[2207], test_mask=[2207]),\n",
       "   Data(x=[2774, 2048], edge_index=[2, 13196], y=[2774], pos=[2774, 2], train_mask=[2774], val_mask=[2774], test_mask=[2774])],\n",
       "  'val': [Data(x=[296, 2048], edge_index=[2, 1326], y=[296], pos=[296, 2], train_mask=[296], val_mask=[296], test_mask=[296])]},\n",
       " '346_b_ASAP_tumor_map': {'train': [Data(x=[2110, 2048], edge_index=[2, 10048], y=[2110], pos=[2110, 2], train_mask=[2110], val_mask=[2110], test_mask=[2110]),\n",
       "   Data(x=[256, 2048], edge_index=[2, 1190], y=[256], pos=[256, 2], train_mask=[256], val_mask=[256], test_mask=[256]),\n",
       "   Data(x=[647, 2048], edge_index=[2, 3041], y=[647], pos=[647, 2], train_mask=[647], val_mask=[647], test_mask=[647]),\n",
       "   Data(x=[1926, 2048], edge_index=[2, 9266], y=[1926], pos=[1926, 2], train_mask=[1926], val_mask=[1926], test_mask=[1926]),\n",
       "   Data(x=[256, 2048], edge_index=[2, 1138], y=[256], pos=[256, 2], train_mask=[256], val_mask=[256], test_mask=[256]),\n",
       "   Data(x=[1968, 2048], edge_index=[2, 9308], y=[1968], pos=[1968, 2], train_mask=[1968], val_mask=[1968], test_mask=[1968]),\n",
       "   Data(x=[2800, 2048], edge_index=[2, 13298], y=[2800], pos=[2800, 2], train_mask=[2800], val_mask=[2800], test_mask=[2800]),\n",
       "   Data(x=[369, 2048], edge_index=[2, 1685], y=[369], pos=[369, 2], train_mask=[369], val_mask=[369], test_mask=[369]),\n",
       "   Data(x=[358, 2048], edge_index=[2, 1636], y=[358], pos=[358, 2], train_mask=[358], val_mask=[358], test_mask=[358])],\n",
       "  'val': [Data(x=[223, 2048], edge_index=[2, 1035], y=[223], pos=[223, 2], train_mask=[223], val_mask=[223], test_mask=[223]),\n",
       "   Data(x=[375, 2048], edge_index=[2, 1731], y=[375], pos=[375, 2], train_mask=[375], val_mask=[375], test_mask=[375])]},\n",
       " '350_A1a_ASAP_tumor_map': {'train': [Data(x=[2152, 2048], edge_index=[2, 10320], y=[2152], pos=[2152, 2], train_mask=[2152], val_mask=[2152], test_mask=[2152]),\n",
       "   Data(x=[2573, 2048], edge_index=[2, 12497], y=[2573], pos=[2573, 2], train_mask=[2573], val_mask=[2573], test_mask=[2573]),\n",
       "   Data(x=[5921, 2048], edge_index=[2, 28809], y=[5921], pos=[5921, 2], train_mask=[5921], val_mask=[5921], test_mask=[5921]),\n",
       "   Data(x=[2435, 2048], edge_index=[2, 11667], y=[2435], pos=[2435, 2], train_mask=[2435], val_mask=[2435], test_mask=[2435])],\n",
       "  'val': [Data(x=[2947, 2048], edge_index=[2, 14323], y=[2947], pos=[2947, 2], train_mask=[2947], val_mask=[2947], test_mask=[2947])]},\n",
       " '350_A1b_ASAP_tumor_map': {'train': [Data(x=[6168, 2048], edge_index=[2, 30254], y=[6168], pos=[6168, 2], train_mask=[6168], val_mask=[6168], test_mask=[6168]),\n",
       "   Data(x=[6601, 2048], edge_index=[2, 32313], y=[6601], pos=[6601, 2], train_mask=[6601], val_mask=[6601], test_mask=[6601])],\n",
       "  'val': [Data(x=[6628, 2048], edge_index=[2, 32542], y=[6628], pos=[6628, 2], train_mask=[6628], val_mask=[6628], test_mask=[6628])]},\n",
       " '350_A1c_ASAP_tumor_map': {'train': [Data(x=[6353, 2048], edge_index=[2, 31203], y=[6353], pos=[6353, 2], train_mask=[6353], val_mask=[6353], test_mask=[6353]),\n",
       "   Data(x=[6222, 2048], edge_index=[2, 30556], y=[6222], pos=[6222, 2], train_mask=[6222], val_mask=[6222], test_mask=[6222])],\n",
       "  'val': [Data(x=[5921, 2048], edge_index=[2, 29101], y=[5921], pos=[5921, 2], train_mask=[5921], val_mask=[5921], test_mask=[5921])]},\n",
       " '350_A1d_ASAP_tumor_map': {'train': [Data(x=[5494, 2048], edge_index=[2, 26986], y=[5494], pos=[5494, 2], train_mask=[5494], val_mask=[5494], test_mask=[5494]),\n",
       "   Data(x=[5831, 2048], edge_index=[2, 28669], y=[5831], pos=[5831, 2], train_mask=[5831], val_mask=[5831], test_mask=[5831])],\n",
       "  'val': [Data(x=[5516, 2048], edge_index=[2, 27058], y=[5516], pos=[5516, 2], train_mask=[5516], val_mask=[5516], test_mask=[5516])]},\n",
       " '350_A1e_ASAP_tumor_map': {'train': [Data(x=[4710, 2048], edge_index=[2, 23116], y=[4710], pos=[4710, 2], train_mask=[4710], val_mask=[4710], test_mask=[4710]),\n",
       "   Data(x=[5083, 2048], edge_index=[2, 24985], y=[5083], pos=[5083, 2], train_mask=[5083], val_mask=[5083], test_mask=[5083])],\n",
       "  'val': [Data(x=[4639, 2048], edge_index=[2, 22765], y=[4639], pos=[4639, 2], train_mask=[4639], val_mask=[4639], test_mask=[4639])]},\n",
       " '351_A2b_ASAP_tumor_map': {'train': [Data(x=[1686, 2048], edge_index=[2, 8148], y=[1686], pos=[1686, 2], train_mask=[1686], val_mask=[1686], test_mask=[1686]),\n",
       "   Data(x=[1663, 2048], edge_index=[2, 8025], y=[1663], pos=[1663, 2], train_mask=[1663], val_mask=[1663], test_mask=[1663]),\n",
       "   Data(x=[1787, 2048], edge_index=[2, 8725], y=[1787], pos=[1787, 2], train_mask=[1787], val_mask=[1787], test_mask=[1787]),\n",
       "   Data(x=[1805, 2048], edge_index=[2, 8797], y=[1805], pos=[1805, 2], train_mask=[1805], val_mask=[1805], test_mask=[1805]),\n",
       "   Data(x=[1665, 2048], edge_index=[2, 8099], y=[1665], pos=[1665, 2], train_mask=[1665], val_mask=[1665], test_mask=[1665])],\n",
       "  'val': [Data(x=[1672, 2048], edge_index=[2, 8158], y=[1672], pos=[1672, 2], train_mask=[1672], val_mask=[1672], test_mask=[1672])]},\n",
       " '352_A1d_ASAP_tumor_map': {'train': [Data(x=[3270, 2048], edge_index=[2, 16022], y=[3270], pos=[3270, 2], train_mask=[3270], val_mask=[3270], test_mask=[3270]),\n",
       "   Data(x=[3424, 2048], edge_index=[2, 16834], y=[3424], pos=[3424, 2], train_mask=[3424], val_mask=[3424], test_mask=[3424]),\n",
       "   Data(x=[3966, 2048], edge_index=[2, 19470], y=[3966], pos=[3966, 2], train_mask=[3966], val_mask=[3966], test_mask=[3966]),\n",
       "   Data(x=[3803, 2048], edge_index=[2, 18603], y=[3803], pos=[3803, 2], train_mask=[3803], val_mask=[3803], test_mask=[3803]),\n",
       "   Data(x=[3460, 2048], edge_index=[2, 16982], y=[3460], pos=[3460, 2], train_mask=[3460], val_mask=[3460], test_mask=[3460])],\n",
       "  'val': [Data(x=[3325, 2048], edge_index=[2, 16313], y=[3325], pos=[3325, 2], train_mask=[3325], val_mask=[3325], test_mask=[3325])]},\n",
       " '352_A1e_ASAP_tumor_map': {'train': [Data(x=[3076, 2048], edge_index=[2, 15040], y=[3076], pos=[3076, 2], train_mask=[3076], val_mask=[3076], test_mask=[3076]),\n",
       "   Data(x=[3317, 2048], edge_index=[2, 16267], y=[3317], pos=[3317, 2], train_mask=[3317], val_mask=[3317], test_mask=[3317]),\n",
       "   Data(x=[3746, 2048], edge_index=[2, 18414], y=[3746], pos=[3746, 2], train_mask=[3746], val_mask=[3746], test_mask=[3746]),\n",
       "   Data(x=[3797, 2048], edge_index=[2, 18657], y=[3797], pos=[3797, 2], train_mask=[3797], val_mask=[3797], test_mask=[3797]),\n",
       "   Data(x=[3216, 2048], edge_index=[2, 15736], y=[3216], pos=[3216, 2], train_mask=[3216], val_mask=[3216], test_mask=[3216])],\n",
       "  'val': [Data(x=[3533, 2048], edge_index=[2, 17355], y=[3533], pos=[3533, 2], train_mask=[3533], val_mask=[3533], test_mask=[3533])]},\n",
       " '352_A1g_ASAP_tumor_map': {'train': [Data(x=[2713, 2048], edge_index=[2, 13289], y=[2713], pos=[2713, 2], train_mask=[2713], val_mask=[2713], test_mask=[2713]),\n",
       "   Data(x=[2708, 2048], edge_index=[2, 13252], y=[2708], pos=[2708, 2], train_mask=[2708], val_mask=[2708], test_mask=[2708]),\n",
       "   Data(x=[2900, 2048], edge_index=[2, 14226], y=[2900], pos=[2900, 2], train_mask=[2900], val_mask=[2900], test_mask=[2900]),\n",
       "   Data(x=[2921, 2048], edge_index=[2, 14269], y=[2921], pos=[2921, 2], train_mask=[2921], val_mask=[2921], test_mask=[2921]),\n",
       "   Data(x=[2752, 2048], edge_index=[2, 13480], y=[2752], pos=[2752, 2], train_mask=[2752], val_mask=[2752], test_mask=[2752])],\n",
       "  'val': [Data(x=[3023, 2048], edge_index=[2, 14817], y=[3023], pos=[3023, 2], train_mask=[3023], val_mask=[3023], test_mask=[3023])]},\n",
       " '352_A1h_ASAP_tumor_map': {'train': [Data(x=[2578, 2048], edge_index=[2, 12626], y=[2578], pos=[2578, 2], train_mask=[2578], val_mask=[2578], test_mask=[2578]),\n",
       "   Data(x=[2365, 2048], edge_index=[2, 11465], y=[2365], pos=[2365, 2], train_mask=[2365], val_mask=[2365], test_mask=[2365]),\n",
       "   Data(x=[2314, 2048], edge_index=[2, 11216], y=[2314], pos=[2314, 2], train_mask=[2314], val_mask=[2314], test_mask=[2314]),\n",
       "   Data(x=[2572, 2048], edge_index=[2, 12592], y=[2572], pos=[2572, 2], train_mask=[2572], val_mask=[2572], test_mask=[2572]),\n",
       "   Data(x=[2198, 2048], edge_index=[2, 10612], y=[2198], pos=[2198, 2], train_mask=[2198], val_mask=[2198], test_mask=[2198])],\n",
       "  'val': [Data(x=[2780, 2048], edge_index=[2, 13618], y=[2780], pos=[2780, 2], train_mask=[2780], val_mask=[2780], test_mask=[2780])]},\n",
       " '352_A1i_ASAP_tumor_map': {'train': [Data(x=[2440, 2048], edge_index=[2, 11852], y=[2440], pos=[2440, 2], train_mask=[2440], val_mask=[2440], test_mask=[2440]),\n",
       "   Data(x=[2460, 2048], edge_index=[2, 12036], y=[2460], pos=[2460, 2], train_mask=[2460], val_mask=[2460], test_mask=[2460]),\n",
       "   Data(x=[2678, 2048], edge_index=[2, 13116], y=[2678], pos=[2678, 2], train_mask=[2678], val_mask=[2678], test_mask=[2678]),\n",
       "   Data(x=[2647, 2048], edge_index=[2, 12957], y=[2647], pos=[2647, 2], train_mask=[2647], val_mask=[2647], test_mask=[2647]),\n",
       "   Data(x=[2462, 2048], edge_index=[2, 12048], y=[2462], pos=[2462, 2], train_mask=[2462], val_mask=[2462], test_mask=[2462])],\n",
       "  'val': [Data(x=[1890, 2048], edge_index=[2, 9174], y=[1890], pos=[1890, 2], train_mask=[1890], val_mask=[1890], test_mask=[1890])]},\n",
       " '353_A2b_ASAP_tumor_map': {'train': [Data(x=[4220, 2048], edge_index=[2, 20574], y=[4220], pos=[4220, 2], train_mask=[4220], val_mask=[4220], test_mask=[4220]),\n",
       "   Data(x=[4557, 2048], edge_index=[2, 22333], y=[4557], pos=[4557, 2], train_mask=[4557], val_mask=[4557], test_mask=[4557]),\n",
       "   Data(x=[4607, 2048], edge_index=[2, 22561], y=[4607], pos=[4607, 2], train_mask=[4607], val_mask=[4607], test_mask=[4607])],\n",
       "  'val': [Data(x=[4472, 2048], edge_index=[2, 21880], y=[4472], pos=[4472, 2], train_mask=[4472], val_mask=[4472], test_mask=[4472])]},\n",
       " '354_A1b_ASAP_tumor_map': {'train': [Data(x=[13521, 2048], edge_index=[2, 65591], y=[13521], pos=[13521, 2], train_mask=[13521], val_mask=[13521], test_mask=[13521])],\n",
       "  'val': []},\n",
       " '354_A1c_ASAP_tumor_map': {'train': [Data(x=[15681, 2048], edge_index=[2, 76283], y=[15681], pos=[15681, 2], train_mask=[15681], val_mask=[15681], test_mask=[15681])],\n",
       "  'val': []},\n",
       " '354_A1d_ASAP_tumor_map': {'train': [Data(x=[18198, 2048], edge_index=[2, 89710], y=[18198], pos=[18198, 2], train_mask=[18198], val_mask=[18198], test_mask=[18198])],\n",
       "  'val': []},\n",
       " '354_A3a_ASAP_tumor_map': {'train': [Data(x=[459, 2048], edge_index=[2, 2023], y=[459], pos=[459, 2], train_mask=[459], val_mask=[459], test_mask=[459]),\n",
       "   Data(x=[8477, 2048], edge_index=[2, 40317], y=[8477], pos=[8477, 2], train_mask=[8477], val_mask=[8477], test_mask=[8477]),\n",
       "   Data(x=[2248, 2048], edge_index=[2, 10640], y=[2248], pos=[2248, 2], train_mask=[2248], val_mask=[2248], test_mask=[2248])],\n",
       "  'val': [Data(x=[2063, 2048], edge_index=[2, 9639], y=[2063], pos=[2063, 2], train_mask=[2063], val_mask=[2063], test_mask=[2063])]},\n",
       " '354_A3b_ASAP_tumor_map': {'train': [Data(x=[11270, 2048], edge_index=[2, 54620], y=[11270], pos=[11270, 2], train_mask=[11270], val_mask=[11270], test_mask=[11270])],\n",
       "  'val': [Data(x=[10642, 2048], edge_index=[2, 51608], y=[10642], pos=[10642, 2], train_mask=[10642], val_mask=[10642], test_mask=[10642])]},\n",
       " '354_A3c_ASAP_tumor_map': {'train': [Data(x=[12102, 2048], edge_index=[2, 58352], y=[12102], pos=[12102, 2], train_mask=[12102], val_mask=[12102], test_mask=[12102])],\n",
       "  'val': [Data(x=[13586, 2048], edge_index=[2, 66282], y=[13586], pos=[13586, 2], train_mask=[13586], val_mask=[13586], test_mask=[13586])]},\n",
       " '354_D1b_ASAP_tumor_map': {'train': [Data(x=[7910, 2048], edge_index=[2, 38174], y=[7910], pos=[7910, 2], train_mask=[7910], val_mask=[7910], test_mask=[7910])],\n",
       "  'val': [Data(x=[7125, 2048], edge_index=[2, 34687], y=[7125], pos=[7125, 2], train_mask=[7125], val_mask=[7125], test_mask=[7125])]},\n",
       " '355_A1d_ASAP_tumor_map': {'train': [Data(x=[2793, 2048], edge_index=[2, 13597], y=[2793], pos=[2793, 2], train_mask=[2793], val_mask=[2793], test_mask=[2793]),\n",
       "   Data(x=[2950, 2048], edge_index=[2, 14440], y=[2950], pos=[2950, 2], train_mask=[2950], val_mask=[2950], test_mask=[2950])],\n",
       "  'val': [Data(x=[2684, 2048], edge_index=[2, 13052], y=[2684], pos=[2684, 2], train_mask=[2684], val_mask=[2684], test_mask=[2684])]},\n",
       " '356_A1b_ASAP_tumor_map': {'train': [Data(x=[3738, 2048], edge_index=[2, 18284], y=[3738], pos=[3738, 2], train_mask=[3738], val_mask=[3738], test_mask=[3738]),\n",
       "   Data(x=[3631, 2048], edge_index=[2, 17755], y=[3631], pos=[3631, 2], train_mask=[3631], val_mask=[3631], test_mask=[3631])],\n",
       "  'val': [Data(x=[3395, 2048], edge_index=[2, 16605], y=[3395], pos=[3395, 2], train_mask=[3395], val_mask=[3395], test_mask=[3395])]},\n",
       " '358_A1a_ASAP_tumor_map': {'train': [Data(x=[2626, 2048], edge_index=[2, 12492], y=[2626], pos=[2626, 2], train_mask=[2626], val_mask=[2626], test_mask=[2626]),\n",
       "   Data(x=[1742, 2048], edge_index=[2, 8152], y=[1742], pos=[1742, 2], train_mask=[1742], val_mask=[1742], test_mask=[1742]),\n",
       "   Data(x=[2955, 2048], edge_index=[2, 14357], y=[2955], pos=[2955, 2], train_mask=[2955], val_mask=[2955], test_mask=[2955]),\n",
       "   Data(x=[2561, 2048], edge_index=[2, 12297], y=[2561], pos=[2561, 2], train_mask=[2561], val_mask=[2561], test_mask=[2561]),\n",
       "   Data(x=[2825, 2048], edge_index=[2, 13425], y=[2825], pos=[2825, 2], train_mask=[2825], val_mask=[2825], test_mask=[2825])],\n",
       "  'val': [Data(x=[3280, 2048], edge_index=[2, 15970], y=[3280], pos=[3280, 2], train_mask=[3280], val_mask=[3280], test_mask=[3280])]},\n",
       " '358_A1b_ASAP_tumor_map': {'train': [Data(x=[3117, 2048], edge_index=[2, 15001], y=[3117], pos=[3117, 2], train_mask=[3117], val_mask=[3117], test_mask=[3117]),\n",
       "   Data(x=[2663, 2048], edge_index=[2, 12951], y=[2663], pos=[2663, 2], train_mask=[2663], val_mask=[2663], test_mask=[2663]),\n",
       "   Data(x=[5892, 2048], edge_index=[2, 28576], y=[5892], pos=[5892, 2], train_mask=[5892], val_mask=[5892], test_mask=[5892]),\n",
       "   Data(x=[3544, 2048], edge_index=[2, 17260], y=[3544], pos=[3544, 2], train_mask=[3544], val_mask=[3544], test_mask=[3544])],\n",
       "  'val': [Data(x=[3285, 2048], edge_index=[2, 15963], y=[3285], pos=[3285, 2], train_mask=[3285], val_mask=[3285], test_mask=[3285])]},\n",
       " '361_a_ASAP_tumor_map': {'train': [Data(x=[5045, 2048], edge_index=[2, 24627], y=[5045], pos=[5045, 2], train_mask=[5045], val_mask=[5045], test_mask=[5045]),\n",
       "   Data(x=[506, 2048], edge_index=[2, 2386], y=[506], pos=[506, 2], train_mask=[506], val_mask=[506], test_mask=[506]),\n",
       "   Data(x=[8312, 2048], edge_index=[2, 40554], y=[8312], pos=[8312, 2], train_mask=[8312], val_mask=[8312], test_mask=[8312])],\n",
       "  'val': [Data(x=[2890, 2048], edge_index=[2, 14014], y=[2890], pos=[2890, 2], train_mask=[2890], val_mask=[2890], test_mask=[2890])]},\n",
       " '361_b_ASAP_tumor_map': {'train': [Data(x=[15269, 2048], edge_index=[2, 74929], y=[15269], pos=[15269, 2], train_mask=[15269], val_mask=[15269], test_mask=[15269])],\n",
       "  'val': [Data(x=[6360, 2048], edge_index=[2, 31250], y=[6360], pos=[6360, 2], train_mask=[6360], val_mask=[6360], test_mask=[6360])]},\n",
       " '362_A1a_ASAP_tumor_map': {'train': [Data(x=[10656, 2048], edge_index=[2, 52170], y=[10656], pos=[10656, 2], train_mask=[10656], val_mask=[10656], test_mask=[10656])],\n",
       "  'val': [Data(x=[8954, 2048], edge_index=[2, 43558], y=[8954], pos=[8954, 2], train_mask=[8954], val_mask=[8954], test_mask=[8954])]},\n",
       " '362_A1b_ASAP_tumor_map': {'train': [Data(x=[10277, 2048], edge_index=[2, 50425], y=[10277], pos=[10277, 2], train_mask=[10277], val_mask=[10277], test_mask=[10277])],\n",
       "  'val': [Data(x=[10950, 2048], edge_index=[2, 53728], y=[10950], pos=[10950, 2], train_mask=[10950], val_mask=[10950], test_mask=[10950])]},\n",
       " '362_A1c_ASAP_tumor_map': {'train': [Data(x=[8771, 2048], edge_index=[2, 42925], y=[8771], pos=[8771, 2], train_mask=[8771], val_mask=[8771], test_mask=[8771])],\n",
       "  'val': [Data(x=[10025, 2048], edge_index=[2, 49095], y=[10025], pos=[10025, 2], train_mask=[10025], val_mask=[10025], test_mask=[10025])]},\n",
       " '363_A1b_ASAP_tumor_map': {'train': [Data(x=[10713, 2048], edge_index=[2, 52717], y=[10713], pos=[10713, 2], train_mask=[10713], val_mask=[10713], test_mask=[10713])],\n",
       "  'val': [Data(x=[10069, 2048], edge_index=[2, 49471], y=[10069], pos=[10069, 2], train_mask=[10069], val_mask=[10069], test_mask=[10069])]},\n",
       " '363_A1c_ASAP_tumor_map': {'train': [Data(x=[10333, 2048], edge_index=[2, 50949], y=[10333], pos=[10333, 2], train_mask=[10333], val_mask=[10333], test_mask=[10333])],\n",
       "  'val': [Data(x=[10265, 2048], edge_index=[2, 50613], y=[10265], pos=[10265, 2], train_mask=[10265], val_mask=[10265], test_mask=[10265])]},\n",
       " '363_A2b_ASAP_tumor_map': {'train': [Data(x=[8385, 2048], edge_index=[2, 41225], y=[8385], pos=[8385, 2], train_mask=[8385], val_mask=[8385], test_mask=[8385]),\n",
       "   Data(x=[8318, 2048], edge_index=[2, 40800], y=[8318], pos=[8318, 2], train_mask=[8318], val_mask=[8318], test_mask=[8318])],\n",
       "  'val': [Data(x=[8570, 2048], edge_index=[2, 42180], y=[8570], pos=[8570, 2], train_mask=[8570], val_mask=[8570], test_mask=[8570])]},\n",
       " '363_A3b_ASAP_tumor_map': {'train': [Data(x=[11918, 2048], edge_index=[2, 58766], y=[11918], pos=[11918, 2], train_mask=[11918], val_mask=[11918], test_mask=[11918])],\n",
       "  'val': [Data(x=[11553, 2048], edge_index=[2, 56695], y=[11553], pos=[11553, 2], train_mask=[11553], val_mask=[11553], test_mask=[11553])]},\n",
       " '364_A1b_ASAP_tumor_map': {'train': [Data(x=[7890, 2048], edge_index=[2, 38608], y=[7890], pos=[7890, 2], train_mask=[7890], val_mask=[7890], test_mask=[7890]),\n",
       "   Data(x=[7228, 2048], edge_index=[2, 35234], y=[7228], pos=[7228, 2], train_mask=[7228], val_mask=[7228], test_mask=[7228])],\n",
       "  'val': [Data(x=[7129, 2048], edge_index=[2, 34695], y=[7129], pos=[7129, 2], train_mask=[7129], val_mask=[7129], test_mask=[7129])]},\n",
       " '364_A2b_ASAP_tumor_map': {'train': [Data(x=[7762, 2048], edge_index=[2, 37502], y=[7762], pos=[7762, 2], train_mask=[7762], val_mask=[7762], test_mask=[7762]),\n",
       "   Data(x=[6950, 2048], edge_index=[2, 33088], y=[6950], pos=[6950, 2], train_mask=[6950], val_mask=[6950], test_mask=[6950])],\n",
       "  'val': [Data(x=[7887, 2048], edge_index=[2, 38045], y=[7887], pos=[7887, 2], train_mask=[7887], val_mask=[7887], test_mask=[7887])]},\n",
       " '364_A4b_ASAP_tumor_map': {'train': [Data(x=[7567, 2048], edge_index=[2, 36695], y=[7567], pos=[7567, 2], train_mask=[7567], val_mask=[7567], test_mask=[7567]),\n",
       "   Data(x=[6416, 2048], edge_index=[2, 30756], y=[6416], pos=[6416, 2], train_mask=[6416], val_mask=[6416], test_mask=[6416])],\n",
       "  'val': [Data(x=[8013, 2048], edge_index=[2, 38809], y=[8013], pos=[8013, 2], train_mask=[8013], val_mask=[8013], test_mask=[8013])]},\n",
       " '365_A1b_ASAP_tumor_map': {'train': [Data(x=[6347, 2048], edge_index=[2, 31109], y=[6347], pos=[6347, 2], train_mask=[6347], val_mask=[6347], test_mask=[6347]),\n",
       "   Data(x=[186, 2048], edge_index=[2, 812], y=[186], pos=[186, 2], train_mask=[186], val_mask=[186], test_mask=[186]),\n",
       "   Data(x=[6236, 2048], edge_index=[2, 30544], y=[6236], pos=[6236, 2], train_mask=[6236], val_mask=[6236], test_mask=[6236])],\n",
       "  'val': [Data(x=[6763, 2048], edge_index=[2, 33205], y=[6763], pos=[6763, 2], train_mask=[6763], val_mask=[6763], test_mask=[6763])]},\n",
       " '365_A2b_ASAP_tumor_map': {'train': [Data(x=[6896, 2048], edge_index=[2, 33746], y=[6896], pos=[6896, 2], train_mask=[6896], val_mask=[6896], test_mask=[6896]),\n",
       "   Data(x=[5952, 2048], edge_index=[2, 29198], y=[5952], pos=[5952, 2], train_mask=[5952], val_mask=[5952], test_mask=[5952])],\n",
       "  'val': [Data(x=[5449, 2048], edge_index=[2, 26585], y=[5449], pos=[5449, 2], train_mask=[5449], val_mask=[5449], test_mask=[5449])]},\n",
       " '366_A1a_ASAP_tumor_map': {'train': [Data(x=[7163, 2048], edge_index=[2, 34633], y=[7163], pos=[7163, 2], train_mask=[7163], val_mask=[7163], test_mask=[7163])],\n",
       "  'val': [Data(x=[6673, 2048], edge_index=[2, 32347], y=[6673], pos=[6673, 2], train_mask=[6673], val_mask=[6673], test_mask=[6673])]},\n",
       " '366_A1b_ASAP_tumor_map': {'train': [Data(x=[8481, 2048], edge_index=[2, 41449], y=[8481], pos=[8481, 2], train_mask=[8481], val_mask=[8481], test_mask=[8481])],\n",
       "  'val': [Data(x=[8178, 2048], edge_index=[2, 39998], y=[8178], pos=[8178, 2], train_mask=[8178], val_mask=[8178], test_mask=[8178])]},\n",
       " '366_A1c_ASAP_tumor_map': {'train': [Data(x=[8477, 2048], edge_index=[2, 41553], y=[8477], pos=[8477, 2], train_mask=[8477], val_mask=[8477], test_mask=[8477])],\n",
       "  'val': [Data(x=[8539, 2048], edge_index=[2, 41785], y=[8539], pos=[8539, 2], train_mask=[8539], val_mask=[8539], test_mask=[8539])]},\n",
       " '367_A2b_ASAP_tumor_map': {'train': [Data(x=[2290, 2048], edge_index=[2, 11108], y=[2290], pos=[2290, 2], train_mask=[2290], val_mask=[2290], test_mask=[2290]),\n",
       "   Data(x=[2311, 2048], edge_index=[2, 11239], y=[2311], pos=[2311, 2], train_mask=[2311], val_mask=[2311], test_mask=[2311]),\n",
       "   Data(x=[2053, 2048], edge_index=[2, 10031], y=[2053], pos=[2053, 2], train_mask=[2053], val_mask=[2053], test_mask=[2053]),\n",
       "   Data(x=[2518, 2048], edge_index=[2, 12228], y=[2518], pos=[2518, 2], train_mask=[2518], val_mask=[2518], test_mask=[2518])],\n",
       "  'val': [Data(x=[2000, 2048], edge_index=[2, 9724], y=[2000], pos=[2000, 2], train_mask=[2000], val_mask=[2000], test_mask=[2000])]},\n",
       " '368_A1b_ASAP_tumor_map': {'train': [Data(x=[14939, 2048], edge_index=[2, 73293], y=[14939], pos=[14939, 2], train_mask=[14939], val_mask=[14939], test_mask=[14939])],\n",
       "  'val': [Data(x=[14068, 2048], edge_index=[2, 68870], y=[14068], pos=[14068, 2], train_mask=[14068], val_mask=[14068], test_mask=[14068])]},\n",
       " '368_A1c_ASAP_tumor_map': {'train': [Data(x=[16135, 2048], edge_index=[2, 79453], y=[16135], pos=[16135, 2], train_mask=[16135], val_mask=[16135], test_mask=[16135])],\n",
       "  'val': [Data(x=[15735, 2048], edge_index=[2, 76983], y=[15735], pos=[15735, 2], train_mask=[15735], val_mask=[15735], test_mask=[15735])]},\n",
       " '368_A1d_ASAP_tumor_map': {'train': [Data(x=[17493, 2048], edge_index=[2, 86455], y=[17493], pos=[17493, 2], train_mask=[17493], val_mask=[17493], test_mask=[17493])],\n",
       "  'val': [Data(x=[16641, 2048], edge_index=[2, 81905], y=[16641], pos=[16641, 2], train_mask=[16641], val_mask=[16641], test_mask=[16641])]},\n",
       " '369_A1b_ASAP_tumor_map': {'train': [Data(x=[4862, 2048], edge_index=[2, 23662], y=[4862], pos=[4862, 2], train_mask=[4862], val_mask=[4862], test_mask=[4862]),\n",
       "   Data(x=[5344, 2048], edge_index=[2, 26102], y=[5344], pos=[5344, 2], train_mask=[5344], val_mask=[5344], test_mask=[5344])],\n",
       "  'val': [Data(x=[4344, 2048], edge_index=[2, 21160], y=[4344], pos=[4344, 2], train_mask=[4344], val_mask=[4344], test_mask=[4344])]},\n",
       " '369_A1c_ASAP_tumor_map': {'train': [Data(x=[3579, 2048], edge_index=[2, 17421], y=[3579], pos=[3579, 2], train_mask=[3579], val_mask=[3579], test_mask=[3579]),\n",
       "   Data(x=[2806, 2048], edge_index=[2, 13668], y=[2806], pos=[2806, 2], train_mask=[2806], val_mask=[2806], test_mask=[2806]),\n",
       "   Data(x=[3465, 2048], edge_index=[2, 16751], y=[3465], pos=[3465, 2], train_mask=[3465], val_mask=[3465], test_mask=[3465])],\n",
       "  'val': [Data(x=[3144, 2048], edge_index=[2, 15240], y=[3144], pos=[3144, 2], train_mask=[3144], val_mask=[3144], test_mask=[3144])]},\n",
       " '369_A2b_ASAP_tumor_map': {'train': [Data(x=[3510, 2048], edge_index=[2, 17166], y=[3510], pos=[3510, 2], train_mask=[3510], val_mask=[3510], test_mask=[3510]),\n",
       "   Data(x=[3861, 2048], edge_index=[2, 18849], y=[3861], pos=[3861, 2], train_mask=[3861], val_mask=[3861], test_mask=[3861]),\n",
       "   Data(x=[1230, 2048], edge_index=[2, 5880], y=[1230], pos=[1230, 2], train_mask=[1230], val_mask=[1230], test_mask=[1230]),\n",
       "   Data(x=[1299, 2048], edge_index=[2, 6165], y=[1299], pos=[1299, 2], train_mask=[1299], val_mask=[1299], test_mask=[1299]),\n",
       "   Data(x=[3534, 2048], edge_index=[2, 17090], y=[3534], pos=[3534, 2], train_mask=[3534], val_mask=[3534], test_mask=[3534])],\n",
       "  'val': [Data(x=[851, 2048], edge_index=[2, 4003], y=[851], pos=[851, 2], train_mask=[851], val_mask=[851], test_mask=[851])]},\n",
       " '370_A1b_ASAP_tumor_map': {'train': [Data(x=[3522, 2048], edge_index=[2, 17230], y=[3522], pos=[3522, 2], train_mask=[3522], val_mask=[3522], test_mask=[3522]),\n",
       "   Data(x=[3468, 2048], edge_index=[2, 16934], y=[3468], pos=[3468, 2], train_mask=[3468], val_mask=[3468], test_mask=[3468])],\n",
       "  'val': [Data(x=[3362, 2048], edge_index=[2, 16446], y=[3362], pos=[3362, 2], train_mask=[3362], val_mask=[3362], test_mask=[3362])]},\n",
       " '370_A2a_ASAP_tumor_map': {'train': [Data(x=[3051, 2048], edge_index=[2, 14891], y=[3051], pos=[3051, 2], train_mask=[3051], val_mask=[3051], test_mask=[3051]),\n",
       "   Data(x=[2460, 2048], edge_index=[2, 11918], y=[2460], pos=[2460, 2], train_mask=[2460], val_mask=[2460], test_mask=[2460])],\n",
       "  'val': [Data(x=[3383, 2048], edge_index=[2, 16557], y=[3383], pos=[3383, 2], train_mask=[3383], val_mask=[3383], test_mask=[3383])]},\n",
       " '370_A2b_ASAP_tumor_map': {'train': [Data(x=[3236, 2048], edge_index=[2, 15876], y=[3236], pos=[3236, 2], train_mask=[3236], val_mask=[3236], test_mask=[3236]),\n",
       "   Data(x=[3291, 2048], edge_index=[2, 16135], y=[3291], pos=[3291, 2], train_mask=[3291], val_mask=[3291], test_mask=[3291])],\n",
       "  'val': [Data(x=[3095, 2048], edge_index=[2, 15181], y=[3095], pos=[3095, 2], train_mask=[3095], val_mask=[3095], test_mask=[3095])]},\n",
       " '37_A2d_ASAP_tumor_map': {'train': [Data(x=[7697, 2048], edge_index=[2, 36761], y=[7697], pos=[7697, 2], train_mask=[7697], val_mask=[7697], test_mask=[7697])],\n",
       "  'val': [Data(x=[7718, 2048], edge_index=[2, 36598], y=[7718], pos=[7718, 2], train_mask=[7718], val_mask=[7718], test_mask=[7718])]},\n",
       " '61_A1a_ASAP_tumor_map': {'train': [Data(x=[1708, 2048], edge_index=[2, 8198], y=[1708], pos=[1708, 2], train_mask=[1708], val_mask=[1708], test_mask=[1708]),\n",
       "   Data(x=[2059, 2048], edge_index=[2, 9967], y=[2059], pos=[2059, 2], train_mask=[2059], val_mask=[2059], test_mask=[2059]),\n",
       "   Data(x=[2178, 2048], edge_index=[2, 10598], y=[2178], pos=[2178, 2], train_mask=[2178], val_mask=[2178], test_mask=[2178]),\n",
       "   Data(x=[2096, 2048], edge_index=[2, 10164], y=[2096], pos=[2096, 2], train_mask=[2096], val_mask=[2096], test_mask=[2096])],\n",
       "  'val': [Data(x=[2201, 2048], edge_index=[2, 10721], y=[2201], pos=[2201, 2], train_mask=[2201], val_mask=[2201], test_mask=[2201])]},\n",
       " '61_B1a_ASAP_tumor_map': {'train': [Data(x=[2145, 2048], edge_index=[2, 10425], y=[2145], pos=[2145, 2], train_mask=[2145], val_mask=[2145], test_mask=[2145]),\n",
       "   Data(x=[212, 2048], edge_index=[2, 974], y=[212], pos=[212, 2], train_mask=[212], val_mask=[212], test_mask=[212]),\n",
       "   Data(x=[2055, 2048], edge_index=[2, 9939], y=[2055], pos=[2055, 2], train_mask=[2055], val_mask=[2055], test_mask=[2055]),\n",
       "   Data(x=[1275, 2048], edge_index=[2, 6075], y=[1275], pos=[1275, 2], train_mask=[1275], val_mask=[1275], test_mask=[1275]),\n",
       "   Data(x=[1771, 2048], edge_index=[2, 8535], y=[1771], pos=[1771, 2], train_mask=[1771], val_mask=[1771], test_mask=[1771])],\n",
       "  'val': [Data(x=[2088, 2048], edge_index=[2, 10144], y=[2088], pos=[2088, 2], train_mask=[2088], val_mask=[2088], test_mask=[2088])]},\n",
       " '70_A2b_ASAP_tumor_map': {'train': [Data(x=[1686, 2048], edge_index=[2, 8148], y=[1686], pos=[1686, 2], train_mask=[1686], val_mask=[1686], test_mask=[1686]),\n",
       "   Data(x=[1663, 2048], edge_index=[2, 8025], y=[1663], pos=[1663, 2], train_mask=[1663], val_mask=[1663], test_mask=[1663]),\n",
       "   Data(x=[1787, 2048], edge_index=[2, 8725], y=[1787], pos=[1787, 2], train_mask=[1787], val_mask=[1787], test_mask=[1787]),\n",
       "   Data(x=[1805, 2048], edge_index=[2, 8797], y=[1805], pos=[1805, 2], train_mask=[1805], val_mask=[1805], test_mask=[1805]),\n",
       "   Data(x=[1665, 2048], edge_index=[2, 8099], y=[1665], pos=[1665, 2], train_mask=[1665], val_mask=[1665], test_mask=[1665])],\n",
       "  'val': [Data(x=[1672, 2048], edge_index=[2, 8158], y=[1672], pos=[1672, 2], train_mask=[1672], val_mask=[1672], test_mask=[1672])]},\n",
       " '7_A1c_ASAP_tumor_map': {'train': [Data(x=[6353, 2048], edge_index=[2, 31203], y=[6353], pos=[6353, 2], train_mask=[6353], val_mask=[6353], test_mask=[6353]),\n",
       "   Data(x=[6222, 2048], edge_index=[2, 30556], y=[6222], pos=[6222, 2], train_mask=[6222], val_mask=[6222], test_mask=[6222])],\n",
       "  'val': [Data(x=[5921, 2048], edge_index=[2, 29101], y=[5921], pos=[5921, 2], train_mask=[5921], val_mask=[5921], test_mask=[5921])]},\n",
       " '7_A1d_ASAP_tumor_map': {'train': [Data(x=[5494, 2048], edge_index=[2, 26986], y=[5494], pos=[5494, 2], train_mask=[5494], val_mask=[5494], test_mask=[5494]),\n",
       "   Data(x=[5831, 2048], edge_index=[2, 28669], y=[5831], pos=[5831, 2], train_mask=[5831], val_mask=[5831], test_mask=[5831])],\n",
       "  'val': [Data(x=[5516, 2048], edge_index=[2, 27058], y=[5516], pos=[5516, 2], train_mask=[5516], val_mask=[5516], test_mask=[5516])]},\n",
       " '7_A1e_ASAP_tumor_map': {'train': [Data(x=[4710, 2048], edge_index=[2, 23116], y=[4710], pos=[4710, 2], train_mask=[4710], val_mask=[4710], test_mask=[4710]),\n",
       "   Data(x=[5083, 2048], edge_index=[2, 24985], y=[5083], pos=[5083, 2], train_mask=[5083], val_mask=[5083], test_mask=[5083])],\n",
       "  'val': [Data(x=[4639, 2048], edge_index=[2, 22765], y=[4639], pos=[4639, 2], train_mask=[4639], val_mask=[4639], test_mask=[4639])]}}"
      ]
     },
     "execution_count": 18,
     "metadata": {},
     "output_type": "execute_result"
    }
   ],
   "source": [
    "e"
   ]
  },
  {
   "cell_type": "code",
   "execution_count": 19,
   "id": "221186af",
   "metadata": {},
   "outputs": [
    {
     "name": "stdout",
     "output_type": "stream",
     "text": [
      "Tue Dec 20 23:37:36 2022       \n",
      "+-----------------------------------------------------------------------------+\n",
      "| NVIDIA-SMI 510.47.03    Driver Version: 510.47.03    CUDA Version: 11.6     |\n",
      "|-------------------------------+----------------------+----------------------+\n",
      "| GPU  Name        Persistence-M| Bus-Id        Disp.A | Volatile Uncorr. ECC |\n",
      "| Fan  Temp  Perf  Pwr:Usage/Cap|         Memory-Usage | GPU-Util  Compute M. |\n",
      "|                               |                      |               MIG M. |\n",
      "|===============================+======================+======================|\n",
      "|   0  Tesla V100-SXM2...  Off  | 00000000:18:00.0 Off |                    0 |\n",
      "| N/A   41C    P0    74W / 300W |   2132MiB / 32768MiB |     42%   E. Process |\n",
      "|                               |                      |                  N/A |\n",
      "+-------------------------------+----------------------+----------------------+\n",
      "|   1  Tesla V100-SXM2...  Off  | 00000000:3B:00.0 Off |                    0 |\n",
      "| N/A   29C    P0    39W / 300W |      3MiB / 32768MiB |      0%   E. Process |\n",
      "|                               |                      |                  N/A |\n",
      "+-------------------------------+----------------------+----------------------+\n",
      "|   2  Tesla V100-SXM2...  Off  | 00000000:86:00.0 Off |                    0 |\n",
      "| N/A   27C    P0    39W / 300W |      3MiB / 32768MiB |      0%   E. Process |\n",
      "|                               |                      |                  N/A |\n",
      "+-------------------------------+----------------------+----------------------+\n",
      "|   3  Tesla V100-SXM2...  Off  | 00000000:AF:00.0 Off |                    0 |\n",
      "| N/A   30C    P0    40W / 300W |      3MiB / 32768MiB |      0%      Default |\n",
      "|                               |                      |                  N/A |\n",
      "+-------------------------------+----------------------+----------------------+\n",
      "                                                                               \n",
      "+-----------------------------------------------------------------------------+\n",
      "| Processes:                                                                  |\n",
      "|  GPU   GI   CI        PID   Type   Process name                  GPU Memory |\n",
      "|        ID   ID                                                   Usage      |\n",
      "|=============================================================================|\n",
      "|    0   N/A  N/A    241478      C   ...nda3/envs/hiss/bin/python     2129MiB |\n",
      "+-----------------------------------------------------------------------------+\n"
     ]
    }
   ],
   "source": [
    "!nvidia-smi"
   ]
  },
  {
   "cell_type": "code",
   "execution_count": 2,
   "id": "974d9ab8",
   "metadata": {},
   "outputs": [],
   "source": [
    "import pandas as pd\n",
    "import torch\n",
    "e=torch.load(\"/dartfs/rc/nosnapshots/V/VaickusL-nb/EDIT_Students/users/Sophie_Chen/cnn_embeddings/7_A1d_ASAP_tumor_map.pkl\")"
   ]
  },
  {
   "cell_type": "code",
   "execution_count": 3,
   "id": "f17e7023",
   "metadata": {
    "scrolled": true
   },
   "outputs": [
    {
     "data": {
      "text/plain": [
       "{'embeddings': array([[  74.16347 ,   77.23718 ,  910.82556 , ...,   76.0359  ,\n",
       "         1116.2341  , 2357.2185  ],\n",
       "        [  67.3526  ,   86.756546,  881.6731  , ...,   78.82091 ,\n",
       "         1090.5277  , 2317.262   ],\n",
       "        [  49.52798 ,   77.0425  ,  492.2309  , ...,  114.142586,\n",
       "          758.39246 , 1577.464   ],\n",
       "        ...,\n",
       "        [  76.5256  ,   77.83744 ,  691.3006  , ...,  100.117546,\n",
       "          931.68726 , 2067.2043  ],\n",
       "        [  54.594597,   48.091347,  819.1297  , ...,   79.47032 ,\n",
       "          848.91907 , 2026.8959  ],\n",
       "        [  56.471123,   45.852936,  893.09344 , ...,  100.63023 ,\n",
       "         1033.5111  , 2287.923   ]], dtype=float32),\n",
       " 'patch_info':                ID      x      y  patch_size annotation  y_true  inflamm  scc\n",
       " 0      7_A1d_ASAP   1024  14848         256          0       0        0    0\n",
       " 1      7_A1d_ASAP   1280  14336         256          0       0        0    0\n",
       " 2      7_A1d_ASAP   1280  14592         256          0       0        0    0\n",
       " 3      7_A1d_ASAP   1280  14848         256          0       0        0    0\n",
       " 4      7_A1d_ASAP   1280  15104         256          0       0        0    0\n",
       " ...           ...    ...    ...         ...        ...     ...      ...  ...\n",
       " 16836  7_A1d_ASAP  80384  16640         256          0       0        0    0\n",
       " 16837  7_A1d_ASAP  80384  16896         256          0       0        0    0\n",
       " 16838  7_A1d_ASAP  80384  17152         256          0       0        0    0\n",
       " 16839  7_A1d_ASAP  80384  17408         256          0       0        0    0\n",
       " 16840  7_A1d_ASAP  80384  17664         256          0       0        0    0\n",
       " \n",
       " [16841 rows x 8 columns],\n",
       " 'pos_xy': array([[ 1024, 14848],\n",
       "        [ 1280, 14336],\n",
       "        [ 1280, 14592],\n",
       "        ...,\n",
       "        [80384, 17152],\n",
       "        [80384, 17408],\n",
       "        [80384, 17664]])}"
      ]
     },
     "execution_count": 3,
     "metadata": {},
     "output_type": "execute_result"
    }
   ],
   "source": [
    "e"
   ]
  },
  {
   "cell_type": "code",
   "execution_count": null,
   "id": "306cf120",
   "metadata": {},
   "outputs": [],
   "source": []
  }
 ],
 "metadata": {
  "kernelspec": {
   "display_name": "hiss",
   "language": "python",
   "name": "hiss"
  },
  "language_info": {
   "codemirror_mode": {
    "name": "ipython",
    "version": 3
   },
   "file_extension": ".py",
   "mimetype": "text/x-python",
   "name": "python",
   "nbconvert_exporter": "python",
   "pygments_lexer": "ipython3",
   "version": "3.8.13"
  }
 },
 "nbformat": 4,
 "nbformat_minor": 5
}
