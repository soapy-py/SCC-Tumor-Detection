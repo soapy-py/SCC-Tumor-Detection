{
 "cells": [
  {
   "cell_type": "code",
   "execution_count": 3,
   "id": "90e64b6e",
   "metadata": {
    "scrolled": true
   },
   "outputs": [
    {
     "name": "stderr",
     "output_type": "stream",
     "text": [
      "2022-12-20 22:34:24.333106: I tensorflow/core/util/util.cc:169] oneDNN custom operations are on. You may see slightly different numerical results due to floating-point round-off errors from different computation orders. To turn them off, set the environment variable `TF_ENABLE_ONEDNN_OPTS=0`.\n"
     ]
    }
   ],
   "source": [
    "import torch\n",
    "import os \n",
    "import sys\n",
    "import umap, numba\n",
    "import numpy as np\n",
    "import tqdm\n",
    "import glob, pandas as pd\n",
    "import pickle\n",
    "import fire\n",
    "import scipy.sparse as sps\n",
    "from visdom import Visdom\n",
    "from sklearn.metrics import f1_score\n",
    "import copy\n",
    "import torch.nn.functional as F\n",
    "from torch import nn\n",
    "from sklearn.preprocessing import LabelEncoder\n",
    "import torch_cluster\n",
    "from torch_cluster import knn_graph\n",
    "from torch_geometric.data import Data \n",
    "from torch_geometric.utils import train_test_split_edges\n",
    "from torch_geometric.utils.convert import to_networkx\n",
    "from torch_geometric.data import InMemoryDataset,DataLoader\n",
    "from torch_geometric.utils import add_remaining_self_loops\n",
    "from torch_cluster import radius_graph\n",
    "from torch_geometric.utils import subgraph"
   ]
  },
  {
   "cell_type": "code",
   "execution_count": 4,
   "id": "b71ddafe",
   "metadata": {},
   "outputs": [],
   "source": [
    "IDs=['109_A1c_ASAP_tumor_map', '10_A1a_ASAP_tumor_map', '10_A1b_ASAP_tumor_map', '10_A2b_ASAP_tumor_map', '110_A2b_ASAP_tumor_map', '112_a_ASAP_tumor_map', '112_b_ASAP_tumor_map', '123_A1a_ASAP_tumor_map', '12_A1c_ASAP_tumor_map', '14_A1b_ASAP_tumor_map', '14_A2b_ASAP_tumor_map', '169_A2b_ASAP_tumor_map', '270_A1b_ASAP_tumor_map', '270_A1d_ASAP_tumor_map', '270_A1e_ASAP_tumor_map', '270_A2b_ASAP_tumor_map', '270_A2f_ASAP_tumor_map', '281_A1d_ASAP_tumor_map', '281_A1f_ASAP_tumor_map', '281_A2eX_ASAP_tumor_map', '311_A2c_ASAP_tumor_map', '327_A1a_ASAP_tumor_map', '327_A1d_ASAP_tumor_map', '327_B1c_ASAP_tumor_map', '341_a_ASAP_tumor_map', '341_b_ASAP_tumor_map', '342_a_ASAP_tumor_map', '342_b_ASAP_tumor_map', '343_a_ASAP_tumor_map', '343_b_ASAP_tumor_map', '343_c_ASAP_tumor_map', '343_d_ASAP_tumor_map', '344_a_ASAP_tumor_map', '344_b_ASAP_tumor_map', '345_a_ASAP_tumor_map', '345_b_ASAP_tumor_map', '346_a_ASAP_tumor_map', '346_b_ASAP_tumor_map', '350_A1a_ASAP_tumor_map', '350_A1b_ASAP_tumor_map', '350_A1c_ASAP_tumor_map', '350_A1d_ASAP_tumor_map', '350_A1e_ASAP_tumor_map', '351_A2b_ASAP_tumor_map', '352_A1d_ASAP_tumor_map', '352_A1e_ASAP_tumor_map', '352_A1g_ASAP_tumor_map', '352_A1h_ASAP_tumor_map', '352_A1i_ASAP_tumor_map', '353_A2b_ASAP_tumor_map', '354_A1b_ASAP_tumor_map', '354_A1c_ASAP_tumor_map', '354_A1d_ASAP_tumor_map', '354_A3a_ASAP_tumor_map', '354_A3b_ASAP_tumor_map', '354_A3c_ASAP_tumor_map', '354_D1b_ASAP_tumor_map', '355_A1d_ASAP_tumor_map', '356_A1b_ASAP_tumor_map', '358_A1a_ASAP_tumor_map', '358_A1b_ASAP_tumor_map', '361_a_ASAP_tumor_map', '361_b_ASAP_tumor_map', '362_A1a_ASAP_tumor_map', '362_A1b_ASAP_tumor_map', '362_A1c_ASAP_tumor_map', '363_A1b_ASAP_tumor_map', '363_A1c_ASAP_tumor_map', '363_A2b_ASAP_tumor_map', '363_A3b_ASAP_tumor_map', '364_A1b_ASAP_tumor_map', '364_A2b_ASAP_tumor_map', '364_A4b_ASAP_tumor_map', '365_A1b_ASAP_tumor_map', '365_A2b_ASAP_tumor_map', '366_A1a_ASAP_tumor_map', '366_A1b_ASAP_tumor_map', '366_A1c_ASAP_tumor_map', '367_A2b_ASAP_tumor_map', '368_A1b_ASAP_tumor_map', '368_A1c_ASAP_tumor_map', '368_A1d_ASAP_tumor_map', '369_A1b_ASAP_tumor_map', '369_A1c_ASAP_tumor_map', '369_A2b_ASAP_tumor_map', '370_A1b_ASAP_tumor_map', '370_A2a_ASAP_tumor_map', '370_A2b_ASAP_tumor_map', '37_A2d_ASAP_tumor_map', '61_A1a_ASAP_tumor_map', '61_B1a_ASAP_tumor_map', '70_A2b_ASAP_tumor_map', '7_A1c_ASAP_tumor_map', '7_A1d_ASAP_tumor_map', '7_A1e_ASAP_tumor_map']"
   ]
  },
  {
   "cell_type": "code",
   "execution_count": 5,
   "id": "2f5ceacd",
   "metadata": {},
   "outputs": [],
   "source": [
    "\n",
    "#TUMOR_PERCENT=0.2\n",
    "\n",
    "def get_graph_dataset(embedding_dir='', \n",
    "                      basename='', \n",
    "                      target_col='scc',  \n",
    "                      k=8,\n",
    "                      radius=0,\n",
    "                      dataset_save_loc=''):\n",
    "    with open(os.path.join(embedding_dir,f\"{basename}\"),\"rb\") as file:\n",
    "        embeddings=torch.load(file) \n",
    "    df=embeddings['patch_info']\n",
    "    X=pd.DataFrame(embeddings['embeddings'])\n",
    "    df['y_true']=df[target_col]\n",
    "    xy=torch.tensor(embeddings['patch_info'][['x','y']].values)\n",
    "    X=torch.tensor(X.values)\n",
    "    y=torch.tensor(df.loc[:,'y_true'].values)\n",
    "    \n",
    "    if not radius:\n",
    "        G=knn_graph(xy,k=k)\n",
    "    else:\n",
    "        G=radius_graph(xy, r=radius*np.sqrt(2), batch=None, loop=True)\n",
    "    G=(add_remaining_self_loops(G)[0]).detach().cpu()\n",
    "    xy=xy.detach().cpu()\n",
    "    datasets=[]\n",
    "    edges=G.detach().cpu().numpy().astype(int)\n",
    "    n_components,components=list(sps.csgraph.connected_components(sps.coo_matrix((np.ones_like(edges[0]),(edges[0],edges[1])))))\n",
    "    components=torch.LongTensor(components)\n",
    "    for i in range(n_components):\n",
    "        G_new=subgraph(components==i,G,relabel_nodes=True)[0]\n",
    "        xy_new=xy[components==i]\n",
    "        X_new=X[components==i]\n",
    "        y_new=y[components==i]\n",
    "        #y_whole_slide_image_label=y_new.float().mean()>=TUMOR_PERCENT\n",
    "        np.random.seed(42)\n",
    "        idx=np.arange(X_new.shape[0])\n",
    "        idx2=np.arange(X_new.shape[0])\n",
    "        np.random.shuffle(idx)\n",
    "        train_idx,val_idx,test_idx=torch.tensor(np.isin(idx2,idx[:int(0.8*len(idx))])),torch.tensor(np.isin(idx2,idx[int(0.8*len(idx)):int(0.9*len(idx))])),torch.tensor(np.isin(idx2,idx[int(0.9*len(idx)):]))\n",
    "        dataset=Data(x=X_new, edge_index=G_new, edge_attr=None, y=y_new, pos=xy_new)\n",
    "        dataset.train_mask=train_idx\n",
    "        dataset.val_mask=val_idx\n",
    "        dataset.test_mask=test_idx\n",
    "        datasets.append(dataset)\n",
    "    #components=components.numpy()\n",
    "    \n",
    "\n",
    "    return datasets\n",
    "    torch.save(datasets,dataset_save_loc)\n",
    "\n"
   ]
  },
  {
   "cell_type": "code",
   "execution_count": 45,
   "id": "8b48c4db",
   "metadata": {
    "scrolled": false
   },
   "outputs": [
    {
     "data": {
      "text/plain": [
       "[Data(x=[20589, 2048], edge_index=[2, 102219], y=[20589], pos=[20589, 2], train_mask=[20589], val_mask=[20589], test_mask=[20589]),\n",
       " Data(x=[20706, 2048], edge_index=[2, 102704], y=[20706], pos=[20706, 2], train_mask=[20706], val_mask=[20706], test_mask=[20706])]"
      ]
     },
     "execution_count": 45,
     "metadata": {},
     "output_type": "execute_result"
    }
   ],
   "source": [
    "\n",
    "get_graph_dataset(embedding_dir=\"/dartfs/rc/nosnapshots/V/VaickusL-nb/EDIT_Students/users/Sophie_Chen/cnn_embeddings/\",\n",
    "                  basename='109_A1c_ASAP_tumor_map' +'.pkl',\n",
    "                  target_col='scc',\n",
    "                  k=8,\n",
    "                  radius=256,\n",
    "                  dataset_save_loc=f\"/dartfs/rc/nosnapshots/V/VaickusL-nb/EDIT_Students/users/Sophie_Chen/graph_dataset/112_a_ASAP_tumor_map.pkl\")"
   ]
  },
  {
   "cell_type": "code",
   "execution_count": 37,
   "id": "3df6333e",
   "metadata": {
    "scrolled": false
   },
   "outputs": [
    {
     "name": "stderr",
     "output_type": "stream",
     "text": [
      "100%|██████████████████████████████████████████████████████████████████████████| 95/95 [01:32<00:00,  1.03it/s]\n"
     ]
    }
   ],
   "source": [
    "IDs=['109_A1c_ASAP_tumor_map', '10_A1a_ASAP_tumor_map', '10_A1b_ASAP_tumor_map', '10_A2b_ASAP_tumor_map', '110_A2b_ASAP_tumor_map', '112_a_ASAP_tumor_map', '112_b_ASAP_tumor_map', '123_A1a_ASAP_tumor_map', '12_A1c_ASAP_tumor_map', '14_A1b_ASAP_tumor_map', '14_A2b_ASAP_tumor_map', '169_A2b_ASAP_tumor_map', '270_A1b_ASAP_tumor_map', '270_A1d_ASAP_tumor_map', '270_A1e_ASAP_tumor_map', '270_A2b_ASAP_tumor_map', '270_A2f_ASAP_tumor_map', '281_A1d_ASAP_tumor_map', '281_A1f_ASAP_tumor_map', '281_A2eX_ASAP_tumor_map', '311_A2c_ASAP_tumor_map', '327_A1a_ASAP_tumor_map', '327_A1d_ASAP_tumor_map', '327_B1c_ASAP_tumor_map', '341_a_ASAP_tumor_map', '341_b_ASAP_tumor_map', '342_a_ASAP_tumor_map', '342_b_ASAP_tumor_map', '343_a_ASAP_tumor_map', '343_b_ASAP_tumor_map', '343_c_ASAP_tumor_map', '343_d_ASAP_tumor_map', '344_a_ASAP_tumor_map', '344_b_ASAP_tumor_map', '345_a_ASAP_tumor_map', '345_b_ASAP_tumor_map', '346_a_ASAP_tumor_map', '346_b_ASAP_tumor_map', '350_A1a_ASAP_tumor_map', '350_A1b_ASAP_tumor_map', '350_A1c_ASAP_tumor_map', '350_A1d_ASAP_tumor_map', '350_A1e_ASAP_tumor_map', '351_A2b_ASAP_tumor_map', '352_A1d_ASAP_tumor_map', '352_A1e_ASAP_tumor_map', '352_A1g_ASAP_tumor_map', '352_A1h_ASAP_tumor_map', '352_A1i_ASAP_tumor_map', '353_A2b_ASAP_tumor_map', '354_A1b_ASAP_tumor_map', '354_A1c_ASAP_tumor_map', '354_A1d_ASAP_tumor_map', '354_A3a_ASAP_tumor_map', '354_A3b_ASAP_tumor_map', '354_A3c_ASAP_tumor_map', '354_D1b_ASAP_tumor_map', '355_A1d_ASAP_tumor_map', '356_A1b_ASAP_tumor_map', '358_A1a_ASAP_tumor_map', '358_A1b_ASAP_tumor_map', '361_a_ASAP_tumor_map', '361_b_ASAP_tumor_map', '362_A1a_ASAP_tumor_map', '362_A1b_ASAP_tumor_map', '362_A1c_ASAP_tumor_map', '363_A1b_ASAP_tumor_map', '363_A1c_ASAP_tumor_map', '363_A2b_ASAP_tumor_map', '363_A3b_ASAP_tumor_map', '364_A1b_ASAP_tumor_map', '364_A2b_ASAP_tumor_map', '364_A4b_ASAP_tumor_map', '365_A1b_ASAP_tumor_map', '365_A2b_ASAP_tumor_map', '366_A1a_ASAP_tumor_map', '366_A1b_ASAP_tumor_map', '366_A1c_ASAP_tumor_map', '367_A2b_ASAP_tumor_map', '368_A1b_ASAP_tumor_map', '368_A1c_ASAP_tumor_map', '368_A1d_ASAP_tumor_map', '369_A1b_ASAP_tumor_map', '369_A1c_ASAP_tumor_map', '369_A2b_ASAP_tumor_map', '370_A1b_ASAP_tumor_map', '370_A2a_ASAP_tumor_map', '370_A2b_ASAP_tumor_map', '37_A2d_ASAP_tumor_map', '61_A1a_ASAP_tumor_map', '61_B1a_ASAP_tumor_map', '70_A2b_ASAP_tumor_map', '7_A1c_ASAP_tumor_map', '7_A1d_ASAP_tumor_map', '7_A1e_ASAP_tumor_map']\n",
    "\n",
    "for ID in tqdm.tqdm(IDs):\n",
    "    get_graph_dataset(embedding_dir=\"/dartfs/rc/nosnapshots/V/VaickusL-nb/EDIT_Students/users/Sophie_Chen/cnn_embeddings/\",\n",
    "                  basename=ID +'.pkl',\n",
    "                  target_col='scc',\n",
    "                  k=8,\n",
    "                  radius=256)\n",
    "    \n"
   ]
  },
  {
   "cell_type": "code",
   "execution_count": 40,
   "id": "7fb21fd4",
   "metadata": {},
   "outputs": [],
   "source": [
    "IDs=['109_A1c_ASAP_tumor_map', '10_A1a_ASAP_tumor_map', '10_A1b_ASAP_tumor_map', '10_A2b_ASAP_tumor_map', '110_A2b_ASAP_tumor_map', '112_a_ASAP_tumor_map', '112_b_ASAP_tumor_map', '123_A1a_ASAP_tumor_map', '12_A1c_ASAP_tumor_map', '14_A1b_ASAP_tumor_map', '14_A2b_ASAP_tumor_map', '169_A2b_ASAP_tumor_map', '270_A1b_ASAP_tumor_map', '270_A1d_ASAP_tumor_map', '270_A1e_ASAP_tumor_map', '270_A2b_ASAP_tumor_map', '270_A2f_ASAP_tumor_map', '281_A1d_ASAP_tumor_map', '281_A1f_ASAP_tumor_map', '281_A2eX_ASAP_tumor_map', '311_A2c_ASAP_tumor_map', '327_A1a_ASAP_tumor_map', '327_A1d_ASAP_tumor_map', '327_B1c_ASAP_tumor_map', '341_a_ASAP_tumor_map', '341_b_ASAP_tumor_map', '342_a_ASAP_tumor_map', '342_b_ASAP_tumor_map', '343_a_ASAP_tumor_map', '343_b_ASAP_tumor_map', '343_c_ASAP_tumor_map', '343_d_ASAP_tumor_map', '344_a_ASAP_tumor_map', '344_b_ASAP_tumor_map', '345_a_ASAP_tumor_map', '345_b_ASAP_tumor_map', '346_a_ASAP_tumor_map', '346_b_ASAP_tumor_map', '350_A1a_ASAP_tumor_map', '350_A1b_ASAP_tumor_map', '350_A1c_ASAP_tumor_map', '350_A1d_ASAP_tumor_map', '350_A1e_ASAP_tumor_map', '351_A2b_ASAP_tumor_map', '352_A1d_ASAP_tumor_map', '352_A1e_ASAP_tumor_map', '352_A1g_ASAP_tumor_map', '352_A1h_ASAP_tumor_map', '352_A1i_ASAP_tumor_map', '353_A2b_ASAP_tumor_map', '354_A1b_ASAP_tumor_map', '354_A1c_ASAP_tumor_map', '354_A1d_ASAP_tumor_map', '354_A3a_ASAP_tumor_map', '354_A3b_ASAP_tumor_map', '354_A3c_ASAP_tumor_map', '354_D1b_ASAP_tumor_map', '355_A1d_ASAP_tumor_map', '356_A1b_ASAP_tumor_map', '358_A1a_ASAP_tumor_map', '358_A1b_ASAP_tumor_map', '361_a_ASAP_tumor_map', '361_b_ASAP_tumor_map', '362_A1a_ASAP_tumor_map', '362_A1b_ASAP_tumor_map', '362_A1c_ASAP_tumor_map', '363_A1b_ASAP_tumor_map', '363_A1c_ASAP_tumor_map', '363_A2b_ASAP_tumor_map', '363_A3b_ASAP_tumor_map', '364_A1b_ASAP_tumor_map', '364_A2b_ASAP_tumor_map', '364_A4b_ASAP_tumor_map', '365_A1b_ASAP_tumor_map', '365_A2b_ASAP_tumor_map', '366_A1a_ASAP_tumor_map', '366_A1b_ASAP_tumor_map', '366_A1c_ASAP_tumor_map', '367_A2b_ASAP_tumor_map', '368_A1b_ASAP_tumor_map', '368_A1c_ASAP_tumor_map', '368_A1d_ASAP_tumor_map', '369_A1b_ASAP_tumor_map', '369_A1c_ASAP_tumor_map', '369_A2b_ASAP_tumor_map', '370_A1b_ASAP_tumor_map', '370_A2a_ASAP_tumor_map', '370_A2b_ASAP_tumor_map', '37_A2d_ASAP_tumor_map', '61_A1a_ASAP_tumor_map', '61_B1a_ASAP_tumor_map', '70_A2b_ASAP_tumor_map', '7_A1c_ASAP_tumor_map', '7_A1d_ASAP_tumor_map', '7_A1e_ASAP_tumor_map']\n",
    "\n",
    "all_dataset=[]\n",
    "for ID in (IDs):\n",
    "    graph_dataset=get_graph_dataset(embedding_dir=\"/dartfs/rc/nosnapshots/V/VaickusL-nb/EDIT_Students/users/Sophie_Chen/cnn_embeddings/\",\n",
    "                  basename=ID +'.pkl',\n",
    "                  target_col='scc',\n",
    "                  k=8,\n",
    "                  radius=256)\n",
    "    all_dataset.append(graph_dataset)"
   ]
  },
  {
   "cell_type": "code",
   "execution_count": 44,
   "id": "2afce4ad",
   "metadata": {
    "scrolled": true
   },
   "outputs": [
    {
     "data": {
      "text/plain": [
       "[Data(x=[4639, 2048], edge_index=[2, 22765], y=[4639], pos=[4639, 2], train_mask=[4639], val_mask=[4639], test_mask=[4639]),\n",
       " Data(x=[4710, 2048], edge_index=[2, 23116], y=[4710], pos=[4710, 2], train_mask=[4710], val_mask=[4710], test_mask=[4710]),\n",
       " Data(x=[5083, 2048], edge_index=[2, 24985], y=[5083], pos=[5083, 2], train_mask=[5083], val_mask=[5083], test_mask=[5083])]"
      ]
     },
     "execution_count": 44,
     "metadata": {},
     "output_type": "execute_result"
    }
   ],
   "source": []
  },
  {
   "cell_type": "code",
   "execution_count": null,
   "id": "60146724",
   "metadata": {},
   "outputs": [],
   "source": [
    "import pickle\n",
    "pickle.dump(dict(graph_dataset=graph_datasets,train_test_split))"
   ]
  },
  {
   "cell_type": "code",
   "execution_count": 13,
   "id": "b8e75ec1",
   "metadata": {},
   "outputs": [],
   "source": [
    "df=pd.read_pickle(\"/dartfs/rc/nosnapshots/V/VaickusL-nb/EDIT_Students/users/Sophie_Chen/file_locations.pkl\")"
   ]
  },
  {
   "cell_type": "code",
   "execution_count": 12,
   "id": "e71fdf3b",
   "metadata": {
    "scrolled": true
   },
   "outputs": [
    {
     "name": "stderr",
     "output_type": "stream",
     "text": [
      "  1%|▍                                          | 1/95 [00:02<04:03,  2.59s/it]"
     ]
    },
    {
     "name": "stdout",
     "output_type": "stream",
     "text": [
      "109_A1c_ASAP_tumor_map 2\n"
     ]
    },
    {
     "name": "stderr",
     "output_type": "stream",
     "text": [
      "  2%|▉                                          | 2/95 [00:03<02:30,  1.62s/it]"
     ]
    },
    {
     "name": "stdout",
     "output_type": "stream",
     "text": [
      "10_A1a_ASAP_tumor_map 3\n"
     ]
    },
    {
     "name": "stderr",
     "output_type": "stream",
     "text": [
      "  3%|█▎                                         | 3/95 [00:04<02:01,  1.32s/it]"
     ]
    },
    {
     "name": "stdout",
     "output_type": "stream",
     "text": [
      "10_A1b_ASAP_tumor_map 3\n"
     ]
    },
    {
     "name": "stderr",
     "output_type": "stream",
     "text": [
      "  4%|█▊                                         | 4/95 [00:05<01:49,  1.21s/it]"
     ]
    },
    {
     "name": "stdout",
     "output_type": "stream",
     "text": [
      "10_A2b_ASAP_tumor_map 3\n"
     ]
    },
    {
     "name": "stderr",
     "output_type": "stream",
     "text": [
      "  5%|██▎                                        | 5/95 [00:06<01:42,  1.14s/it]"
     ]
    },
    {
     "name": "stdout",
     "output_type": "stream",
     "text": [
      "110_A2b_ASAP_tumor_map 4\n"
     ]
    },
    {
     "name": "stderr",
     "output_type": "stream",
     "text": [
      "  6%|██▋                                        | 6/95 [00:06<01:18,  1.14it/s]"
     ]
    },
    {
     "name": "stdout",
     "output_type": "stream",
     "text": [
      "112_a_ASAP_tumor_map 8\n"
     ]
    },
    {
     "name": "stderr",
     "output_type": "stream",
     "text": [
      "  7%|███▏                                       | 7/95 [00:07<01:03,  1.38it/s]"
     ]
    },
    {
     "name": "stdout",
     "output_type": "stream",
     "text": [
      "112_b_ASAP_tumor_map 8\n"
     ]
    },
    {
     "name": "stderr",
     "output_type": "stream",
     "text": [
      "  8%|███▌                                       | 8/95 [00:08<01:08,  1.27it/s]"
     ]
    },
    {
     "name": "stdout",
     "output_type": "stream",
     "text": [
      "123_A1a_ASAP_tumor_map 6\n"
     ]
    },
    {
     "name": "stderr",
     "output_type": "stream",
     "text": [
      "  9%|████                                       | 9/95 [00:09<01:19,  1.08it/s]"
     ]
    },
    {
     "name": "stdout",
     "output_type": "stream",
     "text": [
      "12_A1c_ASAP_tumor_map 3\n"
     ]
    },
    {
     "name": "stderr",
     "output_type": "stream",
     "text": [
      " 11%|████▍                                     | 10/95 [00:10<01:15,  1.12it/s]"
     ]
    },
    {
     "name": "stdout",
     "output_type": "stream",
     "text": [
      "14_A1b_ASAP_tumor_map 3\n"
     ]
    },
    {
     "name": "stderr",
     "output_type": "stream",
     "text": [
      " 12%|████▊                                     | 11/95 [00:11<01:14,  1.12it/s]"
     ]
    },
    {
     "name": "stdout",
     "output_type": "stream",
     "text": [
      "14_A2b_ASAP_tumor_map 3\n"
     ]
    },
    {
     "name": "stderr",
     "output_type": "stream",
     "text": [
      " 13%|█████▎                                    | 12/95 [00:12<01:14,  1.11it/s]"
     ]
    },
    {
     "name": "stdout",
     "output_type": "stream",
     "text": [
      "169_A2b_ASAP_tumor_map 3\n"
     ]
    },
    {
     "name": "stderr",
     "output_type": "stream",
     "text": [
      " 14%|█████▋                                    | 13/95 [00:13<01:22,  1.01s/it]"
     ]
    },
    {
     "name": "stdout",
     "output_type": "stream",
     "text": [
      "270_A1b_ASAP_tumor_map 2\n"
     ]
    },
    {
     "name": "stderr",
     "output_type": "stream",
     "text": [
      " 15%|██████▏                                   | 14/95 [00:14<01:26,  1.06s/it]"
     ]
    },
    {
     "name": "stdout",
     "output_type": "stream",
     "text": [
      "270_A1d_ASAP_tumor_map 2\n"
     ]
    },
    {
     "name": "stderr",
     "output_type": "stream",
     "text": [
      " 16%|██████▋                                   | 15/95 [00:15<01:27,  1.09s/it]"
     ]
    },
    {
     "name": "stdout",
     "output_type": "stream",
     "text": [
      "270_A1e_ASAP_tumor_map 2\n"
     ]
    },
    {
     "name": "stderr",
     "output_type": "stream",
     "text": [
      " 17%|███████                                   | 16/95 [00:16<01:26,  1.09s/it]"
     ]
    },
    {
     "name": "stdout",
     "output_type": "stream",
     "text": [
      "270_A2b_ASAP_tumor_map 2\n"
     ]
    },
    {
     "name": "stderr",
     "output_type": "stream",
     "text": [
      " 18%|███████▌                                  | 17/95 [00:17<01:09,  1.12it/s]"
     ]
    },
    {
     "name": "stdout",
     "output_type": "stream",
     "text": [
      "270_A2f_ASAP_tumor_map 1\n"
     ]
    },
    {
     "name": "stderr",
     "output_type": "stream",
     "text": [
      " 19%|███████▉                                  | 18/95 [00:17<01:05,  1.17it/s]"
     ]
    },
    {
     "name": "stdout",
     "output_type": "stream",
     "text": [
      "281_A1d_ASAP_tumor_map 2\n"
     ]
    },
    {
     "name": "stderr",
     "output_type": "stream",
     "text": [
      " 20%|████████▍                                 | 19/95 [00:18<01:04,  1.17it/s]"
     ]
    },
    {
     "name": "stdout",
     "output_type": "stream",
     "text": [
      "281_A1f_ASAP_tumor_map 2\n"
     ]
    },
    {
     "name": "stderr",
     "output_type": "stream",
     "text": [
      " 21%|████████▊                                 | 20/95 [00:19<01:02,  1.21it/s]"
     ]
    },
    {
     "name": "stdout",
     "output_type": "stream",
     "text": [
      "281_A2eX_ASAP_tumor_map 2\n"
     ]
    },
    {
     "name": "stderr",
     "output_type": "stream",
     "text": [
      " 22%|█████████▎                                | 21/95 [00:20<00:58,  1.26it/s]"
     ]
    },
    {
     "name": "stdout",
     "output_type": "stream",
     "text": [
      "311_A2c_ASAP_tumor_map 2\n"
     ]
    },
    {
     "name": "stderr",
     "output_type": "stream",
     "text": [
      " 23%|█████████▋                                | 22/95 [00:21<01:13,  1.01s/it]"
     ]
    },
    {
     "name": "stdout",
     "output_type": "stream",
     "text": [
      "327_A1a_ASAP_tumor_map 3\n"
     ]
    },
    {
     "name": "stderr",
     "output_type": "stream",
     "text": [
      " 24%|██████████▏                               | 23/95 [00:22<01:10,  1.02it/s]"
     ]
    },
    {
     "name": "stdout",
     "output_type": "stream",
     "text": [
      "327_A1d_ASAP_tumor_map 2\n"
     ]
    },
    {
     "name": "stderr",
     "output_type": "stream",
     "text": [
      " 25%|██████████▌                               | 24/95 [00:24<01:36,  1.36s/it]"
     ]
    },
    {
     "name": "stdout",
     "output_type": "stream",
     "text": [
      "327_B1c_ASAP_tumor_map 2\n"
     ]
    },
    {
     "name": "stderr",
     "output_type": "stream",
     "text": [
      " 26%|███████████                               | 25/95 [00:25<01:18,  1.11s/it]"
     ]
    },
    {
     "name": "stdout",
     "output_type": "stream",
     "text": [
      "341_a_ASAP_tumor_map 3\n"
     ]
    },
    {
     "name": "stderr",
     "output_type": "stream",
     "text": [
      " 27%|███████████▍                              | 26/95 [00:25<01:02,  1.11it/s]"
     ]
    },
    {
     "name": "stdout",
     "output_type": "stream",
     "text": [
      "341_b_ASAP_tumor_map 3\n"
     ]
    },
    {
     "name": "stderr",
     "output_type": "stream",
     "text": [
      " 28%|███████████▉                              | 27/95 [00:26<00:50,  1.35it/s]"
     ]
    },
    {
     "name": "stdout",
     "output_type": "stream",
     "text": [
      "342_a_ASAP_tumor_map 8\n"
     ]
    },
    {
     "name": "stderr",
     "output_type": "stream",
     "text": [
      " 29%|████████████▍                             | 28/95 [00:26<00:42,  1.56it/s]"
     ]
    },
    {
     "name": "stdout",
     "output_type": "stream",
     "text": [
      "342_b_ASAP_tumor_map 8\n"
     ]
    },
    {
     "name": "stderr",
     "output_type": "stream",
     "text": [
      " 31%|████████████▊                             | 29/95 [00:27<00:48,  1.36it/s]"
     ]
    },
    {
     "name": "stdout",
     "output_type": "stream",
     "text": [
      "343_a_ASAP_tumor_map 3\n"
     ]
    },
    {
     "name": "stderr",
     "output_type": "stream",
     "text": [
      " 32%|█████████████▎                            | 30/95 [00:28<00:57,  1.13it/s]"
     ]
    },
    {
     "name": "stdout",
     "output_type": "stream",
     "text": [
      "343_b_ASAP_tumor_map 1\n"
     ]
    },
    {
     "name": "stderr",
     "output_type": "stream",
     "text": [
      " 33%|█████████████▋                            | 31/95 [00:30<01:04,  1.01s/it]"
     ]
    },
    {
     "name": "stdout",
     "output_type": "stream",
     "text": [
      "343_c_ASAP_tumor_map 2\n"
     ]
    },
    {
     "name": "stderr",
     "output_type": "stream",
     "text": [
      " 34%|██████████████▏                           | 32/95 [00:31<01:10,  1.11s/it]"
     ]
    },
    {
     "name": "stdout",
     "output_type": "stream",
     "text": [
      "343_d_ASAP_tumor_map 1\n"
     ]
    },
    {
     "name": "stderr",
     "output_type": "stream",
     "text": [
      " 35%|██████████████▌                           | 33/95 [00:32<00:58,  1.05it/s]"
     ]
    },
    {
     "name": "stdout",
     "output_type": "stream",
     "text": [
      "344_a_ASAP_tumor_map 4\n"
     ]
    },
    {
     "name": "stderr",
     "output_type": "stream",
     "text": [
      " 36%|███████████████                           | 34/95 [00:32<00:51,  1.19it/s]"
     ]
    },
    {
     "name": "stdout",
     "output_type": "stream",
     "text": [
      "344_b_ASAP_tumor_map 4\n"
     ]
    },
    {
     "name": "stderr",
     "output_type": "stream",
     "text": [
      " 37%|███████████████▍                          | 35/95 [00:33<00:50,  1.18it/s]"
     ]
    },
    {
     "name": "stdout",
     "output_type": "stream",
     "text": [
      "345_a_ASAP_tumor_map 3\n"
     ]
    },
    {
     "name": "stderr",
     "output_type": "stream",
     "text": [
      " 38%|███████████████▉                          | 36/95 [00:34<00:50,  1.17it/s]"
     ]
    },
    {
     "name": "stdout",
     "output_type": "stream",
     "text": [
      "345_b_ASAP_tumor_map 3\n"
     ]
    },
    {
     "name": "stderr",
     "output_type": "stream",
     "text": [
      " 39%|████████████████▎                         | 37/95 [00:35<00:46,  1.26it/s]"
     ]
    },
    {
     "name": "stdout",
     "output_type": "stream",
     "text": [
      "346_a_ASAP_tumor_map 6\n"
     ]
    },
    {
     "name": "stderr",
     "output_type": "stream",
     "text": [
      " 40%|████████████████▊                         | 38/95 [00:35<00:43,  1.32it/s]"
     ]
    },
    {
     "name": "stdout",
     "output_type": "stream",
     "text": [
      "346_b_ASAP_tumor_map 11\n"
     ]
    },
    {
     "name": "stderr",
     "output_type": "stream",
     "text": [
      " 41%|█████████████████▏                        | 39/95 [00:36<00:45,  1.24it/s]"
     ]
    },
    {
     "name": "stdout",
     "output_type": "stream",
     "text": [
      "350_A1a_ASAP_tumor_map 5\n"
     ]
    },
    {
     "name": "stderr",
     "output_type": "stream",
     "text": [
      " 42%|█████████████████▋                        | 40/95 [00:37<00:48,  1.12it/s]"
     ]
    },
    {
     "name": "stdout",
     "output_type": "stream",
     "text": [
      "350_A1b_ASAP_tumor_map 3\n"
     ]
    },
    {
     "name": "stderr",
     "output_type": "stream",
     "text": [
      " 43%|██████████████████▏                       | 41/95 [00:38<00:50,  1.07it/s]"
     ]
    },
    {
     "name": "stdout",
     "output_type": "stream",
     "text": [
      "350_A1c_ASAP_tumor_map 3\n"
     ]
    },
    {
     "name": "stderr",
     "output_type": "stream",
     "text": [
      " 44%|██████████████████▌                       | 42/95 [00:39<00:49,  1.07it/s]"
     ]
    },
    {
     "name": "stdout",
     "output_type": "stream",
     "text": [
      "350_A1d_ASAP_tumor_map 3\n"
     ]
    },
    {
     "name": "stderr",
     "output_type": "stream",
     "text": [
      " 45%|███████████████████                       | 43/95 [00:40<00:47,  1.10it/s]"
     ]
    },
    {
     "name": "stdout",
     "output_type": "stream",
     "text": [
      "350_A1e_ASAP_tumor_map 3\n"
     ]
    },
    {
     "name": "stderr",
     "output_type": "stream",
     "text": [
      " 46%|███████████████████▍                      | 44/95 [00:41<00:41,  1.23it/s]"
     ]
    },
    {
     "name": "stdout",
     "output_type": "stream",
     "text": [
      "351_A2b_ASAP_tumor_map 6\n"
     ]
    },
    {
     "name": "stderr",
     "output_type": "stream",
     "text": [
      " 47%|███████████████████▉                      | 45/95 [00:42<00:46,  1.08it/s]"
     ]
    },
    {
     "name": "stdout",
     "output_type": "stream",
     "text": [
      "352_A1d_ASAP_tumor_map 6\n"
     ]
    },
    {
     "name": "stderr",
     "output_type": "stream",
     "text": [
      " 48%|████████████████████▎                     | 46/95 [00:43<00:48,  1.00it/s]"
     ]
    },
    {
     "name": "stdout",
     "output_type": "stream",
     "text": [
      "352_A1e_ASAP_tumor_map 6\n"
     ]
    },
    {
     "name": "stderr",
     "output_type": "stream",
     "text": [
      " 49%|████████████████████▊                     | 47/95 [00:44<00:47,  1.02it/s]"
     ]
    },
    {
     "name": "stdout",
     "output_type": "stream",
     "text": [
      "352_A1g_ASAP_tumor_map 6\n"
     ]
    },
    {
     "name": "stderr",
     "output_type": "stream",
     "text": [
      " 51%|█████████████████████▏                    | 48/95 [00:45<00:44,  1.06it/s]"
     ]
    },
    {
     "name": "stdout",
     "output_type": "stream",
     "text": [
      "352_A1h_ASAP_tumor_map 6\n"
     ]
    },
    {
     "name": "stderr",
     "output_type": "stream",
     "text": [
      " 52%|█████████████████████▋                    | 49/95 [00:46<00:41,  1.10it/s]"
     ]
    },
    {
     "name": "stdout",
     "output_type": "stream",
     "text": [
      "352_A1i_ASAP_tumor_map 6\n"
     ]
    },
    {
     "name": "stderr",
     "output_type": "stream",
     "text": [
      " 53%|██████████████████████                    | 50/95 [00:47<00:42,  1.07it/s]"
     ]
    },
    {
     "name": "stdout",
     "output_type": "stream",
     "text": [
      "353_A2b_ASAP_tumor_map 4\n"
     ]
    },
    {
     "name": "stderr",
     "output_type": "stream",
     "text": [
      " 54%|██████████████████████▌                   | 51/95 [00:47<00:38,  1.13it/s]"
     ]
    },
    {
     "name": "stdout",
     "output_type": "stream",
     "text": [
      "354_A1b_ASAP_tumor_map 1\n"
     ]
    },
    {
     "name": "stderr",
     "output_type": "stream",
     "text": [
      " 55%|██████████████████████▉                   | 52/95 [00:48<00:37,  1.14it/s]"
     ]
    },
    {
     "name": "stdout",
     "output_type": "stream",
     "text": [
      "354_A1c_ASAP_tumor_map 1\n"
     ]
    },
    {
     "name": "stderr",
     "output_type": "stream",
     "text": [
      " 56%|███████████████████████▍                  | 53/95 [00:49<00:38,  1.08it/s]"
     ]
    },
    {
     "name": "stdout",
     "output_type": "stream",
     "text": [
      "354_A1d_ASAP_tumor_map 1\n"
     ]
    },
    {
     "name": "stderr",
     "output_type": "stream",
     "text": [
      " 57%|███████████████████████▊                  | 54/95 [00:50<00:35,  1.15it/s]"
     ]
    },
    {
     "name": "stdout",
     "output_type": "stream",
     "text": [
      "354_A3a_ASAP_tumor_map 4\n"
     ]
    },
    {
     "name": "stderr",
     "output_type": "stream",
     "text": [
      " 58%|████████████████████████▎                 | 55/95 [00:51<00:39,  1.02it/s]"
     ]
    },
    {
     "name": "stdout",
     "output_type": "stream",
     "text": [
      "354_A3b_ASAP_tumor_map 2\n"
     ]
    },
    {
     "name": "stderr",
     "output_type": "stream",
     "text": [
      " 59%|████████████████████████▊                 | 56/95 [00:53<00:43,  1.11s/it]"
     ]
    },
    {
     "name": "stdout",
     "output_type": "stream",
     "text": [
      "354_A3c_ASAP_tumor_map 2\n"
     ]
    },
    {
     "name": "stderr",
     "output_type": "stream",
     "text": [
      " 60%|█████████████████████████▏                | 57/95 [00:54<00:39,  1.03s/it]"
     ]
    },
    {
     "name": "stdout",
     "output_type": "stream",
     "text": [
      "354_D1b_ASAP_tumor_map 2\n"
     ]
    },
    {
     "name": "stderr",
     "output_type": "stream",
     "text": [
      " 61%|█████████████████████████▋                | 58/95 [00:54<00:32,  1.14it/s]"
     ]
    },
    {
     "name": "stdout",
     "output_type": "stream",
     "text": [
      "355_A1d_ASAP_tumor_map 3\n"
     ]
    },
    {
     "name": "stderr",
     "output_type": "stream",
     "text": [
      " 62%|██████████████████████████                | 59/95 [00:55<00:28,  1.25it/s]"
     ]
    },
    {
     "name": "stdout",
     "output_type": "stream",
     "text": [
      "356_A1b_ASAP_tumor_map 3\n"
     ]
    },
    {
     "name": "stderr",
     "output_type": "stream",
     "text": [
      " 63%|██████████████████████████▌               | 60/95 [00:56<00:29,  1.20it/s]"
     ]
    },
    {
     "name": "stdout",
     "output_type": "stream",
     "text": [
      "358_A1a_ASAP_tumor_map 6\n"
     ]
    },
    {
     "name": "stderr",
     "output_type": "stream",
     "text": [
      " 64%|██████████████████████████▉               | 61/95 [00:57<00:30,  1.11it/s]"
     ]
    },
    {
     "name": "stdout",
     "output_type": "stream",
     "text": [
      "358_A1b_ASAP_tumor_map 5\n"
     ]
    },
    {
     "name": "stderr",
     "output_type": "stream",
     "text": [
      " 65%|███████████████████████████▍              | 62/95 [00:58<00:30,  1.09it/s]"
     ]
    },
    {
     "name": "stdout",
     "output_type": "stream",
     "text": [
      "361_a_ASAP_tumor_map 4\n"
     ]
    },
    {
     "name": "stderr",
     "output_type": "stream",
     "text": [
      " 66%|███████████████████████████▊              | 63/95 [00:59<00:32,  1.00s/it]"
     ]
    },
    {
     "name": "stdout",
     "output_type": "stream",
     "text": [
      "361_b_ASAP_tumor_map 2\n"
     ]
    },
    {
     "name": "stderr",
     "output_type": "stream",
     "text": [
      " 67%|████████████████████████████▎             | 64/95 [01:00<00:32,  1.03s/it]"
     ]
    },
    {
     "name": "stdout",
     "output_type": "stream",
     "text": [
      "362_A1a_ASAP_tumor_map 2\n"
     ]
    },
    {
     "name": "stderr",
     "output_type": "stream",
     "text": [
      " 68%|████████████████████████████▋             | 65/95 [01:01<00:32,  1.08s/it]"
     ]
    },
    {
     "name": "stdout",
     "output_type": "stream",
     "text": [
      "362_A1b_ASAP_tumor_map 2\n"
     ]
    },
    {
     "name": "stderr",
     "output_type": "stream",
     "text": [
      " 69%|█████████████████████████████▏            | 66/95 [01:02<00:31,  1.08s/it]"
     ]
    },
    {
     "name": "stdout",
     "output_type": "stream",
     "text": [
      "362_A1c_ASAP_tumor_map 2\n"
     ]
    },
    {
     "name": "stderr",
     "output_type": "stream",
     "text": [
      " 71%|█████████████████████████████▌            | 67/95 [01:03<00:31,  1.11s/it]"
     ]
    },
    {
     "name": "stdout",
     "output_type": "stream",
     "text": [
      "363_A1b_ASAP_tumor_map 2\n"
     ]
    },
    {
     "name": "stderr",
     "output_type": "stream",
     "text": [
      " 72%|██████████████████████████████            | 68/95 [01:05<00:30,  1.13s/it]"
     ]
    },
    {
     "name": "stdout",
     "output_type": "stream",
     "text": [
      "363_A1c_ASAP_tumor_map 2\n"
     ]
    },
    {
     "name": "stderr",
     "output_type": "stream",
     "text": [
      " 73%|██████████████████████████████▌           | 69/95 [01:06<00:31,  1.21s/it]"
     ]
    },
    {
     "name": "stdout",
     "output_type": "stream",
     "text": [
      "363_A2b_ASAP_tumor_map 3\n"
     ]
    },
    {
     "name": "stderr",
     "output_type": "stream",
     "text": [
      " 74%|██████████████████████████████▉           | 70/95 [01:07<00:31,  1.25s/it]"
     ]
    },
    {
     "name": "stdout",
     "output_type": "stream",
     "text": [
      "363_A3b_ASAP_tumor_map 2\n"
     ]
    },
    {
     "name": "stderr",
     "output_type": "stream",
     "text": [
      " 75%|███████████████████████████████▍          | 71/95 [01:09<00:29,  1.25s/it]"
     ]
    },
    {
     "name": "stdout",
     "output_type": "stream",
     "text": [
      "364_A1b_ASAP_tumor_map 3\n"
     ]
    },
    {
     "name": "stderr",
     "output_type": "stream",
     "text": [
      " 76%|███████████████████████████████▊          | 72/95 [01:10<00:29,  1.28s/it]"
     ]
    },
    {
     "name": "stdout",
     "output_type": "stream",
     "text": [
      "364_A2b_ASAP_tumor_map 3\n"
     ]
    },
    {
     "name": "stderr",
     "output_type": "stream",
     "text": [
      " 77%|████████████████████████████████▎         | 73/95 [01:11<00:27,  1.27s/it]"
     ]
    },
    {
     "name": "stdout",
     "output_type": "stream",
     "text": [
      "364_A4b_ASAP_tumor_map 3\n"
     ]
    },
    {
     "name": "stderr",
     "output_type": "stream",
     "text": [
      " 78%|████████████████████████████████▋         | 74/95 [01:12<00:25,  1.22s/it]"
     ]
    },
    {
     "name": "stdout",
     "output_type": "stream",
     "text": [
      "365_A1b_ASAP_tumor_map 4\n"
     ]
    },
    {
     "name": "stderr",
     "output_type": "stream",
     "text": [
      " 79%|█████████████████████████████████▏        | 75/95 [01:13<00:23,  1.16s/it]"
     ]
    },
    {
     "name": "stdout",
     "output_type": "stream",
     "text": [
      "365_A2b_ASAP_tumor_map 3\n"
     ]
    },
    {
     "name": "stderr",
     "output_type": "stream",
     "text": [
      " 80%|█████████████████████████████████▌        | 76/95 [01:14<00:19,  1.05s/it]"
     ]
    },
    {
     "name": "stdout",
     "output_type": "stream",
     "text": [
      "366_A1a_ASAP_tumor_map 2\n"
     ]
    },
    {
     "name": "stderr",
     "output_type": "stream",
     "text": [
      " 81%|██████████████████████████████████        | 77/95 [01:15<00:18,  1.02s/it]"
     ]
    },
    {
     "name": "stdout",
     "output_type": "stream",
     "text": [
      "366_A1b_ASAP_tumor_map 2\n"
     ]
    },
    {
     "name": "stderr",
     "output_type": "stream",
     "text": [
      " 82%|██████████████████████████████████▍       | 78/95 [01:16<00:16,  1.00it/s]"
     ]
    },
    {
     "name": "stdout",
     "output_type": "stream",
     "text": [
      "366_A1c_ASAP_tumor_map 2\n"
     ]
    },
    {
     "name": "stderr",
     "output_type": "stream",
     "text": [
      " 83%|██████████████████████████████████▉       | 79/95 [01:17<00:14,  1.12it/s]"
     ]
    },
    {
     "name": "stdout",
     "output_type": "stream",
     "text": [
      "367_A2b_ASAP_tumor_map 5\n"
     ]
    },
    {
     "name": "stderr",
     "output_type": "stream",
     "text": [
      " 84%|███████████████████████████████████▎      | 80/95 [01:18<00:16,  1.11s/it]"
     ]
    },
    {
     "name": "stdout",
     "output_type": "stream",
     "text": [
      "368_A1b_ASAP_tumor_map 2\n"
     ]
    },
    {
     "name": "stderr",
     "output_type": "stream",
     "text": [
      " 85%|███████████████████████████████████▊      | 81/95 [01:20<00:18,  1.31s/it]"
     ]
    },
    {
     "name": "stdout",
     "output_type": "stream",
     "text": [
      "368_A1c_ASAP_tumor_map 2\n"
     ]
    },
    {
     "name": "stderr",
     "output_type": "stream",
     "text": [
      " 86%|████████████████████████████████████▎     | 82/95 [01:22<00:19,  1.49s/it]"
     ]
    },
    {
     "name": "stdout",
     "output_type": "stream",
     "text": [
      "368_A1d_ASAP_tumor_map 2\n"
     ]
    },
    {
     "name": "stderr",
     "output_type": "stream",
     "text": [
      " 87%|████████████████████████████████████▋     | 83/95 [01:23<00:15,  1.29s/it]"
     ]
    },
    {
     "name": "stdout",
     "output_type": "stream",
     "text": [
      "369_A1b_ASAP_tumor_map 3\n"
     ]
    },
    {
     "name": "stderr",
     "output_type": "stream",
     "text": [
      " 88%|█████████████████████████████████████▏    | 84/95 [01:23<00:12,  1.13s/it]"
     ]
    },
    {
     "name": "stdout",
     "output_type": "stream",
     "text": [
      "369_A1c_ASAP_tumor_map 4\n"
     ]
    },
    {
     "name": "stderr",
     "output_type": "stream",
     "text": [
      " 89%|█████████████████████████████████████▌    | 85/95 [01:24<00:10,  1.04s/it]"
     ]
    },
    {
     "name": "stdout",
     "output_type": "stream",
     "text": [
      "369_A2b_ASAP_tumor_map 6\n"
     ]
    },
    {
     "name": "stderr",
     "output_type": "stream",
     "text": [
      " 91%|██████████████████████████████████████    | 86/95 [01:25<00:08,  1.11it/s]"
     ]
    },
    {
     "name": "stdout",
     "output_type": "stream",
     "text": [
      "370_A1b_ASAP_tumor_map 3\n"
     ]
    },
    {
     "name": "stderr",
     "output_type": "stream",
     "text": [
      " 92%|██████████████████████████████████████▍   | 87/95 [01:25<00:06,  1.28it/s]"
     ]
    },
    {
     "name": "stdout",
     "output_type": "stream",
     "text": [
      "370_A2a_ASAP_tumor_map 3\n"
     ]
    },
    {
     "name": "stderr",
     "output_type": "stream",
     "text": [
      " 93%|██████████████████████████████████████▉   | 88/95 [01:26<00:05,  1.40it/s]"
     ]
    },
    {
     "name": "stdout",
     "output_type": "stream",
     "text": [
      "370_A2b_ASAP_tumor_map 3\n"
     ]
    },
    {
     "name": "stderr",
     "output_type": "stream",
     "text": [
      " 94%|███████████████████████████████████████▎  | 89/95 [01:27<00:04,  1.30it/s]"
     ]
    },
    {
     "name": "stdout",
     "output_type": "stream",
     "text": [
      "37_A2d_ASAP_tumor_map 2\n"
     ]
    },
    {
     "name": "stderr",
     "output_type": "stream",
     "text": [
      " 95%|███████████████████████████████████████▊  | 90/95 [01:27<00:03,  1.38it/s]"
     ]
    },
    {
     "name": "stdout",
     "output_type": "stream",
     "text": [
      "61_A1a_ASAP_tumor_map 5\n"
     ]
    },
    {
     "name": "stderr",
     "output_type": "stream",
     "text": [
      " 96%|████████████████████████████████████████▏ | 91/95 [01:28<00:02,  1.49it/s]"
     ]
    },
    {
     "name": "stdout",
     "output_type": "stream",
     "text": [
      "61_B1a_ASAP_tumor_map 6\n"
     ]
    },
    {
     "name": "stderr",
     "output_type": "stream",
     "text": [
      " 97%|████████████████████████████████████████▋ | 92/95 [01:29<00:01,  1.54it/s]"
     ]
    },
    {
     "name": "stdout",
     "output_type": "stream",
     "text": [
      "70_A2b_ASAP_tumor_map 6\n"
     ]
    },
    {
     "name": "stderr",
     "output_type": "stream",
     "text": [
      " 98%|█████████████████████████████████████████ | 93/95 [01:30<00:01,  1.30it/s]"
     ]
    },
    {
     "name": "stdout",
     "output_type": "stream",
     "text": [
      "7_A1c_ASAP_tumor_map 3\n"
     ]
    },
    {
     "name": "stderr",
     "output_type": "stream",
     "text": [
      " 99%|█████████████████████████████████████████▌| 94/95 [01:31<00:00,  1.21it/s]"
     ]
    },
    {
     "name": "stdout",
     "output_type": "stream",
     "text": [
      "7_A1d_ASAP_tumor_map 3\n"
     ]
    },
    {
     "name": "stderr",
     "output_type": "stream",
     "text": [
      "100%|██████████████████████████████████████████| 95/95 [01:31<00:00,  1.03it/s]"
     ]
    },
    {
     "name": "stdout",
     "output_type": "stream",
     "text": [
      "7_A1e_ASAP_tumor_map 3\n"
     ]
    },
    {
     "name": "stderr",
     "output_type": "stream",
     "text": [
      "\n"
     ]
    }
   ],
   "source": [
    "import math\n",
    "from sklearn.model_selection import train_test_split\n",
    "from itertools import chain\n",
    "graph_datasets={}\n",
    "for ID in tqdm.tqdm(IDs):\n",
    "    all_dataset = get_graph_dataset(embedding_dir=\"/dartfs/rc/nosnapshots/V/VaickusL-nb/EDIT_Students/users/Sophie_Chen/cnn_embeddings/\", \n",
    "                                    basename=ID+ \".pkl\", \n",
    "                                    target_col='scc', \n",
    "                                    k=8, \n",
    "                                    radius=256, \n",
    "                                    dataset_save_loc=f\"/dartfs/rc/nosnapshots/V/VaickusL-nb/EDIT_Students/users/Sophie_Chen/graph_dataset/{ID+'.pkl'}\")                        \n",
    "    print(ID, len(all_dataset))\n",
    "    if len(all_dataset) == 1:\n",
    "        graph_datasets[ID]= {'train' : all_dataset, 'val' : []}\n",
    "    else:\n",
    "        train_size=int(math.ceil(len(all_dataset)*0.9))\n",
    "        train_dataset, val_dataset = train_test_split(all_dataset,train_size=0.90,random_state=42)\n",
    "        graph_datasets[ID]= {'train' : train_dataset, 'val' : val_dataset}\n"
   ]
  },
  {
   "cell_type": "code",
   "execution_count": 13,
   "id": "400d5c7c",
   "metadata": {},
   "outputs": [
    {
     "data": {
      "text/plain": [
       "{'109_A1c_ASAP_tumor_map': {'train': [Data(x=[20589, 2048], edge_index=[2, 102219], y=[20589], pos=[20589, 2], train_mask=[20589], val_mask=[20589], test_mask=[20589])],\n",
       "  'val': [Data(x=[20706, 2048], edge_index=[2, 102704], y=[20706], pos=[20706, 2], train_mask=[20706], val_mask=[20706], test_mask=[20706])]},\n",
       " '10_A1a_ASAP_tumor_map': {'train': [Data(x=[5563, 2048], edge_index=[2, 27309], y=[5563], pos=[5563, 2], train_mask=[5563], val_mask=[5563], test_mask=[5563]),\n",
       "   Data(x=[5101, 2048], edge_index=[2, 24973], y=[5101], pos=[5101, 2], train_mask=[5101], val_mask=[5101], test_mask=[5101])],\n",
       "  'val': [Data(x=[5804, 2048], edge_index=[2, 28532], y=[5804], pos=[5804, 2], train_mask=[5804], val_mask=[5804], test_mask=[5804])]},\n",
       " '10_A1b_ASAP_tumor_map': {'train': [Data(x=[5719, 2048], edge_index=[2, 28113], y=[5719], pos=[5719, 2], train_mask=[5719], val_mask=[5719], test_mask=[5719]),\n",
       "   Data(x=[5649, 2048], edge_index=[2, 27761], y=[5649], pos=[5649, 2], train_mask=[5649], val_mask=[5649], test_mask=[5649])],\n",
       "  'val': [Data(x=[5642, 2048], edge_index=[2, 27702], y=[5642], pos=[5642, 2], train_mask=[5642], val_mask=[5642], test_mask=[5642])]},\n",
       " '10_A2b_ASAP_tumor_map': {'train': [Data(x=[6098, 2048], edge_index=[2, 29956], y=[6098], pos=[6098, 2], train_mask=[6098], val_mask=[6098], test_mask=[6098]),\n",
       "   Data(x=[6239, 2048], edge_index=[2, 30715], y=[6239], pos=[6239, 2], train_mask=[6239], val_mask=[6239], test_mask=[6239])],\n",
       "  'val': [Data(x=[6085, 2048], edge_index=[2, 29929], y=[6085], pos=[6085, 2], train_mask=[6085], val_mask=[6085], test_mask=[6085])]},\n",
       " '110_A2b_ASAP_tumor_map': {'train': [Data(x=[4220, 2048], edge_index=[2, 20574], y=[4220], pos=[4220, 2], train_mask=[4220], val_mask=[4220], test_mask=[4220]),\n",
       "   Data(x=[4557, 2048], edge_index=[2, 22333], y=[4557], pos=[4557, 2], train_mask=[4557], val_mask=[4557], test_mask=[4557]),\n",
       "   Data(x=[4607, 2048], edge_index=[2, 22561], y=[4607], pos=[4607, 2], train_mask=[4607], val_mask=[4607], test_mask=[4607])],\n",
       "  'val': [Data(x=[4472, 2048], edge_index=[2, 21880], y=[4472], pos=[4472, 2], train_mask=[4472], val_mask=[4472], test_mask=[4472])]},\n",
       " '112_a_ASAP_tumor_map': {'train': [Data(x=[817, 2048], edge_index=[2, 3897], y=[817], pos=[817, 2], train_mask=[817], val_mask=[817], test_mask=[817]),\n",
       "   Data(x=[795, 2048], edge_index=[2, 3785], y=[795], pos=[795, 2], train_mask=[795], val_mask=[795], test_mask=[795]),\n",
       "   Data(x=[703, 2048], edge_index=[2, 3369], y=[703], pos=[703, 2], train_mask=[703], val_mask=[703], test_mask=[703]),\n",
       "   Data(x=[832, 2048], edge_index=[2, 3972], y=[832], pos=[832, 2], train_mask=[832], val_mask=[832], test_mask=[832]),\n",
       "   Data(x=[668, 2048], edge_index=[2, 3170], y=[668], pos=[668, 2], train_mask=[668], val_mask=[668], test_mask=[668]),\n",
       "   Data(x=[884, 2048], edge_index=[2, 4244], y=[884], pos=[884, 2], train_mask=[884], val_mask=[884], test_mask=[884]),\n",
       "   Data(x=[583, 2048], edge_index=[2, 2769], y=[583], pos=[583, 2], train_mask=[583], val_mask=[583], test_mask=[583])],\n",
       "  'val': [Data(x=[935, 2048], edge_index=[2, 4489], y=[935], pos=[935, 2], train_mask=[935], val_mask=[935], test_mask=[935])]},\n",
       " '112_b_ASAP_tumor_map': {'train': [Data(x=[902, 2048], edge_index=[2, 4298], y=[902], pos=[902, 2], train_mask=[902], val_mask=[902], test_mask=[902]),\n",
       "   Data(x=[815, 2048], edge_index=[2, 3889], y=[815], pos=[815, 2], train_mask=[815], val_mask=[815], test_mask=[815]),\n",
       "   Data(x=[878, 2048], edge_index=[2, 4210], y=[878], pos=[878, 2], train_mask=[878], val_mask=[878], test_mask=[878]),\n",
       "   Data(x=[844, 2048], edge_index=[2, 4004], y=[844], pos=[844, 2], train_mask=[844], val_mask=[844], test_mask=[844]),\n",
       "   Data(x=[826, 2048], edge_index=[2, 3952], y=[826], pos=[826, 2], train_mask=[826], val_mask=[826], test_mask=[826]),\n",
       "   Data(x=[871, 2048], edge_index=[2, 4135], y=[871], pos=[871, 2], train_mask=[871], val_mask=[871], test_mask=[871]),\n",
       "   Data(x=[842, 2048], edge_index=[2, 4024], y=[842], pos=[842, 2], train_mask=[842], val_mask=[842], test_mask=[842])],\n",
       "  'val': [Data(x=[850, 2048], edge_index=[2, 4038], y=[850], pos=[850, 2], train_mask=[850], val_mask=[850], test_mask=[850])]},\n",
       " '123_A1a_ASAP_tumor_map': {'train': [Data(x=[2626, 2048], edge_index=[2, 12492], y=[2626], pos=[2626, 2], train_mask=[2626], val_mask=[2626], test_mask=[2626]),\n",
       "   Data(x=[1742, 2048], edge_index=[2, 8152], y=[1742], pos=[1742, 2], train_mask=[1742], val_mask=[1742], test_mask=[1742]),\n",
       "   Data(x=[2955, 2048], edge_index=[2, 14357], y=[2955], pos=[2955, 2], train_mask=[2955], val_mask=[2955], test_mask=[2955]),\n",
       "   Data(x=[2561, 2048], edge_index=[2, 12297], y=[2561], pos=[2561, 2], train_mask=[2561], val_mask=[2561], test_mask=[2561]),\n",
       "   Data(x=[2825, 2048], edge_index=[2, 13425], y=[2825], pos=[2825, 2], train_mask=[2825], val_mask=[2825], test_mask=[2825])],\n",
       "  'val': [Data(x=[3280, 2048], edge_index=[2, 15970], y=[3280], pos=[3280, 2], train_mask=[3280], val_mask=[3280], test_mask=[3280])]},\n",
       " '12_A1c_ASAP_tumor_map': {'train': [Data(x=[7126, 2048], edge_index=[2, 35066], y=[7126], pos=[7126, 2], train_mask=[7126], val_mask=[7126], test_mask=[7126]),\n",
       "   Data(x=[6957, 2048], edge_index=[2, 34275], y=[6957], pos=[6957, 2], train_mask=[6957], val_mask=[6957], test_mask=[6957])],\n",
       "  'val': [Data(x=[6814, 2048], edge_index=[2, 33326], y=[6814], pos=[6814, 2], train_mask=[6814], val_mask=[6814], test_mask=[6814])]},\n",
       " '14_A1b_ASAP_tumor_map': {'train': [Data(x=[5176, 2048], edge_index=[2, 25114], y=[5176], pos=[5176, 2], train_mask=[5176], val_mask=[5176], test_mask=[5176]),\n",
       "   Data(x=[4841, 2048], edge_index=[2, 23269], y=[4841], pos=[4841, 2], train_mask=[4841], val_mask=[4841], test_mask=[4841])],\n",
       "  'val': [Data(x=[4577, 2048], edge_index=[2, 22143], y=[4577], pos=[4577, 2], train_mask=[4577], val_mask=[4577], test_mask=[4577])]},\n",
       " '14_A2b_ASAP_tumor_map': {'train': [Data(x=[5075, 2048], edge_index=[2, 24045], y=[5075], pos=[5075, 2], train_mask=[5075], val_mask=[5075], test_mask=[5075]),\n",
       "   Data(x=[4659, 2048], edge_index=[2, 22071], y=[4659], pos=[4659, 2], train_mask=[4659], val_mask=[4659], test_mask=[4659])],\n",
       "  'val': [Data(x=[5046, 2048], edge_index=[2, 24084], y=[5046], pos=[5046, 2], train_mask=[5046], val_mask=[5046], test_mask=[5046])]},\n",
       " '169_A2b_ASAP_tumor_map': {'train': [Data(x=[5137, 2048], edge_index=[2, 25303], y=[5137], pos=[5137, 2], train_mask=[5137], val_mask=[5137], test_mask=[5137]),\n",
       "   Data(x=[5193, 2048], edge_index=[2, 25555], y=[5193], pos=[5193, 2], train_mask=[5193], val_mask=[5193], test_mask=[5193])],\n",
       "  'val': [Data(x=[5220, 2048], edge_index=[2, 25698], y=[5220], pos=[5220, 2], train_mask=[5220], val_mask=[5220], test_mask=[5220])]},\n",
       " '270_A1b_ASAP_tumor_map': {'train': [Data(x=[10733, 2048], edge_index=[2, 52753], y=[10733], pos=[10733, 2], train_mask=[10733], val_mask=[10733], test_mask=[10733])],\n",
       "  'val': [Data(x=[10638, 2048], edge_index=[2, 52354], y=[10638], pos=[10638, 2], train_mask=[10638], val_mask=[10638], test_mask=[10638])]},\n",
       " '270_A1d_ASAP_tumor_map': {'train': [Data(x=[10457, 2048], edge_index=[2, 51557], y=[10457], pos=[10457, 2], train_mask=[10457], val_mask=[10457], test_mask=[10457])],\n",
       "  'val': [Data(x=[10268, 2048], edge_index=[2, 50640], y=[10268], pos=[10268, 2], train_mask=[10268], val_mask=[10268], test_mask=[10268])]},\n",
       " '270_A1e_ASAP_tumor_map': {'train': [Data(x=[10168, 2048], edge_index=[2, 50196], y=[10168], pos=[10168, 2], train_mask=[10168], val_mask=[10168], test_mask=[10168])],\n",
       "  'val': [Data(x=[10423, 2048], edge_index=[2, 51437], y=[10423], pos=[10423, 2], train_mask=[10423], val_mask=[10423], test_mask=[10423])]},\n",
       " '270_A2b_ASAP_tumor_map': {'train': [Data(x=[10205, 2048], edge_index=[2, 50345], y=[10205], pos=[10205, 2], train_mask=[10205], val_mask=[10205], test_mask=[10205])],\n",
       "  'val': [Data(x=[8924, 2048], edge_index=[2, 43966], y=[8924], pos=[8924, 2], train_mask=[8924], val_mask=[8924], test_mask=[8924])]},\n",
       " '270_A2f_ASAP_tumor_map': {'train': [Data(x=[7420, 2048], edge_index=[2, 36228], y=[7420], pos=[7420, 2], train_mask=[7420], val_mask=[7420], test_mask=[7420])],\n",
       "  'val': []},\n",
       " '281_A1d_ASAP_tumor_map': {'train': [Data(x=[6622, 2048], edge_index=[2, 32648], y=[6622], pos=[6622, 2], train_mask=[6622], val_mask=[6622], test_mask=[6622])],\n",
       "  'val': [Data(x=[6675, 2048], edge_index=[2, 32849], y=[6675], pos=[6675, 2], train_mask=[6675], val_mask=[6675], test_mask=[6675])]},\n",
       " '281_A1f_ASAP_tumor_map': {'train': [Data(x=[7200, 2048], edge_index=[2, 35514], y=[7200], pos=[7200, 2], train_mask=[7200], val_mask=[7200], test_mask=[7200])],\n",
       "  'val': [Data(x=[7185, 2048], edge_index=[2, 35435], y=[7185], pos=[7185, 2], train_mask=[7185], val_mask=[7185], test_mask=[7185])]},\n",
       " '281_A2eX_ASAP_tumor_map': {'train': [Data(x=[6892, 2048], edge_index=[2, 33970], y=[6892], pos=[6892, 2], train_mask=[6892], val_mask=[6892], test_mask=[6892])],\n",
       "  'val': [Data(x=[6557, 2048], edge_index=[2, 32353], y=[6557], pos=[6557, 2], train_mask=[6557], val_mask=[6557], test_mask=[6557])]},\n",
       " '311_A2c_ASAP_tumor_map': {'train': [Data(x=[6043, 2048], edge_index=[2, 29801], y=[6043], pos=[6043, 2], train_mask=[6043], val_mask=[6043], test_mask=[6043])],\n",
       "  'val': [Data(x=[6294, 2048], edge_index=[2, 30852], y=[6294], pos=[6294, 2], train_mask=[6294], val_mask=[6294], test_mask=[6294])]},\n",
       " '327_A1a_ASAP_tumor_map': {'train': [Data(x=[8925, 2048], edge_index=[2, 44005], y=[8925], pos=[8925, 2], train_mask=[8925], val_mask=[8925], test_mask=[8925]),\n",
       "   Data(x=[7523, 2048], edge_index=[2, 36939], y=[7523], pos=[7523, 2], train_mask=[7523], val_mask=[7523], test_mask=[7523])],\n",
       "  'val': [Data(x=[9594, 2048], edge_index=[2, 47078], y=[9594], pos=[9594, 2], train_mask=[9594], val_mask=[9594], test_mask=[9594])]},\n",
       " '327_A1d_ASAP_tumor_map': {'train': [Data(x=[8040, 2048], edge_index=[2, 39486], y=[8040], pos=[8040, 2], train_mask=[8040], val_mask=[8040], test_mask=[8040])],\n",
       "  'val': [Data(x=[8280, 2048], edge_index=[2, 40538], y=[8280], pos=[8280, 2], train_mask=[8280], val_mask=[8280], test_mask=[8280])]},\n",
       " '327_B1c_ASAP_tumor_map': {'train': [Data(x=[18384, 2048], edge_index=[2, 90616], y=[18384], pos=[18384, 2], train_mask=[18384], val_mask=[18384], test_mask=[18384])],\n",
       "  'val': [Data(x=[20123, 2048], edge_index=[2, 99557], y=[20123], pos=[20123, 2], train_mask=[20123], val_mask=[20123], test_mask=[20123])]},\n",
       " '341_a_ASAP_tumor_map': {'train': [Data(x=[3285, 2048], edge_index=[2, 16061], y=[3285], pos=[3285, 2], train_mask=[3285], val_mask=[3285], test_mask=[3285]),\n",
       "   Data(x=[3282, 2048], edge_index=[2, 16056], y=[3282], pos=[3282, 2], train_mask=[3282], val_mask=[3282], test_mask=[3282])],\n",
       "  'val': [Data(x=[2812, 2048], edge_index=[2, 13740], y=[2812], pos=[2812, 2], train_mask=[2812], val_mask=[2812], test_mask=[2812])]},\n",
       " '341_b_ASAP_tumor_map': {'train': [Data(x=[2217, 2048], edge_index=[2, 10801], y=[2217], pos=[2217, 2], train_mask=[2217], val_mask=[2217], test_mask=[2217]),\n",
       "   Data(x=[2806, 2048], edge_index=[2, 13728], y=[2806], pos=[2806, 2], train_mask=[2806], val_mask=[2806], test_mask=[2806])],\n",
       "  'val': [Data(x=[1747, 2048], edge_index=[2, 8461], y=[1747], pos=[1747, 2], train_mask=[1747], val_mask=[1747], test_mask=[1747])]},\n",
       " '342_a_ASAP_tumor_map': {'train': [Data(x=[817, 2048], edge_index=[2, 3897], y=[817], pos=[817, 2], train_mask=[817], val_mask=[817], test_mask=[817]),\n",
       "   Data(x=[795, 2048], edge_index=[2, 3785], y=[795], pos=[795, 2], train_mask=[795], val_mask=[795], test_mask=[795]),\n",
       "   Data(x=[703, 2048], edge_index=[2, 3369], y=[703], pos=[703, 2], train_mask=[703], val_mask=[703], test_mask=[703]),\n",
       "   Data(x=[832, 2048], edge_index=[2, 3972], y=[832], pos=[832, 2], train_mask=[832], val_mask=[832], test_mask=[832]),\n",
       "   Data(x=[668, 2048], edge_index=[2, 3170], y=[668], pos=[668, 2], train_mask=[668], val_mask=[668], test_mask=[668]),\n",
       "   Data(x=[884, 2048], edge_index=[2, 4244], y=[884], pos=[884, 2], train_mask=[884], val_mask=[884], test_mask=[884]),\n",
       "   Data(x=[583, 2048], edge_index=[2, 2769], y=[583], pos=[583, 2], train_mask=[583], val_mask=[583], test_mask=[583])],\n",
       "  'val': [Data(x=[935, 2048], edge_index=[2, 4489], y=[935], pos=[935, 2], train_mask=[935], val_mask=[935], test_mask=[935])]},\n",
       " '342_b_ASAP_tumor_map': {'train': [Data(x=[902, 2048], edge_index=[2, 4298], y=[902], pos=[902, 2], train_mask=[902], val_mask=[902], test_mask=[902]),\n",
       "   Data(x=[815, 2048], edge_index=[2, 3889], y=[815], pos=[815, 2], train_mask=[815], val_mask=[815], test_mask=[815]),\n",
       "   Data(x=[878, 2048], edge_index=[2, 4210], y=[878], pos=[878, 2], train_mask=[878], val_mask=[878], test_mask=[878]),\n",
       "   Data(x=[844, 2048], edge_index=[2, 4004], y=[844], pos=[844, 2], train_mask=[844], val_mask=[844], test_mask=[844]),\n",
       "   Data(x=[826, 2048], edge_index=[2, 3952], y=[826], pos=[826, 2], train_mask=[826], val_mask=[826], test_mask=[826]),\n",
       "   Data(x=[871, 2048], edge_index=[2, 4135], y=[871], pos=[871, 2], train_mask=[871], val_mask=[871], test_mask=[871]),\n",
       "   Data(x=[842, 2048], edge_index=[2, 4024], y=[842], pos=[842, 2], train_mask=[842], val_mask=[842], test_mask=[842])],\n",
       "  'val': [Data(x=[850, 2048], edge_index=[2, 4038], y=[850], pos=[850, 2], train_mask=[850], val_mask=[850], test_mask=[850])]},\n",
       " '343_a_ASAP_tumor_map': {'train': [Data(x=[6056, 2048], edge_index=[2, 28736], y=[6056], pos=[6056, 2], train_mask=[6056], val_mask=[6056], test_mask=[6056]),\n",
       "   Data(x=[217, 2048], edge_index=[2, 991], y=[217], pos=[217, 2], train_mask=[217], val_mask=[217], test_mask=[217])],\n",
       "  'val': [Data(x=[10754, 2048], edge_index=[2, 51502], y=[10754], pos=[10754, 2], train_mask=[10754], val_mask=[10754], test_mask=[10754])]},\n",
       " '343_b_ASAP_tumor_map': {'train': [Data(x=[22341, 2048], edge_index=[2, 109241], y=[22341], pos=[22341, 2], train_mask=[22341], val_mask=[22341], test_mask=[22341])],\n",
       "  'val': []},\n",
       " '343_c_ASAP_tumor_map': {'train': [Data(x=[8943, 2048], edge_index=[2, 43861], y=[8943], pos=[8943, 2], train_mask=[8943], val_mask=[8943], test_mask=[8943])],\n",
       "  'val': [Data(x=[14272, 2048], edge_index=[2, 69508], y=[14272], pos=[14272, 2], train_mask=[14272], val_mask=[14272], test_mask=[14272])]},\n",
       " '343_d_ASAP_tumor_map': {'train': [Data(x=[23840, 2048], edge_index=[2, 116080], y=[23840], pos=[23840, 2], train_mask=[23840], val_mask=[23840], test_mask=[23840])],\n",
       "  'val': []},\n",
       " '344_a_ASAP_tumor_map': {'train': [Data(x=[2319, 2048], edge_index=[2, 11133], y=[2319], pos=[2319, 2], train_mask=[2319], val_mask=[2319], test_mask=[2319]),\n",
       "   Data(x=[2536, 2048], edge_index=[2, 12266], y=[2536], pos=[2536, 2], train_mask=[2536], val_mask=[2536], test_mask=[2536]),\n",
       "   Data(x=[2706, 2048], edge_index=[2, 13020], y=[2706], pos=[2706, 2], train_mask=[2706], val_mask=[2706], test_mask=[2706])],\n",
       "  'val': [Data(x=[2423, 2048], edge_index=[2, 11553], y=[2423], pos=[2423, 2], train_mask=[2423], val_mask=[2423], test_mask=[2423])]},\n",
       " '344_b_ASAP_tumor_map': {'train': [Data(x=[2642, 2048], edge_index=[2, 12780], y=[2642], pos=[2642, 2], train_mask=[2642], val_mask=[2642], test_mask=[2642]),\n",
       "   Data(x=[2598, 2048], edge_index=[2, 12504], y=[2598], pos=[2598, 2], train_mask=[2598], val_mask=[2598], test_mask=[2598]),\n",
       "   Data(x=[2578, 2048], edge_index=[2, 12512], y=[2578], pos=[2578, 2], train_mask=[2578], val_mask=[2578], test_mask=[2578])],\n",
       "  'val': [Data(x=[2523, 2048], edge_index=[2, 12237], y=[2523], pos=[2523, 2], train_mask=[2523], val_mask=[2523], test_mask=[2523])]},\n",
       " '345_a_ASAP_tumor_map': {'train': [Data(x=[5059, 2048], edge_index=[2, 24891], y=[5059], pos=[5059, 2], train_mask=[5059], val_mask=[5059], test_mask=[5059]),\n",
       "   Data(x=[4642, 2048], edge_index=[2, 22826], y=[4642], pos=[4642, 2], train_mask=[4642], val_mask=[4642], test_mask=[4642])],\n",
       "  'val': [Data(x=[4837, 2048], edge_index=[2, 23785], y=[4837], pos=[4837, 2], train_mask=[4837], val_mask=[4837], test_mask=[4837])]},\n",
       " '345_b_ASAP_tumor_map': {'train': [Data(x=[5019, 2048], edge_index=[2, 24651], y=[5019], pos=[5019, 2], train_mask=[5019], val_mask=[5019], test_mask=[5019]),\n",
       "   Data(x=[5072, 2048], edge_index=[2, 24926], y=[5072], pos=[5072, 2], train_mask=[5072], val_mask=[5072], test_mask=[5072])],\n",
       "  'val': [Data(x=[4723, 2048], edge_index=[2, 23209], y=[4723], pos=[4723, 2], train_mask=[4723], val_mask=[4723], test_mask=[4723])]},\n",
       " '346_a_ASAP_tumor_map': {'train': [Data(x=[2608, 2048], edge_index=[2, 12462], y=[2608], pos=[2608, 2], train_mask=[2608], val_mask=[2608], test_mask=[2608]),\n",
       "   Data(x=[532, 2048], edge_index=[2, 2502], y=[532], pos=[532, 2], train_mask=[532], val_mask=[532], test_mask=[532]),\n",
       "   Data(x=[2529, 2048], edge_index=[2, 12003], y=[2529], pos=[2529, 2], train_mask=[2529], val_mask=[2529], test_mask=[2529]),\n",
       "   Data(x=[2207, 2048], edge_index=[2, 10509], y=[2207], pos=[2207, 2], train_mask=[2207], val_mask=[2207], test_mask=[2207]),\n",
       "   Data(x=[2774, 2048], edge_index=[2, 13196], y=[2774], pos=[2774, 2], train_mask=[2774], val_mask=[2774], test_mask=[2774])],\n",
       "  'val': [Data(x=[296, 2048], edge_index=[2, 1326], y=[296], pos=[296, 2], train_mask=[296], val_mask=[296], test_mask=[296])]},\n",
       " '346_b_ASAP_tumor_map': {'train': [Data(x=[2110, 2048], edge_index=[2, 10048], y=[2110], pos=[2110, 2], train_mask=[2110], val_mask=[2110], test_mask=[2110]),\n",
       "   Data(x=[256, 2048], edge_index=[2, 1190], y=[256], pos=[256, 2], train_mask=[256], val_mask=[256], test_mask=[256]),\n",
       "   Data(x=[647, 2048], edge_index=[2, 3041], y=[647], pos=[647, 2], train_mask=[647], val_mask=[647], test_mask=[647]),\n",
       "   Data(x=[1926, 2048], edge_index=[2, 9266], y=[1926], pos=[1926, 2], train_mask=[1926], val_mask=[1926], test_mask=[1926]),\n",
       "   Data(x=[256, 2048], edge_index=[2, 1138], y=[256], pos=[256, 2], train_mask=[256], val_mask=[256], test_mask=[256]),\n",
       "   Data(x=[1968, 2048], edge_index=[2, 9308], y=[1968], pos=[1968, 2], train_mask=[1968], val_mask=[1968], test_mask=[1968]),\n",
       "   Data(x=[2800, 2048], edge_index=[2, 13298], y=[2800], pos=[2800, 2], train_mask=[2800], val_mask=[2800], test_mask=[2800]),\n",
       "   Data(x=[369, 2048], edge_index=[2, 1685], y=[369], pos=[369, 2], train_mask=[369], val_mask=[369], test_mask=[369]),\n",
       "   Data(x=[358, 2048], edge_index=[2, 1636], y=[358], pos=[358, 2], train_mask=[358], val_mask=[358], test_mask=[358])],\n",
       "  'val': [Data(x=[223, 2048], edge_index=[2, 1035], y=[223], pos=[223, 2], train_mask=[223], val_mask=[223], test_mask=[223]),\n",
       "   Data(x=[375, 2048], edge_index=[2, 1731], y=[375], pos=[375, 2], train_mask=[375], val_mask=[375], test_mask=[375])]},\n",
       " '350_A1a_ASAP_tumor_map': {'train': [Data(x=[2152, 2048], edge_index=[2, 10320], y=[2152], pos=[2152, 2], train_mask=[2152], val_mask=[2152], test_mask=[2152]),\n",
       "   Data(x=[2573, 2048], edge_index=[2, 12497], y=[2573], pos=[2573, 2], train_mask=[2573], val_mask=[2573], test_mask=[2573]),\n",
       "   Data(x=[5921, 2048], edge_index=[2, 28809], y=[5921], pos=[5921, 2], train_mask=[5921], val_mask=[5921], test_mask=[5921]),\n",
       "   Data(x=[2435, 2048], edge_index=[2, 11667], y=[2435], pos=[2435, 2], train_mask=[2435], val_mask=[2435], test_mask=[2435])],\n",
       "  'val': [Data(x=[2947, 2048], edge_index=[2, 14323], y=[2947], pos=[2947, 2], train_mask=[2947], val_mask=[2947], test_mask=[2947])]},\n",
       " '350_A1b_ASAP_tumor_map': {'train': [Data(x=[6168, 2048], edge_index=[2, 30254], y=[6168], pos=[6168, 2], train_mask=[6168], val_mask=[6168], test_mask=[6168]),\n",
       "   Data(x=[6601, 2048], edge_index=[2, 32313], y=[6601], pos=[6601, 2], train_mask=[6601], val_mask=[6601], test_mask=[6601])],\n",
       "  'val': [Data(x=[6628, 2048], edge_index=[2, 32542], y=[6628], pos=[6628, 2], train_mask=[6628], val_mask=[6628], test_mask=[6628])]},\n",
       " '350_A1c_ASAP_tumor_map': {'train': [Data(x=[6353, 2048], edge_index=[2, 31203], y=[6353], pos=[6353, 2], train_mask=[6353], val_mask=[6353], test_mask=[6353]),\n",
       "   Data(x=[6222, 2048], edge_index=[2, 30556], y=[6222], pos=[6222, 2], train_mask=[6222], val_mask=[6222], test_mask=[6222])],\n",
       "  'val': [Data(x=[5921, 2048], edge_index=[2, 29101], y=[5921], pos=[5921, 2], train_mask=[5921], val_mask=[5921], test_mask=[5921])]},\n",
       " '350_A1d_ASAP_tumor_map': {'train': [Data(x=[5494, 2048], edge_index=[2, 26986], y=[5494], pos=[5494, 2], train_mask=[5494], val_mask=[5494], test_mask=[5494]),\n",
       "   Data(x=[5831, 2048], edge_index=[2, 28669], y=[5831], pos=[5831, 2], train_mask=[5831], val_mask=[5831], test_mask=[5831])],\n",
       "  'val': [Data(x=[5516, 2048], edge_index=[2, 27058], y=[5516], pos=[5516, 2], train_mask=[5516], val_mask=[5516], test_mask=[5516])]},\n",
       " '350_A1e_ASAP_tumor_map': {'train': [Data(x=[4710, 2048], edge_index=[2, 23116], y=[4710], pos=[4710, 2], train_mask=[4710], val_mask=[4710], test_mask=[4710]),\n",
       "   Data(x=[5083, 2048], edge_index=[2, 24985], y=[5083], pos=[5083, 2], train_mask=[5083], val_mask=[5083], test_mask=[5083])],\n",
       "  'val': [Data(x=[4639, 2048], edge_index=[2, 22765], y=[4639], pos=[4639, 2], train_mask=[4639], val_mask=[4639], test_mask=[4639])]},\n",
       " '351_A2b_ASAP_tumor_map': {'train': [Data(x=[1686, 2048], edge_index=[2, 8148], y=[1686], pos=[1686, 2], train_mask=[1686], val_mask=[1686], test_mask=[1686]),\n",
       "   Data(x=[1663, 2048], edge_index=[2, 8025], y=[1663], pos=[1663, 2], train_mask=[1663], val_mask=[1663], test_mask=[1663]),\n",
       "   Data(x=[1787, 2048], edge_index=[2, 8725], y=[1787], pos=[1787, 2], train_mask=[1787], val_mask=[1787], test_mask=[1787]),\n",
       "   Data(x=[1805, 2048], edge_index=[2, 8797], y=[1805], pos=[1805, 2], train_mask=[1805], val_mask=[1805], test_mask=[1805]),\n",
       "   Data(x=[1665, 2048], edge_index=[2, 8099], y=[1665], pos=[1665, 2], train_mask=[1665], val_mask=[1665], test_mask=[1665])],\n",
       "  'val': [Data(x=[1672, 2048], edge_index=[2, 8158], y=[1672], pos=[1672, 2], train_mask=[1672], val_mask=[1672], test_mask=[1672])]},\n",
       " '352_A1d_ASAP_tumor_map': {'train': [Data(x=[3270, 2048], edge_index=[2, 16022], y=[3270], pos=[3270, 2], train_mask=[3270], val_mask=[3270], test_mask=[3270]),\n",
       "   Data(x=[3424, 2048], edge_index=[2, 16834], y=[3424], pos=[3424, 2], train_mask=[3424], val_mask=[3424], test_mask=[3424]),\n",
       "   Data(x=[3966, 2048], edge_index=[2, 19470], y=[3966], pos=[3966, 2], train_mask=[3966], val_mask=[3966], test_mask=[3966]),\n",
       "   Data(x=[3803, 2048], edge_index=[2, 18603], y=[3803], pos=[3803, 2], train_mask=[3803], val_mask=[3803], test_mask=[3803]),\n",
       "   Data(x=[3460, 2048], edge_index=[2, 16982], y=[3460], pos=[3460, 2], train_mask=[3460], val_mask=[3460], test_mask=[3460])],\n",
       "  'val': [Data(x=[3325, 2048], edge_index=[2, 16313], y=[3325], pos=[3325, 2], train_mask=[3325], val_mask=[3325], test_mask=[3325])]},\n",
       " '352_A1e_ASAP_tumor_map': {'train': [Data(x=[3076, 2048], edge_index=[2, 15040], y=[3076], pos=[3076, 2], train_mask=[3076], val_mask=[3076], test_mask=[3076]),\n",
       "   Data(x=[3317, 2048], edge_index=[2, 16267], y=[3317], pos=[3317, 2], train_mask=[3317], val_mask=[3317], test_mask=[3317]),\n",
       "   Data(x=[3746, 2048], edge_index=[2, 18414], y=[3746], pos=[3746, 2], train_mask=[3746], val_mask=[3746], test_mask=[3746]),\n",
       "   Data(x=[3797, 2048], edge_index=[2, 18657], y=[3797], pos=[3797, 2], train_mask=[3797], val_mask=[3797], test_mask=[3797]),\n",
       "   Data(x=[3216, 2048], edge_index=[2, 15736], y=[3216], pos=[3216, 2], train_mask=[3216], val_mask=[3216], test_mask=[3216])],\n",
       "  'val': [Data(x=[3533, 2048], edge_index=[2, 17355], y=[3533], pos=[3533, 2], train_mask=[3533], val_mask=[3533], test_mask=[3533])]},\n",
       " '352_A1g_ASAP_tumor_map': {'train': [Data(x=[2713, 2048], edge_index=[2, 13289], y=[2713], pos=[2713, 2], train_mask=[2713], val_mask=[2713], test_mask=[2713]),\n",
       "   Data(x=[2708, 2048], edge_index=[2, 13252], y=[2708], pos=[2708, 2], train_mask=[2708], val_mask=[2708], test_mask=[2708]),\n",
       "   Data(x=[2900, 2048], edge_index=[2, 14226], y=[2900], pos=[2900, 2], train_mask=[2900], val_mask=[2900], test_mask=[2900]),\n",
       "   Data(x=[2921, 2048], edge_index=[2, 14269], y=[2921], pos=[2921, 2], train_mask=[2921], val_mask=[2921], test_mask=[2921]),\n",
       "   Data(x=[2752, 2048], edge_index=[2, 13480], y=[2752], pos=[2752, 2], train_mask=[2752], val_mask=[2752], test_mask=[2752])],\n",
       "  'val': [Data(x=[3023, 2048], edge_index=[2, 14817], y=[3023], pos=[3023, 2], train_mask=[3023], val_mask=[3023], test_mask=[3023])]},\n",
       " '352_A1h_ASAP_tumor_map': {'train': [Data(x=[2578, 2048], edge_index=[2, 12626], y=[2578], pos=[2578, 2], train_mask=[2578], val_mask=[2578], test_mask=[2578]),\n",
       "   Data(x=[2365, 2048], edge_index=[2, 11465], y=[2365], pos=[2365, 2], train_mask=[2365], val_mask=[2365], test_mask=[2365]),\n",
       "   Data(x=[2314, 2048], edge_index=[2, 11216], y=[2314], pos=[2314, 2], train_mask=[2314], val_mask=[2314], test_mask=[2314]),\n",
       "   Data(x=[2572, 2048], edge_index=[2, 12592], y=[2572], pos=[2572, 2], train_mask=[2572], val_mask=[2572], test_mask=[2572]),\n",
       "   Data(x=[2198, 2048], edge_index=[2, 10612], y=[2198], pos=[2198, 2], train_mask=[2198], val_mask=[2198], test_mask=[2198])],\n",
       "  'val': [Data(x=[2780, 2048], edge_index=[2, 13618], y=[2780], pos=[2780, 2], train_mask=[2780], val_mask=[2780], test_mask=[2780])]},\n",
       " '352_A1i_ASAP_tumor_map': {'train': [Data(x=[2440, 2048], edge_index=[2, 11852], y=[2440], pos=[2440, 2], train_mask=[2440], val_mask=[2440], test_mask=[2440]),\n",
       "   Data(x=[2460, 2048], edge_index=[2, 12036], y=[2460], pos=[2460, 2], train_mask=[2460], val_mask=[2460], test_mask=[2460]),\n",
       "   Data(x=[2678, 2048], edge_index=[2, 13116], y=[2678], pos=[2678, 2], train_mask=[2678], val_mask=[2678], test_mask=[2678]),\n",
       "   Data(x=[2647, 2048], edge_index=[2, 12957], y=[2647], pos=[2647, 2], train_mask=[2647], val_mask=[2647], test_mask=[2647]),\n",
       "   Data(x=[2462, 2048], edge_index=[2, 12048], y=[2462], pos=[2462, 2], train_mask=[2462], val_mask=[2462], test_mask=[2462])],\n",
       "  'val': [Data(x=[1890, 2048], edge_index=[2, 9174], y=[1890], pos=[1890, 2], train_mask=[1890], val_mask=[1890], test_mask=[1890])]},\n",
       " '353_A2b_ASAP_tumor_map': {'train': [Data(x=[4220, 2048], edge_index=[2, 20574], y=[4220], pos=[4220, 2], train_mask=[4220], val_mask=[4220], test_mask=[4220]),\n",
       "   Data(x=[4557, 2048], edge_index=[2, 22333], y=[4557], pos=[4557, 2], train_mask=[4557], val_mask=[4557], test_mask=[4557]),\n",
       "   Data(x=[4607, 2048], edge_index=[2, 22561], y=[4607], pos=[4607, 2], train_mask=[4607], val_mask=[4607], test_mask=[4607])],\n",
       "  'val': [Data(x=[4472, 2048], edge_index=[2, 21880], y=[4472], pos=[4472, 2], train_mask=[4472], val_mask=[4472], test_mask=[4472])]},\n",
       " '354_A1b_ASAP_tumor_map': {'train': [Data(x=[13521, 2048], edge_index=[2, 65591], y=[13521], pos=[13521, 2], train_mask=[13521], val_mask=[13521], test_mask=[13521])],\n",
       "  'val': []},\n",
       " '354_A1c_ASAP_tumor_map': {'train': [Data(x=[15681, 2048], edge_index=[2, 76283], y=[15681], pos=[15681, 2], train_mask=[15681], val_mask=[15681], test_mask=[15681])],\n",
       "  'val': []},\n",
       " '354_A1d_ASAP_tumor_map': {'train': [Data(x=[18198, 2048], edge_index=[2, 89710], y=[18198], pos=[18198, 2], train_mask=[18198], val_mask=[18198], test_mask=[18198])],\n",
       "  'val': []},\n",
       " '354_A3a_ASAP_tumor_map': {'train': [Data(x=[459, 2048], edge_index=[2, 2023], y=[459], pos=[459, 2], train_mask=[459], val_mask=[459], test_mask=[459]),\n",
       "   Data(x=[8477, 2048], edge_index=[2, 40317], y=[8477], pos=[8477, 2], train_mask=[8477], val_mask=[8477], test_mask=[8477]),\n",
       "   Data(x=[2248, 2048], edge_index=[2, 10640], y=[2248], pos=[2248, 2], train_mask=[2248], val_mask=[2248], test_mask=[2248])],\n",
       "  'val': [Data(x=[2063, 2048], edge_index=[2, 9639], y=[2063], pos=[2063, 2], train_mask=[2063], val_mask=[2063], test_mask=[2063])]},\n",
       " '354_A3b_ASAP_tumor_map': {'train': [Data(x=[11270, 2048], edge_index=[2, 54620], y=[11270], pos=[11270, 2], train_mask=[11270], val_mask=[11270], test_mask=[11270])],\n",
       "  'val': [Data(x=[10642, 2048], edge_index=[2, 51608], y=[10642], pos=[10642, 2], train_mask=[10642], val_mask=[10642], test_mask=[10642])]},\n",
       " '354_A3c_ASAP_tumor_map': {'train': [Data(x=[12102, 2048], edge_index=[2, 58352], y=[12102], pos=[12102, 2], train_mask=[12102], val_mask=[12102], test_mask=[12102])],\n",
       "  'val': [Data(x=[13586, 2048], edge_index=[2, 66282], y=[13586], pos=[13586, 2], train_mask=[13586], val_mask=[13586], test_mask=[13586])]},\n",
       " '354_D1b_ASAP_tumor_map': {'train': [Data(x=[7910, 2048], edge_index=[2, 38174], y=[7910], pos=[7910, 2], train_mask=[7910], val_mask=[7910], test_mask=[7910])],\n",
       "  'val': [Data(x=[7125, 2048], edge_index=[2, 34687], y=[7125], pos=[7125, 2], train_mask=[7125], val_mask=[7125], test_mask=[7125])]},\n",
       " '355_A1d_ASAP_tumor_map': {'train': [Data(x=[2793, 2048], edge_index=[2, 13597], y=[2793], pos=[2793, 2], train_mask=[2793], val_mask=[2793], test_mask=[2793]),\n",
       "   Data(x=[2950, 2048], edge_index=[2, 14440], y=[2950], pos=[2950, 2], train_mask=[2950], val_mask=[2950], test_mask=[2950])],\n",
       "  'val': [Data(x=[2684, 2048], edge_index=[2, 13052], y=[2684], pos=[2684, 2], train_mask=[2684], val_mask=[2684], test_mask=[2684])]},\n",
       " '356_A1b_ASAP_tumor_map': {'train': [Data(x=[3738, 2048], edge_index=[2, 18284], y=[3738], pos=[3738, 2], train_mask=[3738], val_mask=[3738], test_mask=[3738]),\n",
       "   Data(x=[3631, 2048], edge_index=[2, 17755], y=[3631], pos=[3631, 2], train_mask=[3631], val_mask=[3631], test_mask=[3631])],\n",
       "  'val': [Data(x=[3395, 2048], edge_index=[2, 16605], y=[3395], pos=[3395, 2], train_mask=[3395], val_mask=[3395], test_mask=[3395])]},\n",
       " '358_A1a_ASAP_tumor_map': {'train': [Data(x=[2626, 2048], edge_index=[2, 12492], y=[2626], pos=[2626, 2], train_mask=[2626], val_mask=[2626], test_mask=[2626]),\n",
       "   Data(x=[1742, 2048], edge_index=[2, 8152], y=[1742], pos=[1742, 2], train_mask=[1742], val_mask=[1742], test_mask=[1742]),\n",
       "   Data(x=[2955, 2048], edge_index=[2, 14357], y=[2955], pos=[2955, 2], train_mask=[2955], val_mask=[2955], test_mask=[2955]),\n",
       "   Data(x=[2561, 2048], edge_index=[2, 12297], y=[2561], pos=[2561, 2], train_mask=[2561], val_mask=[2561], test_mask=[2561]),\n",
       "   Data(x=[2825, 2048], edge_index=[2, 13425], y=[2825], pos=[2825, 2], train_mask=[2825], val_mask=[2825], test_mask=[2825])],\n",
       "  'val': [Data(x=[3280, 2048], edge_index=[2, 15970], y=[3280], pos=[3280, 2], train_mask=[3280], val_mask=[3280], test_mask=[3280])]},\n",
       " '358_A1b_ASAP_tumor_map': {'train': [Data(x=[3117, 2048], edge_index=[2, 15001], y=[3117], pos=[3117, 2], train_mask=[3117], val_mask=[3117], test_mask=[3117]),\n",
       "   Data(x=[2663, 2048], edge_index=[2, 12951], y=[2663], pos=[2663, 2], train_mask=[2663], val_mask=[2663], test_mask=[2663]),\n",
       "   Data(x=[5892, 2048], edge_index=[2, 28576], y=[5892], pos=[5892, 2], train_mask=[5892], val_mask=[5892], test_mask=[5892]),\n",
       "   Data(x=[3544, 2048], edge_index=[2, 17260], y=[3544], pos=[3544, 2], train_mask=[3544], val_mask=[3544], test_mask=[3544])],\n",
       "  'val': [Data(x=[3285, 2048], edge_index=[2, 15963], y=[3285], pos=[3285, 2], train_mask=[3285], val_mask=[3285], test_mask=[3285])]},\n",
       " '361_a_ASAP_tumor_map': {'train': [Data(x=[5045, 2048], edge_index=[2, 24627], y=[5045], pos=[5045, 2], train_mask=[5045], val_mask=[5045], test_mask=[5045]),\n",
       "   Data(x=[506, 2048], edge_index=[2, 2386], y=[506], pos=[506, 2], train_mask=[506], val_mask=[506], test_mask=[506]),\n",
       "   Data(x=[8312, 2048], edge_index=[2, 40554], y=[8312], pos=[8312, 2], train_mask=[8312], val_mask=[8312], test_mask=[8312])],\n",
       "  'val': [Data(x=[2890, 2048], edge_index=[2, 14014], y=[2890], pos=[2890, 2], train_mask=[2890], val_mask=[2890], test_mask=[2890])]},\n",
       " '361_b_ASAP_tumor_map': {'train': [Data(x=[15269, 2048], edge_index=[2, 74929], y=[15269], pos=[15269, 2], train_mask=[15269], val_mask=[15269], test_mask=[15269])],\n",
       "  'val': [Data(x=[6360, 2048], edge_index=[2, 31250], y=[6360], pos=[6360, 2], train_mask=[6360], val_mask=[6360], test_mask=[6360])]},\n",
       " '362_A1a_ASAP_tumor_map': {'train': [Data(x=[10656, 2048], edge_index=[2, 52170], y=[10656], pos=[10656, 2], train_mask=[10656], val_mask=[10656], test_mask=[10656])],\n",
       "  'val': [Data(x=[8954, 2048], edge_index=[2, 43558], y=[8954], pos=[8954, 2], train_mask=[8954], val_mask=[8954], test_mask=[8954])]},\n",
       " '362_A1b_ASAP_tumor_map': {'train': [Data(x=[10277, 2048], edge_index=[2, 50425], y=[10277], pos=[10277, 2], train_mask=[10277], val_mask=[10277], test_mask=[10277])],\n",
       "  'val': [Data(x=[10950, 2048], edge_index=[2, 53728], y=[10950], pos=[10950, 2], train_mask=[10950], val_mask=[10950], test_mask=[10950])]},\n",
       " '362_A1c_ASAP_tumor_map': {'train': [Data(x=[8771, 2048], edge_index=[2, 42925], y=[8771], pos=[8771, 2], train_mask=[8771], val_mask=[8771], test_mask=[8771])],\n",
       "  'val': [Data(x=[10025, 2048], edge_index=[2, 49095], y=[10025], pos=[10025, 2], train_mask=[10025], val_mask=[10025], test_mask=[10025])]},\n",
       " '363_A1b_ASAP_tumor_map': {'train': [Data(x=[10713, 2048], edge_index=[2, 52717], y=[10713], pos=[10713, 2], train_mask=[10713], val_mask=[10713], test_mask=[10713])],\n",
       "  'val': [Data(x=[10069, 2048], edge_index=[2, 49471], y=[10069], pos=[10069, 2], train_mask=[10069], val_mask=[10069], test_mask=[10069])]},\n",
       " '363_A1c_ASAP_tumor_map': {'train': [Data(x=[10333, 2048], edge_index=[2, 50949], y=[10333], pos=[10333, 2], train_mask=[10333], val_mask=[10333], test_mask=[10333])],\n",
       "  'val': [Data(x=[10265, 2048], edge_index=[2, 50613], y=[10265], pos=[10265, 2], train_mask=[10265], val_mask=[10265], test_mask=[10265])]},\n",
       " '363_A2b_ASAP_tumor_map': {'train': [Data(x=[8385, 2048], edge_index=[2, 41225], y=[8385], pos=[8385, 2], train_mask=[8385], val_mask=[8385], test_mask=[8385]),\n",
       "   Data(x=[8318, 2048], edge_index=[2, 40800], y=[8318], pos=[8318, 2], train_mask=[8318], val_mask=[8318], test_mask=[8318])],\n",
       "  'val': [Data(x=[8570, 2048], edge_index=[2, 42180], y=[8570], pos=[8570, 2], train_mask=[8570], val_mask=[8570], test_mask=[8570])]},\n",
       " '363_A3b_ASAP_tumor_map': {'train': [Data(x=[11918, 2048], edge_index=[2, 58766], y=[11918], pos=[11918, 2], train_mask=[11918], val_mask=[11918], test_mask=[11918])],\n",
       "  'val': [Data(x=[11553, 2048], edge_index=[2, 56695], y=[11553], pos=[11553, 2], train_mask=[11553], val_mask=[11553], test_mask=[11553])]},\n",
       " '364_A1b_ASAP_tumor_map': {'train': [Data(x=[7890, 2048], edge_index=[2, 38608], y=[7890], pos=[7890, 2], train_mask=[7890], val_mask=[7890], test_mask=[7890]),\n",
       "   Data(x=[7228, 2048], edge_index=[2, 35234], y=[7228], pos=[7228, 2], train_mask=[7228], val_mask=[7228], test_mask=[7228])],\n",
       "  'val': [Data(x=[7129, 2048], edge_index=[2, 34695], y=[7129], pos=[7129, 2], train_mask=[7129], val_mask=[7129], test_mask=[7129])]},\n",
       " '364_A2b_ASAP_tumor_map': {'train': [Data(x=[7762, 2048], edge_index=[2, 37502], y=[7762], pos=[7762, 2], train_mask=[7762], val_mask=[7762], test_mask=[7762]),\n",
       "   Data(x=[6950, 2048], edge_index=[2, 33088], y=[6950], pos=[6950, 2], train_mask=[6950], val_mask=[6950], test_mask=[6950])],\n",
       "  'val': [Data(x=[7887, 2048], edge_index=[2, 38045], y=[7887], pos=[7887, 2], train_mask=[7887], val_mask=[7887], test_mask=[7887])]},\n",
       " '364_A4b_ASAP_tumor_map': {'train': [Data(x=[7567, 2048], edge_index=[2, 36695], y=[7567], pos=[7567, 2], train_mask=[7567], val_mask=[7567], test_mask=[7567]),\n",
       "   Data(x=[6416, 2048], edge_index=[2, 30756], y=[6416], pos=[6416, 2], train_mask=[6416], val_mask=[6416], test_mask=[6416])],\n",
       "  'val': [Data(x=[8013, 2048], edge_index=[2, 38809], y=[8013], pos=[8013, 2], train_mask=[8013], val_mask=[8013], test_mask=[8013])]},\n",
       " '365_A1b_ASAP_tumor_map': {'train': [Data(x=[6347, 2048], edge_index=[2, 31109], y=[6347], pos=[6347, 2], train_mask=[6347], val_mask=[6347], test_mask=[6347]),\n",
       "   Data(x=[186, 2048], edge_index=[2, 812], y=[186], pos=[186, 2], train_mask=[186], val_mask=[186], test_mask=[186]),\n",
       "   Data(x=[6236, 2048], edge_index=[2, 30544], y=[6236], pos=[6236, 2], train_mask=[6236], val_mask=[6236], test_mask=[6236])],\n",
       "  'val': [Data(x=[6763, 2048], edge_index=[2, 33205], y=[6763], pos=[6763, 2], train_mask=[6763], val_mask=[6763], test_mask=[6763])]},\n",
       " '365_A2b_ASAP_tumor_map': {'train': [Data(x=[6896, 2048], edge_index=[2, 33746], y=[6896], pos=[6896, 2], train_mask=[6896], val_mask=[6896], test_mask=[6896]),\n",
       "   Data(x=[5952, 2048], edge_index=[2, 29198], y=[5952], pos=[5952, 2], train_mask=[5952], val_mask=[5952], test_mask=[5952])],\n",
       "  'val': [Data(x=[5449, 2048], edge_index=[2, 26585], y=[5449], pos=[5449, 2], train_mask=[5449], val_mask=[5449], test_mask=[5449])]},\n",
       " '366_A1a_ASAP_tumor_map': {'train': [Data(x=[7163, 2048], edge_index=[2, 34633], y=[7163], pos=[7163, 2], train_mask=[7163], val_mask=[7163], test_mask=[7163])],\n",
       "  'val': [Data(x=[6673, 2048], edge_index=[2, 32347], y=[6673], pos=[6673, 2], train_mask=[6673], val_mask=[6673], test_mask=[6673])]},\n",
       " '366_A1b_ASAP_tumor_map': {'train': [Data(x=[8481, 2048], edge_index=[2, 41449], y=[8481], pos=[8481, 2], train_mask=[8481], val_mask=[8481], test_mask=[8481])],\n",
       "  'val': [Data(x=[8178, 2048], edge_index=[2, 39998], y=[8178], pos=[8178, 2], train_mask=[8178], val_mask=[8178], test_mask=[8178])]},\n",
       " '366_A1c_ASAP_tumor_map': {'train': [Data(x=[8477, 2048], edge_index=[2, 41553], y=[8477], pos=[8477, 2], train_mask=[8477], val_mask=[8477], test_mask=[8477])],\n",
       "  'val': [Data(x=[8539, 2048], edge_index=[2, 41785], y=[8539], pos=[8539, 2], train_mask=[8539], val_mask=[8539], test_mask=[8539])]},\n",
       " '367_A2b_ASAP_tumor_map': {'train': [Data(x=[2290, 2048], edge_index=[2, 11108], y=[2290], pos=[2290, 2], train_mask=[2290], val_mask=[2290], test_mask=[2290]),\n",
       "   Data(x=[2311, 2048], edge_index=[2, 11239], y=[2311], pos=[2311, 2], train_mask=[2311], val_mask=[2311], test_mask=[2311]),\n",
       "   Data(x=[2053, 2048], edge_index=[2, 10031], y=[2053], pos=[2053, 2], train_mask=[2053], val_mask=[2053], test_mask=[2053]),\n",
       "   Data(x=[2518, 2048], edge_index=[2, 12228], y=[2518], pos=[2518, 2], train_mask=[2518], val_mask=[2518], test_mask=[2518])],\n",
       "  'val': [Data(x=[2000, 2048], edge_index=[2, 9724], y=[2000], pos=[2000, 2], train_mask=[2000], val_mask=[2000], test_mask=[2000])]},\n",
       " '368_A1b_ASAP_tumor_map': {'train': [Data(x=[14939, 2048], edge_index=[2, 73293], y=[14939], pos=[14939, 2], train_mask=[14939], val_mask=[14939], test_mask=[14939])],\n",
       "  'val': [Data(x=[14068, 2048], edge_index=[2, 68870], y=[14068], pos=[14068, 2], train_mask=[14068], val_mask=[14068], test_mask=[14068])]},\n",
       " '368_A1c_ASAP_tumor_map': {'train': [Data(x=[16135, 2048], edge_index=[2, 79453], y=[16135], pos=[16135, 2], train_mask=[16135], val_mask=[16135], test_mask=[16135])],\n",
       "  'val': [Data(x=[15735, 2048], edge_index=[2, 76983], y=[15735], pos=[15735, 2], train_mask=[15735], val_mask=[15735], test_mask=[15735])]},\n",
       " '368_A1d_ASAP_tumor_map': {'train': [Data(x=[17493, 2048], edge_index=[2, 86455], y=[17493], pos=[17493, 2], train_mask=[17493], val_mask=[17493], test_mask=[17493])],\n",
       "  'val': [Data(x=[16641, 2048], edge_index=[2, 81905], y=[16641], pos=[16641, 2], train_mask=[16641], val_mask=[16641], test_mask=[16641])]},\n",
       " '369_A1b_ASAP_tumor_map': {'train': [Data(x=[4862, 2048], edge_index=[2, 23662], y=[4862], pos=[4862, 2], train_mask=[4862], val_mask=[4862], test_mask=[4862]),\n",
       "   Data(x=[5344, 2048], edge_index=[2, 26102], y=[5344], pos=[5344, 2], train_mask=[5344], val_mask=[5344], test_mask=[5344])],\n",
       "  'val': [Data(x=[4344, 2048], edge_index=[2, 21160], y=[4344], pos=[4344, 2], train_mask=[4344], val_mask=[4344], test_mask=[4344])]},\n",
       " '369_A1c_ASAP_tumor_map': {'train': [Data(x=[3579, 2048], edge_index=[2, 17421], y=[3579], pos=[3579, 2], train_mask=[3579], val_mask=[3579], test_mask=[3579]),\n",
       "   Data(x=[2806, 2048], edge_index=[2, 13668], y=[2806], pos=[2806, 2], train_mask=[2806], val_mask=[2806], test_mask=[2806]),\n",
       "   Data(x=[3465, 2048], edge_index=[2, 16751], y=[3465], pos=[3465, 2], train_mask=[3465], val_mask=[3465], test_mask=[3465])],\n",
       "  'val': [Data(x=[3144, 2048], edge_index=[2, 15240], y=[3144], pos=[3144, 2], train_mask=[3144], val_mask=[3144], test_mask=[3144])]},\n",
       " '369_A2b_ASAP_tumor_map': {'train': [Data(x=[3510, 2048], edge_index=[2, 17166], y=[3510], pos=[3510, 2], train_mask=[3510], val_mask=[3510], test_mask=[3510]),\n",
       "   Data(x=[3861, 2048], edge_index=[2, 18849], y=[3861], pos=[3861, 2], train_mask=[3861], val_mask=[3861], test_mask=[3861]),\n",
       "   Data(x=[1230, 2048], edge_index=[2, 5880], y=[1230], pos=[1230, 2], train_mask=[1230], val_mask=[1230], test_mask=[1230]),\n",
       "   Data(x=[1299, 2048], edge_index=[2, 6165], y=[1299], pos=[1299, 2], train_mask=[1299], val_mask=[1299], test_mask=[1299]),\n",
       "   Data(x=[3534, 2048], edge_index=[2, 17090], y=[3534], pos=[3534, 2], train_mask=[3534], val_mask=[3534], test_mask=[3534])],\n",
       "  'val': [Data(x=[851, 2048], edge_index=[2, 4003], y=[851], pos=[851, 2], train_mask=[851], val_mask=[851], test_mask=[851])]},\n",
       " '370_A1b_ASAP_tumor_map': {'train': [Data(x=[3522, 2048], edge_index=[2, 17230], y=[3522], pos=[3522, 2], train_mask=[3522], val_mask=[3522], test_mask=[3522]),\n",
       "   Data(x=[3468, 2048], edge_index=[2, 16934], y=[3468], pos=[3468, 2], train_mask=[3468], val_mask=[3468], test_mask=[3468])],\n",
       "  'val': [Data(x=[3362, 2048], edge_index=[2, 16446], y=[3362], pos=[3362, 2], train_mask=[3362], val_mask=[3362], test_mask=[3362])]},\n",
       " '370_A2a_ASAP_tumor_map': {'train': [Data(x=[3051, 2048], edge_index=[2, 14891], y=[3051], pos=[3051, 2], train_mask=[3051], val_mask=[3051], test_mask=[3051]),\n",
       "   Data(x=[2460, 2048], edge_index=[2, 11918], y=[2460], pos=[2460, 2], train_mask=[2460], val_mask=[2460], test_mask=[2460])],\n",
       "  'val': [Data(x=[3383, 2048], edge_index=[2, 16557], y=[3383], pos=[3383, 2], train_mask=[3383], val_mask=[3383], test_mask=[3383])]},\n",
       " '370_A2b_ASAP_tumor_map': {'train': [Data(x=[3236, 2048], edge_index=[2, 15876], y=[3236], pos=[3236, 2], train_mask=[3236], val_mask=[3236], test_mask=[3236]),\n",
       "   Data(x=[3291, 2048], edge_index=[2, 16135], y=[3291], pos=[3291, 2], train_mask=[3291], val_mask=[3291], test_mask=[3291])],\n",
       "  'val': [Data(x=[3095, 2048], edge_index=[2, 15181], y=[3095], pos=[3095, 2], train_mask=[3095], val_mask=[3095], test_mask=[3095])]},\n",
       " '37_A2d_ASAP_tumor_map': {'train': [Data(x=[7697, 2048], edge_index=[2, 36761], y=[7697], pos=[7697, 2], train_mask=[7697], val_mask=[7697], test_mask=[7697])],\n",
       "  'val': [Data(x=[7718, 2048], edge_index=[2, 36598], y=[7718], pos=[7718, 2], train_mask=[7718], val_mask=[7718], test_mask=[7718])]},\n",
       " '61_A1a_ASAP_tumor_map': {'train': [Data(x=[1708, 2048], edge_index=[2, 8198], y=[1708], pos=[1708, 2], train_mask=[1708], val_mask=[1708], test_mask=[1708]),\n",
       "   Data(x=[2059, 2048], edge_index=[2, 9967], y=[2059], pos=[2059, 2], train_mask=[2059], val_mask=[2059], test_mask=[2059]),\n",
       "   Data(x=[2178, 2048], edge_index=[2, 10598], y=[2178], pos=[2178, 2], train_mask=[2178], val_mask=[2178], test_mask=[2178]),\n",
       "   Data(x=[2096, 2048], edge_index=[2, 10164], y=[2096], pos=[2096, 2], train_mask=[2096], val_mask=[2096], test_mask=[2096])],\n",
       "  'val': [Data(x=[2201, 2048], edge_index=[2, 10721], y=[2201], pos=[2201, 2], train_mask=[2201], val_mask=[2201], test_mask=[2201])]},\n",
       " '61_B1a_ASAP_tumor_map': {'train': [Data(x=[2145, 2048], edge_index=[2, 10425], y=[2145], pos=[2145, 2], train_mask=[2145], val_mask=[2145], test_mask=[2145]),\n",
       "   Data(x=[212, 2048], edge_index=[2, 974], y=[212], pos=[212, 2], train_mask=[212], val_mask=[212], test_mask=[212]),\n",
       "   Data(x=[2055, 2048], edge_index=[2, 9939], y=[2055], pos=[2055, 2], train_mask=[2055], val_mask=[2055], test_mask=[2055]),\n",
       "   Data(x=[1275, 2048], edge_index=[2, 6075], y=[1275], pos=[1275, 2], train_mask=[1275], val_mask=[1275], test_mask=[1275]),\n",
       "   Data(x=[1771, 2048], edge_index=[2, 8535], y=[1771], pos=[1771, 2], train_mask=[1771], val_mask=[1771], test_mask=[1771])],\n",
       "  'val': [Data(x=[2088, 2048], edge_index=[2, 10144], y=[2088], pos=[2088, 2], train_mask=[2088], val_mask=[2088], test_mask=[2088])]},\n",
       " '70_A2b_ASAP_tumor_map': {'train': [Data(x=[1686, 2048], edge_index=[2, 8148], y=[1686], pos=[1686, 2], train_mask=[1686], val_mask=[1686], test_mask=[1686]),\n",
       "   Data(x=[1663, 2048], edge_index=[2, 8025], y=[1663], pos=[1663, 2], train_mask=[1663], val_mask=[1663], test_mask=[1663]),\n",
       "   Data(x=[1787, 2048], edge_index=[2, 8725], y=[1787], pos=[1787, 2], train_mask=[1787], val_mask=[1787], test_mask=[1787]),\n",
       "   Data(x=[1805, 2048], edge_index=[2, 8797], y=[1805], pos=[1805, 2], train_mask=[1805], val_mask=[1805], test_mask=[1805]),\n",
       "   Data(x=[1665, 2048], edge_index=[2, 8099], y=[1665], pos=[1665, 2], train_mask=[1665], val_mask=[1665], test_mask=[1665])],\n",
       "  'val': [Data(x=[1672, 2048], edge_index=[2, 8158], y=[1672], pos=[1672, 2], train_mask=[1672], val_mask=[1672], test_mask=[1672])]},\n",
       " '7_A1c_ASAP_tumor_map': {'train': [Data(x=[6353, 2048], edge_index=[2, 31203], y=[6353], pos=[6353, 2], train_mask=[6353], val_mask=[6353], test_mask=[6353]),\n",
       "   Data(x=[6222, 2048], edge_index=[2, 30556], y=[6222], pos=[6222, 2], train_mask=[6222], val_mask=[6222], test_mask=[6222])],\n",
       "  'val': [Data(x=[5921, 2048], edge_index=[2, 29101], y=[5921], pos=[5921, 2], train_mask=[5921], val_mask=[5921], test_mask=[5921])]},\n",
       " '7_A1d_ASAP_tumor_map': {'train': [Data(x=[5494, 2048], edge_index=[2, 26986], y=[5494], pos=[5494, 2], train_mask=[5494], val_mask=[5494], test_mask=[5494]),\n",
       "   Data(x=[5831, 2048], edge_index=[2, 28669], y=[5831], pos=[5831, 2], train_mask=[5831], val_mask=[5831], test_mask=[5831])],\n",
       "  'val': [Data(x=[5516, 2048], edge_index=[2, 27058], y=[5516], pos=[5516, 2], train_mask=[5516], val_mask=[5516], test_mask=[5516])]},\n",
       " '7_A1e_ASAP_tumor_map': {'train': [Data(x=[4710, 2048], edge_index=[2, 23116], y=[4710], pos=[4710, 2], train_mask=[4710], val_mask=[4710], test_mask=[4710]),\n",
       "   Data(x=[5083, 2048], edge_index=[2, 24985], y=[5083], pos=[5083, 2], train_mask=[5083], val_mask=[5083], test_mask=[5083])],\n",
       "  'val': [Data(x=[4639, 2048], edge_index=[2, 22765], y=[4639], pos=[4639, 2], train_mask=[4639], val_mask=[4639], test_mask=[4639])]}}"
      ]
     },
     "execution_count": 13,
     "metadata": {},
     "output_type": "execute_result"
    }
   ],
   "source": [
    "graph_datasets"
   ]
  },
  {
   "cell_type": "code",
   "execution_count": 1,
   "id": "c1757ec7",
   "metadata": {},
   "outputs": [
    {
     "ename": "NameError",
     "evalue": "name 'Data' is not defined",
     "output_type": "error",
     "traceback": [
      "\u001b[0;31m---------------------------------------------------------------------------\u001b[0m",
      "\u001b[0;31mNameError\u001b[0m                                 Traceback (most recent call last)",
      "Input \u001b[0;32mIn [1]\u001b[0m, in \u001b[0;36m<cell line: 1>\u001b[0;34m()\u001b[0m\n\u001b[0;32m----> 1\u001b[0m graph_datasets\u001b[38;5;241m=\u001b[39m{\u001b[38;5;124m'\u001b[39m\u001b[38;5;124m109_A1c_ASAP_tumor_map\u001b[39m\u001b[38;5;124m'\u001b[39m: {\u001b[38;5;124m'\u001b[39m\u001b[38;5;124mtrain\u001b[39m\u001b[38;5;124m'\u001b[39m: [\u001b[43mData\u001b[49m(x\u001b[38;5;241m=\u001b[39m[\u001b[38;5;241m20589\u001b[39m, \u001b[38;5;241m2048\u001b[39m], edge_index\u001b[38;5;241m=\u001b[39m[\u001b[38;5;241m2\u001b[39m, \u001b[38;5;241m102219\u001b[39m], y\u001b[38;5;241m=\u001b[39m[\u001b[38;5;241m20589\u001b[39m], pos\u001b[38;5;241m=\u001b[39m[\u001b[38;5;241m20589\u001b[39m, \u001b[38;5;241m2\u001b[39m], train_mask\u001b[38;5;241m=\u001b[39m[\u001b[38;5;241m20589\u001b[39m], val_mask\u001b[38;5;241m=\u001b[39m[\u001b[38;5;241m20589\u001b[39m], test_mask\u001b[38;5;241m=\u001b[39m[\u001b[38;5;241m20589\u001b[39m])], \u001b[38;5;124m'\u001b[39m\u001b[38;5;124mval\u001b[39m\u001b[38;5;124m'\u001b[39m: [Data(x\u001b[38;5;241m=\u001b[39m[\u001b[38;5;241m20706\u001b[39m, \u001b[38;5;241m2048\u001b[39m], edge_index\u001b[38;5;241m=\u001b[39m[\u001b[38;5;241m2\u001b[39m, \u001b[38;5;241m102704\u001b[39m], y\u001b[38;5;241m=\u001b[39m[\u001b[38;5;241m20706\u001b[39m], pos\u001b[38;5;241m=\u001b[39m[\u001b[38;5;241m20706\u001b[39m, \u001b[38;5;241m2\u001b[39m], train_mask\u001b[38;5;241m=\u001b[39m[\u001b[38;5;241m20706\u001b[39m], val_mask\u001b[38;5;241m=\u001b[39m[\u001b[38;5;241m20706\u001b[39m], test_mask\u001b[38;5;241m=\u001b[39m[\u001b[38;5;241m20706\u001b[39m])]}, \u001b[38;5;124m'\u001b[39m\u001b[38;5;124m10_A1a_ASAP_tumor_map\u001b[39m\u001b[38;5;124m'\u001b[39m:{\u001b[38;5;124m'\u001b[39m\u001b[38;5;124mtrain\u001b[39m\u001b[38;5;124m'\u001b[39m: [Data(x\u001b[38;5;241m=\u001b[39m[\u001b[38;5;241m5563\u001b[39m, \u001b[38;5;241m2048\u001b[39m], edge_index\u001b[38;5;241m=\u001b[39m[\u001b[38;5;241m2\u001b[39m, \u001b[38;5;241m27309\u001b[39m], y\u001b[38;5;241m=\u001b[39m[\u001b[38;5;241m5563\u001b[39m], pos\u001b[38;5;241m=\u001b[39m[\u001b[38;5;241m5563\u001b[39m, \u001b[38;5;241m2\u001b[39m], train_mask\u001b[38;5;241m=\u001b[39m[\u001b[38;5;241m5563\u001b[39m], val_mask\u001b[38;5;241m=\u001b[39m[\u001b[38;5;241m5563\u001b[39m], test_mask\u001b[38;5;241m=\u001b[39m[\u001b[38;5;241m5563\u001b[39m]), Data(x\u001b[38;5;241m=\u001b[39m[\u001b[38;5;241m5101\u001b[39m, \u001b[38;5;241m2048\u001b[39m], edge_index\u001b[38;5;241m=\u001b[39m[\u001b[38;5;241m2\u001b[39m, \u001b[38;5;241m24973\u001b[39m], y\u001b[38;5;241m=\u001b[39m[\u001b[38;5;241m5101\u001b[39m], pos\u001b[38;5;241m=\u001b[39m[\u001b[38;5;241m5101\u001b[39m, \u001b[38;5;241m2\u001b[39m], train_mask\u001b[38;5;241m=\u001b[39m[\u001b[38;5;241m5101\u001b[39m], val_mask\u001b[38;5;241m=\u001b[39m[\u001b[38;5;241m5101\u001b[39m], test_mask\u001b[38;5;241m=\u001b[39m[\u001b[38;5;241m5101\u001b[39m])], \u001b[38;5;124m'\u001b[39m\u001b[38;5;124mval\u001b[39m\u001b[38;5;124m'\u001b[39m: [Data(x\u001b[38;5;241m=\u001b[39m[\u001b[38;5;241m5804\u001b[39m, \u001b[38;5;241m2048\u001b[39m], edge_index\u001b[38;5;241m=\u001b[39m[\u001b[38;5;241m2\u001b[39m, \u001b[38;5;241m28532\u001b[39m], y\u001b[38;5;241m=\u001b[39m[\u001b[38;5;241m5804\u001b[39m], pos\u001b[38;5;241m=\u001b[39m[\u001b[38;5;241m5804\u001b[39m, \u001b[38;5;241m2\u001b[39m], train_mask\u001b[38;5;241m=\u001b[39m[\u001b[38;5;241m5804\u001b[39m], val_mask\u001b[38;5;241m=\u001b[39m[\u001b[38;5;241m5804\u001b[39m], test_mask\u001b[38;5;241m=\u001b[39m[\u001b[38;5;241m5804\u001b[39m])]}, \u001b[38;5;124m'\u001b[39m\u001b[38;5;124m10_A1b_ASAP_tumor_map\u001b[39m\u001b[38;5;124m'\u001b[39m:{\u001b[38;5;124m'\u001b[39m\u001b[38;5;124mtrain\u001b[39m\u001b[38;5;124m'\u001b[39m: [Data(x\u001b[38;5;241m=\u001b[39m[\u001b[38;5;241m5719\u001b[39m, \u001b[38;5;241m2048\u001b[39m], edge_index\u001b[38;5;241m=\u001b[39m[\u001b[38;5;241m2\u001b[39m, \u001b[38;5;241m28113\u001b[39m], y\u001b[38;5;241m=\u001b[39m[\u001b[38;5;241m5719\u001b[39m], pos\u001b[38;5;241m=\u001b[39m[\u001b[38;5;241m5719\u001b[39m, \u001b[38;5;241m2\u001b[39m], train_mask\u001b[38;5;241m=\u001b[39m[\u001b[38;5;241m5719\u001b[39m], val_mask\u001b[38;5;241m=\u001b[39m[\u001b[38;5;241m5719\u001b[39m], test_mask\u001b[38;5;241m=\u001b[39m[\u001b[38;5;241m5719\u001b[39m]), Data(x\u001b[38;5;241m=\u001b[39m[\u001b[38;5;241m5649\u001b[39m, \u001b[38;5;241m2048\u001b[39m], edge_index\u001b[38;5;241m=\u001b[39m[\u001b[38;5;241m2\u001b[39m, \u001b[38;5;241m27761\u001b[39m], y\u001b[38;5;241m=\u001b[39m[\u001b[38;5;241m5649\u001b[39m], pos\u001b[38;5;241m=\u001b[39m[\u001b[38;5;241m5649\u001b[39m, \u001b[38;5;241m2\u001b[39m], train_mask\u001b[38;5;241m=\u001b[39m[\u001b[38;5;241m5649\u001b[39m], val_mask\u001b[38;5;241m=\u001b[39m[\u001b[38;5;241m5649\u001b[39m], test_mask\u001b[38;5;241m=\u001b[39m[\u001b[38;5;241m5649\u001b[39m])], \u001b[38;5;124m'\u001b[39m\u001b[38;5;124mval\u001b[39m\u001b[38;5;124m'\u001b[39m: [Data(x\u001b[38;5;241m=\u001b[39m[\u001b[38;5;241m5642\u001b[39m, \u001b[38;5;241m2048\u001b[39m], edge_index\u001b[38;5;241m=\u001b[39m[\u001b[38;5;241m2\u001b[39m, \u001b[38;5;241m27702\u001b[39m], y\u001b[38;5;241m=\u001b[39m[\u001b[38;5;241m5642\u001b[39m], pos\u001b[38;5;241m=\u001b[39m[\u001b[38;5;241m5642\u001b[39m, \u001b[38;5;241m2\u001b[39m], train_mask\u001b[38;5;241m=\u001b[39m[\u001b[38;5;241m5642\u001b[39m], val_mask\u001b[38;5;241m=\u001b[39m[\u001b[38;5;241m5642\u001b[39m], test_mask\u001b[38;5;241m=\u001b[39m[\u001b[38;5;241m5642\u001b[39m])]}, \u001b[38;5;124m'\u001b[39m\u001b[38;5;124m10_A2b_ASAP_tumor_map\u001b[39m\u001b[38;5;124m'\u001b[39m:{\u001b[38;5;124m'\u001b[39m\u001b[38;5;124mtrain\u001b[39m\u001b[38;5;124m'\u001b[39m: [Data(x\u001b[38;5;241m=\u001b[39m[\u001b[38;5;241m6098\u001b[39m, \u001b[38;5;241m2048\u001b[39m], edge_index\u001b[38;5;241m=\u001b[39m[\u001b[38;5;241m2\u001b[39m, \u001b[38;5;241m29956\u001b[39m], y\u001b[38;5;241m=\u001b[39m[\u001b[38;5;241m6098\u001b[39m], pos\u001b[38;5;241m=\u001b[39m[\u001b[38;5;241m6098\u001b[39m, \u001b[38;5;241m2\u001b[39m], train_mask\u001b[38;5;241m=\u001b[39m[\u001b[38;5;241m6098\u001b[39m], val_mask\u001b[38;5;241m=\u001b[39m[\u001b[38;5;241m6098\u001b[39m], test_mask\u001b[38;5;241m=\u001b[39m[\u001b[38;5;241m6098\u001b[39m]), Data(x\u001b[38;5;241m=\u001b[39m[\u001b[38;5;241m6239\u001b[39m, \u001b[38;5;241m2048\u001b[39m], edge_index\u001b[38;5;241m=\u001b[39m[\u001b[38;5;241m2\u001b[39m, \u001b[38;5;241m30715\u001b[39m], y\u001b[38;5;241m=\u001b[39m[\u001b[38;5;241m6239\u001b[39m], pos\u001b[38;5;241m=\u001b[39m[\u001b[38;5;241m6239\u001b[39m, \u001b[38;5;241m2\u001b[39m], train_mask\u001b[38;5;241m=\u001b[39m[\u001b[38;5;241m6239\u001b[39m], val_mask\u001b[38;5;241m=\u001b[39m[\u001b[38;5;241m6239\u001b[39m], test_mask\u001b[38;5;241m=\u001b[39m[\u001b[38;5;241m6239\u001b[39m])], \u001b[38;5;124m'\u001b[39m\u001b[38;5;124mval\u001b[39m\u001b[38;5;124m'\u001b[39m: [Data(x\u001b[38;5;241m=\u001b[39m[\u001b[38;5;241m6085\u001b[39m, \u001b[38;5;241m2048\u001b[39m], edge_index\u001b[38;5;241m=\u001b[39m[\u001b[38;5;241m2\u001b[39m, \u001b[38;5;241m29929\u001b[39m], y\u001b[38;5;241m=\u001b[39m[\u001b[38;5;241m6085\u001b[39m], pos\u001b[38;5;241m=\u001b[39m[\u001b[38;5;241m6085\u001b[39m, \u001b[38;5;241m2\u001b[39m], train_mask\u001b[38;5;241m=\u001b[39m[\u001b[38;5;241m6085\u001b[39m], val_mask\u001b[38;5;241m=\u001b[39m[\u001b[38;5;241m6085\u001b[39m], test_mask\u001b[38;5;241m=\u001b[39m[\u001b[38;5;241m6085\u001b[39m])]}, \u001b[38;5;124m'\u001b[39m\u001b[38;5;124m110_A2b_ASAP_tumor_map\u001b[39m\u001b[38;5;124m'\u001b[39m:{\u001b[38;5;124m'\u001b[39m\u001b[38;5;124mtrain\u001b[39m\u001b[38;5;124m'\u001b[39m: [Data(x\u001b[38;5;241m=\u001b[39m[\u001b[38;5;241m4220\u001b[39m, \u001b[38;5;241m2048\u001b[39m], edge_index\u001b[38;5;241m=\u001b[39m[\u001b[38;5;241m2\u001b[39m, \u001b[38;5;241m20574\u001b[39m], y\u001b[38;5;241m=\u001b[39m[\u001b[38;5;241m4220\u001b[39m], pos\u001b[38;5;241m=\u001b[39m[\u001b[38;5;241m4220\u001b[39m, \u001b[38;5;241m2\u001b[39m], train_mask\u001b[38;5;241m=\u001b[39m[\u001b[38;5;241m4220\u001b[39m], val_mask\u001b[38;5;241m=\u001b[39m[\u001b[38;5;241m4220\u001b[39m], test_mask\u001b[38;5;241m=\u001b[39m[\u001b[38;5;241m4220\u001b[39m]), Data(x\u001b[38;5;241m=\u001b[39m[\u001b[38;5;241m4557\u001b[39m, \u001b[38;5;241m2048\u001b[39m], edge_index\u001b[38;5;241m=\u001b[39m[\u001b[38;5;241m2\u001b[39m, \u001b[38;5;241m22333\u001b[39m], y\u001b[38;5;241m=\u001b[39m[\u001b[38;5;241m4557\u001b[39m], pos\u001b[38;5;241m=\u001b[39m[\u001b[38;5;241m4557\u001b[39m, \u001b[38;5;241m2\u001b[39m], train_mask\u001b[38;5;241m=\u001b[39m[\u001b[38;5;241m4557\u001b[39m], val_mask\u001b[38;5;241m=\u001b[39m[\u001b[38;5;241m4557\u001b[39m], test_mask\u001b[38;5;241m=\u001b[39m[\u001b[38;5;241m4557\u001b[39m]), Data(x\u001b[38;5;241m=\u001b[39m[\u001b[38;5;241m4607\u001b[39m, \u001b[38;5;241m2048\u001b[39m], edge_index\u001b[38;5;241m=\u001b[39m[\u001b[38;5;241m2\u001b[39m, \u001b[38;5;241m22561\u001b[39m], y\u001b[38;5;241m=\u001b[39m[\u001b[38;5;241m4607\u001b[39m], pos\u001b[38;5;241m=\u001b[39m[\u001b[38;5;241m4607\u001b[39m, \u001b[38;5;241m2\u001b[39m], train_mask\u001b[38;5;241m=\u001b[39m[\u001b[38;5;241m4607\u001b[39m], val_mask\u001b[38;5;241m=\u001b[39m[\u001b[38;5;241m4607\u001b[39m], test_mask\u001b[38;5;241m=\u001b[39m[\u001b[38;5;241m4607\u001b[39m])], \u001b[38;5;124m'\u001b[39m\u001b[38;5;124mval\u001b[39m\u001b[38;5;124m'\u001b[39m: [Data(x\u001b[38;5;241m=\u001b[39m[\u001b[38;5;241m4472\u001b[39m, \u001b[38;5;241m2048\u001b[39m], edge_index\u001b[38;5;241m=\u001b[39m[\u001b[38;5;241m2\u001b[39m, \u001b[38;5;241m21880\u001b[39m], y\u001b[38;5;241m=\u001b[39m[\u001b[38;5;241m4472\u001b[39m], pos\u001b[38;5;241m=\u001b[39m[\u001b[38;5;241m4472\u001b[39m, \u001b[38;5;241m2\u001b[39m], train_mask\u001b[38;5;241m=\u001b[39m[\u001b[38;5;241m4472\u001b[39m], val_mask\u001b[38;5;241m=\u001b[39m[\u001b[38;5;241m4472\u001b[39m], test_mask\u001b[38;5;241m=\u001b[39m[\u001b[38;5;241m4472\u001b[39m])]}, \u001b[38;5;124m'\u001b[39m\u001b[38;5;124m112_a_ASAP_tumor_map\u001b[39m\u001b[38;5;124m'\u001b[39m:{\u001b[38;5;124m'\u001b[39m\u001b[38;5;124mtrain\u001b[39m\u001b[38;5;124m'\u001b[39m: [Data(x\u001b[38;5;241m=\u001b[39m[\u001b[38;5;241m817\u001b[39m, \u001b[38;5;241m2048\u001b[39m], edge_index\u001b[38;5;241m=\u001b[39m[\u001b[38;5;241m2\u001b[39m, \u001b[38;5;241m3897\u001b[39m], y\u001b[38;5;241m=\u001b[39m[\u001b[38;5;241m817\u001b[39m], pos\u001b[38;5;241m=\u001b[39m[\u001b[38;5;241m817\u001b[39m, \u001b[38;5;241m2\u001b[39m], train_mask\u001b[38;5;241m=\u001b[39m[\u001b[38;5;241m817\u001b[39m], val_mask\u001b[38;5;241m=\u001b[39m[\u001b[38;5;241m817\u001b[39m], test_mask\u001b[38;5;241m=\u001b[39m[\u001b[38;5;241m817\u001b[39m]), Data(x\u001b[38;5;241m=\u001b[39m[\u001b[38;5;241m795\u001b[39m, \u001b[38;5;241m2048\u001b[39m], edge_index\u001b[38;5;241m=\u001b[39m[\u001b[38;5;241m2\u001b[39m, \u001b[38;5;241m3785\u001b[39m], y\u001b[38;5;241m=\u001b[39m[\u001b[38;5;241m795\u001b[39m], pos\u001b[38;5;241m=\u001b[39m[\u001b[38;5;241m795\u001b[39m, \u001b[38;5;241m2\u001b[39m], train_mask\u001b[38;5;241m=\u001b[39m[\u001b[38;5;241m795\u001b[39m], val_mask\u001b[38;5;241m=\u001b[39m[\u001b[38;5;241m795\u001b[39m], test_mask\u001b[38;5;241m=\u001b[39m[\u001b[38;5;241m795\u001b[39m]), Data(x\u001b[38;5;241m=\u001b[39m[\u001b[38;5;241m703\u001b[39m, \u001b[38;5;241m2048\u001b[39m], edge_index\u001b[38;5;241m=\u001b[39m[\u001b[38;5;241m2\u001b[39m, \u001b[38;5;241m3369\u001b[39m], y\u001b[38;5;241m=\u001b[39m[\u001b[38;5;241m703\u001b[39m], pos\u001b[38;5;241m=\u001b[39m[\u001b[38;5;241m703\u001b[39m, \u001b[38;5;241m2\u001b[39m], train_mask\u001b[38;5;241m=\u001b[39m[\u001b[38;5;241m703\u001b[39m], val_mask\u001b[38;5;241m=\u001b[39m[\u001b[38;5;241m703\u001b[39m], test_mask\u001b[38;5;241m=\u001b[39m[\u001b[38;5;241m703\u001b[39m]), Data(x\u001b[38;5;241m=\u001b[39m[\u001b[38;5;241m832\u001b[39m, \u001b[38;5;241m2048\u001b[39m], edge_index\u001b[38;5;241m=\u001b[39m[\u001b[38;5;241m2\u001b[39m, \u001b[38;5;241m3972\u001b[39m], y\u001b[38;5;241m=\u001b[39m[\u001b[38;5;241m832\u001b[39m], pos\u001b[38;5;241m=\u001b[39m[\u001b[38;5;241m832\u001b[39m, \u001b[38;5;241m2\u001b[39m], train_mask\u001b[38;5;241m=\u001b[39m[\u001b[38;5;241m832\u001b[39m], val_mask\u001b[38;5;241m=\u001b[39m[\u001b[38;5;241m832\u001b[39m], test_mask\u001b[38;5;241m=\u001b[39m[\u001b[38;5;241m832\u001b[39m]), Data(x\u001b[38;5;241m=\u001b[39m[\u001b[38;5;241m668\u001b[39m, \u001b[38;5;241m2048\u001b[39m], edge_index\u001b[38;5;241m=\u001b[39m[\u001b[38;5;241m2\u001b[39m, \u001b[38;5;241m3170\u001b[39m], y\u001b[38;5;241m=\u001b[39m[\u001b[38;5;241m668\u001b[39m], pos\u001b[38;5;241m=\u001b[39m[\u001b[38;5;241m668\u001b[39m, \u001b[38;5;241m2\u001b[39m], train_mask\u001b[38;5;241m=\u001b[39m[\u001b[38;5;241m668\u001b[39m], val_mask\u001b[38;5;241m=\u001b[39m[\u001b[38;5;241m668\u001b[39m], test_mask\u001b[38;5;241m=\u001b[39m[\u001b[38;5;241m668\u001b[39m]), Data(x\u001b[38;5;241m=\u001b[39m[\u001b[38;5;241m884\u001b[39m, \u001b[38;5;241m2048\u001b[39m], edge_index\u001b[38;5;241m=\u001b[39m[\u001b[38;5;241m2\u001b[39m, \u001b[38;5;241m4244\u001b[39m], y\u001b[38;5;241m=\u001b[39m[\u001b[38;5;241m884\u001b[39m], pos\u001b[38;5;241m=\u001b[39m[\u001b[38;5;241m884\u001b[39m, \u001b[38;5;241m2\u001b[39m], train_mask\u001b[38;5;241m=\u001b[39m[\u001b[38;5;241m884\u001b[39m], val_mask\u001b[38;5;241m=\u001b[39m[\u001b[38;5;241m884\u001b[39m], test_mask\u001b[38;5;241m=\u001b[39m[\u001b[38;5;241m884\u001b[39m]), Data(x\u001b[38;5;241m=\u001b[39m[\u001b[38;5;241m583\u001b[39m, \u001b[38;5;241m2048\u001b[39m], edge_index\u001b[38;5;241m=\u001b[39m[\u001b[38;5;241m2\u001b[39m, \u001b[38;5;241m2769\u001b[39m], y\u001b[38;5;241m=\u001b[39m[\u001b[38;5;241m583\u001b[39m], pos\u001b[38;5;241m=\u001b[39m[\u001b[38;5;241m583\u001b[39m, \u001b[38;5;241m2\u001b[39m], train_mask\u001b[38;5;241m=\u001b[39m[\u001b[38;5;241m583\u001b[39m], val_mask\u001b[38;5;241m=\u001b[39m[\u001b[38;5;241m583\u001b[39m], test_mask\u001b[38;5;241m=\u001b[39m[\u001b[38;5;241m583\u001b[39m])], \u001b[38;5;124m'\u001b[39m\u001b[38;5;124mval\u001b[39m\u001b[38;5;124m'\u001b[39m: [Data(x\u001b[38;5;241m=\u001b[39m[\u001b[38;5;241m935\u001b[39m, \u001b[38;5;241m2048\u001b[39m], edge_index\u001b[38;5;241m=\u001b[39m[\u001b[38;5;241m2\u001b[39m, \u001b[38;5;241m4489\u001b[39m], y\u001b[38;5;241m=\u001b[39m[\u001b[38;5;241m935\u001b[39m], pos\u001b[38;5;241m=\u001b[39m[\u001b[38;5;241m935\u001b[39m, \u001b[38;5;241m2\u001b[39m], train_mask\u001b[38;5;241m=\u001b[39m[\u001b[38;5;241m935\u001b[39m], val_mask\u001b[38;5;241m=\u001b[39m[\u001b[38;5;241m935\u001b[39m], test_mask\u001b[38;5;241m=\u001b[39m[\u001b[38;5;241m935\u001b[39m])]}, \u001b[38;5;124m'\u001b[39m\u001b[38;5;124m112_b_ASAP_tumor_map\u001b[39m\u001b[38;5;124m'\u001b[39m:{\u001b[38;5;124m'\u001b[39m\u001b[38;5;124mtrain\u001b[39m\u001b[38;5;124m'\u001b[39m: [Data(x\u001b[38;5;241m=\u001b[39m[\u001b[38;5;241m902\u001b[39m, \u001b[38;5;241m2048\u001b[39m], edge_index\u001b[38;5;241m=\u001b[39m[\u001b[38;5;241m2\u001b[39m, \u001b[38;5;241m4298\u001b[39m], y\u001b[38;5;241m=\u001b[39m[\u001b[38;5;241m902\u001b[39m], pos\u001b[38;5;241m=\u001b[39m[\u001b[38;5;241m902\u001b[39m, \u001b[38;5;241m2\u001b[39m], train_mask\u001b[38;5;241m=\u001b[39m[\u001b[38;5;241m902\u001b[39m], val_mask\u001b[38;5;241m=\u001b[39m[\u001b[38;5;241m902\u001b[39m], test_mask\u001b[38;5;241m=\u001b[39m[\u001b[38;5;241m902\u001b[39m]), Data(x\u001b[38;5;241m=\u001b[39m[\u001b[38;5;241m815\u001b[39m, \u001b[38;5;241m2048\u001b[39m], edge_index\u001b[38;5;241m=\u001b[39m[\u001b[38;5;241m2\u001b[39m, \u001b[38;5;241m3889\u001b[39m], y\u001b[38;5;241m=\u001b[39m[\u001b[38;5;241m815\u001b[39m], pos\u001b[38;5;241m=\u001b[39m[\u001b[38;5;241m815\u001b[39m, \u001b[38;5;241m2\u001b[39m], train_mask\u001b[38;5;241m=\u001b[39m[\u001b[38;5;241m815\u001b[39m], val_mask\u001b[38;5;241m=\u001b[39m[\u001b[38;5;241m815\u001b[39m], test_mask\u001b[38;5;241m=\u001b[39m[\u001b[38;5;241m815\u001b[39m]), Data(x\u001b[38;5;241m=\u001b[39m[\u001b[38;5;241m878\u001b[39m, \u001b[38;5;241m2048\u001b[39m], edge_index\u001b[38;5;241m=\u001b[39m[\u001b[38;5;241m2\u001b[39m, \u001b[38;5;241m4210\u001b[39m], y\u001b[38;5;241m=\u001b[39m[\u001b[38;5;241m878\u001b[39m], pos\u001b[38;5;241m=\u001b[39m[\u001b[38;5;241m878\u001b[39m, \u001b[38;5;241m2\u001b[39m], train_mask\u001b[38;5;241m=\u001b[39m[\u001b[38;5;241m878\u001b[39m], val_mask\u001b[38;5;241m=\u001b[39m[\u001b[38;5;241m878\u001b[39m], test_mask\u001b[38;5;241m=\u001b[39m[\u001b[38;5;241m878\u001b[39m]), Data(x\u001b[38;5;241m=\u001b[39m[\u001b[38;5;241m844\u001b[39m, \u001b[38;5;241m2048\u001b[39m], edge_index\u001b[38;5;241m=\u001b[39m[\u001b[38;5;241m2\u001b[39m, \u001b[38;5;241m4004\u001b[39m], y\u001b[38;5;241m=\u001b[39m[\u001b[38;5;241m844\u001b[39m], pos\u001b[38;5;241m=\u001b[39m[\u001b[38;5;241m844\u001b[39m, \u001b[38;5;241m2\u001b[39m], train_mask\u001b[38;5;241m=\u001b[39m[\u001b[38;5;241m844\u001b[39m], val_mask\u001b[38;5;241m=\u001b[39m[\u001b[38;5;241m844\u001b[39m], test_mask\u001b[38;5;241m=\u001b[39m[\u001b[38;5;241m844\u001b[39m]), Data(x\u001b[38;5;241m=\u001b[39m[\u001b[38;5;241m826\u001b[39m, \u001b[38;5;241m2048\u001b[39m], edge_index\u001b[38;5;241m=\u001b[39m[\u001b[38;5;241m2\u001b[39m, \u001b[38;5;241m3952\u001b[39m], y\u001b[38;5;241m=\u001b[39m[\u001b[38;5;241m826\u001b[39m], pos\u001b[38;5;241m=\u001b[39m[\u001b[38;5;241m826\u001b[39m, \u001b[38;5;241m2\u001b[39m], train_mask\u001b[38;5;241m=\u001b[39m[\u001b[38;5;241m826\u001b[39m], val_mask\u001b[38;5;241m=\u001b[39m[\u001b[38;5;241m826\u001b[39m], test_mask\u001b[38;5;241m=\u001b[39m[\u001b[38;5;241m826\u001b[39m]), Data(x\u001b[38;5;241m=\u001b[39m[\u001b[38;5;241m871\u001b[39m, \u001b[38;5;241m2048\u001b[39m], edge_index\u001b[38;5;241m=\u001b[39m[\u001b[38;5;241m2\u001b[39m, \u001b[38;5;241m4135\u001b[39m], y\u001b[38;5;241m=\u001b[39m[\u001b[38;5;241m871\u001b[39m], pos\u001b[38;5;241m=\u001b[39m[\u001b[38;5;241m871\u001b[39m, \u001b[38;5;241m2\u001b[39m], train_mask\u001b[38;5;241m=\u001b[39m[\u001b[38;5;241m871\u001b[39m], val_mask\u001b[38;5;241m=\u001b[39m[\u001b[38;5;241m871\u001b[39m], test_mask\u001b[38;5;241m=\u001b[39m[\u001b[38;5;241m871\u001b[39m]), Data(x\u001b[38;5;241m=\u001b[39m[\u001b[38;5;241m842\u001b[39m, \u001b[38;5;241m2048\u001b[39m], edge_index\u001b[38;5;241m=\u001b[39m[\u001b[38;5;241m2\u001b[39m, \u001b[38;5;241m4024\u001b[39m], y\u001b[38;5;241m=\u001b[39m[\u001b[38;5;241m842\u001b[39m], pos\u001b[38;5;241m=\u001b[39m[\u001b[38;5;241m842\u001b[39m, \u001b[38;5;241m2\u001b[39m], train_mask\u001b[38;5;241m=\u001b[39m[\u001b[38;5;241m842\u001b[39m], val_mask\u001b[38;5;241m=\u001b[39m[\u001b[38;5;241m842\u001b[39m], test_mask\u001b[38;5;241m=\u001b[39m[\u001b[38;5;241m842\u001b[39m])], \u001b[38;5;124m'\u001b[39m\u001b[38;5;124mval\u001b[39m\u001b[38;5;124m'\u001b[39m: [Data(x\u001b[38;5;241m=\u001b[39m[\u001b[38;5;241m850\u001b[39m, \u001b[38;5;241m2048\u001b[39m], edge_index\u001b[38;5;241m=\u001b[39m[\u001b[38;5;241m2\u001b[39m, \u001b[38;5;241m4038\u001b[39m], y\u001b[38;5;241m=\u001b[39m[\u001b[38;5;241m850\u001b[39m], pos\u001b[38;5;241m=\u001b[39m[\u001b[38;5;241m850\u001b[39m, \u001b[38;5;241m2\u001b[39m], train_mask\u001b[38;5;241m=\u001b[39m[\u001b[38;5;241m850\u001b[39m], val_mask\u001b[38;5;241m=\u001b[39m[\u001b[38;5;241m850\u001b[39m], test_mask\u001b[38;5;241m=\u001b[39m[\u001b[38;5;241m850\u001b[39m])]}, \u001b[38;5;124m'\u001b[39m\u001b[38;5;124m123_A1a_ASAP_tumor_map\u001b[39m\u001b[38;5;124m'\u001b[39m:{\u001b[38;5;124m'\u001b[39m\u001b[38;5;124mtrain\u001b[39m\u001b[38;5;124m'\u001b[39m: [Data(x\u001b[38;5;241m=\u001b[39m[\u001b[38;5;241m2626\u001b[39m, \u001b[38;5;241m2048\u001b[39m], edge_index\u001b[38;5;241m=\u001b[39m[\u001b[38;5;241m2\u001b[39m, \u001b[38;5;241m12492\u001b[39m], y\u001b[38;5;241m=\u001b[39m[\u001b[38;5;241m2626\u001b[39m], pos\u001b[38;5;241m=\u001b[39m[\u001b[38;5;241m2626\u001b[39m, \u001b[38;5;241m2\u001b[39m], train_mask\u001b[38;5;241m=\u001b[39m[\u001b[38;5;241m2626\u001b[39m], val_mask\u001b[38;5;241m=\u001b[39m[\u001b[38;5;241m2626\u001b[39m], test_mask\u001b[38;5;241m=\u001b[39m[\u001b[38;5;241m2626\u001b[39m]), Data(x\u001b[38;5;241m=\u001b[39m[\u001b[38;5;241m1742\u001b[39m, \u001b[38;5;241m2048\u001b[39m], edge_index\u001b[38;5;241m=\u001b[39m[\u001b[38;5;241m2\u001b[39m, \u001b[38;5;241m8152\u001b[39m], y\u001b[38;5;241m=\u001b[39m[\u001b[38;5;241m1742\u001b[39m], pos\u001b[38;5;241m=\u001b[39m[\u001b[38;5;241m1742\u001b[39m, \u001b[38;5;241m2\u001b[39m], train_mask\u001b[38;5;241m=\u001b[39m[\u001b[38;5;241m1742\u001b[39m], val_mask\u001b[38;5;241m=\u001b[39m[\u001b[38;5;241m1742\u001b[39m], test_mask\u001b[38;5;241m=\u001b[39m[\u001b[38;5;241m1742\u001b[39m]), Data(x\u001b[38;5;241m=\u001b[39m[\u001b[38;5;241m2955\u001b[39m, \u001b[38;5;241m2048\u001b[39m], edge_index\u001b[38;5;241m=\u001b[39m[\u001b[38;5;241m2\u001b[39m, \u001b[38;5;241m14357\u001b[39m], y\u001b[38;5;241m=\u001b[39m[\u001b[38;5;241m2955\u001b[39m], pos\u001b[38;5;241m=\u001b[39m[\u001b[38;5;241m2955\u001b[39m, \u001b[38;5;241m2\u001b[39m], train_mask\u001b[38;5;241m=\u001b[39m[\u001b[38;5;241m2955\u001b[39m], val_mask\u001b[38;5;241m=\u001b[39m[\u001b[38;5;241m2955\u001b[39m], test_mask\u001b[38;5;241m=\u001b[39m[\u001b[38;5;241m2955\u001b[39m]), Data(x\u001b[38;5;241m=\u001b[39m[\u001b[38;5;241m2561\u001b[39m, \u001b[38;5;241m2048\u001b[39m], edge_index\u001b[38;5;241m=\u001b[39m[\u001b[38;5;241m2\u001b[39m, \u001b[38;5;241m12297\u001b[39m], y\u001b[38;5;241m=\u001b[39m[\u001b[38;5;241m2561\u001b[39m], pos\u001b[38;5;241m=\u001b[39m[\u001b[38;5;241m2561\u001b[39m, \u001b[38;5;241m2\u001b[39m], train_mask\u001b[38;5;241m=\u001b[39m[\u001b[38;5;241m2561\u001b[39m], val_mask\u001b[38;5;241m=\u001b[39m[\u001b[38;5;241m2561\u001b[39m], test_mask\u001b[38;5;241m=\u001b[39m[\u001b[38;5;241m2561\u001b[39m]), Data(x\u001b[38;5;241m=\u001b[39m[\u001b[38;5;241m2825\u001b[39m, \u001b[38;5;241m2048\u001b[39m], edge_index\u001b[38;5;241m=\u001b[39m[\u001b[38;5;241m2\u001b[39m, \u001b[38;5;241m13425\u001b[39m], y\u001b[38;5;241m=\u001b[39m[\u001b[38;5;241m2825\u001b[39m], pos\u001b[38;5;241m=\u001b[39m[\u001b[38;5;241m2825\u001b[39m, \u001b[38;5;241m2\u001b[39m], train_mask\u001b[38;5;241m=\u001b[39m[\u001b[38;5;241m2825\u001b[39m], val_mask\u001b[38;5;241m=\u001b[39m[\u001b[38;5;241m2825\u001b[39m], test_mask\u001b[38;5;241m=\u001b[39m[\u001b[38;5;241m2825\u001b[39m])], \u001b[38;5;124m'\u001b[39m\u001b[38;5;124mval\u001b[39m\u001b[38;5;124m'\u001b[39m: [Data(x\u001b[38;5;241m=\u001b[39m[\u001b[38;5;241m3280\u001b[39m, \u001b[38;5;241m2048\u001b[39m], edge_index\u001b[38;5;241m=\u001b[39m[\u001b[38;5;241m2\u001b[39m, \u001b[38;5;241m15970\u001b[39m], y\u001b[38;5;241m=\u001b[39m[\u001b[38;5;241m3280\u001b[39m], pos\u001b[38;5;241m=\u001b[39m[\u001b[38;5;241m3280\u001b[39m, \u001b[38;5;241m2\u001b[39m], train_mask\u001b[38;5;241m=\u001b[39m[\u001b[38;5;241m3280\u001b[39m], val_mask\u001b[38;5;241m=\u001b[39m[\u001b[38;5;241m3280\u001b[39m], test_mask\u001b[38;5;241m=\u001b[39m[\u001b[38;5;241m3280\u001b[39m])]}, \u001b[38;5;124m'\u001b[39m\u001b[38;5;124m12_A1c_ASAP_tumor_map\u001b[39m\u001b[38;5;124m'\u001b[39m:{\u001b[38;5;124m'\u001b[39m\u001b[38;5;124mtrain\u001b[39m\u001b[38;5;124m'\u001b[39m: [Data(x\u001b[38;5;241m=\u001b[39m[\u001b[38;5;241m7126\u001b[39m, \u001b[38;5;241m2048\u001b[39m], edge_index\u001b[38;5;241m=\u001b[39m[\u001b[38;5;241m2\u001b[39m, \u001b[38;5;241m35066\u001b[39m], y\u001b[38;5;241m=\u001b[39m[\u001b[38;5;241m7126\u001b[39m], pos\u001b[38;5;241m=\u001b[39m[\u001b[38;5;241m7126\u001b[39m, \u001b[38;5;241m2\u001b[39m], train_mask\u001b[38;5;241m=\u001b[39m[\u001b[38;5;241m7126\u001b[39m], val_mask\u001b[38;5;241m=\u001b[39m[\u001b[38;5;241m7126\u001b[39m], test_mask\u001b[38;5;241m=\u001b[39m[\u001b[38;5;241m7126\u001b[39m]), Data(x\u001b[38;5;241m=\u001b[39m[\u001b[38;5;241m6957\u001b[39m, \u001b[38;5;241m2048\u001b[39m], edge_index\u001b[38;5;241m=\u001b[39m[\u001b[38;5;241m2\u001b[39m, \u001b[38;5;241m34275\u001b[39m], y\u001b[38;5;241m=\u001b[39m[\u001b[38;5;241m6957\u001b[39m], pos\u001b[38;5;241m=\u001b[39m[\u001b[38;5;241m6957\u001b[39m, \u001b[38;5;241m2\u001b[39m], train_mask\u001b[38;5;241m=\u001b[39m[\u001b[38;5;241m6957\u001b[39m], val_mask\u001b[38;5;241m=\u001b[39m[\u001b[38;5;241m6957\u001b[39m], test_mask\u001b[38;5;241m=\u001b[39m[\u001b[38;5;241m6957\u001b[39m])], \u001b[38;5;124m'\u001b[39m\u001b[38;5;124mval\u001b[39m\u001b[38;5;124m'\u001b[39m: [Data(x\u001b[38;5;241m=\u001b[39m[\u001b[38;5;241m6814\u001b[39m, \u001b[38;5;241m2048\u001b[39m], edge_index\u001b[38;5;241m=\u001b[39m[\u001b[38;5;241m2\u001b[39m, \u001b[38;5;241m33326\u001b[39m], y\u001b[38;5;241m=\u001b[39m[\u001b[38;5;241m6814\u001b[39m], pos\u001b[38;5;241m=\u001b[39m[\u001b[38;5;241m6814\u001b[39m, \u001b[38;5;241m2\u001b[39m], train_mask\u001b[38;5;241m=\u001b[39m[\u001b[38;5;241m6814\u001b[39m], val_mask\u001b[38;5;241m=\u001b[39m[\u001b[38;5;241m6814\u001b[39m], test_mask\u001b[38;5;241m=\u001b[39m[\u001b[38;5;241m6814\u001b[39m])]}, \u001b[38;5;124m'\u001b[39m\u001b[38;5;124m14_A1b_ASAP_tumor_map\u001b[39m\u001b[38;5;124m'\u001b[39m:{\u001b[38;5;124m'\u001b[39m\u001b[38;5;124mtrain\u001b[39m\u001b[38;5;124m'\u001b[39m: [Data(x\u001b[38;5;241m=\u001b[39m[\u001b[38;5;241m5176\u001b[39m, \u001b[38;5;241m2048\u001b[39m], edge_index\u001b[38;5;241m=\u001b[39m[\u001b[38;5;241m2\u001b[39m, \u001b[38;5;241m25114\u001b[39m], y\u001b[38;5;241m=\u001b[39m[\u001b[38;5;241m5176\u001b[39m], pos\u001b[38;5;241m=\u001b[39m[\u001b[38;5;241m5176\u001b[39m, \u001b[38;5;241m2\u001b[39m], train_mask\u001b[38;5;241m=\u001b[39m[\u001b[38;5;241m5176\u001b[39m], val_mask\u001b[38;5;241m=\u001b[39m[\u001b[38;5;241m5176\u001b[39m], test_mask\u001b[38;5;241m=\u001b[39m[\u001b[38;5;241m5176\u001b[39m]), Data(x\u001b[38;5;241m=\u001b[39m[\u001b[38;5;241m4841\u001b[39m, \u001b[38;5;241m2048\u001b[39m], edge_index\u001b[38;5;241m=\u001b[39m[\u001b[38;5;241m2\u001b[39m, \u001b[38;5;241m23269\u001b[39m], y\u001b[38;5;241m=\u001b[39m[\u001b[38;5;241m4841\u001b[39m], pos\u001b[38;5;241m=\u001b[39m[\u001b[38;5;241m4841\u001b[39m, \u001b[38;5;241m2\u001b[39m], train_mask\u001b[38;5;241m=\u001b[39m[\u001b[38;5;241m4841\u001b[39m], val_mask\u001b[38;5;241m=\u001b[39m[\u001b[38;5;241m4841\u001b[39m], test_mask\u001b[38;5;241m=\u001b[39m[\u001b[38;5;241m4841\u001b[39m])], \u001b[38;5;124m'\u001b[39m\u001b[38;5;124mval\u001b[39m\u001b[38;5;124m'\u001b[39m: [Data(x\u001b[38;5;241m=\u001b[39m[\u001b[38;5;241m4577\u001b[39m, \u001b[38;5;241m2048\u001b[39m], edge_index\u001b[38;5;241m=\u001b[39m[\u001b[38;5;241m2\u001b[39m, \u001b[38;5;241m22143\u001b[39m], y\u001b[38;5;241m=\u001b[39m[\u001b[38;5;241m4577\u001b[39m], pos\u001b[38;5;241m=\u001b[39m[\u001b[38;5;241m4577\u001b[39m, \u001b[38;5;241m2\u001b[39m], train_mask\u001b[38;5;241m=\u001b[39m[\u001b[38;5;241m4577\u001b[39m], val_mask\u001b[38;5;241m=\u001b[39m[\u001b[38;5;241m4577\u001b[39m], test_mask\u001b[38;5;241m=\u001b[39m[\u001b[38;5;241m4577\u001b[39m])]}, \u001b[38;5;124m'\u001b[39m\u001b[38;5;124m14_A2b_ASAP_tumor_map\u001b[39m\u001b[38;5;124m'\u001b[39m:{\u001b[38;5;124m'\u001b[39m\u001b[38;5;124mtrain\u001b[39m\u001b[38;5;124m'\u001b[39m: [Data(x\u001b[38;5;241m=\u001b[39m[\u001b[38;5;241m5075\u001b[39m, \u001b[38;5;241m2048\u001b[39m], edge_index\u001b[38;5;241m=\u001b[39m[\u001b[38;5;241m2\u001b[39m, \u001b[38;5;241m24045\u001b[39m], y\u001b[38;5;241m=\u001b[39m[\u001b[38;5;241m5075\u001b[39m], pos\u001b[38;5;241m=\u001b[39m[\u001b[38;5;241m5075\u001b[39m, \u001b[38;5;241m2\u001b[39m], train_mask\u001b[38;5;241m=\u001b[39m[\u001b[38;5;241m5075\u001b[39m], val_mask\u001b[38;5;241m=\u001b[39m[\u001b[38;5;241m5075\u001b[39m], test_mask\u001b[38;5;241m=\u001b[39m[\u001b[38;5;241m5075\u001b[39m]), Data(x\u001b[38;5;241m=\u001b[39m[\u001b[38;5;241m4659\u001b[39m, \u001b[38;5;241m2048\u001b[39m], edge_index\u001b[38;5;241m=\u001b[39m[\u001b[38;5;241m2\u001b[39m, \u001b[38;5;241m22071\u001b[39m], y\u001b[38;5;241m=\u001b[39m[\u001b[38;5;241m4659\u001b[39m], pos\u001b[38;5;241m=\u001b[39m[\u001b[38;5;241m4659\u001b[39m, \u001b[38;5;241m2\u001b[39m], train_mask\u001b[38;5;241m=\u001b[39m[\u001b[38;5;241m4659\u001b[39m], val_mask\u001b[38;5;241m=\u001b[39m[\u001b[38;5;241m4659\u001b[39m], test_mask\u001b[38;5;241m=\u001b[39m[\u001b[38;5;241m4659\u001b[39m])], \u001b[38;5;124m'\u001b[39m\u001b[38;5;124mval\u001b[39m\u001b[38;5;124m'\u001b[39m: [Data(x\u001b[38;5;241m=\u001b[39m[\u001b[38;5;241m5046\u001b[39m, \u001b[38;5;241m2048\u001b[39m], edge_index\u001b[38;5;241m=\u001b[39m[\u001b[38;5;241m2\u001b[39m, \u001b[38;5;241m24084\u001b[39m], y\u001b[38;5;241m=\u001b[39m[\u001b[38;5;241m5046\u001b[39m], pos\u001b[38;5;241m=\u001b[39m[\u001b[38;5;241m5046\u001b[39m, \u001b[38;5;241m2\u001b[39m], train_mask\u001b[38;5;241m=\u001b[39m[\u001b[38;5;241m5046\u001b[39m], val_mask\u001b[38;5;241m=\u001b[39m[\u001b[38;5;241m5046\u001b[39m], test_mask\u001b[38;5;241m=\u001b[39m[\u001b[38;5;241m5046\u001b[39m])]}, \u001b[38;5;124m'\u001b[39m\u001b[38;5;124m169_A2b_ASAP_tumor_map\u001b[39m\u001b[38;5;124m'\u001b[39m:{\u001b[38;5;124m'\u001b[39m\u001b[38;5;124mtrain\u001b[39m\u001b[38;5;124m'\u001b[39m: [Data(x\u001b[38;5;241m=\u001b[39m[\u001b[38;5;241m5137\u001b[39m, \u001b[38;5;241m2048\u001b[39m], edge_index\u001b[38;5;241m=\u001b[39m[\u001b[38;5;241m2\u001b[39m, \u001b[38;5;241m25303\u001b[39m], y\u001b[38;5;241m=\u001b[39m[\u001b[38;5;241m5137\u001b[39m], pos\u001b[38;5;241m=\u001b[39m[\u001b[38;5;241m5137\u001b[39m, \u001b[38;5;241m2\u001b[39m], train_mask\u001b[38;5;241m=\u001b[39m[\u001b[38;5;241m5137\u001b[39m], val_mask\u001b[38;5;241m=\u001b[39m[\u001b[38;5;241m5137\u001b[39m], test_mask\u001b[38;5;241m=\u001b[39m[\u001b[38;5;241m5137\u001b[39m]), Data(x\u001b[38;5;241m=\u001b[39m[\u001b[38;5;241m5193\u001b[39m, \u001b[38;5;241m2048\u001b[39m], edge_index\u001b[38;5;241m=\u001b[39m[\u001b[38;5;241m2\u001b[39m, \u001b[38;5;241m25555\u001b[39m], y\u001b[38;5;241m=\u001b[39m[\u001b[38;5;241m5193\u001b[39m], pos\u001b[38;5;241m=\u001b[39m[\u001b[38;5;241m5193\u001b[39m, \u001b[38;5;241m2\u001b[39m], train_mask\u001b[38;5;241m=\u001b[39m[\u001b[38;5;241m5193\u001b[39m], val_mask\u001b[38;5;241m=\u001b[39m[\u001b[38;5;241m5193\u001b[39m], test_mask\u001b[38;5;241m=\u001b[39m[\u001b[38;5;241m5193\u001b[39m])], \u001b[38;5;124m'\u001b[39m\u001b[38;5;124mval\u001b[39m\u001b[38;5;124m'\u001b[39m: [Data(x\u001b[38;5;241m=\u001b[39m[\u001b[38;5;241m5220\u001b[39m, \u001b[38;5;241m2048\u001b[39m], edge_index\u001b[38;5;241m=\u001b[39m[\u001b[38;5;241m2\u001b[39m, \u001b[38;5;241m25698\u001b[39m], y\u001b[38;5;241m=\u001b[39m[\u001b[38;5;241m5220\u001b[39m], pos\u001b[38;5;241m=\u001b[39m[\u001b[38;5;241m5220\u001b[39m, \u001b[38;5;241m2\u001b[39m], train_mask\u001b[38;5;241m=\u001b[39m[\u001b[38;5;241m5220\u001b[39m], val_mask\u001b[38;5;241m=\u001b[39m[\u001b[38;5;241m5220\u001b[39m], test_mask\u001b[38;5;241m=\u001b[39m[\u001b[38;5;241m5220\u001b[39m])]}, \u001b[38;5;124m'\u001b[39m\u001b[38;5;124m270_A1b_ASAP_tumor_map\u001b[39m\u001b[38;5;124m'\u001b[39m:{\u001b[38;5;124m'\u001b[39m\u001b[38;5;124mtrain\u001b[39m\u001b[38;5;124m'\u001b[39m: [Data(x\u001b[38;5;241m=\u001b[39m[\u001b[38;5;241m10733\u001b[39m, \u001b[38;5;241m2048\u001b[39m], edge_index\u001b[38;5;241m=\u001b[39m[\u001b[38;5;241m2\u001b[39m, \u001b[38;5;241m52753\u001b[39m], y\u001b[38;5;241m=\u001b[39m[\u001b[38;5;241m10733\u001b[39m], pos\u001b[38;5;241m=\u001b[39m[\u001b[38;5;241m10733\u001b[39m, \u001b[38;5;241m2\u001b[39m], train_mask\u001b[38;5;241m=\u001b[39m[\u001b[38;5;241m10733\u001b[39m], val_mask\u001b[38;5;241m=\u001b[39m[\u001b[38;5;241m10733\u001b[39m], test_mask\u001b[38;5;241m=\u001b[39m[\u001b[38;5;241m10733\u001b[39m])], \u001b[38;5;124m'\u001b[39m\u001b[38;5;124mval\u001b[39m\u001b[38;5;124m'\u001b[39m: [Data(x\u001b[38;5;241m=\u001b[39m[\u001b[38;5;241m10638\u001b[39m, \u001b[38;5;241m2048\u001b[39m], edge_index\u001b[38;5;241m=\u001b[39m[\u001b[38;5;241m2\u001b[39m, \u001b[38;5;241m52354\u001b[39m], y\u001b[38;5;241m=\u001b[39m[\u001b[38;5;241m10638\u001b[39m], pos\u001b[38;5;241m=\u001b[39m[\u001b[38;5;241m10638\u001b[39m, \u001b[38;5;241m2\u001b[39m], train_mask\u001b[38;5;241m=\u001b[39m[\u001b[38;5;241m10638\u001b[39m], val_mask\u001b[38;5;241m=\u001b[39m[\u001b[38;5;241m10638\u001b[39m], test_mask\u001b[38;5;241m=\u001b[39m[\u001b[38;5;241m10638\u001b[39m])]}, \u001b[38;5;124m'\u001b[39m\u001b[38;5;124m270_A1d_ASAP_tumor_map\u001b[39m\u001b[38;5;124m'\u001b[39m:{\u001b[38;5;124m'\u001b[39m\u001b[38;5;124mtrain\u001b[39m\u001b[38;5;124m'\u001b[39m: [Data(x\u001b[38;5;241m=\u001b[39m[\u001b[38;5;241m10457\u001b[39m, \u001b[38;5;241m2048\u001b[39m], edge_index\u001b[38;5;241m=\u001b[39m[\u001b[38;5;241m2\u001b[39m, \u001b[38;5;241m51557\u001b[39m], y\u001b[38;5;241m=\u001b[39m[\u001b[38;5;241m10457\u001b[39m], pos\u001b[38;5;241m=\u001b[39m[\u001b[38;5;241m10457\u001b[39m, \u001b[38;5;241m2\u001b[39m], train_mask\u001b[38;5;241m=\u001b[39m[\u001b[38;5;241m10457\u001b[39m], val_mask\u001b[38;5;241m=\u001b[39m[\u001b[38;5;241m10457\u001b[39m], test_mask\u001b[38;5;241m=\u001b[39m[\u001b[38;5;241m10457\u001b[39m])], \u001b[38;5;124m'\u001b[39m\u001b[38;5;124mval\u001b[39m\u001b[38;5;124m'\u001b[39m: [Data(x\u001b[38;5;241m=\u001b[39m[\u001b[38;5;241m10268\u001b[39m, \u001b[38;5;241m2048\u001b[39m], edge_index\u001b[38;5;241m=\u001b[39m[\u001b[38;5;241m2\u001b[39m, \u001b[38;5;241m50640\u001b[39m], y\u001b[38;5;241m=\u001b[39m[\u001b[38;5;241m10268\u001b[39m], pos\u001b[38;5;241m=\u001b[39m[\u001b[38;5;241m10268\u001b[39m, \u001b[38;5;241m2\u001b[39m], train_mask\u001b[38;5;241m=\u001b[39m[\u001b[38;5;241m10268\u001b[39m], val_mask\u001b[38;5;241m=\u001b[39m[\u001b[38;5;241m10268\u001b[39m], test_mask\u001b[38;5;241m=\u001b[39m[\u001b[38;5;241m10268\u001b[39m])]}, \u001b[38;5;124m'\u001b[39m\u001b[38;5;124m270_A1e_ASAP_tumor_map\u001b[39m\u001b[38;5;124m'\u001b[39m:{\u001b[38;5;124m'\u001b[39m\u001b[38;5;124mtrain\u001b[39m\u001b[38;5;124m'\u001b[39m: [Data(x\u001b[38;5;241m=\u001b[39m[\u001b[38;5;241m10168\u001b[39m, \u001b[38;5;241m2048\u001b[39m], edge_index\u001b[38;5;241m=\u001b[39m[\u001b[38;5;241m2\u001b[39m, \u001b[38;5;241m50196\u001b[39m], y\u001b[38;5;241m=\u001b[39m[\u001b[38;5;241m10168\u001b[39m], pos\u001b[38;5;241m=\u001b[39m[\u001b[38;5;241m10168\u001b[39m, \u001b[38;5;241m2\u001b[39m], train_mask\u001b[38;5;241m=\u001b[39m[\u001b[38;5;241m10168\u001b[39m], val_mask\u001b[38;5;241m=\u001b[39m[\u001b[38;5;241m10168\u001b[39m], test_mask\u001b[38;5;241m=\u001b[39m[\u001b[38;5;241m10168\u001b[39m])], \u001b[38;5;124m'\u001b[39m\u001b[38;5;124mval\u001b[39m\u001b[38;5;124m'\u001b[39m: [Data(x\u001b[38;5;241m=\u001b[39m[\u001b[38;5;241m10423\u001b[39m, \u001b[38;5;241m2048\u001b[39m], edge_index\u001b[38;5;241m=\u001b[39m[\u001b[38;5;241m2\u001b[39m, \u001b[38;5;241m51437\u001b[39m], y\u001b[38;5;241m=\u001b[39m[\u001b[38;5;241m10423\u001b[39m], pos\u001b[38;5;241m=\u001b[39m[\u001b[38;5;241m10423\u001b[39m, \u001b[38;5;241m2\u001b[39m], train_mask\u001b[38;5;241m=\u001b[39m[\u001b[38;5;241m10423\u001b[39m], val_mask\u001b[38;5;241m=\u001b[39m[\u001b[38;5;241m10423\u001b[39m], test_mask\u001b[38;5;241m=\u001b[39m[\u001b[38;5;241m10423\u001b[39m])]}, \u001b[38;5;124m'\u001b[39m\u001b[38;5;124m270_A2b_ASAP_tumor_map\u001b[39m\u001b[38;5;124m'\u001b[39m:{\u001b[38;5;124m'\u001b[39m\u001b[38;5;124mtrain\u001b[39m\u001b[38;5;124m'\u001b[39m: [Data(x\u001b[38;5;241m=\u001b[39m[\u001b[38;5;241m10205\u001b[39m, \u001b[38;5;241m2048\u001b[39m], edge_index\u001b[38;5;241m=\u001b[39m[\u001b[38;5;241m2\u001b[39m, \u001b[38;5;241m50345\u001b[39m], y\u001b[38;5;241m=\u001b[39m[\u001b[38;5;241m10205\u001b[39m], pos\u001b[38;5;241m=\u001b[39m[\u001b[38;5;241m10205\u001b[39m, \u001b[38;5;241m2\u001b[39m], train_mask\u001b[38;5;241m=\u001b[39m[\u001b[38;5;241m10205\u001b[39m], val_mask\u001b[38;5;241m=\u001b[39m[\u001b[38;5;241m10205\u001b[39m], test_mask\u001b[38;5;241m=\u001b[39m[\u001b[38;5;241m10205\u001b[39m])], \u001b[38;5;124m'\u001b[39m\u001b[38;5;124mval\u001b[39m\u001b[38;5;124m'\u001b[39m: [Data(x\u001b[38;5;241m=\u001b[39m[\u001b[38;5;241m8924\u001b[39m, \u001b[38;5;241m2048\u001b[39m], edge_index\u001b[38;5;241m=\u001b[39m[\u001b[38;5;241m2\u001b[39m, \u001b[38;5;241m43966\u001b[39m], y\u001b[38;5;241m=\u001b[39m[\u001b[38;5;241m8924\u001b[39m], pos\u001b[38;5;241m=\u001b[39m[\u001b[38;5;241m8924\u001b[39m, \u001b[38;5;241m2\u001b[39m], train_mask\u001b[38;5;241m=\u001b[39m[\u001b[38;5;241m8924\u001b[39m], val_mask\u001b[38;5;241m=\u001b[39m[\u001b[38;5;241m8924\u001b[39m], test_mask\u001b[38;5;241m=\u001b[39m[\u001b[38;5;241m8924\u001b[39m])]}, \u001b[38;5;124m'\u001b[39m\u001b[38;5;124m270_A2f_ASAP_tumor_map\u001b[39m\u001b[38;5;124m'\u001b[39m:{\u001b[38;5;124m'\u001b[39m\u001b[38;5;124mtrain\u001b[39m\u001b[38;5;124m'\u001b[39m: [Data(x\u001b[38;5;241m=\u001b[39m[\u001b[38;5;241m7420\u001b[39m, \u001b[38;5;241m2048\u001b[39m], edge_index\u001b[38;5;241m=\u001b[39m[\u001b[38;5;241m2\u001b[39m, \u001b[38;5;241m36228\u001b[39m], y\u001b[38;5;241m=\u001b[39m[\u001b[38;5;241m7420\u001b[39m], pos\u001b[38;5;241m=\u001b[39m[\u001b[38;5;241m7420\u001b[39m, \u001b[38;5;241m2\u001b[39m], train_mask\u001b[38;5;241m=\u001b[39m[\u001b[38;5;241m7420\u001b[39m], val_mask\u001b[38;5;241m=\u001b[39m[\u001b[38;5;241m7420\u001b[39m], test_mask\u001b[38;5;241m=\u001b[39m[\u001b[38;5;241m7420\u001b[39m])], \u001b[38;5;124m'\u001b[39m\u001b[38;5;124mval\u001b[39m\u001b[38;5;124m'\u001b[39m: []}, \u001b[38;5;124m'\u001b[39m\u001b[38;5;124m281_A1d_ASAP_tumor_map\u001b[39m\u001b[38;5;124m'\u001b[39m:{\u001b[38;5;124m'\u001b[39m\u001b[38;5;124mtrain\u001b[39m\u001b[38;5;124m'\u001b[39m: [Data(x\u001b[38;5;241m=\u001b[39m[\u001b[38;5;241m6622\u001b[39m, \u001b[38;5;241m2048\u001b[39m], edge_index\u001b[38;5;241m=\u001b[39m[\u001b[38;5;241m2\u001b[39m, \u001b[38;5;241m32648\u001b[39m], y\u001b[38;5;241m=\u001b[39m[\u001b[38;5;241m6622\u001b[39m], pos\u001b[38;5;241m=\u001b[39m[\u001b[38;5;241m6622\u001b[39m, \u001b[38;5;241m2\u001b[39m], train_mask\u001b[38;5;241m=\u001b[39m[\u001b[38;5;241m6622\u001b[39m], val_mask\u001b[38;5;241m=\u001b[39m[\u001b[38;5;241m6622\u001b[39m], test_mask\u001b[38;5;241m=\u001b[39m[\u001b[38;5;241m6622\u001b[39m])], \u001b[38;5;124m'\u001b[39m\u001b[38;5;124mval\u001b[39m\u001b[38;5;124m'\u001b[39m: [Data(x\u001b[38;5;241m=\u001b[39m[\u001b[38;5;241m6675\u001b[39m, \u001b[38;5;241m2048\u001b[39m], edge_index\u001b[38;5;241m=\u001b[39m[\u001b[38;5;241m2\u001b[39m, \u001b[38;5;241m32849\u001b[39m], y\u001b[38;5;241m=\u001b[39m[\u001b[38;5;241m6675\u001b[39m], pos\u001b[38;5;241m=\u001b[39m[\u001b[38;5;241m6675\u001b[39m, \u001b[38;5;241m2\u001b[39m], train_mask\u001b[38;5;241m=\u001b[39m[\u001b[38;5;241m6675\u001b[39m], val_mask\u001b[38;5;241m=\u001b[39m[\u001b[38;5;241m6675\u001b[39m], test_mask\u001b[38;5;241m=\u001b[39m[\u001b[38;5;241m6675\u001b[39m])]}, \u001b[38;5;124m'\u001b[39m\u001b[38;5;124m281_A1f_ASAP_tumor_map\u001b[39m\u001b[38;5;124m'\u001b[39m:{\u001b[38;5;124m'\u001b[39m\u001b[38;5;124mtrain\u001b[39m\u001b[38;5;124m'\u001b[39m: [Data(x\u001b[38;5;241m=\u001b[39m[\u001b[38;5;241m7200\u001b[39m, \u001b[38;5;241m2048\u001b[39m], edge_index\u001b[38;5;241m=\u001b[39m[\u001b[38;5;241m2\u001b[39m, \u001b[38;5;241m35514\u001b[39m], y\u001b[38;5;241m=\u001b[39m[\u001b[38;5;241m7200\u001b[39m], pos\u001b[38;5;241m=\u001b[39m[\u001b[38;5;241m7200\u001b[39m, \u001b[38;5;241m2\u001b[39m], train_mask\u001b[38;5;241m=\u001b[39m[\u001b[38;5;241m7200\u001b[39m], val_mask\u001b[38;5;241m=\u001b[39m[\u001b[38;5;241m7200\u001b[39m], test_mask\u001b[38;5;241m=\u001b[39m[\u001b[38;5;241m7200\u001b[39m])], \u001b[38;5;124m'\u001b[39m\u001b[38;5;124mval\u001b[39m\u001b[38;5;124m'\u001b[39m: [Data(x\u001b[38;5;241m=\u001b[39m[\u001b[38;5;241m7185\u001b[39m, \u001b[38;5;241m2048\u001b[39m], edge_index\u001b[38;5;241m=\u001b[39m[\u001b[38;5;241m2\u001b[39m, \u001b[38;5;241m35435\u001b[39m], y\u001b[38;5;241m=\u001b[39m[\u001b[38;5;241m7185\u001b[39m], pos\u001b[38;5;241m=\u001b[39m[\u001b[38;5;241m7185\u001b[39m, \u001b[38;5;241m2\u001b[39m], train_mask\u001b[38;5;241m=\u001b[39m[\u001b[38;5;241m7185\u001b[39m], val_mask\u001b[38;5;241m=\u001b[39m[\u001b[38;5;241m7185\u001b[39m], test_mask\u001b[38;5;241m=\u001b[39m[\u001b[38;5;241m7185\u001b[39m])]}, \u001b[38;5;124m'\u001b[39m\u001b[38;5;124m281_A2eX_ASAP_tumor_map\u001b[39m\u001b[38;5;124m'\u001b[39m:{\u001b[38;5;124m'\u001b[39m\u001b[38;5;124mtrain\u001b[39m\u001b[38;5;124m'\u001b[39m: [Data(x\u001b[38;5;241m=\u001b[39m[\u001b[38;5;241m6892\u001b[39m, \u001b[38;5;241m2048\u001b[39m], edge_index\u001b[38;5;241m=\u001b[39m[\u001b[38;5;241m2\u001b[39m, \u001b[38;5;241m33970\u001b[39m], y\u001b[38;5;241m=\u001b[39m[\u001b[38;5;241m6892\u001b[39m], pos\u001b[38;5;241m=\u001b[39m[\u001b[38;5;241m6892\u001b[39m, \u001b[38;5;241m2\u001b[39m], train_mask\u001b[38;5;241m=\u001b[39m[\u001b[38;5;241m6892\u001b[39m], val_mask\u001b[38;5;241m=\u001b[39m[\u001b[38;5;241m6892\u001b[39m], test_mask\u001b[38;5;241m=\u001b[39m[\u001b[38;5;241m6892\u001b[39m])], \u001b[38;5;124m'\u001b[39m\u001b[38;5;124mval\u001b[39m\u001b[38;5;124m'\u001b[39m: [Data(x\u001b[38;5;241m=\u001b[39m[\u001b[38;5;241m6557\u001b[39m, \u001b[38;5;241m2048\u001b[39m], edge_index\u001b[38;5;241m=\u001b[39m[\u001b[38;5;241m2\u001b[39m, \u001b[38;5;241m32353\u001b[39m], y\u001b[38;5;241m=\u001b[39m[\u001b[38;5;241m6557\u001b[39m], pos\u001b[38;5;241m=\u001b[39m[\u001b[38;5;241m6557\u001b[39m, \u001b[38;5;241m2\u001b[39m], train_mask\u001b[38;5;241m=\u001b[39m[\u001b[38;5;241m6557\u001b[39m], val_mask\u001b[38;5;241m=\u001b[39m[\u001b[38;5;241m6557\u001b[39m], test_mask\u001b[38;5;241m=\u001b[39m[\u001b[38;5;241m6557\u001b[39m])]}, \u001b[38;5;124m'\u001b[39m\u001b[38;5;124m311_A2c_ASAP_tumor_map\u001b[39m\u001b[38;5;124m'\u001b[39m:{\u001b[38;5;124m'\u001b[39m\u001b[38;5;124mtrain\u001b[39m\u001b[38;5;124m'\u001b[39m: [Data(x\u001b[38;5;241m=\u001b[39m[\u001b[38;5;241m6043\u001b[39m, \u001b[38;5;241m2048\u001b[39m], edge_index\u001b[38;5;241m=\u001b[39m[\u001b[38;5;241m2\u001b[39m, \u001b[38;5;241m29801\u001b[39m], y\u001b[38;5;241m=\u001b[39m[\u001b[38;5;241m6043\u001b[39m], pos\u001b[38;5;241m=\u001b[39m[\u001b[38;5;241m6043\u001b[39m, \u001b[38;5;241m2\u001b[39m], train_mask\u001b[38;5;241m=\u001b[39m[\u001b[38;5;241m6043\u001b[39m], val_mask\u001b[38;5;241m=\u001b[39m[\u001b[38;5;241m6043\u001b[39m], test_mask\u001b[38;5;241m=\u001b[39m[\u001b[38;5;241m6043\u001b[39m])], \u001b[38;5;124m'\u001b[39m\u001b[38;5;124mval\u001b[39m\u001b[38;5;124m'\u001b[39m: [Data(x\u001b[38;5;241m=\u001b[39m[\u001b[38;5;241m6294\u001b[39m, \u001b[38;5;241m2048\u001b[39m], edge_index\u001b[38;5;241m=\u001b[39m[\u001b[38;5;241m2\u001b[39m, \u001b[38;5;241m30852\u001b[39m], y\u001b[38;5;241m=\u001b[39m[\u001b[38;5;241m6294\u001b[39m], pos\u001b[38;5;241m=\u001b[39m[\u001b[38;5;241m6294\u001b[39m, \u001b[38;5;241m2\u001b[39m], train_mask\u001b[38;5;241m=\u001b[39m[\u001b[38;5;241m6294\u001b[39m], val_mask\u001b[38;5;241m=\u001b[39m[\u001b[38;5;241m6294\u001b[39m], test_mask\u001b[38;5;241m=\u001b[39m[\u001b[38;5;241m6294\u001b[39m])]}, \u001b[38;5;124m'\u001b[39m\u001b[38;5;124m327_A1a_ASAP_tumor_map\u001b[39m\u001b[38;5;124m'\u001b[39m:{\u001b[38;5;124m'\u001b[39m\u001b[38;5;124mtrain\u001b[39m\u001b[38;5;124m'\u001b[39m: [Data(x\u001b[38;5;241m=\u001b[39m[\u001b[38;5;241m8925\u001b[39m, \u001b[38;5;241m2048\u001b[39m], edge_index\u001b[38;5;241m=\u001b[39m[\u001b[38;5;241m2\u001b[39m, \u001b[38;5;241m44005\u001b[39m], y\u001b[38;5;241m=\u001b[39m[\u001b[38;5;241m8925\u001b[39m], pos\u001b[38;5;241m=\u001b[39m[\u001b[38;5;241m8925\u001b[39m, \u001b[38;5;241m2\u001b[39m], train_mask\u001b[38;5;241m=\u001b[39m[\u001b[38;5;241m8925\u001b[39m], val_mask\u001b[38;5;241m=\u001b[39m[\u001b[38;5;241m8925\u001b[39m], test_mask\u001b[38;5;241m=\u001b[39m[\u001b[38;5;241m8925\u001b[39m]), Data(x\u001b[38;5;241m=\u001b[39m[\u001b[38;5;241m7523\u001b[39m, \u001b[38;5;241m2048\u001b[39m], edge_index\u001b[38;5;241m=\u001b[39m[\u001b[38;5;241m2\u001b[39m, \u001b[38;5;241m36939\u001b[39m], y\u001b[38;5;241m=\u001b[39m[\u001b[38;5;241m7523\u001b[39m], pos\u001b[38;5;241m=\u001b[39m[\u001b[38;5;241m7523\u001b[39m, \u001b[38;5;241m2\u001b[39m], train_mask\u001b[38;5;241m=\u001b[39m[\u001b[38;5;241m7523\u001b[39m], val_mask\u001b[38;5;241m=\u001b[39m[\u001b[38;5;241m7523\u001b[39m], test_mask\u001b[38;5;241m=\u001b[39m[\u001b[38;5;241m7523\u001b[39m])], \u001b[38;5;124m'\u001b[39m\u001b[38;5;124mval\u001b[39m\u001b[38;5;124m'\u001b[39m: [Data(x\u001b[38;5;241m=\u001b[39m[\u001b[38;5;241m9594\u001b[39m, \u001b[38;5;241m2048\u001b[39m], edge_index\u001b[38;5;241m=\u001b[39m[\u001b[38;5;241m2\u001b[39m, \u001b[38;5;241m47078\u001b[39m], y\u001b[38;5;241m=\u001b[39m[\u001b[38;5;241m9594\u001b[39m], pos\u001b[38;5;241m=\u001b[39m[\u001b[38;5;241m9594\u001b[39m, \u001b[38;5;241m2\u001b[39m], train_mask\u001b[38;5;241m=\u001b[39m[\u001b[38;5;241m9594\u001b[39m], val_mask\u001b[38;5;241m=\u001b[39m[\u001b[38;5;241m9594\u001b[39m], test_mask\u001b[38;5;241m=\u001b[39m[\u001b[38;5;241m9594\u001b[39m])]}, \u001b[38;5;124m'\u001b[39m\u001b[38;5;124m327_A1d_ASAP_tumor_map\u001b[39m\u001b[38;5;124m'\u001b[39m:{\u001b[38;5;124m'\u001b[39m\u001b[38;5;124mtrain\u001b[39m\u001b[38;5;124m'\u001b[39m: [Data(x\u001b[38;5;241m=\u001b[39m[\u001b[38;5;241m8040\u001b[39m, \u001b[38;5;241m2048\u001b[39m], edge_index\u001b[38;5;241m=\u001b[39m[\u001b[38;5;241m2\u001b[39m, \u001b[38;5;241m39486\u001b[39m], y\u001b[38;5;241m=\u001b[39m[\u001b[38;5;241m8040\u001b[39m], pos\u001b[38;5;241m=\u001b[39m[\u001b[38;5;241m8040\u001b[39m, \u001b[38;5;241m2\u001b[39m], train_mask\u001b[38;5;241m=\u001b[39m[\u001b[38;5;241m8040\u001b[39m], val_mask\u001b[38;5;241m=\u001b[39m[\u001b[38;5;241m8040\u001b[39m], test_mask\u001b[38;5;241m=\u001b[39m[\u001b[38;5;241m8040\u001b[39m])], \u001b[38;5;124m'\u001b[39m\u001b[38;5;124mval\u001b[39m\u001b[38;5;124m'\u001b[39m: [Data(x\u001b[38;5;241m=\u001b[39m[\u001b[38;5;241m8280\u001b[39m, \u001b[38;5;241m2048\u001b[39m], edge_index\u001b[38;5;241m=\u001b[39m[\u001b[38;5;241m2\u001b[39m, \u001b[38;5;241m40538\u001b[39m], y\u001b[38;5;241m=\u001b[39m[\u001b[38;5;241m8280\u001b[39m], pos\u001b[38;5;241m=\u001b[39m[\u001b[38;5;241m8280\u001b[39m, \u001b[38;5;241m2\u001b[39m], train_mask\u001b[38;5;241m=\u001b[39m[\u001b[38;5;241m8280\u001b[39m], val_mask\u001b[38;5;241m=\u001b[39m[\u001b[38;5;241m8280\u001b[39m], test_mask\u001b[38;5;241m=\u001b[39m[\u001b[38;5;241m8280\u001b[39m])]}, \u001b[38;5;124m'\u001b[39m\u001b[38;5;124m327_B1c_ASAP_tumor_map\u001b[39m\u001b[38;5;124m'\u001b[39m:{\u001b[38;5;124m'\u001b[39m\u001b[38;5;124mtrain\u001b[39m\u001b[38;5;124m'\u001b[39m: [Data(x\u001b[38;5;241m=\u001b[39m[\u001b[38;5;241m18384\u001b[39m, \u001b[38;5;241m2048\u001b[39m], edge_index\u001b[38;5;241m=\u001b[39m[\u001b[38;5;241m2\u001b[39m, \u001b[38;5;241m90616\u001b[39m], y\u001b[38;5;241m=\u001b[39m[\u001b[38;5;241m18384\u001b[39m], pos\u001b[38;5;241m=\u001b[39m[\u001b[38;5;241m18384\u001b[39m, \u001b[38;5;241m2\u001b[39m], train_mask\u001b[38;5;241m=\u001b[39m[\u001b[38;5;241m18384\u001b[39m], val_mask\u001b[38;5;241m=\u001b[39m[\u001b[38;5;241m18384\u001b[39m], test_mask\u001b[38;5;241m=\u001b[39m[\u001b[38;5;241m18384\u001b[39m])], \u001b[38;5;124m'\u001b[39m\u001b[38;5;124mval\u001b[39m\u001b[38;5;124m'\u001b[39m: [Data(x\u001b[38;5;241m=\u001b[39m[\u001b[38;5;241m20123\u001b[39m, \u001b[38;5;241m2048\u001b[39m], edge_index\u001b[38;5;241m=\u001b[39m[\u001b[38;5;241m2\u001b[39m, \u001b[38;5;241m99557\u001b[39m], y\u001b[38;5;241m=\u001b[39m[\u001b[38;5;241m20123\u001b[39m], pos\u001b[38;5;241m=\u001b[39m[\u001b[38;5;241m20123\u001b[39m, \u001b[38;5;241m2\u001b[39m], train_mask\u001b[38;5;241m=\u001b[39m[\u001b[38;5;241m20123\u001b[39m], val_mask\u001b[38;5;241m=\u001b[39m[\u001b[38;5;241m20123\u001b[39m], test_mask\u001b[38;5;241m=\u001b[39m[\u001b[38;5;241m20123\u001b[39m])]}, \u001b[38;5;124m'\u001b[39m\u001b[38;5;124m341_a_ASAP_tumor_map\u001b[39m\u001b[38;5;124m'\u001b[39m:{\u001b[38;5;124m'\u001b[39m\u001b[38;5;124mtrain\u001b[39m\u001b[38;5;124m'\u001b[39m: [Data(x\u001b[38;5;241m=\u001b[39m[\u001b[38;5;241m3285\u001b[39m, \u001b[38;5;241m2048\u001b[39m], edge_index\u001b[38;5;241m=\u001b[39m[\u001b[38;5;241m2\u001b[39m, \u001b[38;5;241m16061\u001b[39m], y\u001b[38;5;241m=\u001b[39m[\u001b[38;5;241m3285\u001b[39m], pos\u001b[38;5;241m=\u001b[39m[\u001b[38;5;241m3285\u001b[39m, \u001b[38;5;241m2\u001b[39m], train_mask\u001b[38;5;241m=\u001b[39m[\u001b[38;5;241m3285\u001b[39m], val_mask\u001b[38;5;241m=\u001b[39m[\u001b[38;5;241m3285\u001b[39m], test_mask\u001b[38;5;241m=\u001b[39m[\u001b[38;5;241m3285\u001b[39m]), Data(x\u001b[38;5;241m=\u001b[39m[\u001b[38;5;241m3282\u001b[39m, \u001b[38;5;241m2048\u001b[39m], edge_index\u001b[38;5;241m=\u001b[39m[\u001b[38;5;241m2\u001b[39m, \u001b[38;5;241m16056\u001b[39m], y\u001b[38;5;241m=\u001b[39m[\u001b[38;5;241m3282\u001b[39m], pos\u001b[38;5;241m=\u001b[39m[\u001b[38;5;241m3282\u001b[39m, \u001b[38;5;241m2\u001b[39m], train_mask\u001b[38;5;241m=\u001b[39m[\u001b[38;5;241m3282\u001b[39m], val_mask\u001b[38;5;241m=\u001b[39m[\u001b[38;5;241m3282\u001b[39m], test_mask\u001b[38;5;241m=\u001b[39m[\u001b[38;5;241m3282\u001b[39m])], \u001b[38;5;124m'\u001b[39m\u001b[38;5;124mval\u001b[39m\u001b[38;5;124m'\u001b[39m: [Data(x\u001b[38;5;241m=\u001b[39m[\u001b[38;5;241m2812\u001b[39m, \u001b[38;5;241m2048\u001b[39m], edge_index\u001b[38;5;241m=\u001b[39m[\u001b[38;5;241m2\u001b[39m, \u001b[38;5;241m13740\u001b[39m], y\u001b[38;5;241m=\u001b[39m[\u001b[38;5;241m2812\u001b[39m], pos\u001b[38;5;241m=\u001b[39m[\u001b[38;5;241m2812\u001b[39m, \u001b[38;5;241m2\u001b[39m], train_mask\u001b[38;5;241m=\u001b[39m[\u001b[38;5;241m2812\u001b[39m], val_mask\u001b[38;5;241m=\u001b[39m[\u001b[38;5;241m2812\u001b[39m], test_mask\u001b[38;5;241m=\u001b[39m[\u001b[38;5;241m2812\u001b[39m])]}, \u001b[38;5;124m'\u001b[39m\u001b[38;5;124m341_b_ASAP_tumor_map\u001b[39m\u001b[38;5;124m'\u001b[39m:{\u001b[38;5;124m'\u001b[39m\u001b[38;5;124mtrain\u001b[39m\u001b[38;5;124m'\u001b[39m: [Data(x\u001b[38;5;241m=\u001b[39m[\u001b[38;5;241m2217\u001b[39m, \u001b[38;5;241m2048\u001b[39m], edge_index\u001b[38;5;241m=\u001b[39m[\u001b[38;5;241m2\u001b[39m, \u001b[38;5;241m10801\u001b[39m], y\u001b[38;5;241m=\u001b[39m[\u001b[38;5;241m2217\u001b[39m], pos\u001b[38;5;241m=\u001b[39m[\u001b[38;5;241m2217\u001b[39m, \u001b[38;5;241m2\u001b[39m], train_mask\u001b[38;5;241m=\u001b[39m[\u001b[38;5;241m2217\u001b[39m], val_mask\u001b[38;5;241m=\u001b[39m[\u001b[38;5;241m2217\u001b[39m], test_mask\u001b[38;5;241m=\u001b[39m[\u001b[38;5;241m2217\u001b[39m]), Data(x\u001b[38;5;241m=\u001b[39m[\u001b[38;5;241m2806\u001b[39m, \u001b[38;5;241m2048\u001b[39m], edge_index\u001b[38;5;241m=\u001b[39m[\u001b[38;5;241m2\u001b[39m, \u001b[38;5;241m13728\u001b[39m], y\u001b[38;5;241m=\u001b[39m[\u001b[38;5;241m2806\u001b[39m], pos\u001b[38;5;241m=\u001b[39m[\u001b[38;5;241m2806\u001b[39m, \u001b[38;5;241m2\u001b[39m], train_mask\u001b[38;5;241m=\u001b[39m[\u001b[38;5;241m2806\u001b[39m], val_mask\u001b[38;5;241m=\u001b[39m[\u001b[38;5;241m2806\u001b[39m], test_mask\u001b[38;5;241m=\u001b[39m[\u001b[38;5;241m2806\u001b[39m])], \u001b[38;5;124m'\u001b[39m\u001b[38;5;124mval\u001b[39m\u001b[38;5;124m'\u001b[39m: [Data(x\u001b[38;5;241m=\u001b[39m[\u001b[38;5;241m1747\u001b[39m, \u001b[38;5;241m2048\u001b[39m], edge_index\u001b[38;5;241m=\u001b[39m[\u001b[38;5;241m2\u001b[39m, \u001b[38;5;241m8461\u001b[39m], y\u001b[38;5;241m=\u001b[39m[\u001b[38;5;241m1747\u001b[39m], pos\u001b[38;5;241m=\u001b[39m[\u001b[38;5;241m1747\u001b[39m, \u001b[38;5;241m2\u001b[39m], train_mask\u001b[38;5;241m=\u001b[39m[\u001b[38;5;241m1747\u001b[39m], val_mask\u001b[38;5;241m=\u001b[39m[\u001b[38;5;241m1747\u001b[39m], test_mask\u001b[38;5;241m=\u001b[39m[\u001b[38;5;241m1747\u001b[39m])]}, \u001b[38;5;124m'\u001b[39m\u001b[38;5;124m342_a_ASAP_tumor_map\u001b[39m\u001b[38;5;124m'\u001b[39m:{\u001b[38;5;124m'\u001b[39m\u001b[38;5;124mtrain\u001b[39m\u001b[38;5;124m'\u001b[39m: [Data(x\u001b[38;5;241m=\u001b[39m[\u001b[38;5;241m817\u001b[39m, \u001b[38;5;241m2048\u001b[39m], edge_index\u001b[38;5;241m=\u001b[39m[\u001b[38;5;241m2\u001b[39m, \u001b[38;5;241m3897\u001b[39m], y\u001b[38;5;241m=\u001b[39m[\u001b[38;5;241m817\u001b[39m], pos\u001b[38;5;241m=\u001b[39m[\u001b[38;5;241m817\u001b[39m, \u001b[38;5;241m2\u001b[39m], train_mask\u001b[38;5;241m=\u001b[39m[\u001b[38;5;241m817\u001b[39m], val_mask\u001b[38;5;241m=\u001b[39m[\u001b[38;5;241m817\u001b[39m], test_mask\u001b[38;5;241m=\u001b[39m[\u001b[38;5;241m817\u001b[39m]), Data(x\u001b[38;5;241m=\u001b[39m[\u001b[38;5;241m795\u001b[39m, \u001b[38;5;241m2048\u001b[39m], edge_index\u001b[38;5;241m=\u001b[39m[\u001b[38;5;241m2\u001b[39m, \u001b[38;5;241m3785\u001b[39m], y\u001b[38;5;241m=\u001b[39m[\u001b[38;5;241m795\u001b[39m], pos\u001b[38;5;241m=\u001b[39m[\u001b[38;5;241m795\u001b[39m, \u001b[38;5;241m2\u001b[39m], train_mask\u001b[38;5;241m=\u001b[39m[\u001b[38;5;241m795\u001b[39m], val_mask\u001b[38;5;241m=\u001b[39m[\u001b[38;5;241m795\u001b[39m], test_mask\u001b[38;5;241m=\u001b[39m[\u001b[38;5;241m795\u001b[39m]), Data(x\u001b[38;5;241m=\u001b[39m[\u001b[38;5;241m703\u001b[39m, \u001b[38;5;241m2048\u001b[39m], edge_index\u001b[38;5;241m=\u001b[39m[\u001b[38;5;241m2\u001b[39m, \u001b[38;5;241m3369\u001b[39m], y\u001b[38;5;241m=\u001b[39m[\u001b[38;5;241m703\u001b[39m], pos\u001b[38;5;241m=\u001b[39m[\u001b[38;5;241m703\u001b[39m, \u001b[38;5;241m2\u001b[39m], train_mask\u001b[38;5;241m=\u001b[39m[\u001b[38;5;241m703\u001b[39m], val_mask\u001b[38;5;241m=\u001b[39m[\u001b[38;5;241m703\u001b[39m], test_mask\u001b[38;5;241m=\u001b[39m[\u001b[38;5;241m703\u001b[39m]), Data(x\u001b[38;5;241m=\u001b[39m[\u001b[38;5;241m832\u001b[39m, \u001b[38;5;241m2048\u001b[39m], edge_index\u001b[38;5;241m=\u001b[39m[\u001b[38;5;241m2\u001b[39m, \u001b[38;5;241m3972\u001b[39m], y\u001b[38;5;241m=\u001b[39m[\u001b[38;5;241m832\u001b[39m], pos\u001b[38;5;241m=\u001b[39m[\u001b[38;5;241m832\u001b[39m, \u001b[38;5;241m2\u001b[39m], train_mask\u001b[38;5;241m=\u001b[39m[\u001b[38;5;241m832\u001b[39m], val_mask\u001b[38;5;241m=\u001b[39m[\u001b[38;5;241m832\u001b[39m], test_mask\u001b[38;5;241m=\u001b[39m[\u001b[38;5;241m832\u001b[39m]), Data(x\u001b[38;5;241m=\u001b[39m[\u001b[38;5;241m668\u001b[39m, \u001b[38;5;241m2048\u001b[39m], edge_index\u001b[38;5;241m=\u001b[39m[\u001b[38;5;241m2\u001b[39m, \u001b[38;5;241m3170\u001b[39m], y\u001b[38;5;241m=\u001b[39m[\u001b[38;5;241m668\u001b[39m], pos\u001b[38;5;241m=\u001b[39m[\u001b[38;5;241m668\u001b[39m, \u001b[38;5;241m2\u001b[39m], train_mask\u001b[38;5;241m=\u001b[39m[\u001b[38;5;241m668\u001b[39m], val_mask\u001b[38;5;241m=\u001b[39m[\u001b[38;5;241m668\u001b[39m], test_mask\u001b[38;5;241m=\u001b[39m[\u001b[38;5;241m668\u001b[39m]), Data(x\u001b[38;5;241m=\u001b[39m[\u001b[38;5;241m884\u001b[39m, \u001b[38;5;241m2048\u001b[39m], edge_index\u001b[38;5;241m=\u001b[39m[\u001b[38;5;241m2\u001b[39m, \u001b[38;5;241m4244\u001b[39m], y\u001b[38;5;241m=\u001b[39m[\u001b[38;5;241m884\u001b[39m], pos\u001b[38;5;241m=\u001b[39m[\u001b[38;5;241m884\u001b[39m, \u001b[38;5;241m2\u001b[39m], train_mask\u001b[38;5;241m=\u001b[39m[\u001b[38;5;241m884\u001b[39m], val_mask\u001b[38;5;241m=\u001b[39m[\u001b[38;5;241m884\u001b[39m], test_mask\u001b[38;5;241m=\u001b[39m[\u001b[38;5;241m884\u001b[39m]), Data(x\u001b[38;5;241m=\u001b[39m[\u001b[38;5;241m583\u001b[39m, \u001b[38;5;241m2048\u001b[39m], edge_index\u001b[38;5;241m=\u001b[39m[\u001b[38;5;241m2\u001b[39m, \u001b[38;5;241m2769\u001b[39m], y\u001b[38;5;241m=\u001b[39m[\u001b[38;5;241m583\u001b[39m], pos\u001b[38;5;241m=\u001b[39m[\u001b[38;5;241m583\u001b[39m, \u001b[38;5;241m2\u001b[39m], train_mask\u001b[38;5;241m=\u001b[39m[\u001b[38;5;241m583\u001b[39m], val_mask\u001b[38;5;241m=\u001b[39m[\u001b[38;5;241m583\u001b[39m], test_mask\u001b[38;5;241m=\u001b[39m[\u001b[38;5;241m583\u001b[39m])], \u001b[38;5;124m'\u001b[39m\u001b[38;5;124mval\u001b[39m\u001b[38;5;124m'\u001b[39m: [Data(x\u001b[38;5;241m=\u001b[39m[\u001b[38;5;241m935\u001b[39m, \u001b[38;5;241m2048\u001b[39m], edge_index\u001b[38;5;241m=\u001b[39m[\u001b[38;5;241m2\u001b[39m, \u001b[38;5;241m4489\u001b[39m], y\u001b[38;5;241m=\u001b[39m[\u001b[38;5;241m935\u001b[39m], pos\u001b[38;5;241m=\u001b[39m[\u001b[38;5;241m935\u001b[39m, \u001b[38;5;241m2\u001b[39m], train_mask\u001b[38;5;241m=\u001b[39m[\u001b[38;5;241m935\u001b[39m], val_mask\u001b[38;5;241m=\u001b[39m[\u001b[38;5;241m935\u001b[39m], test_mask\u001b[38;5;241m=\u001b[39m[\u001b[38;5;241m935\u001b[39m])]}, \u001b[38;5;124m'\u001b[39m\u001b[38;5;124m342_b_ASAP_tumor_map\u001b[39m\u001b[38;5;124m'\u001b[39m:{\u001b[38;5;124m'\u001b[39m\u001b[38;5;124mtrain\u001b[39m\u001b[38;5;124m'\u001b[39m: [Data(x\u001b[38;5;241m=\u001b[39m[\u001b[38;5;241m902\u001b[39m, \u001b[38;5;241m2048\u001b[39m], edge_index\u001b[38;5;241m=\u001b[39m[\u001b[38;5;241m2\u001b[39m, \u001b[38;5;241m4298\u001b[39m], y\u001b[38;5;241m=\u001b[39m[\u001b[38;5;241m902\u001b[39m], pos\u001b[38;5;241m=\u001b[39m[\u001b[38;5;241m902\u001b[39m, \u001b[38;5;241m2\u001b[39m], train_mask\u001b[38;5;241m=\u001b[39m[\u001b[38;5;241m902\u001b[39m], val_mask\u001b[38;5;241m=\u001b[39m[\u001b[38;5;241m902\u001b[39m], test_mask\u001b[38;5;241m=\u001b[39m[\u001b[38;5;241m902\u001b[39m]), Data(x\u001b[38;5;241m=\u001b[39m[\u001b[38;5;241m815\u001b[39m, \u001b[38;5;241m2048\u001b[39m], edge_index\u001b[38;5;241m=\u001b[39m[\u001b[38;5;241m2\u001b[39m, \u001b[38;5;241m3889\u001b[39m], y\u001b[38;5;241m=\u001b[39m[\u001b[38;5;241m815\u001b[39m], pos\u001b[38;5;241m=\u001b[39m[\u001b[38;5;241m815\u001b[39m, \u001b[38;5;241m2\u001b[39m], train_mask\u001b[38;5;241m=\u001b[39m[\u001b[38;5;241m815\u001b[39m], val_mask\u001b[38;5;241m=\u001b[39m[\u001b[38;5;241m815\u001b[39m], test_mask\u001b[38;5;241m=\u001b[39m[\u001b[38;5;241m815\u001b[39m]), Data(x\u001b[38;5;241m=\u001b[39m[\u001b[38;5;241m878\u001b[39m, \u001b[38;5;241m2048\u001b[39m], edge_index\u001b[38;5;241m=\u001b[39m[\u001b[38;5;241m2\u001b[39m, \u001b[38;5;241m4210\u001b[39m], y\u001b[38;5;241m=\u001b[39m[\u001b[38;5;241m878\u001b[39m], pos\u001b[38;5;241m=\u001b[39m[\u001b[38;5;241m878\u001b[39m, \u001b[38;5;241m2\u001b[39m], train_mask\u001b[38;5;241m=\u001b[39m[\u001b[38;5;241m878\u001b[39m], val_mask\u001b[38;5;241m=\u001b[39m[\u001b[38;5;241m878\u001b[39m], test_mask\u001b[38;5;241m=\u001b[39m[\u001b[38;5;241m878\u001b[39m]), Data(x\u001b[38;5;241m=\u001b[39m[\u001b[38;5;241m844\u001b[39m, \u001b[38;5;241m2048\u001b[39m], edge_index\u001b[38;5;241m=\u001b[39m[\u001b[38;5;241m2\u001b[39m, \u001b[38;5;241m4004\u001b[39m], y\u001b[38;5;241m=\u001b[39m[\u001b[38;5;241m844\u001b[39m], pos\u001b[38;5;241m=\u001b[39m[\u001b[38;5;241m844\u001b[39m, \u001b[38;5;241m2\u001b[39m], train_mask\u001b[38;5;241m=\u001b[39m[\u001b[38;5;241m844\u001b[39m], val_mask\u001b[38;5;241m=\u001b[39m[\u001b[38;5;241m844\u001b[39m], test_mask\u001b[38;5;241m=\u001b[39m[\u001b[38;5;241m844\u001b[39m]), Data(x\u001b[38;5;241m=\u001b[39m[\u001b[38;5;241m826\u001b[39m, \u001b[38;5;241m2048\u001b[39m], edge_index\u001b[38;5;241m=\u001b[39m[\u001b[38;5;241m2\u001b[39m, \u001b[38;5;241m3952\u001b[39m], y\u001b[38;5;241m=\u001b[39m[\u001b[38;5;241m826\u001b[39m], pos\u001b[38;5;241m=\u001b[39m[\u001b[38;5;241m826\u001b[39m, \u001b[38;5;241m2\u001b[39m], train_mask\u001b[38;5;241m=\u001b[39m[\u001b[38;5;241m826\u001b[39m], val_mask\u001b[38;5;241m=\u001b[39m[\u001b[38;5;241m826\u001b[39m], test_mask\u001b[38;5;241m=\u001b[39m[\u001b[38;5;241m826\u001b[39m]), Data(x\u001b[38;5;241m=\u001b[39m[\u001b[38;5;241m871\u001b[39m, \u001b[38;5;241m2048\u001b[39m], edge_index\u001b[38;5;241m=\u001b[39m[\u001b[38;5;241m2\u001b[39m, \u001b[38;5;241m4135\u001b[39m], y\u001b[38;5;241m=\u001b[39m[\u001b[38;5;241m871\u001b[39m], pos\u001b[38;5;241m=\u001b[39m[\u001b[38;5;241m871\u001b[39m, \u001b[38;5;241m2\u001b[39m], train_mask\u001b[38;5;241m=\u001b[39m[\u001b[38;5;241m871\u001b[39m], val_mask\u001b[38;5;241m=\u001b[39m[\u001b[38;5;241m871\u001b[39m], test_mask\u001b[38;5;241m=\u001b[39m[\u001b[38;5;241m871\u001b[39m]), Data(x\u001b[38;5;241m=\u001b[39m[\u001b[38;5;241m842\u001b[39m, \u001b[38;5;241m2048\u001b[39m], edge_index\u001b[38;5;241m=\u001b[39m[\u001b[38;5;241m2\u001b[39m, \u001b[38;5;241m4024\u001b[39m], y\u001b[38;5;241m=\u001b[39m[\u001b[38;5;241m842\u001b[39m], pos\u001b[38;5;241m=\u001b[39m[\u001b[38;5;241m842\u001b[39m, \u001b[38;5;241m2\u001b[39m], train_mask\u001b[38;5;241m=\u001b[39m[\u001b[38;5;241m842\u001b[39m], val_mask\u001b[38;5;241m=\u001b[39m[\u001b[38;5;241m842\u001b[39m], test_mask\u001b[38;5;241m=\u001b[39m[\u001b[38;5;241m842\u001b[39m])], \u001b[38;5;124m'\u001b[39m\u001b[38;5;124mval\u001b[39m\u001b[38;5;124m'\u001b[39m: [Data(x\u001b[38;5;241m=\u001b[39m[\u001b[38;5;241m850\u001b[39m, \u001b[38;5;241m2048\u001b[39m], edge_index\u001b[38;5;241m=\u001b[39m[\u001b[38;5;241m2\u001b[39m, \u001b[38;5;241m4038\u001b[39m], y\u001b[38;5;241m=\u001b[39m[\u001b[38;5;241m850\u001b[39m], pos\u001b[38;5;241m=\u001b[39m[\u001b[38;5;241m850\u001b[39m, \u001b[38;5;241m2\u001b[39m], train_mask\u001b[38;5;241m=\u001b[39m[\u001b[38;5;241m850\u001b[39m], val_mask\u001b[38;5;241m=\u001b[39m[\u001b[38;5;241m850\u001b[39m], test_mask\u001b[38;5;241m=\u001b[39m[\u001b[38;5;241m850\u001b[39m])]}, \u001b[38;5;124m'\u001b[39m\u001b[38;5;124m343_a_ASAP_tumor_map\u001b[39m\u001b[38;5;124m'\u001b[39m:{\u001b[38;5;124m'\u001b[39m\u001b[38;5;124mtrain\u001b[39m\u001b[38;5;124m'\u001b[39m: [Data(x\u001b[38;5;241m=\u001b[39m[\u001b[38;5;241m6056\u001b[39m, \u001b[38;5;241m2048\u001b[39m], edge_index\u001b[38;5;241m=\u001b[39m[\u001b[38;5;241m2\u001b[39m, \u001b[38;5;241m28736\u001b[39m], y\u001b[38;5;241m=\u001b[39m[\u001b[38;5;241m6056\u001b[39m], pos\u001b[38;5;241m=\u001b[39m[\u001b[38;5;241m6056\u001b[39m, \u001b[38;5;241m2\u001b[39m], train_mask\u001b[38;5;241m=\u001b[39m[\u001b[38;5;241m6056\u001b[39m], val_mask\u001b[38;5;241m=\u001b[39m[\u001b[38;5;241m6056\u001b[39m], test_mask\u001b[38;5;241m=\u001b[39m[\u001b[38;5;241m6056\u001b[39m]), Data(x\u001b[38;5;241m=\u001b[39m[\u001b[38;5;241m217\u001b[39m, \u001b[38;5;241m2048\u001b[39m], edge_index\u001b[38;5;241m=\u001b[39m[\u001b[38;5;241m2\u001b[39m, \u001b[38;5;241m991\u001b[39m], y\u001b[38;5;241m=\u001b[39m[\u001b[38;5;241m217\u001b[39m], pos\u001b[38;5;241m=\u001b[39m[\u001b[38;5;241m217\u001b[39m, \u001b[38;5;241m2\u001b[39m], train_mask\u001b[38;5;241m=\u001b[39m[\u001b[38;5;241m217\u001b[39m], val_mask\u001b[38;5;241m=\u001b[39m[\u001b[38;5;241m217\u001b[39m], test_mask\u001b[38;5;241m=\u001b[39m[\u001b[38;5;241m217\u001b[39m])], \u001b[38;5;124m'\u001b[39m\u001b[38;5;124mval\u001b[39m\u001b[38;5;124m'\u001b[39m: [Data(x\u001b[38;5;241m=\u001b[39m[\u001b[38;5;241m10754\u001b[39m, \u001b[38;5;241m2048\u001b[39m], edge_index\u001b[38;5;241m=\u001b[39m[\u001b[38;5;241m2\u001b[39m, \u001b[38;5;241m51502\u001b[39m], y\u001b[38;5;241m=\u001b[39m[\u001b[38;5;241m10754\u001b[39m], pos\u001b[38;5;241m=\u001b[39m[\u001b[38;5;241m10754\u001b[39m, \u001b[38;5;241m2\u001b[39m], train_mask\u001b[38;5;241m=\u001b[39m[\u001b[38;5;241m10754\u001b[39m], val_mask\u001b[38;5;241m=\u001b[39m[\u001b[38;5;241m10754\u001b[39m], test_mask\u001b[38;5;241m=\u001b[39m[\u001b[38;5;241m10754\u001b[39m])]}, \u001b[38;5;124m'\u001b[39m\u001b[38;5;124m343_b_ASAP_tumor_map\u001b[39m\u001b[38;5;124m'\u001b[39m:{\u001b[38;5;124m'\u001b[39m\u001b[38;5;124mtrain\u001b[39m\u001b[38;5;124m'\u001b[39m: [Data(x\u001b[38;5;241m=\u001b[39m[\u001b[38;5;241m22341\u001b[39m, \u001b[38;5;241m2048\u001b[39m], edge_index\u001b[38;5;241m=\u001b[39m[\u001b[38;5;241m2\u001b[39m, \u001b[38;5;241m109241\u001b[39m], y\u001b[38;5;241m=\u001b[39m[\u001b[38;5;241m22341\u001b[39m], pos\u001b[38;5;241m=\u001b[39m[\u001b[38;5;241m22341\u001b[39m, \u001b[38;5;241m2\u001b[39m], train_mask\u001b[38;5;241m=\u001b[39m[\u001b[38;5;241m22341\u001b[39m], val_mask\u001b[38;5;241m=\u001b[39m[\u001b[38;5;241m22341\u001b[39m], test_mask\u001b[38;5;241m=\u001b[39m[\u001b[38;5;241m22341\u001b[39m])], \u001b[38;5;124m'\u001b[39m\u001b[38;5;124mval\u001b[39m\u001b[38;5;124m'\u001b[39m: []}, \u001b[38;5;124m'\u001b[39m\u001b[38;5;124m343_c_ASAP_tumor_map\u001b[39m\u001b[38;5;124m'\u001b[39m:{\u001b[38;5;124m'\u001b[39m\u001b[38;5;124mtrain\u001b[39m\u001b[38;5;124m'\u001b[39m: [Data(x\u001b[38;5;241m=\u001b[39m[\u001b[38;5;241m8943\u001b[39m, \u001b[38;5;241m2048\u001b[39m], edge_index\u001b[38;5;241m=\u001b[39m[\u001b[38;5;241m2\u001b[39m, \u001b[38;5;241m43861\u001b[39m], y\u001b[38;5;241m=\u001b[39m[\u001b[38;5;241m8943\u001b[39m], pos\u001b[38;5;241m=\u001b[39m[\u001b[38;5;241m8943\u001b[39m, \u001b[38;5;241m2\u001b[39m], train_mask\u001b[38;5;241m=\u001b[39m[\u001b[38;5;241m8943\u001b[39m], val_mask\u001b[38;5;241m=\u001b[39m[\u001b[38;5;241m8943\u001b[39m], test_mask\u001b[38;5;241m=\u001b[39m[\u001b[38;5;241m8943\u001b[39m])], \u001b[38;5;124m'\u001b[39m\u001b[38;5;124mval\u001b[39m\u001b[38;5;124m'\u001b[39m: [Data(x\u001b[38;5;241m=\u001b[39m[\u001b[38;5;241m14272\u001b[39m, \u001b[38;5;241m2048\u001b[39m], edge_index\u001b[38;5;241m=\u001b[39m[\u001b[38;5;241m2\u001b[39m, \u001b[38;5;241m69508\u001b[39m], y\u001b[38;5;241m=\u001b[39m[\u001b[38;5;241m14272\u001b[39m], pos\u001b[38;5;241m=\u001b[39m[\u001b[38;5;241m14272\u001b[39m, \u001b[38;5;241m2\u001b[39m], train_mask\u001b[38;5;241m=\u001b[39m[\u001b[38;5;241m14272\u001b[39m], val_mask\u001b[38;5;241m=\u001b[39m[\u001b[38;5;241m14272\u001b[39m], test_mask\u001b[38;5;241m=\u001b[39m[\u001b[38;5;241m14272\u001b[39m])]}, \u001b[38;5;124m'\u001b[39m\u001b[38;5;124m343_d_ASAP_tumor_map\u001b[39m\u001b[38;5;124m'\u001b[39m:{\u001b[38;5;124m'\u001b[39m\u001b[38;5;124mtrain\u001b[39m\u001b[38;5;124m'\u001b[39m: [Data(x\u001b[38;5;241m=\u001b[39m[\u001b[38;5;241m23840\u001b[39m, \u001b[38;5;241m2048\u001b[39m], edge_index\u001b[38;5;241m=\u001b[39m[\u001b[38;5;241m2\u001b[39m, \u001b[38;5;241m116080\u001b[39m], y\u001b[38;5;241m=\u001b[39m[\u001b[38;5;241m23840\u001b[39m], pos\u001b[38;5;241m=\u001b[39m[\u001b[38;5;241m23840\u001b[39m, \u001b[38;5;241m2\u001b[39m], train_mask\u001b[38;5;241m=\u001b[39m[\u001b[38;5;241m23840\u001b[39m], val_mask\u001b[38;5;241m=\u001b[39m[\u001b[38;5;241m23840\u001b[39m], test_mask\u001b[38;5;241m=\u001b[39m[\u001b[38;5;241m23840\u001b[39m])], \u001b[38;5;124m'\u001b[39m\u001b[38;5;124mval\u001b[39m\u001b[38;5;124m'\u001b[39m: []}, \u001b[38;5;124m'\u001b[39m\u001b[38;5;124m344_a_ASAP_tumor_map\u001b[39m\u001b[38;5;124m'\u001b[39m:{\u001b[38;5;124m'\u001b[39m\u001b[38;5;124mtrain\u001b[39m\u001b[38;5;124m'\u001b[39m: [Data(x\u001b[38;5;241m=\u001b[39m[\u001b[38;5;241m2319\u001b[39m, \u001b[38;5;241m2048\u001b[39m], edge_index\u001b[38;5;241m=\u001b[39m[\u001b[38;5;241m2\u001b[39m, \u001b[38;5;241m11133\u001b[39m], y\u001b[38;5;241m=\u001b[39m[\u001b[38;5;241m2319\u001b[39m], pos\u001b[38;5;241m=\u001b[39m[\u001b[38;5;241m2319\u001b[39m, \u001b[38;5;241m2\u001b[39m], train_mask\u001b[38;5;241m=\u001b[39m[\u001b[38;5;241m2319\u001b[39m], val_mask\u001b[38;5;241m=\u001b[39m[\u001b[38;5;241m2319\u001b[39m], test_mask\u001b[38;5;241m=\u001b[39m[\u001b[38;5;241m2319\u001b[39m]), Data(x\u001b[38;5;241m=\u001b[39m[\u001b[38;5;241m2536\u001b[39m, \u001b[38;5;241m2048\u001b[39m], edge_index\u001b[38;5;241m=\u001b[39m[\u001b[38;5;241m2\u001b[39m, \u001b[38;5;241m12266\u001b[39m], y\u001b[38;5;241m=\u001b[39m[\u001b[38;5;241m2536\u001b[39m], pos\u001b[38;5;241m=\u001b[39m[\u001b[38;5;241m2536\u001b[39m, \u001b[38;5;241m2\u001b[39m], train_mask\u001b[38;5;241m=\u001b[39m[\u001b[38;5;241m2536\u001b[39m], val_mask\u001b[38;5;241m=\u001b[39m[\u001b[38;5;241m2536\u001b[39m], test_mask\u001b[38;5;241m=\u001b[39m[\u001b[38;5;241m2536\u001b[39m]), Data(x\u001b[38;5;241m=\u001b[39m[\u001b[38;5;241m2706\u001b[39m, \u001b[38;5;241m2048\u001b[39m], edge_index\u001b[38;5;241m=\u001b[39m[\u001b[38;5;241m2\u001b[39m, \u001b[38;5;241m13020\u001b[39m], y\u001b[38;5;241m=\u001b[39m[\u001b[38;5;241m2706\u001b[39m], pos\u001b[38;5;241m=\u001b[39m[\u001b[38;5;241m2706\u001b[39m, \u001b[38;5;241m2\u001b[39m], train_mask\u001b[38;5;241m=\u001b[39m[\u001b[38;5;241m2706\u001b[39m], val_mask\u001b[38;5;241m=\u001b[39m[\u001b[38;5;241m2706\u001b[39m], test_mask\u001b[38;5;241m=\u001b[39m[\u001b[38;5;241m2706\u001b[39m])], \u001b[38;5;124m'\u001b[39m\u001b[38;5;124mval\u001b[39m\u001b[38;5;124m'\u001b[39m: [Data(x\u001b[38;5;241m=\u001b[39m[\u001b[38;5;241m2423\u001b[39m, \u001b[38;5;241m2048\u001b[39m], edge_index\u001b[38;5;241m=\u001b[39m[\u001b[38;5;241m2\u001b[39m, \u001b[38;5;241m11553\u001b[39m], y\u001b[38;5;241m=\u001b[39m[\u001b[38;5;241m2423\u001b[39m], pos\u001b[38;5;241m=\u001b[39m[\u001b[38;5;241m2423\u001b[39m, \u001b[38;5;241m2\u001b[39m], train_mask\u001b[38;5;241m=\u001b[39m[\u001b[38;5;241m2423\u001b[39m], val_mask\u001b[38;5;241m=\u001b[39m[\u001b[38;5;241m2423\u001b[39m], test_mask\u001b[38;5;241m=\u001b[39m[\u001b[38;5;241m2423\u001b[39m])]}, \u001b[38;5;124m'\u001b[39m\u001b[38;5;124m344_b_ASAP_tumor_map\u001b[39m\u001b[38;5;124m'\u001b[39m:{\u001b[38;5;124m'\u001b[39m\u001b[38;5;124mtrain\u001b[39m\u001b[38;5;124m'\u001b[39m: [Data(x\u001b[38;5;241m=\u001b[39m[\u001b[38;5;241m2642\u001b[39m, \u001b[38;5;241m2048\u001b[39m], edge_index\u001b[38;5;241m=\u001b[39m[\u001b[38;5;241m2\u001b[39m, \u001b[38;5;241m12780\u001b[39m], y\u001b[38;5;241m=\u001b[39m[\u001b[38;5;241m2642\u001b[39m], pos\u001b[38;5;241m=\u001b[39m[\u001b[38;5;241m2642\u001b[39m, \u001b[38;5;241m2\u001b[39m], train_mask\u001b[38;5;241m=\u001b[39m[\u001b[38;5;241m2642\u001b[39m], val_mask\u001b[38;5;241m=\u001b[39m[\u001b[38;5;241m2642\u001b[39m], test_mask\u001b[38;5;241m=\u001b[39m[\u001b[38;5;241m2642\u001b[39m]), Data(x\u001b[38;5;241m=\u001b[39m[\u001b[38;5;241m2598\u001b[39m, \u001b[38;5;241m2048\u001b[39m], edge_index\u001b[38;5;241m=\u001b[39m[\u001b[38;5;241m2\u001b[39m, \u001b[38;5;241m12504\u001b[39m], y\u001b[38;5;241m=\u001b[39m[\u001b[38;5;241m2598\u001b[39m], pos\u001b[38;5;241m=\u001b[39m[\u001b[38;5;241m2598\u001b[39m, \u001b[38;5;241m2\u001b[39m], train_mask\u001b[38;5;241m=\u001b[39m[\u001b[38;5;241m2598\u001b[39m], val_mask\u001b[38;5;241m=\u001b[39m[\u001b[38;5;241m2598\u001b[39m], test_mask\u001b[38;5;241m=\u001b[39m[\u001b[38;5;241m2598\u001b[39m]), Data(x\u001b[38;5;241m=\u001b[39m[\u001b[38;5;241m2578\u001b[39m, \u001b[38;5;241m2048\u001b[39m], edge_index\u001b[38;5;241m=\u001b[39m[\u001b[38;5;241m2\u001b[39m, \u001b[38;5;241m12512\u001b[39m], y\u001b[38;5;241m=\u001b[39m[\u001b[38;5;241m2578\u001b[39m], pos\u001b[38;5;241m=\u001b[39m[\u001b[38;5;241m2578\u001b[39m, \u001b[38;5;241m2\u001b[39m], train_mask\u001b[38;5;241m=\u001b[39m[\u001b[38;5;241m2578\u001b[39m], val_mask\u001b[38;5;241m=\u001b[39m[\u001b[38;5;241m2578\u001b[39m], test_mask\u001b[38;5;241m=\u001b[39m[\u001b[38;5;241m2578\u001b[39m])], \u001b[38;5;124m'\u001b[39m\u001b[38;5;124mval\u001b[39m\u001b[38;5;124m'\u001b[39m: [Data(x\u001b[38;5;241m=\u001b[39m[\u001b[38;5;241m2523\u001b[39m, \u001b[38;5;241m2048\u001b[39m], edge_index\u001b[38;5;241m=\u001b[39m[\u001b[38;5;241m2\u001b[39m, \u001b[38;5;241m12237\u001b[39m], y\u001b[38;5;241m=\u001b[39m[\u001b[38;5;241m2523\u001b[39m], pos\u001b[38;5;241m=\u001b[39m[\u001b[38;5;241m2523\u001b[39m, \u001b[38;5;241m2\u001b[39m], train_mask\u001b[38;5;241m=\u001b[39m[\u001b[38;5;241m2523\u001b[39m], val_mask\u001b[38;5;241m=\u001b[39m[\u001b[38;5;241m2523\u001b[39m], test_mask\u001b[38;5;241m=\u001b[39m[\u001b[38;5;241m2523\u001b[39m])]}, \u001b[38;5;124m'\u001b[39m\u001b[38;5;124m345_a_ASAP_tumor_map\u001b[39m\u001b[38;5;124m'\u001b[39m:{\u001b[38;5;124m'\u001b[39m\u001b[38;5;124mtrain\u001b[39m\u001b[38;5;124m'\u001b[39m: [Data(x\u001b[38;5;241m=\u001b[39m[\u001b[38;5;241m5059\u001b[39m, \u001b[38;5;241m2048\u001b[39m], edge_index\u001b[38;5;241m=\u001b[39m[\u001b[38;5;241m2\u001b[39m, \u001b[38;5;241m24891\u001b[39m], y\u001b[38;5;241m=\u001b[39m[\u001b[38;5;241m5059\u001b[39m], pos\u001b[38;5;241m=\u001b[39m[\u001b[38;5;241m5059\u001b[39m, \u001b[38;5;241m2\u001b[39m], train_mask\u001b[38;5;241m=\u001b[39m[\u001b[38;5;241m5059\u001b[39m], val_mask\u001b[38;5;241m=\u001b[39m[\u001b[38;5;241m5059\u001b[39m], test_mask\u001b[38;5;241m=\u001b[39m[\u001b[38;5;241m5059\u001b[39m]), Data(x\u001b[38;5;241m=\u001b[39m[\u001b[38;5;241m4642\u001b[39m, \u001b[38;5;241m2048\u001b[39m], edge_index\u001b[38;5;241m=\u001b[39m[\u001b[38;5;241m2\u001b[39m, \u001b[38;5;241m22826\u001b[39m], y\u001b[38;5;241m=\u001b[39m[\u001b[38;5;241m4642\u001b[39m], pos\u001b[38;5;241m=\u001b[39m[\u001b[38;5;241m4642\u001b[39m, \u001b[38;5;241m2\u001b[39m], train_mask\u001b[38;5;241m=\u001b[39m[\u001b[38;5;241m4642\u001b[39m], val_mask\u001b[38;5;241m=\u001b[39m[\u001b[38;5;241m4642\u001b[39m], test_mask\u001b[38;5;241m=\u001b[39m[\u001b[38;5;241m4642\u001b[39m])], \u001b[38;5;124m'\u001b[39m\u001b[38;5;124mval\u001b[39m\u001b[38;5;124m'\u001b[39m: [Data(x\u001b[38;5;241m=\u001b[39m[\u001b[38;5;241m4837\u001b[39m, \u001b[38;5;241m2048\u001b[39m], edge_index\u001b[38;5;241m=\u001b[39m[\u001b[38;5;241m2\u001b[39m, \u001b[38;5;241m23785\u001b[39m], y\u001b[38;5;241m=\u001b[39m[\u001b[38;5;241m4837\u001b[39m], pos\u001b[38;5;241m=\u001b[39m[\u001b[38;5;241m4837\u001b[39m, \u001b[38;5;241m2\u001b[39m], train_mask\u001b[38;5;241m=\u001b[39m[\u001b[38;5;241m4837\u001b[39m], val_mask\u001b[38;5;241m=\u001b[39m[\u001b[38;5;241m4837\u001b[39m], test_mask\u001b[38;5;241m=\u001b[39m[\u001b[38;5;241m4837\u001b[39m])]}, \u001b[38;5;124m'\u001b[39m\u001b[38;5;124m345_b_ASAP_tumor_map\u001b[39m\u001b[38;5;124m'\u001b[39m:{\u001b[38;5;124m'\u001b[39m\u001b[38;5;124mtrain\u001b[39m\u001b[38;5;124m'\u001b[39m: [Data(x\u001b[38;5;241m=\u001b[39m[\u001b[38;5;241m5019\u001b[39m, \u001b[38;5;241m2048\u001b[39m], edge_index\u001b[38;5;241m=\u001b[39m[\u001b[38;5;241m2\u001b[39m, \u001b[38;5;241m24651\u001b[39m], y\u001b[38;5;241m=\u001b[39m[\u001b[38;5;241m5019\u001b[39m], pos\u001b[38;5;241m=\u001b[39m[\u001b[38;5;241m5019\u001b[39m, \u001b[38;5;241m2\u001b[39m], train_mask\u001b[38;5;241m=\u001b[39m[\u001b[38;5;241m5019\u001b[39m], val_mask\u001b[38;5;241m=\u001b[39m[\u001b[38;5;241m5019\u001b[39m], test_mask\u001b[38;5;241m=\u001b[39m[\u001b[38;5;241m5019\u001b[39m]), Data(x\u001b[38;5;241m=\u001b[39m[\u001b[38;5;241m5072\u001b[39m, \u001b[38;5;241m2048\u001b[39m], edge_index\u001b[38;5;241m=\u001b[39m[\u001b[38;5;241m2\u001b[39m, \u001b[38;5;241m24926\u001b[39m], y\u001b[38;5;241m=\u001b[39m[\u001b[38;5;241m5072\u001b[39m], pos\u001b[38;5;241m=\u001b[39m[\u001b[38;5;241m5072\u001b[39m, \u001b[38;5;241m2\u001b[39m], train_mask\u001b[38;5;241m=\u001b[39m[\u001b[38;5;241m5072\u001b[39m], val_mask\u001b[38;5;241m=\u001b[39m[\u001b[38;5;241m5072\u001b[39m], test_mask\u001b[38;5;241m=\u001b[39m[\u001b[38;5;241m5072\u001b[39m])], \u001b[38;5;124m'\u001b[39m\u001b[38;5;124mval\u001b[39m\u001b[38;5;124m'\u001b[39m: [Data(x\u001b[38;5;241m=\u001b[39m[\u001b[38;5;241m4723\u001b[39m, \u001b[38;5;241m2048\u001b[39m], edge_index\u001b[38;5;241m=\u001b[39m[\u001b[38;5;241m2\u001b[39m, \u001b[38;5;241m23209\u001b[39m], y\u001b[38;5;241m=\u001b[39m[\u001b[38;5;241m4723\u001b[39m], pos\u001b[38;5;241m=\u001b[39m[\u001b[38;5;241m4723\u001b[39m, \u001b[38;5;241m2\u001b[39m], train_mask\u001b[38;5;241m=\u001b[39m[\u001b[38;5;241m4723\u001b[39m], val_mask\u001b[38;5;241m=\u001b[39m[\u001b[38;5;241m4723\u001b[39m], test_mask\u001b[38;5;241m=\u001b[39m[\u001b[38;5;241m4723\u001b[39m])]}, \u001b[38;5;124m'\u001b[39m\u001b[38;5;124m346_a_ASAP_tumor_map\u001b[39m\u001b[38;5;124m'\u001b[39m:{\u001b[38;5;124m'\u001b[39m\u001b[38;5;124mtrain\u001b[39m\u001b[38;5;124m'\u001b[39m: [Data(x\u001b[38;5;241m=\u001b[39m[\u001b[38;5;241m2608\u001b[39m, \u001b[38;5;241m2048\u001b[39m], edge_index\u001b[38;5;241m=\u001b[39m[\u001b[38;5;241m2\u001b[39m, \u001b[38;5;241m12462\u001b[39m], y\u001b[38;5;241m=\u001b[39m[\u001b[38;5;241m2608\u001b[39m], pos\u001b[38;5;241m=\u001b[39m[\u001b[38;5;241m2608\u001b[39m, \u001b[38;5;241m2\u001b[39m], train_mask\u001b[38;5;241m=\u001b[39m[\u001b[38;5;241m2608\u001b[39m], val_mask\u001b[38;5;241m=\u001b[39m[\u001b[38;5;241m2608\u001b[39m], test_mask\u001b[38;5;241m=\u001b[39m[\u001b[38;5;241m2608\u001b[39m]), Data(x\u001b[38;5;241m=\u001b[39m[\u001b[38;5;241m532\u001b[39m, \u001b[38;5;241m2048\u001b[39m], edge_index\u001b[38;5;241m=\u001b[39m[\u001b[38;5;241m2\u001b[39m, \u001b[38;5;241m2502\u001b[39m], y\u001b[38;5;241m=\u001b[39m[\u001b[38;5;241m532\u001b[39m], pos\u001b[38;5;241m=\u001b[39m[\u001b[38;5;241m532\u001b[39m, \u001b[38;5;241m2\u001b[39m], train_mask\u001b[38;5;241m=\u001b[39m[\u001b[38;5;241m532\u001b[39m], val_mask\u001b[38;5;241m=\u001b[39m[\u001b[38;5;241m532\u001b[39m], test_mask\u001b[38;5;241m=\u001b[39m[\u001b[38;5;241m532\u001b[39m]), Data(x\u001b[38;5;241m=\u001b[39m[\u001b[38;5;241m2529\u001b[39m, \u001b[38;5;241m2048\u001b[39m], edge_index\u001b[38;5;241m=\u001b[39m[\u001b[38;5;241m2\u001b[39m, \u001b[38;5;241m12003\u001b[39m], y\u001b[38;5;241m=\u001b[39m[\u001b[38;5;241m2529\u001b[39m], pos\u001b[38;5;241m=\u001b[39m[\u001b[38;5;241m2529\u001b[39m, \u001b[38;5;241m2\u001b[39m], train_mask\u001b[38;5;241m=\u001b[39m[\u001b[38;5;241m2529\u001b[39m], val_mask\u001b[38;5;241m=\u001b[39m[\u001b[38;5;241m2529\u001b[39m], test_mask\u001b[38;5;241m=\u001b[39m[\u001b[38;5;241m2529\u001b[39m]), Data(x\u001b[38;5;241m=\u001b[39m[\u001b[38;5;241m2207\u001b[39m, \u001b[38;5;241m2048\u001b[39m], edge_index\u001b[38;5;241m=\u001b[39m[\u001b[38;5;241m2\u001b[39m, \u001b[38;5;241m10509\u001b[39m], y\u001b[38;5;241m=\u001b[39m[\u001b[38;5;241m2207\u001b[39m], pos\u001b[38;5;241m=\u001b[39m[\u001b[38;5;241m2207\u001b[39m, \u001b[38;5;241m2\u001b[39m], train_mask\u001b[38;5;241m=\u001b[39m[\u001b[38;5;241m2207\u001b[39m], val_mask\u001b[38;5;241m=\u001b[39m[\u001b[38;5;241m2207\u001b[39m], test_mask\u001b[38;5;241m=\u001b[39m[\u001b[38;5;241m2207\u001b[39m]), Data(x\u001b[38;5;241m=\u001b[39m[\u001b[38;5;241m2774\u001b[39m, \u001b[38;5;241m2048\u001b[39m], edge_index\u001b[38;5;241m=\u001b[39m[\u001b[38;5;241m2\u001b[39m, \u001b[38;5;241m13196\u001b[39m], y\u001b[38;5;241m=\u001b[39m[\u001b[38;5;241m2774\u001b[39m], pos\u001b[38;5;241m=\u001b[39m[\u001b[38;5;241m2774\u001b[39m, \u001b[38;5;241m2\u001b[39m], train_mask\u001b[38;5;241m=\u001b[39m[\u001b[38;5;241m2774\u001b[39m], val_mask\u001b[38;5;241m=\u001b[39m[\u001b[38;5;241m2774\u001b[39m], test_mask\u001b[38;5;241m=\u001b[39m[\u001b[38;5;241m2774\u001b[39m])], \u001b[38;5;124m'\u001b[39m\u001b[38;5;124mval\u001b[39m\u001b[38;5;124m'\u001b[39m: [Data(x\u001b[38;5;241m=\u001b[39m[\u001b[38;5;241m296\u001b[39m, \u001b[38;5;241m2048\u001b[39m], edge_index\u001b[38;5;241m=\u001b[39m[\u001b[38;5;241m2\u001b[39m, \u001b[38;5;241m1326\u001b[39m], y\u001b[38;5;241m=\u001b[39m[\u001b[38;5;241m296\u001b[39m], pos\u001b[38;5;241m=\u001b[39m[\u001b[38;5;241m296\u001b[39m, \u001b[38;5;241m2\u001b[39m], train_mask\u001b[38;5;241m=\u001b[39m[\u001b[38;5;241m296\u001b[39m], val_mask\u001b[38;5;241m=\u001b[39m[\u001b[38;5;241m296\u001b[39m], test_mask\u001b[38;5;241m=\u001b[39m[\u001b[38;5;241m296\u001b[39m])]}, \u001b[38;5;124m'\u001b[39m\u001b[38;5;124m346_b_ASAP_tumor_map\u001b[39m\u001b[38;5;124m'\u001b[39m:{\u001b[38;5;124m'\u001b[39m\u001b[38;5;124mtrain\u001b[39m\u001b[38;5;124m'\u001b[39m: [Data(x\u001b[38;5;241m=\u001b[39m[\u001b[38;5;241m2110\u001b[39m, \u001b[38;5;241m2048\u001b[39m], edge_index\u001b[38;5;241m=\u001b[39m[\u001b[38;5;241m2\u001b[39m, \u001b[38;5;241m10048\u001b[39m], y\u001b[38;5;241m=\u001b[39m[\u001b[38;5;241m2110\u001b[39m], pos\u001b[38;5;241m=\u001b[39m[\u001b[38;5;241m2110\u001b[39m, \u001b[38;5;241m2\u001b[39m], train_mask\u001b[38;5;241m=\u001b[39m[\u001b[38;5;241m2110\u001b[39m], val_mask\u001b[38;5;241m=\u001b[39m[\u001b[38;5;241m2110\u001b[39m], test_mask\u001b[38;5;241m=\u001b[39m[\u001b[38;5;241m2110\u001b[39m]), Data(x\u001b[38;5;241m=\u001b[39m[\u001b[38;5;241m256\u001b[39m, \u001b[38;5;241m2048\u001b[39m], edge_index\u001b[38;5;241m=\u001b[39m[\u001b[38;5;241m2\u001b[39m, \u001b[38;5;241m1190\u001b[39m], y\u001b[38;5;241m=\u001b[39m[\u001b[38;5;241m256\u001b[39m], pos\u001b[38;5;241m=\u001b[39m[\u001b[38;5;241m256\u001b[39m, \u001b[38;5;241m2\u001b[39m], train_mask\u001b[38;5;241m=\u001b[39m[\u001b[38;5;241m256\u001b[39m], val_mask\u001b[38;5;241m=\u001b[39m[\u001b[38;5;241m256\u001b[39m], test_mask\u001b[38;5;241m=\u001b[39m[\u001b[38;5;241m256\u001b[39m]), Data(x\u001b[38;5;241m=\u001b[39m[\u001b[38;5;241m647\u001b[39m, \u001b[38;5;241m2048\u001b[39m], edge_index\u001b[38;5;241m=\u001b[39m[\u001b[38;5;241m2\u001b[39m, \u001b[38;5;241m3041\u001b[39m], y\u001b[38;5;241m=\u001b[39m[\u001b[38;5;241m647\u001b[39m], pos\u001b[38;5;241m=\u001b[39m[\u001b[38;5;241m647\u001b[39m, \u001b[38;5;241m2\u001b[39m], train_mask\u001b[38;5;241m=\u001b[39m[\u001b[38;5;241m647\u001b[39m], val_mask\u001b[38;5;241m=\u001b[39m[\u001b[38;5;241m647\u001b[39m], test_mask\u001b[38;5;241m=\u001b[39m[\u001b[38;5;241m647\u001b[39m]), Data(x\u001b[38;5;241m=\u001b[39m[\u001b[38;5;241m1926\u001b[39m, \u001b[38;5;241m2048\u001b[39m], edge_index\u001b[38;5;241m=\u001b[39m[\u001b[38;5;241m2\u001b[39m, \u001b[38;5;241m9266\u001b[39m], y\u001b[38;5;241m=\u001b[39m[\u001b[38;5;241m1926\u001b[39m], pos\u001b[38;5;241m=\u001b[39m[\u001b[38;5;241m1926\u001b[39m, \u001b[38;5;241m2\u001b[39m], train_mask\u001b[38;5;241m=\u001b[39m[\u001b[38;5;241m1926\u001b[39m], val_mask\u001b[38;5;241m=\u001b[39m[\u001b[38;5;241m1926\u001b[39m], test_mask\u001b[38;5;241m=\u001b[39m[\u001b[38;5;241m1926\u001b[39m]), Data(x\u001b[38;5;241m=\u001b[39m[\u001b[38;5;241m256\u001b[39m, \u001b[38;5;241m2048\u001b[39m], edge_index\u001b[38;5;241m=\u001b[39m[\u001b[38;5;241m2\u001b[39m, \u001b[38;5;241m1138\u001b[39m], y\u001b[38;5;241m=\u001b[39m[\u001b[38;5;241m256\u001b[39m], pos\u001b[38;5;241m=\u001b[39m[\u001b[38;5;241m256\u001b[39m, \u001b[38;5;241m2\u001b[39m], train_mask\u001b[38;5;241m=\u001b[39m[\u001b[38;5;241m256\u001b[39m], val_mask\u001b[38;5;241m=\u001b[39m[\u001b[38;5;241m256\u001b[39m], test_mask\u001b[38;5;241m=\u001b[39m[\u001b[38;5;241m256\u001b[39m]), Data(x\u001b[38;5;241m=\u001b[39m[\u001b[38;5;241m1968\u001b[39m, \u001b[38;5;241m2048\u001b[39m], edge_index\u001b[38;5;241m=\u001b[39m[\u001b[38;5;241m2\u001b[39m, \u001b[38;5;241m9308\u001b[39m], y\u001b[38;5;241m=\u001b[39m[\u001b[38;5;241m1968\u001b[39m], pos\u001b[38;5;241m=\u001b[39m[\u001b[38;5;241m1968\u001b[39m, \u001b[38;5;241m2\u001b[39m], train_mask\u001b[38;5;241m=\u001b[39m[\u001b[38;5;241m1968\u001b[39m], val_mask\u001b[38;5;241m=\u001b[39m[\u001b[38;5;241m1968\u001b[39m], test_mask\u001b[38;5;241m=\u001b[39m[\u001b[38;5;241m1968\u001b[39m]), Data(x\u001b[38;5;241m=\u001b[39m[\u001b[38;5;241m2800\u001b[39m, \u001b[38;5;241m2048\u001b[39m], edge_index\u001b[38;5;241m=\u001b[39m[\u001b[38;5;241m2\u001b[39m, \u001b[38;5;241m13298\u001b[39m], y\u001b[38;5;241m=\u001b[39m[\u001b[38;5;241m2800\u001b[39m], pos\u001b[38;5;241m=\u001b[39m[\u001b[38;5;241m2800\u001b[39m, \u001b[38;5;241m2\u001b[39m], train_mask\u001b[38;5;241m=\u001b[39m[\u001b[38;5;241m2800\u001b[39m], val_mask\u001b[38;5;241m=\u001b[39m[\u001b[38;5;241m2800\u001b[39m], test_mask\u001b[38;5;241m=\u001b[39m[\u001b[38;5;241m2800\u001b[39m]), Data(x\u001b[38;5;241m=\u001b[39m[\u001b[38;5;241m369\u001b[39m, \u001b[38;5;241m2048\u001b[39m], edge_index\u001b[38;5;241m=\u001b[39m[\u001b[38;5;241m2\u001b[39m, \u001b[38;5;241m1685\u001b[39m], y\u001b[38;5;241m=\u001b[39m[\u001b[38;5;241m369\u001b[39m], pos\u001b[38;5;241m=\u001b[39m[\u001b[38;5;241m369\u001b[39m, \u001b[38;5;241m2\u001b[39m], train_mask\u001b[38;5;241m=\u001b[39m[\u001b[38;5;241m369\u001b[39m], val_mask\u001b[38;5;241m=\u001b[39m[\u001b[38;5;241m369\u001b[39m], test_mask\u001b[38;5;241m=\u001b[39m[\u001b[38;5;241m369\u001b[39m]), Data(x\u001b[38;5;241m=\u001b[39m[\u001b[38;5;241m358\u001b[39m, \u001b[38;5;241m2048\u001b[39m], edge_index\u001b[38;5;241m=\u001b[39m[\u001b[38;5;241m2\u001b[39m, \u001b[38;5;241m1636\u001b[39m], y\u001b[38;5;241m=\u001b[39m[\u001b[38;5;241m358\u001b[39m], pos\u001b[38;5;241m=\u001b[39m[\u001b[38;5;241m358\u001b[39m, \u001b[38;5;241m2\u001b[39m], train_mask\u001b[38;5;241m=\u001b[39m[\u001b[38;5;241m358\u001b[39m], val_mask\u001b[38;5;241m=\u001b[39m[\u001b[38;5;241m358\u001b[39m], test_mask\u001b[38;5;241m=\u001b[39m[\u001b[38;5;241m358\u001b[39m])], \u001b[38;5;124m'\u001b[39m\u001b[38;5;124mval\u001b[39m\u001b[38;5;124m'\u001b[39m: [Data(x\u001b[38;5;241m=\u001b[39m[\u001b[38;5;241m223\u001b[39m, \u001b[38;5;241m2048\u001b[39m], edge_index\u001b[38;5;241m=\u001b[39m[\u001b[38;5;241m2\u001b[39m, \u001b[38;5;241m1035\u001b[39m], y\u001b[38;5;241m=\u001b[39m[\u001b[38;5;241m223\u001b[39m], pos\u001b[38;5;241m=\u001b[39m[\u001b[38;5;241m223\u001b[39m, \u001b[38;5;241m2\u001b[39m], train_mask\u001b[38;5;241m=\u001b[39m[\u001b[38;5;241m223\u001b[39m], val_mask\u001b[38;5;241m=\u001b[39m[\u001b[38;5;241m223\u001b[39m], test_mask\u001b[38;5;241m=\u001b[39m[\u001b[38;5;241m223\u001b[39m]), Data(x\u001b[38;5;241m=\u001b[39m[\u001b[38;5;241m375\u001b[39m, \u001b[38;5;241m2048\u001b[39m], edge_index\u001b[38;5;241m=\u001b[39m[\u001b[38;5;241m2\u001b[39m, \u001b[38;5;241m1731\u001b[39m], y\u001b[38;5;241m=\u001b[39m[\u001b[38;5;241m375\u001b[39m], pos\u001b[38;5;241m=\u001b[39m[\u001b[38;5;241m375\u001b[39m, \u001b[38;5;241m2\u001b[39m], train_mask\u001b[38;5;241m=\u001b[39m[\u001b[38;5;241m375\u001b[39m], val_mask\u001b[38;5;241m=\u001b[39m[\u001b[38;5;241m375\u001b[39m], test_mask\u001b[38;5;241m=\u001b[39m[\u001b[38;5;241m375\u001b[39m])]}, \u001b[38;5;124m'\u001b[39m\u001b[38;5;124m350_A1a_ASAP_tumor_map\u001b[39m\u001b[38;5;124m'\u001b[39m:{\u001b[38;5;124m'\u001b[39m\u001b[38;5;124mtrain\u001b[39m\u001b[38;5;124m'\u001b[39m: [Data(x\u001b[38;5;241m=\u001b[39m[\u001b[38;5;241m2152\u001b[39m, \u001b[38;5;241m2048\u001b[39m], edge_index\u001b[38;5;241m=\u001b[39m[\u001b[38;5;241m2\u001b[39m, \u001b[38;5;241m10320\u001b[39m], y\u001b[38;5;241m=\u001b[39m[\u001b[38;5;241m2152\u001b[39m], pos\u001b[38;5;241m=\u001b[39m[\u001b[38;5;241m2152\u001b[39m, \u001b[38;5;241m2\u001b[39m], train_mask\u001b[38;5;241m=\u001b[39m[\u001b[38;5;241m2152\u001b[39m], val_mask\u001b[38;5;241m=\u001b[39m[\u001b[38;5;241m2152\u001b[39m], test_mask\u001b[38;5;241m=\u001b[39m[\u001b[38;5;241m2152\u001b[39m]), Data(x\u001b[38;5;241m=\u001b[39m[\u001b[38;5;241m2573\u001b[39m, \u001b[38;5;241m2048\u001b[39m], edge_index\u001b[38;5;241m=\u001b[39m[\u001b[38;5;241m2\u001b[39m, \u001b[38;5;241m12497\u001b[39m], y\u001b[38;5;241m=\u001b[39m[\u001b[38;5;241m2573\u001b[39m], pos\u001b[38;5;241m=\u001b[39m[\u001b[38;5;241m2573\u001b[39m, \u001b[38;5;241m2\u001b[39m], train_mask\u001b[38;5;241m=\u001b[39m[\u001b[38;5;241m2573\u001b[39m], val_mask\u001b[38;5;241m=\u001b[39m[\u001b[38;5;241m2573\u001b[39m], test_mask\u001b[38;5;241m=\u001b[39m[\u001b[38;5;241m2573\u001b[39m]), Data(x\u001b[38;5;241m=\u001b[39m[\u001b[38;5;241m5921\u001b[39m, \u001b[38;5;241m2048\u001b[39m], edge_index\u001b[38;5;241m=\u001b[39m[\u001b[38;5;241m2\u001b[39m, \u001b[38;5;241m28809\u001b[39m], y\u001b[38;5;241m=\u001b[39m[\u001b[38;5;241m5921\u001b[39m], pos\u001b[38;5;241m=\u001b[39m[\u001b[38;5;241m5921\u001b[39m, \u001b[38;5;241m2\u001b[39m], train_mask\u001b[38;5;241m=\u001b[39m[\u001b[38;5;241m5921\u001b[39m], val_mask\u001b[38;5;241m=\u001b[39m[\u001b[38;5;241m5921\u001b[39m], test_mask\u001b[38;5;241m=\u001b[39m[\u001b[38;5;241m5921\u001b[39m]), Data(x\u001b[38;5;241m=\u001b[39m[\u001b[38;5;241m2435\u001b[39m, \u001b[38;5;241m2048\u001b[39m], edge_index\u001b[38;5;241m=\u001b[39m[\u001b[38;5;241m2\u001b[39m, \u001b[38;5;241m11667\u001b[39m], y\u001b[38;5;241m=\u001b[39m[\u001b[38;5;241m2435\u001b[39m], pos\u001b[38;5;241m=\u001b[39m[\u001b[38;5;241m2435\u001b[39m, \u001b[38;5;241m2\u001b[39m], train_mask\u001b[38;5;241m=\u001b[39m[\u001b[38;5;241m2435\u001b[39m], val_mask\u001b[38;5;241m=\u001b[39m[\u001b[38;5;241m2435\u001b[39m], test_mask\u001b[38;5;241m=\u001b[39m[\u001b[38;5;241m2435\u001b[39m])], \u001b[38;5;124m'\u001b[39m\u001b[38;5;124mval\u001b[39m\u001b[38;5;124m'\u001b[39m: [Data(x\u001b[38;5;241m=\u001b[39m[\u001b[38;5;241m2947\u001b[39m, \u001b[38;5;241m2048\u001b[39m], edge_index\u001b[38;5;241m=\u001b[39m[\u001b[38;5;241m2\u001b[39m, \u001b[38;5;241m14323\u001b[39m], y\u001b[38;5;241m=\u001b[39m[\u001b[38;5;241m2947\u001b[39m], pos\u001b[38;5;241m=\u001b[39m[\u001b[38;5;241m2947\u001b[39m, \u001b[38;5;241m2\u001b[39m], train_mask\u001b[38;5;241m=\u001b[39m[\u001b[38;5;241m2947\u001b[39m], val_mask\u001b[38;5;241m=\u001b[39m[\u001b[38;5;241m2947\u001b[39m], test_mask\u001b[38;5;241m=\u001b[39m[\u001b[38;5;241m2947\u001b[39m])]}, \u001b[38;5;124m'\u001b[39m\u001b[38;5;124m350_A1b_ASAP_tumor_map\u001b[39m\u001b[38;5;124m'\u001b[39m:{\u001b[38;5;124m'\u001b[39m\u001b[38;5;124mtrain\u001b[39m\u001b[38;5;124m'\u001b[39m: [Data(x\u001b[38;5;241m=\u001b[39m[\u001b[38;5;241m6168\u001b[39m, \u001b[38;5;241m2048\u001b[39m], edge_index\u001b[38;5;241m=\u001b[39m[\u001b[38;5;241m2\u001b[39m, \u001b[38;5;241m30254\u001b[39m], y\u001b[38;5;241m=\u001b[39m[\u001b[38;5;241m6168\u001b[39m], pos\u001b[38;5;241m=\u001b[39m[\u001b[38;5;241m6168\u001b[39m, \u001b[38;5;241m2\u001b[39m], train_mask\u001b[38;5;241m=\u001b[39m[\u001b[38;5;241m6168\u001b[39m], val_mask\u001b[38;5;241m=\u001b[39m[\u001b[38;5;241m6168\u001b[39m], test_mask\u001b[38;5;241m=\u001b[39m[\u001b[38;5;241m6168\u001b[39m]), Data(x\u001b[38;5;241m=\u001b[39m[\u001b[38;5;241m6601\u001b[39m, \u001b[38;5;241m2048\u001b[39m], edge_index\u001b[38;5;241m=\u001b[39m[\u001b[38;5;241m2\u001b[39m, \u001b[38;5;241m32313\u001b[39m], y\u001b[38;5;241m=\u001b[39m[\u001b[38;5;241m6601\u001b[39m], pos\u001b[38;5;241m=\u001b[39m[\u001b[38;5;241m6601\u001b[39m, \u001b[38;5;241m2\u001b[39m], train_mask\u001b[38;5;241m=\u001b[39m[\u001b[38;5;241m6601\u001b[39m], val_mask\u001b[38;5;241m=\u001b[39m[\u001b[38;5;241m6601\u001b[39m], test_mask\u001b[38;5;241m=\u001b[39m[\u001b[38;5;241m6601\u001b[39m])], \u001b[38;5;124m'\u001b[39m\u001b[38;5;124mval\u001b[39m\u001b[38;5;124m'\u001b[39m: [Data(x\u001b[38;5;241m=\u001b[39m[\u001b[38;5;241m6628\u001b[39m, \u001b[38;5;241m2048\u001b[39m], edge_index\u001b[38;5;241m=\u001b[39m[\u001b[38;5;241m2\u001b[39m, \u001b[38;5;241m32542\u001b[39m], y\u001b[38;5;241m=\u001b[39m[\u001b[38;5;241m6628\u001b[39m], pos\u001b[38;5;241m=\u001b[39m[\u001b[38;5;241m6628\u001b[39m, \u001b[38;5;241m2\u001b[39m], train_mask\u001b[38;5;241m=\u001b[39m[\u001b[38;5;241m6628\u001b[39m], val_mask\u001b[38;5;241m=\u001b[39m[\u001b[38;5;241m6628\u001b[39m], test_mask\u001b[38;5;241m=\u001b[39m[\u001b[38;5;241m6628\u001b[39m])]}, \u001b[38;5;124m'\u001b[39m\u001b[38;5;124m350_A1c_ASAP_tumor_map\u001b[39m\u001b[38;5;124m'\u001b[39m:{\u001b[38;5;124m'\u001b[39m\u001b[38;5;124mtrain\u001b[39m\u001b[38;5;124m'\u001b[39m: [Data(x\u001b[38;5;241m=\u001b[39m[\u001b[38;5;241m6353\u001b[39m, \u001b[38;5;241m2048\u001b[39m], edge_index\u001b[38;5;241m=\u001b[39m[\u001b[38;5;241m2\u001b[39m, \u001b[38;5;241m31203\u001b[39m], y\u001b[38;5;241m=\u001b[39m[\u001b[38;5;241m6353\u001b[39m], pos\u001b[38;5;241m=\u001b[39m[\u001b[38;5;241m6353\u001b[39m, \u001b[38;5;241m2\u001b[39m], train_mask\u001b[38;5;241m=\u001b[39m[\u001b[38;5;241m6353\u001b[39m], val_mask\u001b[38;5;241m=\u001b[39m[\u001b[38;5;241m6353\u001b[39m], test_mask\u001b[38;5;241m=\u001b[39m[\u001b[38;5;241m6353\u001b[39m]), Data(x\u001b[38;5;241m=\u001b[39m[\u001b[38;5;241m6222\u001b[39m, \u001b[38;5;241m2048\u001b[39m], edge_index\u001b[38;5;241m=\u001b[39m[\u001b[38;5;241m2\u001b[39m, \u001b[38;5;241m30556\u001b[39m], y\u001b[38;5;241m=\u001b[39m[\u001b[38;5;241m6222\u001b[39m], pos\u001b[38;5;241m=\u001b[39m[\u001b[38;5;241m6222\u001b[39m, \u001b[38;5;241m2\u001b[39m], train_mask\u001b[38;5;241m=\u001b[39m[\u001b[38;5;241m6222\u001b[39m], val_mask\u001b[38;5;241m=\u001b[39m[\u001b[38;5;241m6222\u001b[39m], test_mask\u001b[38;5;241m=\u001b[39m[\u001b[38;5;241m6222\u001b[39m])], \u001b[38;5;124m'\u001b[39m\u001b[38;5;124mval\u001b[39m\u001b[38;5;124m'\u001b[39m: [Data(x\u001b[38;5;241m=\u001b[39m[\u001b[38;5;241m5921\u001b[39m, \u001b[38;5;241m2048\u001b[39m], edge_index\u001b[38;5;241m=\u001b[39m[\u001b[38;5;241m2\u001b[39m, \u001b[38;5;241m29101\u001b[39m], y\u001b[38;5;241m=\u001b[39m[\u001b[38;5;241m5921\u001b[39m], pos\u001b[38;5;241m=\u001b[39m[\u001b[38;5;241m5921\u001b[39m, \u001b[38;5;241m2\u001b[39m], train_mask\u001b[38;5;241m=\u001b[39m[\u001b[38;5;241m5921\u001b[39m], val_mask\u001b[38;5;241m=\u001b[39m[\u001b[38;5;241m5921\u001b[39m], test_mask\u001b[38;5;241m=\u001b[39m[\u001b[38;5;241m5921\u001b[39m])]}, \u001b[38;5;124m'\u001b[39m\u001b[38;5;124m350_A1d_ASAP_tumor_map\u001b[39m\u001b[38;5;124m'\u001b[39m:{\u001b[38;5;124m'\u001b[39m\u001b[38;5;124mtrain\u001b[39m\u001b[38;5;124m'\u001b[39m: [Data(x\u001b[38;5;241m=\u001b[39m[\u001b[38;5;241m5494\u001b[39m, \u001b[38;5;241m2048\u001b[39m], edge_index\u001b[38;5;241m=\u001b[39m[\u001b[38;5;241m2\u001b[39m, \u001b[38;5;241m26986\u001b[39m], y\u001b[38;5;241m=\u001b[39m[\u001b[38;5;241m5494\u001b[39m], pos\u001b[38;5;241m=\u001b[39m[\u001b[38;5;241m5494\u001b[39m, \u001b[38;5;241m2\u001b[39m], train_mask\u001b[38;5;241m=\u001b[39m[\u001b[38;5;241m5494\u001b[39m], val_mask\u001b[38;5;241m=\u001b[39m[\u001b[38;5;241m5494\u001b[39m], test_mask\u001b[38;5;241m=\u001b[39m[\u001b[38;5;241m5494\u001b[39m]), Data(x\u001b[38;5;241m=\u001b[39m[\u001b[38;5;241m5831\u001b[39m, \u001b[38;5;241m2048\u001b[39m], edge_index\u001b[38;5;241m=\u001b[39m[\u001b[38;5;241m2\u001b[39m, \u001b[38;5;241m28669\u001b[39m], y\u001b[38;5;241m=\u001b[39m[\u001b[38;5;241m5831\u001b[39m], pos\u001b[38;5;241m=\u001b[39m[\u001b[38;5;241m5831\u001b[39m, \u001b[38;5;241m2\u001b[39m], train_mask\u001b[38;5;241m=\u001b[39m[\u001b[38;5;241m5831\u001b[39m], val_mask\u001b[38;5;241m=\u001b[39m[\u001b[38;5;241m5831\u001b[39m], test_mask\u001b[38;5;241m=\u001b[39m[\u001b[38;5;241m5831\u001b[39m])], \u001b[38;5;124m'\u001b[39m\u001b[38;5;124mval\u001b[39m\u001b[38;5;124m'\u001b[39m: [Data(x\u001b[38;5;241m=\u001b[39m[\u001b[38;5;241m5516\u001b[39m, \u001b[38;5;241m2048\u001b[39m], edge_index\u001b[38;5;241m=\u001b[39m[\u001b[38;5;241m2\u001b[39m, \u001b[38;5;241m27058\u001b[39m], y\u001b[38;5;241m=\u001b[39m[\u001b[38;5;241m5516\u001b[39m], pos\u001b[38;5;241m=\u001b[39m[\u001b[38;5;241m5516\u001b[39m, \u001b[38;5;241m2\u001b[39m], train_mask\u001b[38;5;241m=\u001b[39m[\u001b[38;5;241m5516\u001b[39m], val_mask\u001b[38;5;241m=\u001b[39m[\u001b[38;5;241m5516\u001b[39m], test_mask\u001b[38;5;241m=\u001b[39m[\u001b[38;5;241m5516\u001b[39m])]}, \u001b[38;5;124m'\u001b[39m\u001b[38;5;124m350_A1e_ASAP_tumor_map\u001b[39m\u001b[38;5;124m'\u001b[39m:{\u001b[38;5;124m'\u001b[39m\u001b[38;5;124mtrain\u001b[39m\u001b[38;5;124m'\u001b[39m: [Data(x\u001b[38;5;241m=\u001b[39m[\u001b[38;5;241m4710\u001b[39m, \u001b[38;5;241m2048\u001b[39m], edge_index\u001b[38;5;241m=\u001b[39m[\u001b[38;5;241m2\u001b[39m, \u001b[38;5;241m23116\u001b[39m], y\u001b[38;5;241m=\u001b[39m[\u001b[38;5;241m4710\u001b[39m], pos\u001b[38;5;241m=\u001b[39m[\u001b[38;5;241m4710\u001b[39m, \u001b[38;5;241m2\u001b[39m], train_mask\u001b[38;5;241m=\u001b[39m[\u001b[38;5;241m4710\u001b[39m], val_mask\u001b[38;5;241m=\u001b[39m[\u001b[38;5;241m4710\u001b[39m], test_mask\u001b[38;5;241m=\u001b[39m[\u001b[38;5;241m4710\u001b[39m]), Data(x\u001b[38;5;241m=\u001b[39m[\u001b[38;5;241m5083\u001b[39m, \u001b[38;5;241m2048\u001b[39m], edge_index\u001b[38;5;241m=\u001b[39m[\u001b[38;5;241m2\u001b[39m, \u001b[38;5;241m24985\u001b[39m], y\u001b[38;5;241m=\u001b[39m[\u001b[38;5;241m5083\u001b[39m], pos\u001b[38;5;241m=\u001b[39m[\u001b[38;5;241m5083\u001b[39m, \u001b[38;5;241m2\u001b[39m], train_mask\u001b[38;5;241m=\u001b[39m[\u001b[38;5;241m5083\u001b[39m], val_mask\u001b[38;5;241m=\u001b[39m[\u001b[38;5;241m5083\u001b[39m], test_mask\u001b[38;5;241m=\u001b[39m[\u001b[38;5;241m5083\u001b[39m])], \u001b[38;5;124m'\u001b[39m\u001b[38;5;124mval\u001b[39m\u001b[38;5;124m'\u001b[39m: [Data(x\u001b[38;5;241m=\u001b[39m[\u001b[38;5;241m4639\u001b[39m, \u001b[38;5;241m2048\u001b[39m], edge_index\u001b[38;5;241m=\u001b[39m[\u001b[38;5;241m2\u001b[39m, \u001b[38;5;241m22765\u001b[39m], y\u001b[38;5;241m=\u001b[39m[\u001b[38;5;241m4639\u001b[39m], pos\u001b[38;5;241m=\u001b[39m[\u001b[38;5;241m4639\u001b[39m, \u001b[38;5;241m2\u001b[39m], train_mask\u001b[38;5;241m=\u001b[39m[\u001b[38;5;241m4639\u001b[39m], val_mask\u001b[38;5;241m=\u001b[39m[\u001b[38;5;241m4639\u001b[39m], test_mask\u001b[38;5;241m=\u001b[39m[\u001b[38;5;241m4639\u001b[39m])]}, \u001b[38;5;124m'\u001b[39m\u001b[38;5;124m351_A2b_ASAP_tumor_map\u001b[39m\u001b[38;5;124m'\u001b[39m:{\u001b[38;5;124m'\u001b[39m\u001b[38;5;124mtrain\u001b[39m\u001b[38;5;124m'\u001b[39m: [Data(x\u001b[38;5;241m=\u001b[39m[\u001b[38;5;241m1686\u001b[39m, \u001b[38;5;241m2048\u001b[39m], edge_index\u001b[38;5;241m=\u001b[39m[\u001b[38;5;241m2\u001b[39m, \u001b[38;5;241m8148\u001b[39m], y\u001b[38;5;241m=\u001b[39m[\u001b[38;5;241m1686\u001b[39m], pos\u001b[38;5;241m=\u001b[39m[\u001b[38;5;241m1686\u001b[39m, \u001b[38;5;241m2\u001b[39m], train_mask\u001b[38;5;241m=\u001b[39m[\u001b[38;5;241m1686\u001b[39m], val_mask\u001b[38;5;241m=\u001b[39m[\u001b[38;5;241m1686\u001b[39m], test_mask\u001b[38;5;241m=\u001b[39m[\u001b[38;5;241m1686\u001b[39m]), Data(x\u001b[38;5;241m=\u001b[39m[\u001b[38;5;241m1663\u001b[39m, \u001b[38;5;241m2048\u001b[39m], edge_index\u001b[38;5;241m=\u001b[39m[\u001b[38;5;241m2\u001b[39m, \u001b[38;5;241m8025\u001b[39m], y\u001b[38;5;241m=\u001b[39m[\u001b[38;5;241m1663\u001b[39m], pos\u001b[38;5;241m=\u001b[39m[\u001b[38;5;241m1663\u001b[39m, \u001b[38;5;241m2\u001b[39m], train_mask\u001b[38;5;241m=\u001b[39m[\u001b[38;5;241m1663\u001b[39m], val_mask\u001b[38;5;241m=\u001b[39m[\u001b[38;5;241m1663\u001b[39m], test_mask\u001b[38;5;241m=\u001b[39m[\u001b[38;5;241m1663\u001b[39m]), Data(x\u001b[38;5;241m=\u001b[39m[\u001b[38;5;241m1787\u001b[39m, \u001b[38;5;241m2048\u001b[39m], edge_index\u001b[38;5;241m=\u001b[39m[\u001b[38;5;241m2\u001b[39m, \u001b[38;5;241m8725\u001b[39m], y\u001b[38;5;241m=\u001b[39m[\u001b[38;5;241m1787\u001b[39m], pos\u001b[38;5;241m=\u001b[39m[\u001b[38;5;241m1787\u001b[39m, \u001b[38;5;241m2\u001b[39m], train_mask\u001b[38;5;241m=\u001b[39m[\u001b[38;5;241m1787\u001b[39m], val_mask\u001b[38;5;241m=\u001b[39m[\u001b[38;5;241m1787\u001b[39m], test_mask\u001b[38;5;241m=\u001b[39m[\u001b[38;5;241m1787\u001b[39m]), Data(x\u001b[38;5;241m=\u001b[39m[\u001b[38;5;241m1805\u001b[39m, \u001b[38;5;241m2048\u001b[39m], edge_index\u001b[38;5;241m=\u001b[39m[\u001b[38;5;241m2\u001b[39m, \u001b[38;5;241m8797\u001b[39m], y\u001b[38;5;241m=\u001b[39m[\u001b[38;5;241m1805\u001b[39m], pos\u001b[38;5;241m=\u001b[39m[\u001b[38;5;241m1805\u001b[39m, \u001b[38;5;241m2\u001b[39m], train_mask\u001b[38;5;241m=\u001b[39m[\u001b[38;5;241m1805\u001b[39m], val_mask\u001b[38;5;241m=\u001b[39m[\u001b[38;5;241m1805\u001b[39m], test_mask\u001b[38;5;241m=\u001b[39m[\u001b[38;5;241m1805\u001b[39m]), Data(x\u001b[38;5;241m=\u001b[39m[\u001b[38;5;241m1665\u001b[39m, \u001b[38;5;241m2048\u001b[39m], edge_index\u001b[38;5;241m=\u001b[39m[\u001b[38;5;241m2\u001b[39m, \u001b[38;5;241m8099\u001b[39m], y\u001b[38;5;241m=\u001b[39m[\u001b[38;5;241m1665\u001b[39m], pos\u001b[38;5;241m=\u001b[39m[\u001b[38;5;241m1665\u001b[39m, \u001b[38;5;241m2\u001b[39m], train_mask\u001b[38;5;241m=\u001b[39m[\u001b[38;5;241m1665\u001b[39m], val_mask\u001b[38;5;241m=\u001b[39m[\u001b[38;5;241m1665\u001b[39m], test_mask\u001b[38;5;241m=\u001b[39m[\u001b[38;5;241m1665\u001b[39m])], \u001b[38;5;124m'\u001b[39m\u001b[38;5;124mval\u001b[39m\u001b[38;5;124m'\u001b[39m: [Data(x\u001b[38;5;241m=\u001b[39m[\u001b[38;5;241m1672\u001b[39m, \u001b[38;5;241m2048\u001b[39m], edge_index\u001b[38;5;241m=\u001b[39m[\u001b[38;5;241m2\u001b[39m, \u001b[38;5;241m8158\u001b[39m], y\u001b[38;5;241m=\u001b[39m[\u001b[38;5;241m1672\u001b[39m], pos\u001b[38;5;241m=\u001b[39m[\u001b[38;5;241m1672\u001b[39m, \u001b[38;5;241m2\u001b[39m], train_mask\u001b[38;5;241m=\u001b[39m[\u001b[38;5;241m1672\u001b[39m], val_mask\u001b[38;5;241m=\u001b[39m[\u001b[38;5;241m1672\u001b[39m], test_mask\u001b[38;5;241m=\u001b[39m[\u001b[38;5;241m1672\u001b[39m])]}, \u001b[38;5;124m'\u001b[39m\u001b[38;5;124m352_A1d_ASAP_tumor_map\u001b[39m\u001b[38;5;124m'\u001b[39m:{\u001b[38;5;124m'\u001b[39m\u001b[38;5;124mtrain\u001b[39m\u001b[38;5;124m'\u001b[39m: [Data(x\u001b[38;5;241m=\u001b[39m[\u001b[38;5;241m3270\u001b[39m, \u001b[38;5;241m2048\u001b[39m], edge_index\u001b[38;5;241m=\u001b[39m[\u001b[38;5;241m2\u001b[39m, \u001b[38;5;241m16022\u001b[39m], y\u001b[38;5;241m=\u001b[39m[\u001b[38;5;241m3270\u001b[39m], pos\u001b[38;5;241m=\u001b[39m[\u001b[38;5;241m3270\u001b[39m, \u001b[38;5;241m2\u001b[39m], train_mask\u001b[38;5;241m=\u001b[39m[\u001b[38;5;241m3270\u001b[39m], val_mask\u001b[38;5;241m=\u001b[39m[\u001b[38;5;241m3270\u001b[39m], test_mask\u001b[38;5;241m=\u001b[39m[\u001b[38;5;241m3270\u001b[39m]), Data(x\u001b[38;5;241m=\u001b[39m[\u001b[38;5;241m3424\u001b[39m, \u001b[38;5;241m2048\u001b[39m], edge_index\u001b[38;5;241m=\u001b[39m[\u001b[38;5;241m2\u001b[39m, \u001b[38;5;241m16834\u001b[39m], y\u001b[38;5;241m=\u001b[39m[\u001b[38;5;241m3424\u001b[39m], pos\u001b[38;5;241m=\u001b[39m[\u001b[38;5;241m3424\u001b[39m, \u001b[38;5;241m2\u001b[39m], train_mask\u001b[38;5;241m=\u001b[39m[\u001b[38;5;241m3424\u001b[39m], val_mask\u001b[38;5;241m=\u001b[39m[\u001b[38;5;241m3424\u001b[39m], test_mask\u001b[38;5;241m=\u001b[39m[\u001b[38;5;241m3424\u001b[39m]), Data(x\u001b[38;5;241m=\u001b[39m[\u001b[38;5;241m3966\u001b[39m, \u001b[38;5;241m2048\u001b[39m], edge_index\u001b[38;5;241m=\u001b[39m[\u001b[38;5;241m2\u001b[39m, \u001b[38;5;241m19470\u001b[39m], y\u001b[38;5;241m=\u001b[39m[\u001b[38;5;241m3966\u001b[39m], pos\u001b[38;5;241m=\u001b[39m[\u001b[38;5;241m3966\u001b[39m, \u001b[38;5;241m2\u001b[39m], train_mask\u001b[38;5;241m=\u001b[39m[\u001b[38;5;241m3966\u001b[39m], val_mask\u001b[38;5;241m=\u001b[39m[\u001b[38;5;241m3966\u001b[39m], test_mask\u001b[38;5;241m=\u001b[39m[\u001b[38;5;241m3966\u001b[39m]), Data(x\u001b[38;5;241m=\u001b[39m[\u001b[38;5;241m3803\u001b[39m, \u001b[38;5;241m2048\u001b[39m], edge_index\u001b[38;5;241m=\u001b[39m[\u001b[38;5;241m2\u001b[39m, \u001b[38;5;241m18603\u001b[39m], y\u001b[38;5;241m=\u001b[39m[\u001b[38;5;241m3803\u001b[39m], pos\u001b[38;5;241m=\u001b[39m[\u001b[38;5;241m3803\u001b[39m, \u001b[38;5;241m2\u001b[39m], train_mask\u001b[38;5;241m=\u001b[39m[\u001b[38;5;241m3803\u001b[39m], val_mask\u001b[38;5;241m=\u001b[39m[\u001b[38;5;241m3803\u001b[39m], test_mask\u001b[38;5;241m=\u001b[39m[\u001b[38;5;241m3803\u001b[39m]), Data(x\u001b[38;5;241m=\u001b[39m[\u001b[38;5;241m3460\u001b[39m, \u001b[38;5;241m2048\u001b[39m], edge_index\u001b[38;5;241m=\u001b[39m[\u001b[38;5;241m2\u001b[39m, \u001b[38;5;241m16982\u001b[39m], y\u001b[38;5;241m=\u001b[39m[\u001b[38;5;241m3460\u001b[39m], pos\u001b[38;5;241m=\u001b[39m[\u001b[38;5;241m3460\u001b[39m, \u001b[38;5;241m2\u001b[39m], train_mask\u001b[38;5;241m=\u001b[39m[\u001b[38;5;241m3460\u001b[39m], val_mask\u001b[38;5;241m=\u001b[39m[\u001b[38;5;241m3460\u001b[39m], test_mask\u001b[38;5;241m=\u001b[39m[\u001b[38;5;241m3460\u001b[39m])], \u001b[38;5;124m'\u001b[39m\u001b[38;5;124mval\u001b[39m\u001b[38;5;124m'\u001b[39m: [Data(x\u001b[38;5;241m=\u001b[39m[\u001b[38;5;241m3325\u001b[39m, \u001b[38;5;241m2048\u001b[39m], edge_index\u001b[38;5;241m=\u001b[39m[\u001b[38;5;241m2\u001b[39m, \u001b[38;5;241m16313\u001b[39m], y\u001b[38;5;241m=\u001b[39m[\u001b[38;5;241m3325\u001b[39m], pos\u001b[38;5;241m=\u001b[39m[\u001b[38;5;241m3325\u001b[39m, \u001b[38;5;241m2\u001b[39m], train_mask\u001b[38;5;241m=\u001b[39m[\u001b[38;5;241m3325\u001b[39m], val_mask\u001b[38;5;241m=\u001b[39m[\u001b[38;5;241m3325\u001b[39m], test_mask\u001b[38;5;241m=\u001b[39m[\u001b[38;5;241m3325\u001b[39m])]}, \u001b[38;5;124m'\u001b[39m\u001b[38;5;124m352_A1e_ASAP_tumor_map\u001b[39m\u001b[38;5;124m'\u001b[39m:{\u001b[38;5;124m'\u001b[39m\u001b[38;5;124mtrain\u001b[39m\u001b[38;5;124m'\u001b[39m: [Data(x\u001b[38;5;241m=\u001b[39m[\u001b[38;5;241m3076\u001b[39m, \u001b[38;5;241m2048\u001b[39m], edge_index\u001b[38;5;241m=\u001b[39m[\u001b[38;5;241m2\u001b[39m, \u001b[38;5;241m15040\u001b[39m], y\u001b[38;5;241m=\u001b[39m[\u001b[38;5;241m3076\u001b[39m], pos\u001b[38;5;241m=\u001b[39m[\u001b[38;5;241m3076\u001b[39m, \u001b[38;5;241m2\u001b[39m], train_mask\u001b[38;5;241m=\u001b[39m[\u001b[38;5;241m3076\u001b[39m], val_mask\u001b[38;5;241m=\u001b[39m[\u001b[38;5;241m3076\u001b[39m], test_mask\u001b[38;5;241m=\u001b[39m[\u001b[38;5;241m3076\u001b[39m]), Data(x\u001b[38;5;241m=\u001b[39m[\u001b[38;5;241m3317\u001b[39m, \u001b[38;5;241m2048\u001b[39m], edge_index\u001b[38;5;241m=\u001b[39m[\u001b[38;5;241m2\u001b[39m, \u001b[38;5;241m16267\u001b[39m], y\u001b[38;5;241m=\u001b[39m[\u001b[38;5;241m3317\u001b[39m], pos\u001b[38;5;241m=\u001b[39m[\u001b[38;5;241m3317\u001b[39m, \u001b[38;5;241m2\u001b[39m], train_mask\u001b[38;5;241m=\u001b[39m[\u001b[38;5;241m3317\u001b[39m], val_mask\u001b[38;5;241m=\u001b[39m[\u001b[38;5;241m3317\u001b[39m], test_mask\u001b[38;5;241m=\u001b[39m[\u001b[38;5;241m3317\u001b[39m]), Data(x\u001b[38;5;241m=\u001b[39m[\u001b[38;5;241m3746\u001b[39m, \u001b[38;5;241m2048\u001b[39m], edge_index\u001b[38;5;241m=\u001b[39m[\u001b[38;5;241m2\u001b[39m, \u001b[38;5;241m18414\u001b[39m], y\u001b[38;5;241m=\u001b[39m[\u001b[38;5;241m3746\u001b[39m], pos\u001b[38;5;241m=\u001b[39m[\u001b[38;5;241m3746\u001b[39m, \u001b[38;5;241m2\u001b[39m], train_mask\u001b[38;5;241m=\u001b[39m[\u001b[38;5;241m3746\u001b[39m], val_mask\u001b[38;5;241m=\u001b[39m[\u001b[38;5;241m3746\u001b[39m], test_mask\u001b[38;5;241m=\u001b[39m[\u001b[38;5;241m3746\u001b[39m]), Data(x\u001b[38;5;241m=\u001b[39m[\u001b[38;5;241m3797\u001b[39m, \u001b[38;5;241m2048\u001b[39m], edge_index\u001b[38;5;241m=\u001b[39m[\u001b[38;5;241m2\u001b[39m, \u001b[38;5;241m18657\u001b[39m], y\u001b[38;5;241m=\u001b[39m[\u001b[38;5;241m3797\u001b[39m], pos\u001b[38;5;241m=\u001b[39m[\u001b[38;5;241m3797\u001b[39m, \u001b[38;5;241m2\u001b[39m], train_mask\u001b[38;5;241m=\u001b[39m[\u001b[38;5;241m3797\u001b[39m], val_mask\u001b[38;5;241m=\u001b[39m[\u001b[38;5;241m3797\u001b[39m], test_mask\u001b[38;5;241m=\u001b[39m[\u001b[38;5;241m3797\u001b[39m]), Data(x\u001b[38;5;241m=\u001b[39m[\u001b[38;5;241m3216\u001b[39m, \u001b[38;5;241m2048\u001b[39m], edge_index\u001b[38;5;241m=\u001b[39m[\u001b[38;5;241m2\u001b[39m, \u001b[38;5;241m15736\u001b[39m], y\u001b[38;5;241m=\u001b[39m[\u001b[38;5;241m3216\u001b[39m], pos\u001b[38;5;241m=\u001b[39m[\u001b[38;5;241m3216\u001b[39m, \u001b[38;5;241m2\u001b[39m], train_mask\u001b[38;5;241m=\u001b[39m[\u001b[38;5;241m3216\u001b[39m], val_mask\u001b[38;5;241m=\u001b[39m[\u001b[38;5;241m3216\u001b[39m], test_mask\u001b[38;5;241m=\u001b[39m[\u001b[38;5;241m3216\u001b[39m])], \u001b[38;5;124m'\u001b[39m\u001b[38;5;124mval\u001b[39m\u001b[38;5;124m'\u001b[39m: [Data(x\u001b[38;5;241m=\u001b[39m[\u001b[38;5;241m3533\u001b[39m, \u001b[38;5;241m2048\u001b[39m], edge_index\u001b[38;5;241m=\u001b[39m[\u001b[38;5;241m2\u001b[39m, \u001b[38;5;241m17355\u001b[39m], y\u001b[38;5;241m=\u001b[39m[\u001b[38;5;241m3533\u001b[39m], pos\u001b[38;5;241m=\u001b[39m[\u001b[38;5;241m3533\u001b[39m, \u001b[38;5;241m2\u001b[39m], train_mask\u001b[38;5;241m=\u001b[39m[\u001b[38;5;241m3533\u001b[39m], val_mask\u001b[38;5;241m=\u001b[39m[\u001b[38;5;241m3533\u001b[39m], test_mask\u001b[38;5;241m=\u001b[39m[\u001b[38;5;241m3533\u001b[39m])]}, \u001b[38;5;124m'\u001b[39m\u001b[38;5;124m352_A1g_ASAP_tumor_map\u001b[39m\u001b[38;5;124m'\u001b[39m:{\u001b[38;5;124m'\u001b[39m\u001b[38;5;124mtrain\u001b[39m\u001b[38;5;124m'\u001b[39m: [Data(x\u001b[38;5;241m=\u001b[39m[\u001b[38;5;241m2713\u001b[39m, \u001b[38;5;241m2048\u001b[39m], edge_index\u001b[38;5;241m=\u001b[39m[\u001b[38;5;241m2\u001b[39m, \u001b[38;5;241m13289\u001b[39m], y\u001b[38;5;241m=\u001b[39m[\u001b[38;5;241m2713\u001b[39m], pos\u001b[38;5;241m=\u001b[39m[\u001b[38;5;241m2713\u001b[39m, \u001b[38;5;241m2\u001b[39m], train_mask\u001b[38;5;241m=\u001b[39m[\u001b[38;5;241m2713\u001b[39m], val_mask\u001b[38;5;241m=\u001b[39m[\u001b[38;5;241m2713\u001b[39m], test_mask\u001b[38;5;241m=\u001b[39m[\u001b[38;5;241m2713\u001b[39m]), Data(x\u001b[38;5;241m=\u001b[39m[\u001b[38;5;241m2708\u001b[39m, \u001b[38;5;241m2048\u001b[39m], edge_index\u001b[38;5;241m=\u001b[39m[\u001b[38;5;241m2\u001b[39m, \u001b[38;5;241m13252\u001b[39m], y\u001b[38;5;241m=\u001b[39m[\u001b[38;5;241m2708\u001b[39m], pos\u001b[38;5;241m=\u001b[39m[\u001b[38;5;241m2708\u001b[39m, \u001b[38;5;241m2\u001b[39m], train_mask\u001b[38;5;241m=\u001b[39m[\u001b[38;5;241m2708\u001b[39m], val_mask\u001b[38;5;241m=\u001b[39m[\u001b[38;5;241m2708\u001b[39m], test_mask\u001b[38;5;241m=\u001b[39m[\u001b[38;5;241m2708\u001b[39m]), Data(x\u001b[38;5;241m=\u001b[39m[\u001b[38;5;241m2900\u001b[39m, \u001b[38;5;241m2048\u001b[39m], edge_index\u001b[38;5;241m=\u001b[39m[\u001b[38;5;241m2\u001b[39m, \u001b[38;5;241m14226\u001b[39m], y\u001b[38;5;241m=\u001b[39m[\u001b[38;5;241m2900\u001b[39m], pos\u001b[38;5;241m=\u001b[39m[\u001b[38;5;241m2900\u001b[39m, \u001b[38;5;241m2\u001b[39m], train_mask\u001b[38;5;241m=\u001b[39m[\u001b[38;5;241m2900\u001b[39m], val_mask\u001b[38;5;241m=\u001b[39m[\u001b[38;5;241m2900\u001b[39m], test_mask\u001b[38;5;241m=\u001b[39m[\u001b[38;5;241m2900\u001b[39m]), Data(x\u001b[38;5;241m=\u001b[39m[\u001b[38;5;241m2921\u001b[39m, \u001b[38;5;241m2048\u001b[39m], edge_index\u001b[38;5;241m=\u001b[39m[\u001b[38;5;241m2\u001b[39m, \u001b[38;5;241m14269\u001b[39m], y\u001b[38;5;241m=\u001b[39m[\u001b[38;5;241m2921\u001b[39m], pos\u001b[38;5;241m=\u001b[39m[\u001b[38;5;241m2921\u001b[39m, \u001b[38;5;241m2\u001b[39m], train_mask\u001b[38;5;241m=\u001b[39m[\u001b[38;5;241m2921\u001b[39m], val_mask\u001b[38;5;241m=\u001b[39m[\u001b[38;5;241m2921\u001b[39m], test_mask\u001b[38;5;241m=\u001b[39m[\u001b[38;5;241m2921\u001b[39m]), Data(x\u001b[38;5;241m=\u001b[39m[\u001b[38;5;241m2752\u001b[39m, \u001b[38;5;241m2048\u001b[39m], edge_index\u001b[38;5;241m=\u001b[39m[\u001b[38;5;241m2\u001b[39m, \u001b[38;5;241m13480\u001b[39m], y\u001b[38;5;241m=\u001b[39m[\u001b[38;5;241m2752\u001b[39m], pos\u001b[38;5;241m=\u001b[39m[\u001b[38;5;241m2752\u001b[39m, \u001b[38;5;241m2\u001b[39m], train_mask\u001b[38;5;241m=\u001b[39m[\u001b[38;5;241m2752\u001b[39m], val_mask\u001b[38;5;241m=\u001b[39m[\u001b[38;5;241m2752\u001b[39m], test_mask\u001b[38;5;241m=\u001b[39m[\u001b[38;5;241m2752\u001b[39m])], \u001b[38;5;124m'\u001b[39m\u001b[38;5;124mval\u001b[39m\u001b[38;5;124m'\u001b[39m: [Data(x\u001b[38;5;241m=\u001b[39m[\u001b[38;5;241m3023\u001b[39m, \u001b[38;5;241m2048\u001b[39m], edge_index\u001b[38;5;241m=\u001b[39m[\u001b[38;5;241m2\u001b[39m, \u001b[38;5;241m14817\u001b[39m], y\u001b[38;5;241m=\u001b[39m[\u001b[38;5;241m3023\u001b[39m], pos\u001b[38;5;241m=\u001b[39m[\u001b[38;5;241m3023\u001b[39m, \u001b[38;5;241m2\u001b[39m], train_mask\u001b[38;5;241m=\u001b[39m[\u001b[38;5;241m3023\u001b[39m], val_mask\u001b[38;5;241m=\u001b[39m[\u001b[38;5;241m3023\u001b[39m], test_mask\u001b[38;5;241m=\u001b[39m[\u001b[38;5;241m3023\u001b[39m])]}, \u001b[38;5;124m'\u001b[39m\u001b[38;5;124m352_A1h_ASAP_tumor_map\u001b[39m\u001b[38;5;124m'\u001b[39m:{\u001b[38;5;124m'\u001b[39m\u001b[38;5;124mtrain\u001b[39m\u001b[38;5;124m'\u001b[39m: [Data(x\u001b[38;5;241m=\u001b[39m[\u001b[38;5;241m2578\u001b[39m, \u001b[38;5;241m2048\u001b[39m], edge_index\u001b[38;5;241m=\u001b[39m[\u001b[38;5;241m2\u001b[39m, \u001b[38;5;241m12626\u001b[39m], y\u001b[38;5;241m=\u001b[39m[\u001b[38;5;241m2578\u001b[39m], pos\u001b[38;5;241m=\u001b[39m[\u001b[38;5;241m2578\u001b[39m, \u001b[38;5;241m2\u001b[39m], train_mask\u001b[38;5;241m=\u001b[39m[\u001b[38;5;241m2578\u001b[39m], val_mask\u001b[38;5;241m=\u001b[39m[\u001b[38;5;241m2578\u001b[39m], test_mask\u001b[38;5;241m=\u001b[39m[\u001b[38;5;241m2578\u001b[39m]), Data(x\u001b[38;5;241m=\u001b[39m[\u001b[38;5;241m2365\u001b[39m, \u001b[38;5;241m2048\u001b[39m], edge_index\u001b[38;5;241m=\u001b[39m[\u001b[38;5;241m2\u001b[39m, \u001b[38;5;241m11465\u001b[39m], y\u001b[38;5;241m=\u001b[39m[\u001b[38;5;241m2365\u001b[39m], pos\u001b[38;5;241m=\u001b[39m[\u001b[38;5;241m2365\u001b[39m, \u001b[38;5;241m2\u001b[39m], train_mask\u001b[38;5;241m=\u001b[39m[\u001b[38;5;241m2365\u001b[39m], val_mask\u001b[38;5;241m=\u001b[39m[\u001b[38;5;241m2365\u001b[39m], test_mask\u001b[38;5;241m=\u001b[39m[\u001b[38;5;241m2365\u001b[39m]), Data(x\u001b[38;5;241m=\u001b[39m[\u001b[38;5;241m2314\u001b[39m, \u001b[38;5;241m2048\u001b[39m], edge_index\u001b[38;5;241m=\u001b[39m[\u001b[38;5;241m2\u001b[39m, \u001b[38;5;241m11216\u001b[39m], y\u001b[38;5;241m=\u001b[39m[\u001b[38;5;241m2314\u001b[39m], pos\u001b[38;5;241m=\u001b[39m[\u001b[38;5;241m2314\u001b[39m, \u001b[38;5;241m2\u001b[39m], train_mask\u001b[38;5;241m=\u001b[39m[\u001b[38;5;241m2314\u001b[39m], val_mask\u001b[38;5;241m=\u001b[39m[\u001b[38;5;241m2314\u001b[39m], test_mask\u001b[38;5;241m=\u001b[39m[\u001b[38;5;241m2314\u001b[39m]), Data(x\u001b[38;5;241m=\u001b[39m[\u001b[38;5;241m2572\u001b[39m, \u001b[38;5;241m2048\u001b[39m], edge_index\u001b[38;5;241m=\u001b[39m[\u001b[38;5;241m2\u001b[39m, \u001b[38;5;241m12592\u001b[39m], y\u001b[38;5;241m=\u001b[39m[\u001b[38;5;241m2572\u001b[39m], pos\u001b[38;5;241m=\u001b[39m[\u001b[38;5;241m2572\u001b[39m, \u001b[38;5;241m2\u001b[39m], train_mask\u001b[38;5;241m=\u001b[39m[\u001b[38;5;241m2572\u001b[39m], val_mask\u001b[38;5;241m=\u001b[39m[\u001b[38;5;241m2572\u001b[39m], test_mask\u001b[38;5;241m=\u001b[39m[\u001b[38;5;241m2572\u001b[39m]), Data(x\u001b[38;5;241m=\u001b[39m[\u001b[38;5;241m2198\u001b[39m, \u001b[38;5;241m2048\u001b[39m], edge_index\u001b[38;5;241m=\u001b[39m[\u001b[38;5;241m2\u001b[39m, \u001b[38;5;241m10612\u001b[39m], y\u001b[38;5;241m=\u001b[39m[\u001b[38;5;241m2198\u001b[39m], pos\u001b[38;5;241m=\u001b[39m[\u001b[38;5;241m2198\u001b[39m, \u001b[38;5;241m2\u001b[39m], train_mask\u001b[38;5;241m=\u001b[39m[\u001b[38;5;241m2198\u001b[39m], val_mask\u001b[38;5;241m=\u001b[39m[\u001b[38;5;241m2198\u001b[39m], test_mask\u001b[38;5;241m=\u001b[39m[\u001b[38;5;241m2198\u001b[39m])], \u001b[38;5;124m'\u001b[39m\u001b[38;5;124mval\u001b[39m\u001b[38;5;124m'\u001b[39m: [Data(x\u001b[38;5;241m=\u001b[39m[\u001b[38;5;241m2780\u001b[39m, \u001b[38;5;241m2048\u001b[39m], edge_index\u001b[38;5;241m=\u001b[39m[\u001b[38;5;241m2\u001b[39m, \u001b[38;5;241m13618\u001b[39m], y\u001b[38;5;241m=\u001b[39m[\u001b[38;5;241m2780\u001b[39m], pos\u001b[38;5;241m=\u001b[39m[\u001b[38;5;241m2780\u001b[39m, \u001b[38;5;241m2\u001b[39m], train_mask\u001b[38;5;241m=\u001b[39m[\u001b[38;5;241m2780\u001b[39m], val_mask\u001b[38;5;241m=\u001b[39m[\u001b[38;5;241m2780\u001b[39m], test_mask\u001b[38;5;241m=\u001b[39m[\u001b[38;5;241m2780\u001b[39m])]}, \u001b[38;5;124m'\u001b[39m\u001b[38;5;124m352_A1i_ASAP_tumor_map\u001b[39m\u001b[38;5;124m'\u001b[39m:{\u001b[38;5;124m'\u001b[39m\u001b[38;5;124mtrain\u001b[39m\u001b[38;5;124m'\u001b[39m: [Data(x\u001b[38;5;241m=\u001b[39m[\u001b[38;5;241m2440\u001b[39m, \u001b[38;5;241m2048\u001b[39m], edge_index\u001b[38;5;241m=\u001b[39m[\u001b[38;5;241m2\u001b[39m, \u001b[38;5;241m11852\u001b[39m], y\u001b[38;5;241m=\u001b[39m[\u001b[38;5;241m2440\u001b[39m], pos\u001b[38;5;241m=\u001b[39m[\u001b[38;5;241m2440\u001b[39m, \u001b[38;5;241m2\u001b[39m], train_mask\u001b[38;5;241m=\u001b[39m[\u001b[38;5;241m2440\u001b[39m], val_mask\u001b[38;5;241m=\u001b[39m[\u001b[38;5;241m2440\u001b[39m], test_mask\u001b[38;5;241m=\u001b[39m[\u001b[38;5;241m2440\u001b[39m]), Data(x\u001b[38;5;241m=\u001b[39m[\u001b[38;5;241m2460\u001b[39m, \u001b[38;5;241m2048\u001b[39m], edge_index\u001b[38;5;241m=\u001b[39m[\u001b[38;5;241m2\u001b[39m, \u001b[38;5;241m12036\u001b[39m], y\u001b[38;5;241m=\u001b[39m[\u001b[38;5;241m2460\u001b[39m], pos\u001b[38;5;241m=\u001b[39m[\u001b[38;5;241m2460\u001b[39m, \u001b[38;5;241m2\u001b[39m], train_mask\u001b[38;5;241m=\u001b[39m[\u001b[38;5;241m2460\u001b[39m], val_mask\u001b[38;5;241m=\u001b[39m[\u001b[38;5;241m2460\u001b[39m], test_mask\u001b[38;5;241m=\u001b[39m[\u001b[38;5;241m2460\u001b[39m]), Data(x\u001b[38;5;241m=\u001b[39m[\u001b[38;5;241m2678\u001b[39m, \u001b[38;5;241m2048\u001b[39m], edge_index\u001b[38;5;241m=\u001b[39m[\u001b[38;5;241m2\u001b[39m, \u001b[38;5;241m13116\u001b[39m], y\u001b[38;5;241m=\u001b[39m[\u001b[38;5;241m2678\u001b[39m], pos\u001b[38;5;241m=\u001b[39m[\u001b[38;5;241m2678\u001b[39m, \u001b[38;5;241m2\u001b[39m], train_mask\u001b[38;5;241m=\u001b[39m[\u001b[38;5;241m2678\u001b[39m], val_mask\u001b[38;5;241m=\u001b[39m[\u001b[38;5;241m2678\u001b[39m], test_mask\u001b[38;5;241m=\u001b[39m[\u001b[38;5;241m2678\u001b[39m]), Data(x\u001b[38;5;241m=\u001b[39m[\u001b[38;5;241m2647\u001b[39m, \u001b[38;5;241m2048\u001b[39m], edge_index\u001b[38;5;241m=\u001b[39m[\u001b[38;5;241m2\u001b[39m, \u001b[38;5;241m12957\u001b[39m], y\u001b[38;5;241m=\u001b[39m[\u001b[38;5;241m2647\u001b[39m], pos\u001b[38;5;241m=\u001b[39m[\u001b[38;5;241m2647\u001b[39m, \u001b[38;5;241m2\u001b[39m], train_mask\u001b[38;5;241m=\u001b[39m[\u001b[38;5;241m2647\u001b[39m], val_mask\u001b[38;5;241m=\u001b[39m[\u001b[38;5;241m2647\u001b[39m], test_mask\u001b[38;5;241m=\u001b[39m[\u001b[38;5;241m2647\u001b[39m]), Data(x\u001b[38;5;241m=\u001b[39m[\u001b[38;5;241m2462\u001b[39m, \u001b[38;5;241m2048\u001b[39m], edge_index\u001b[38;5;241m=\u001b[39m[\u001b[38;5;241m2\u001b[39m, \u001b[38;5;241m12048\u001b[39m], y\u001b[38;5;241m=\u001b[39m[\u001b[38;5;241m2462\u001b[39m], pos\u001b[38;5;241m=\u001b[39m[\u001b[38;5;241m2462\u001b[39m, \u001b[38;5;241m2\u001b[39m], train_mask\u001b[38;5;241m=\u001b[39m[\u001b[38;5;241m2462\u001b[39m], val_mask\u001b[38;5;241m=\u001b[39m[\u001b[38;5;241m2462\u001b[39m], test_mask\u001b[38;5;241m=\u001b[39m[\u001b[38;5;241m2462\u001b[39m])], \u001b[38;5;124m'\u001b[39m\u001b[38;5;124mval\u001b[39m\u001b[38;5;124m'\u001b[39m: [Data(x\u001b[38;5;241m=\u001b[39m[\u001b[38;5;241m1890\u001b[39m, \u001b[38;5;241m2048\u001b[39m], edge_index\u001b[38;5;241m=\u001b[39m[\u001b[38;5;241m2\u001b[39m, \u001b[38;5;241m9174\u001b[39m], y\u001b[38;5;241m=\u001b[39m[\u001b[38;5;241m1890\u001b[39m], pos\u001b[38;5;241m=\u001b[39m[\u001b[38;5;241m1890\u001b[39m, \u001b[38;5;241m2\u001b[39m], train_mask\u001b[38;5;241m=\u001b[39m[\u001b[38;5;241m1890\u001b[39m], val_mask\u001b[38;5;241m=\u001b[39m[\u001b[38;5;241m1890\u001b[39m], test_mask\u001b[38;5;241m=\u001b[39m[\u001b[38;5;241m1890\u001b[39m])]}, \u001b[38;5;124m'\u001b[39m\u001b[38;5;124m353_A2b_ASAP_tumor_map\u001b[39m\u001b[38;5;124m'\u001b[39m:{\u001b[38;5;124m'\u001b[39m\u001b[38;5;124mtrain\u001b[39m\u001b[38;5;124m'\u001b[39m: [Data(x\u001b[38;5;241m=\u001b[39m[\u001b[38;5;241m4220\u001b[39m, \u001b[38;5;241m2048\u001b[39m], edge_index\u001b[38;5;241m=\u001b[39m[\u001b[38;5;241m2\u001b[39m, \u001b[38;5;241m20574\u001b[39m], y\u001b[38;5;241m=\u001b[39m[\u001b[38;5;241m4220\u001b[39m], pos\u001b[38;5;241m=\u001b[39m[\u001b[38;5;241m4220\u001b[39m, \u001b[38;5;241m2\u001b[39m], train_mask\u001b[38;5;241m=\u001b[39m[\u001b[38;5;241m4220\u001b[39m], val_mask\u001b[38;5;241m=\u001b[39m[\u001b[38;5;241m4220\u001b[39m], test_mask\u001b[38;5;241m=\u001b[39m[\u001b[38;5;241m4220\u001b[39m]), Data(x\u001b[38;5;241m=\u001b[39m[\u001b[38;5;241m4557\u001b[39m, \u001b[38;5;241m2048\u001b[39m], edge_index\u001b[38;5;241m=\u001b[39m[\u001b[38;5;241m2\u001b[39m, \u001b[38;5;241m22333\u001b[39m], y\u001b[38;5;241m=\u001b[39m[\u001b[38;5;241m4557\u001b[39m], pos\u001b[38;5;241m=\u001b[39m[\u001b[38;5;241m4557\u001b[39m, \u001b[38;5;241m2\u001b[39m], train_mask\u001b[38;5;241m=\u001b[39m[\u001b[38;5;241m4557\u001b[39m], val_mask\u001b[38;5;241m=\u001b[39m[\u001b[38;5;241m4557\u001b[39m], test_mask\u001b[38;5;241m=\u001b[39m[\u001b[38;5;241m4557\u001b[39m]), Data(x\u001b[38;5;241m=\u001b[39m[\u001b[38;5;241m4607\u001b[39m, \u001b[38;5;241m2048\u001b[39m], edge_index\u001b[38;5;241m=\u001b[39m[\u001b[38;5;241m2\u001b[39m, \u001b[38;5;241m22561\u001b[39m], y\u001b[38;5;241m=\u001b[39m[\u001b[38;5;241m4607\u001b[39m], pos\u001b[38;5;241m=\u001b[39m[\u001b[38;5;241m4607\u001b[39m, \u001b[38;5;241m2\u001b[39m], train_mask\u001b[38;5;241m=\u001b[39m[\u001b[38;5;241m4607\u001b[39m], val_mask\u001b[38;5;241m=\u001b[39m[\u001b[38;5;241m4607\u001b[39m], test_mask\u001b[38;5;241m=\u001b[39m[\u001b[38;5;241m4607\u001b[39m])], \u001b[38;5;124m'\u001b[39m\u001b[38;5;124mval\u001b[39m\u001b[38;5;124m'\u001b[39m: [Data(x\u001b[38;5;241m=\u001b[39m[\u001b[38;5;241m4472\u001b[39m, \u001b[38;5;241m2048\u001b[39m], edge_index\u001b[38;5;241m=\u001b[39m[\u001b[38;5;241m2\u001b[39m, \u001b[38;5;241m21880\u001b[39m], y\u001b[38;5;241m=\u001b[39m[\u001b[38;5;241m4472\u001b[39m], pos\u001b[38;5;241m=\u001b[39m[\u001b[38;5;241m4472\u001b[39m, \u001b[38;5;241m2\u001b[39m], train_mask\u001b[38;5;241m=\u001b[39m[\u001b[38;5;241m4472\u001b[39m], val_mask\u001b[38;5;241m=\u001b[39m[\u001b[38;5;241m4472\u001b[39m], test_mask\u001b[38;5;241m=\u001b[39m[\u001b[38;5;241m4472\u001b[39m])]}, \u001b[38;5;124m'\u001b[39m\u001b[38;5;124m354_A1b_ASAP_tumor_map\u001b[39m\u001b[38;5;124m'\u001b[39m:{\u001b[38;5;124m'\u001b[39m\u001b[38;5;124mtrain\u001b[39m\u001b[38;5;124m'\u001b[39m: [Data(x\u001b[38;5;241m=\u001b[39m[\u001b[38;5;241m13521\u001b[39m, \u001b[38;5;241m2048\u001b[39m], edge_index\u001b[38;5;241m=\u001b[39m[\u001b[38;5;241m2\u001b[39m, \u001b[38;5;241m65591\u001b[39m], y\u001b[38;5;241m=\u001b[39m[\u001b[38;5;241m13521\u001b[39m], pos\u001b[38;5;241m=\u001b[39m[\u001b[38;5;241m13521\u001b[39m, \u001b[38;5;241m2\u001b[39m], train_mask\u001b[38;5;241m=\u001b[39m[\u001b[38;5;241m13521\u001b[39m], val_mask\u001b[38;5;241m=\u001b[39m[\u001b[38;5;241m13521\u001b[39m], test_mask\u001b[38;5;241m=\u001b[39m[\u001b[38;5;241m13521\u001b[39m])], \u001b[38;5;124m'\u001b[39m\u001b[38;5;124mval\u001b[39m\u001b[38;5;124m'\u001b[39m: []}, \u001b[38;5;124m'\u001b[39m\u001b[38;5;124m354_A1c_ASAP_tumor_map\u001b[39m\u001b[38;5;124m'\u001b[39m:{\u001b[38;5;124m'\u001b[39m\u001b[38;5;124mtrain\u001b[39m\u001b[38;5;124m'\u001b[39m: [Data(x\u001b[38;5;241m=\u001b[39m[\u001b[38;5;241m15681\u001b[39m, \u001b[38;5;241m2048\u001b[39m], edge_index\u001b[38;5;241m=\u001b[39m[\u001b[38;5;241m2\u001b[39m, \u001b[38;5;241m76283\u001b[39m], y\u001b[38;5;241m=\u001b[39m[\u001b[38;5;241m15681\u001b[39m], pos\u001b[38;5;241m=\u001b[39m[\u001b[38;5;241m15681\u001b[39m, \u001b[38;5;241m2\u001b[39m], train_mask\u001b[38;5;241m=\u001b[39m[\u001b[38;5;241m15681\u001b[39m], val_mask\u001b[38;5;241m=\u001b[39m[\u001b[38;5;241m15681\u001b[39m], test_mask\u001b[38;5;241m=\u001b[39m[\u001b[38;5;241m15681\u001b[39m])], \u001b[38;5;124m'\u001b[39m\u001b[38;5;124mval\u001b[39m\u001b[38;5;124m'\u001b[39m: []}, \u001b[38;5;124m'\u001b[39m\u001b[38;5;124m354_A1d_ASAP_tumor_map\u001b[39m\u001b[38;5;124m'\u001b[39m:{\u001b[38;5;124m'\u001b[39m\u001b[38;5;124mtrain\u001b[39m\u001b[38;5;124m'\u001b[39m: [Data(x\u001b[38;5;241m=\u001b[39m[\u001b[38;5;241m18198\u001b[39m, \u001b[38;5;241m2048\u001b[39m], edge_index\u001b[38;5;241m=\u001b[39m[\u001b[38;5;241m2\u001b[39m, \u001b[38;5;241m89710\u001b[39m], y\u001b[38;5;241m=\u001b[39m[\u001b[38;5;241m18198\u001b[39m], pos\u001b[38;5;241m=\u001b[39m[\u001b[38;5;241m18198\u001b[39m, \u001b[38;5;241m2\u001b[39m], train_mask\u001b[38;5;241m=\u001b[39m[\u001b[38;5;241m18198\u001b[39m], val_mask\u001b[38;5;241m=\u001b[39m[\u001b[38;5;241m18198\u001b[39m], test_mask\u001b[38;5;241m=\u001b[39m[\u001b[38;5;241m18198\u001b[39m])], \u001b[38;5;124m'\u001b[39m\u001b[38;5;124mval\u001b[39m\u001b[38;5;124m'\u001b[39m: []}, \u001b[38;5;124m'\u001b[39m\u001b[38;5;124m354_A3a_ASAP_tumor_map\u001b[39m\u001b[38;5;124m'\u001b[39m:{\u001b[38;5;124m'\u001b[39m\u001b[38;5;124mtrain\u001b[39m\u001b[38;5;124m'\u001b[39m: [Data(x\u001b[38;5;241m=\u001b[39m[\u001b[38;5;241m459\u001b[39m, \u001b[38;5;241m2048\u001b[39m], edge_index\u001b[38;5;241m=\u001b[39m[\u001b[38;5;241m2\u001b[39m, \u001b[38;5;241m2023\u001b[39m], y\u001b[38;5;241m=\u001b[39m[\u001b[38;5;241m459\u001b[39m], pos\u001b[38;5;241m=\u001b[39m[\u001b[38;5;241m459\u001b[39m, \u001b[38;5;241m2\u001b[39m], train_mask\u001b[38;5;241m=\u001b[39m[\u001b[38;5;241m459\u001b[39m], val_mask\u001b[38;5;241m=\u001b[39m[\u001b[38;5;241m459\u001b[39m], test_mask\u001b[38;5;241m=\u001b[39m[\u001b[38;5;241m459\u001b[39m]), Data(x\u001b[38;5;241m=\u001b[39m[\u001b[38;5;241m8477\u001b[39m, \u001b[38;5;241m2048\u001b[39m], edge_index\u001b[38;5;241m=\u001b[39m[\u001b[38;5;241m2\u001b[39m, \u001b[38;5;241m40317\u001b[39m], y\u001b[38;5;241m=\u001b[39m[\u001b[38;5;241m8477\u001b[39m], pos\u001b[38;5;241m=\u001b[39m[\u001b[38;5;241m8477\u001b[39m, \u001b[38;5;241m2\u001b[39m], train_mask\u001b[38;5;241m=\u001b[39m[\u001b[38;5;241m8477\u001b[39m], val_mask\u001b[38;5;241m=\u001b[39m[\u001b[38;5;241m8477\u001b[39m], test_mask\u001b[38;5;241m=\u001b[39m[\u001b[38;5;241m8477\u001b[39m]), Data(x\u001b[38;5;241m=\u001b[39m[\u001b[38;5;241m2248\u001b[39m, \u001b[38;5;241m2048\u001b[39m], edge_index\u001b[38;5;241m=\u001b[39m[\u001b[38;5;241m2\u001b[39m, \u001b[38;5;241m10640\u001b[39m], y\u001b[38;5;241m=\u001b[39m[\u001b[38;5;241m2248\u001b[39m], pos\u001b[38;5;241m=\u001b[39m[\u001b[38;5;241m2248\u001b[39m, \u001b[38;5;241m2\u001b[39m], train_mask\u001b[38;5;241m=\u001b[39m[\u001b[38;5;241m2248\u001b[39m], val_mask\u001b[38;5;241m=\u001b[39m[\u001b[38;5;241m2248\u001b[39m], test_mask\u001b[38;5;241m=\u001b[39m[\u001b[38;5;241m2248\u001b[39m])], \u001b[38;5;124m'\u001b[39m\u001b[38;5;124mval\u001b[39m\u001b[38;5;124m'\u001b[39m: [Data(x\u001b[38;5;241m=\u001b[39m[\u001b[38;5;241m2063\u001b[39m, \u001b[38;5;241m2048\u001b[39m], edge_index\u001b[38;5;241m=\u001b[39m[\u001b[38;5;241m2\u001b[39m, \u001b[38;5;241m9639\u001b[39m], y\u001b[38;5;241m=\u001b[39m[\u001b[38;5;241m2063\u001b[39m], pos\u001b[38;5;241m=\u001b[39m[\u001b[38;5;241m2063\u001b[39m, \u001b[38;5;241m2\u001b[39m], train_mask\u001b[38;5;241m=\u001b[39m[\u001b[38;5;241m2063\u001b[39m], val_mask\u001b[38;5;241m=\u001b[39m[\u001b[38;5;241m2063\u001b[39m], test_mask\u001b[38;5;241m=\u001b[39m[\u001b[38;5;241m2063\u001b[39m])]}, \u001b[38;5;124m'\u001b[39m\u001b[38;5;124m354_A3b_ASAP_tumor_map\u001b[39m\u001b[38;5;124m'\u001b[39m:{\u001b[38;5;124m'\u001b[39m\u001b[38;5;124mtrain\u001b[39m\u001b[38;5;124m'\u001b[39m: [Data(x\u001b[38;5;241m=\u001b[39m[\u001b[38;5;241m11270\u001b[39m, \u001b[38;5;241m2048\u001b[39m], edge_index\u001b[38;5;241m=\u001b[39m[\u001b[38;5;241m2\u001b[39m, \u001b[38;5;241m54620\u001b[39m], y\u001b[38;5;241m=\u001b[39m[\u001b[38;5;241m11270\u001b[39m], pos\u001b[38;5;241m=\u001b[39m[\u001b[38;5;241m11270\u001b[39m, \u001b[38;5;241m2\u001b[39m], train_mask\u001b[38;5;241m=\u001b[39m[\u001b[38;5;241m11270\u001b[39m], val_mask\u001b[38;5;241m=\u001b[39m[\u001b[38;5;241m11270\u001b[39m], test_mask\u001b[38;5;241m=\u001b[39m[\u001b[38;5;241m11270\u001b[39m])], \u001b[38;5;124m'\u001b[39m\u001b[38;5;124mval\u001b[39m\u001b[38;5;124m'\u001b[39m: [Data(x\u001b[38;5;241m=\u001b[39m[\u001b[38;5;241m10642\u001b[39m, \u001b[38;5;241m2048\u001b[39m], edge_index\u001b[38;5;241m=\u001b[39m[\u001b[38;5;241m2\u001b[39m, \u001b[38;5;241m51608\u001b[39m], y\u001b[38;5;241m=\u001b[39m[\u001b[38;5;241m10642\u001b[39m], pos\u001b[38;5;241m=\u001b[39m[\u001b[38;5;241m10642\u001b[39m, \u001b[38;5;241m2\u001b[39m], train_mask\u001b[38;5;241m=\u001b[39m[\u001b[38;5;241m10642\u001b[39m], val_mask\u001b[38;5;241m=\u001b[39m[\u001b[38;5;241m10642\u001b[39m], test_mask\u001b[38;5;241m=\u001b[39m[\u001b[38;5;241m10642\u001b[39m])]}, \u001b[38;5;124m'\u001b[39m\u001b[38;5;124m354_A3c_ASAP_tumor_map\u001b[39m\u001b[38;5;124m'\u001b[39m:{\u001b[38;5;124m'\u001b[39m\u001b[38;5;124mtrain\u001b[39m\u001b[38;5;124m'\u001b[39m: [Data(x\u001b[38;5;241m=\u001b[39m[\u001b[38;5;241m12102\u001b[39m, \u001b[38;5;241m2048\u001b[39m], edge_index\u001b[38;5;241m=\u001b[39m[\u001b[38;5;241m2\u001b[39m, \u001b[38;5;241m58352\u001b[39m], y\u001b[38;5;241m=\u001b[39m[\u001b[38;5;241m12102\u001b[39m], pos\u001b[38;5;241m=\u001b[39m[\u001b[38;5;241m12102\u001b[39m, \u001b[38;5;241m2\u001b[39m], train_mask\u001b[38;5;241m=\u001b[39m[\u001b[38;5;241m12102\u001b[39m], val_mask\u001b[38;5;241m=\u001b[39m[\u001b[38;5;241m12102\u001b[39m], test_mask\u001b[38;5;241m=\u001b[39m[\u001b[38;5;241m12102\u001b[39m])], \u001b[38;5;124m'\u001b[39m\u001b[38;5;124mval\u001b[39m\u001b[38;5;124m'\u001b[39m: [Data(x\u001b[38;5;241m=\u001b[39m[\u001b[38;5;241m13586\u001b[39m, \u001b[38;5;241m2048\u001b[39m], edge_index\u001b[38;5;241m=\u001b[39m[\u001b[38;5;241m2\u001b[39m, \u001b[38;5;241m66282\u001b[39m], y\u001b[38;5;241m=\u001b[39m[\u001b[38;5;241m13586\u001b[39m], pos\u001b[38;5;241m=\u001b[39m[\u001b[38;5;241m13586\u001b[39m, \u001b[38;5;241m2\u001b[39m], train_mask\u001b[38;5;241m=\u001b[39m[\u001b[38;5;241m13586\u001b[39m], val_mask\u001b[38;5;241m=\u001b[39m[\u001b[38;5;241m13586\u001b[39m], test_mask\u001b[38;5;241m=\u001b[39m[\u001b[38;5;241m13586\u001b[39m])]}, \u001b[38;5;124m'\u001b[39m\u001b[38;5;124m354_D1b_ASAP_tumor_map\u001b[39m\u001b[38;5;124m'\u001b[39m:{\u001b[38;5;124m'\u001b[39m\u001b[38;5;124mtrain\u001b[39m\u001b[38;5;124m'\u001b[39m: [Data(x\u001b[38;5;241m=\u001b[39m[\u001b[38;5;241m7910\u001b[39m, \u001b[38;5;241m2048\u001b[39m], edge_index\u001b[38;5;241m=\u001b[39m[\u001b[38;5;241m2\u001b[39m, \u001b[38;5;241m38174\u001b[39m], y\u001b[38;5;241m=\u001b[39m[\u001b[38;5;241m7910\u001b[39m], pos\u001b[38;5;241m=\u001b[39m[\u001b[38;5;241m7910\u001b[39m, \u001b[38;5;241m2\u001b[39m], train_mask\u001b[38;5;241m=\u001b[39m[\u001b[38;5;241m7910\u001b[39m], val_mask\u001b[38;5;241m=\u001b[39m[\u001b[38;5;241m7910\u001b[39m], test_mask\u001b[38;5;241m=\u001b[39m[\u001b[38;5;241m7910\u001b[39m])], \u001b[38;5;124m'\u001b[39m\u001b[38;5;124mval\u001b[39m\u001b[38;5;124m'\u001b[39m: [Data(x\u001b[38;5;241m=\u001b[39m[\u001b[38;5;241m7125\u001b[39m, \u001b[38;5;241m2048\u001b[39m], edge_index\u001b[38;5;241m=\u001b[39m[\u001b[38;5;241m2\u001b[39m, \u001b[38;5;241m34687\u001b[39m], y\u001b[38;5;241m=\u001b[39m[\u001b[38;5;241m7125\u001b[39m], pos\u001b[38;5;241m=\u001b[39m[\u001b[38;5;241m7125\u001b[39m, \u001b[38;5;241m2\u001b[39m], train_mask\u001b[38;5;241m=\u001b[39m[\u001b[38;5;241m7125\u001b[39m], val_mask\u001b[38;5;241m=\u001b[39m[\u001b[38;5;241m7125\u001b[39m], test_mask\u001b[38;5;241m=\u001b[39m[\u001b[38;5;241m7125\u001b[39m])]}, \u001b[38;5;124m'\u001b[39m\u001b[38;5;124m355_A1d_ASAP_tumor_map\u001b[39m\u001b[38;5;124m'\u001b[39m:{\u001b[38;5;124m'\u001b[39m\u001b[38;5;124mtrain\u001b[39m\u001b[38;5;124m'\u001b[39m: [Data(x\u001b[38;5;241m=\u001b[39m[\u001b[38;5;241m2793\u001b[39m, \u001b[38;5;241m2048\u001b[39m], edge_index\u001b[38;5;241m=\u001b[39m[\u001b[38;5;241m2\u001b[39m, \u001b[38;5;241m13597\u001b[39m], y\u001b[38;5;241m=\u001b[39m[\u001b[38;5;241m2793\u001b[39m], pos\u001b[38;5;241m=\u001b[39m[\u001b[38;5;241m2793\u001b[39m, \u001b[38;5;241m2\u001b[39m], train_mask\u001b[38;5;241m=\u001b[39m[\u001b[38;5;241m2793\u001b[39m], val_mask\u001b[38;5;241m=\u001b[39m[\u001b[38;5;241m2793\u001b[39m], test_mask\u001b[38;5;241m=\u001b[39m[\u001b[38;5;241m2793\u001b[39m]), Data(x\u001b[38;5;241m=\u001b[39m[\u001b[38;5;241m2950\u001b[39m, \u001b[38;5;241m2048\u001b[39m], edge_index\u001b[38;5;241m=\u001b[39m[\u001b[38;5;241m2\u001b[39m, \u001b[38;5;241m14440\u001b[39m], y\u001b[38;5;241m=\u001b[39m[\u001b[38;5;241m2950\u001b[39m], pos\u001b[38;5;241m=\u001b[39m[\u001b[38;5;241m2950\u001b[39m, \u001b[38;5;241m2\u001b[39m], train_mask\u001b[38;5;241m=\u001b[39m[\u001b[38;5;241m2950\u001b[39m], val_mask\u001b[38;5;241m=\u001b[39m[\u001b[38;5;241m2950\u001b[39m], test_mask\u001b[38;5;241m=\u001b[39m[\u001b[38;5;241m2950\u001b[39m])], \u001b[38;5;124m'\u001b[39m\u001b[38;5;124mval\u001b[39m\u001b[38;5;124m'\u001b[39m: [Data(x\u001b[38;5;241m=\u001b[39m[\u001b[38;5;241m2684\u001b[39m, \u001b[38;5;241m2048\u001b[39m], edge_index\u001b[38;5;241m=\u001b[39m[\u001b[38;5;241m2\u001b[39m, \u001b[38;5;241m13052\u001b[39m], y\u001b[38;5;241m=\u001b[39m[\u001b[38;5;241m2684\u001b[39m], pos\u001b[38;5;241m=\u001b[39m[\u001b[38;5;241m2684\u001b[39m, \u001b[38;5;241m2\u001b[39m], train_mask\u001b[38;5;241m=\u001b[39m[\u001b[38;5;241m2684\u001b[39m], val_mask\u001b[38;5;241m=\u001b[39m[\u001b[38;5;241m2684\u001b[39m], test_mask\u001b[38;5;241m=\u001b[39m[\u001b[38;5;241m2684\u001b[39m])]}, \u001b[38;5;124m'\u001b[39m\u001b[38;5;124m356_A1b_ASAP_tumor_map\u001b[39m\u001b[38;5;124m'\u001b[39m:{\u001b[38;5;124m'\u001b[39m\u001b[38;5;124mtrain\u001b[39m\u001b[38;5;124m'\u001b[39m: [Data(x\u001b[38;5;241m=\u001b[39m[\u001b[38;5;241m3738\u001b[39m, \u001b[38;5;241m2048\u001b[39m], edge_index\u001b[38;5;241m=\u001b[39m[\u001b[38;5;241m2\u001b[39m, \u001b[38;5;241m18284\u001b[39m], y\u001b[38;5;241m=\u001b[39m[\u001b[38;5;241m3738\u001b[39m], pos\u001b[38;5;241m=\u001b[39m[\u001b[38;5;241m3738\u001b[39m, \u001b[38;5;241m2\u001b[39m], train_mask\u001b[38;5;241m=\u001b[39m[\u001b[38;5;241m3738\u001b[39m], val_mask\u001b[38;5;241m=\u001b[39m[\u001b[38;5;241m3738\u001b[39m], test_mask\u001b[38;5;241m=\u001b[39m[\u001b[38;5;241m3738\u001b[39m]), Data(x\u001b[38;5;241m=\u001b[39m[\u001b[38;5;241m3631\u001b[39m, \u001b[38;5;241m2048\u001b[39m], edge_index\u001b[38;5;241m=\u001b[39m[\u001b[38;5;241m2\u001b[39m, \u001b[38;5;241m17755\u001b[39m], y\u001b[38;5;241m=\u001b[39m[\u001b[38;5;241m3631\u001b[39m], pos\u001b[38;5;241m=\u001b[39m[\u001b[38;5;241m3631\u001b[39m, \u001b[38;5;241m2\u001b[39m], train_mask\u001b[38;5;241m=\u001b[39m[\u001b[38;5;241m3631\u001b[39m], val_mask\u001b[38;5;241m=\u001b[39m[\u001b[38;5;241m3631\u001b[39m], test_mask\u001b[38;5;241m=\u001b[39m[\u001b[38;5;241m3631\u001b[39m])], \u001b[38;5;124m'\u001b[39m\u001b[38;5;124mval\u001b[39m\u001b[38;5;124m'\u001b[39m: [Data(x\u001b[38;5;241m=\u001b[39m[\u001b[38;5;241m3395\u001b[39m, \u001b[38;5;241m2048\u001b[39m], edge_index\u001b[38;5;241m=\u001b[39m[\u001b[38;5;241m2\u001b[39m, \u001b[38;5;241m16605\u001b[39m], y\u001b[38;5;241m=\u001b[39m[\u001b[38;5;241m3395\u001b[39m], pos\u001b[38;5;241m=\u001b[39m[\u001b[38;5;241m3395\u001b[39m, \u001b[38;5;241m2\u001b[39m], train_mask\u001b[38;5;241m=\u001b[39m[\u001b[38;5;241m3395\u001b[39m], val_mask\u001b[38;5;241m=\u001b[39m[\u001b[38;5;241m3395\u001b[39m], test_mask\u001b[38;5;241m=\u001b[39m[\u001b[38;5;241m3395\u001b[39m])]}, \u001b[38;5;124m'\u001b[39m\u001b[38;5;124m358_A1a_ASAP_tumor_map\u001b[39m\u001b[38;5;124m'\u001b[39m:{\u001b[38;5;124m'\u001b[39m\u001b[38;5;124mtrain\u001b[39m\u001b[38;5;124m'\u001b[39m: [Data(x\u001b[38;5;241m=\u001b[39m[\u001b[38;5;241m2626\u001b[39m, \u001b[38;5;241m2048\u001b[39m], edge_index\u001b[38;5;241m=\u001b[39m[\u001b[38;5;241m2\u001b[39m, \u001b[38;5;241m12492\u001b[39m], y\u001b[38;5;241m=\u001b[39m[\u001b[38;5;241m2626\u001b[39m], pos\u001b[38;5;241m=\u001b[39m[\u001b[38;5;241m2626\u001b[39m, \u001b[38;5;241m2\u001b[39m], train_mask\u001b[38;5;241m=\u001b[39m[\u001b[38;5;241m2626\u001b[39m], val_mask\u001b[38;5;241m=\u001b[39m[\u001b[38;5;241m2626\u001b[39m], test_mask\u001b[38;5;241m=\u001b[39m[\u001b[38;5;241m2626\u001b[39m]), Data(x\u001b[38;5;241m=\u001b[39m[\u001b[38;5;241m1742\u001b[39m, \u001b[38;5;241m2048\u001b[39m], edge_index\u001b[38;5;241m=\u001b[39m[\u001b[38;5;241m2\u001b[39m, \u001b[38;5;241m8152\u001b[39m], y\u001b[38;5;241m=\u001b[39m[\u001b[38;5;241m1742\u001b[39m], pos\u001b[38;5;241m=\u001b[39m[\u001b[38;5;241m1742\u001b[39m, \u001b[38;5;241m2\u001b[39m], train_mask\u001b[38;5;241m=\u001b[39m[\u001b[38;5;241m1742\u001b[39m], val_mask\u001b[38;5;241m=\u001b[39m[\u001b[38;5;241m1742\u001b[39m], test_mask\u001b[38;5;241m=\u001b[39m[\u001b[38;5;241m1742\u001b[39m]), Data(x\u001b[38;5;241m=\u001b[39m[\u001b[38;5;241m2955\u001b[39m, \u001b[38;5;241m2048\u001b[39m], edge_index\u001b[38;5;241m=\u001b[39m[\u001b[38;5;241m2\u001b[39m, \u001b[38;5;241m14357\u001b[39m], y\u001b[38;5;241m=\u001b[39m[\u001b[38;5;241m2955\u001b[39m], pos\u001b[38;5;241m=\u001b[39m[\u001b[38;5;241m2955\u001b[39m, \u001b[38;5;241m2\u001b[39m], train_mask\u001b[38;5;241m=\u001b[39m[\u001b[38;5;241m2955\u001b[39m], val_mask\u001b[38;5;241m=\u001b[39m[\u001b[38;5;241m2955\u001b[39m], test_mask\u001b[38;5;241m=\u001b[39m[\u001b[38;5;241m2955\u001b[39m]), Data(x\u001b[38;5;241m=\u001b[39m[\u001b[38;5;241m2561\u001b[39m, \u001b[38;5;241m2048\u001b[39m], edge_index\u001b[38;5;241m=\u001b[39m[\u001b[38;5;241m2\u001b[39m, \u001b[38;5;241m12297\u001b[39m], y\u001b[38;5;241m=\u001b[39m[\u001b[38;5;241m2561\u001b[39m], pos\u001b[38;5;241m=\u001b[39m[\u001b[38;5;241m2561\u001b[39m, \u001b[38;5;241m2\u001b[39m], train_mask\u001b[38;5;241m=\u001b[39m[\u001b[38;5;241m2561\u001b[39m], val_mask\u001b[38;5;241m=\u001b[39m[\u001b[38;5;241m2561\u001b[39m], test_mask\u001b[38;5;241m=\u001b[39m[\u001b[38;5;241m2561\u001b[39m]), Data(x\u001b[38;5;241m=\u001b[39m[\u001b[38;5;241m2825\u001b[39m, \u001b[38;5;241m2048\u001b[39m], edge_index\u001b[38;5;241m=\u001b[39m[\u001b[38;5;241m2\u001b[39m, \u001b[38;5;241m13425\u001b[39m], y\u001b[38;5;241m=\u001b[39m[\u001b[38;5;241m2825\u001b[39m], pos\u001b[38;5;241m=\u001b[39m[\u001b[38;5;241m2825\u001b[39m, \u001b[38;5;241m2\u001b[39m], train_mask\u001b[38;5;241m=\u001b[39m[\u001b[38;5;241m2825\u001b[39m], val_mask\u001b[38;5;241m=\u001b[39m[\u001b[38;5;241m2825\u001b[39m], test_mask\u001b[38;5;241m=\u001b[39m[\u001b[38;5;241m2825\u001b[39m])], \u001b[38;5;124m'\u001b[39m\u001b[38;5;124mval\u001b[39m\u001b[38;5;124m'\u001b[39m: [Data(x\u001b[38;5;241m=\u001b[39m[\u001b[38;5;241m3280\u001b[39m, \u001b[38;5;241m2048\u001b[39m], edge_index\u001b[38;5;241m=\u001b[39m[\u001b[38;5;241m2\u001b[39m, \u001b[38;5;241m15970\u001b[39m], y\u001b[38;5;241m=\u001b[39m[\u001b[38;5;241m3280\u001b[39m], pos\u001b[38;5;241m=\u001b[39m[\u001b[38;5;241m3280\u001b[39m, \u001b[38;5;241m2\u001b[39m], train_mask\u001b[38;5;241m=\u001b[39m[\u001b[38;5;241m3280\u001b[39m], val_mask\u001b[38;5;241m=\u001b[39m[\u001b[38;5;241m3280\u001b[39m], test_mask\u001b[38;5;241m=\u001b[39m[\u001b[38;5;241m3280\u001b[39m])]}, \u001b[38;5;124m'\u001b[39m\u001b[38;5;124m358_A1b_ASAP_tumor_map\u001b[39m\u001b[38;5;124m'\u001b[39m:{\u001b[38;5;124m'\u001b[39m\u001b[38;5;124mtrain\u001b[39m\u001b[38;5;124m'\u001b[39m: [Data(x\u001b[38;5;241m=\u001b[39m[\u001b[38;5;241m3117\u001b[39m, \u001b[38;5;241m2048\u001b[39m], edge_index\u001b[38;5;241m=\u001b[39m[\u001b[38;5;241m2\u001b[39m, \u001b[38;5;241m15001\u001b[39m], y\u001b[38;5;241m=\u001b[39m[\u001b[38;5;241m3117\u001b[39m], pos\u001b[38;5;241m=\u001b[39m[\u001b[38;5;241m3117\u001b[39m, \u001b[38;5;241m2\u001b[39m], train_mask\u001b[38;5;241m=\u001b[39m[\u001b[38;5;241m3117\u001b[39m], val_mask\u001b[38;5;241m=\u001b[39m[\u001b[38;5;241m3117\u001b[39m], test_mask\u001b[38;5;241m=\u001b[39m[\u001b[38;5;241m3117\u001b[39m]), Data(x\u001b[38;5;241m=\u001b[39m[\u001b[38;5;241m2663\u001b[39m, \u001b[38;5;241m2048\u001b[39m], edge_index\u001b[38;5;241m=\u001b[39m[\u001b[38;5;241m2\u001b[39m, \u001b[38;5;241m12951\u001b[39m], y\u001b[38;5;241m=\u001b[39m[\u001b[38;5;241m2663\u001b[39m], pos\u001b[38;5;241m=\u001b[39m[\u001b[38;5;241m2663\u001b[39m, \u001b[38;5;241m2\u001b[39m], train_mask\u001b[38;5;241m=\u001b[39m[\u001b[38;5;241m2663\u001b[39m], val_mask\u001b[38;5;241m=\u001b[39m[\u001b[38;5;241m2663\u001b[39m], test_mask\u001b[38;5;241m=\u001b[39m[\u001b[38;5;241m2663\u001b[39m]), Data(x\u001b[38;5;241m=\u001b[39m[\u001b[38;5;241m5892\u001b[39m, \u001b[38;5;241m2048\u001b[39m], edge_index\u001b[38;5;241m=\u001b[39m[\u001b[38;5;241m2\u001b[39m, \u001b[38;5;241m28576\u001b[39m], y\u001b[38;5;241m=\u001b[39m[\u001b[38;5;241m5892\u001b[39m], pos\u001b[38;5;241m=\u001b[39m[\u001b[38;5;241m5892\u001b[39m, \u001b[38;5;241m2\u001b[39m], train_mask\u001b[38;5;241m=\u001b[39m[\u001b[38;5;241m5892\u001b[39m], val_mask\u001b[38;5;241m=\u001b[39m[\u001b[38;5;241m5892\u001b[39m], test_mask\u001b[38;5;241m=\u001b[39m[\u001b[38;5;241m5892\u001b[39m]), Data(x\u001b[38;5;241m=\u001b[39m[\u001b[38;5;241m3544\u001b[39m, \u001b[38;5;241m2048\u001b[39m], edge_index\u001b[38;5;241m=\u001b[39m[\u001b[38;5;241m2\u001b[39m, \u001b[38;5;241m17260\u001b[39m], y\u001b[38;5;241m=\u001b[39m[\u001b[38;5;241m3544\u001b[39m], pos\u001b[38;5;241m=\u001b[39m[\u001b[38;5;241m3544\u001b[39m, \u001b[38;5;241m2\u001b[39m], train_mask\u001b[38;5;241m=\u001b[39m[\u001b[38;5;241m3544\u001b[39m], val_mask\u001b[38;5;241m=\u001b[39m[\u001b[38;5;241m3544\u001b[39m], test_mask\u001b[38;5;241m=\u001b[39m[\u001b[38;5;241m3544\u001b[39m])], \u001b[38;5;124m'\u001b[39m\u001b[38;5;124mval\u001b[39m\u001b[38;5;124m'\u001b[39m: [Data(x\u001b[38;5;241m=\u001b[39m[\u001b[38;5;241m3285\u001b[39m, \u001b[38;5;241m2048\u001b[39m], edge_index\u001b[38;5;241m=\u001b[39m[\u001b[38;5;241m2\u001b[39m, \u001b[38;5;241m15963\u001b[39m], y\u001b[38;5;241m=\u001b[39m[\u001b[38;5;241m3285\u001b[39m], pos\u001b[38;5;241m=\u001b[39m[\u001b[38;5;241m3285\u001b[39m, \u001b[38;5;241m2\u001b[39m], train_mask\u001b[38;5;241m=\u001b[39m[\u001b[38;5;241m3285\u001b[39m], val_mask\u001b[38;5;241m=\u001b[39m[\u001b[38;5;241m3285\u001b[39m], test_mask\u001b[38;5;241m=\u001b[39m[\u001b[38;5;241m3285\u001b[39m])]}, \u001b[38;5;124m'\u001b[39m\u001b[38;5;124m361_a_ASAP_tumor_map\u001b[39m\u001b[38;5;124m'\u001b[39m:{\u001b[38;5;124m'\u001b[39m\u001b[38;5;124mtrain\u001b[39m\u001b[38;5;124m'\u001b[39m: [Data(x\u001b[38;5;241m=\u001b[39m[\u001b[38;5;241m5045\u001b[39m, \u001b[38;5;241m2048\u001b[39m], edge_index\u001b[38;5;241m=\u001b[39m[\u001b[38;5;241m2\u001b[39m, \u001b[38;5;241m24627\u001b[39m], y\u001b[38;5;241m=\u001b[39m[\u001b[38;5;241m5045\u001b[39m], pos\u001b[38;5;241m=\u001b[39m[\u001b[38;5;241m5045\u001b[39m, \u001b[38;5;241m2\u001b[39m], train_mask\u001b[38;5;241m=\u001b[39m[\u001b[38;5;241m5045\u001b[39m], val_mask\u001b[38;5;241m=\u001b[39m[\u001b[38;5;241m5045\u001b[39m], test_mask\u001b[38;5;241m=\u001b[39m[\u001b[38;5;241m5045\u001b[39m]), Data(x\u001b[38;5;241m=\u001b[39m[\u001b[38;5;241m506\u001b[39m, \u001b[38;5;241m2048\u001b[39m], edge_index\u001b[38;5;241m=\u001b[39m[\u001b[38;5;241m2\u001b[39m, \u001b[38;5;241m2386\u001b[39m], y\u001b[38;5;241m=\u001b[39m[\u001b[38;5;241m506\u001b[39m], pos\u001b[38;5;241m=\u001b[39m[\u001b[38;5;241m506\u001b[39m, \u001b[38;5;241m2\u001b[39m], train_mask\u001b[38;5;241m=\u001b[39m[\u001b[38;5;241m506\u001b[39m], val_mask\u001b[38;5;241m=\u001b[39m[\u001b[38;5;241m506\u001b[39m], test_mask\u001b[38;5;241m=\u001b[39m[\u001b[38;5;241m506\u001b[39m]), Data(x\u001b[38;5;241m=\u001b[39m[\u001b[38;5;241m8312\u001b[39m, \u001b[38;5;241m2048\u001b[39m], edge_index\u001b[38;5;241m=\u001b[39m[\u001b[38;5;241m2\u001b[39m, \u001b[38;5;241m40554\u001b[39m], y\u001b[38;5;241m=\u001b[39m[\u001b[38;5;241m8312\u001b[39m], pos\u001b[38;5;241m=\u001b[39m[\u001b[38;5;241m8312\u001b[39m, \u001b[38;5;241m2\u001b[39m], train_mask\u001b[38;5;241m=\u001b[39m[\u001b[38;5;241m8312\u001b[39m], val_mask\u001b[38;5;241m=\u001b[39m[\u001b[38;5;241m8312\u001b[39m], test_mask\u001b[38;5;241m=\u001b[39m[\u001b[38;5;241m8312\u001b[39m])], \u001b[38;5;124m'\u001b[39m\u001b[38;5;124mval\u001b[39m\u001b[38;5;124m'\u001b[39m: [Data(x\u001b[38;5;241m=\u001b[39m[\u001b[38;5;241m2890\u001b[39m, \u001b[38;5;241m2048\u001b[39m], edge_index\u001b[38;5;241m=\u001b[39m[\u001b[38;5;241m2\u001b[39m, \u001b[38;5;241m14014\u001b[39m], y\u001b[38;5;241m=\u001b[39m[\u001b[38;5;241m2890\u001b[39m], pos\u001b[38;5;241m=\u001b[39m[\u001b[38;5;241m2890\u001b[39m, \u001b[38;5;241m2\u001b[39m], train_mask\u001b[38;5;241m=\u001b[39m[\u001b[38;5;241m2890\u001b[39m], val_mask\u001b[38;5;241m=\u001b[39m[\u001b[38;5;241m2890\u001b[39m], test_mask\u001b[38;5;241m=\u001b[39m[\u001b[38;5;241m2890\u001b[39m])]}, \u001b[38;5;124m'\u001b[39m\u001b[38;5;124m361_b_ASAP_tumor_map\u001b[39m\u001b[38;5;124m'\u001b[39m:{\u001b[38;5;124m'\u001b[39m\u001b[38;5;124mtrain\u001b[39m\u001b[38;5;124m'\u001b[39m: [Data(x\u001b[38;5;241m=\u001b[39m[\u001b[38;5;241m15269\u001b[39m, \u001b[38;5;241m2048\u001b[39m], edge_index\u001b[38;5;241m=\u001b[39m[\u001b[38;5;241m2\u001b[39m, \u001b[38;5;241m74929\u001b[39m], y\u001b[38;5;241m=\u001b[39m[\u001b[38;5;241m15269\u001b[39m], pos\u001b[38;5;241m=\u001b[39m[\u001b[38;5;241m15269\u001b[39m, \u001b[38;5;241m2\u001b[39m], train_mask\u001b[38;5;241m=\u001b[39m[\u001b[38;5;241m15269\u001b[39m], val_mask\u001b[38;5;241m=\u001b[39m[\u001b[38;5;241m15269\u001b[39m], test_mask\u001b[38;5;241m=\u001b[39m[\u001b[38;5;241m15269\u001b[39m])], \u001b[38;5;124m'\u001b[39m\u001b[38;5;124mval\u001b[39m\u001b[38;5;124m'\u001b[39m: [Data(x\u001b[38;5;241m=\u001b[39m[\u001b[38;5;241m6360\u001b[39m, \u001b[38;5;241m2048\u001b[39m], edge_index\u001b[38;5;241m=\u001b[39m[\u001b[38;5;241m2\u001b[39m, \u001b[38;5;241m31250\u001b[39m], y\u001b[38;5;241m=\u001b[39m[\u001b[38;5;241m6360\u001b[39m], pos\u001b[38;5;241m=\u001b[39m[\u001b[38;5;241m6360\u001b[39m, \u001b[38;5;241m2\u001b[39m], train_mask\u001b[38;5;241m=\u001b[39m[\u001b[38;5;241m6360\u001b[39m], val_mask\u001b[38;5;241m=\u001b[39m[\u001b[38;5;241m6360\u001b[39m], test_mask\u001b[38;5;241m=\u001b[39m[\u001b[38;5;241m6360\u001b[39m])]}, \u001b[38;5;124m'\u001b[39m\u001b[38;5;124m362_A1a_ASAP_tumor_map\u001b[39m\u001b[38;5;124m'\u001b[39m:{\u001b[38;5;124m'\u001b[39m\u001b[38;5;124mtrain\u001b[39m\u001b[38;5;124m'\u001b[39m: [Data(x\u001b[38;5;241m=\u001b[39m[\u001b[38;5;241m10656\u001b[39m, \u001b[38;5;241m2048\u001b[39m], edge_index\u001b[38;5;241m=\u001b[39m[\u001b[38;5;241m2\u001b[39m, \u001b[38;5;241m52170\u001b[39m], y\u001b[38;5;241m=\u001b[39m[\u001b[38;5;241m10656\u001b[39m], pos\u001b[38;5;241m=\u001b[39m[\u001b[38;5;241m10656\u001b[39m, \u001b[38;5;241m2\u001b[39m], train_mask\u001b[38;5;241m=\u001b[39m[\u001b[38;5;241m10656\u001b[39m], val_mask\u001b[38;5;241m=\u001b[39m[\u001b[38;5;241m10656\u001b[39m], test_mask\u001b[38;5;241m=\u001b[39m[\u001b[38;5;241m10656\u001b[39m])], \u001b[38;5;124m'\u001b[39m\u001b[38;5;124mval\u001b[39m\u001b[38;5;124m'\u001b[39m: [Data(x\u001b[38;5;241m=\u001b[39m[\u001b[38;5;241m8954\u001b[39m, \u001b[38;5;241m2048\u001b[39m], edge_index\u001b[38;5;241m=\u001b[39m[\u001b[38;5;241m2\u001b[39m, \u001b[38;5;241m43558\u001b[39m], y\u001b[38;5;241m=\u001b[39m[\u001b[38;5;241m8954\u001b[39m], pos\u001b[38;5;241m=\u001b[39m[\u001b[38;5;241m8954\u001b[39m, \u001b[38;5;241m2\u001b[39m], train_mask\u001b[38;5;241m=\u001b[39m[\u001b[38;5;241m8954\u001b[39m], val_mask\u001b[38;5;241m=\u001b[39m[\u001b[38;5;241m8954\u001b[39m], test_mask\u001b[38;5;241m=\u001b[39m[\u001b[38;5;241m8954\u001b[39m])]}, \u001b[38;5;124m'\u001b[39m\u001b[38;5;124m362_A1b_ASAP_tumor_map\u001b[39m\u001b[38;5;124m'\u001b[39m:{\u001b[38;5;124m'\u001b[39m\u001b[38;5;124mtrain\u001b[39m\u001b[38;5;124m'\u001b[39m: [Data(x\u001b[38;5;241m=\u001b[39m[\u001b[38;5;241m10277\u001b[39m, \u001b[38;5;241m2048\u001b[39m], edge_index\u001b[38;5;241m=\u001b[39m[\u001b[38;5;241m2\u001b[39m, \u001b[38;5;241m50425\u001b[39m], y\u001b[38;5;241m=\u001b[39m[\u001b[38;5;241m10277\u001b[39m], pos\u001b[38;5;241m=\u001b[39m[\u001b[38;5;241m10277\u001b[39m, \u001b[38;5;241m2\u001b[39m], train_mask\u001b[38;5;241m=\u001b[39m[\u001b[38;5;241m10277\u001b[39m], val_mask\u001b[38;5;241m=\u001b[39m[\u001b[38;5;241m10277\u001b[39m], test_mask\u001b[38;5;241m=\u001b[39m[\u001b[38;5;241m10277\u001b[39m])], \u001b[38;5;124m'\u001b[39m\u001b[38;5;124mval\u001b[39m\u001b[38;5;124m'\u001b[39m: [Data(x\u001b[38;5;241m=\u001b[39m[\u001b[38;5;241m10950\u001b[39m, \u001b[38;5;241m2048\u001b[39m], edge_index\u001b[38;5;241m=\u001b[39m[\u001b[38;5;241m2\u001b[39m, \u001b[38;5;241m53728\u001b[39m], y\u001b[38;5;241m=\u001b[39m[\u001b[38;5;241m10950\u001b[39m], pos\u001b[38;5;241m=\u001b[39m[\u001b[38;5;241m10950\u001b[39m, \u001b[38;5;241m2\u001b[39m], train_mask\u001b[38;5;241m=\u001b[39m[\u001b[38;5;241m10950\u001b[39m], val_mask\u001b[38;5;241m=\u001b[39m[\u001b[38;5;241m10950\u001b[39m], test_mask\u001b[38;5;241m=\u001b[39m[\u001b[38;5;241m10950\u001b[39m])]}, \u001b[38;5;124m'\u001b[39m\u001b[38;5;124m362_A1c_ASAP_tumor_map\u001b[39m\u001b[38;5;124m'\u001b[39m:{\u001b[38;5;124m'\u001b[39m\u001b[38;5;124mtrain\u001b[39m\u001b[38;5;124m'\u001b[39m: [Data(x\u001b[38;5;241m=\u001b[39m[\u001b[38;5;241m8771\u001b[39m, \u001b[38;5;241m2048\u001b[39m], edge_index\u001b[38;5;241m=\u001b[39m[\u001b[38;5;241m2\u001b[39m, \u001b[38;5;241m42925\u001b[39m], y\u001b[38;5;241m=\u001b[39m[\u001b[38;5;241m8771\u001b[39m], pos\u001b[38;5;241m=\u001b[39m[\u001b[38;5;241m8771\u001b[39m, \u001b[38;5;241m2\u001b[39m], train_mask\u001b[38;5;241m=\u001b[39m[\u001b[38;5;241m8771\u001b[39m], val_mask\u001b[38;5;241m=\u001b[39m[\u001b[38;5;241m8771\u001b[39m], test_mask\u001b[38;5;241m=\u001b[39m[\u001b[38;5;241m8771\u001b[39m])], \u001b[38;5;124m'\u001b[39m\u001b[38;5;124mval\u001b[39m\u001b[38;5;124m'\u001b[39m: [Data(x\u001b[38;5;241m=\u001b[39m[\u001b[38;5;241m10025\u001b[39m, \u001b[38;5;241m2048\u001b[39m], edge_index\u001b[38;5;241m=\u001b[39m[\u001b[38;5;241m2\u001b[39m, \u001b[38;5;241m49095\u001b[39m], y\u001b[38;5;241m=\u001b[39m[\u001b[38;5;241m10025\u001b[39m], pos\u001b[38;5;241m=\u001b[39m[\u001b[38;5;241m10025\u001b[39m, \u001b[38;5;241m2\u001b[39m], train_mask\u001b[38;5;241m=\u001b[39m[\u001b[38;5;241m10025\u001b[39m], val_mask\u001b[38;5;241m=\u001b[39m[\u001b[38;5;241m10025\u001b[39m], test_mask\u001b[38;5;241m=\u001b[39m[\u001b[38;5;241m10025\u001b[39m])]}, \u001b[38;5;124m'\u001b[39m\u001b[38;5;124m363_A1b_ASAP_tumor_map\u001b[39m\u001b[38;5;124m'\u001b[39m:{\u001b[38;5;124m'\u001b[39m\u001b[38;5;124mtrain\u001b[39m\u001b[38;5;124m'\u001b[39m: [Data(x\u001b[38;5;241m=\u001b[39m[\u001b[38;5;241m10713\u001b[39m, \u001b[38;5;241m2048\u001b[39m], edge_index\u001b[38;5;241m=\u001b[39m[\u001b[38;5;241m2\u001b[39m, \u001b[38;5;241m52717\u001b[39m], y\u001b[38;5;241m=\u001b[39m[\u001b[38;5;241m10713\u001b[39m], pos\u001b[38;5;241m=\u001b[39m[\u001b[38;5;241m10713\u001b[39m, \u001b[38;5;241m2\u001b[39m], train_mask\u001b[38;5;241m=\u001b[39m[\u001b[38;5;241m10713\u001b[39m], val_mask\u001b[38;5;241m=\u001b[39m[\u001b[38;5;241m10713\u001b[39m], test_mask\u001b[38;5;241m=\u001b[39m[\u001b[38;5;241m10713\u001b[39m])], \u001b[38;5;124m'\u001b[39m\u001b[38;5;124mval\u001b[39m\u001b[38;5;124m'\u001b[39m: [Data(x\u001b[38;5;241m=\u001b[39m[\u001b[38;5;241m10069\u001b[39m, \u001b[38;5;241m2048\u001b[39m], edge_index\u001b[38;5;241m=\u001b[39m[\u001b[38;5;241m2\u001b[39m, \u001b[38;5;241m49471\u001b[39m], y\u001b[38;5;241m=\u001b[39m[\u001b[38;5;241m10069\u001b[39m], pos\u001b[38;5;241m=\u001b[39m[\u001b[38;5;241m10069\u001b[39m, \u001b[38;5;241m2\u001b[39m], train_mask\u001b[38;5;241m=\u001b[39m[\u001b[38;5;241m10069\u001b[39m], val_mask\u001b[38;5;241m=\u001b[39m[\u001b[38;5;241m10069\u001b[39m], test_mask\u001b[38;5;241m=\u001b[39m[\u001b[38;5;241m10069\u001b[39m])]}, \u001b[38;5;124m'\u001b[39m\u001b[38;5;124m363_A1c_ASAP_tumor_map\u001b[39m\u001b[38;5;124m'\u001b[39m:{\u001b[38;5;124m'\u001b[39m\u001b[38;5;124mtrain\u001b[39m\u001b[38;5;124m'\u001b[39m: [Data(x\u001b[38;5;241m=\u001b[39m[\u001b[38;5;241m10333\u001b[39m, \u001b[38;5;241m2048\u001b[39m], edge_index\u001b[38;5;241m=\u001b[39m[\u001b[38;5;241m2\u001b[39m, \u001b[38;5;241m50949\u001b[39m], y\u001b[38;5;241m=\u001b[39m[\u001b[38;5;241m10333\u001b[39m], pos\u001b[38;5;241m=\u001b[39m[\u001b[38;5;241m10333\u001b[39m, \u001b[38;5;241m2\u001b[39m], train_mask\u001b[38;5;241m=\u001b[39m[\u001b[38;5;241m10333\u001b[39m], val_mask\u001b[38;5;241m=\u001b[39m[\u001b[38;5;241m10333\u001b[39m], test_mask\u001b[38;5;241m=\u001b[39m[\u001b[38;5;241m10333\u001b[39m])], \u001b[38;5;124m'\u001b[39m\u001b[38;5;124mval\u001b[39m\u001b[38;5;124m'\u001b[39m: [Data(x\u001b[38;5;241m=\u001b[39m[\u001b[38;5;241m10265\u001b[39m, \u001b[38;5;241m2048\u001b[39m], edge_index\u001b[38;5;241m=\u001b[39m[\u001b[38;5;241m2\u001b[39m, \u001b[38;5;241m50613\u001b[39m], y\u001b[38;5;241m=\u001b[39m[\u001b[38;5;241m10265\u001b[39m], pos\u001b[38;5;241m=\u001b[39m[\u001b[38;5;241m10265\u001b[39m, \u001b[38;5;241m2\u001b[39m], train_mask\u001b[38;5;241m=\u001b[39m[\u001b[38;5;241m10265\u001b[39m], val_mask\u001b[38;5;241m=\u001b[39m[\u001b[38;5;241m10265\u001b[39m], test_mask\u001b[38;5;241m=\u001b[39m[\u001b[38;5;241m10265\u001b[39m])]}, \u001b[38;5;124m'\u001b[39m\u001b[38;5;124m363_A2b_ASAP_tumor_map\u001b[39m\u001b[38;5;124m'\u001b[39m:{\u001b[38;5;124m'\u001b[39m\u001b[38;5;124mtrain\u001b[39m\u001b[38;5;124m'\u001b[39m: [Data(x\u001b[38;5;241m=\u001b[39m[\u001b[38;5;241m8385\u001b[39m, \u001b[38;5;241m2048\u001b[39m], edge_index\u001b[38;5;241m=\u001b[39m[\u001b[38;5;241m2\u001b[39m, \u001b[38;5;241m41225\u001b[39m], y\u001b[38;5;241m=\u001b[39m[\u001b[38;5;241m8385\u001b[39m], pos\u001b[38;5;241m=\u001b[39m[\u001b[38;5;241m8385\u001b[39m, \u001b[38;5;241m2\u001b[39m], train_mask\u001b[38;5;241m=\u001b[39m[\u001b[38;5;241m8385\u001b[39m], val_mask\u001b[38;5;241m=\u001b[39m[\u001b[38;5;241m8385\u001b[39m], test_mask\u001b[38;5;241m=\u001b[39m[\u001b[38;5;241m8385\u001b[39m]), Data(x\u001b[38;5;241m=\u001b[39m[\u001b[38;5;241m8318\u001b[39m, \u001b[38;5;241m2048\u001b[39m], edge_index\u001b[38;5;241m=\u001b[39m[\u001b[38;5;241m2\u001b[39m, \u001b[38;5;241m40800\u001b[39m], y\u001b[38;5;241m=\u001b[39m[\u001b[38;5;241m8318\u001b[39m], pos\u001b[38;5;241m=\u001b[39m[\u001b[38;5;241m8318\u001b[39m, \u001b[38;5;241m2\u001b[39m], train_mask\u001b[38;5;241m=\u001b[39m[\u001b[38;5;241m8318\u001b[39m], val_mask\u001b[38;5;241m=\u001b[39m[\u001b[38;5;241m8318\u001b[39m], test_mask\u001b[38;5;241m=\u001b[39m[\u001b[38;5;241m8318\u001b[39m])], \u001b[38;5;124m'\u001b[39m\u001b[38;5;124mval\u001b[39m\u001b[38;5;124m'\u001b[39m: [Data(x\u001b[38;5;241m=\u001b[39m[\u001b[38;5;241m8570\u001b[39m, \u001b[38;5;241m2048\u001b[39m], edge_index\u001b[38;5;241m=\u001b[39m[\u001b[38;5;241m2\u001b[39m, \u001b[38;5;241m42180\u001b[39m], y\u001b[38;5;241m=\u001b[39m[\u001b[38;5;241m8570\u001b[39m], pos\u001b[38;5;241m=\u001b[39m[\u001b[38;5;241m8570\u001b[39m, \u001b[38;5;241m2\u001b[39m], train_mask\u001b[38;5;241m=\u001b[39m[\u001b[38;5;241m8570\u001b[39m], val_mask\u001b[38;5;241m=\u001b[39m[\u001b[38;5;241m8570\u001b[39m], test_mask\u001b[38;5;241m=\u001b[39m[\u001b[38;5;241m8570\u001b[39m])]}, \u001b[38;5;124m'\u001b[39m\u001b[38;5;124m363_A3b_ASAP_tumor_map\u001b[39m\u001b[38;5;124m'\u001b[39m:{\u001b[38;5;124m'\u001b[39m\u001b[38;5;124mtrain\u001b[39m\u001b[38;5;124m'\u001b[39m: [Data(x\u001b[38;5;241m=\u001b[39m[\u001b[38;5;241m11918\u001b[39m, \u001b[38;5;241m2048\u001b[39m], edge_index\u001b[38;5;241m=\u001b[39m[\u001b[38;5;241m2\u001b[39m, \u001b[38;5;241m58766\u001b[39m], y\u001b[38;5;241m=\u001b[39m[\u001b[38;5;241m11918\u001b[39m], pos\u001b[38;5;241m=\u001b[39m[\u001b[38;5;241m11918\u001b[39m, \u001b[38;5;241m2\u001b[39m], train_mask\u001b[38;5;241m=\u001b[39m[\u001b[38;5;241m11918\u001b[39m], val_mask\u001b[38;5;241m=\u001b[39m[\u001b[38;5;241m11918\u001b[39m], test_mask\u001b[38;5;241m=\u001b[39m[\u001b[38;5;241m11918\u001b[39m])], \u001b[38;5;124m'\u001b[39m\u001b[38;5;124mval\u001b[39m\u001b[38;5;124m'\u001b[39m: [Data(x\u001b[38;5;241m=\u001b[39m[\u001b[38;5;241m11553\u001b[39m, \u001b[38;5;241m2048\u001b[39m], edge_index\u001b[38;5;241m=\u001b[39m[\u001b[38;5;241m2\u001b[39m, \u001b[38;5;241m56695\u001b[39m], y\u001b[38;5;241m=\u001b[39m[\u001b[38;5;241m11553\u001b[39m], pos\u001b[38;5;241m=\u001b[39m[\u001b[38;5;241m11553\u001b[39m, \u001b[38;5;241m2\u001b[39m], train_mask\u001b[38;5;241m=\u001b[39m[\u001b[38;5;241m11553\u001b[39m], val_mask\u001b[38;5;241m=\u001b[39m[\u001b[38;5;241m11553\u001b[39m], test_mask\u001b[38;5;241m=\u001b[39m[\u001b[38;5;241m11553\u001b[39m])]}, \u001b[38;5;124m'\u001b[39m\u001b[38;5;124m364_A1b_ASAP_tumor_map\u001b[39m\u001b[38;5;124m'\u001b[39m:{\u001b[38;5;124m'\u001b[39m\u001b[38;5;124mtrain\u001b[39m\u001b[38;5;124m'\u001b[39m: [Data(x\u001b[38;5;241m=\u001b[39m[\u001b[38;5;241m7890\u001b[39m, \u001b[38;5;241m2048\u001b[39m], edge_index\u001b[38;5;241m=\u001b[39m[\u001b[38;5;241m2\u001b[39m, \u001b[38;5;241m38608\u001b[39m], y\u001b[38;5;241m=\u001b[39m[\u001b[38;5;241m7890\u001b[39m], pos\u001b[38;5;241m=\u001b[39m[\u001b[38;5;241m7890\u001b[39m, \u001b[38;5;241m2\u001b[39m], train_mask\u001b[38;5;241m=\u001b[39m[\u001b[38;5;241m7890\u001b[39m], val_mask\u001b[38;5;241m=\u001b[39m[\u001b[38;5;241m7890\u001b[39m], test_mask\u001b[38;5;241m=\u001b[39m[\u001b[38;5;241m7890\u001b[39m]), Data(x\u001b[38;5;241m=\u001b[39m[\u001b[38;5;241m7228\u001b[39m, \u001b[38;5;241m2048\u001b[39m], edge_index\u001b[38;5;241m=\u001b[39m[\u001b[38;5;241m2\u001b[39m, \u001b[38;5;241m35234\u001b[39m], y\u001b[38;5;241m=\u001b[39m[\u001b[38;5;241m7228\u001b[39m], pos\u001b[38;5;241m=\u001b[39m[\u001b[38;5;241m7228\u001b[39m, \u001b[38;5;241m2\u001b[39m], train_mask\u001b[38;5;241m=\u001b[39m[\u001b[38;5;241m7228\u001b[39m], val_mask\u001b[38;5;241m=\u001b[39m[\u001b[38;5;241m7228\u001b[39m], test_mask\u001b[38;5;241m=\u001b[39m[\u001b[38;5;241m7228\u001b[39m])], \u001b[38;5;124m'\u001b[39m\u001b[38;5;124mval\u001b[39m\u001b[38;5;124m'\u001b[39m: [Data(x\u001b[38;5;241m=\u001b[39m[\u001b[38;5;241m7129\u001b[39m, \u001b[38;5;241m2048\u001b[39m], edge_index\u001b[38;5;241m=\u001b[39m[\u001b[38;5;241m2\u001b[39m, \u001b[38;5;241m34695\u001b[39m], y\u001b[38;5;241m=\u001b[39m[\u001b[38;5;241m7129\u001b[39m], pos\u001b[38;5;241m=\u001b[39m[\u001b[38;5;241m7129\u001b[39m, \u001b[38;5;241m2\u001b[39m], train_mask\u001b[38;5;241m=\u001b[39m[\u001b[38;5;241m7129\u001b[39m], val_mask\u001b[38;5;241m=\u001b[39m[\u001b[38;5;241m7129\u001b[39m], test_mask\u001b[38;5;241m=\u001b[39m[\u001b[38;5;241m7129\u001b[39m])]}, \u001b[38;5;124m'\u001b[39m\u001b[38;5;124m364_A2b_ASAP_tumor_map\u001b[39m\u001b[38;5;124m'\u001b[39m:{\u001b[38;5;124m'\u001b[39m\u001b[38;5;124mtrain\u001b[39m\u001b[38;5;124m'\u001b[39m: [Data(x\u001b[38;5;241m=\u001b[39m[\u001b[38;5;241m7762\u001b[39m, \u001b[38;5;241m2048\u001b[39m], edge_index\u001b[38;5;241m=\u001b[39m[\u001b[38;5;241m2\u001b[39m, \u001b[38;5;241m37502\u001b[39m], y\u001b[38;5;241m=\u001b[39m[\u001b[38;5;241m7762\u001b[39m], pos\u001b[38;5;241m=\u001b[39m[\u001b[38;5;241m7762\u001b[39m, \u001b[38;5;241m2\u001b[39m], train_mask\u001b[38;5;241m=\u001b[39m[\u001b[38;5;241m7762\u001b[39m], val_mask\u001b[38;5;241m=\u001b[39m[\u001b[38;5;241m7762\u001b[39m], test_mask\u001b[38;5;241m=\u001b[39m[\u001b[38;5;241m7762\u001b[39m]), Data(x\u001b[38;5;241m=\u001b[39m[\u001b[38;5;241m6950\u001b[39m, \u001b[38;5;241m2048\u001b[39m], edge_index\u001b[38;5;241m=\u001b[39m[\u001b[38;5;241m2\u001b[39m, \u001b[38;5;241m33088\u001b[39m], y\u001b[38;5;241m=\u001b[39m[\u001b[38;5;241m6950\u001b[39m], pos\u001b[38;5;241m=\u001b[39m[\u001b[38;5;241m6950\u001b[39m, \u001b[38;5;241m2\u001b[39m], train_mask\u001b[38;5;241m=\u001b[39m[\u001b[38;5;241m6950\u001b[39m], val_mask\u001b[38;5;241m=\u001b[39m[\u001b[38;5;241m6950\u001b[39m], test_mask\u001b[38;5;241m=\u001b[39m[\u001b[38;5;241m6950\u001b[39m])], \u001b[38;5;124m'\u001b[39m\u001b[38;5;124mval\u001b[39m\u001b[38;5;124m'\u001b[39m: [Data(x\u001b[38;5;241m=\u001b[39m[\u001b[38;5;241m7887\u001b[39m, \u001b[38;5;241m2048\u001b[39m], edge_index\u001b[38;5;241m=\u001b[39m[\u001b[38;5;241m2\u001b[39m, \u001b[38;5;241m38045\u001b[39m], y\u001b[38;5;241m=\u001b[39m[\u001b[38;5;241m7887\u001b[39m], pos\u001b[38;5;241m=\u001b[39m[\u001b[38;5;241m7887\u001b[39m, \u001b[38;5;241m2\u001b[39m], train_mask\u001b[38;5;241m=\u001b[39m[\u001b[38;5;241m7887\u001b[39m], val_mask\u001b[38;5;241m=\u001b[39m[\u001b[38;5;241m7887\u001b[39m], test_mask\u001b[38;5;241m=\u001b[39m[\u001b[38;5;241m7887\u001b[39m])]}, \u001b[38;5;124m'\u001b[39m\u001b[38;5;124m364_A4b_ASAP_tumor_map\u001b[39m\u001b[38;5;124m'\u001b[39m:{\u001b[38;5;124m'\u001b[39m\u001b[38;5;124mtrain\u001b[39m\u001b[38;5;124m'\u001b[39m: [Data(x\u001b[38;5;241m=\u001b[39m[\u001b[38;5;241m7567\u001b[39m, \u001b[38;5;241m2048\u001b[39m], edge_index\u001b[38;5;241m=\u001b[39m[\u001b[38;5;241m2\u001b[39m, \u001b[38;5;241m36695\u001b[39m], y\u001b[38;5;241m=\u001b[39m[\u001b[38;5;241m7567\u001b[39m], pos\u001b[38;5;241m=\u001b[39m[\u001b[38;5;241m7567\u001b[39m, \u001b[38;5;241m2\u001b[39m], train_mask\u001b[38;5;241m=\u001b[39m[\u001b[38;5;241m7567\u001b[39m], val_mask\u001b[38;5;241m=\u001b[39m[\u001b[38;5;241m7567\u001b[39m], test_mask\u001b[38;5;241m=\u001b[39m[\u001b[38;5;241m7567\u001b[39m]), Data(x\u001b[38;5;241m=\u001b[39m[\u001b[38;5;241m6416\u001b[39m, \u001b[38;5;241m2048\u001b[39m], edge_index\u001b[38;5;241m=\u001b[39m[\u001b[38;5;241m2\u001b[39m, \u001b[38;5;241m30756\u001b[39m], y\u001b[38;5;241m=\u001b[39m[\u001b[38;5;241m6416\u001b[39m], pos\u001b[38;5;241m=\u001b[39m[\u001b[38;5;241m6416\u001b[39m, \u001b[38;5;241m2\u001b[39m], train_mask\u001b[38;5;241m=\u001b[39m[\u001b[38;5;241m6416\u001b[39m], val_mask\u001b[38;5;241m=\u001b[39m[\u001b[38;5;241m6416\u001b[39m], test_mask\u001b[38;5;241m=\u001b[39m[\u001b[38;5;241m6416\u001b[39m])], \u001b[38;5;124m'\u001b[39m\u001b[38;5;124mval\u001b[39m\u001b[38;5;124m'\u001b[39m: [Data(x\u001b[38;5;241m=\u001b[39m[\u001b[38;5;241m8013\u001b[39m, \u001b[38;5;241m2048\u001b[39m], edge_index\u001b[38;5;241m=\u001b[39m[\u001b[38;5;241m2\u001b[39m, \u001b[38;5;241m38809\u001b[39m], y\u001b[38;5;241m=\u001b[39m[\u001b[38;5;241m8013\u001b[39m], pos\u001b[38;5;241m=\u001b[39m[\u001b[38;5;241m8013\u001b[39m, \u001b[38;5;241m2\u001b[39m], train_mask\u001b[38;5;241m=\u001b[39m[\u001b[38;5;241m8013\u001b[39m], val_mask\u001b[38;5;241m=\u001b[39m[\u001b[38;5;241m8013\u001b[39m], test_mask\u001b[38;5;241m=\u001b[39m[\u001b[38;5;241m8013\u001b[39m])]}, \u001b[38;5;124m'\u001b[39m\u001b[38;5;124m365_A1b_ASAP_tumor_map\u001b[39m\u001b[38;5;124m'\u001b[39m:{\u001b[38;5;124m'\u001b[39m\u001b[38;5;124mtrain\u001b[39m\u001b[38;5;124m'\u001b[39m: [Data(x\u001b[38;5;241m=\u001b[39m[\u001b[38;5;241m6347\u001b[39m, \u001b[38;5;241m2048\u001b[39m], edge_index\u001b[38;5;241m=\u001b[39m[\u001b[38;5;241m2\u001b[39m, \u001b[38;5;241m31109\u001b[39m], y\u001b[38;5;241m=\u001b[39m[\u001b[38;5;241m6347\u001b[39m], pos\u001b[38;5;241m=\u001b[39m[\u001b[38;5;241m6347\u001b[39m, \u001b[38;5;241m2\u001b[39m], train_mask\u001b[38;5;241m=\u001b[39m[\u001b[38;5;241m6347\u001b[39m], val_mask\u001b[38;5;241m=\u001b[39m[\u001b[38;5;241m6347\u001b[39m], test_mask\u001b[38;5;241m=\u001b[39m[\u001b[38;5;241m6347\u001b[39m]), Data(x\u001b[38;5;241m=\u001b[39m[\u001b[38;5;241m186\u001b[39m, \u001b[38;5;241m2048\u001b[39m], edge_index\u001b[38;5;241m=\u001b[39m[\u001b[38;5;241m2\u001b[39m, \u001b[38;5;241m812\u001b[39m], y\u001b[38;5;241m=\u001b[39m[\u001b[38;5;241m186\u001b[39m], pos\u001b[38;5;241m=\u001b[39m[\u001b[38;5;241m186\u001b[39m, \u001b[38;5;241m2\u001b[39m], train_mask\u001b[38;5;241m=\u001b[39m[\u001b[38;5;241m186\u001b[39m], val_mask\u001b[38;5;241m=\u001b[39m[\u001b[38;5;241m186\u001b[39m], test_mask\u001b[38;5;241m=\u001b[39m[\u001b[38;5;241m186\u001b[39m]), Data(x\u001b[38;5;241m=\u001b[39m[\u001b[38;5;241m6236\u001b[39m, \u001b[38;5;241m2048\u001b[39m], edge_index\u001b[38;5;241m=\u001b[39m[\u001b[38;5;241m2\u001b[39m, \u001b[38;5;241m30544\u001b[39m], y\u001b[38;5;241m=\u001b[39m[\u001b[38;5;241m6236\u001b[39m], pos\u001b[38;5;241m=\u001b[39m[\u001b[38;5;241m6236\u001b[39m, \u001b[38;5;241m2\u001b[39m], train_mask\u001b[38;5;241m=\u001b[39m[\u001b[38;5;241m6236\u001b[39m], val_mask\u001b[38;5;241m=\u001b[39m[\u001b[38;5;241m6236\u001b[39m], test_mask\u001b[38;5;241m=\u001b[39m[\u001b[38;5;241m6236\u001b[39m])], \u001b[38;5;124m'\u001b[39m\u001b[38;5;124mval\u001b[39m\u001b[38;5;124m'\u001b[39m: [Data(x\u001b[38;5;241m=\u001b[39m[\u001b[38;5;241m6763\u001b[39m, \u001b[38;5;241m2048\u001b[39m], edge_index\u001b[38;5;241m=\u001b[39m[\u001b[38;5;241m2\u001b[39m, \u001b[38;5;241m33205\u001b[39m], y\u001b[38;5;241m=\u001b[39m[\u001b[38;5;241m6763\u001b[39m], pos\u001b[38;5;241m=\u001b[39m[\u001b[38;5;241m6763\u001b[39m, \u001b[38;5;241m2\u001b[39m], train_mask\u001b[38;5;241m=\u001b[39m[\u001b[38;5;241m6763\u001b[39m], val_mask\u001b[38;5;241m=\u001b[39m[\u001b[38;5;241m6763\u001b[39m], test_mask\u001b[38;5;241m=\u001b[39m[\u001b[38;5;241m6763\u001b[39m])]}, \u001b[38;5;124m'\u001b[39m\u001b[38;5;124m365_A2b_ASAP_tumor_map\u001b[39m\u001b[38;5;124m'\u001b[39m:{\u001b[38;5;124m'\u001b[39m\u001b[38;5;124mtrain\u001b[39m\u001b[38;5;124m'\u001b[39m: [Data(x\u001b[38;5;241m=\u001b[39m[\u001b[38;5;241m6896\u001b[39m, \u001b[38;5;241m2048\u001b[39m], edge_index\u001b[38;5;241m=\u001b[39m[\u001b[38;5;241m2\u001b[39m, \u001b[38;5;241m33746\u001b[39m], y\u001b[38;5;241m=\u001b[39m[\u001b[38;5;241m6896\u001b[39m], pos\u001b[38;5;241m=\u001b[39m[\u001b[38;5;241m6896\u001b[39m, \u001b[38;5;241m2\u001b[39m], train_mask\u001b[38;5;241m=\u001b[39m[\u001b[38;5;241m6896\u001b[39m], val_mask\u001b[38;5;241m=\u001b[39m[\u001b[38;5;241m6896\u001b[39m], test_mask\u001b[38;5;241m=\u001b[39m[\u001b[38;5;241m6896\u001b[39m]), Data(x\u001b[38;5;241m=\u001b[39m[\u001b[38;5;241m5952\u001b[39m, \u001b[38;5;241m2048\u001b[39m], edge_index\u001b[38;5;241m=\u001b[39m[\u001b[38;5;241m2\u001b[39m, \u001b[38;5;241m29198\u001b[39m], y\u001b[38;5;241m=\u001b[39m[\u001b[38;5;241m5952\u001b[39m], pos\u001b[38;5;241m=\u001b[39m[\u001b[38;5;241m5952\u001b[39m, \u001b[38;5;241m2\u001b[39m], train_mask\u001b[38;5;241m=\u001b[39m[\u001b[38;5;241m5952\u001b[39m], val_mask\u001b[38;5;241m=\u001b[39m[\u001b[38;5;241m5952\u001b[39m], test_mask\u001b[38;5;241m=\u001b[39m[\u001b[38;5;241m5952\u001b[39m])], \u001b[38;5;124m'\u001b[39m\u001b[38;5;124mval\u001b[39m\u001b[38;5;124m'\u001b[39m: [Data(x\u001b[38;5;241m=\u001b[39m[\u001b[38;5;241m5449\u001b[39m, \u001b[38;5;241m2048\u001b[39m], edge_index\u001b[38;5;241m=\u001b[39m[\u001b[38;5;241m2\u001b[39m, \u001b[38;5;241m26585\u001b[39m], y\u001b[38;5;241m=\u001b[39m[\u001b[38;5;241m5449\u001b[39m], pos\u001b[38;5;241m=\u001b[39m[\u001b[38;5;241m5449\u001b[39m, \u001b[38;5;241m2\u001b[39m], train_mask\u001b[38;5;241m=\u001b[39m[\u001b[38;5;241m5449\u001b[39m], val_mask\u001b[38;5;241m=\u001b[39m[\u001b[38;5;241m5449\u001b[39m], test_mask\u001b[38;5;241m=\u001b[39m[\u001b[38;5;241m5449\u001b[39m])]}, \u001b[38;5;124m'\u001b[39m\u001b[38;5;124m366_A1a_ASAP_tumor_map\u001b[39m\u001b[38;5;124m'\u001b[39m:{\u001b[38;5;124m'\u001b[39m\u001b[38;5;124mtrain\u001b[39m\u001b[38;5;124m'\u001b[39m: [Data(x\u001b[38;5;241m=\u001b[39m[\u001b[38;5;241m7163\u001b[39m, \u001b[38;5;241m2048\u001b[39m], edge_index\u001b[38;5;241m=\u001b[39m[\u001b[38;5;241m2\u001b[39m, \u001b[38;5;241m34633\u001b[39m], y\u001b[38;5;241m=\u001b[39m[\u001b[38;5;241m7163\u001b[39m], pos\u001b[38;5;241m=\u001b[39m[\u001b[38;5;241m7163\u001b[39m, \u001b[38;5;241m2\u001b[39m], train_mask\u001b[38;5;241m=\u001b[39m[\u001b[38;5;241m7163\u001b[39m], val_mask\u001b[38;5;241m=\u001b[39m[\u001b[38;5;241m7163\u001b[39m], test_mask\u001b[38;5;241m=\u001b[39m[\u001b[38;5;241m7163\u001b[39m])], \u001b[38;5;124m'\u001b[39m\u001b[38;5;124mval\u001b[39m\u001b[38;5;124m'\u001b[39m: [Data(x\u001b[38;5;241m=\u001b[39m[\u001b[38;5;241m6673\u001b[39m, \u001b[38;5;241m2048\u001b[39m], edge_index\u001b[38;5;241m=\u001b[39m[\u001b[38;5;241m2\u001b[39m, \u001b[38;5;241m32347\u001b[39m], y\u001b[38;5;241m=\u001b[39m[\u001b[38;5;241m6673\u001b[39m], pos\u001b[38;5;241m=\u001b[39m[\u001b[38;5;241m6673\u001b[39m, \u001b[38;5;241m2\u001b[39m], train_mask\u001b[38;5;241m=\u001b[39m[\u001b[38;5;241m6673\u001b[39m], val_mask\u001b[38;5;241m=\u001b[39m[\u001b[38;5;241m6673\u001b[39m], test_mask\u001b[38;5;241m=\u001b[39m[\u001b[38;5;241m6673\u001b[39m])]}, \u001b[38;5;124m'\u001b[39m\u001b[38;5;124m366_A1b_ASAP_tumor_map\u001b[39m\u001b[38;5;124m'\u001b[39m:{\u001b[38;5;124m'\u001b[39m\u001b[38;5;124mtrain\u001b[39m\u001b[38;5;124m'\u001b[39m: [Data(x\u001b[38;5;241m=\u001b[39m[\u001b[38;5;241m8481\u001b[39m, \u001b[38;5;241m2048\u001b[39m], edge_index\u001b[38;5;241m=\u001b[39m[\u001b[38;5;241m2\u001b[39m, \u001b[38;5;241m41449\u001b[39m], y\u001b[38;5;241m=\u001b[39m[\u001b[38;5;241m8481\u001b[39m], pos\u001b[38;5;241m=\u001b[39m[\u001b[38;5;241m8481\u001b[39m, \u001b[38;5;241m2\u001b[39m], train_mask\u001b[38;5;241m=\u001b[39m[\u001b[38;5;241m8481\u001b[39m], val_mask\u001b[38;5;241m=\u001b[39m[\u001b[38;5;241m8481\u001b[39m], test_mask\u001b[38;5;241m=\u001b[39m[\u001b[38;5;241m8481\u001b[39m])], \u001b[38;5;124m'\u001b[39m\u001b[38;5;124mval\u001b[39m\u001b[38;5;124m'\u001b[39m: [Data(x\u001b[38;5;241m=\u001b[39m[\u001b[38;5;241m8178\u001b[39m, \u001b[38;5;241m2048\u001b[39m], edge_index\u001b[38;5;241m=\u001b[39m[\u001b[38;5;241m2\u001b[39m, \u001b[38;5;241m39998\u001b[39m], y\u001b[38;5;241m=\u001b[39m[\u001b[38;5;241m8178\u001b[39m], pos\u001b[38;5;241m=\u001b[39m[\u001b[38;5;241m8178\u001b[39m, \u001b[38;5;241m2\u001b[39m], train_mask\u001b[38;5;241m=\u001b[39m[\u001b[38;5;241m8178\u001b[39m], val_mask\u001b[38;5;241m=\u001b[39m[\u001b[38;5;241m8178\u001b[39m], test_mask\u001b[38;5;241m=\u001b[39m[\u001b[38;5;241m8178\u001b[39m])]}, \u001b[38;5;124m'\u001b[39m\u001b[38;5;124m366_A1c_ASAP_tumor_map\u001b[39m\u001b[38;5;124m'\u001b[39m:{\u001b[38;5;124m'\u001b[39m\u001b[38;5;124mtrain\u001b[39m\u001b[38;5;124m'\u001b[39m: [Data(x\u001b[38;5;241m=\u001b[39m[\u001b[38;5;241m8477\u001b[39m, \u001b[38;5;241m2048\u001b[39m], edge_index\u001b[38;5;241m=\u001b[39m[\u001b[38;5;241m2\u001b[39m, \u001b[38;5;241m41553\u001b[39m], y\u001b[38;5;241m=\u001b[39m[\u001b[38;5;241m8477\u001b[39m], pos\u001b[38;5;241m=\u001b[39m[\u001b[38;5;241m8477\u001b[39m, \u001b[38;5;241m2\u001b[39m], train_mask\u001b[38;5;241m=\u001b[39m[\u001b[38;5;241m8477\u001b[39m], val_mask\u001b[38;5;241m=\u001b[39m[\u001b[38;5;241m8477\u001b[39m], test_mask\u001b[38;5;241m=\u001b[39m[\u001b[38;5;241m8477\u001b[39m])], \u001b[38;5;124m'\u001b[39m\u001b[38;5;124mval\u001b[39m\u001b[38;5;124m'\u001b[39m: [Data(x\u001b[38;5;241m=\u001b[39m[\u001b[38;5;241m8539\u001b[39m, \u001b[38;5;241m2048\u001b[39m], edge_index\u001b[38;5;241m=\u001b[39m[\u001b[38;5;241m2\u001b[39m, \u001b[38;5;241m41785\u001b[39m], y\u001b[38;5;241m=\u001b[39m[\u001b[38;5;241m8539\u001b[39m], pos\u001b[38;5;241m=\u001b[39m[\u001b[38;5;241m8539\u001b[39m, \u001b[38;5;241m2\u001b[39m], train_mask\u001b[38;5;241m=\u001b[39m[\u001b[38;5;241m8539\u001b[39m], val_mask\u001b[38;5;241m=\u001b[39m[\u001b[38;5;241m8539\u001b[39m], test_mask\u001b[38;5;241m=\u001b[39m[\u001b[38;5;241m8539\u001b[39m])]}, \u001b[38;5;124m'\u001b[39m\u001b[38;5;124m367_A2b_ASAP_tumor_map\u001b[39m\u001b[38;5;124m'\u001b[39m:{\u001b[38;5;124m'\u001b[39m\u001b[38;5;124mtrain\u001b[39m\u001b[38;5;124m'\u001b[39m: [Data(x\u001b[38;5;241m=\u001b[39m[\u001b[38;5;241m2290\u001b[39m, \u001b[38;5;241m2048\u001b[39m], edge_index\u001b[38;5;241m=\u001b[39m[\u001b[38;5;241m2\u001b[39m, \u001b[38;5;241m11108\u001b[39m], y\u001b[38;5;241m=\u001b[39m[\u001b[38;5;241m2290\u001b[39m], pos\u001b[38;5;241m=\u001b[39m[\u001b[38;5;241m2290\u001b[39m, \u001b[38;5;241m2\u001b[39m], train_mask\u001b[38;5;241m=\u001b[39m[\u001b[38;5;241m2290\u001b[39m], val_mask\u001b[38;5;241m=\u001b[39m[\u001b[38;5;241m2290\u001b[39m], test_mask\u001b[38;5;241m=\u001b[39m[\u001b[38;5;241m2290\u001b[39m]), Data(x\u001b[38;5;241m=\u001b[39m[\u001b[38;5;241m2311\u001b[39m, \u001b[38;5;241m2048\u001b[39m], edge_index\u001b[38;5;241m=\u001b[39m[\u001b[38;5;241m2\u001b[39m, \u001b[38;5;241m11239\u001b[39m], y\u001b[38;5;241m=\u001b[39m[\u001b[38;5;241m2311\u001b[39m], pos\u001b[38;5;241m=\u001b[39m[\u001b[38;5;241m2311\u001b[39m, \u001b[38;5;241m2\u001b[39m], train_mask\u001b[38;5;241m=\u001b[39m[\u001b[38;5;241m2311\u001b[39m], val_mask\u001b[38;5;241m=\u001b[39m[\u001b[38;5;241m2311\u001b[39m], test_mask\u001b[38;5;241m=\u001b[39m[\u001b[38;5;241m2311\u001b[39m]), Data(x\u001b[38;5;241m=\u001b[39m[\u001b[38;5;241m2053\u001b[39m, \u001b[38;5;241m2048\u001b[39m], edge_index\u001b[38;5;241m=\u001b[39m[\u001b[38;5;241m2\u001b[39m, \u001b[38;5;241m10031\u001b[39m], y\u001b[38;5;241m=\u001b[39m[\u001b[38;5;241m2053\u001b[39m], pos\u001b[38;5;241m=\u001b[39m[\u001b[38;5;241m2053\u001b[39m, \u001b[38;5;241m2\u001b[39m], train_mask\u001b[38;5;241m=\u001b[39m[\u001b[38;5;241m2053\u001b[39m], val_mask\u001b[38;5;241m=\u001b[39m[\u001b[38;5;241m2053\u001b[39m], test_mask\u001b[38;5;241m=\u001b[39m[\u001b[38;5;241m2053\u001b[39m]), Data(x\u001b[38;5;241m=\u001b[39m[\u001b[38;5;241m2518\u001b[39m, \u001b[38;5;241m2048\u001b[39m], edge_index\u001b[38;5;241m=\u001b[39m[\u001b[38;5;241m2\u001b[39m, \u001b[38;5;241m12228\u001b[39m], y\u001b[38;5;241m=\u001b[39m[\u001b[38;5;241m2518\u001b[39m], pos\u001b[38;5;241m=\u001b[39m[\u001b[38;5;241m2518\u001b[39m, \u001b[38;5;241m2\u001b[39m], train_mask\u001b[38;5;241m=\u001b[39m[\u001b[38;5;241m2518\u001b[39m], val_mask\u001b[38;5;241m=\u001b[39m[\u001b[38;5;241m2518\u001b[39m], test_mask\u001b[38;5;241m=\u001b[39m[\u001b[38;5;241m2518\u001b[39m])], \u001b[38;5;124m'\u001b[39m\u001b[38;5;124mval\u001b[39m\u001b[38;5;124m'\u001b[39m: [Data(x\u001b[38;5;241m=\u001b[39m[\u001b[38;5;241m2000\u001b[39m, \u001b[38;5;241m2048\u001b[39m], edge_index\u001b[38;5;241m=\u001b[39m[\u001b[38;5;241m2\u001b[39m, \u001b[38;5;241m9724\u001b[39m], y\u001b[38;5;241m=\u001b[39m[\u001b[38;5;241m2000\u001b[39m], pos\u001b[38;5;241m=\u001b[39m[\u001b[38;5;241m2000\u001b[39m, \u001b[38;5;241m2\u001b[39m], train_mask\u001b[38;5;241m=\u001b[39m[\u001b[38;5;241m2000\u001b[39m], val_mask\u001b[38;5;241m=\u001b[39m[\u001b[38;5;241m2000\u001b[39m], test_mask\u001b[38;5;241m=\u001b[39m[\u001b[38;5;241m2000\u001b[39m])]}, \u001b[38;5;124m'\u001b[39m\u001b[38;5;124m368_A1b_ASAP_tumor_map\u001b[39m\u001b[38;5;124m'\u001b[39m:{\u001b[38;5;124m'\u001b[39m\u001b[38;5;124mtrain\u001b[39m\u001b[38;5;124m'\u001b[39m: [Data(x\u001b[38;5;241m=\u001b[39m[\u001b[38;5;241m14939\u001b[39m, \u001b[38;5;241m2048\u001b[39m], edge_index\u001b[38;5;241m=\u001b[39m[\u001b[38;5;241m2\u001b[39m, \u001b[38;5;241m73293\u001b[39m], y\u001b[38;5;241m=\u001b[39m[\u001b[38;5;241m14939\u001b[39m], pos\u001b[38;5;241m=\u001b[39m[\u001b[38;5;241m14939\u001b[39m, \u001b[38;5;241m2\u001b[39m], train_mask\u001b[38;5;241m=\u001b[39m[\u001b[38;5;241m14939\u001b[39m], val_mask\u001b[38;5;241m=\u001b[39m[\u001b[38;5;241m14939\u001b[39m], test_mask\u001b[38;5;241m=\u001b[39m[\u001b[38;5;241m14939\u001b[39m])], \u001b[38;5;124m'\u001b[39m\u001b[38;5;124mval\u001b[39m\u001b[38;5;124m'\u001b[39m: [Data(x\u001b[38;5;241m=\u001b[39m[\u001b[38;5;241m14068\u001b[39m, \u001b[38;5;241m2048\u001b[39m], edge_index\u001b[38;5;241m=\u001b[39m[\u001b[38;5;241m2\u001b[39m, \u001b[38;5;241m68870\u001b[39m], y\u001b[38;5;241m=\u001b[39m[\u001b[38;5;241m14068\u001b[39m], pos\u001b[38;5;241m=\u001b[39m[\u001b[38;5;241m14068\u001b[39m, \u001b[38;5;241m2\u001b[39m], train_mask\u001b[38;5;241m=\u001b[39m[\u001b[38;5;241m14068\u001b[39m], val_mask\u001b[38;5;241m=\u001b[39m[\u001b[38;5;241m14068\u001b[39m], test_mask\u001b[38;5;241m=\u001b[39m[\u001b[38;5;241m14068\u001b[39m])]}, \u001b[38;5;124m'\u001b[39m\u001b[38;5;124m368_A1c_ASAP_tumor_map\u001b[39m\u001b[38;5;124m'\u001b[39m:{\u001b[38;5;124m'\u001b[39m\u001b[38;5;124mtrain\u001b[39m\u001b[38;5;124m'\u001b[39m: [Data(x\u001b[38;5;241m=\u001b[39m[\u001b[38;5;241m16135\u001b[39m, \u001b[38;5;241m2048\u001b[39m], edge_index\u001b[38;5;241m=\u001b[39m[\u001b[38;5;241m2\u001b[39m, \u001b[38;5;241m79453\u001b[39m], y\u001b[38;5;241m=\u001b[39m[\u001b[38;5;241m16135\u001b[39m], pos\u001b[38;5;241m=\u001b[39m[\u001b[38;5;241m16135\u001b[39m, \u001b[38;5;241m2\u001b[39m], train_mask\u001b[38;5;241m=\u001b[39m[\u001b[38;5;241m16135\u001b[39m], val_mask\u001b[38;5;241m=\u001b[39m[\u001b[38;5;241m16135\u001b[39m], test_mask\u001b[38;5;241m=\u001b[39m[\u001b[38;5;241m16135\u001b[39m])], \u001b[38;5;124m'\u001b[39m\u001b[38;5;124mval\u001b[39m\u001b[38;5;124m'\u001b[39m: [Data(x\u001b[38;5;241m=\u001b[39m[\u001b[38;5;241m15735\u001b[39m, \u001b[38;5;241m2048\u001b[39m], edge_index\u001b[38;5;241m=\u001b[39m[\u001b[38;5;241m2\u001b[39m, \u001b[38;5;241m76983\u001b[39m], y\u001b[38;5;241m=\u001b[39m[\u001b[38;5;241m15735\u001b[39m], pos\u001b[38;5;241m=\u001b[39m[\u001b[38;5;241m15735\u001b[39m, \u001b[38;5;241m2\u001b[39m], train_mask\u001b[38;5;241m=\u001b[39m[\u001b[38;5;241m15735\u001b[39m], val_mask\u001b[38;5;241m=\u001b[39m[\u001b[38;5;241m15735\u001b[39m], test_mask\u001b[38;5;241m=\u001b[39m[\u001b[38;5;241m15735\u001b[39m])]}, \u001b[38;5;124m'\u001b[39m\u001b[38;5;124m368_A1d_ASAP_tumor_map\u001b[39m\u001b[38;5;124m'\u001b[39m:{\u001b[38;5;124m'\u001b[39m\u001b[38;5;124mtrain\u001b[39m\u001b[38;5;124m'\u001b[39m: [Data(x\u001b[38;5;241m=\u001b[39m[\u001b[38;5;241m17493\u001b[39m, \u001b[38;5;241m2048\u001b[39m], edge_index\u001b[38;5;241m=\u001b[39m[\u001b[38;5;241m2\u001b[39m, \u001b[38;5;241m86455\u001b[39m], y\u001b[38;5;241m=\u001b[39m[\u001b[38;5;241m17493\u001b[39m], pos\u001b[38;5;241m=\u001b[39m[\u001b[38;5;241m17493\u001b[39m, \u001b[38;5;241m2\u001b[39m], train_mask\u001b[38;5;241m=\u001b[39m[\u001b[38;5;241m17493\u001b[39m], val_mask\u001b[38;5;241m=\u001b[39m[\u001b[38;5;241m17493\u001b[39m], test_mask\u001b[38;5;241m=\u001b[39m[\u001b[38;5;241m17493\u001b[39m])], \u001b[38;5;124m'\u001b[39m\u001b[38;5;124mval\u001b[39m\u001b[38;5;124m'\u001b[39m: [Data(x\u001b[38;5;241m=\u001b[39m[\u001b[38;5;241m16641\u001b[39m, \u001b[38;5;241m2048\u001b[39m], edge_index\u001b[38;5;241m=\u001b[39m[\u001b[38;5;241m2\u001b[39m, \u001b[38;5;241m81905\u001b[39m], y\u001b[38;5;241m=\u001b[39m[\u001b[38;5;241m16641\u001b[39m], pos\u001b[38;5;241m=\u001b[39m[\u001b[38;5;241m16641\u001b[39m, \u001b[38;5;241m2\u001b[39m], train_mask\u001b[38;5;241m=\u001b[39m[\u001b[38;5;241m16641\u001b[39m], val_mask\u001b[38;5;241m=\u001b[39m[\u001b[38;5;241m16641\u001b[39m], test_mask\u001b[38;5;241m=\u001b[39m[\u001b[38;5;241m16641\u001b[39m])]}, \u001b[38;5;124m'\u001b[39m\u001b[38;5;124m369_A1b_ASAP_tumor_map\u001b[39m\u001b[38;5;124m'\u001b[39m:{\u001b[38;5;124m'\u001b[39m\u001b[38;5;124mtrain\u001b[39m\u001b[38;5;124m'\u001b[39m: [Data(x\u001b[38;5;241m=\u001b[39m[\u001b[38;5;241m4862\u001b[39m, \u001b[38;5;241m2048\u001b[39m], edge_index\u001b[38;5;241m=\u001b[39m[\u001b[38;5;241m2\u001b[39m, \u001b[38;5;241m23662\u001b[39m], y\u001b[38;5;241m=\u001b[39m[\u001b[38;5;241m4862\u001b[39m], pos\u001b[38;5;241m=\u001b[39m[\u001b[38;5;241m4862\u001b[39m, \u001b[38;5;241m2\u001b[39m], train_mask\u001b[38;5;241m=\u001b[39m[\u001b[38;5;241m4862\u001b[39m], val_mask\u001b[38;5;241m=\u001b[39m[\u001b[38;5;241m4862\u001b[39m], test_mask\u001b[38;5;241m=\u001b[39m[\u001b[38;5;241m4862\u001b[39m]), Data(x\u001b[38;5;241m=\u001b[39m[\u001b[38;5;241m5344\u001b[39m, \u001b[38;5;241m2048\u001b[39m], edge_index\u001b[38;5;241m=\u001b[39m[\u001b[38;5;241m2\u001b[39m, \u001b[38;5;241m26102\u001b[39m], y\u001b[38;5;241m=\u001b[39m[\u001b[38;5;241m5344\u001b[39m], pos\u001b[38;5;241m=\u001b[39m[\u001b[38;5;241m5344\u001b[39m, \u001b[38;5;241m2\u001b[39m], train_mask\u001b[38;5;241m=\u001b[39m[\u001b[38;5;241m5344\u001b[39m], val_mask\u001b[38;5;241m=\u001b[39m[\u001b[38;5;241m5344\u001b[39m], test_mask\u001b[38;5;241m=\u001b[39m[\u001b[38;5;241m5344\u001b[39m])], \u001b[38;5;124m'\u001b[39m\u001b[38;5;124mval\u001b[39m\u001b[38;5;124m'\u001b[39m: [Data(x\u001b[38;5;241m=\u001b[39m[\u001b[38;5;241m4344\u001b[39m, \u001b[38;5;241m2048\u001b[39m], edge_index\u001b[38;5;241m=\u001b[39m[\u001b[38;5;241m2\u001b[39m, \u001b[38;5;241m21160\u001b[39m], y\u001b[38;5;241m=\u001b[39m[\u001b[38;5;241m4344\u001b[39m], pos\u001b[38;5;241m=\u001b[39m[\u001b[38;5;241m4344\u001b[39m, \u001b[38;5;241m2\u001b[39m], train_mask\u001b[38;5;241m=\u001b[39m[\u001b[38;5;241m4344\u001b[39m], val_mask\u001b[38;5;241m=\u001b[39m[\u001b[38;5;241m4344\u001b[39m], test_mask\u001b[38;5;241m=\u001b[39m[\u001b[38;5;241m4344\u001b[39m])]}, \u001b[38;5;124m'\u001b[39m\u001b[38;5;124m369_A1c_ASAP_tumor_map\u001b[39m\u001b[38;5;124m'\u001b[39m:{\u001b[38;5;124m'\u001b[39m\u001b[38;5;124mtrain\u001b[39m\u001b[38;5;124m'\u001b[39m: [Data(x\u001b[38;5;241m=\u001b[39m[\u001b[38;5;241m3579\u001b[39m, \u001b[38;5;241m2048\u001b[39m], edge_index\u001b[38;5;241m=\u001b[39m[\u001b[38;5;241m2\u001b[39m, \u001b[38;5;241m17421\u001b[39m], y\u001b[38;5;241m=\u001b[39m[\u001b[38;5;241m3579\u001b[39m], pos\u001b[38;5;241m=\u001b[39m[\u001b[38;5;241m3579\u001b[39m, \u001b[38;5;241m2\u001b[39m], train_mask\u001b[38;5;241m=\u001b[39m[\u001b[38;5;241m3579\u001b[39m], val_mask\u001b[38;5;241m=\u001b[39m[\u001b[38;5;241m3579\u001b[39m], test_mask\u001b[38;5;241m=\u001b[39m[\u001b[38;5;241m3579\u001b[39m]), Data(x\u001b[38;5;241m=\u001b[39m[\u001b[38;5;241m2806\u001b[39m, \u001b[38;5;241m2048\u001b[39m], edge_index\u001b[38;5;241m=\u001b[39m[\u001b[38;5;241m2\u001b[39m, \u001b[38;5;241m13668\u001b[39m], y\u001b[38;5;241m=\u001b[39m[\u001b[38;5;241m2806\u001b[39m], pos\u001b[38;5;241m=\u001b[39m[\u001b[38;5;241m2806\u001b[39m, \u001b[38;5;241m2\u001b[39m], train_mask\u001b[38;5;241m=\u001b[39m[\u001b[38;5;241m2806\u001b[39m], val_mask\u001b[38;5;241m=\u001b[39m[\u001b[38;5;241m2806\u001b[39m], test_mask\u001b[38;5;241m=\u001b[39m[\u001b[38;5;241m2806\u001b[39m]), Data(x\u001b[38;5;241m=\u001b[39m[\u001b[38;5;241m3465\u001b[39m, \u001b[38;5;241m2048\u001b[39m], edge_index\u001b[38;5;241m=\u001b[39m[\u001b[38;5;241m2\u001b[39m, \u001b[38;5;241m16751\u001b[39m], y\u001b[38;5;241m=\u001b[39m[\u001b[38;5;241m3465\u001b[39m], pos\u001b[38;5;241m=\u001b[39m[\u001b[38;5;241m3465\u001b[39m, \u001b[38;5;241m2\u001b[39m], train_mask\u001b[38;5;241m=\u001b[39m[\u001b[38;5;241m3465\u001b[39m], val_mask\u001b[38;5;241m=\u001b[39m[\u001b[38;5;241m3465\u001b[39m], test_mask\u001b[38;5;241m=\u001b[39m[\u001b[38;5;241m3465\u001b[39m])], \u001b[38;5;124m'\u001b[39m\u001b[38;5;124mval\u001b[39m\u001b[38;5;124m'\u001b[39m: [Data(x\u001b[38;5;241m=\u001b[39m[\u001b[38;5;241m3144\u001b[39m, \u001b[38;5;241m2048\u001b[39m], edge_index\u001b[38;5;241m=\u001b[39m[\u001b[38;5;241m2\u001b[39m, \u001b[38;5;241m15240\u001b[39m], y\u001b[38;5;241m=\u001b[39m[\u001b[38;5;241m3144\u001b[39m], pos\u001b[38;5;241m=\u001b[39m[\u001b[38;5;241m3144\u001b[39m, \u001b[38;5;241m2\u001b[39m], train_mask\u001b[38;5;241m=\u001b[39m[\u001b[38;5;241m3144\u001b[39m], val_mask\u001b[38;5;241m=\u001b[39m[\u001b[38;5;241m3144\u001b[39m], test_mask\u001b[38;5;241m=\u001b[39m[\u001b[38;5;241m3144\u001b[39m])]}, \u001b[38;5;124m'\u001b[39m\u001b[38;5;124m369_A2b_ASAP_tumor_map\u001b[39m\u001b[38;5;124m'\u001b[39m:{\u001b[38;5;124m'\u001b[39m\u001b[38;5;124mtrain\u001b[39m\u001b[38;5;124m'\u001b[39m: [Data(x\u001b[38;5;241m=\u001b[39m[\u001b[38;5;241m3510\u001b[39m, \u001b[38;5;241m2048\u001b[39m], edge_index\u001b[38;5;241m=\u001b[39m[\u001b[38;5;241m2\u001b[39m, \u001b[38;5;241m17166\u001b[39m], y\u001b[38;5;241m=\u001b[39m[\u001b[38;5;241m3510\u001b[39m], pos\u001b[38;5;241m=\u001b[39m[\u001b[38;5;241m3510\u001b[39m, \u001b[38;5;241m2\u001b[39m], train_mask\u001b[38;5;241m=\u001b[39m[\u001b[38;5;241m3510\u001b[39m], val_mask\u001b[38;5;241m=\u001b[39m[\u001b[38;5;241m3510\u001b[39m], test_mask\u001b[38;5;241m=\u001b[39m[\u001b[38;5;241m3510\u001b[39m]), Data(x\u001b[38;5;241m=\u001b[39m[\u001b[38;5;241m3861\u001b[39m, \u001b[38;5;241m2048\u001b[39m], edge_index\u001b[38;5;241m=\u001b[39m[\u001b[38;5;241m2\u001b[39m, \u001b[38;5;241m18849\u001b[39m], y\u001b[38;5;241m=\u001b[39m[\u001b[38;5;241m3861\u001b[39m], pos\u001b[38;5;241m=\u001b[39m[\u001b[38;5;241m3861\u001b[39m, \u001b[38;5;241m2\u001b[39m], train_mask\u001b[38;5;241m=\u001b[39m[\u001b[38;5;241m3861\u001b[39m], val_mask\u001b[38;5;241m=\u001b[39m[\u001b[38;5;241m3861\u001b[39m], test_mask\u001b[38;5;241m=\u001b[39m[\u001b[38;5;241m3861\u001b[39m]), Data(x\u001b[38;5;241m=\u001b[39m[\u001b[38;5;241m1230\u001b[39m, \u001b[38;5;241m2048\u001b[39m], edge_index\u001b[38;5;241m=\u001b[39m[\u001b[38;5;241m2\u001b[39m, \u001b[38;5;241m5880\u001b[39m], y\u001b[38;5;241m=\u001b[39m[\u001b[38;5;241m1230\u001b[39m], pos\u001b[38;5;241m=\u001b[39m[\u001b[38;5;241m1230\u001b[39m, \u001b[38;5;241m2\u001b[39m], train_mask\u001b[38;5;241m=\u001b[39m[\u001b[38;5;241m1230\u001b[39m], val_mask\u001b[38;5;241m=\u001b[39m[\u001b[38;5;241m1230\u001b[39m], test_mask\u001b[38;5;241m=\u001b[39m[\u001b[38;5;241m1230\u001b[39m]), Data(x\u001b[38;5;241m=\u001b[39m[\u001b[38;5;241m1299\u001b[39m, \u001b[38;5;241m2048\u001b[39m], edge_index\u001b[38;5;241m=\u001b[39m[\u001b[38;5;241m2\u001b[39m, \u001b[38;5;241m6165\u001b[39m], y\u001b[38;5;241m=\u001b[39m[\u001b[38;5;241m1299\u001b[39m], pos\u001b[38;5;241m=\u001b[39m[\u001b[38;5;241m1299\u001b[39m, \u001b[38;5;241m2\u001b[39m], train_mask\u001b[38;5;241m=\u001b[39m[\u001b[38;5;241m1299\u001b[39m], val_mask\u001b[38;5;241m=\u001b[39m[\u001b[38;5;241m1299\u001b[39m], test_mask\u001b[38;5;241m=\u001b[39m[\u001b[38;5;241m1299\u001b[39m]), Data(x\u001b[38;5;241m=\u001b[39m[\u001b[38;5;241m3534\u001b[39m, \u001b[38;5;241m2048\u001b[39m], edge_index\u001b[38;5;241m=\u001b[39m[\u001b[38;5;241m2\u001b[39m, \u001b[38;5;241m17090\u001b[39m], y\u001b[38;5;241m=\u001b[39m[\u001b[38;5;241m3534\u001b[39m], pos\u001b[38;5;241m=\u001b[39m[\u001b[38;5;241m3534\u001b[39m, \u001b[38;5;241m2\u001b[39m], train_mask\u001b[38;5;241m=\u001b[39m[\u001b[38;5;241m3534\u001b[39m], val_mask\u001b[38;5;241m=\u001b[39m[\u001b[38;5;241m3534\u001b[39m], test_mask\u001b[38;5;241m=\u001b[39m[\u001b[38;5;241m3534\u001b[39m])], \u001b[38;5;124m'\u001b[39m\u001b[38;5;124mval\u001b[39m\u001b[38;5;124m'\u001b[39m: [Data(x\u001b[38;5;241m=\u001b[39m[\u001b[38;5;241m851\u001b[39m, \u001b[38;5;241m2048\u001b[39m], edge_index\u001b[38;5;241m=\u001b[39m[\u001b[38;5;241m2\u001b[39m, \u001b[38;5;241m4003\u001b[39m], y\u001b[38;5;241m=\u001b[39m[\u001b[38;5;241m851\u001b[39m], pos\u001b[38;5;241m=\u001b[39m[\u001b[38;5;241m851\u001b[39m, \u001b[38;5;241m2\u001b[39m], train_mask\u001b[38;5;241m=\u001b[39m[\u001b[38;5;241m851\u001b[39m], val_mask\u001b[38;5;241m=\u001b[39m[\u001b[38;5;241m851\u001b[39m], test_mask\u001b[38;5;241m=\u001b[39m[\u001b[38;5;241m851\u001b[39m])]}, \u001b[38;5;124m'\u001b[39m\u001b[38;5;124m370_A1b_ASAP_tumor_map\u001b[39m\u001b[38;5;124m'\u001b[39m:{\u001b[38;5;124m'\u001b[39m\u001b[38;5;124mtrain\u001b[39m\u001b[38;5;124m'\u001b[39m: [Data(x\u001b[38;5;241m=\u001b[39m[\u001b[38;5;241m3522\u001b[39m, \u001b[38;5;241m2048\u001b[39m], edge_index\u001b[38;5;241m=\u001b[39m[\u001b[38;5;241m2\u001b[39m, \u001b[38;5;241m17230\u001b[39m], y\u001b[38;5;241m=\u001b[39m[\u001b[38;5;241m3522\u001b[39m], pos\u001b[38;5;241m=\u001b[39m[\u001b[38;5;241m3522\u001b[39m, \u001b[38;5;241m2\u001b[39m], train_mask\u001b[38;5;241m=\u001b[39m[\u001b[38;5;241m3522\u001b[39m], val_mask\u001b[38;5;241m=\u001b[39m[\u001b[38;5;241m3522\u001b[39m], test_mask\u001b[38;5;241m=\u001b[39m[\u001b[38;5;241m3522\u001b[39m]), Data(x\u001b[38;5;241m=\u001b[39m[\u001b[38;5;241m3468\u001b[39m, \u001b[38;5;241m2048\u001b[39m], edge_index\u001b[38;5;241m=\u001b[39m[\u001b[38;5;241m2\u001b[39m, \u001b[38;5;241m16934\u001b[39m], y\u001b[38;5;241m=\u001b[39m[\u001b[38;5;241m3468\u001b[39m], pos\u001b[38;5;241m=\u001b[39m[\u001b[38;5;241m3468\u001b[39m, \u001b[38;5;241m2\u001b[39m], train_mask\u001b[38;5;241m=\u001b[39m[\u001b[38;5;241m3468\u001b[39m], val_mask\u001b[38;5;241m=\u001b[39m[\u001b[38;5;241m3468\u001b[39m], test_mask\u001b[38;5;241m=\u001b[39m[\u001b[38;5;241m3468\u001b[39m])], \u001b[38;5;124m'\u001b[39m\u001b[38;5;124mval\u001b[39m\u001b[38;5;124m'\u001b[39m: [Data(x\u001b[38;5;241m=\u001b[39m[\u001b[38;5;241m3362\u001b[39m, \u001b[38;5;241m2048\u001b[39m], edge_index\u001b[38;5;241m=\u001b[39m[\u001b[38;5;241m2\u001b[39m, \u001b[38;5;241m16446\u001b[39m], y\u001b[38;5;241m=\u001b[39m[\u001b[38;5;241m3362\u001b[39m], pos\u001b[38;5;241m=\u001b[39m[\u001b[38;5;241m3362\u001b[39m, \u001b[38;5;241m2\u001b[39m], train_mask\u001b[38;5;241m=\u001b[39m[\u001b[38;5;241m3362\u001b[39m], val_mask\u001b[38;5;241m=\u001b[39m[\u001b[38;5;241m3362\u001b[39m], test_mask\u001b[38;5;241m=\u001b[39m[\u001b[38;5;241m3362\u001b[39m])]}, \u001b[38;5;124m'\u001b[39m\u001b[38;5;124m370_A2a_ASAP_tumor_map\u001b[39m\u001b[38;5;124m'\u001b[39m:{\u001b[38;5;124m'\u001b[39m\u001b[38;5;124mtrain\u001b[39m\u001b[38;5;124m'\u001b[39m: [Data(x\u001b[38;5;241m=\u001b[39m[\u001b[38;5;241m3051\u001b[39m, \u001b[38;5;241m2048\u001b[39m], edge_index\u001b[38;5;241m=\u001b[39m[\u001b[38;5;241m2\u001b[39m, \u001b[38;5;241m14891\u001b[39m], y\u001b[38;5;241m=\u001b[39m[\u001b[38;5;241m3051\u001b[39m], pos\u001b[38;5;241m=\u001b[39m[\u001b[38;5;241m3051\u001b[39m, \u001b[38;5;241m2\u001b[39m], train_mask\u001b[38;5;241m=\u001b[39m[\u001b[38;5;241m3051\u001b[39m], val_mask\u001b[38;5;241m=\u001b[39m[\u001b[38;5;241m3051\u001b[39m], test_mask\u001b[38;5;241m=\u001b[39m[\u001b[38;5;241m3051\u001b[39m]), Data(x\u001b[38;5;241m=\u001b[39m[\u001b[38;5;241m2460\u001b[39m, \u001b[38;5;241m2048\u001b[39m], edge_index\u001b[38;5;241m=\u001b[39m[\u001b[38;5;241m2\u001b[39m, \u001b[38;5;241m11918\u001b[39m], y\u001b[38;5;241m=\u001b[39m[\u001b[38;5;241m2460\u001b[39m], pos\u001b[38;5;241m=\u001b[39m[\u001b[38;5;241m2460\u001b[39m, \u001b[38;5;241m2\u001b[39m], train_mask\u001b[38;5;241m=\u001b[39m[\u001b[38;5;241m2460\u001b[39m], val_mask\u001b[38;5;241m=\u001b[39m[\u001b[38;5;241m2460\u001b[39m], test_mask\u001b[38;5;241m=\u001b[39m[\u001b[38;5;241m2460\u001b[39m])], \u001b[38;5;124m'\u001b[39m\u001b[38;5;124mval\u001b[39m\u001b[38;5;124m'\u001b[39m: [Data(x\u001b[38;5;241m=\u001b[39m[\u001b[38;5;241m3383\u001b[39m, \u001b[38;5;241m2048\u001b[39m], edge_index\u001b[38;5;241m=\u001b[39m[\u001b[38;5;241m2\u001b[39m, \u001b[38;5;241m16557\u001b[39m], y\u001b[38;5;241m=\u001b[39m[\u001b[38;5;241m3383\u001b[39m], pos\u001b[38;5;241m=\u001b[39m[\u001b[38;5;241m3383\u001b[39m, \u001b[38;5;241m2\u001b[39m], train_mask\u001b[38;5;241m=\u001b[39m[\u001b[38;5;241m3383\u001b[39m], val_mask\u001b[38;5;241m=\u001b[39m[\u001b[38;5;241m3383\u001b[39m], test_mask\u001b[38;5;241m=\u001b[39m[\u001b[38;5;241m3383\u001b[39m])]}, \u001b[38;5;124m'\u001b[39m\u001b[38;5;124m370_A2b_ASAP_tumor_map\u001b[39m\u001b[38;5;124m'\u001b[39m:{\u001b[38;5;124m'\u001b[39m\u001b[38;5;124mtrain\u001b[39m\u001b[38;5;124m'\u001b[39m: [Data(x\u001b[38;5;241m=\u001b[39m[\u001b[38;5;241m3236\u001b[39m, \u001b[38;5;241m2048\u001b[39m], edge_index\u001b[38;5;241m=\u001b[39m[\u001b[38;5;241m2\u001b[39m, \u001b[38;5;241m15876\u001b[39m], y\u001b[38;5;241m=\u001b[39m[\u001b[38;5;241m3236\u001b[39m], pos\u001b[38;5;241m=\u001b[39m[\u001b[38;5;241m3236\u001b[39m, \u001b[38;5;241m2\u001b[39m], train_mask\u001b[38;5;241m=\u001b[39m[\u001b[38;5;241m3236\u001b[39m], val_mask\u001b[38;5;241m=\u001b[39m[\u001b[38;5;241m3236\u001b[39m], test_mask\u001b[38;5;241m=\u001b[39m[\u001b[38;5;241m3236\u001b[39m]), Data(x\u001b[38;5;241m=\u001b[39m[\u001b[38;5;241m3291\u001b[39m, \u001b[38;5;241m2048\u001b[39m], edge_index\u001b[38;5;241m=\u001b[39m[\u001b[38;5;241m2\u001b[39m, \u001b[38;5;241m16135\u001b[39m], y\u001b[38;5;241m=\u001b[39m[\u001b[38;5;241m3291\u001b[39m], pos\u001b[38;5;241m=\u001b[39m[\u001b[38;5;241m3291\u001b[39m, \u001b[38;5;241m2\u001b[39m], train_mask\u001b[38;5;241m=\u001b[39m[\u001b[38;5;241m3291\u001b[39m], val_mask\u001b[38;5;241m=\u001b[39m[\u001b[38;5;241m3291\u001b[39m], test_mask\u001b[38;5;241m=\u001b[39m[\u001b[38;5;241m3291\u001b[39m])], \u001b[38;5;124m'\u001b[39m\u001b[38;5;124mval\u001b[39m\u001b[38;5;124m'\u001b[39m: [Data(x\u001b[38;5;241m=\u001b[39m[\u001b[38;5;241m3095\u001b[39m, \u001b[38;5;241m2048\u001b[39m], edge_index\u001b[38;5;241m=\u001b[39m[\u001b[38;5;241m2\u001b[39m, \u001b[38;5;241m15181\u001b[39m], y\u001b[38;5;241m=\u001b[39m[\u001b[38;5;241m3095\u001b[39m], pos\u001b[38;5;241m=\u001b[39m[\u001b[38;5;241m3095\u001b[39m, \u001b[38;5;241m2\u001b[39m], train_mask\u001b[38;5;241m=\u001b[39m[\u001b[38;5;241m3095\u001b[39m], val_mask\u001b[38;5;241m=\u001b[39m[\u001b[38;5;241m3095\u001b[39m], test_mask\u001b[38;5;241m=\u001b[39m[\u001b[38;5;241m3095\u001b[39m])]}, \u001b[38;5;124m'\u001b[39m\u001b[38;5;124m37_A2d_ASAP_tumor_map\u001b[39m\u001b[38;5;124m'\u001b[39m:{\u001b[38;5;124m'\u001b[39m\u001b[38;5;124mtrain\u001b[39m\u001b[38;5;124m'\u001b[39m: [Data(x\u001b[38;5;241m=\u001b[39m[\u001b[38;5;241m7697\u001b[39m, \u001b[38;5;241m2048\u001b[39m], edge_index\u001b[38;5;241m=\u001b[39m[\u001b[38;5;241m2\u001b[39m, \u001b[38;5;241m36761\u001b[39m], y\u001b[38;5;241m=\u001b[39m[\u001b[38;5;241m7697\u001b[39m], pos\u001b[38;5;241m=\u001b[39m[\u001b[38;5;241m7697\u001b[39m, \u001b[38;5;241m2\u001b[39m], train_mask\u001b[38;5;241m=\u001b[39m[\u001b[38;5;241m7697\u001b[39m], val_mask\u001b[38;5;241m=\u001b[39m[\u001b[38;5;241m7697\u001b[39m], test_mask\u001b[38;5;241m=\u001b[39m[\u001b[38;5;241m7697\u001b[39m])], \u001b[38;5;124m'\u001b[39m\u001b[38;5;124mval\u001b[39m\u001b[38;5;124m'\u001b[39m: [Data(x\u001b[38;5;241m=\u001b[39m[\u001b[38;5;241m7718\u001b[39m, \u001b[38;5;241m2048\u001b[39m], edge_index\u001b[38;5;241m=\u001b[39m[\u001b[38;5;241m2\u001b[39m, \u001b[38;5;241m36598\u001b[39m], y\u001b[38;5;241m=\u001b[39m[\u001b[38;5;241m7718\u001b[39m], pos\u001b[38;5;241m=\u001b[39m[\u001b[38;5;241m7718\u001b[39m, \u001b[38;5;241m2\u001b[39m], train_mask\u001b[38;5;241m=\u001b[39m[\u001b[38;5;241m7718\u001b[39m], val_mask\u001b[38;5;241m=\u001b[39m[\u001b[38;5;241m7718\u001b[39m], test_mask\u001b[38;5;241m=\u001b[39m[\u001b[38;5;241m7718\u001b[39m])]}, \u001b[38;5;124m'\u001b[39m\u001b[38;5;124m61_A1a_ASAP_tumor_map\u001b[39m\u001b[38;5;124m'\u001b[39m:{\u001b[38;5;124m'\u001b[39m\u001b[38;5;124mtrain\u001b[39m\u001b[38;5;124m'\u001b[39m: [Data(x\u001b[38;5;241m=\u001b[39m[\u001b[38;5;241m1708\u001b[39m, \u001b[38;5;241m2048\u001b[39m], edge_index\u001b[38;5;241m=\u001b[39m[\u001b[38;5;241m2\u001b[39m, \u001b[38;5;241m8198\u001b[39m], y\u001b[38;5;241m=\u001b[39m[\u001b[38;5;241m1708\u001b[39m], pos\u001b[38;5;241m=\u001b[39m[\u001b[38;5;241m1708\u001b[39m, \u001b[38;5;241m2\u001b[39m], train_mask\u001b[38;5;241m=\u001b[39m[\u001b[38;5;241m1708\u001b[39m], val_mask\u001b[38;5;241m=\u001b[39m[\u001b[38;5;241m1708\u001b[39m], test_mask\u001b[38;5;241m=\u001b[39m[\u001b[38;5;241m1708\u001b[39m]), Data(x\u001b[38;5;241m=\u001b[39m[\u001b[38;5;241m2059\u001b[39m, \u001b[38;5;241m2048\u001b[39m], edge_index\u001b[38;5;241m=\u001b[39m[\u001b[38;5;241m2\u001b[39m, \u001b[38;5;241m9967\u001b[39m], y\u001b[38;5;241m=\u001b[39m[\u001b[38;5;241m2059\u001b[39m], pos\u001b[38;5;241m=\u001b[39m[\u001b[38;5;241m2059\u001b[39m, \u001b[38;5;241m2\u001b[39m], train_mask\u001b[38;5;241m=\u001b[39m[\u001b[38;5;241m2059\u001b[39m], val_mask\u001b[38;5;241m=\u001b[39m[\u001b[38;5;241m2059\u001b[39m], test_mask\u001b[38;5;241m=\u001b[39m[\u001b[38;5;241m2059\u001b[39m]), Data(x\u001b[38;5;241m=\u001b[39m[\u001b[38;5;241m2178\u001b[39m, \u001b[38;5;241m2048\u001b[39m], edge_index\u001b[38;5;241m=\u001b[39m[\u001b[38;5;241m2\u001b[39m, \u001b[38;5;241m10598\u001b[39m], y\u001b[38;5;241m=\u001b[39m[\u001b[38;5;241m2178\u001b[39m], pos\u001b[38;5;241m=\u001b[39m[\u001b[38;5;241m2178\u001b[39m, \u001b[38;5;241m2\u001b[39m], train_mask\u001b[38;5;241m=\u001b[39m[\u001b[38;5;241m2178\u001b[39m], val_mask\u001b[38;5;241m=\u001b[39m[\u001b[38;5;241m2178\u001b[39m], test_mask\u001b[38;5;241m=\u001b[39m[\u001b[38;5;241m2178\u001b[39m]), Data(x\u001b[38;5;241m=\u001b[39m[\u001b[38;5;241m2096\u001b[39m, \u001b[38;5;241m2048\u001b[39m], edge_index\u001b[38;5;241m=\u001b[39m[\u001b[38;5;241m2\u001b[39m, \u001b[38;5;241m10164\u001b[39m], y\u001b[38;5;241m=\u001b[39m[\u001b[38;5;241m2096\u001b[39m], pos\u001b[38;5;241m=\u001b[39m[\u001b[38;5;241m2096\u001b[39m, \u001b[38;5;241m2\u001b[39m], train_mask\u001b[38;5;241m=\u001b[39m[\u001b[38;5;241m2096\u001b[39m], val_mask\u001b[38;5;241m=\u001b[39m[\u001b[38;5;241m2096\u001b[39m], test_mask\u001b[38;5;241m=\u001b[39m[\u001b[38;5;241m2096\u001b[39m])], \u001b[38;5;124m'\u001b[39m\u001b[38;5;124mval\u001b[39m\u001b[38;5;124m'\u001b[39m: [Data(x\u001b[38;5;241m=\u001b[39m[\u001b[38;5;241m2201\u001b[39m, \u001b[38;5;241m2048\u001b[39m], edge_index\u001b[38;5;241m=\u001b[39m[\u001b[38;5;241m2\u001b[39m, \u001b[38;5;241m10721\u001b[39m], y\u001b[38;5;241m=\u001b[39m[\u001b[38;5;241m2201\u001b[39m], pos\u001b[38;5;241m=\u001b[39m[\u001b[38;5;241m2201\u001b[39m, \u001b[38;5;241m2\u001b[39m], train_mask\u001b[38;5;241m=\u001b[39m[\u001b[38;5;241m2201\u001b[39m], val_mask\u001b[38;5;241m=\u001b[39m[\u001b[38;5;241m2201\u001b[39m], test_mask\u001b[38;5;241m=\u001b[39m[\u001b[38;5;241m2201\u001b[39m])]}, \u001b[38;5;124m'\u001b[39m\u001b[38;5;124m61_B1a_ASAP_tumor_map\u001b[39m\u001b[38;5;124m'\u001b[39m:{\u001b[38;5;124m'\u001b[39m\u001b[38;5;124mtrain\u001b[39m\u001b[38;5;124m'\u001b[39m: [Data(x\u001b[38;5;241m=\u001b[39m[\u001b[38;5;241m2145\u001b[39m, \u001b[38;5;241m2048\u001b[39m], edge_index\u001b[38;5;241m=\u001b[39m[\u001b[38;5;241m2\u001b[39m, \u001b[38;5;241m10425\u001b[39m], y\u001b[38;5;241m=\u001b[39m[\u001b[38;5;241m2145\u001b[39m], pos\u001b[38;5;241m=\u001b[39m[\u001b[38;5;241m2145\u001b[39m, \u001b[38;5;241m2\u001b[39m], train_mask\u001b[38;5;241m=\u001b[39m[\u001b[38;5;241m2145\u001b[39m], val_mask\u001b[38;5;241m=\u001b[39m[\u001b[38;5;241m2145\u001b[39m], test_mask\u001b[38;5;241m=\u001b[39m[\u001b[38;5;241m2145\u001b[39m]), Data(x\u001b[38;5;241m=\u001b[39m[\u001b[38;5;241m212\u001b[39m, \u001b[38;5;241m2048\u001b[39m], edge_index\u001b[38;5;241m=\u001b[39m[\u001b[38;5;241m2\u001b[39m, \u001b[38;5;241m974\u001b[39m], y\u001b[38;5;241m=\u001b[39m[\u001b[38;5;241m212\u001b[39m], pos\u001b[38;5;241m=\u001b[39m[\u001b[38;5;241m212\u001b[39m, \u001b[38;5;241m2\u001b[39m], train_mask\u001b[38;5;241m=\u001b[39m[\u001b[38;5;241m212\u001b[39m], val_mask\u001b[38;5;241m=\u001b[39m[\u001b[38;5;241m212\u001b[39m], test_mask\u001b[38;5;241m=\u001b[39m[\u001b[38;5;241m212\u001b[39m]), Data(x\u001b[38;5;241m=\u001b[39m[\u001b[38;5;241m2055\u001b[39m, \u001b[38;5;241m2048\u001b[39m], edge_index\u001b[38;5;241m=\u001b[39m[\u001b[38;5;241m2\u001b[39m, \u001b[38;5;241m9939\u001b[39m], y\u001b[38;5;241m=\u001b[39m[\u001b[38;5;241m2055\u001b[39m], pos\u001b[38;5;241m=\u001b[39m[\u001b[38;5;241m2055\u001b[39m, \u001b[38;5;241m2\u001b[39m], train_mask\u001b[38;5;241m=\u001b[39m[\u001b[38;5;241m2055\u001b[39m], val_mask\u001b[38;5;241m=\u001b[39m[\u001b[38;5;241m2055\u001b[39m], test_mask\u001b[38;5;241m=\u001b[39m[\u001b[38;5;241m2055\u001b[39m]), Data(x\u001b[38;5;241m=\u001b[39m[\u001b[38;5;241m1275\u001b[39m, \u001b[38;5;241m2048\u001b[39m], edge_index\u001b[38;5;241m=\u001b[39m[\u001b[38;5;241m2\u001b[39m, \u001b[38;5;241m6075\u001b[39m], y\u001b[38;5;241m=\u001b[39m[\u001b[38;5;241m1275\u001b[39m], pos\u001b[38;5;241m=\u001b[39m[\u001b[38;5;241m1275\u001b[39m, \u001b[38;5;241m2\u001b[39m], train_mask\u001b[38;5;241m=\u001b[39m[\u001b[38;5;241m1275\u001b[39m], val_mask\u001b[38;5;241m=\u001b[39m[\u001b[38;5;241m1275\u001b[39m], test_mask\u001b[38;5;241m=\u001b[39m[\u001b[38;5;241m1275\u001b[39m]), Data(x\u001b[38;5;241m=\u001b[39m[\u001b[38;5;241m1771\u001b[39m, \u001b[38;5;241m2048\u001b[39m], edge_index\u001b[38;5;241m=\u001b[39m[\u001b[38;5;241m2\u001b[39m, \u001b[38;5;241m8535\u001b[39m], y\u001b[38;5;241m=\u001b[39m[\u001b[38;5;241m1771\u001b[39m], pos\u001b[38;5;241m=\u001b[39m[\u001b[38;5;241m1771\u001b[39m, \u001b[38;5;241m2\u001b[39m], train_mask\u001b[38;5;241m=\u001b[39m[\u001b[38;5;241m1771\u001b[39m], val_mask\u001b[38;5;241m=\u001b[39m[\u001b[38;5;241m1771\u001b[39m], test_mask\u001b[38;5;241m=\u001b[39m[\u001b[38;5;241m1771\u001b[39m])], \u001b[38;5;124m'\u001b[39m\u001b[38;5;124mval\u001b[39m\u001b[38;5;124m'\u001b[39m: [Data(x\u001b[38;5;241m=\u001b[39m[\u001b[38;5;241m2088\u001b[39m, \u001b[38;5;241m2048\u001b[39m], edge_index\u001b[38;5;241m=\u001b[39m[\u001b[38;5;241m2\u001b[39m, \u001b[38;5;241m10144\u001b[39m], y\u001b[38;5;241m=\u001b[39m[\u001b[38;5;241m2088\u001b[39m], pos\u001b[38;5;241m=\u001b[39m[\u001b[38;5;241m2088\u001b[39m, \u001b[38;5;241m2\u001b[39m], train_mask\u001b[38;5;241m=\u001b[39m[\u001b[38;5;241m2088\u001b[39m], val_mask\u001b[38;5;241m=\u001b[39m[\u001b[38;5;241m2088\u001b[39m], test_mask\u001b[38;5;241m=\u001b[39m[\u001b[38;5;241m2088\u001b[39m])]}, \u001b[38;5;124m'\u001b[39m\u001b[38;5;124m70_A2b_ASAP_tumor_map\u001b[39m\u001b[38;5;124m'\u001b[39m:{\u001b[38;5;124m'\u001b[39m\u001b[38;5;124mtrain\u001b[39m\u001b[38;5;124m'\u001b[39m: [Data(x\u001b[38;5;241m=\u001b[39m[\u001b[38;5;241m1686\u001b[39m, \u001b[38;5;241m2048\u001b[39m], edge_index\u001b[38;5;241m=\u001b[39m[\u001b[38;5;241m2\u001b[39m, \u001b[38;5;241m8148\u001b[39m], y\u001b[38;5;241m=\u001b[39m[\u001b[38;5;241m1686\u001b[39m], pos\u001b[38;5;241m=\u001b[39m[\u001b[38;5;241m1686\u001b[39m, \u001b[38;5;241m2\u001b[39m], train_mask\u001b[38;5;241m=\u001b[39m[\u001b[38;5;241m1686\u001b[39m], val_mask\u001b[38;5;241m=\u001b[39m[\u001b[38;5;241m1686\u001b[39m], test_mask\u001b[38;5;241m=\u001b[39m[\u001b[38;5;241m1686\u001b[39m]), Data(x\u001b[38;5;241m=\u001b[39m[\u001b[38;5;241m1663\u001b[39m, \u001b[38;5;241m2048\u001b[39m], edge_index\u001b[38;5;241m=\u001b[39m[\u001b[38;5;241m2\u001b[39m, \u001b[38;5;241m8025\u001b[39m], y\u001b[38;5;241m=\u001b[39m[\u001b[38;5;241m1663\u001b[39m], pos\u001b[38;5;241m=\u001b[39m[\u001b[38;5;241m1663\u001b[39m, \u001b[38;5;241m2\u001b[39m], train_mask\u001b[38;5;241m=\u001b[39m[\u001b[38;5;241m1663\u001b[39m], val_mask\u001b[38;5;241m=\u001b[39m[\u001b[38;5;241m1663\u001b[39m], test_mask\u001b[38;5;241m=\u001b[39m[\u001b[38;5;241m1663\u001b[39m]), Data(x\u001b[38;5;241m=\u001b[39m[\u001b[38;5;241m1787\u001b[39m, \u001b[38;5;241m2048\u001b[39m], edge_index\u001b[38;5;241m=\u001b[39m[\u001b[38;5;241m2\u001b[39m, \u001b[38;5;241m8725\u001b[39m], y\u001b[38;5;241m=\u001b[39m[\u001b[38;5;241m1787\u001b[39m], pos\u001b[38;5;241m=\u001b[39m[\u001b[38;5;241m1787\u001b[39m, \u001b[38;5;241m2\u001b[39m], train_mask\u001b[38;5;241m=\u001b[39m[\u001b[38;5;241m1787\u001b[39m], val_mask\u001b[38;5;241m=\u001b[39m[\u001b[38;5;241m1787\u001b[39m], test_mask\u001b[38;5;241m=\u001b[39m[\u001b[38;5;241m1787\u001b[39m]), Data(x\u001b[38;5;241m=\u001b[39m[\u001b[38;5;241m1805\u001b[39m, \u001b[38;5;241m2048\u001b[39m], edge_index\u001b[38;5;241m=\u001b[39m[\u001b[38;5;241m2\u001b[39m, \u001b[38;5;241m8797\u001b[39m], y\u001b[38;5;241m=\u001b[39m[\u001b[38;5;241m1805\u001b[39m], pos\u001b[38;5;241m=\u001b[39m[\u001b[38;5;241m1805\u001b[39m, \u001b[38;5;241m2\u001b[39m], train_mask\u001b[38;5;241m=\u001b[39m[\u001b[38;5;241m1805\u001b[39m], val_mask\u001b[38;5;241m=\u001b[39m[\u001b[38;5;241m1805\u001b[39m], test_mask\u001b[38;5;241m=\u001b[39m[\u001b[38;5;241m1805\u001b[39m]), Data(x\u001b[38;5;241m=\u001b[39m[\u001b[38;5;241m1665\u001b[39m, \u001b[38;5;241m2048\u001b[39m], edge_index\u001b[38;5;241m=\u001b[39m[\u001b[38;5;241m2\u001b[39m, \u001b[38;5;241m8099\u001b[39m], y\u001b[38;5;241m=\u001b[39m[\u001b[38;5;241m1665\u001b[39m], pos\u001b[38;5;241m=\u001b[39m[\u001b[38;5;241m1665\u001b[39m, \u001b[38;5;241m2\u001b[39m], train_mask\u001b[38;5;241m=\u001b[39m[\u001b[38;5;241m1665\u001b[39m], val_mask\u001b[38;5;241m=\u001b[39m[\u001b[38;5;241m1665\u001b[39m], test_mask\u001b[38;5;241m=\u001b[39m[\u001b[38;5;241m1665\u001b[39m])], \u001b[38;5;124m'\u001b[39m\u001b[38;5;124mval\u001b[39m\u001b[38;5;124m'\u001b[39m: [Data(x\u001b[38;5;241m=\u001b[39m[\u001b[38;5;241m1672\u001b[39m, \u001b[38;5;241m2048\u001b[39m], edge_index\u001b[38;5;241m=\u001b[39m[\u001b[38;5;241m2\u001b[39m, \u001b[38;5;241m8158\u001b[39m], y\u001b[38;5;241m=\u001b[39m[\u001b[38;5;241m1672\u001b[39m], pos\u001b[38;5;241m=\u001b[39m[\u001b[38;5;241m1672\u001b[39m, \u001b[38;5;241m2\u001b[39m], train_mask\u001b[38;5;241m=\u001b[39m[\u001b[38;5;241m1672\u001b[39m], val_mask\u001b[38;5;241m=\u001b[39m[\u001b[38;5;241m1672\u001b[39m], test_mask\u001b[38;5;241m=\u001b[39m[\u001b[38;5;241m1672\u001b[39m])]}, \u001b[38;5;124m'\u001b[39m\u001b[38;5;124m7_A1c_ASAP_tumor_map\u001b[39m\u001b[38;5;124m'\u001b[39m:{\u001b[38;5;124m'\u001b[39m\u001b[38;5;124mtrain\u001b[39m\u001b[38;5;124m'\u001b[39m: [Data(x\u001b[38;5;241m=\u001b[39m[\u001b[38;5;241m6353\u001b[39m, \u001b[38;5;241m2048\u001b[39m], edge_index\u001b[38;5;241m=\u001b[39m[\u001b[38;5;241m2\u001b[39m, \u001b[38;5;241m31203\u001b[39m], y\u001b[38;5;241m=\u001b[39m[\u001b[38;5;241m6353\u001b[39m], pos\u001b[38;5;241m=\u001b[39m[\u001b[38;5;241m6353\u001b[39m, \u001b[38;5;241m2\u001b[39m], train_mask\u001b[38;5;241m=\u001b[39m[\u001b[38;5;241m6353\u001b[39m], val_mask\u001b[38;5;241m=\u001b[39m[\u001b[38;5;241m6353\u001b[39m], test_mask\u001b[38;5;241m=\u001b[39m[\u001b[38;5;241m6353\u001b[39m]), Data(x\u001b[38;5;241m=\u001b[39m[\u001b[38;5;241m6222\u001b[39m, \u001b[38;5;241m2048\u001b[39m], edge_index\u001b[38;5;241m=\u001b[39m[\u001b[38;5;241m2\u001b[39m, \u001b[38;5;241m30556\u001b[39m], y\u001b[38;5;241m=\u001b[39m[\u001b[38;5;241m6222\u001b[39m], pos\u001b[38;5;241m=\u001b[39m[\u001b[38;5;241m6222\u001b[39m, \u001b[38;5;241m2\u001b[39m], train_mask\u001b[38;5;241m=\u001b[39m[\u001b[38;5;241m6222\u001b[39m], val_mask\u001b[38;5;241m=\u001b[39m[\u001b[38;5;241m6222\u001b[39m], test_mask\u001b[38;5;241m=\u001b[39m[\u001b[38;5;241m6222\u001b[39m])], \u001b[38;5;124m'\u001b[39m\u001b[38;5;124mval\u001b[39m\u001b[38;5;124m'\u001b[39m: [Data(x\u001b[38;5;241m=\u001b[39m[\u001b[38;5;241m5921\u001b[39m, \u001b[38;5;241m2048\u001b[39m], edge_index\u001b[38;5;241m=\u001b[39m[\u001b[38;5;241m2\u001b[39m, \u001b[38;5;241m29101\u001b[39m], y\u001b[38;5;241m=\u001b[39m[\u001b[38;5;241m5921\u001b[39m], pos\u001b[38;5;241m=\u001b[39m[\u001b[38;5;241m5921\u001b[39m, \u001b[38;5;241m2\u001b[39m], train_mask\u001b[38;5;241m=\u001b[39m[\u001b[38;5;241m5921\u001b[39m], val_mask\u001b[38;5;241m=\u001b[39m[\u001b[38;5;241m5921\u001b[39m], test_mask\u001b[38;5;241m=\u001b[39m[\u001b[38;5;241m5921\u001b[39m])]}, \u001b[38;5;124m'\u001b[39m\u001b[38;5;124m7_A1d_ASAP_tumor_map\u001b[39m\u001b[38;5;124m'\u001b[39m:{\u001b[38;5;124m'\u001b[39m\u001b[38;5;124mtrain\u001b[39m\u001b[38;5;124m'\u001b[39m: [Data(x\u001b[38;5;241m=\u001b[39m[\u001b[38;5;241m5494\u001b[39m, \u001b[38;5;241m2048\u001b[39m], edge_index\u001b[38;5;241m=\u001b[39m[\u001b[38;5;241m2\u001b[39m, \u001b[38;5;241m26986\u001b[39m], y\u001b[38;5;241m=\u001b[39m[\u001b[38;5;241m5494\u001b[39m], pos\u001b[38;5;241m=\u001b[39m[\u001b[38;5;241m5494\u001b[39m, \u001b[38;5;241m2\u001b[39m], train_mask\u001b[38;5;241m=\u001b[39m[\u001b[38;5;241m5494\u001b[39m], val_mask\u001b[38;5;241m=\u001b[39m[\u001b[38;5;241m5494\u001b[39m], test_mask\u001b[38;5;241m=\u001b[39m[\u001b[38;5;241m5494\u001b[39m]), Data(x\u001b[38;5;241m=\u001b[39m[\u001b[38;5;241m5831\u001b[39m, \u001b[38;5;241m2048\u001b[39m], edge_index\u001b[38;5;241m=\u001b[39m[\u001b[38;5;241m2\u001b[39m, \u001b[38;5;241m28669\u001b[39m], y\u001b[38;5;241m=\u001b[39m[\u001b[38;5;241m5831\u001b[39m], pos\u001b[38;5;241m=\u001b[39m[\u001b[38;5;241m5831\u001b[39m, \u001b[38;5;241m2\u001b[39m], train_mask\u001b[38;5;241m=\u001b[39m[\u001b[38;5;241m5831\u001b[39m], val_mask\u001b[38;5;241m=\u001b[39m[\u001b[38;5;241m5831\u001b[39m], test_mask\u001b[38;5;241m=\u001b[39m[\u001b[38;5;241m5831\u001b[39m])], \u001b[38;5;124m'\u001b[39m\u001b[38;5;124mval\u001b[39m\u001b[38;5;124m'\u001b[39m: [Data(x\u001b[38;5;241m=\u001b[39m[\u001b[38;5;241m5516\u001b[39m, \u001b[38;5;241m2048\u001b[39m], edge_index\u001b[38;5;241m=\u001b[39m[\u001b[38;5;241m2\u001b[39m, \u001b[38;5;241m27058\u001b[39m], y\u001b[38;5;241m=\u001b[39m[\u001b[38;5;241m5516\u001b[39m], pos\u001b[38;5;241m=\u001b[39m[\u001b[38;5;241m5516\u001b[39m, \u001b[38;5;241m2\u001b[39m], train_mask\u001b[38;5;241m=\u001b[39m[\u001b[38;5;241m5516\u001b[39m], val_mask\u001b[38;5;241m=\u001b[39m[\u001b[38;5;241m5516\u001b[39m], test_mask\u001b[38;5;241m=\u001b[39m[\u001b[38;5;241m5516\u001b[39m])]}, \u001b[38;5;124m'\u001b[39m\u001b[38;5;124m7_A1e_ASAP_tumor_map\u001b[39m\u001b[38;5;124m'\u001b[39m:{\u001b[38;5;124m'\u001b[39m\u001b[38;5;124mtrain\u001b[39m\u001b[38;5;124m'\u001b[39m: [Data(x\u001b[38;5;241m=\u001b[39m[\u001b[38;5;241m4710\u001b[39m, \u001b[38;5;241m2048\u001b[39m], edge_index\u001b[38;5;241m=\u001b[39m[\u001b[38;5;241m2\u001b[39m, \u001b[38;5;241m23116\u001b[39m], y\u001b[38;5;241m=\u001b[39m[\u001b[38;5;241m4710\u001b[39m], pos\u001b[38;5;241m=\u001b[39m[\u001b[38;5;241m4710\u001b[39m, \u001b[38;5;241m2\u001b[39m], train_mask\u001b[38;5;241m=\u001b[39m[\u001b[38;5;241m4710\u001b[39m], val_mask\u001b[38;5;241m=\u001b[39m[\u001b[38;5;241m4710\u001b[39m], test_mask\u001b[38;5;241m=\u001b[39m[\u001b[38;5;241m4710\u001b[39m]), Data(x\u001b[38;5;241m=\u001b[39m[\u001b[38;5;241m5083\u001b[39m, \u001b[38;5;241m2048\u001b[39m], edge_index\u001b[38;5;241m=\u001b[39m[\u001b[38;5;241m2\u001b[39m, \u001b[38;5;241m24985\u001b[39m], y\u001b[38;5;241m=\u001b[39m[\u001b[38;5;241m5083\u001b[39m], pos\u001b[38;5;241m=\u001b[39m[\u001b[38;5;241m5083\u001b[39m, \u001b[38;5;241m2\u001b[39m], train_mask\u001b[38;5;241m=\u001b[39m[\u001b[38;5;241m5083\u001b[39m], val_mask\u001b[38;5;241m=\u001b[39m[\u001b[38;5;241m5083\u001b[39m], test_mask\u001b[38;5;241m=\u001b[39m[\u001b[38;5;241m5083\u001b[39m])], \u001b[38;5;124m'\u001b[39m\u001b[38;5;124mval\u001b[39m\u001b[38;5;124m'\u001b[39m: [Data(x\u001b[38;5;241m=\u001b[39m[\u001b[38;5;241m4639\u001b[39m, \u001b[38;5;241m2048\u001b[39m], edge_index\u001b[38;5;241m=\u001b[39m[\u001b[38;5;241m2\u001b[39m, \u001b[38;5;241m22765\u001b[39m], y\u001b[38;5;241m=\u001b[39m[\u001b[38;5;241m4639\u001b[39m], pos\u001b[38;5;241m=\u001b[39m[\u001b[38;5;241m4639\u001b[39m, \u001b[38;5;241m2\u001b[39m], train_mask\u001b[38;5;241m=\u001b[39m[\u001b[38;5;241m4639\u001b[39m], val_mask\u001b[38;5;241m=\u001b[39m[\u001b[38;5;241m4639\u001b[39m], test_mask\u001b[38;5;241m=\u001b[39m[\u001b[38;5;241m4639\u001b[39m])]}}\n",
      "\u001b[0;31mNameError\u001b[0m: name 'Data' is not defined"
     ]
    }
   ],
   "source": [
    "graph_datasets={'109_A1c_ASAP_tumor_map': {'train': [Data(x=[20589, 2048], edge_index=[2, 102219], y=[20589], pos=[20589, 2], train_mask=[20589], val_mask=[20589], test_mask=[20589])], 'val': [Data(x=[20706, 2048], edge_index=[2, 102704], y=[20706], pos=[20706, 2], train_mask=[20706], val_mask=[20706], test_mask=[20706])]}, '10_A1a_ASAP_tumor_map':{'train': [Data(x=[5563, 2048], edge_index=[2, 27309], y=[5563], pos=[5563, 2], train_mask=[5563], val_mask=[5563], test_mask=[5563]), Data(x=[5101, 2048], edge_index=[2, 24973], y=[5101], pos=[5101, 2], train_mask=[5101], val_mask=[5101], test_mask=[5101])], 'val': [Data(x=[5804, 2048], edge_index=[2, 28532], y=[5804], pos=[5804, 2], train_mask=[5804], val_mask=[5804], test_mask=[5804])]}, '10_A1b_ASAP_tumor_map':{'train': [Data(x=[5719, 2048], edge_index=[2, 28113], y=[5719], pos=[5719, 2], train_mask=[5719], val_mask=[5719], test_mask=[5719]), Data(x=[5649, 2048], edge_index=[2, 27761], y=[5649], pos=[5649, 2], train_mask=[5649], val_mask=[5649], test_mask=[5649])], 'val': [Data(x=[5642, 2048], edge_index=[2, 27702], y=[5642], pos=[5642, 2], train_mask=[5642], val_mask=[5642], test_mask=[5642])]}, '10_A2b_ASAP_tumor_map':{'train': [Data(x=[6098, 2048], edge_index=[2, 29956], y=[6098], pos=[6098, 2], train_mask=[6098], val_mask=[6098], test_mask=[6098]), Data(x=[6239, 2048], edge_index=[2, 30715], y=[6239], pos=[6239, 2], train_mask=[6239], val_mask=[6239], test_mask=[6239])], 'val': [Data(x=[6085, 2048], edge_index=[2, 29929], y=[6085], pos=[6085, 2], train_mask=[6085], val_mask=[6085], test_mask=[6085])]}, '110_A2b_ASAP_tumor_map':{'train': [Data(x=[4220, 2048], edge_index=[2, 20574], y=[4220], pos=[4220, 2], train_mask=[4220], val_mask=[4220], test_mask=[4220]), Data(x=[4557, 2048], edge_index=[2, 22333], y=[4557], pos=[4557, 2], train_mask=[4557], val_mask=[4557], test_mask=[4557]), Data(x=[4607, 2048], edge_index=[2, 22561], y=[4607], pos=[4607, 2], train_mask=[4607], val_mask=[4607], test_mask=[4607])], 'val': [Data(x=[4472, 2048], edge_index=[2, 21880], y=[4472], pos=[4472, 2], train_mask=[4472], val_mask=[4472], test_mask=[4472])]}, '112_a_ASAP_tumor_map':{'train': [Data(x=[817, 2048], edge_index=[2, 3897], y=[817], pos=[817, 2], train_mask=[817], val_mask=[817], test_mask=[817]), Data(x=[795, 2048], edge_index=[2, 3785], y=[795], pos=[795, 2], train_mask=[795], val_mask=[795], test_mask=[795]), Data(x=[703, 2048], edge_index=[2, 3369], y=[703], pos=[703, 2], train_mask=[703], val_mask=[703], test_mask=[703]), Data(x=[832, 2048], edge_index=[2, 3972], y=[832], pos=[832, 2], train_mask=[832], val_mask=[832], test_mask=[832]), Data(x=[668, 2048], edge_index=[2, 3170], y=[668], pos=[668, 2], train_mask=[668], val_mask=[668], test_mask=[668]), Data(x=[884, 2048], edge_index=[2, 4244], y=[884], pos=[884, 2], train_mask=[884], val_mask=[884], test_mask=[884]), Data(x=[583, 2048], edge_index=[2, 2769], y=[583], pos=[583, 2], train_mask=[583], val_mask=[583], test_mask=[583])], 'val': [Data(x=[935, 2048], edge_index=[2, 4489], y=[935], pos=[935, 2], train_mask=[935], val_mask=[935], test_mask=[935])]}, '112_b_ASAP_tumor_map':{'train': [Data(x=[902, 2048], edge_index=[2, 4298], y=[902], pos=[902, 2], train_mask=[902], val_mask=[902], test_mask=[902]), Data(x=[815, 2048], edge_index=[2, 3889], y=[815], pos=[815, 2], train_mask=[815], val_mask=[815], test_mask=[815]), Data(x=[878, 2048], edge_index=[2, 4210], y=[878], pos=[878, 2], train_mask=[878], val_mask=[878], test_mask=[878]), Data(x=[844, 2048], edge_index=[2, 4004], y=[844], pos=[844, 2], train_mask=[844], val_mask=[844], test_mask=[844]), Data(x=[826, 2048], edge_index=[2, 3952], y=[826], pos=[826, 2], train_mask=[826], val_mask=[826], test_mask=[826]), Data(x=[871, 2048], edge_index=[2, 4135], y=[871], pos=[871, 2], train_mask=[871], val_mask=[871], test_mask=[871]), Data(x=[842, 2048], edge_index=[2, 4024], y=[842], pos=[842, 2], train_mask=[842], val_mask=[842], test_mask=[842])], 'val': [Data(x=[850, 2048], edge_index=[2, 4038], y=[850], pos=[850, 2], train_mask=[850], val_mask=[850], test_mask=[850])]}, '123_A1a_ASAP_tumor_map':{'train': [Data(x=[2626, 2048], edge_index=[2, 12492], y=[2626], pos=[2626, 2], train_mask=[2626], val_mask=[2626], test_mask=[2626]), Data(x=[1742, 2048], edge_index=[2, 8152], y=[1742], pos=[1742, 2], train_mask=[1742], val_mask=[1742], test_mask=[1742]), Data(x=[2955, 2048], edge_index=[2, 14357], y=[2955], pos=[2955, 2], train_mask=[2955], val_mask=[2955], test_mask=[2955]), Data(x=[2561, 2048], edge_index=[2, 12297], y=[2561], pos=[2561, 2], train_mask=[2561], val_mask=[2561], test_mask=[2561]), Data(x=[2825, 2048], edge_index=[2, 13425], y=[2825], pos=[2825, 2], train_mask=[2825], val_mask=[2825], test_mask=[2825])], 'val': [Data(x=[3280, 2048], edge_index=[2, 15970], y=[3280], pos=[3280, 2], train_mask=[3280], val_mask=[3280], test_mask=[3280])]}, '12_A1c_ASAP_tumor_map':{'train': [Data(x=[7126, 2048], edge_index=[2, 35066], y=[7126], pos=[7126, 2], train_mask=[7126], val_mask=[7126], test_mask=[7126]), Data(x=[6957, 2048], edge_index=[2, 34275], y=[6957], pos=[6957, 2], train_mask=[6957], val_mask=[6957], test_mask=[6957])], 'val': [Data(x=[6814, 2048], edge_index=[2, 33326], y=[6814], pos=[6814, 2], train_mask=[6814], val_mask=[6814], test_mask=[6814])]}, '14_A1b_ASAP_tumor_map':{'train': [Data(x=[5176, 2048], edge_index=[2, 25114], y=[5176], pos=[5176, 2], train_mask=[5176], val_mask=[5176], test_mask=[5176]), Data(x=[4841, 2048], edge_index=[2, 23269], y=[4841], pos=[4841, 2], train_mask=[4841], val_mask=[4841], test_mask=[4841])], 'val': [Data(x=[4577, 2048], edge_index=[2, 22143], y=[4577], pos=[4577, 2], train_mask=[4577], val_mask=[4577], test_mask=[4577])]}, '14_A2b_ASAP_tumor_map':{'train': [Data(x=[5075, 2048], edge_index=[2, 24045], y=[5075], pos=[5075, 2], train_mask=[5075], val_mask=[5075], test_mask=[5075]), Data(x=[4659, 2048], edge_index=[2, 22071], y=[4659], pos=[4659, 2], train_mask=[4659], val_mask=[4659], test_mask=[4659])], 'val': [Data(x=[5046, 2048], edge_index=[2, 24084], y=[5046], pos=[5046, 2], train_mask=[5046], val_mask=[5046], test_mask=[5046])]}, '169_A2b_ASAP_tumor_map':{'train': [Data(x=[5137, 2048], edge_index=[2, 25303], y=[5137], pos=[5137, 2], train_mask=[5137], val_mask=[5137], test_mask=[5137]), Data(x=[5193, 2048], edge_index=[2, 25555], y=[5193], pos=[5193, 2], train_mask=[5193], val_mask=[5193], test_mask=[5193])], 'val': [Data(x=[5220, 2048], edge_index=[2, 25698], y=[5220], pos=[5220, 2], train_mask=[5220], val_mask=[5220], test_mask=[5220])]}, '270_A1b_ASAP_tumor_map':{'train': [Data(x=[10733, 2048], edge_index=[2, 52753], y=[10733], pos=[10733, 2], train_mask=[10733], val_mask=[10733], test_mask=[10733])], 'val': [Data(x=[10638, 2048], edge_index=[2, 52354], y=[10638], pos=[10638, 2], train_mask=[10638], val_mask=[10638], test_mask=[10638])]}, '270_A1d_ASAP_tumor_map':{'train': [Data(x=[10457, 2048], edge_index=[2, 51557], y=[10457], pos=[10457, 2], train_mask=[10457], val_mask=[10457], test_mask=[10457])], 'val': [Data(x=[10268, 2048], edge_index=[2, 50640], y=[10268], pos=[10268, 2], train_mask=[10268], val_mask=[10268], test_mask=[10268])]}, '270_A1e_ASAP_tumor_map':{'train': [Data(x=[10168, 2048], edge_index=[2, 50196], y=[10168], pos=[10168, 2], train_mask=[10168], val_mask=[10168], test_mask=[10168])], 'val': [Data(x=[10423, 2048], edge_index=[2, 51437], y=[10423], pos=[10423, 2], train_mask=[10423], val_mask=[10423], test_mask=[10423])]}, '270_A2b_ASAP_tumor_map':{'train': [Data(x=[10205, 2048], edge_index=[2, 50345], y=[10205], pos=[10205, 2], train_mask=[10205], val_mask=[10205], test_mask=[10205])], 'val': [Data(x=[8924, 2048], edge_index=[2, 43966], y=[8924], pos=[8924, 2], train_mask=[8924], val_mask=[8924], test_mask=[8924])]}, '270_A2f_ASAP_tumor_map':{'train': [Data(x=[7420, 2048], edge_index=[2, 36228], y=[7420], pos=[7420, 2], train_mask=[7420], val_mask=[7420], test_mask=[7420])], 'val': []}, '281_A1d_ASAP_tumor_map':{'train': [Data(x=[6622, 2048], edge_index=[2, 32648], y=[6622], pos=[6622, 2], train_mask=[6622], val_mask=[6622], test_mask=[6622])], 'val': [Data(x=[6675, 2048], edge_index=[2, 32849], y=[6675], pos=[6675, 2], train_mask=[6675], val_mask=[6675], test_mask=[6675])]}, '281_A1f_ASAP_tumor_map':{'train': [Data(x=[7200, 2048], edge_index=[2, 35514], y=[7200], pos=[7200, 2], train_mask=[7200], val_mask=[7200], test_mask=[7200])], 'val': [Data(x=[7185, 2048], edge_index=[2, 35435], y=[7185], pos=[7185, 2], train_mask=[7185], val_mask=[7185], test_mask=[7185])]}, '281_A2eX_ASAP_tumor_map':{'train': [Data(x=[6892, 2048], edge_index=[2, 33970], y=[6892], pos=[6892, 2], train_mask=[6892], val_mask=[6892], test_mask=[6892])], 'val': [Data(x=[6557, 2048], edge_index=[2, 32353], y=[6557], pos=[6557, 2], train_mask=[6557], val_mask=[6557], test_mask=[6557])]}, '311_A2c_ASAP_tumor_map':{'train': [Data(x=[6043, 2048], edge_index=[2, 29801], y=[6043], pos=[6043, 2], train_mask=[6043], val_mask=[6043], test_mask=[6043])], 'val': [Data(x=[6294, 2048], edge_index=[2, 30852], y=[6294], pos=[6294, 2], train_mask=[6294], val_mask=[6294], test_mask=[6294])]}, '327_A1a_ASAP_tumor_map':{'train': [Data(x=[8925, 2048], edge_index=[2, 44005], y=[8925], pos=[8925, 2], train_mask=[8925], val_mask=[8925], test_mask=[8925]), Data(x=[7523, 2048], edge_index=[2, 36939], y=[7523], pos=[7523, 2], train_mask=[7523], val_mask=[7523], test_mask=[7523])], 'val': [Data(x=[9594, 2048], edge_index=[2, 47078], y=[9594], pos=[9594, 2], train_mask=[9594], val_mask=[9594], test_mask=[9594])]}, '327_A1d_ASAP_tumor_map':{'train': [Data(x=[8040, 2048], edge_index=[2, 39486], y=[8040], pos=[8040, 2], train_mask=[8040], val_mask=[8040], test_mask=[8040])], 'val': [Data(x=[8280, 2048], edge_index=[2, 40538], y=[8280], pos=[8280, 2], train_mask=[8280], val_mask=[8280], test_mask=[8280])]}, '327_B1c_ASAP_tumor_map':{'train': [Data(x=[18384, 2048], edge_index=[2, 90616], y=[18384], pos=[18384, 2], train_mask=[18384], val_mask=[18384], test_mask=[18384])], 'val': [Data(x=[20123, 2048], edge_index=[2, 99557], y=[20123], pos=[20123, 2], train_mask=[20123], val_mask=[20123], test_mask=[20123])]}, '341_a_ASAP_tumor_map':{'train': [Data(x=[3285, 2048], edge_index=[2, 16061], y=[3285], pos=[3285, 2], train_mask=[3285], val_mask=[3285], test_mask=[3285]), Data(x=[3282, 2048], edge_index=[2, 16056], y=[3282], pos=[3282, 2], train_mask=[3282], val_mask=[3282], test_mask=[3282])], 'val': [Data(x=[2812, 2048], edge_index=[2, 13740], y=[2812], pos=[2812, 2], train_mask=[2812], val_mask=[2812], test_mask=[2812])]}, '341_b_ASAP_tumor_map':{'train': [Data(x=[2217, 2048], edge_index=[2, 10801], y=[2217], pos=[2217, 2], train_mask=[2217], val_mask=[2217], test_mask=[2217]), Data(x=[2806, 2048], edge_index=[2, 13728], y=[2806], pos=[2806, 2], train_mask=[2806], val_mask=[2806], test_mask=[2806])], 'val': [Data(x=[1747, 2048], edge_index=[2, 8461], y=[1747], pos=[1747, 2], train_mask=[1747], val_mask=[1747], test_mask=[1747])]}, '342_a_ASAP_tumor_map':{'train': [Data(x=[817, 2048], edge_index=[2, 3897], y=[817], pos=[817, 2], train_mask=[817], val_mask=[817], test_mask=[817]), Data(x=[795, 2048], edge_index=[2, 3785], y=[795], pos=[795, 2], train_mask=[795], val_mask=[795], test_mask=[795]), Data(x=[703, 2048], edge_index=[2, 3369], y=[703], pos=[703, 2], train_mask=[703], val_mask=[703], test_mask=[703]), Data(x=[832, 2048], edge_index=[2, 3972], y=[832], pos=[832, 2], train_mask=[832], val_mask=[832], test_mask=[832]), Data(x=[668, 2048], edge_index=[2, 3170], y=[668], pos=[668, 2], train_mask=[668], val_mask=[668], test_mask=[668]), Data(x=[884, 2048], edge_index=[2, 4244], y=[884], pos=[884, 2], train_mask=[884], val_mask=[884], test_mask=[884]), Data(x=[583, 2048], edge_index=[2, 2769], y=[583], pos=[583, 2], train_mask=[583], val_mask=[583], test_mask=[583])], 'val': [Data(x=[935, 2048], edge_index=[2, 4489], y=[935], pos=[935, 2], train_mask=[935], val_mask=[935], test_mask=[935])]}, '342_b_ASAP_tumor_map':{'train': [Data(x=[902, 2048], edge_index=[2, 4298], y=[902], pos=[902, 2], train_mask=[902], val_mask=[902], test_mask=[902]), Data(x=[815, 2048], edge_index=[2, 3889], y=[815], pos=[815, 2], train_mask=[815], val_mask=[815], test_mask=[815]), Data(x=[878, 2048], edge_index=[2, 4210], y=[878], pos=[878, 2], train_mask=[878], val_mask=[878], test_mask=[878]), Data(x=[844, 2048], edge_index=[2, 4004], y=[844], pos=[844, 2], train_mask=[844], val_mask=[844], test_mask=[844]), Data(x=[826, 2048], edge_index=[2, 3952], y=[826], pos=[826, 2], train_mask=[826], val_mask=[826], test_mask=[826]), Data(x=[871, 2048], edge_index=[2, 4135], y=[871], pos=[871, 2], train_mask=[871], val_mask=[871], test_mask=[871]), Data(x=[842, 2048], edge_index=[2, 4024], y=[842], pos=[842, 2], train_mask=[842], val_mask=[842], test_mask=[842])], 'val': [Data(x=[850, 2048], edge_index=[2, 4038], y=[850], pos=[850, 2], train_mask=[850], val_mask=[850], test_mask=[850])]}, '343_a_ASAP_tumor_map':{'train': [Data(x=[6056, 2048], edge_index=[2, 28736], y=[6056], pos=[6056, 2], train_mask=[6056], val_mask=[6056], test_mask=[6056]), Data(x=[217, 2048], edge_index=[2, 991], y=[217], pos=[217, 2], train_mask=[217], val_mask=[217], test_mask=[217])], 'val': [Data(x=[10754, 2048], edge_index=[2, 51502], y=[10754], pos=[10754, 2], train_mask=[10754], val_mask=[10754], test_mask=[10754])]}, '343_b_ASAP_tumor_map':{'train': [Data(x=[22341, 2048], edge_index=[2, 109241], y=[22341], pos=[22341, 2], train_mask=[22341], val_mask=[22341], test_mask=[22341])], 'val': []}, '343_c_ASAP_tumor_map':{'train': [Data(x=[8943, 2048], edge_index=[2, 43861], y=[8943], pos=[8943, 2], train_mask=[8943], val_mask=[8943], test_mask=[8943])], 'val': [Data(x=[14272, 2048], edge_index=[2, 69508], y=[14272], pos=[14272, 2], train_mask=[14272], val_mask=[14272], test_mask=[14272])]}, '343_d_ASAP_tumor_map':{'train': [Data(x=[23840, 2048], edge_index=[2, 116080], y=[23840], pos=[23840, 2], train_mask=[23840], val_mask=[23840], test_mask=[23840])], 'val': []}, '344_a_ASAP_tumor_map':{'train': [Data(x=[2319, 2048], edge_index=[2, 11133], y=[2319], pos=[2319, 2], train_mask=[2319], val_mask=[2319], test_mask=[2319]), Data(x=[2536, 2048], edge_index=[2, 12266], y=[2536], pos=[2536, 2], train_mask=[2536], val_mask=[2536], test_mask=[2536]), Data(x=[2706, 2048], edge_index=[2, 13020], y=[2706], pos=[2706, 2], train_mask=[2706], val_mask=[2706], test_mask=[2706])], 'val': [Data(x=[2423, 2048], edge_index=[2, 11553], y=[2423], pos=[2423, 2], train_mask=[2423], val_mask=[2423], test_mask=[2423])]}, '344_b_ASAP_tumor_map':{'train': [Data(x=[2642, 2048], edge_index=[2, 12780], y=[2642], pos=[2642, 2], train_mask=[2642], val_mask=[2642], test_mask=[2642]), Data(x=[2598, 2048], edge_index=[2, 12504], y=[2598], pos=[2598, 2], train_mask=[2598], val_mask=[2598], test_mask=[2598]), Data(x=[2578, 2048], edge_index=[2, 12512], y=[2578], pos=[2578, 2], train_mask=[2578], val_mask=[2578], test_mask=[2578])], 'val': [Data(x=[2523, 2048], edge_index=[2, 12237], y=[2523], pos=[2523, 2], train_mask=[2523], val_mask=[2523], test_mask=[2523])]}, '345_a_ASAP_tumor_map':{'train': [Data(x=[5059, 2048], edge_index=[2, 24891], y=[5059], pos=[5059, 2], train_mask=[5059], val_mask=[5059], test_mask=[5059]), Data(x=[4642, 2048], edge_index=[2, 22826], y=[4642], pos=[4642, 2], train_mask=[4642], val_mask=[4642], test_mask=[4642])], 'val': [Data(x=[4837, 2048], edge_index=[2, 23785], y=[4837], pos=[4837, 2], train_mask=[4837], val_mask=[4837], test_mask=[4837])]}, '345_b_ASAP_tumor_map':{'train': [Data(x=[5019, 2048], edge_index=[2, 24651], y=[5019], pos=[5019, 2], train_mask=[5019], val_mask=[5019], test_mask=[5019]), Data(x=[5072, 2048], edge_index=[2, 24926], y=[5072], pos=[5072, 2], train_mask=[5072], val_mask=[5072], test_mask=[5072])], 'val': [Data(x=[4723, 2048], edge_index=[2, 23209], y=[4723], pos=[4723, 2], train_mask=[4723], val_mask=[4723], test_mask=[4723])]}, '346_a_ASAP_tumor_map':{'train': [Data(x=[2608, 2048], edge_index=[2, 12462], y=[2608], pos=[2608, 2], train_mask=[2608], val_mask=[2608], test_mask=[2608]), Data(x=[532, 2048], edge_index=[2, 2502], y=[532], pos=[532, 2], train_mask=[532], val_mask=[532], test_mask=[532]), Data(x=[2529, 2048], edge_index=[2, 12003], y=[2529], pos=[2529, 2], train_mask=[2529], val_mask=[2529], test_mask=[2529]), Data(x=[2207, 2048], edge_index=[2, 10509], y=[2207], pos=[2207, 2], train_mask=[2207], val_mask=[2207], test_mask=[2207]), Data(x=[2774, 2048], edge_index=[2, 13196], y=[2774], pos=[2774, 2], train_mask=[2774], val_mask=[2774], test_mask=[2774])], 'val': [Data(x=[296, 2048], edge_index=[2, 1326], y=[296], pos=[296, 2], train_mask=[296], val_mask=[296], test_mask=[296])]}, '346_b_ASAP_tumor_map':{'train': [Data(x=[2110, 2048], edge_index=[2, 10048], y=[2110], pos=[2110, 2], train_mask=[2110], val_mask=[2110], test_mask=[2110]), Data(x=[256, 2048], edge_index=[2, 1190], y=[256], pos=[256, 2], train_mask=[256], val_mask=[256], test_mask=[256]), Data(x=[647, 2048], edge_index=[2, 3041], y=[647], pos=[647, 2], train_mask=[647], val_mask=[647], test_mask=[647]), Data(x=[1926, 2048], edge_index=[2, 9266], y=[1926], pos=[1926, 2], train_mask=[1926], val_mask=[1926], test_mask=[1926]), Data(x=[256, 2048], edge_index=[2, 1138], y=[256], pos=[256, 2], train_mask=[256], val_mask=[256], test_mask=[256]), Data(x=[1968, 2048], edge_index=[2, 9308], y=[1968], pos=[1968, 2], train_mask=[1968], val_mask=[1968], test_mask=[1968]), Data(x=[2800, 2048], edge_index=[2, 13298], y=[2800], pos=[2800, 2], train_mask=[2800], val_mask=[2800], test_mask=[2800]), Data(x=[369, 2048], edge_index=[2, 1685], y=[369], pos=[369, 2], train_mask=[369], val_mask=[369], test_mask=[369]), Data(x=[358, 2048], edge_index=[2, 1636], y=[358], pos=[358, 2], train_mask=[358], val_mask=[358], test_mask=[358])], 'val': [Data(x=[223, 2048], edge_index=[2, 1035], y=[223], pos=[223, 2], train_mask=[223], val_mask=[223], test_mask=[223]), Data(x=[375, 2048], edge_index=[2, 1731], y=[375], pos=[375, 2], train_mask=[375], val_mask=[375], test_mask=[375])]}, '350_A1a_ASAP_tumor_map':{'train': [Data(x=[2152, 2048], edge_index=[2, 10320], y=[2152], pos=[2152, 2], train_mask=[2152], val_mask=[2152], test_mask=[2152]), Data(x=[2573, 2048], edge_index=[2, 12497], y=[2573], pos=[2573, 2], train_mask=[2573], val_mask=[2573], test_mask=[2573]), Data(x=[5921, 2048], edge_index=[2, 28809], y=[5921], pos=[5921, 2], train_mask=[5921], val_mask=[5921], test_mask=[5921]), Data(x=[2435, 2048], edge_index=[2, 11667], y=[2435], pos=[2435, 2], train_mask=[2435], val_mask=[2435], test_mask=[2435])], 'val': [Data(x=[2947, 2048], edge_index=[2, 14323], y=[2947], pos=[2947, 2], train_mask=[2947], val_mask=[2947], test_mask=[2947])]}, '350_A1b_ASAP_tumor_map':{'train': [Data(x=[6168, 2048], edge_index=[2, 30254], y=[6168], pos=[6168, 2], train_mask=[6168], val_mask=[6168], test_mask=[6168]), Data(x=[6601, 2048], edge_index=[2, 32313], y=[6601], pos=[6601, 2], train_mask=[6601], val_mask=[6601], test_mask=[6601])], 'val': [Data(x=[6628, 2048], edge_index=[2, 32542], y=[6628], pos=[6628, 2], train_mask=[6628], val_mask=[6628], test_mask=[6628])]}, '350_A1c_ASAP_tumor_map':{'train': [Data(x=[6353, 2048], edge_index=[2, 31203], y=[6353], pos=[6353, 2], train_mask=[6353], val_mask=[6353], test_mask=[6353]), Data(x=[6222, 2048], edge_index=[2, 30556], y=[6222], pos=[6222, 2], train_mask=[6222], val_mask=[6222], test_mask=[6222])], 'val': [Data(x=[5921, 2048], edge_index=[2, 29101], y=[5921], pos=[5921, 2], train_mask=[5921], val_mask=[5921], test_mask=[5921])]}, '350_A1d_ASAP_tumor_map':{'train': [Data(x=[5494, 2048], edge_index=[2, 26986], y=[5494], pos=[5494, 2], train_mask=[5494], val_mask=[5494], test_mask=[5494]), Data(x=[5831, 2048], edge_index=[2, 28669], y=[5831], pos=[5831, 2], train_mask=[5831], val_mask=[5831], test_mask=[5831])], 'val': [Data(x=[5516, 2048], edge_index=[2, 27058], y=[5516], pos=[5516, 2], train_mask=[5516], val_mask=[5516], test_mask=[5516])]}, '350_A1e_ASAP_tumor_map':{'train': [Data(x=[4710, 2048], edge_index=[2, 23116], y=[4710], pos=[4710, 2], train_mask=[4710], val_mask=[4710], test_mask=[4710]), Data(x=[5083, 2048], edge_index=[2, 24985], y=[5083], pos=[5083, 2], train_mask=[5083], val_mask=[5083], test_mask=[5083])], 'val': [Data(x=[4639, 2048], edge_index=[2, 22765], y=[4639], pos=[4639, 2], train_mask=[4639], val_mask=[4639], test_mask=[4639])]}, '351_A2b_ASAP_tumor_map':{'train': [Data(x=[1686, 2048], edge_index=[2, 8148], y=[1686], pos=[1686, 2], train_mask=[1686], val_mask=[1686], test_mask=[1686]), Data(x=[1663, 2048], edge_index=[2, 8025], y=[1663], pos=[1663, 2], train_mask=[1663], val_mask=[1663], test_mask=[1663]), Data(x=[1787, 2048], edge_index=[2, 8725], y=[1787], pos=[1787, 2], train_mask=[1787], val_mask=[1787], test_mask=[1787]), Data(x=[1805, 2048], edge_index=[2, 8797], y=[1805], pos=[1805, 2], train_mask=[1805], val_mask=[1805], test_mask=[1805]), Data(x=[1665, 2048], edge_index=[2, 8099], y=[1665], pos=[1665, 2], train_mask=[1665], val_mask=[1665], test_mask=[1665])], 'val': [Data(x=[1672, 2048], edge_index=[2, 8158], y=[1672], pos=[1672, 2], train_mask=[1672], val_mask=[1672], test_mask=[1672])]}, '352_A1d_ASAP_tumor_map':{'train': [Data(x=[3270, 2048], edge_index=[2, 16022], y=[3270], pos=[3270, 2], train_mask=[3270], val_mask=[3270], test_mask=[3270]), Data(x=[3424, 2048], edge_index=[2, 16834], y=[3424], pos=[3424, 2], train_mask=[3424], val_mask=[3424], test_mask=[3424]), Data(x=[3966, 2048], edge_index=[2, 19470], y=[3966], pos=[3966, 2], train_mask=[3966], val_mask=[3966], test_mask=[3966]), Data(x=[3803, 2048], edge_index=[2, 18603], y=[3803], pos=[3803, 2], train_mask=[3803], val_mask=[3803], test_mask=[3803]), Data(x=[3460, 2048], edge_index=[2, 16982], y=[3460], pos=[3460, 2], train_mask=[3460], val_mask=[3460], test_mask=[3460])], 'val': [Data(x=[3325, 2048], edge_index=[2, 16313], y=[3325], pos=[3325, 2], train_mask=[3325], val_mask=[3325], test_mask=[3325])]}, '352_A1e_ASAP_tumor_map':{'train': [Data(x=[3076, 2048], edge_index=[2, 15040], y=[3076], pos=[3076, 2], train_mask=[3076], val_mask=[3076], test_mask=[3076]), Data(x=[3317, 2048], edge_index=[2, 16267], y=[3317], pos=[3317, 2], train_mask=[3317], val_mask=[3317], test_mask=[3317]), Data(x=[3746, 2048], edge_index=[2, 18414], y=[3746], pos=[3746, 2], train_mask=[3746], val_mask=[3746], test_mask=[3746]), Data(x=[3797, 2048], edge_index=[2, 18657], y=[3797], pos=[3797, 2], train_mask=[3797], val_mask=[3797], test_mask=[3797]), Data(x=[3216, 2048], edge_index=[2, 15736], y=[3216], pos=[3216, 2], train_mask=[3216], val_mask=[3216], test_mask=[3216])], 'val': [Data(x=[3533, 2048], edge_index=[2, 17355], y=[3533], pos=[3533, 2], train_mask=[3533], val_mask=[3533], test_mask=[3533])]}, '352_A1g_ASAP_tumor_map':{'train': [Data(x=[2713, 2048], edge_index=[2, 13289], y=[2713], pos=[2713, 2], train_mask=[2713], val_mask=[2713], test_mask=[2713]), Data(x=[2708, 2048], edge_index=[2, 13252], y=[2708], pos=[2708, 2], train_mask=[2708], val_mask=[2708], test_mask=[2708]), Data(x=[2900, 2048], edge_index=[2, 14226], y=[2900], pos=[2900, 2], train_mask=[2900], val_mask=[2900], test_mask=[2900]), Data(x=[2921, 2048], edge_index=[2, 14269], y=[2921], pos=[2921, 2], train_mask=[2921], val_mask=[2921], test_mask=[2921]), Data(x=[2752, 2048], edge_index=[2, 13480], y=[2752], pos=[2752, 2], train_mask=[2752], val_mask=[2752], test_mask=[2752])], 'val': [Data(x=[3023, 2048], edge_index=[2, 14817], y=[3023], pos=[3023, 2], train_mask=[3023], val_mask=[3023], test_mask=[3023])]}, '352_A1h_ASAP_tumor_map':{'train': [Data(x=[2578, 2048], edge_index=[2, 12626], y=[2578], pos=[2578, 2], train_mask=[2578], val_mask=[2578], test_mask=[2578]), Data(x=[2365, 2048], edge_index=[2, 11465], y=[2365], pos=[2365, 2], train_mask=[2365], val_mask=[2365], test_mask=[2365]), Data(x=[2314, 2048], edge_index=[2, 11216], y=[2314], pos=[2314, 2], train_mask=[2314], val_mask=[2314], test_mask=[2314]), Data(x=[2572, 2048], edge_index=[2, 12592], y=[2572], pos=[2572, 2], train_mask=[2572], val_mask=[2572], test_mask=[2572]), Data(x=[2198, 2048], edge_index=[2, 10612], y=[2198], pos=[2198, 2], train_mask=[2198], val_mask=[2198], test_mask=[2198])], 'val': [Data(x=[2780, 2048], edge_index=[2, 13618], y=[2780], pos=[2780, 2], train_mask=[2780], val_mask=[2780], test_mask=[2780])]}, '352_A1i_ASAP_tumor_map':{'train': [Data(x=[2440, 2048], edge_index=[2, 11852], y=[2440], pos=[2440, 2], train_mask=[2440], val_mask=[2440], test_mask=[2440]), Data(x=[2460, 2048], edge_index=[2, 12036], y=[2460], pos=[2460, 2], train_mask=[2460], val_mask=[2460], test_mask=[2460]), Data(x=[2678, 2048], edge_index=[2, 13116], y=[2678], pos=[2678, 2], train_mask=[2678], val_mask=[2678], test_mask=[2678]), Data(x=[2647, 2048], edge_index=[2, 12957], y=[2647], pos=[2647, 2], train_mask=[2647], val_mask=[2647], test_mask=[2647]), Data(x=[2462, 2048], edge_index=[2, 12048], y=[2462], pos=[2462, 2], train_mask=[2462], val_mask=[2462], test_mask=[2462])], 'val': [Data(x=[1890, 2048], edge_index=[2, 9174], y=[1890], pos=[1890, 2], train_mask=[1890], val_mask=[1890], test_mask=[1890])]}, '353_A2b_ASAP_tumor_map':{'train': [Data(x=[4220, 2048], edge_index=[2, 20574], y=[4220], pos=[4220, 2], train_mask=[4220], val_mask=[4220], test_mask=[4220]), Data(x=[4557, 2048], edge_index=[2, 22333], y=[4557], pos=[4557, 2], train_mask=[4557], val_mask=[4557], test_mask=[4557]), Data(x=[4607, 2048], edge_index=[2, 22561], y=[4607], pos=[4607, 2], train_mask=[4607], val_mask=[4607], test_mask=[4607])], 'val': [Data(x=[4472, 2048], edge_index=[2, 21880], y=[4472], pos=[4472, 2], train_mask=[4472], val_mask=[4472], test_mask=[4472])]}, '354_A1b_ASAP_tumor_map':{'train': [Data(x=[13521, 2048], edge_index=[2, 65591], y=[13521], pos=[13521, 2], train_mask=[13521], val_mask=[13521], test_mask=[13521])], 'val': []}, '354_A1c_ASAP_tumor_map':{'train': [Data(x=[15681, 2048], edge_index=[2, 76283], y=[15681], pos=[15681, 2], train_mask=[15681], val_mask=[15681], test_mask=[15681])], 'val': []}, '354_A1d_ASAP_tumor_map':{'train': [Data(x=[18198, 2048], edge_index=[2, 89710], y=[18198], pos=[18198, 2], train_mask=[18198], val_mask=[18198], test_mask=[18198])], 'val': []}, '354_A3a_ASAP_tumor_map':{'train': [Data(x=[459, 2048], edge_index=[2, 2023], y=[459], pos=[459, 2], train_mask=[459], val_mask=[459], test_mask=[459]), Data(x=[8477, 2048], edge_index=[2, 40317], y=[8477], pos=[8477, 2], train_mask=[8477], val_mask=[8477], test_mask=[8477]), Data(x=[2248, 2048], edge_index=[2, 10640], y=[2248], pos=[2248, 2], train_mask=[2248], val_mask=[2248], test_mask=[2248])], 'val': [Data(x=[2063, 2048], edge_index=[2, 9639], y=[2063], pos=[2063, 2], train_mask=[2063], val_mask=[2063], test_mask=[2063])]}, '354_A3b_ASAP_tumor_map':{'train': [Data(x=[11270, 2048], edge_index=[2, 54620], y=[11270], pos=[11270, 2], train_mask=[11270], val_mask=[11270], test_mask=[11270])], 'val': [Data(x=[10642, 2048], edge_index=[2, 51608], y=[10642], pos=[10642, 2], train_mask=[10642], val_mask=[10642], test_mask=[10642])]}, '354_A3c_ASAP_tumor_map':{'train': [Data(x=[12102, 2048], edge_index=[2, 58352], y=[12102], pos=[12102, 2], train_mask=[12102], val_mask=[12102], test_mask=[12102])], 'val': [Data(x=[13586, 2048], edge_index=[2, 66282], y=[13586], pos=[13586, 2], train_mask=[13586], val_mask=[13586], test_mask=[13586])]}, '354_D1b_ASAP_tumor_map':{'train': [Data(x=[7910, 2048], edge_index=[2, 38174], y=[7910], pos=[7910, 2], train_mask=[7910], val_mask=[7910], test_mask=[7910])], 'val': [Data(x=[7125, 2048], edge_index=[2, 34687], y=[7125], pos=[7125, 2], train_mask=[7125], val_mask=[7125], test_mask=[7125])]}, '355_A1d_ASAP_tumor_map':{'train': [Data(x=[2793, 2048], edge_index=[2, 13597], y=[2793], pos=[2793, 2], train_mask=[2793], val_mask=[2793], test_mask=[2793]), Data(x=[2950, 2048], edge_index=[2, 14440], y=[2950], pos=[2950, 2], train_mask=[2950], val_mask=[2950], test_mask=[2950])], 'val': [Data(x=[2684, 2048], edge_index=[2, 13052], y=[2684], pos=[2684, 2], train_mask=[2684], val_mask=[2684], test_mask=[2684])]}, '356_A1b_ASAP_tumor_map':{'train': [Data(x=[3738, 2048], edge_index=[2, 18284], y=[3738], pos=[3738, 2], train_mask=[3738], val_mask=[3738], test_mask=[3738]), Data(x=[3631, 2048], edge_index=[2, 17755], y=[3631], pos=[3631, 2], train_mask=[3631], val_mask=[3631], test_mask=[3631])], 'val': [Data(x=[3395, 2048], edge_index=[2, 16605], y=[3395], pos=[3395, 2], train_mask=[3395], val_mask=[3395], test_mask=[3395])]}, '358_A1a_ASAP_tumor_map':{'train': [Data(x=[2626, 2048], edge_index=[2, 12492], y=[2626], pos=[2626, 2], train_mask=[2626], val_mask=[2626], test_mask=[2626]), Data(x=[1742, 2048], edge_index=[2, 8152], y=[1742], pos=[1742, 2], train_mask=[1742], val_mask=[1742], test_mask=[1742]), Data(x=[2955, 2048], edge_index=[2, 14357], y=[2955], pos=[2955, 2], train_mask=[2955], val_mask=[2955], test_mask=[2955]), Data(x=[2561, 2048], edge_index=[2, 12297], y=[2561], pos=[2561, 2], train_mask=[2561], val_mask=[2561], test_mask=[2561]), Data(x=[2825, 2048], edge_index=[2, 13425], y=[2825], pos=[2825, 2], train_mask=[2825], val_mask=[2825], test_mask=[2825])], 'val': [Data(x=[3280, 2048], edge_index=[2, 15970], y=[3280], pos=[3280, 2], train_mask=[3280], val_mask=[3280], test_mask=[3280])]}, '358_A1b_ASAP_tumor_map':{'train': [Data(x=[3117, 2048], edge_index=[2, 15001], y=[3117], pos=[3117, 2], train_mask=[3117], val_mask=[3117], test_mask=[3117]), Data(x=[2663, 2048], edge_index=[2, 12951], y=[2663], pos=[2663, 2], train_mask=[2663], val_mask=[2663], test_mask=[2663]), Data(x=[5892, 2048], edge_index=[2, 28576], y=[5892], pos=[5892, 2], train_mask=[5892], val_mask=[5892], test_mask=[5892]), Data(x=[3544, 2048], edge_index=[2, 17260], y=[3544], pos=[3544, 2], train_mask=[3544], val_mask=[3544], test_mask=[3544])], 'val': [Data(x=[3285, 2048], edge_index=[2, 15963], y=[3285], pos=[3285, 2], train_mask=[3285], val_mask=[3285], test_mask=[3285])]}, '361_a_ASAP_tumor_map':{'train': [Data(x=[5045, 2048], edge_index=[2, 24627], y=[5045], pos=[5045, 2], train_mask=[5045], val_mask=[5045], test_mask=[5045]), Data(x=[506, 2048], edge_index=[2, 2386], y=[506], pos=[506, 2], train_mask=[506], val_mask=[506], test_mask=[506]), Data(x=[8312, 2048], edge_index=[2, 40554], y=[8312], pos=[8312, 2], train_mask=[8312], val_mask=[8312], test_mask=[8312])], 'val': [Data(x=[2890, 2048], edge_index=[2, 14014], y=[2890], pos=[2890, 2], train_mask=[2890], val_mask=[2890], test_mask=[2890])]}, '361_b_ASAP_tumor_map':{'train': [Data(x=[15269, 2048], edge_index=[2, 74929], y=[15269], pos=[15269, 2], train_mask=[15269], val_mask=[15269], test_mask=[15269])], 'val': [Data(x=[6360, 2048], edge_index=[2, 31250], y=[6360], pos=[6360, 2], train_mask=[6360], val_mask=[6360], test_mask=[6360])]}, '362_A1a_ASAP_tumor_map':{'train': [Data(x=[10656, 2048], edge_index=[2, 52170], y=[10656], pos=[10656, 2], train_mask=[10656], val_mask=[10656], test_mask=[10656])], 'val': [Data(x=[8954, 2048], edge_index=[2, 43558], y=[8954], pos=[8954, 2], train_mask=[8954], val_mask=[8954], test_mask=[8954])]}, '362_A1b_ASAP_tumor_map':{'train': [Data(x=[10277, 2048], edge_index=[2, 50425], y=[10277], pos=[10277, 2], train_mask=[10277], val_mask=[10277], test_mask=[10277])], 'val': [Data(x=[10950, 2048], edge_index=[2, 53728], y=[10950], pos=[10950, 2], train_mask=[10950], val_mask=[10950], test_mask=[10950])]}, '362_A1c_ASAP_tumor_map':{'train': [Data(x=[8771, 2048], edge_index=[2, 42925], y=[8771], pos=[8771, 2], train_mask=[8771], val_mask=[8771], test_mask=[8771])], 'val': [Data(x=[10025, 2048], edge_index=[2, 49095], y=[10025], pos=[10025, 2], train_mask=[10025], val_mask=[10025], test_mask=[10025])]}, '363_A1b_ASAP_tumor_map':{'train': [Data(x=[10713, 2048], edge_index=[2, 52717], y=[10713], pos=[10713, 2], train_mask=[10713], val_mask=[10713], test_mask=[10713])], 'val': [Data(x=[10069, 2048], edge_index=[2, 49471], y=[10069], pos=[10069, 2], train_mask=[10069], val_mask=[10069], test_mask=[10069])]}, '363_A1c_ASAP_tumor_map':{'train': [Data(x=[10333, 2048], edge_index=[2, 50949], y=[10333], pos=[10333, 2], train_mask=[10333], val_mask=[10333], test_mask=[10333])], 'val': [Data(x=[10265, 2048], edge_index=[2, 50613], y=[10265], pos=[10265, 2], train_mask=[10265], val_mask=[10265], test_mask=[10265])]}, '363_A2b_ASAP_tumor_map':{'train': [Data(x=[8385, 2048], edge_index=[2, 41225], y=[8385], pos=[8385, 2], train_mask=[8385], val_mask=[8385], test_mask=[8385]), Data(x=[8318, 2048], edge_index=[2, 40800], y=[8318], pos=[8318, 2], train_mask=[8318], val_mask=[8318], test_mask=[8318])], 'val': [Data(x=[8570, 2048], edge_index=[2, 42180], y=[8570], pos=[8570, 2], train_mask=[8570], val_mask=[8570], test_mask=[8570])]}, '363_A3b_ASAP_tumor_map':{'train': [Data(x=[11918, 2048], edge_index=[2, 58766], y=[11918], pos=[11918, 2], train_mask=[11918], val_mask=[11918], test_mask=[11918])], 'val': [Data(x=[11553, 2048], edge_index=[2, 56695], y=[11553], pos=[11553, 2], train_mask=[11553], val_mask=[11553], test_mask=[11553])]}, '364_A1b_ASAP_tumor_map':{'train': [Data(x=[7890, 2048], edge_index=[2, 38608], y=[7890], pos=[7890, 2], train_mask=[7890], val_mask=[7890], test_mask=[7890]), Data(x=[7228, 2048], edge_index=[2, 35234], y=[7228], pos=[7228, 2], train_mask=[7228], val_mask=[7228], test_mask=[7228])], 'val': [Data(x=[7129, 2048], edge_index=[2, 34695], y=[7129], pos=[7129, 2], train_mask=[7129], val_mask=[7129], test_mask=[7129])]}, '364_A2b_ASAP_tumor_map':{'train': [Data(x=[7762, 2048], edge_index=[2, 37502], y=[7762], pos=[7762, 2], train_mask=[7762], val_mask=[7762], test_mask=[7762]), Data(x=[6950, 2048], edge_index=[2, 33088], y=[6950], pos=[6950, 2], train_mask=[6950], val_mask=[6950], test_mask=[6950])], 'val': [Data(x=[7887, 2048], edge_index=[2, 38045], y=[7887], pos=[7887, 2], train_mask=[7887], val_mask=[7887], test_mask=[7887])]}, '364_A4b_ASAP_tumor_map':{'train': [Data(x=[7567, 2048], edge_index=[2, 36695], y=[7567], pos=[7567, 2], train_mask=[7567], val_mask=[7567], test_mask=[7567]), Data(x=[6416, 2048], edge_index=[2, 30756], y=[6416], pos=[6416, 2], train_mask=[6416], val_mask=[6416], test_mask=[6416])], 'val': [Data(x=[8013, 2048], edge_index=[2, 38809], y=[8013], pos=[8013, 2], train_mask=[8013], val_mask=[8013], test_mask=[8013])]}, '365_A1b_ASAP_tumor_map':{'train': [Data(x=[6347, 2048], edge_index=[2, 31109], y=[6347], pos=[6347, 2], train_mask=[6347], val_mask=[6347], test_mask=[6347]), Data(x=[186, 2048], edge_index=[2, 812], y=[186], pos=[186, 2], train_mask=[186], val_mask=[186], test_mask=[186]), Data(x=[6236, 2048], edge_index=[2, 30544], y=[6236], pos=[6236, 2], train_mask=[6236], val_mask=[6236], test_mask=[6236])], 'val': [Data(x=[6763, 2048], edge_index=[2, 33205], y=[6763], pos=[6763, 2], train_mask=[6763], val_mask=[6763], test_mask=[6763])]}, '365_A2b_ASAP_tumor_map':{'train': [Data(x=[6896, 2048], edge_index=[2, 33746], y=[6896], pos=[6896, 2], train_mask=[6896], val_mask=[6896], test_mask=[6896]), Data(x=[5952, 2048], edge_index=[2, 29198], y=[5952], pos=[5952, 2], train_mask=[5952], val_mask=[5952], test_mask=[5952])], 'val': [Data(x=[5449, 2048], edge_index=[2, 26585], y=[5449], pos=[5449, 2], train_mask=[5449], val_mask=[5449], test_mask=[5449])]}, '366_A1a_ASAP_tumor_map':{'train': [Data(x=[7163, 2048], edge_index=[2, 34633], y=[7163], pos=[7163, 2], train_mask=[7163], val_mask=[7163], test_mask=[7163])], 'val': [Data(x=[6673, 2048], edge_index=[2, 32347], y=[6673], pos=[6673, 2], train_mask=[6673], val_mask=[6673], test_mask=[6673])]}, '366_A1b_ASAP_tumor_map':{'train': [Data(x=[8481, 2048], edge_index=[2, 41449], y=[8481], pos=[8481, 2], train_mask=[8481], val_mask=[8481], test_mask=[8481])], 'val': [Data(x=[8178, 2048], edge_index=[2, 39998], y=[8178], pos=[8178, 2], train_mask=[8178], val_mask=[8178], test_mask=[8178])]}, '366_A1c_ASAP_tumor_map':{'train': [Data(x=[8477, 2048], edge_index=[2, 41553], y=[8477], pos=[8477, 2], train_mask=[8477], val_mask=[8477], test_mask=[8477])], 'val': [Data(x=[8539, 2048], edge_index=[2, 41785], y=[8539], pos=[8539, 2], train_mask=[8539], val_mask=[8539], test_mask=[8539])]}, '367_A2b_ASAP_tumor_map':{'train': [Data(x=[2290, 2048], edge_index=[2, 11108], y=[2290], pos=[2290, 2], train_mask=[2290], val_mask=[2290], test_mask=[2290]), Data(x=[2311, 2048], edge_index=[2, 11239], y=[2311], pos=[2311, 2], train_mask=[2311], val_mask=[2311], test_mask=[2311]), Data(x=[2053, 2048], edge_index=[2, 10031], y=[2053], pos=[2053, 2], train_mask=[2053], val_mask=[2053], test_mask=[2053]), Data(x=[2518, 2048], edge_index=[2, 12228], y=[2518], pos=[2518, 2], train_mask=[2518], val_mask=[2518], test_mask=[2518])], 'val': [Data(x=[2000, 2048], edge_index=[2, 9724], y=[2000], pos=[2000, 2], train_mask=[2000], val_mask=[2000], test_mask=[2000])]}, '368_A1b_ASAP_tumor_map':{'train': [Data(x=[14939, 2048], edge_index=[2, 73293], y=[14939], pos=[14939, 2], train_mask=[14939], val_mask=[14939], test_mask=[14939])], 'val': [Data(x=[14068, 2048], edge_index=[2, 68870], y=[14068], pos=[14068, 2], train_mask=[14068], val_mask=[14068], test_mask=[14068])]}, '368_A1c_ASAP_tumor_map':{'train': [Data(x=[16135, 2048], edge_index=[2, 79453], y=[16135], pos=[16135, 2], train_mask=[16135], val_mask=[16135], test_mask=[16135])], 'val': [Data(x=[15735, 2048], edge_index=[2, 76983], y=[15735], pos=[15735, 2], train_mask=[15735], val_mask=[15735], test_mask=[15735])]}, '368_A1d_ASAP_tumor_map':{'train': [Data(x=[17493, 2048], edge_index=[2, 86455], y=[17493], pos=[17493, 2], train_mask=[17493], val_mask=[17493], test_mask=[17493])], 'val': [Data(x=[16641, 2048], edge_index=[2, 81905], y=[16641], pos=[16641, 2], train_mask=[16641], val_mask=[16641], test_mask=[16641])]}, '369_A1b_ASAP_tumor_map':{'train': [Data(x=[4862, 2048], edge_index=[2, 23662], y=[4862], pos=[4862, 2], train_mask=[4862], val_mask=[4862], test_mask=[4862]), Data(x=[5344, 2048], edge_index=[2, 26102], y=[5344], pos=[5344, 2], train_mask=[5344], val_mask=[5344], test_mask=[5344])], 'val': [Data(x=[4344, 2048], edge_index=[2, 21160], y=[4344], pos=[4344, 2], train_mask=[4344], val_mask=[4344], test_mask=[4344])]}, '369_A1c_ASAP_tumor_map':{'train': [Data(x=[3579, 2048], edge_index=[2, 17421], y=[3579], pos=[3579, 2], train_mask=[3579], val_mask=[3579], test_mask=[3579]), Data(x=[2806, 2048], edge_index=[2, 13668], y=[2806], pos=[2806, 2], train_mask=[2806], val_mask=[2806], test_mask=[2806]), Data(x=[3465, 2048], edge_index=[2, 16751], y=[3465], pos=[3465, 2], train_mask=[3465], val_mask=[3465], test_mask=[3465])], 'val': [Data(x=[3144, 2048], edge_index=[2, 15240], y=[3144], pos=[3144, 2], train_mask=[3144], val_mask=[3144], test_mask=[3144])]}, '369_A2b_ASAP_tumor_map':{'train': [Data(x=[3510, 2048], edge_index=[2, 17166], y=[3510], pos=[3510, 2], train_mask=[3510], val_mask=[3510], test_mask=[3510]), Data(x=[3861, 2048], edge_index=[2, 18849], y=[3861], pos=[3861, 2], train_mask=[3861], val_mask=[3861], test_mask=[3861]), Data(x=[1230, 2048], edge_index=[2, 5880], y=[1230], pos=[1230, 2], train_mask=[1230], val_mask=[1230], test_mask=[1230]), Data(x=[1299, 2048], edge_index=[2, 6165], y=[1299], pos=[1299, 2], train_mask=[1299], val_mask=[1299], test_mask=[1299]), Data(x=[3534, 2048], edge_index=[2, 17090], y=[3534], pos=[3534, 2], train_mask=[3534], val_mask=[3534], test_mask=[3534])], 'val': [Data(x=[851, 2048], edge_index=[2, 4003], y=[851], pos=[851, 2], train_mask=[851], val_mask=[851], test_mask=[851])]}, '370_A1b_ASAP_tumor_map':{'train': [Data(x=[3522, 2048], edge_index=[2, 17230], y=[3522], pos=[3522, 2], train_mask=[3522], val_mask=[3522], test_mask=[3522]), Data(x=[3468, 2048], edge_index=[2, 16934], y=[3468], pos=[3468, 2], train_mask=[3468], val_mask=[3468], test_mask=[3468])], 'val': [Data(x=[3362, 2048], edge_index=[2, 16446], y=[3362], pos=[3362, 2], train_mask=[3362], val_mask=[3362], test_mask=[3362])]}, '370_A2a_ASAP_tumor_map':{'train': [Data(x=[3051, 2048], edge_index=[2, 14891], y=[3051], pos=[3051, 2], train_mask=[3051], val_mask=[3051], test_mask=[3051]), Data(x=[2460, 2048], edge_index=[2, 11918], y=[2460], pos=[2460, 2], train_mask=[2460], val_mask=[2460], test_mask=[2460])], 'val': [Data(x=[3383, 2048], edge_index=[2, 16557], y=[3383], pos=[3383, 2], train_mask=[3383], val_mask=[3383], test_mask=[3383])]}, '370_A2b_ASAP_tumor_map':{'train': [Data(x=[3236, 2048], edge_index=[2, 15876], y=[3236], pos=[3236, 2], train_mask=[3236], val_mask=[3236], test_mask=[3236]), Data(x=[3291, 2048], edge_index=[2, 16135], y=[3291], pos=[3291, 2], train_mask=[3291], val_mask=[3291], test_mask=[3291])], 'val': [Data(x=[3095, 2048], edge_index=[2, 15181], y=[3095], pos=[3095, 2], train_mask=[3095], val_mask=[3095], test_mask=[3095])]}, '37_A2d_ASAP_tumor_map':{'train': [Data(x=[7697, 2048], edge_index=[2, 36761], y=[7697], pos=[7697, 2], train_mask=[7697], val_mask=[7697], test_mask=[7697])], 'val': [Data(x=[7718, 2048], edge_index=[2, 36598], y=[7718], pos=[7718, 2], train_mask=[7718], val_mask=[7718], test_mask=[7718])]}, '61_A1a_ASAP_tumor_map':{'train': [Data(x=[1708, 2048], edge_index=[2, 8198], y=[1708], pos=[1708, 2], train_mask=[1708], val_mask=[1708], test_mask=[1708]), Data(x=[2059, 2048], edge_index=[2, 9967], y=[2059], pos=[2059, 2], train_mask=[2059], val_mask=[2059], test_mask=[2059]), Data(x=[2178, 2048], edge_index=[2, 10598], y=[2178], pos=[2178, 2], train_mask=[2178], val_mask=[2178], test_mask=[2178]), Data(x=[2096, 2048], edge_index=[2, 10164], y=[2096], pos=[2096, 2], train_mask=[2096], val_mask=[2096], test_mask=[2096])], 'val': [Data(x=[2201, 2048], edge_index=[2, 10721], y=[2201], pos=[2201, 2], train_mask=[2201], val_mask=[2201], test_mask=[2201])]}, '61_B1a_ASAP_tumor_map':{'train': [Data(x=[2145, 2048], edge_index=[2, 10425], y=[2145], pos=[2145, 2], train_mask=[2145], val_mask=[2145], test_mask=[2145]), Data(x=[212, 2048], edge_index=[2, 974], y=[212], pos=[212, 2], train_mask=[212], val_mask=[212], test_mask=[212]), Data(x=[2055, 2048], edge_index=[2, 9939], y=[2055], pos=[2055, 2], train_mask=[2055], val_mask=[2055], test_mask=[2055]), Data(x=[1275, 2048], edge_index=[2, 6075], y=[1275], pos=[1275, 2], train_mask=[1275], val_mask=[1275], test_mask=[1275]), Data(x=[1771, 2048], edge_index=[2, 8535], y=[1771], pos=[1771, 2], train_mask=[1771], val_mask=[1771], test_mask=[1771])], 'val': [Data(x=[2088, 2048], edge_index=[2, 10144], y=[2088], pos=[2088, 2], train_mask=[2088], val_mask=[2088], test_mask=[2088])]}, '70_A2b_ASAP_tumor_map':{'train': [Data(x=[1686, 2048], edge_index=[2, 8148], y=[1686], pos=[1686, 2], train_mask=[1686], val_mask=[1686], test_mask=[1686]), Data(x=[1663, 2048], edge_index=[2, 8025], y=[1663], pos=[1663, 2], train_mask=[1663], val_mask=[1663], test_mask=[1663]), Data(x=[1787, 2048], edge_index=[2, 8725], y=[1787], pos=[1787, 2], train_mask=[1787], val_mask=[1787], test_mask=[1787]), Data(x=[1805, 2048], edge_index=[2, 8797], y=[1805], pos=[1805, 2], train_mask=[1805], val_mask=[1805], test_mask=[1805]), Data(x=[1665, 2048], edge_index=[2, 8099], y=[1665], pos=[1665, 2], train_mask=[1665], val_mask=[1665], test_mask=[1665])], 'val': [Data(x=[1672, 2048], edge_index=[2, 8158], y=[1672], pos=[1672, 2], train_mask=[1672], val_mask=[1672], test_mask=[1672])]}, '7_A1c_ASAP_tumor_map':{'train': [Data(x=[6353, 2048], edge_index=[2, 31203], y=[6353], pos=[6353, 2], train_mask=[6353], val_mask=[6353], test_mask=[6353]), Data(x=[6222, 2048], edge_index=[2, 30556], y=[6222], pos=[6222, 2], train_mask=[6222], val_mask=[6222], test_mask=[6222])], 'val': [Data(x=[5921, 2048], edge_index=[2, 29101], y=[5921], pos=[5921, 2], train_mask=[5921], val_mask=[5921], test_mask=[5921])]}, '7_A1d_ASAP_tumor_map':{'train': [Data(x=[5494, 2048], edge_index=[2, 26986], y=[5494], pos=[5494, 2], train_mask=[5494], val_mask=[5494], test_mask=[5494]), Data(x=[5831, 2048], edge_index=[2, 28669], y=[5831], pos=[5831, 2], train_mask=[5831], val_mask=[5831], test_mask=[5831])], 'val': [Data(x=[5516, 2048], edge_index=[2, 27058], y=[5516], pos=[5516, 2], train_mask=[5516], val_mask=[5516], test_mask=[5516])]}, '7_A1e_ASAP_tumor_map':{'train': [Data(x=[4710, 2048], edge_index=[2, 23116], y=[4710], pos=[4710, 2], train_mask=[4710], val_mask=[4710], test_mask=[4710]), Data(x=[5083, 2048], edge_index=[2, 24985], y=[5083], pos=[5083, 2], train_mask=[5083], val_mask=[5083], test_mask=[5083])], 'val': [Data(x=[4639, 2048], edge_index=[2, 22765], y=[4639], pos=[4639, 2], train_mask=[4639], val_mask=[4639], test_mask=[4639])]}}"
   ]
  },
  {
   "cell_type": "code",
   "execution_count": 14,
   "id": "7cfb8d93",
   "metadata": {},
   "outputs": [],
   "source": [
    "import pickle\n",
    "pickle.dump(graph_datasets,open('/dartfs/rc/nosnapshots/V/VaickusL-nb/EDIT_Students/users/Sophie_Chen/graph_dataset/graph_dataset.pkl','wb'))"
   ]
  },
  {
   "cell_type": "code",
   "execution_count": 17,
   "id": "6989ad72",
   "metadata": {},
   "outputs": [],
   "source": [
    "e=pd.read_pickle(\"/dartfs/rc/nosnapshots/V/VaickusL-nb/EDIT_Students/users/Sophie_Chen/graph_dataset/graph_dataset.pkl\")"
   ]
  },
  {
   "cell_type": "code",
   "execution_count": 18,
   "id": "9ed97c19",
   "metadata": {
    "scrolled": false
   },
   "outputs": [
    {
     "data": {
      "text/plain": [
       "{'109_A1c_ASAP_tumor_map': {'train': [Data(x=[20589, 2048], edge_index=[2, 102219], y=[20589], pos=[20589, 2], train_mask=[20589], val_mask=[20589], test_mask=[20589])],\n",
       "  'val': [Data(x=[20706, 2048], edge_index=[2, 102704], y=[20706], pos=[20706, 2], train_mask=[20706], val_mask=[20706], test_mask=[20706])]},\n",
       " '10_A1a_ASAP_tumor_map': {'train': [Data(x=[5563, 2048], edge_index=[2, 27309], y=[5563], pos=[5563, 2], train_mask=[5563], val_mask=[5563], test_mask=[5563]),\n",
       "   Data(x=[5101, 2048], edge_index=[2, 24973], y=[5101], pos=[5101, 2], train_mask=[5101], val_mask=[5101], test_mask=[5101])],\n",
       "  'val': [Data(x=[5804, 2048], edge_index=[2, 28532], y=[5804], pos=[5804, 2], train_mask=[5804], val_mask=[5804], test_mask=[5804])]},\n",
       " '10_A1b_ASAP_tumor_map': {'train': [Data(x=[5719, 2048], edge_index=[2, 28113], y=[5719], pos=[5719, 2], train_mask=[5719], val_mask=[5719], test_mask=[5719]),\n",
       "   Data(x=[5649, 2048], edge_index=[2, 27761], y=[5649], pos=[5649, 2], train_mask=[5649], val_mask=[5649], test_mask=[5649])],\n",
       "  'val': [Data(x=[5642, 2048], edge_index=[2, 27702], y=[5642], pos=[5642, 2], train_mask=[5642], val_mask=[5642], test_mask=[5642])]},\n",
       " '10_A2b_ASAP_tumor_map': {'train': [Data(x=[6098, 2048], edge_index=[2, 29956], y=[6098], pos=[6098, 2], train_mask=[6098], val_mask=[6098], test_mask=[6098]),\n",
       "   Data(x=[6239, 2048], edge_index=[2, 30715], y=[6239], pos=[6239, 2], train_mask=[6239], val_mask=[6239], test_mask=[6239])],\n",
       "  'val': [Data(x=[6085, 2048], edge_index=[2, 29929], y=[6085], pos=[6085, 2], train_mask=[6085], val_mask=[6085], test_mask=[6085])]},\n",
       " '110_A2b_ASAP_tumor_map': {'train': [Data(x=[4220, 2048], edge_index=[2, 20574], y=[4220], pos=[4220, 2], train_mask=[4220], val_mask=[4220], test_mask=[4220]),\n",
       "   Data(x=[4557, 2048], edge_index=[2, 22333], y=[4557], pos=[4557, 2], train_mask=[4557], val_mask=[4557], test_mask=[4557]),\n",
       "   Data(x=[4607, 2048], edge_index=[2, 22561], y=[4607], pos=[4607, 2], train_mask=[4607], val_mask=[4607], test_mask=[4607])],\n",
       "  'val': [Data(x=[4472, 2048], edge_index=[2, 21880], y=[4472], pos=[4472, 2], train_mask=[4472], val_mask=[4472], test_mask=[4472])]},\n",
       " '112_a_ASAP_tumor_map': {'train': [Data(x=[817, 2048], edge_index=[2, 3897], y=[817], pos=[817, 2], train_mask=[817], val_mask=[817], test_mask=[817]),\n",
       "   Data(x=[795, 2048], edge_index=[2, 3785], y=[795], pos=[795, 2], train_mask=[795], val_mask=[795], test_mask=[795]),\n",
       "   Data(x=[703, 2048], edge_index=[2, 3369], y=[703], pos=[703, 2], train_mask=[703], val_mask=[703], test_mask=[703]),\n",
       "   Data(x=[832, 2048], edge_index=[2, 3972], y=[832], pos=[832, 2], train_mask=[832], val_mask=[832], test_mask=[832]),\n",
       "   Data(x=[668, 2048], edge_index=[2, 3170], y=[668], pos=[668, 2], train_mask=[668], val_mask=[668], test_mask=[668]),\n",
       "   Data(x=[884, 2048], edge_index=[2, 4244], y=[884], pos=[884, 2], train_mask=[884], val_mask=[884], test_mask=[884]),\n",
       "   Data(x=[583, 2048], edge_index=[2, 2769], y=[583], pos=[583, 2], train_mask=[583], val_mask=[583], test_mask=[583])],\n",
       "  'val': [Data(x=[935, 2048], edge_index=[2, 4489], y=[935], pos=[935, 2], train_mask=[935], val_mask=[935], test_mask=[935])]},\n",
       " '112_b_ASAP_tumor_map': {'train': [Data(x=[902, 2048], edge_index=[2, 4298], y=[902], pos=[902, 2], train_mask=[902], val_mask=[902], test_mask=[902]),\n",
       "   Data(x=[815, 2048], edge_index=[2, 3889], y=[815], pos=[815, 2], train_mask=[815], val_mask=[815], test_mask=[815]),\n",
       "   Data(x=[878, 2048], edge_index=[2, 4210], y=[878], pos=[878, 2], train_mask=[878], val_mask=[878], test_mask=[878]),\n",
       "   Data(x=[844, 2048], edge_index=[2, 4004], y=[844], pos=[844, 2], train_mask=[844], val_mask=[844], test_mask=[844]),\n",
       "   Data(x=[826, 2048], edge_index=[2, 3952], y=[826], pos=[826, 2], train_mask=[826], val_mask=[826], test_mask=[826]),\n",
       "   Data(x=[871, 2048], edge_index=[2, 4135], y=[871], pos=[871, 2], train_mask=[871], val_mask=[871], test_mask=[871]),\n",
       "   Data(x=[842, 2048], edge_index=[2, 4024], y=[842], pos=[842, 2], train_mask=[842], val_mask=[842], test_mask=[842])],\n",
       "  'val': [Data(x=[850, 2048], edge_index=[2, 4038], y=[850], pos=[850, 2], train_mask=[850], val_mask=[850], test_mask=[850])]},\n",
       " '123_A1a_ASAP_tumor_map': {'train': [Data(x=[2626, 2048], edge_index=[2, 12492], y=[2626], pos=[2626, 2], train_mask=[2626], val_mask=[2626], test_mask=[2626]),\n",
       "   Data(x=[1742, 2048], edge_index=[2, 8152], y=[1742], pos=[1742, 2], train_mask=[1742], val_mask=[1742], test_mask=[1742]),\n",
       "   Data(x=[2955, 2048], edge_index=[2, 14357], y=[2955], pos=[2955, 2], train_mask=[2955], val_mask=[2955], test_mask=[2955]),\n",
       "   Data(x=[2561, 2048], edge_index=[2, 12297], y=[2561], pos=[2561, 2], train_mask=[2561], val_mask=[2561], test_mask=[2561]),\n",
       "   Data(x=[2825, 2048], edge_index=[2, 13425], y=[2825], pos=[2825, 2], train_mask=[2825], val_mask=[2825], test_mask=[2825])],\n",
       "  'val': [Data(x=[3280, 2048], edge_index=[2, 15970], y=[3280], pos=[3280, 2], train_mask=[3280], val_mask=[3280], test_mask=[3280])]},\n",
       " '12_A1c_ASAP_tumor_map': {'train': [Data(x=[7126, 2048], edge_index=[2, 35066], y=[7126], pos=[7126, 2], train_mask=[7126], val_mask=[7126], test_mask=[7126]),\n",
       "   Data(x=[6957, 2048], edge_index=[2, 34275], y=[6957], pos=[6957, 2], train_mask=[6957], val_mask=[6957], test_mask=[6957])],\n",
       "  'val': [Data(x=[6814, 2048], edge_index=[2, 33326], y=[6814], pos=[6814, 2], train_mask=[6814], val_mask=[6814], test_mask=[6814])]},\n",
       " '14_A1b_ASAP_tumor_map': {'train': [Data(x=[5176, 2048], edge_index=[2, 25114], y=[5176], pos=[5176, 2], train_mask=[5176], val_mask=[5176], test_mask=[5176]),\n",
       "   Data(x=[4841, 2048], edge_index=[2, 23269], y=[4841], pos=[4841, 2], train_mask=[4841], val_mask=[4841], test_mask=[4841])],\n",
       "  'val': [Data(x=[4577, 2048], edge_index=[2, 22143], y=[4577], pos=[4577, 2], train_mask=[4577], val_mask=[4577], test_mask=[4577])]},\n",
       " '14_A2b_ASAP_tumor_map': {'train': [Data(x=[5075, 2048], edge_index=[2, 24045], y=[5075], pos=[5075, 2], train_mask=[5075], val_mask=[5075], test_mask=[5075]),\n",
       "   Data(x=[4659, 2048], edge_index=[2, 22071], y=[4659], pos=[4659, 2], train_mask=[4659], val_mask=[4659], test_mask=[4659])],\n",
       "  'val': [Data(x=[5046, 2048], edge_index=[2, 24084], y=[5046], pos=[5046, 2], train_mask=[5046], val_mask=[5046], test_mask=[5046])]},\n",
       " '169_A2b_ASAP_tumor_map': {'train': [Data(x=[5137, 2048], edge_index=[2, 25303], y=[5137], pos=[5137, 2], train_mask=[5137], val_mask=[5137], test_mask=[5137]),\n",
       "   Data(x=[5193, 2048], edge_index=[2, 25555], y=[5193], pos=[5193, 2], train_mask=[5193], val_mask=[5193], test_mask=[5193])],\n",
       "  'val': [Data(x=[5220, 2048], edge_index=[2, 25698], y=[5220], pos=[5220, 2], train_mask=[5220], val_mask=[5220], test_mask=[5220])]},\n",
       " '270_A1b_ASAP_tumor_map': {'train': [Data(x=[10733, 2048], edge_index=[2, 52753], y=[10733], pos=[10733, 2], train_mask=[10733], val_mask=[10733], test_mask=[10733])],\n",
       "  'val': [Data(x=[10638, 2048], edge_index=[2, 52354], y=[10638], pos=[10638, 2], train_mask=[10638], val_mask=[10638], test_mask=[10638])]},\n",
       " '270_A1d_ASAP_tumor_map': {'train': [Data(x=[10457, 2048], edge_index=[2, 51557], y=[10457], pos=[10457, 2], train_mask=[10457], val_mask=[10457], test_mask=[10457])],\n",
       "  'val': [Data(x=[10268, 2048], edge_index=[2, 50640], y=[10268], pos=[10268, 2], train_mask=[10268], val_mask=[10268], test_mask=[10268])]},\n",
       " '270_A1e_ASAP_tumor_map': {'train': [Data(x=[10168, 2048], edge_index=[2, 50196], y=[10168], pos=[10168, 2], train_mask=[10168], val_mask=[10168], test_mask=[10168])],\n",
       "  'val': [Data(x=[10423, 2048], edge_index=[2, 51437], y=[10423], pos=[10423, 2], train_mask=[10423], val_mask=[10423], test_mask=[10423])]},\n",
       " '270_A2b_ASAP_tumor_map': {'train': [Data(x=[10205, 2048], edge_index=[2, 50345], y=[10205], pos=[10205, 2], train_mask=[10205], val_mask=[10205], test_mask=[10205])],\n",
       "  'val': [Data(x=[8924, 2048], edge_index=[2, 43966], y=[8924], pos=[8924, 2], train_mask=[8924], val_mask=[8924], test_mask=[8924])]},\n",
       " '270_A2f_ASAP_tumor_map': {'train': [Data(x=[7420, 2048], edge_index=[2, 36228], y=[7420], pos=[7420, 2], train_mask=[7420], val_mask=[7420], test_mask=[7420])],\n",
       "  'val': []},\n",
       " '281_A1d_ASAP_tumor_map': {'train': [Data(x=[6622, 2048], edge_index=[2, 32648], y=[6622], pos=[6622, 2], train_mask=[6622], val_mask=[6622], test_mask=[6622])],\n",
       "  'val': [Data(x=[6675, 2048], edge_index=[2, 32849], y=[6675], pos=[6675, 2], train_mask=[6675], val_mask=[6675], test_mask=[6675])]},\n",
       " '281_A1f_ASAP_tumor_map': {'train': [Data(x=[7200, 2048], edge_index=[2, 35514], y=[7200], pos=[7200, 2], train_mask=[7200], val_mask=[7200], test_mask=[7200])],\n",
       "  'val': [Data(x=[7185, 2048], edge_index=[2, 35435], y=[7185], pos=[7185, 2], train_mask=[7185], val_mask=[7185], test_mask=[7185])]},\n",
       " '281_A2eX_ASAP_tumor_map': {'train': [Data(x=[6892, 2048], edge_index=[2, 33970], y=[6892], pos=[6892, 2], train_mask=[6892], val_mask=[6892], test_mask=[6892])],\n",
       "  'val': [Data(x=[6557, 2048], edge_index=[2, 32353], y=[6557], pos=[6557, 2], train_mask=[6557], val_mask=[6557], test_mask=[6557])]},\n",
       " '311_A2c_ASAP_tumor_map': {'train': [Data(x=[6043, 2048], edge_index=[2, 29801], y=[6043], pos=[6043, 2], train_mask=[6043], val_mask=[6043], test_mask=[6043])],\n",
       "  'val': [Data(x=[6294, 2048], edge_index=[2, 30852], y=[6294], pos=[6294, 2], train_mask=[6294], val_mask=[6294], test_mask=[6294])]},\n",
       " '327_A1a_ASAP_tumor_map': {'train': [Data(x=[8925, 2048], edge_index=[2, 44005], y=[8925], pos=[8925, 2], train_mask=[8925], val_mask=[8925], test_mask=[8925]),\n",
       "   Data(x=[7523, 2048], edge_index=[2, 36939], y=[7523], pos=[7523, 2], train_mask=[7523], val_mask=[7523], test_mask=[7523])],\n",
       "  'val': [Data(x=[9594, 2048], edge_index=[2, 47078], y=[9594], pos=[9594, 2], train_mask=[9594], val_mask=[9594], test_mask=[9594])]},\n",
       " '327_A1d_ASAP_tumor_map': {'train': [Data(x=[8040, 2048], edge_index=[2, 39486], y=[8040], pos=[8040, 2], train_mask=[8040], val_mask=[8040], test_mask=[8040])],\n",
       "  'val': [Data(x=[8280, 2048], edge_index=[2, 40538], y=[8280], pos=[8280, 2], train_mask=[8280], val_mask=[8280], test_mask=[8280])]},\n",
       " '327_B1c_ASAP_tumor_map': {'train': [Data(x=[18384, 2048], edge_index=[2, 90616], y=[18384], pos=[18384, 2], train_mask=[18384], val_mask=[18384], test_mask=[18384])],\n",
       "  'val': [Data(x=[20123, 2048], edge_index=[2, 99557], y=[20123], pos=[20123, 2], train_mask=[20123], val_mask=[20123], test_mask=[20123])]},\n",
       " '341_a_ASAP_tumor_map': {'train': [Data(x=[3285, 2048], edge_index=[2, 16061], y=[3285], pos=[3285, 2], train_mask=[3285], val_mask=[3285], test_mask=[3285]),\n",
       "   Data(x=[3282, 2048], edge_index=[2, 16056], y=[3282], pos=[3282, 2], train_mask=[3282], val_mask=[3282], test_mask=[3282])],\n",
       "  'val': [Data(x=[2812, 2048], edge_index=[2, 13740], y=[2812], pos=[2812, 2], train_mask=[2812], val_mask=[2812], test_mask=[2812])]},\n",
       " '341_b_ASAP_tumor_map': {'train': [Data(x=[2217, 2048], edge_index=[2, 10801], y=[2217], pos=[2217, 2], train_mask=[2217], val_mask=[2217], test_mask=[2217]),\n",
       "   Data(x=[2806, 2048], edge_index=[2, 13728], y=[2806], pos=[2806, 2], train_mask=[2806], val_mask=[2806], test_mask=[2806])],\n",
       "  'val': [Data(x=[1747, 2048], edge_index=[2, 8461], y=[1747], pos=[1747, 2], train_mask=[1747], val_mask=[1747], test_mask=[1747])]},\n",
       " '342_a_ASAP_tumor_map': {'train': [Data(x=[817, 2048], edge_index=[2, 3897], y=[817], pos=[817, 2], train_mask=[817], val_mask=[817], test_mask=[817]),\n",
       "   Data(x=[795, 2048], edge_index=[2, 3785], y=[795], pos=[795, 2], train_mask=[795], val_mask=[795], test_mask=[795]),\n",
       "   Data(x=[703, 2048], edge_index=[2, 3369], y=[703], pos=[703, 2], train_mask=[703], val_mask=[703], test_mask=[703]),\n",
       "   Data(x=[832, 2048], edge_index=[2, 3972], y=[832], pos=[832, 2], train_mask=[832], val_mask=[832], test_mask=[832]),\n",
       "   Data(x=[668, 2048], edge_index=[2, 3170], y=[668], pos=[668, 2], train_mask=[668], val_mask=[668], test_mask=[668]),\n",
       "   Data(x=[884, 2048], edge_index=[2, 4244], y=[884], pos=[884, 2], train_mask=[884], val_mask=[884], test_mask=[884]),\n",
       "   Data(x=[583, 2048], edge_index=[2, 2769], y=[583], pos=[583, 2], train_mask=[583], val_mask=[583], test_mask=[583])],\n",
       "  'val': [Data(x=[935, 2048], edge_index=[2, 4489], y=[935], pos=[935, 2], train_mask=[935], val_mask=[935], test_mask=[935])]},\n",
       " '342_b_ASAP_tumor_map': {'train': [Data(x=[902, 2048], edge_index=[2, 4298], y=[902], pos=[902, 2], train_mask=[902], val_mask=[902], test_mask=[902]),\n",
       "   Data(x=[815, 2048], edge_index=[2, 3889], y=[815], pos=[815, 2], train_mask=[815], val_mask=[815], test_mask=[815]),\n",
       "   Data(x=[878, 2048], edge_index=[2, 4210], y=[878], pos=[878, 2], train_mask=[878], val_mask=[878], test_mask=[878]),\n",
       "   Data(x=[844, 2048], edge_index=[2, 4004], y=[844], pos=[844, 2], train_mask=[844], val_mask=[844], test_mask=[844]),\n",
       "   Data(x=[826, 2048], edge_index=[2, 3952], y=[826], pos=[826, 2], train_mask=[826], val_mask=[826], test_mask=[826]),\n",
       "   Data(x=[871, 2048], edge_index=[2, 4135], y=[871], pos=[871, 2], train_mask=[871], val_mask=[871], test_mask=[871]),\n",
       "   Data(x=[842, 2048], edge_index=[2, 4024], y=[842], pos=[842, 2], train_mask=[842], val_mask=[842], test_mask=[842])],\n",
       "  'val': [Data(x=[850, 2048], edge_index=[2, 4038], y=[850], pos=[850, 2], train_mask=[850], val_mask=[850], test_mask=[850])]},\n",
       " '343_a_ASAP_tumor_map': {'train': [Data(x=[6056, 2048], edge_index=[2, 28736], y=[6056], pos=[6056, 2], train_mask=[6056], val_mask=[6056], test_mask=[6056]),\n",
       "   Data(x=[217, 2048], edge_index=[2, 991], y=[217], pos=[217, 2], train_mask=[217], val_mask=[217], test_mask=[217])],\n",
       "  'val': [Data(x=[10754, 2048], edge_index=[2, 51502], y=[10754], pos=[10754, 2], train_mask=[10754], val_mask=[10754], test_mask=[10754])]},\n",
       " '343_b_ASAP_tumor_map': {'train': [Data(x=[22341, 2048], edge_index=[2, 109241], y=[22341], pos=[22341, 2], train_mask=[22341], val_mask=[22341], test_mask=[22341])],\n",
       "  'val': []},\n",
       " '343_c_ASAP_tumor_map': {'train': [Data(x=[8943, 2048], edge_index=[2, 43861], y=[8943], pos=[8943, 2], train_mask=[8943], val_mask=[8943], test_mask=[8943])],\n",
       "  'val': [Data(x=[14272, 2048], edge_index=[2, 69508], y=[14272], pos=[14272, 2], train_mask=[14272], val_mask=[14272], test_mask=[14272])]},\n",
       " '343_d_ASAP_tumor_map': {'train': [Data(x=[23840, 2048], edge_index=[2, 116080], y=[23840], pos=[23840, 2], train_mask=[23840], val_mask=[23840], test_mask=[23840])],\n",
       "  'val': []},\n",
       " '344_a_ASAP_tumor_map': {'train': [Data(x=[2319, 2048], edge_index=[2, 11133], y=[2319], pos=[2319, 2], train_mask=[2319], val_mask=[2319], test_mask=[2319]),\n",
       "   Data(x=[2536, 2048], edge_index=[2, 12266], y=[2536], pos=[2536, 2], train_mask=[2536], val_mask=[2536], test_mask=[2536]),\n",
       "   Data(x=[2706, 2048], edge_index=[2, 13020], y=[2706], pos=[2706, 2], train_mask=[2706], val_mask=[2706], test_mask=[2706])],\n",
       "  'val': [Data(x=[2423, 2048], edge_index=[2, 11553], y=[2423], pos=[2423, 2], train_mask=[2423], val_mask=[2423], test_mask=[2423])]},\n",
       " '344_b_ASAP_tumor_map': {'train': [Data(x=[2642, 2048], edge_index=[2, 12780], y=[2642], pos=[2642, 2], train_mask=[2642], val_mask=[2642], test_mask=[2642]),\n",
       "   Data(x=[2598, 2048], edge_index=[2, 12504], y=[2598], pos=[2598, 2], train_mask=[2598], val_mask=[2598], test_mask=[2598]),\n",
       "   Data(x=[2578, 2048], edge_index=[2, 12512], y=[2578], pos=[2578, 2], train_mask=[2578], val_mask=[2578], test_mask=[2578])],\n",
       "  'val': [Data(x=[2523, 2048], edge_index=[2, 12237], y=[2523], pos=[2523, 2], train_mask=[2523], val_mask=[2523], test_mask=[2523])]},\n",
       " '345_a_ASAP_tumor_map': {'train': [Data(x=[5059, 2048], edge_index=[2, 24891], y=[5059], pos=[5059, 2], train_mask=[5059], val_mask=[5059], test_mask=[5059]),\n",
       "   Data(x=[4642, 2048], edge_index=[2, 22826], y=[4642], pos=[4642, 2], train_mask=[4642], val_mask=[4642], test_mask=[4642])],\n",
       "  'val': [Data(x=[4837, 2048], edge_index=[2, 23785], y=[4837], pos=[4837, 2], train_mask=[4837], val_mask=[4837], test_mask=[4837])]},\n",
       " '345_b_ASAP_tumor_map': {'train': [Data(x=[5019, 2048], edge_index=[2, 24651], y=[5019], pos=[5019, 2], train_mask=[5019], val_mask=[5019], test_mask=[5019]),\n",
       "   Data(x=[5072, 2048], edge_index=[2, 24926], y=[5072], pos=[5072, 2], train_mask=[5072], val_mask=[5072], test_mask=[5072])],\n",
       "  'val': [Data(x=[4723, 2048], edge_index=[2, 23209], y=[4723], pos=[4723, 2], train_mask=[4723], val_mask=[4723], test_mask=[4723])]},\n",
       " '346_a_ASAP_tumor_map': {'train': [Data(x=[2608, 2048], edge_index=[2, 12462], y=[2608], pos=[2608, 2], train_mask=[2608], val_mask=[2608], test_mask=[2608]),\n",
       "   Data(x=[532, 2048], edge_index=[2, 2502], y=[532], pos=[532, 2], train_mask=[532], val_mask=[532], test_mask=[532]),\n",
       "   Data(x=[2529, 2048], edge_index=[2, 12003], y=[2529], pos=[2529, 2], train_mask=[2529], val_mask=[2529], test_mask=[2529]),\n",
       "   Data(x=[2207, 2048], edge_index=[2, 10509], y=[2207], pos=[2207, 2], train_mask=[2207], val_mask=[2207], test_mask=[2207]),\n",
       "   Data(x=[2774, 2048], edge_index=[2, 13196], y=[2774], pos=[2774, 2], train_mask=[2774], val_mask=[2774], test_mask=[2774])],\n",
       "  'val': [Data(x=[296, 2048], edge_index=[2, 1326], y=[296], pos=[296, 2], train_mask=[296], val_mask=[296], test_mask=[296])]},\n",
       " '346_b_ASAP_tumor_map': {'train': [Data(x=[2110, 2048], edge_index=[2, 10048], y=[2110], pos=[2110, 2], train_mask=[2110], val_mask=[2110], test_mask=[2110]),\n",
       "   Data(x=[256, 2048], edge_index=[2, 1190], y=[256], pos=[256, 2], train_mask=[256], val_mask=[256], test_mask=[256]),\n",
       "   Data(x=[647, 2048], edge_index=[2, 3041], y=[647], pos=[647, 2], train_mask=[647], val_mask=[647], test_mask=[647]),\n",
       "   Data(x=[1926, 2048], edge_index=[2, 9266], y=[1926], pos=[1926, 2], train_mask=[1926], val_mask=[1926], test_mask=[1926]),\n",
       "   Data(x=[256, 2048], edge_index=[2, 1138], y=[256], pos=[256, 2], train_mask=[256], val_mask=[256], test_mask=[256]),\n",
       "   Data(x=[1968, 2048], edge_index=[2, 9308], y=[1968], pos=[1968, 2], train_mask=[1968], val_mask=[1968], test_mask=[1968]),\n",
       "   Data(x=[2800, 2048], edge_index=[2, 13298], y=[2800], pos=[2800, 2], train_mask=[2800], val_mask=[2800], test_mask=[2800]),\n",
       "   Data(x=[369, 2048], edge_index=[2, 1685], y=[369], pos=[369, 2], train_mask=[369], val_mask=[369], test_mask=[369]),\n",
       "   Data(x=[358, 2048], edge_index=[2, 1636], y=[358], pos=[358, 2], train_mask=[358], val_mask=[358], test_mask=[358])],\n",
       "  'val': [Data(x=[223, 2048], edge_index=[2, 1035], y=[223], pos=[223, 2], train_mask=[223], val_mask=[223], test_mask=[223]),\n",
       "   Data(x=[375, 2048], edge_index=[2, 1731], y=[375], pos=[375, 2], train_mask=[375], val_mask=[375], test_mask=[375])]},\n",
       " '350_A1a_ASAP_tumor_map': {'train': [Data(x=[2152, 2048], edge_index=[2, 10320], y=[2152], pos=[2152, 2], train_mask=[2152], val_mask=[2152], test_mask=[2152]),\n",
       "   Data(x=[2573, 2048], edge_index=[2, 12497], y=[2573], pos=[2573, 2], train_mask=[2573], val_mask=[2573], test_mask=[2573]),\n",
       "   Data(x=[5921, 2048], edge_index=[2, 28809], y=[5921], pos=[5921, 2], train_mask=[5921], val_mask=[5921], test_mask=[5921]),\n",
       "   Data(x=[2435, 2048], edge_index=[2, 11667], y=[2435], pos=[2435, 2], train_mask=[2435], val_mask=[2435], test_mask=[2435])],\n",
       "  'val': [Data(x=[2947, 2048], edge_index=[2, 14323], y=[2947], pos=[2947, 2], train_mask=[2947], val_mask=[2947], test_mask=[2947])]},\n",
       " '350_A1b_ASAP_tumor_map': {'train': [Data(x=[6168, 2048], edge_index=[2, 30254], y=[6168], pos=[6168, 2], train_mask=[6168], val_mask=[6168], test_mask=[6168]),\n",
       "   Data(x=[6601, 2048], edge_index=[2, 32313], y=[6601], pos=[6601, 2], train_mask=[6601], val_mask=[6601], test_mask=[6601])],\n",
       "  'val': [Data(x=[6628, 2048], edge_index=[2, 32542], y=[6628], pos=[6628, 2], train_mask=[6628], val_mask=[6628], test_mask=[6628])]},\n",
       " '350_A1c_ASAP_tumor_map': {'train': [Data(x=[6353, 2048], edge_index=[2, 31203], y=[6353], pos=[6353, 2], train_mask=[6353], val_mask=[6353], test_mask=[6353]),\n",
       "   Data(x=[6222, 2048], edge_index=[2, 30556], y=[6222], pos=[6222, 2], train_mask=[6222], val_mask=[6222], test_mask=[6222])],\n",
       "  'val': [Data(x=[5921, 2048], edge_index=[2, 29101], y=[5921], pos=[5921, 2], train_mask=[5921], val_mask=[5921], test_mask=[5921])]},\n",
       " '350_A1d_ASAP_tumor_map': {'train': [Data(x=[5494, 2048], edge_index=[2, 26986], y=[5494], pos=[5494, 2], train_mask=[5494], val_mask=[5494], test_mask=[5494]),\n",
       "   Data(x=[5831, 2048], edge_index=[2, 28669], y=[5831], pos=[5831, 2], train_mask=[5831], val_mask=[5831], test_mask=[5831])],\n",
       "  'val': [Data(x=[5516, 2048], edge_index=[2, 27058], y=[5516], pos=[5516, 2], train_mask=[5516], val_mask=[5516], test_mask=[5516])]},\n",
       " '350_A1e_ASAP_tumor_map': {'train': [Data(x=[4710, 2048], edge_index=[2, 23116], y=[4710], pos=[4710, 2], train_mask=[4710], val_mask=[4710], test_mask=[4710]),\n",
       "   Data(x=[5083, 2048], edge_index=[2, 24985], y=[5083], pos=[5083, 2], train_mask=[5083], val_mask=[5083], test_mask=[5083])],\n",
       "  'val': [Data(x=[4639, 2048], edge_index=[2, 22765], y=[4639], pos=[4639, 2], train_mask=[4639], val_mask=[4639], test_mask=[4639])]},\n",
       " '351_A2b_ASAP_tumor_map': {'train': [Data(x=[1686, 2048], edge_index=[2, 8148], y=[1686], pos=[1686, 2], train_mask=[1686], val_mask=[1686], test_mask=[1686]),\n",
       "   Data(x=[1663, 2048], edge_index=[2, 8025], y=[1663], pos=[1663, 2], train_mask=[1663], val_mask=[1663], test_mask=[1663]),\n",
       "   Data(x=[1787, 2048], edge_index=[2, 8725], y=[1787], pos=[1787, 2], train_mask=[1787], val_mask=[1787], test_mask=[1787]),\n",
       "   Data(x=[1805, 2048], edge_index=[2, 8797], y=[1805], pos=[1805, 2], train_mask=[1805], val_mask=[1805], test_mask=[1805]),\n",
       "   Data(x=[1665, 2048], edge_index=[2, 8099], y=[1665], pos=[1665, 2], train_mask=[1665], val_mask=[1665], test_mask=[1665])],\n",
       "  'val': [Data(x=[1672, 2048], edge_index=[2, 8158], y=[1672], pos=[1672, 2], train_mask=[1672], val_mask=[1672], test_mask=[1672])]},\n",
       " '352_A1d_ASAP_tumor_map': {'train': [Data(x=[3270, 2048], edge_index=[2, 16022], y=[3270], pos=[3270, 2], train_mask=[3270], val_mask=[3270], test_mask=[3270]),\n",
       "   Data(x=[3424, 2048], edge_index=[2, 16834], y=[3424], pos=[3424, 2], train_mask=[3424], val_mask=[3424], test_mask=[3424]),\n",
       "   Data(x=[3966, 2048], edge_index=[2, 19470], y=[3966], pos=[3966, 2], train_mask=[3966], val_mask=[3966], test_mask=[3966]),\n",
       "   Data(x=[3803, 2048], edge_index=[2, 18603], y=[3803], pos=[3803, 2], train_mask=[3803], val_mask=[3803], test_mask=[3803]),\n",
       "   Data(x=[3460, 2048], edge_index=[2, 16982], y=[3460], pos=[3460, 2], train_mask=[3460], val_mask=[3460], test_mask=[3460])],\n",
       "  'val': [Data(x=[3325, 2048], edge_index=[2, 16313], y=[3325], pos=[3325, 2], train_mask=[3325], val_mask=[3325], test_mask=[3325])]},\n",
       " '352_A1e_ASAP_tumor_map': {'train': [Data(x=[3076, 2048], edge_index=[2, 15040], y=[3076], pos=[3076, 2], train_mask=[3076], val_mask=[3076], test_mask=[3076]),\n",
       "   Data(x=[3317, 2048], edge_index=[2, 16267], y=[3317], pos=[3317, 2], train_mask=[3317], val_mask=[3317], test_mask=[3317]),\n",
       "   Data(x=[3746, 2048], edge_index=[2, 18414], y=[3746], pos=[3746, 2], train_mask=[3746], val_mask=[3746], test_mask=[3746]),\n",
       "   Data(x=[3797, 2048], edge_index=[2, 18657], y=[3797], pos=[3797, 2], train_mask=[3797], val_mask=[3797], test_mask=[3797]),\n",
       "   Data(x=[3216, 2048], edge_index=[2, 15736], y=[3216], pos=[3216, 2], train_mask=[3216], val_mask=[3216], test_mask=[3216])],\n",
       "  'val': [Data(x=[3533, 2048], edge_index=[2, 17355], y=[3533], pos=[3533, 2], train_mask=[3533], val_mask=[3533], test_mask=[3533])]},\n",
       " '352_A1g_ASAP_tumor_map': {'train': [Data(x=[2713, 2048], edge_index=[2, 13289], y=[2713], pos=[2713, 2], train_mask=[2713], val_mask=[2713], test_mask=[2713]),\n",
       "   Data(x=[2708, 2048], edge_index=[2, 13252], y=[2708], pos=[2708, 2], train_mask=[2708], val_mask=[2708], test_mask=[2708]),\n",
       "   Data(x=[2900, 2048], edge_index=[2, 14226], y=[2900], pos=[2900, 2], train_mask=[2900], val_mask=[2900], test_mask=[2900]),\n",
       "   Data(x=[2921, 2048], edge_index=[2, 14269], y=[2921], pos=[2921, 2], train_mask=[2921], val_mask=[2921], test_mask=[2921]),\n",
       "   Data(x=[2752, 2048], edge_index=[2, 13480], y=[2752], pos=[2752, 2], train_mask=[2752], val_mask=[2752], test_mask=[2752])],\n",
       "  'val': [Data(x=[3023, 2048], edge_index=[2, 14817], y=[3023], pos=[3023, 2], train_mask=[3023], val_mask=[3023], test_mask=[3023])]},\n",
       " '352_A1h_ASAP_tumor_map': {'train': [Data(x=[2578, 2048], edge_index=[2, 12626], y=[2578], pos=[2578, 2], train_mask=[2578], val_mask=[2578], test_mask=[2578]),\n",
       "   Data(x=[2365, 2048], edge_index=[2, 11465], y=[2365], pos=[2365, 2], train_mask=[2365], val_mask=[2365], test_mask=[2365]),\n",
       "   Data(x=[2314, 2048], edge_index=[2, 11216], y=[2314], pos=[2314, 2], train_mask=[2314], val_mask=[2314], test_mask=[2314]),\n",
       "   Data(x=[2572, 2048], edge_index=[2, 12592], y=[2572], pos=[2572, 2], train_mask=[2572], val_mask=[2572], test_mask=[2572]),\n",
       "   Data(x=[2198, 2048], edge_index=[2, 10612], y=[2198], pos=[2198, 2], train_mask=[2198], val_mask=[2198], test_mask=[2198])],\n",
       "  'val': [Data(x=[2780, 2048], edge_index=[2, 13618], y=[2780], pos=[2780, 2], train_mask=[2780], val_mask=[2780], test_mask=[2780])]},\n",
       " '352_A1i_ASAP_tumor_map': {'train': [Data(x=[2440, 2048], edge_index=[2, 11852], y=[2440], pos=[2440, 2], train_mask=[2440], val_mask=[2440], test_mask=[2440]),\n",
       "   Data(x=[2460, 2048], edge_index=[2, 12036], y=[2460], pos=[2460, 2], train_mask=[2460], val_mask=[2460], test_mask=[2460]),\n",
       "   Data(x=[2678, 2048], edge_index=[2, 13116], y=[2678], pos=[2678, 2], train_mask=[2678], val_mask=[2678], test_mask=[2678]),\n",
       "   Data(x=[2647, 2048], edge_index=[2, 12957], y=[2647], pos=[2647, 2], train_mask=[2647], val_mask=[2647], test_mask=[2647]),\n",
       "   Data(x=[2462, 2048], edge_index=[2, 12048], y=[2462], pos=[2462, 2], train_mask=[2462], val_mask=[2462], test_mask=[2462])],\n",
       "  'val': [Data(x=[1890, 2048], edge_index=[2, 9174], y=[1890], pos=[1890, 2], train_mask=[1890], val_mask=[1890], test_mask=[1890])]},\n",
       " '353_A2b_ASAP_tumor_map': {'train': [Data(x=[4220, 2048], edge_index=[2, 20574], y=[4220], pos=[4220, 2], train_mask=[4220], val_mask=[4220], test_mask=[4220]),\n",
       "   Data(x=[4557, 2048], edge_index=[2, 22333], y=[4557], pos=[4557, 2], train_mask=[4557], val_mask=[4557], test_mask=[4557]),\n",
       "   Data(x=[4607, 2048], edge_index=[2, 22561], y=[4607], pos=[4607, 2], train_mask=[4607], val_mask=[4607], test_mask=[4607])],\n",
       "  'val': [Data(x=[4472, 2048], edge_index=[2, 21880], y=[4472], pos=[4472, 2], train_mask=[4472], val_mask=[4472], test_mask=[4472])]},\n",
       " '354_A1b_ASAP_tumor_map': {'train': [Data(x=[13521, 2048], edge_index=[2, 65591], y=[13521], pos=[13521, 2], train_mask=[13521], val_mask=[13521], test_mask=[13521])],\n",
       "  'val': []},\n",
       " '354_A1c_ASAP_tumor_map': {'train': [Data(x=[15681, 2048], edge_index=[2, 76283], y=[15681], pos=[15681, 2], train_mask=[15681], val_mask=[15681], test_mask=[15681])],\n",
       "  'val': []},\n",
       " '354_A1d_ASAP_tumor_map': {'train': [Data(x=[18198, 2048], edge_index=[2, 89710], y=[18198], pos=[18198, 2], train_mask=[18198], val_mask=[18198], test_mask=[18198])],\n",
       "  'val': []},\n",
       " '354_A3a_ASAP_tumor_map': {'train': [Data(x=[459, 2048], edge_index=[2, 2023], y=[459], pos=[459, 2], train_mask=[459], val_mask=[459], test_mask=[459]),\n",
       "   Data(x=[8477, 2048], edge_index=[2, 40317], y=[8477], pos=[8477, 2], train_mask=[8477], val_mask=[8477], test_mask=[8477]),\n",
       "   Data(x=[2248, 2048], edge_index=[2, 10640], y=[2248], pos=[2248, 2], train_mask=[2248], val_mask=[2248], test_mask=[2248])],\n",
       "  'val': [Data(x=[2063, 2048], edge_index=[2, 9639], y=[2063], pos=[2063, 2], train_mask=[2063], val_mask=[2063], test_mask=[2063])]},\n",
       " '354_A3b_ASAP_tumor_map': {'train': [Data(x=[11270, 2048], edge_index=[2, 54620], y=[11270], pos=[11270, 2], train_mask=[11270], val_mask=[11270], test_mask=[11270])],\n",
       "  'val': [Data(x=[10642, 2048], edge_index=[2, 51608], y=[10642], pos=[10642, 2], train_mask=[10642], val_mask=[10642], test_mask=[10642])]},\n",
       " '354_A3c_ASAP_tumor_map': {'train': [Data(x=[12102, 2048], edge_index=[2, 58352], y=[12102], pos=[12102, 2], train_mask=[12102], val_mask=[12102], test_mask=[12102])],\n",
       "  'val': [Data(x=[13586, 2048], edge_index=[2, 66282], y=[13586], pos=[13586, 2], train_mask=[13586], val_mask=[13586], test_mask=[13586])]},\n",
       " '354_D1b_ASAP_tumor_map': {'train': [Data(x=[7910, 2048], edge_index=[2, 38174], y=[7910], pos=[7910, 2], train_mask=[7910], val_mask=[7910], test_mask=[7910])],\n",
       "  'val': [Data(x=[7125, 2048], edge_index=[2, 34687], y=[7125], pos=[7125, 2], train_mask=[7125], val_mask=[7125], test_mask=[7125])]},\n",
       " '355_A1d_ASAP_tumor_map': {'train': [Data(x=[2793, 2048], edge_index=[2, 13597], y=[2793], pos=[2793, 2], train_mask=[2793], val_mask=[2793], test_mask=[2793]),\n",
       "   Data(x=[2950, 2048], edge_index=[2, 14440], y=[2950], pos=[2950, 2], train_mask=[2950], val_mask=[2950], test_mask=[2950])],\n",
       "  'val': [Data(x=[2684, 2048], edge_index=[2, 13052], y=[2684], pos=[2684, 2], train_mask=[2684], val_mask=[2684], test_mask=[2684])]},\n",
       " '356_A1b_ASAP_tumor_map': {'train': [Data(x=[3738, 2048], edge_index=[2, 18284], y=[3738], pos=[3738, 2], train_mask=[3738], val_mask=[3738], test_mask=[3738]),\n",
       "   Data(x=[3631, 2048], edge_index=[2, 17755], y=[3631], pos=[3631, 2], train_mask=[3631], val_mask=[3631], test_mask=[3631])],\n",
       "  'val': [Data(x=[3395, 2048], edge_index=[2, 16605], y=[3395], pos=[3395, 2], train_mask=[3395], val_mask=[3395], test_mask=[3395])]},\n",
       " '358_A1a_ASAP_tumor_map': {'train': [Data(x=[2626, 2048], edge_index=[2, 12492], y=[2626], pos=[2626, 2], train_mask=[2626], val_mask=[2626], test_mask=[2626]),\n",
       "   Data(x=[1742, 2048], edge_index=[2, 8152], y=[1742], pos=[1742, 2], train_mask=[1742], val_mask=[1742], test_mask=[1742]),\n",
       "   Data(x=[2955, 2048], edge_index=[2, 14357], y=[2955], pos=[2955, 2], train_mask=[2955], val_mask=[2955], test_mask=[2955]),\n",
       "   Data(x=[2561, 2048], edge_index=[2, 12297], y=[2561], pos=[2561, 2], train_mask=[2561], val_mask=[2561], test_mask=[2561]),\n",
       "   Data(x=[2825, 2048], edge_index=[2, 13425], y=[2825], pos=[2825, 2], train_mask=[2825], val_mask=[2825], test_mask=[2825])],\n",
       "  'val': [Data(x=[3280, 2048], edge_index=[2, 15970], y=[3280], pos=[3280, 2], train_mask=[3280], val_mask=[3280], test_mask=[3280])]},\n",
       " '358_A1b_ASAP_tumor_map': {'train': [Data(x=[3117, 2048], edge_index=[2, 15001], y=[3117], pos=[3117, 2], train_mask=[3117], val_mask=[3117], test_mask=[3117]),\n",
       "   Data(x=[2663, 2048], edge_index=[2, 12951], y=[2663], pos=[2663, 2], train_mask=[2663], val_mask=[2663], test_mask=[2663]),\n",
       "   Data(x=[5892, 2048], edge_index=[2, 28576], y=[5892], pos=[5892, 2], train_mask=[5892], val_mask=[5892], test_mask=[5892]),\n",
       "   Data(x=[3544, 2048], edge_index=[2, 17260], y=[3544], pos=[3544, 2], train_mask=[3544], val_mask=[3544], test_mask=[3544])],\n",
       "  'val': [Data(x=[3285, 2048], edge_index=[2, 15963], y=[3285], pos=[3285, 2], train_mask=[3285], val_mask=[3285], test_mask=[3285])]},\n",
       " '361_a_ASAP_tumor_map': {'train': [Data(x=[5045, 2048], edge_index=[2, 24627], y=[5045], pos=[5045, 2], train_mask=[5045], val_mask=[5045], test_mask=[5045]),\n",
       "   Data(x=[506, 2048], edge_index=[2, 2386], y=[506], pos=[506, 2], train_mask=[506], val_mask=[506], test_mask=[506]),\n",
       "   Data(x=[8312, 2048], edge_index=[2, 40554], y=[8312], pos=[8312, 2], train_mask=[8312], val_mask=[8312], test_mask=[8312])],\n",
       "  'val': [Data(x=[2890, 2048], edge_index=[2, 14014], y=[2890], pos=[2890, 2], train_mask=[2890], val_mask=[2890], test_mask=[2890])]},\n",
       " '361_b_ASAP_tumor_map': {'train': [Data(x=[15269, 2048], edge_index=[2, 74929], y=[15269], pos=[15269, 2], train_mask=[15269], val_mask=[15269], test_mask=[15269])],\n",
       "  'val': [Data(x=[6360, 2048], edge_index=[2, 31250], y=[6360], pos=[6360, 2], train_mask=[6360], val_mask=[6360], test_mask=[6360])]},\n",
       " '362_A1a_ASAP_tumor_map': {'train': [Data(x=[10656, 2048], edge_index=[2, 52170], y=[10656], pos=[10656, 2], train_mask=[10656], val_mask=[10656], test_mask=[10656])],\n",
       "  'val': [Data(x=[8954, 2048], edge_index=[2, 43558], y=[8954], pos=[8954, 2], train_mask=[8954], val_mask=[8954], test_mask=[8954])]},\n",
       " '362_A1b_ASAP_tumor_map': {'train': [Data(x=[10277, 2048], edge_index=[2, 50425], y=[10277], pos=[10277, 2], train_mask=[10277], val_mask=[10277], test_mask=[10277])],\n",
       "  'val': [Data(x=[10950, 2048], edge_index=[2, 53728], y=[10950], pos=[10950, 2], train_mask=[10950], val_mask=[10950], test_mask=[10950])]},\n",
       " '362_A1c_ASAP_tumor_map': {'train': [Data(x=[8771, 2048], edge_index=[2, 42925], y=[8771], pos=[8771, 2], train_mask=[8771], val_mask=[8771], test_mask=[8771])],\n",
       "  'val': [Data(x=[10025, 2048], edge_index=[2, 49095], y=[10025], pos=[10025, 2], train_mask=[10025], val_mask=[10025], test_mask=[10025])]},\n",
       " '363_A1b_ASAP_tumor_map': {'train': [Data(x=[10713, 2048], edge_index=[2, 52717], y=[10713], pos=[10713, 2], train_mask=[10713], val_mask=[10713], test_mask=[10713])],\n",
       "  'val': [Data(x=[10069, 2048], edge_index=[2, 49471], y=[10069], pos=[10069, 2], train_mask=[10069], val_mask=[10069], test_mask=[10069])]},\n",
       " '363_A1c_ASAP_tumor_map': {'train': [Data(x=[10333, 2048], edge_index=[2, 50949], y=[10333], pos=[10333, 2], train_mask=[10333], val_mask=[10333], test_mask=[10333])],\n",
       "  'val': [Data(x=[10265, 2048], edge_index=[2, 50613], y=[10265], pos=[10265, 2], train_mask=[10265], val_mask=[10265], test_mask=[10265])]},\n",
       " '363_A2b_ASAP_tumor_map': {'train': [Data(x=[8385, 2048], edge_index=[2, 41225], y=[8385], pos=[8385, 2], train_mask=[8385], val_mask=[8385], test_mask=[8385]),\n",
       "   Data(x=[8318, 2048], edge_index=[2, 40800], y=[8318], pos=[8318, 2], train_mask=[8318], val_mask=[8318], test_mask=[8318])],\n",
       "  'val': [Data(x=[8570, 2048], edge_index=[2, 42180], y=[8570], pos=[8570, 2], train_mask=[8570], val_mask=[8570], test_mask=[8570])]},\n",
       " '363_A3b_ASAP_tumor_map': {'train': [Data(x=[11918, 2048], edge_index=[2, 58766], y=[11918], pos=[11918, 2], train_mask=[11918], val_mask=[11918], test_mask=[11918])],\n",
       "  'val': [Data(x=[11553, 2048], edge_index=[2, 56695], y=[11553], pos=[11553, 2], train_mask=[11553], val_mask=[11553], test_mask=[11553])]},\n",
       " '364_A1b_ASAP_tumor_map': {'train': [Data(x=[7890, 2048], edge_index=[2, 38608], y=[7890], pos=[7890, 2], train_mask=[7890], val_mask=[7890], test_mask=[7890]),\n",
       "   Data(x=[7228, 2048], edge_index=[2, 35234], y=[7228], pos=[7228, 2], train_mask=[7228], val_mask=[7228], test_mask=[7228])],\n",
       "  'val': [Data(x=[7129, 2048], edge_index=[2, 34695], y=[7129], pos=[7129, 2], train_mask=[7129], val_mask=[7129], test_mask=[7129])]},\n",
       " '364_A2b_ASAP_tumor_map': {'train': [Data(x=[7762, 2048], edge_index=[2, 37502], y=[7762], pos=[7762, 2], train_mask=[7762], val_mask=[7762], test_mask=[7762]),\n",
       "   Data(x=[6950, 2048], edge_index=[2, 33088], y=[6950], pos=[6950, 2], train_mask=[6950], val_mask=[6950], test_mask=[6950])],\n",
       "  'val': [Data(x=[7887, 2048], edge_index=[2, 38045], y=[7887], pos=[7887, 2], train_mask=[7887], val_mask=[7887], test_mask=[7887])]},\n",
       " '364_A4b_ASAP_tumor_map': {'train': [Data(x=[7567, 2048], edge_index=[2, 36695], y=[7567], pos=[7567, 2], train_mask=[7567], val_mask=[7567], test_mask=[7567]),\n",
       "   Data(x=[6416, 2048], edge_index=[2, 30756], y=[6416], pos=[6416, 2], train_mask=[6416], val_mask=[6416], test_mask=[6416])],\n",
       "  'val': [Data(x=[8013, 2048], edge_index=[2, 38809], y=[8013], pos=[8013, 2], train_mask=[8013], val_mask=[8013], test_mask=[8013])]},\n",
       " '365_A1b_ASAP_tumor_map': {'train': [Data(x=[6347, 2048], edge_index=[2, 31109], y=[6347], pos=[6347, 2], train_mask=[6347], val_mask=[6347], test_mask=[6347]),\n",
       "   Data(x=[186, 2048], edge_index=[2, 812], y=[186], pos=[186, 2], train_mask=[186], val_mask=[186], test_mask=[186]),\n",
       "   Data(x=[6236, 2048], edge_index=[2, 30544], y=[6236], pos=[6236, 2], train_mask=[6236], val_mask=[6236], test_mask=[6236])],\n",
       "  'val': [Data(x=[6763, 2048], edge_index=[2, 33205], y=[6763], pos=[6763, 2], train_mask=[6763], val_mask=[6763], test_mask=[6763])]},\n",
       " '365_A2b_ASAP_tumor_map': {'train': [Data(x=[6896, 2048], edge_index=[2, 33746], y=[6896], pos=[6896, 2], train_mask=[6896], val_mask=[6896], test_mask=[6896]),\n",
       "   Data(x=[5952, 2048], edge_index=[2, 29198], y=[5952], pos=[5952, 2], train_mask=[5952], val_mask=[5952], test_mask=[5952])],\n",
       "  'val': [Data(x=[5449, 2048], edge_index=[2, 26585], y=[5449], pos=[5449, 2], train_mask=[5449], val_mask=[5449], test_mask=[5449])]},\n",
       " '366_A1a_ASAP_tumor_map': {'train': [Data(x=[7163, 2048], edge_index=[2, 34633], y=[7163], pos=[7163, 2], train_mask=[7163], val_mask=[7163], test_mask=[7163])],\n",
       "  'val': [Data(x=[6673, 2048], edge_index=[2, 32347], y=[6673], pos=[6673, 2], train_mask=[6673], val_mask=[6673], test_mask=[6673])]},\n",
       " '366_A1b_ASAP_tumor_map': {'train': [Data(x=[8481, 2048], edge_index=[2, 41449], y=[8481], pos=[8481, 2], train_mask=[8481], val_mask=[8481], test_mask=[8481])],\n",
       "  'val': [Data(x=[8178, 2048], edge_index=[2, 39998], y=[8178], pos=[8178, 2], train_mask=[8178], val_mask=[8178], test_mask=[8178])]},\n",
       " '366_A1c_ASAP_tumor_map': {'train': [Data(x=[8477, 2048], edge_index=[2, 41553], y=[8477], pos=[8477, 2], train_mask=[8477], val_mask=[8477], test_mask=[8477])],\n",
       "  'val': [Data(x=[8539, 2048], edge_index=[2, 41785], y=[8539], pos=[8539, 2], train_mask=[8539], val_mask=[8539], test_mask=[8539])]},\n",
       " '367_A2b_ASAP_tumor_map': {'train': [Data(x=[2290, 2048], edge_index=[2, 11108], y=[2290], pos=[2290, 2], train_mask=[2290], val_mask=[2290], test_mask=[2290]),\n",
       "   Data(x=[2311, 2048], edge_index=[2, 11239], y=[2311], pos=[2311, 2], train_mask=[2311], val_mask=[2311], test_mask=[2311]),\n",
       "   Data(x=[2053, 2048], edge_index=[2, 10031], y=[2053], pos=[2053, 2], train_mask=[2053], val_mask=[2053], test_mask=[2053]),\n",
       "   Data(x=[2518, 2048], edge_index=[2, 12228], y=[2518], pos=[2518, 2], train_mask=[2518], val_mask=[2518], test_mask=[2518])],\n",
       "  'val': [Data(x=[2000, 2048], edge_index=[2, 9724], y=[2000], pos=[2000, 2], train_mask=[2000], val_mask=[2000], test_mask=[2000])]},\n",
       " '368_A1b_ASAP_tumor_map': {'train': [Data(x=[14939, 2048], edge_index=[2, 73293], y=[14939], pos=[14939, 2], train_mask=[14939], val_mask=[14939], test_mask=[14939])],\n",
       "  'val': [Data(x=[14068, 2048], edge_index=[2, 68870], y=[14068], pos=[14068, 2], train_mask=[14068], val_mask=[14068], test_mask=[14068])]},\n",
       " '368_A1c_ASAP_tumor_map': {'train': [Data(x=[16135, 2048], edge_index=[2, 79453], y=[16135], pos=[16135, 2], train_mask=[16135], val_mask=[16135], test_mask=[16135])],\n",
       "  'val': [Data(x=[15735, 2048], edge_index=[2, 76983], y=[15735], pos=[15735, 2], train_mask=[15735], val_mask=[15735], test_mask=[15735])]},\n",
       " '368_A1d_ASAP_tumor_map': {'train': [Data(x=[17493, 2048], edge_index=[2, 86455], y=[17493], pos=[17493, 2], train_mask=[17493], val_mask=[17493], test_mask=[17493])],\n",
       "  'val': [Data(x=[16641, 2048], edge_index=[2, 81905], y=[16641], pos=[16641, 2], train_mask=[16641], val_mask=[16641], test_mask=[16641])]},\n",
       " '369_A1b_ASAP_tumor_map': {'train': [Data(x=[4862, 2048], edge_index=[2, 23662], y=[4862], pos=[4862, 2], train_mask=[4862], val_mask=[4862], test_mask=[4862]),\n",
       "   Data(x=[5344, 2048], edge_index=[2, 26102], y=[5344], pos=[5344, 2], train_mask=[5344], val_mask=[5344], test_mask=[5344])],\n",
       "  'val': [Data(x=[4344, 2048], edge_index=[2, 21160], y=[4344], pos=[4344, 2], train_mask=[4344], val_mask=[4344], test_mask=[4344])]},\n",
       " '369_A1c_ASAP_tumor_map': {'train': [Data(x=[3579, 2048], edge_index=[2, 17421], y=[3579], pos=[3579, 2], train_mask=[3579], val_mask=[3579], test_mask=[3579]),\n",
       "   Data(x=[2806, 2048], edge_index=[2, 13668], y=[2806], pos=[2806, 2], train_mask=[2806], val_mask=[2806], test_mask=[2806]),\n",
       "   Data(x=[3465, 2048], edge_index=[2, 16751], y=[3465], pos=[3465, 2], train_mask=[3465], val_mask=[3465], test_mask=[3465])],\n",
       "  'val': [Data(x=[3144, 2048], edge_index=[2, 15240], y=[3144], pos=[3144, 2], train_mask=[3144], val_mask=[3144], test_mask=[3144])]},\n",
       " '369_A2b_ASAP_tumor_map': {'train': [Data(x=[3510, 2048], edge_index=[2, 17166], y=[3510], pos=[3510, 2], train_mask=[3510], val_mask=[3510], test_mask=[3510]),\n",
       "   Data(x=[3861, 2048], edge_index=[2, 18849], y=[3861], pos=[3861, 2], train_mask=[3861], val_mask=[3861], test_mask=[3861]),\n",
       "   Data(x=[1230, 2048], edge_index=[2, 5880], y=[1230], pos=[1230, 2], train_mask=[1230], val_mask=[1230], test_mask=[1230]),\n",
       "   Data(x=[1299, 2048], edge_index=[2, 6165], y=[1299], pos=[1299, 2], train_mask=[1299], val_mask=[1299], test_mask=[1299]),\n",
       "   Data(x=[3534, 2048], edge_index=[2, 17090], y=[3534], pos=[3534, 2], train_mask=[3534], val_mask=[3534], test_mask=[3534])],\n",
       "  'val': [Data(x=[851, 2048], edge_index=[2, 4003], y=[851], pos=[851, 2], train_mask=[851], val_mask=[851], test_mask=[851])]},\n",
       " '370_A1b_ASAP_tumor_map': {'train': [Data(x=[3522, 2048], edge_index=[2, 17230], y=[3522], pos=[3522, 2], train_mask=[3522], val_mask=[3522], test_mask=[3522]),\n",
       "   Data(x=[3468, 2048], edge_index=[2, 16934], y=[3468], pos=[3468, 2], train_mask=[3468], val_mask=[3468], test_mask=[3468])],\n",
       "  'val': [Data(x=[3362, 2048], edge_index=[2, 16446], y=[3362], pos=[3362, 2], train_mask=[3362], val_mask=[3362], test_mask=[3362])]},\n",
       " '370_A2a_ASAP_tumor_map': {'train': [Data(x=[3051, 2048], edge_index=[2, 14891], y=[3051], pos=[3051, 2], train_mask=[3051], val_mask=[3051], test_mask=[3051]),\n",
       "   Data(x=[2460, 2048], edge_index=[2, 11918], y=[2460], pos=[2460, 2], train_mask=[2460], val_mask=[2460], test_mask=[2460])],\n",
       "  'val': [Data(x=[3383, 2048], edge_index=[2, 16557], y=[3383], pos=[3383, 2], train_mask=[3383], val_mask=[3383], test_mask=[3383])]},\n",
       " '370_A2b_ASAP_tumor_map': {'train': [Data(x=[3236, 2048], edge_index=[2, 15876], y=[3236], pos=[3236, 2], train_mask=[3236], val_mask=[3236], test_mask=[3236]),\n",
       "   Data(x=[3291, 2048], edge_index=[2, 16135], y=[3291], pos=[3291, 2], train_mask=[3291], val_mask=[3291], test_mask=[3291])],\n",
       "  'val': [Data(x=[3095, 2048], edge_index=[2, 15181], y=[3095], pos=[3095, 2], train_mask=[3095], val_mask=[3095], test_mask=[3095])]},\n",
       " '37_A2d_ASAP_tumor_map': {'train': [Data(x=[7697, 2048], edge_index=[2, 36761], y=[7697], pos=[7697, 2], train_mask=[7697], val_mask=[7697], test_mask=[7697])],\n",
       "  'val': [Data(x=[7718, 2048], edge_index=[2, 36598], y=[7718], pos=[7718, 2], train_mask=[7718], val_mask=[7718], test_mask=[7718])]},\n",
       " '61_A1a_ASAP_tumor_map': {'train': [Data(x=[1708, 2048], edge_index=[2, 8198], y=[1708], pos=[1708, 2], train_mask=[1708], val_mask=[1708], test_mask=[1708]),\n",
       "   Data(x=[2059, 2048], edge_index=[2, 9967], y=[2059], pos=[2059, 2], train_mask=[2059], val_mask=[2059], test_mask=[2059]),\n",
       "   Data(x=[2178, 2048], edge_index=[2, 10598], y=[2178], pos=[2178, 2], train_mask=[2178], val_mask=[2178], test_mask=[2178]),\n",
       "   Data(x=[2096, 2048], edge_index=[2, 10164], y=[2096], pos=[2096, 2], train_mask=[2096], val_mask=[2096], test_mask=[2096])],\n",
       "  'val': [Data(x=[2201, 2048], edge_index=[2, 10721], y=[2201], pos=[2201, 2], train_mask=[2201], val_mask=[2201], test_mask=[2201])]},\n",
       " '61_B1a_ASAP_tumor_map': {'train': [Data(x=[2145, 2048], edge_index=[2, 10425], y=[2145], pos=[2145, 2], train_mask=[2145], val_mask=[2145], test_mask=[2145]),\n",
       "   Data(x=[212, 2048], edge_index=[2, 974], y=[212], pos=[212, 2], train_mask=[212], val_mask=[212], test_mask=[212]),\n",
       "   Data(x=[2055, 2048], edge_index=[2, 9939], y=[2055], pos=[2055, 2], train_mask=[2055], val_mask=[2055], test_mask=[2055]),\n",
       "   Data(x=[1275, 2048], edge_index=[2, 6075], y=[1275], pos=[1275, 2], train_mask=[1275], val_mask=[1275], test_mask=[1275]),\n",
       "   Data(x=[1771, 2048], edge_index=[2, 8535], y=[1771], pos=[1771, 2], train_mask=[1771], val_mask=[1771], test_mask=[1771])],\n",
       "  'val': [Data(x=[2088, 2048], edge_index=[2, 10144], y=[2088], pos=[2088, 2], train_mask=[2088], val_mask=[2088], test_mask=[2088])]},\n",
       " '70_A2b_ASAP_tumor_map': {'train': [Data(x=[1686, 2048], edge_index=[2, 8148], y=[1686], pos=[1686, 2], train_mask=[1686], val_mask=[1686], test_mask=[1686]),\n",
       "   Data(x=[1663, 2048], edge_index=[2, 8025], y=[1663], pos=[1663, 2], train_mask=[1663], val_mask=[1663], test_mask=[1663]),\n",
       "   Data(x=[1787, 2048], edge_index=[2, 8725], y=[1787], pos=[1787, 2], train_mask=[1787], val_mask=[1787], test_mask=[1787]),\n",
       "   Data(x=[1805, 2048], edge_index=[2, 8797], y=[1805], pos=[1805, 2], train_mask=[1805], val_mask=[1805], test_mask=[1805]),\n",
       "   Data(x=[1665, 2048], edge_index=[2, 8099], y=[1665], pos=[1665, 2], train_mask=[1665], val_mask=[1665], test_mask=[1665])],\n",
       "  'val': [Data(x=[1672, 2048], edge_index=[2, 8158], y=[1672], pos=[1672, 2], train_mask=[1672], val_mask=[1672], test_mask=[1672])]},\n",
       " '7_A1c_ASAP_tumor_map': {'train': [Data(x=[6353, 2048], edge_index=[2, 31203], y=[6353], pos=[6353, 2], train_mask=[6353], val_mask=[6353], test_mask=[6353]),\n",
       "   Data(x=[6222, 2048], edge_index=[2, 30556], y=[6222], pos=[6222, 2], train_mask=[6222], val_mask=[6222], test_mask=[6222])],\n",
       "  'val': [Data(x=[5921, 2048], edge_index=[2, 29101], y=[5921], pos=[5921, 2], train_mask=[5921], val_mask=[5921], test_mask=[5921])]},\n",
       " '7_A1d_ASAP_tumor_map': {'train': [Data(x=[5494, 2048], edge_index=[2, 26986], y=[5494], pos=[5494, 2], train_mask=[5494], val_mask=[5494], test_mask=[5494]),\n",
       "   Data(x=[5831, 2048], edge_index=[2, 28669], y=[5831], pos=[5831, 2], train_mask=[5831], val_mask=[5831], test_mask=[5831])],\n",
       "  'val': [Data(x=[5516, 2048], edge_index=[2, 27058], y=[5516], pos=[5516, 2], train_mask=[5516], val_mask=[5516], test_mask=[5516])]},\n",
       " '7_A1e_ASAP_tumor_map': {'train': [Data(x=[4710, 2048], edge_index=[2, 23116], y=[4710], pos=[4710, 2], train_mask=[4710], val_mask=[4710], test_mask=[4710]),\n",
       "   Data(x=[5083, 2048], edge_index=[2, 24985], y=[5083], pos=[5083, 2], train_mask=[5083], val_mask=[5083], test_mask=[5083])],\n",
       "  'val': [Data(x=[4639, 2048], edge_index=[2, 22765], y=[4639], pos=[4639, 2], train_mask=[4639], val_mask=[4639], test_mask=[4639])]}}"
      ]
     },
     "execution_count": 18,
     "metadata": {},
     "output_type": "execute_result"
    }
   ],
   "source": [
    "e"
   ]
  },
  {
   "cell_type": "code",
   "execution_count": null,
   "id": "221186af",
   "metadata": {},
   "outputs": [],
   "source": []
  }
 ],
 "metadata": {
  "kernelspec": {
   "display_name": "hiss",
   "language": "python",
   "name": "hiss"
  },
  "language_info": {
   "codemirror_mode": {
    "name": "ipython",
    "version": 3
   },
   "file_extension": ".py",
   "mimetype": "text/x-python",
   "name": "python",
   "nbconvert_exporter": "python",
   "pygments_lexer": "ipython3",
   "version": "3.8.13"
  }
 },
 "nbformat": 4,
 "nbformat_minor": 5
}
