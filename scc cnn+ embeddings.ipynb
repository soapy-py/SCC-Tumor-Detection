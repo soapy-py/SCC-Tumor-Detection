{
 "cells": [
  {
   "cell_type": "code",
   "execution_count": 1,
   "id": "dc486bdd",
   "metadata": {},
   "outputs": [],
   "source": [
    "import numpy as np\n",
    "import pandas as pd\n",
    "%matplotlib inline"
   ]
  },
  {
   "cell_type": "code",
   "execution_count": 26,
   "id": "326985d1",
   "metadata": {},
   "outputs": [
    {
     "name": "stderr",
     "output_type": "stream",
     "text": [
      "100%|█████████████████████████████████████████████████████████████████████████████████████████| 95/95 [00:05<00:00, 16.66it/s]\n"
     ]
    }
   ],
   "source": [
    "import tqdm\n",
    "import glob, os, pickle\n",
    "dfs=[]\n",
    "path= \"/dartfs/rc/nosnapshots/V/VaickusL-nb/EDIT_Students/users/Sophie_Chen/scc_tumor_data/prelim_patch_info_v2/\"\n",
    "\n",
    "for file in tqdm.tqdm(sorted(glob.glob(path + '/*.pkl'))):\n",
    "    basename=os.path.basename(file).replace(\".pkl\",\"\")\n",
    "    df=pd.read_pickle(file)\n",
    "    df['patch_index']=np.arange(df.shape[0])\n",
    "    if 'scc' not in df.columns: df['scc']=0\n",
    "    df['scc']=(df['scc']==1).astype(int)  \n",
    "    df['ID']=basename\n",
    "    dfs.append(df)\n",
    "df=pd.concat(dfs)"
   ]
  },
  {
   "cell_type": "code",
   "execution_count": 29,
   "id": "f9644ba8",
   "metadata": {},
   "outputs": [],
   "source": [
    "from sklearn.model_selection import train_test_split"
   ]
  },
  {
   "cell_type": "code",
   "execution_count": 30,
   "id": "30fe5679",
   "metadata": {
    "scrolled": true
   },
   "outputs": [],
   "source": [
    "TUMOR_THRESHOLD=0.2\n",
    "IDs=(df.groupby([\"ID\"])['scc'].mean()>TUMOR_THRESHOLD).astype(int)"
   ]
  },
  {
   "cell_type": "code",
   "execution_count": 31,
   "id": "2e4fc47a",
   "metadata": {},
   "outputs": [],
   "source": [
    "\n",
    "train_ID,test_ID=train_test_split(IDs,stratify=IDs.values, random_state=42)\n",
    "train_ID,val_ID=train_test_split(train_ID,stratify=train_ID.values, random_state=42)"
   ]
  },
  {
   "cell_type": "code",
   "execution_count": 32,
   "id": "687f1f74",
   "metadata": {},
   "outputs": [],
   "source": [
    "train_val_test_slide_ids=dict(train=train_ID.index,val=val_ID.index,test=test_ID.index)"
   ]
  },
  {
   "cell_type": "code",
   "execution_count": 33,
   "id": "7e0a6c42",
   "metadata": {},
   "outputs": [],
   "source": [
    "np.random.seed(42)\n",
    "patch_dict=dict(train=df.loc[df['ID'].isin(train_val_test_slide_ids['train'])].sample(n=1280),\n",
    "               val=df.loc[df['ID'].isin(train_val_test_slide_ids['val'])].sample(n=512),\n",
    "               test=df.loc[df['ID'].isin(train_val_test_slide_ids['test'])].sample(n=512))"
   ]
  },
  {
   "cell_type": "code",
   "execution_count": 34,
   "id": "3769d9dc",
   "metadata": {},
   "outputs": [],
   "source": [
    "train_val_test_slide_ids={k:patch_dict[k]['ID'].unique() for k in patch_dict}"
   ]
  },
  {
   "cell_type": "code",
   "execution_count": 10,
   "id": "92c3ba80",
   "metadata": {
    "collapsed": true
   },
   "outputs": [
    {
     "data": {
      "text/plain": [
       "{'train': array(['368_A1d_ASAP_tumor_map', '350_A1e_ASAP_tumor_map',\n",
       "        '364_A1b_ASAP_tumor_map', '354_A1d_ASAP_tumor_map',\n",
       "        '12_A1c_ASAP_tumor_map', '354_A3b_ASAP_tumor_map',\n",
       "        '365_A2b_ASAP_tumor_map', '7_A1e_ASAP_tumor_map',\n",
       "        '341_a_ASAP_tumor_map', '10_A1b_ASAP_tumor_map',\n",
       "        '123_A1a_ASAP_tumor_map', '353_A2b_ASAP_tumor_map',\n",
       "        '7_A1d_ASAP_tumor_map', '363_A3b_ASAP_tumor_map',\n",
       "        '365_A1b_ASAP_tumor_map', '112_a_ASAP_tumor_map',\n",
       "        '270_A1d_ASAP_tumor_map', '358_A1b_ASAP_tumor_map',\n",
       "        '344_a_ASAP_tumor_map', '369_A2b_ASAP_tumor_map',\n",
       "        '346_b_ASAP_tumor_map', '368_A1c_ASAP_tumor_map',\n",
       "        '281_A1f_ASAP_tumor_map', '270_A1e_ASAP_tumor_map',\n",
       "        '343_c_ASAP_tumor_map', '352_A1d_ASAP_tumor_map',\n",
       "        '355_A1d_ASAP_tumor_map', '354_A1b_ASAP_tumor_map',\n",
       "        '342_a_ASAP_tumor_map', '61_B1a_ASAP_tumor_map',\n",
       "        '352_A1e_ASAP_tumor_map', '7_A1c_ASAP_tumor_map',\n",
       "        '354_A3c_ASAP_tumor_map', '350_A1d_ASAP_tumor_map',\n",
       "        '361_a_ASAP_tumor_map', '370_A1b_ASAP_tumor_map',\n",
       "        '37_A2d_ASAP_tumor_map', '364_A4b_ASAP_tumor_map',\n",
       "        '364_A2b_ASAP_tumor_map', '363_A2b_ASAP_tumor_map',\n",
       "        '345_a_ASAP_tumor_map', '362_A1c_ASAP_tumor_map',\n",
       "        '343_d_ASAP_tumor_map', '343_a_ASAP_tumor_map',\n",
       "        '14_A2b_ASAP_tumor_map', '61_A1a_ASAP_tumor_map',\n",
       "        '70_A2b_ASAP_tumor_map', '169_A2b_ASAP_tumor_map',\n",
       "        '370_A2b_ASAP_tumor_map', '342_b_ASAP_tumor_map',\n",
       "        '281_A1d_ASAP_tumor_map', '358_A1a_ASAP_tumor_map',\n",
       "        '354_A3a_ASAP_tumor_map'], dtype=object),\n",
       " 'val': array(['366_A1a_ASAP_tumor_map', '10_A2b_ASAP_tumor_map',\n",
       "        '109_A1c_ASAP_tumor_map', '281_A2eX_ASAP_tumor_map',\n",
       "        '352_A1i_ASAP_tumor_map', '352_A1g_ASAP_tumor_map',\n",
       "        '344_b_ASAP_tumor_map', '370_A2a_ASAP_tumor_map',\n",
       "        '270_A2b_ASAP_tumor_map', '361_b_ASAP_tumor_map',\n",
       "        '363_A1b_ASAP_tumor_map', '110_A2b_ASAP_tumor_map',\n",
       "        '367_A2b_ASAP_tumor_map', '10_A1a_ASAP_tumor_map',\n",
       "        '352_A1h_ASAP_tumor_map', '354_D1b_ASAP_tumor_map',\n",
       "        '327_A1a_ASAP_tumor_map', '112_b_ASAP_tumor_map'], dtype=object),\n",
       " 'test': array(['327_B1c_ASAP_tumor_map', '270_A2f_ASAP_tumor_map',\n",
       "        '369_A1b_ASAP_tumor_map', '350_A1a_ASAP_tumor_map',\n",
       "        '343_b_ASAP_tumor_map', '366_A1c_ASAP_tumor_map',\n",
       "        '311_A2c_ASAP_tumor_map', '346_a_ASAP_tumor_map',\n",
       "        '368_A1b_ASAP_tumor_map', '363_A1c_ASAP_tumor_map',\n",
       "        '350_A1c_ASAP_tumor_map', '354_A1c_ASAP_tumor_map',\n",
       "        '362_A1a_ASAP_tumor_map', '362_A1b_ASAP_tumor_map',\n",
       "        '356_A1b_ASAP_tumor_map', '366_A1b_ASAP_tumor_map',\n",
       "        '351_A2b_ASAP_tumor_map', '270_A1b_ASAP_tumor_map',\n",
       "        '341_b_ASAP_tumor_map', '345_b_ASAP_tumor_map',\n",
       "        '14_A1b_ASAP_tumor_map', '350_A1b_ASAP_tumor_map',\n",
       "        '327_A1d_ASAP_tumor_map', '369_A1c_ASAP_tumor_map'], dtype=object)}"
      ]
     },
     "execution_count": 10,
     "metadata": {},
     "output_type": "execute_result"
    }
   ],
   "source": [
    "train_val_test_slide_ids"
   ]
  },
  {
   "cell_type": "code",
   "execution_count": 35,
   "id": "c9df0968",
   "metadata": {},
   "outputs": [],
   "source": [
    "df['Set']='train'\n",
    "for k in train_val_test_slide_ids:\n",
    "    df.loc[df[\"ID\"].isin(train_val_test_slide_ids[k]),\"Set\"]=k"
   ]
  },
  {
   "cell_type": "code",
   "execution_count": 36,
   "id": "3740d79c",
   "metadata": {},
   "outputs": [],
   "source": [
    "\n",
    "df.to_pickle(\"master1_dict.pkl\")"
   ]
  },
  {
   "cell_type": "code",
   "execution_count": 37,
   "id": "75311dfb",
   "metadata": {
    "collapsed": true
   },
   "outputs": [
    {
     "name": "stderr",
     "output_type": "stream",
     "text": [
      "train_val_test:   0%|                                                                                   | 0/3 [00:00<?, ?it/s]\n",
      "case:   0%|                                                                                            | 0/53 [00:00<?, ?it/s]\u001b[A\n",
      "case:   2%|█▌                                                                                  | 1/53 [00:12<11:04, 12.77s/it]\u001b[A\n",
      "case:   4%|███▏                                                                                | 2/53 [00:17<06:59,  8.23s/it]\u001b[A\n",
      "case:   6%|████▊                                                                               | 3/53 [00:28<07:44,  9.28s/it]\u001b[A\n",
      "case:   8%|██████▎                                                                             | 4/53 [00:41<08:52, 10.86s/it]\u001b[A\n",
      "case:   9%|███████▉                                                                            | 5/53 [00:53<08:56, 11.18s/it]\u001b[A\n",
      "case:  11%|█████████▌                                                                          | 6/53 [01:07<09:40, 12.34s/it]\u001b[A\n",
      "case:  13%|███████████                                                                         | 7/53 [01:26<11:01, 14.37s/it]\u001b[A\n",
      "case:  15%|████████████▋                                                                       | 8/53 [01:42<11:02, 14.73s/it]\u001b[A\n",
      "case:  17%|██████████████▎                                                                     | 9/53 [01:51<09:36, 13.09s/it]\u001b[A\n",
      "case:  19%|███████████████▋                                                                   | 10/53 [02:01<08:39, 12.08s/it]\u001b[A\n",
      "case:  21%|█████████████████▏                                                                 | 11/53 [02:08<07:24, 10.59s/it]\u001b[A\n",
      "case:  23%|██████████████████▊                                                                | 12/53 [02:12<05:56,  8.70s/it]\u001b[A\n",
      "case:  25%|████████████████████▎                                                              | 13/53 [02:18<05:13,  7.84s/it]\u001b[A\n",
      "case:  26%|█████████████████████▉                                                             | 14/53 [02:31<06:00,  9.25s/it]\u001b[A\n",
      "case:  28%|███████████████████████▍                                                           | 15/53 [02:44<06:38, 10.47s/it]\u001b[A\n",
      "case:  30%|█████████████████████████                                                          | 16/53 [03:02<07:46, 12.61s/it]\u001b[A\n",
      "case:  32%|██████████████████████████▌                                                        | 17/53 [03:08<06:27, 10.75s/it]\u001b[A\n",
      "case:  34%|████████████████████████████▏                                                      | 18/53 [03:18<06:04, 10.41s/it]\u001b[A\n",
      "case:  36%|█████████████████████████████▊                                                     | 19/53 [03:26<05:29,  9.70s/it]\u001b[A\n",
      "case:  38%|███████████████████████████████▎                                                   | 20/53 [03:36<05:25,  9.86s/it]\u001b[A\n",
      "case:  40%|████████████████████████████████▉                                                  | 21/53 [03:48<05:36, 10.51s/it]\u001b[A\n",
      "case:  42%|██████████████████████████████████▍                                                | 22/53 [04:06<06:36, 12.80s/it]\u001b[A\n",
      "case:  43%|████████████████████████████████████                                               | 23/53 [04:18<06:17, 12.59s/it]\u001b[A\n",
      "case:  45%|█████████████████████████████████████▌                                             | 24/53 [04:30<05:54, 12.21s/it]\u001b[A\n",
      "case:  47%|███████████████████████████████████████▏                                           | 25/53 [04:39<05:18, 11.39s/it]\u001b[A\n",
      "case:  49%|████████████████████████████████████████▋                                          | 26/53 [04:51<05:15, 11.70s/it]\u001b[A\n",
      "case:  51%|██████████████████████████████████████████▎                                        | 27/53 [05:01<04:47, 11.06s/it]\u001b[A\n",
      "case:  53%|███████████████████████████████████████████▊                                       | 28/53 [05:19<05:30, 13.21s/it]\u001b[A\n",
      "case:  55%|█████████████████████████████████████████████▍                                     | 29/53 [05:36<05:43, 14.33s/it]\u001b[A\n",
      "case:  57%|██████████████████████████████████████████████▉                                    | 30/53 [05:53<05:48, 15.14s/it]\u001b[A\n",
      "case:  58%|████████████████████████████████████████████████▌                                  | 31/53 [06:03<04:57, 13.51s/it]\u001b[A\n",
      "case:  60%|██████████████████████████████████████████████████                                 | 32/53 [06:15<04:33, 13.00s/it]\u001b[A\n",
      "case:  62%|███████████████████████████████████████████████████▋                               | 33/53 [06:25<04:06, 12.31s/it]\u001b[A\n",
      "case:  64%|█████████████████████████████████████████████████████▏                             | 34/53 [06:39<03:58, 12.54s/it]\u001b[A\n",
      "case:  66%|██████████████████████████████████████████████████████▊                            | 35/53 [06:54<03:59, 13.32s/it]\u001b[A\n",
      "case:  68%|████████████████████████████████████████████████████████▍                          | 36/53 [07:08<03:50, 13.55s/it]\u001b[A\n",
      "case:  70%|█████████████████████████████████████████████████████████▉                         | 37/53 [07:21<03:37, 13.60s/it]\u001b[A\n",
      "case:  72%|███████████████████████████████████████████████████████████▌                       | 38/53 [07:36<03:29, 13.97s/it]\u001b[A\n",
      "case:  74%|█████████████████████████████████████████████████████████████                      | 39/53 [07:50<03:15, 13.98s/it]\u001b[A\n",
      "case:  75%|██████████████████████████████████████████████████████████████▋                    | 40/53 [08:04<02:58, 13.76s/it]\u001b[A\n",
      "case:  77%|████████████████████████████████████████████████████████████████▏                  | 41/53 [08:17<02:44, 13.68s/it]\u001b[A\n",
      "case:  79%|█████████████████████████████████████████████████████████████████▊                 | 42/53 [08:39<02:58, 16.21s/it]\u001b[A\n",
      "case:  81%|███████████████████████████████████████████████████████████████████▎               | 43/53 [09:03<03:03, 18.35s/it]\u001b[A\n",
      "case:  83%|████████████████████████████████████████████████████████████████████▉              | 44/53 [09:13<02:23, 15.91s/it]\u001b[A\n",
      "case:  85%|██████████████████████████████████████████████████████████████████████▍            | 45/53 [09:21<01:48, 13.56s/it]\u001b[A\n",
      "case:  87%|████████████████████████████████████████████████████████████████████████           | 46/53 [09:27<01:19, 11.34s/it]\u001b[A\n",
      "case:  89%|█████████████████████████████████████████████████████████████████████████▌         | 47/53 [09:36<01:04, 10.79s/it]\u001b[A\n",
      "case:  91%|███████████████████████████████████████████████████████████████████████████▏       | 48/53 [09:43<00:47,  9.46s/it]\u001b[A\n",
      "case:  92%|████████████████████████████████████████████████████████████████████████████▋      | 49/53 [09:49<00:33,  8.36s/it]\u001b[A\n",
      "case:  94%|██████████████████████████████████████████████████████████████████████████████▎    | 50/53 [09:57<00:25,  8.38s/it]\u001b[A\n",
      "case:  96%|███████████████████████████████████████████████████████████████████████████████▊   | 51/53 [10:09<00:18,  9.39s/it]\u001b[A\n",
      "case:  98%|█████████████████████████████████████████████████████████████████████████████████▍ | 52/53 [10:22<00:10, 10.57s/it]\u001b[A\n",
      "case: 100%|███████████████████████████████████████████████████████████████████████████████████| 53/53 [10:34<00:00, 11.97s/it]\u001b[A\n",
      "train_val_test:  33%|████████████████████████▋                                                 | 1/3 [10:36<21:12, 636.37s/it]\n",
      "case:   0%|                                                                                            | 0/18 [00:00<?, ?it/s]\u001b[A\n",
      "case:   6%|████▋                                                                               | 1/18 [00:37<10:34, 37.31s/it]\u001b[A\n",
      "case:  11%|█████████▎                                                                          | 2/18 [00:47<05:46, 21.65s/it]\u001b[A\n",
      "case:  17%|██████████████                                                                      | 3/18 [00:59<04:14, 16.95s/it]\u001b[A\n",
      "case:  22%|██████████████████▋                                                                 | 4/18 [01:12<03:36, 15.44s/it]\u001b[A\n",
      "case:  28%|███████████████████████▎                                                            | 5/18 [01:18<02:37, 12.08s/it]\u001b[A\n",
      "case:  33%|████████████████████████████                                                        | 6/18 [01:33<02:36, 13.05s/it]\u001b[A\n",
      "case:  39%|████████████████████████████████▋                                                   | 7/18 [01:42<02:08, 11.68s/it]\u001b[A\n",
      "case:  44%|█████████████████████████████████████▎                                              | 8/18 [01:59<02:13, 13.36s/it]\u001b[A\n",
      "case:  50%|██████████████████████████████████████████                                          | 9/18 [02:06<01:43, 11.50s/it]\u001b[A\n",
      "case:  56%|██████████████████████████████████████████████                                     | 10/18 [02:17<01:30, 11.29s/it]\u001b[A\n",
      "case:  61%|██████████████████████████████████████████████████▋                                | 11/18 [02:27<01:16, 10.91s/it]\u001b[A\n",
      "case:  67%|███████████████████████████████████████████████████████▎                           | 12/18 [02:37<01:02, 10.44s/it]\u001b[A\n",
      "case:  72%|███████████████████████████████████████████████████████████▉                       | 13/18 [02:46<00:50, 10.04s/it]\u001b[A\n",
      "case:  78%|████████████████████████████████████████████████████████████████▌                  | 14/18 [03:01<00:46, 11.70s/it]\u001b[A\n",
      "case:  83%|█████████████████████████████████████████████████████████████████████▏             | 15/18 [03:14<00:35, 11.95s/it]\u001b[A\n",
      "case:  89%|█████████████████████████████████████████████████████████████████████████▊         | 16/18 [03:23<00:22, 11.03s/it]\u001b[A\n",
      "case:  94%|██████████████████████████████████████████████████████████████████████████████▍    | 17/18 [03:32<00:10, 10.43s/it]\u001b[A\n",
      "case: 100%|███████████████████████████████████████████████████████████████████████████████████| 18/18 [03:40<00:00, 12.22s/it]\u001b[A\n",
      "train_val_test:  67%|█████████████████████████████████████████████████▎                        | 2/3 [14:17<06:31, 391.82s/it]\n",
      "case:   0%|                                                                                            | 0/24 [00:00<?, ?it/s]\u001b[A\n",
      "case:   4%|███▌                                                                                | 1/24 [00:08<03:25,  8.96s/it]\u001b[A\n",
      "case:   8%|███████                                                                             | 2/24 [00:23<04:28, 12.22s/it]\u001b[A\n",
      "case:  12%|██████████▌                                                                         | 3/24 [00:29<03:17,  9.40s/it]\u001b[A\n",
      "case:  17%|██████████████                                                                      | 4/24 [00:31<02:09,  6.45s/it]\u001b[A\n",
      "case:  21%|█████████████████▌                                                                  | 5/24 [00:42<02:32,  8.00s/it]\u001b[A\n",
      "case:  25%|█████████████████████                                                               | 6/24 [01:10<04:28, 14.89s/it]\u001b[A\n",
      "case:  29%|████████████████████████▌                                                           | 7/24 [01:15<03:18, 11.70s/it]\u001b[A\n",
      "case:  33%|████████████████████████████                                                        | 8/24 [01:29<03:17, 12.36s/it]\u001b[A\n",
      "case:  38%|███████████████████████████████▌                                                    | 9/24 [01:39<02:55, 11.70s/it]\u001b[A\n",
      "case:  42%|██████████████████████████████████▌                                                | 10/24 [01:46<02:24, 10.32s/it]\u001b[A\n",
      "case:  46%|██████████████████████████████████████                                             | 11/24 [01:56<02:12, 10.21s/it]\u001b[A\n",
      "case:  50%|█████████████████████████████████████████▌                                         | 12/24 [02:12<02:21, 11.78s/it]\u001b[A\n",
      "case:  54%|████████████████████████████████████████████▉                                      | 13/24 [02:23<02:07, 11.56s/it]\u001b[A\n",
      "case:  58%|████████████████████████████████████████████████▍                                  | 14/24 [02:29<01:41, 10.11s/it]\u001b[A\n",
      "case:  62%|███████████████████████████████████████████████████▉                               | 15/24 [02:42<01:36, 10.76s/it]\u001b[A\n",
      "case:  67%|███████████████████████████████████████████████████████▎                           | 16/24 [02:49<01:18,  9.84s/it]\u001b[A\n",
      "case:  71%|██████████████████████████████████████████████████████████▊                        | 17/24 [03:01<01:13, 10.46s/it]\u001b[A\n",
      "case:  75%|██████████████████████████████████████████████████████████████▎                    | 18/24 [03:17<01:12, 12.02s/it]\u001b[A\n",
      "case:  79%|█████████████████████████████████████████████████████████████████▋                 | 19/24 [03:34<01:07, 13.42s/it]\u001b[A\n",
      "case:  83%|█████████████████████████████████████████████████████████████████████▏             | 20/24 [03:44<00:50, 12.57s/it]\u001b[A\n",
      "case:  88%|████████████████████████████████████████████████████████████████████████▋          | 21/24 [03:55<00:36, 12.02s/it]\u001b[A\n",
      "case:  92%|████████████████████████████████████████████████████████████████████████████       | 22/24 [04:00<00:19,  9.82s/it]\u001b[A\n",
      "case:  96%|███████████████████████████████████████████████████████████████████████████████▌   | 23/24 [04:10<00:10, 10.08s/it]\u001b[A\n",
      "case: 100%|███████████████████████████████████████████████████████████████████████████████████| 24/24 [04:21<00:00, 10.90s/it]\u001b[A\n",
      "train_val_test: 100%|██████████████████████████████████████████████████████████████████████████| 3/3 [18:39<00:00, 373.07s/it]\n"
     ]
    }
   ],
   "source": [
    "for k in tqdm.tqdm(list(patch_dict.keys()),desc=\"train_val_test\"):\n",
    "    if not os.path.exists(f'cnn_model_input1/{k}_data.pkl'):\n",
    "        X,y=[],[]\n",
    "        for name, dff in tqdm.tqdm(patch_dict[k].groupby('ID'),total=patch_dict[k]['ID'].nunique(),desc=\"case\"):\n",
    "            arr=np.load(f\"/dartfs/rc/nosnapshots/V/VaickusL-nb/EDIT_Students/users/Sophie_Chen/scc_tumor_data/prelim_patch_info/{name}.npy\")\n",
    "            X.append(arr[dff['patch_index'].values])\n",
    "            y.append(dff['scc'].values.flatten().astype(int))\n",
    "            del arr\n",
    "        X=np.concatenate(X,0)\n",
    "        y=np.hstack(y)\n",
    "        with open(f'/dartfs/rc/nosnapshots/V/VaickusL-nb/EDIT_Students/users/Sophie_Chen/scc_tumor_data/prelim_patch_info//{k}_data.pkl','wb') as f:\n",
    "            pickle.dump(dict(X=X,y=y,patch_info=patch_dict[k]),f,pickle.HIGHEST_PROTOCOL)"
   ]
  },
  {
   "cell_type": "code",
   "execution_count": null,
   "id": "d91e28b9",
   "metadata": {
    "scrolled": true
   },
   "outputs": [],
   "source": [
    "#! ls /dartfs/rc/nosnapshots/V/VaickusL-nb/EDIT_Students/users/Sophie_Chen/scc_tumor_data/prelim_patch_info/"
   ]
  },
  {
   "cell_type": "code",
   "execution_count": null,
   "id": "ef97759f",
   "metadata": {},
   "outputs": [],
   "source": [
    "#! ls cnn_model_input"
   ]
  },
  {
   "cell_type": "code",
   "execution_count": null,
   "id": "3380bc84",
   "metadata": {
    "scrolled": true
   },
   "outputs": [],
   "source": [
    "#! pip install scikit-learn==0.24.2 --force-reinstall --no-deps"
   ]
  },
  {
   "cell_type": "code",
   "execution_count": null,
   "id": "b9802d44",
   "metadata": {},
   "outputs": [],
   "source": [
    "#import pandas as pd\n",
    "#d=pd.read_pickle(\"/dartfs/rc/nosnapshots/V/VaickusL-nb/EDIT_Students/users/Sophie_Chen/scc_tumor_data/prelim_patch_info/train_data.pkl\")"
   ]
  },
  {
   "cell_type": "code",
   "execution_count": null,
   "id": "e7743fff",
   "metadata": {
    "scrolled": true
   },
   "outputs": [],
   "source": [
    "#from keras.utils import to_categorical\n",
    "#d['y']=to_categorical(d['y'])\n"
   ]
  },
  {
   "cell_type": "code",
   "execution_count": null,
   "id": "d7da2a37",
   "metadata": {},
   "outputs": [],
   "source": [
    "#d['y'].shape"
   ]
  },
  {
   "cell_type": "code",
   "execution_count": null,
   "id": "ec41b27c",
   "metadata": {},
   "outputs": [],
   "source": [
    "from keras.callbacks import ReduceLROnPlateau\n",
    "lrr=ReduceLROnPlateau (monitor='val_acc', factor=.01, patience=3, min_lr=1e-5)"
   ]
  },
  {
   "cell_type": "code",
   "execution_count": 1,
   "id": "7bea194c",
   "metadata": {
    "scrolled": true
   },
   "outputs": [
    {
     "ename": "KeyboardInterrupt",
     "evalue": "",
     "output_type": "error",
     "traceback": [
      "\u001b[0;31m---------------------------------------------------------------------------\u001b[0m",
      "\u001b[0;31mKeyboardInterrupt\u001b[0m                         Traceback (most recent call last)",
      "Input \u001b[0;32mIn [1]\u001b[0m, in \u001b[0;36m<cell line: 1>\u001b[0;34m()\u001b[0m\n\u001b[0;32m----> 1\u001b[0m \u001b[38;5;28;01mfrom\u001b[39;00m \u001b[38;5;21;01mpathpretrain\u001b[39;00m\u001b[38;5;21;01m.\u001b[39;00m\u001b[38;5;21;01mtrain_model\u001b[39;00m \u001b[38;5;28;01mimport\u001b[39;00m train_model\n\u001b[1;32m      2\u001b[0m train_model(inputs_dir\u001b[38;5;241m=\u001b[39m\u001b[38;5;124m\"\u001b[39m\u001b[38;5;124m/dartfs/rc/nosnapshots/V/VaickusL-nb/EDIT_Students/users/Sophie_Chen/cnn_model_input/\u001b[39m\u001b[38;5;124m\"\u001b[39m,\n\u001b[1;32m      3\u001b[0m                 learning_rate\u001b[38;5;241m=\u001b[39m\u001b[38;5;241m1e-4\u001b[39m,\n\u001b[1;32m      4\u001b[0m                 n_epochs\u001b[38;5;241m=\u001b[39m\u001b[38;5;241m100\u001b[39m,\n\u001b[0;32m   (...)\u001b[0m\n\u001b[1;32m      9\u001b[0m                 predict\u001b[38;5;241m=\u001b[39m\u001b[38;5;28;01mFalse\u001b[39;00m,\n\u001b[1;32m     10\u001b[0m                 pickle_dataset\u001b[38;5;241m=\u001b[39m\u001b[38;5;28;01mTrue\u001b[39;00m)\n",
      "File \u001b[0;32m~/anaconda3/envs/hiss/lib/python3.8/site-packages/pathpretrain/train_model.py:4\u001b[0m, in \u001b[0;36m<module>\u001b[0;34m\u001b[0m\n\u001b[1;32m      2\u001b[0m \u001b[38;5;28;01mimport\u001b[39;00m \u001b[38;5;21;01mtorch\u001b[39;00m\n\u001b[1;32m      3\u001b[0m \u001b[38;5;28;01mfrom\u001b[39;00m \u001b[38;5;21;01mtorch\u001b[39;00m\u001b[38;5;21;01m.\u001b[39;00m\u001b[38;5;21;01mutils\u001b[39;00m\u001b[38;5;21;01m.\u001b[39;00m\u001b[38;5;21;01mdata\u001b[39;00m \u001b[38;5;28;01mimport\u001b[39;00m Dataset, DataLoader\n\u001b[0;32m----> 4\u001b[0m \u001b[38;5;28;01mfrom\u001b[39;00m \u001b[38;5;21;01mtorchvision\u001b[39;00m \u001b[38;5;28;01mimport\u001b[39;00m transforms, datasets \u001b[38;5;28;01mas\u001b[39;00m Datasets\n\u001b[1;32m      5\u001b[0m \u001b[38;5;28;01mimport\u001b[39;00m \u001b[38;5;21;01msys\u001b[39;00m\n\u001b[1;32m      6\u001b[0m \u001b[38;5;28;01mimport\u001b[39;00m \u001b[38;5;21;01mos\u001b[39;00m\n",
      "File \u001b[0;32m~/anaconda3/envs/hiss/lib/python3.8/site-packages/torchvision/__init__.py:7\u001b[0m, in \u001b[0;36m<module>\u001b[0;34m\u001b[0m\n\u001b[1;32m      5\u001b[0m \u001b[38;5;28;01mfrom\u001b[39;00m \u001b[38;5;21;01mtorchvision\u001b[39;00m \u001b[38;5;28;01mimport\u001b[39;00m datasets\n\u001b[1;32m      6\u001b[0m \u001b[38;5;28;01mfrom\u001b[39;00m \u001b[38;5;21;01mtorchvision\u001b[39;00m \u001b[38;5;28;01mimport\u001b[39;00m io\n\u001b[0;32m----> 7\u001b[0m \u001b[38;5;28;01mfrom\u001b[39;00m \u001b[38;5;21;01mtorchvision\u001b[39;00m \u001b[38;5;28;01mimport\u001b[39;00m models\n\u001b[1;32m      8\u001b[0m \u001b[38;5;28;01mfrom\u001b[39;00m \u001b[38;5;21;01mtorchvision\u001b[39;00m \u001b[38;5;28;01mimport\u001b[39;00m ops\n\u001b[1;32m      9\u001b[0m \u001b[38;5;28;01mfrom\u001b[39;00m \u001b[38;5;21;01mtorchvision\u001b[39;00m \u001b[38;5;28;01mimport\u001b[39;00m transforms\n",
      "File \u001b[0;32m~/anaconda3/envs/hiss/lib/python3.8/site-packages/torchvision/models/__init__.py:2\u001b[0m, in \u001b[0;36m<module>\u001b[0;34m\u001b[0m\n\u001b[1;32m      1\u001b[0m \u001b[38;5;28;01mfrom\u001b[39;00m \u001b[38;5;21;01m.\u001b[39;00m\u001b[38;5;21;01malexnet\u001b[39;00m \u001b[38;5;28;01mimport\u001b[39;00m \u001b[38;5;241m*\u001b[39m\n\u001b[0;32m----> 2\u001b[0m \u001b[38;5;28;01mfrom\u001b[39;00m \u001b[38;5;21;01m.\u001b[39;00m\u001b[38;5;21;01mconvnext\u001b[39;00m \u001b[38;5;28;01mimport\u001b[39;00m \u001b[38;5;241m*\u001b[39m\n\u001b[1;32m      3\u001b[0m \u001b[38;5;28;01mfrom\u001b[39;00m \u001b[38;5;21;01m.\u001b[39;00m\u001b[38;5;21;01mdensenet\u001b[39;00m \u001b[38;5;28;01mimport\u001b[39;00m \u001b[38;5;241m*\u001b[39m\n\u001b[1;32m      4\u001b[0m \u001b[38;5;28;01mfrom\u001b[39;00m \u001b[38;5;21;01m.\u001b[39;00m\u001b[38;5;21;01mefficientnet\u001b[39;00m \u001b[38;5;28;01mimport\u001b[39;00m \u001b[38;5;241m*\u001b[39m\n",
      "File \u001b[0;32m~/anaconda3/envs/hiss/lib/python3.8/site-packages/torchvision/models/convnext.py:8\u001b[0m, in \u001b[0;36m<module>\u001b[0;34m\u001b[0m\n\u001b[1;32m      5\u001b[0m \u001b[38;5;28;01mfrom\u001b[39;00m \u001b[38;5;21;01mtorch\u001b[39;00m \u001b[38;5;28;01mimport\u001b[39;00m nn, Tensor\n\u001b[1;32m      6\u001b[0m \u001b[38;5;28;01mfrom\u001b[39;00m \u001b[38;5;21;01mtorch\u001b[39;00m\u001b[38;5;21;01m.\u001b[39;00m\u001b[38;5;21;01mnn\u001b[39;00m \u001b[38;5;28;01mimport\u001b[39;00m functional \u001b[38;5;28;01mas\u001b[39;00m F\n\u001b[0;32m----> 8\u001b[0m \u001b[38;5;28;01mfrom\u001b[39;00m \u001b[38;5;21;01m.\u001b[39;00m\u001b[38;5;21;01m.\u001b[39;00m\u001b[38;5;21;01mops\u001b[39;00m\u001b[38;5;21;01m.\u001b[39;00m\u001b[38;5;21;01mmisc\u001b[39;00m \u001b[38;5;28;01mimport\u001b[39;00m Conv2dNormActivation, Permute\n\u001b[1;32m      9\u001b[0m \u001b[38;5;28;01mfrom\u001b[39;00m \u001b[38;5;21;01m.\u001b[39;00m\u001b[38;5;21;01m.\u001b[39;00m\u001b[38;5;21;01mops\u001b[39;00m\u001b[38;5;21;01m.\u001b[39;00m\u001b[38;5;21;01mstochastic_depth\u001b[39;00m \u001b[38;5;28;01mimport\u001b[39;00m StochasticDepth\n\u001b[1;32m     10\u001b[0m \u001b[38;5;28;01mfrom\u001b[39;00m \u001b[38;5;21;01m.\u001b[39;00m\u001b[38;5;21;01m.\u001b[39;00m\u001b[38;5;21;01mtransforms\u001b[39;00m\u001b[38;5;21;01m.\u001b[39;00m\u001b[38;5;21;01m_presets\u001b[39;00m \u001b[38;5;28;01mimport\u001b[39;00m ImageClassification\n",
      "File \u001b[0;32m~/anaconda3/envs/hiss/lib/python3.8/site-packages/torchvision/ops/__init__.py:25\u001b[0m, in \u001b[0;36m<module>\u001b[0;34m\u001b[0m\n\u001b[1;32m     23\u001b[0m \u001b[38;5;28;01mfrom\u001b[39;00m \u001b[38;5;21;01m.\u001b[39;00m\u001b[38;5;21;01mpoolers\u001b[39;00m \u001b[38;5;28;01mimport\u001b[39;00m MultiScaleRoIAlign\n\u001b[1;32m     24\u001b[0m \u001b[38;5;28;01mfrom\u001b[39;00m \u001b[38;5;21;01m.\u001b[39;00m\u001b[38;5;21;01mps_roi_align\u001b[39;00m \u001b[38;5;28;01mimport\u001b[39;00m ps_roi_align, PSRoIAlign\n\u001b[0;32m---> 25\u001b[0m \u001b[38;5;28;01mfrom\u001b[39;00m \u001b[38;5;21;01m.\u001b[39;00m\u001b[38;5;21;01mps_roi_pool\u001b[39;00m \u001b[38;5;28;01mimport\u001b[39;00m ps_roi_pool, PSRoIPool\n\u001b[1;32m     26\u001b[0m \u001b[38;5;28;01mfrom\u001b[39;00m \u001b[38;5;21;01m.\u001b[39;00m\u001b[38;5;21;01mroi_align\u001b[39;00m \u001b[38;5;28;01mimport\u001b[39;00m roi_align, RoIAlign\n\u001b[1;32m     27\u001b[0m \u001b[38;5;28;01mfrom\u001b[39;00m \u001b[38;5;21;01m.\u001b[39;00m\u001b[38;5;21;01mroi_pool\u001b[39;00m \u001b[38;5;28;01mimport\u001b[39;00m roi_pool, RoIPool\n",
      "File \u001b[0;32m<frozen importlib._bootstrap>:991\u001b[0m, in \u001b[0;36m_find_and_load\u001b[0;34m(name, import_)\u001b[0m\n",
      "File \u001b[0;32m<frozen importlib._bootstrap>:975\u001b[0m, in \u001b[0;36m_find_and_load_unlocked\u001b[0;34m(name, import_)\u001b[0m\n",
      "File \u001b[0;32m<frozen importlib._bootstrap>:671\u001b[0m, in \u001b[0;36m_load_unlocked\u001b[0;34m(spec)\u001b[0m\n",
      "File \u001b[0;32m<frozen importlib._bootstrap_external>:839\u001b[0m, in \u001b[0;36mexec_module\u001b[0;34m(self, module)\u001b[0m\n",
      "File \u001b[0;32m<frozen importlib._bootstrap_external>:934\u001b[0m, in \u001b[0;36mget_code\u001b[0;34m(self, fullname)\u001b[0m\n",
      "File \u001b[0;32m<frozen importlib._bootstrap_external>:1033\u001b[0m, in \u001b[0;36mget_data\u001b[0;34m(self, path)\u001b[0m\n",
      "\u001b[0;31mKeyboardInterrupt\u001b[0m: "
     ]
    }
   ],
   "source": [
    "from pathpretrain.train_model import train_model\n",
    "train_model(inputs_dir=\"/dartfs/rc/nosnapshots/V/VaickusL-nb/EDIT_Students/users/Sophie_Chen/cnn_model_input/\",\n",
    "                learning_rate=1e-4,\n",
    "                n_epochs=100,\n",
    "                batch_size=32,\n",
    "                model_save_loc='/dartfs/rc/nosnapshots/V/VaickusL-nb/EDIT_Students/users/Sophie_Chen/cnn_tttttmodel.pkl',\n",
    "                verbose=2,\n",
    "                class_balance=True,\n",
    "                predict=False,\n",
    "                pickle_dataset=True)"
   ]
  },
  {
   "cell_type": "code",
   "execution_count": 2,
   "id": "0fe9b5b8",
   "metadata": {},
   "outputs": [],
   "source": [
    "from pathpretrain.predict import predict"
   ]
  },
  {
   "cell_type": "code",
   "execution_count": 12,
   "id": "747fac65",
   "metadata": {
    "scrolled": false
   },
   "outputs": [
    {
     "name": "stdout",
     "output_type": "stream",
     "text": [
      "{'train': <pathpretrain.datasets.PickleDataset object at 0x2aee1af59340>, 'val': <pathpretrain.datasets.PickleDataset object at 0x2aee1af599d0>, 'test': <pathpretrain.datasets.PickleDataset object at 0x2aee1af7cd60>}\n",
      "ResNet(\n",
      "  (features): Sequential(\n",
      "    (init_block): ResInitBlock(\n",
      "      (conv): ConvBlock(\n",
      "        (conv): Conv2d(3, 64, kernel_size=(7, 7), stride=(2, 2), padding=(3, 3), bias=False)\n",
      "        (bn): BatchNorm2d(64, eps=1e-05, momentum=0.1, affine=True, track_running_stats=True)\n",
      "        (activ): ReLU(inplace=True)\n",
      "      )\n",
      "      (pool): MaxPool2d(kernel_size=3, stride=2, padding=1, dilation=1, ceil_mode=False)\n",
      "    )\n",
      "    (stage1): Sequential(\n",
      "      (unit1): ResUnit(\n",
      "        (body): ResBottleneck(\n",
      "          (conv1): ConvBlock(\n",
      "            (conv): Conv2d(64, 64, kernel_size=(1, 1), stride=(1, 1), bias=False)\n",
      "            (bn): BatchNorm2d(64, eps=1e-05, momentum=0.1, affine=True, track_running_stats=True)\n",
      "            (activ): ReLU(inplace=True)\n",
      "          )\n",
      "          (conv2): ConvBlock(\n",
      "            (conv): Conv2d(64, 64, kernel_size=(3, 3), stride=(1, 1), padding=(1, 1), bias=False)\n",
      "            (bn): BatchNorm2d(64, eps=1e-05, momentum=0.1, affine=True, track_running_stats=True)\n",
      "            (activ): ReLU(inplace=True)\n",
      "          )\n",
      "          (conv3): ConvBlock(\n",
      "            (conv): Conv2d(64, 256, kernel_size=(1, 1), stride=(1, 1), bias=False)\n",
      "            (bn): BatchNorm2d(256, eps=1e-05, momentum=0.1, affine=True, track_running_stats=True)\n",
      "          )\n",
      "        )\n",
      "        (identity_conv): ConvBlock(\n",
      "          (conv): Conv2d(64, 256, kernel_size=(1, 1), stride=(1, 1), bias=False)\n",
      "          (bn): BatchNorm2d(256, eps=1e-05, momentum=0.1, affine=True, track_running_stats=True)\n",
      "        )\n",
      "        (activ): ReLU(inplace=True)\n",
      "      )\n",
      "      (unit2): ResUnit(\n",
      "        (body): ResBottleneck(\n",
      "          (conv1): ConvBlock(\n",
      "            (conv): Conv2d(256, 64, kernel_size=(1, 1), stride=(1, 1), bias=False)\n",
      "            (bn): BatchNorm2d(64, eps=1e-05, momentum=0.1, affine=True, track_running_stats=True)\n",
      "            (activ): ReLU(inplace=True)\n",
      "          )\n",
      "          (conv2): ConvBlock(\n",
      "            (conv): Conv2d(64, 64, kernel_size=(3, 3), stride=(1, 1), padding=(1, 1), bias=False)\n",
      "            (bn): BatchNorm2d(64, eps=1e-05, momentum=0.1, affine=True, track_running_stats=True)\n",
      "            (activ): ReLU(inplace=True)\n",
      "          )\n",
      "          (conv3): ConvBlock(\n",
      "            (conv): Conv2d(64, 256, kernel_size=(1, 1), stride=(1, 1), bias=False)\n",
      "            (bn): BatchNorm2d(256, eps=1e-05, momentum=0.1, affine=True, track_running_stats=True)\n",
      "          )\n",
      "        )\n",
      "        (activ): ReLU(inplace=True)\n",
      "      )\n",
      "      (unit3): ResUnit(\n",
      "        (body): ResBottleneck(\n",
      "          (conv1): ConvBlock(\n",
      "            (conv): Conv2d(256, 64, kernel_size=(1, 1), stride=(1, 1), bias=False)\n",
      "            (bn): BatchNorm2d(64, eps=1e-05, momentum=0.1, affine=True, track_running_stats=True)\n",
      "            (activ): ReLU(inplace=True)\n",
      "          )\n",
      "          (conv2): ConvBlock(\n",
      "            (conv): Conv2d(64, 64, kernel_size=(3, 3), stride=(1, 1), padding=(1, 1), bias=False)\n",
      "            (bn): BatchNorm2d(64, eps=1e-05, momentum=0.1, affine=True, track_running_stats=True)\n",
      "            (activ): ReLU(inplace=True)\n",
      "          )\n",
      "          (conv3): ConvBlock(\n",
      "            (conv): Conv2d(64, 256, kernel_size=(1, 1), stride=(1, 1), bias=False)\n",
      "            (bn): BatchNorm2d(256, eps=1e-05, momentum=0.1, affine=True, track_running_stats=True)\n",
      "          )\n",
      "        )\n",
      "        (activ): ReLU(inplace=True)\n",
      "      )\n",
      "    )\n",
      "    (stage2): Sequential(\n",
      "      (unit1): ResUnit(\n",
      "        (body): ResBottleneck(\n",
      "          (conv1): ConvBlock(\n",
      "            (conv): Conv2d(256, 128, kernel_size=(1, 1), stride=(2, 2), bias=False)\n",
      "            (bn): BatchNorm2d(128, eps=1e-05, momentum=0.1, affine=True, track_running_stats=True)\n",
      "            (activ): ReLU(inplace=True)\n",
      "          )\n",
      "          (conv2): ConvBlock(\n",
      "            (conv): Conv2d(128, 128, kernel_size=(3, 3), stride=(1, 1), padding=(1, 1), bias=False)\n",
      "            (bn): BatchNorm2d(128, eps=1e-05, momentum=0.1, affine=True, track_running_stats=True)\n",
      "            (activ): ReLU(inplace=True)\n",
      "          )\n",
      "          (conv3): ConvBlock(\n",
      "            (conv): Conv2d(128, 512, kernel_size=(1, 1), stride=(1, 1), bias=False)\n",
      "            (bn): BatchNorm2d(512, eps=1e-05, momentum=0.1, affine=True, track_running_stats=True)\n",
      "          )\n",
      "        )\n",
      "        (identity_conv): ConvBlock(\n",
      "          (conv): Conv2d(256, 512, kernel_size=(1, 1), stride=(2, 2), bias=False)\n",
      "          (bn): BatchNorm2d(512, eps=1e-05, momentum=0.1, affine=True, track_running_stats=True)\n",
      "        )\n",
      "        (activ): ReLU(inplace=True)\n",
      "      )\n",
      "      (unit2): ResUnit(\n",
      "        (body): ResBottleneck(\n",
      "          (conv1): ConvBlock(\n",
      "            (conv): Conv2d(512, 128, kernel_size=(1, 1), stride=(1, 1), bias=False)\n",
      "            (bn): BatchNorm2d(128, eps=1e-05, momentum=0.1, affine=True, track_running_stats=True)\n",
      "            (activ): ReLU(inplace=True)\n",
      "          )\n",
      "          (conv2): ConvBlock(\n",
      "            (conv): Conv2d(128, 128, kernel_size=(3, 3), stride=(1, 1), padding=(1, 1), bias=False)\n",
      "            (bn): BatchNorm2d(128, eps=1e-05, momentum=0.1, affine=True, track_running_stats=True)\n",
      "            (activ): ReLU(inplace=True)\n",
      "          )\n",
      "          (conv3): ConvBlock(\n",
      "            (conv): Conv2d(128, 512, kernel_size=(1, 1), stride=(1, 1), bias=False)\n",
      "            (bn): BatchNorm2d(512, eps=1e-05, momentum=0.1, affine=True, track_running_stats=True)\n",
      "          )\n",
      "        )\n",
      "        (activ): ReLU(inplace=True)\n",
      "      )\n",
      "      (unit3): ResUnit(\n",
      "        (body): ResBottleneck(\n",
      "          (conv1): ConvBlock(\n",
      "            (conv): Conv2d(512, 128, kernel_size=(1, 1), stride=(1, 1), bias=False)\n",
      "            (bn): BatchNorm2d(128, eps=1e-05, momentum=0.1, affine=True, track_running_stats=True)\n",
      "            (activ): ReLU(inplace=True)\n",
      "          )\n",
      "          (conv2): ConvBlock(\n",
      "            (conv): Conv2d(128, 128, kernel_size=(3, 3), stride=(1, 1), padding=(1, 1), bias=False)\n",
      "            (bn): BatchNorm2d(128, eps=1e-05, momentum=0.1, affine=True, track_running_stats=True)\n",
      "            (activ): ReLU(inplace=True)\n",
      "          )\n",
      "          (conv3): ConvBlock(\n",
      "            (conv): Conv2d(128, 512, kernel_size=(1, 1), stride=(1, 1), bias=False)\n",
      "            (bn): BatchNorm2d(512, eps=1e-05, momentum=0.1, affine=True, track_running_stats=True)\n",
      "          )\n",
      "        )\n",
      "        (activ): ReLU(inplace=True)\n",
      "      )\n",
      "      (unit4): ResUnit(\n",
      "        (body): ResBottleneck(\n",
      "          (conv1): ConvBlock(\n",
      "            (conv): Conv2d(512, 128, kernel_size=(1, 1), stride=(1, 1), bias=False)\n",
      "            (bn): BatchNorm2d(128, eps=1e-05, momentum=0.1, affine=True, track_running_stats=True)\n",
      "            (activ): ReLU(inplace=True)\n",
      "          )\n",
      "          (conv2): ConvBlock(\n",
      "            (conv): Conv2d(128, 128, kernel_size=(3, 3), stride=(1, 1), padding=(1, 1), bias=False)\n",
      "            (bn): BatchNorm2d(128, eps=1e-05, momentum=0.1, affine=True, track_running_stats=True)\n",
      "            (activ): ReLU(inplace=True)\n",
      "          )\n",
      "          (conv3): ConvBlock(\n",
      "            (conv): Conv2d(128, 512, kernel_size=(1, 1), stride=(1, 1), bias=False)\n",
      "            (bn): BatchNorm2d(512, eps=1e-05, momentum=0.1, affine=True, track_running_stats=True)\n",
      "          )\n",
      "        )\n",
      "        (activ): ReLU(inplace=True)\n",
      "      )\n",
      "    )\n",
      "    (stage3): Sequential(\n",
      "      (unit1): ResUnit(\n",
      "        (body): ResBottleneck(\n",
      "          (conv1): ConvBlock(\n",
      "            (conv): Conv2d(512, 256, kernel_size=(1, 1), stride=(2, 2), bias=False)\n",
      "            (bn): BatchNorm2d(256, eps=1e-05, momentum=0.1, affine=True, track_running_stats=True)\n",
      "            (activ): ReLU(inplace=True)\n",
      "          )\n",
      "          (conv2): ConvBlock(\n",
      "            (conv): Conv2d(256, 256, kernel_size=(3, 3), stride=(1, 1), padding=(1, 1), bias=False)\n",
      "            (bn): BatchNorm2d(256, eps=1e-05, momentum=0.1, affine=True, track_running_stats=True)\n",
      "            (activ): ReLU(inplace=True)\n",
      "          )\n",
      "          (conv3): ConvBlock(\n",
      "            (conv): Conv2d(256, 1024, kernel_size=(1, 1), stride=(1, 1), bias=False)\n",
      "            (bn): BatchNorm2d(1024, eps=1e-05, momentum=0.1, affine=True, track_running_stats=True)\n",
      "          )\n",
      "        )\n",
      "        (identity_conv): ConvBlock(\n",
      "          (conv): Conv2d(512, 1024, kernel_size=(1, 1), stride=(2, 2), bias=False)\n",
      "          (bn): BatchNorm2d(1024, eps=1e-05, momentum=0.1, affine=True, track_running_stats=True)\n",
      "        )\n",
      "        (activ): ReLU(inplace=True)\n",
      "      )\n",
      "      (unit2): ResUnit(\n",
      "        (body): ResBottleneck(\n",
      "          (conv1): ConvBlock(\n",
      "            (conv): Conv2d(1024, 256, kernel_size=(1, 1), stride=(1, 1), bias=False)\n",
      "            (bn): BatchNorm2d(256, eps=1e-05, momentum=0.1, affine=True, track_running_stats=True)\n",
      "            (activ): ReLU(inplace=True)\n",
      "          )\n",
      "          (conv2): ConvBlock(\n",
      "            (conv): Conv2d(256, 256, kernel_size=(3, 3), stride=(1, 1), padding=(1, 1), bias=False)\n",
      "            (bn): BatchNorm2d(256, eps=1e-05, momentum=0.1, affine=True, track_running_stats=True)\n",
      "            (activ): ReLU(inplace=True)\n",
      "          )\n",
      "          (conv3): ConvBlock(\n",
      "            (conv): Conv2d(256, 1024, kernel_size=(1, 1), stride=(1, 1), bias=False)\n",
      "            (bn): BatchNorm2d(1024, eps=1e-05, momentum=0.1, affine=True, track_running_stats=True)\n",
      "          )\n",
      "        )\n",
      "        (activ): ReLU(inplace=True)\n",
      "      )\n",
      "      (unit3): ResUnit(\n",
      "        (body): ResBottleneck(\n",
      "          (conv1): ConvBlock(\n",
      "            (conv): Conv2d(1024, 256, kernel_size=(1, 1), stride=(1, 1), bias=False)\n",
      "            (bn): BatchNorm2d(256, eps=1e-05, momentum=0.1, affine=True, track_running_stats=True)\n",
      "            (activ): ReLU(inplace=True)\n",
      "          )\n",
      "          (conv2): ConvBlock(\n",
      "            (conv): Conv2d(256, 256, kernel_size=(3, 3), stride=(1, 1), padding=(1, 1), bias=False)\n",
      "            (bn): BatchNorm2d(256, eps=1e-05, momentum=0.1, affine=True, track_running_stats=True)\n",
      "            (activ): ReLU(inplace=True)\n",
      "          )\n",
      "          (conv3): ConvBlock(\n",
      "            (conv): Conv2d(256, 1024, kernel_size=(1, 1), stride=(1, 1), bias=False)\n",
      "            (bn): BatchNorm2d(1024, eps=1e-05, momentum=0.1, affine=True, track_running_stats=True)\n",
      "          )\n",
      "        )\n",
      "        (activ): ReLU(inplace=True)\n",
      "      )\n",
      "      (unit4): ResUnit(\n",
      "        (body): ResBottleneck(\n",
      "          (conv1): ConvBlock(\n",
      "            (conv): Conv2d(1024, 256, kernel_size=(1, 1), stride=(1, 1), bias=False)\n",
      "            (bn): BatchNorm2d(256, eps=1e-05, momentum=0.1, affine=True, track_running_stats=True)\n",
      "            (activ): ReLU(inplace=True)\n",
      "          )\n",
      "          (conv2): ConvBlock(\n",
      "            (conv): Conv2d(256, 256, kernel_size=(3, 3), stride=(1, 1), padding=(1, 1), bias=False)\n",
      "            (bn): BatchNorm2d(256, eps=1e-05, momentum=0.1, affine=True, track_running_stats=True)\n",
      "            (activ): ReLU(inplace=True)\n",
      "          )\n",
      "          (conv3): ConvBlock(\n",
      "            (conv): Conv2d(256, 1024, kernel_size=(1, 1), stride=(1, 1), bias=False)\n",
      "            (bn): BatchNorm2d(1024, eps=1e-05, momentum=0.1, affine=True, track_running_stats=True)\n",
      "          )\n",
      "        )\n",
      "        (activ): ReLU(inplace=True)\n",
      "      )\n",
      "      (unit5): ResUnit(\n",
      "        (body): ResBottleneck(\n",
      "          (conv1): ConvBlock(\n",
      "            (conv): Conv2d(1024, 256, kernel_size=(1, 1), stride=(1, 1), bias=False)\n",
      "            (bn): BatchNorm2d(256, eps=1e-05, momentum=0.1, affine=True, track_running_stats=True)\n",
      "            (activ): ReLU(inplace=True)\n",
      "          )\n",
      "          (conv2): ConvBlock(\n",
      "            (conv): Conv2d(256, 256, kernel_size=(3, 3), stride=(1, 1), padding=(1, 1), bias=False)\n",
      "            (bn): BatchNorm2d(256, eps=1e-05, momentum=0.1, affine=True, track_running_stats=True)\n",
      "            (activ): ReLU(inplace=True)\n",
      "          )\n",
      "          (conv3): ConvBlock(\n",
      "            (conv): Conv2d(256, 1024, kernel_size=(1, 1), stride=(1, 1), bias=False)\n",
      "            (bn): BatchNorm2d(1024, eps=1e-05, momentum=0.1, affine=True, track_running_stats=True)\n",
      "          )\n",
      "        )\n",
      "        (activ): ReLU(inplace=True)\n",
      "      )\n",
      "      (unit6): ResUnit(\n",
      "        (body): ResBottleneck(\n",
      "          (conv1): ConvBlock(\n",
      "            (conv): Conv2d(1024, 256, kernel_size=(1, 1), stride=(1, 1), bias=False)\n",
      "            (bn): BatchNorm2d(256, eps=1e-05, momentum=0.1, affine=True, track_running_stats=True)\n",
      "            (activ): ReLU(inplace=True)\n",
      "          )\n",
      "          (conv2): ConvBlock(\n",
      "            (conv): Conv2d(256, 256, kernel_size=(3, 3), stride=(1, 1), padding=(1, 1), bias=False)\n",
      "            (bn): BatchNorm2d(256, eps=1e-05, momentum=0.1, affine=True, track_running_stats=True)\n",
      "            (activ): ReLU(inplace=True)\n",
      "          )\n",
      "          (conv3): ConvBlock(\n",
      "            (conv): Conv2d(256, 1024, kernel_size=(1, 1), stride=(1, 1), bias=False)\n",
      "            (bn): BatchNorm2d(1024, eps=1e-05, momentum=0.1, affine=True, track_running_stats=True)\n",
      "          )\n",
      "        )\n",
      "        (activ): ReLU(inplace=True)\n",
      "      )\n",
      "    )\n",
      "    (stage4): Sequential(\n",
      "      (unit1): ResUnit(\n",
      "        (body): ResBottleneck(\n",
      "          (conv1): ConvBlock(\n",
      "            (conv): Conv2d(1024, 512, kernel_size=(1, 1), stride=(2, 2), bias=False)\n",
      "            (bn): BatchNorm2d(512, eps=1e-05, momentum=0.1, affine=True, track_running_stats=True)\n",
      "            (activ): ReLU(inplace=True)\n",
      "          )\n",
      "          (conv2): ConvBlock(\n",
      "            (conv): Conv2d(512, 512, kernel_size=(3, 3), stride=(1, 1), padding=(1, 1), bias=False)\n",
      "            (bn): BatchNorm2d(512, eps=1e-05, momentum=0.1, affine=True, track_running_stats=True)\n",
      "            (activ): ReLU(inplace=True)\n",
      "          )\n",
      "          (conv3): ConvBlock(\n",
      "            (conv): Conv2d(512, 2048, kernel_size=(1, 1), stride=(1, 1), bias=False)\n",
      "            (bn): BatchNorm2d(2048, eps=1e-05, momentum=0.1, affine=True, track_running_stats=True)\n",
      "          )\n",
      "        )\n",
      "        (identity_conv): ConvBlock(\n",
      "          (conv): Conv2d(1024, 2048, kernel_size=(1, 1), stride=(2, 2), bias=False)\n",
      "          (bn): BatchNorm2d(2048, eps=1e-05, momentum=0.1, affine=True, track_running_stats=True)\n",
      "        )\n",
      "        (activ): ReLU(inplace=True)\n",
      "      )\n",
      "      (unit2): ResUnit(\n",
      "        (body): ResBottleneck(\n",
      "          (conv1): ConvBlock(\n",
      "            (conv): Conv2d(2048, 512, kernel_size=(1, 1), stride=(1, 1), bias=False)\n",
      "            (bn): BatchNorm2d(512, eps=1e-05, momentum=0.1, affine=True, track_running_stats=True)\n",
      "            (activ): ReLU(inplace=True)\n",
      "          )\n",
      "          (conv2): ConvBlock(\n",
      "            (conv): Conv2d(512, 512, kernel_size=(3, 3), stride=(1, 1), padding=(1, 1), bias=False)\n",
      "            (bn): BatchNorm2d(512, eps=1e-05, momentum=0.1, affine=True, track_running_stats=True)\n",
      "            (activ): ReLU(inplace=True)\n",
      "          )\n",
      "          (conv3): ConvBlock(\n",
      "            (conv): Conv2d(512, 2048, kernel_size=(1, 1), stride=(1, 1), bias=False)\n",
      "            (bn): BatchNorm2d(2048, eps=1e-05, momentum=0.1, affine=True, track_running_stats=True)\n",
      "          )\n",
      "        )\n",
      "        (activ): ReLU(inplace=True)\n",
      "      )\n",
      "      (unit3): ResUnit(\n",
      "        (body): ResBottleneck(\n",
      "          (conv1): ConvBlock(\n",
      "            (conv): Conv2d(2048, 512, kernel_size=(1, 1), stride=(1, 1), bias=False)\n",
      "            (bn): BatchNorm2d(512, eps=1e-05, momentum=0.1, affine=True, track_running_stats=True)\n",
      "            (activ): ReLU(inplace=True)\n",
      "          )\n",
      "          (conv2): ConvBlock(\n",
      "            (conv): Conv2d(512, 512, kernel_size=(3, 3), stride=(1, 1), padding=(1, 1), bias=False)\n",
      "            (bn): BatchNorm2d(512, eps=1e-05, momentum=0.1, affine=True, track_running_stats=True)\n",
      "            (activ): ReLU(inplace=True)\n",
      "          )\n",
      "          (conv3): ConvBlock(\n",
      "            (conv): Conv2d(512, 2048, kernel_size=(1, 1), stride=(1, 1), bias=False)\n",
      "            (bn): BatchNorm2d(2048, eps=1e-05, momentum=0.1, affine=True, track_running_stats=True)\n",
      "          )\n",
      "        )\n",
      "        (activ): ReLU(inplace=True)\n",
      "      )\n",
      "    )\n",
      "    (final_pool): AvgPool2d(kernel_size=7, stride=1, padding=0)\n",
      "  )\n",
      "  (output): Linear(in_features=2048, out_features=2, bias=True)\n",
      ")\n"
     ]
    },
    {
     "name": "stderr",
     "output_type": "stream",
     "text": [
      "100%|█████████████████████████████████████████████| 8/8 [00:02<00:00,  3.97it/s]\n"
     ]
    }
   ],
   "source": [
    "predict(inputs_dir='/dartfs/rc/nosnapshots/V/VaickusL-nb/EDIT_Students/users/Sophie_Chen/cnn_model_input/',\n",
    "                batch_size=64,\n",
    "                model_save_loc=\"/dartfs/rc/nosnapshots/V/VaickusL-nb/EDIT_Students/users/Sophie_Chen/cnn_model.pkl\",\n",
    "                predict_set='test',\n",
    "                pickle_dataset=True)"
   ]
  },
  {
   "cell_type": "code",
   "execution_count": 15,
   "id": "78fa265c",
   "metadata": {
    "scrolled": true
   },
   "outputs": [
    {
     "data": {
      "text/plain": [
       "0.9070135746606336"
      ]
     },
     "execution_count": 15,
     "metadata": {},
     "output_type": "execute_result"
    }
   ],
   "source": [
    "import torch\n",
    "from scipy.special import softmax\n",
    "from sklearn.metrics import roc_auc_score\n",
    "predictions=torch.load(\"/dartfs/rc/nosnapshots/V/VaickusL-nb/EDIT_Students/users/Sophie_Chen/predictions.pkl\")\n",
    "predictions['pred']=softmax(predictions['pred'])\n",
    "roc_auc_score(predictions['true'],predictions['pred'][:,1])"
   ]
  },
  {
   "cell_type": "code",
   "execution_count": 2,
   "id": "6fa6575a",
   "metadata": {},
   "outputs": [],
   "source": [
    "from pathpretrain.embed import generate_embeddings"
   ]
  },
  {
   "cell_type": "code",
   "execution_count": 3,
   "id": "f06a5b57",
   "metadata": {},
   "outputs": [
    {
     "name": "stderr",
     "output_type": "stream",
     "text": [
      "386it [00:37, 10.43it/s]                                                                       \n"
     ]
    }
   ],
   "source": [
    " generate_embeddings(patch_info_file=\"/dartfs/rc/nosnapshots/V/VaickusL-nb/EDIT_Students/users/Sophie_Chen/scc_tumor_data/prelim_patch_info_v2/311_A2c_ASAP_tumor_map.pkl\",\n",
    "                     image_file=\"/dartfs/rc/nosnapshots/V/VaickusL-nb/EDIT_Students/users/Sophie_Chen/scc_tumor_data/prelim_patch_info/311_A2c_ASAP_tumor_map.npy\",\n",
    "                     model_save_loc='\"/dartfs/rc/nosnapshots/V/VaickusL-nb/EDIT_Students/users/Sophie_Chen/cnn_model.pkl\"',\n",
    "                     architecture='resnet50',\n",
    "                     num_classes=2,\n",
    "                     image_stack=True)\n",
    "                   "
   ]
  },
  {
   "cell_type": "code",
   "execution_count": 2,
   "id": "3139b1f2",
   "metadata": {
    "scrolled": false
   },
   "outputs": [],
   "source": [
    "import torch\n",
    "embeddings=torch.load(\"/dartfs/rc/nosnapshots/V/VaickusL-nb/EDIT_Students/users/Sophie_Chen/cnn_embeddings/368_A1b_ASAP_tumor_map.pkl\")"
   ]
  },
  {
   "cell_type": "code",
   "execution_count": 3,
   "id": "a7504377",
   "metadata": {
    "scrolled": false
   },
   "outputs": [
    {
     "name": "stderr",
     "output_type": "stream",
     "text": [
      "2022-09-10 23:27:35.264725: I tensorflow/core/util/util.cc:169] oneDNN custom operations are on. You may see slightly different numerical results due to floating-point round-off errors from different computation orders. To turn them off, set the environment variable `TF_ENABLE_ONEDNN_OPTS=0`.\n"
     ]
    }
   ],
   "source": [
    "import umap \n",
    "z=umap.UMAP(random_state=42, n_components=2).fit_transform(embeddings['embeddings'])"
   ]
  },
  {
   "cell_type": "code",
   "execution_count": 10,
   "id": "0972b580",
   "metadata": {},
   "outputs": [
    {
     "data": {
      "text/plain": [
       "<matplotlib.collections.PathCollection at 0x2b6cdd06d370>"
      ]
     },
     "execution_count": 10,
     "metadata": {},
     "output_type": "execute_result"
    },
    {
     "data": {
      "image/png": "[encoded data removed]",
      "text/plain": [
       "<Figure size 432x288 with 1 Axes>"
      ]
     },
     "metadata": {},
     "output_type": "display_data"
    }
   ],
   "source": [
    "import matplotlib, matplotlib.pyplot as plt\n",
    "plt.scatter(z[:,0],z[:,1],c=embeddings['patch_info']['scc'],s=0.5)"
   ]
  },
  {
   "cell_type": "code",
   "execution_count": 5,
   "id": "e173abbf",
   "metadata": {
    "scrolled": true
   },
   "outputs": [
    {
     "data": {
      "text/plain": [
       "<matplotlib.collections.PathCollection at 0x2b6b3ff1adc0>"
      ]
     },
     "execution_count": 5,
     "metadata": {},
     "output_type": "execute_result"
    },
    {
     "data": {
      "image/png": "[encoded data removed]",
      "text/plain": [
       "<Figure size 432x288 with 1 Axes>"
      ]
     },
     "metadata": {
      "needs_background": "light"
     },
     "output_type": "display_data"
    }
   ],
   "source": [
    "plt.scatter(embeddings['patch_info']['x'],embeddings['patch_info']['y'],c=z[:,1], s=0.4)\n"
   ]
  },
  {
   "cell_type": "code",
   "execution_count": 1,
   "id": "afee8966",
   "metadata": {},
   "outputs": [],
   "source": [
    "import pandas as pd\n",
    "df=pd.read_pickle(\"/dartfs/rc/nosnapshots/V/VaickusL-nb/EDIT_Students/users/Sophie_Chen/master1_dict.pkl\")"
   ]
  },
  {
   "cell_type": "code",
   "execution_count": 2,
   "id": "74af900e",
   "metadata": {
    "collapsed": true
   },
   "outputs": [
    {
     "name": "stderr",
     "output_type": "stream",
     "text": [
      "1291it [01:58, 10.90it/s]                                                                      \n",
      "515it [00:49, 10.39it/s]                                                                       \n",
      "532it [00:46, 11.35it/s]                                                                       \n",
      "576it [00:51, 11.08it/s]                                                                       \n",
      "100%|████████████████████████████████████████████████████████| 558/558 [00:54<00:00, 10.21it/s]\n",
      "195it [00:18, 10.65it/s]                                                                       \n",
      "214it [00:19, 10.70it/s]                                                                       \n",
      "500it [00:45, 10.90it/s]                                                                       \n",
      "654it [00:51, 12.64it/s]                                                                       \n",
      "457it [00:44, 10.21it/s]                                                                       \n",
      "462it [00:36, 12.83it/s]                                                                       \n",
      "486it [00:51,  9.48it/s]                                                                       \n",
      "668it [01:00, 11.13it/s]                                                                       \n",
      "648it [01:04, 10.12it/s]                                                                       \n",
      "644it [00:51, 12.54it/s]                                                                       \n",
      "598it [01:00,  9.93it/s]                                                                       \n",
      "232it [00:17, 12.99it/s]                                                                       \n",
      "416it [00:37, 11.08it/s]                                                                       \n",
      "450it [00:41, 10.73it/s]                                                                       \n",
      "421it [00:30, 13.95it/s]                                                                       \n",
      "386it [00:36, 10.65it/s]                                                                       \n",
      "814it [01:13, 11.14it/s]                                                                       \n",
      "100%|████████████████████████████████████████████████████████| 510/510 [00:51<00:00,  9.97it/s]\n",
      "1204it [01:49, 11.02it/s]                                                                      \n",
      "294it [00:26, 10.91it/s]                                                                       \n",
      "212it [00:14, 14.82it/s]                                                                       \n",
      "195it [00:17, 11.04it/s]                                                                       \n",
      "214it [00:20, 10.29it/s]                                                                       \n",
      "533it [00:49, 10.71it/s]                                                                       \n",
      "699it [01:13,  9.47it/s]                                                                       \n",
      "726it [01:00, 12.01it/s]                                                                       \n",
      "100%|████████████████████████████████████████████████████████| 745/745 [01:11<00:00, 10.42it/s]\n",
      "100%|████████████████████████████████████████████████████████| 312/312 [00:28<00:00, 11.06it/s]\n",
      "324it [00:28, 11.28it/s]                                                                       \n",
      "455it [00:41, 10.98it/s]                                                                       \n",
      "463it [00:40, 11.54it/s]                                                                       \n",
      "343it [00:31, 11.01it/s]                                                                       \n",
      "353it [00:31, 11.08it/s]                                                                       \n",
      "501it [00:47, 10.49it/s]                                                                       \n",
      "607it [00:54, 11.17it/s]                                                                       \n",
      "100%|████████████████████████████████████████████████████████| 578/578 [00:51<00:00, 11.24it/s]\n",
      "527it [00:49, 10.72it/s]                                                                       \n",
      "100%|████████████████████████████████████████████████████████| 451/451 [00:44<00:00, 10.02it/s]\n",
      "322it [00:29, 10.86it/s]                                                                       \n",
      "100%|████████████████████████████████████████████████████████| 664/664 [00:58<00:00, 11.37it/s]\n",
      "647it [01:03, 10.13it/s]                                                                       \n",
      "532it [00:36, 14.45it/s]                                                                       \n",
      "463it [00:41, 11.20it/s]                                                                       \n",
      "456it [00:41, 11.06it/s]                                                                       \n",
      "100%|████████████████████████████████████████████████████████| 558/558 [00:49<00:00, 11.30it/s]\n",
      "423it [00:44,  9.55it/s]                                                                       \n",
      "491it [00:43, 11.23it/s]                                                                       \n",
      "569it [00:58,  9.72it/s]                                                                       \n",
      "414it [00:38, 10.79it/s]                                                                       \n",
      "685it [01:08, 10.01it/s]                                                                       \n",
      "803it [01:17, 10.36it/s]                                                                       \n",
      "470it [00:39, 11.99it/s]                                                                       \n",
      "264it [00:24, 10.65it/s]                                                                       \n",
      "337it [00:30, 10.96it/s]                                                                       \n",
      "500it [00:42, 11.68it/s]                                                                       \n",
      "579it [00:56, 10.32it/s]                                                                       \n",
      "524it [00:44, 11.83it/s]                                                                       \n",
      "676it [01:13,  9.26it/s]                                                                       \n",
      "613it [00:48, 12.56it/s]                                                                       \n",
      "664it [01:01, 10.81it/s]                                                                       \n",
      "588it [00:56, 10.48it/s]                                                                       \n",
      "650it [00:56, 11.43it/s]                                                                       \n",
      "644it [01:03, 10.10it/s]                                                                       \n",
      "790it [01:09, 11.41it/s]                                                                       \n",
      "734it [01:08, 10.64it/s]                                                                       \n",
      "696it [01:08, 10.22it/s]                                                                       \n",
      "707it [00:59, 11.94it/s]                                                                       \n",
      "688it [01:11,  9.61it/s]                                                                       \n",
      "611it [00:43, 13.93it/s]                                                                       \n",
      "572it [00:53, 10.70it/s]                                                                       \n",
      "433it [00:33, 13.00it/s]                                                                       \n",
      "521it [00:57,  9.13it/s]                                                                       \n",
      "532it [00:46, 11.48it/s]                                                                       \n",
      "350it [00:34, 10.14it/s]                                                                       \n",
      "907it [01:18, 11.50it/s]                                                                       \n",
      "996it [01:28, 11.30it/s]                                                                       \n",
      "1067it [01:43, 10.35it/s]                                                                      \n",
      "455it [00:43, 10.44it/s]                                                                       \n",
      "407it [00:40, 10.09it/s]                                                                       \n",
      "447it [00:40, 11.12it/s]                                                                       \n",
      "324it [00:34,  9.34it/s]                                                                       \n",
      "278it [00:26, 10.60it/s]                                                                       \n",
      "301it [00:23, 12.54it/s]                                                                       \n",
      "482it [00:46, 10.26it/s]                                                                       \n",
      "321it [00:30, 10.66it/s]                                                                       \n",
      "299it [00:21, 14.20it/s]                                                                       \n",
      "322it [00:30, 10.50it/s]                                                                       \n",
      "100%|████████████████████████████████████████████████████████| 578/578 [00:55<00:00, 10.50it/s]\n",
      "527it [00:44, 11.96it/s]                                                                       \n",
      "100%|████████████████████████████████████████████████████████| 451/451 [00:43<00:00, 10.36it/s]\n"
     ]
    }
   ],
   "source": [
    "from pathpretrain.embed import generate_embeddings\n",
    "for ID in df['ID'].unique():\n",
    "    generate_embeddings(patch_info_file=f\"/dartfs/rc/nosnapshots/V/VaickusL-nb/EDIT_Students/users/Sophie_Chen/scc_tumor_data/prelim_patch_info_v2/{ID}.pkl\",\n",
    "                        image_file=f\"/dartfs/rc/nosnapshots/V/VaickusL-nb/EDIT_Students/users/Sophie_Chen/scc_tumor_data/prelim_patch_info/{ID}.npy\",\n",
    "                        model_save_loc='cnn_model.pkl',\n",
    "                        architecture=\"resnet50\",\n",
    "                        num_classes=3,\n",
    "                        image_stack=True)"
   ]
  }
 ],
 "metadata": {
  "kernelspec": {
   "display_name": "hiss",
   "language": "python",
   "name": "hiss"
  },
  "language_info": {
   "codemirror_mode": {
    "name": "ipython",
    "version": 3
   },
   "file_extension": ".py",
   "mimetype": "text/x-python",
   "name": "python",
   "nbconvert_exporter": "python",
   "pygments_lexer": "ipython3",
   "version": "3.8.13"
  }
 },
 "nbformat": 4,
 "nbformat_minor": 5
}
