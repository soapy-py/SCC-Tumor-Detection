{
 "cells": [
  {
   "cell_type": "code",
   "execution_count": 1,
   "id": "346c12ab",
   "metadata": {},
   "outputs": [],
   "source": [
    "import pandas as pd\n",
    "import numpy as np\n",
    "import torch \n",
    "from tqdm import tqdm \n",
    "from sklearn.model_selection import train_test_split\n",
    "import glob, os, pickle\n",
    "from matplotlib import pyplot as plt\n",
    "from sklearn.model_selection import train_test_split"
   ]
  },
  {
   "cell_type": "markdown",
   "id": "c01f2731",
   "metadata": {},
   "source": [
    "# Loop through all tumor_maps\n",
    "- Specifically, create the patch df "
   ]
  },
  {
   "cell_type": "code",
   "execution_count": 2,
   "id": "5b1eeac9",
   "metadata": {},
   "outputs": [],
   "source": [
    "patch_df = pd.DataFrame(columns=[\"ID\", \"x\", \"y\", \"annotation\", \"y_true\", \"inflamm\", \"scc\", \"patch_index\"])\n",
    "\n",
    "# patch dic will be used to quickly index into id, patch -> and check the cancer status\n",
    "patch_dic = {} \n",
    "#parent dir for the tumor maps\n",
    "parent_dir = \"/dartfs/rc/nosnapshots/V/VaickusL-nb/EDIT_Students/users/Sophie_Chen/scc_tumor_data/prelim_patch_info_v2/\""
   ]
  },
  {
   "cell_type": "code",
   "execution_count": 3,
   "id": "e0b6bd4e",
   "metadata": {},
   "outputs": [
    {
     "data": {
      "text/html": [
       "<div>\n",
       "<style scoped>\n",
       "    .dataframe tbody tr th:only-of-type {\n",
       "        vertical-align: middle;\n",
       "    }\n",
       "\n",
       "    .dataframe tbody tr th {\n",
       "        vertical-align: top;\n",
       "    }\n",
       "\n",
       "    .dataframe thead th {\n",
       "        text-align: right;\n",
       "    }\n",
       "</style>\n",
       "<table border=\"1\" class=\"dataframe\">\n",
       "  <thead>\n",
       "    <tr style=\"text-align: right;\">\n",
       "      <th></th>\n",
       "      <th>ID</th>\n",
       "      <th>x</th>\n",
       "      <th>y</th>\n",
       "      <th>annotation</th>\n",
       "      <th>y_true</th>\n",
       "      <th>inflamm</th>\n",
       "      <th>scc</th>\n",
       "      <th>patch_index</th>\n",
       "    </tr>\n",
       "  </thead>\n",
       "  <tbody>\n",
       "  </tbody>\n",
       "</table>\n",
       "</div>"
      ],
      "text/plain": [
       "Empty DataFrame\n",
       "Columns: [ID, x, y, annotation, y_true, inflamm, scc, patch_index]\n",
       "Index: []"
      ]
     },
     "execution_count": 3,
     "metadata": {},
     "output_type": "execute_result"
    }
   ],
   "source": [
    "patch_df"
   ]
  },
  {
   "cell_type": "code",
   "execution_count": 4,
   "id": "4669d882",
   "metadata": {},
   "outputs": [
    {
     "name": "stderr",
     "output_type": "stream",
     "text": [
      "100%|███████████████████████████████████████████████████████████████████████████████████████████████████████████████████████████████████████████████████████████████████████| 95/95 [03:51<00:00,  2.44s/it]\n"
     ]
    }
   ],
   "source": [
    "for f in tqdm(os.listdir(parent_dir)):\n",
    "    #find id\n",
    "    id = f.split(\".\")[0]\n",
    "    id = id[0:id.find(\"tumor\")-1]\n",
    "    \n",
    "    #read slide \n",
    "    df = pd.read_pickle(parent_dir+f)\n",
    "    \n",
    "    #create patch_index \n",
    "    patch_idx = [i for i in range(0, len(df))]\n",
    "    df[\"patch_index\"] = patch_idx\n",
    "    \n",
    "    #now, for each row, make the dictionary\n",
    "    patch_dic[id] = {}\n",
    "    for id, group in df.groupby(\"ID\"):\n",
    "        for idx, group2 in group.groupby(\"patch_index\"):\n",
    "            patch_dic[id][idx] = (group2[\"scc\"] == True)\n",
    "    \n",
    "    #concat with patch_df\n",
    "    patch_df = patch_df.append(df)\n",
    "    "
   ]
  },
  {
   "cell_type": "code",
   "execution_count": 5,
   "id": "57ace642",
   "metadata": {},
   "outputs": [
    {
     "data": {
      "text/html": [
       "<div>\n",
       "<style scoped>\n",
       "    .dataframe tbody tr th:only-of-type {\n",
       "        vertical-align: middle;\n",
       "    }\n",
       "\n",
       "    .dataframe tbody tr th {\n",
       "        vertical-align: top;\n",
       "    }\n",
       "\n",
       "    .dataframe thead th {\n",
       "        text-align: right;\n",
       "    }\n",
       "</style>\n",
       "<table border=\"1\" class=\"dataframe\">\n",
       "  <thead>\n",
       "    <tr style=\"text-align: right;\">\n",
       "      <th></th>\n",
       "      <th>ID</th>\n",
       "      <th>x</th>\n",
       "      <th>y</th>\n",
       "      <th>annotation</th>\n",
       "      <th>y_true</th>\n",
       "      <th>inflamm</th>\n",
       "      <th>scc</th>\n",
       "      <th>patch_index</th>\n",
       "      <th>patch_size</th>\n",
       "    </tr>\n",
       "  </thead>\n",
       "  <tbody>\n",
       "    <tr>\n",
       "      <th>0</th>\n",
       "      <td>365_A1b_ASAP</td>\n",
       "      <td>0</td>\n",
       "      <td>7936</td>\n",
       "      <td>0</td>\n",
       "      <td>0</td>\n",
       "      <td>0</td>\n",
       "      <td>0</td>\n",
       "      <td>0</td>\n",
       "      <td>256.0</td>\n",
       "    </tr>\n",
       "    <tr>\n",
       "      <th>1</th>\n",
       "      <td>365_A1b_ASAP</td>\n",
       "      <td>0</td>\n",
       "      <td>8192</td>\n",
       "      <td>0</td>\n",
       "      <td>0</td>\n",
       "      <td>0</td>\n",
       "      <td>0</td>\n",
       "      <td>1</td>\n",
       "      <td>256.0</td>\n",
       "    </tr>\n",
       "    <tr>\n",
       "      <th>2</th>\n",
       "      <td>365_A1b_ASAP</td>\n",
       "      <td>0</td>\n",
       "      <td>8448</td>\n",
       "      <td>0</td>\n",
       "      <td>0</td>\n",
       "      <td>0</td>\n",
       "      <td>0</td>\n",
       "      <td>2</td>\n",
       "      <td>256.0</td>\n",
       "    </tr>\n",
       "    <tr>\n",
       "      <th>3</th>\n",
       "      <td>365_A1b_ASAP</td>\n",
       "      <td>0</td>\n",
       "      <td>8704</td>\n",
       "      <td>0</td>\n",
       "      <td>0</td>\n",
       "      <td>0</td>\n",
       "      <td>0</td>\n",
       "      <td>3</td>\n",
       "      <td>256.0</td>\n",
       "    </tr>\n",
       "    <tr>\n",
       "      <th>4</th>\n",
       "      <td>365_A1b_ASAP</td>\n",
       "      <td>0</td>\n",
       "      <td>8960</td>\n",
       "      <td>0</td>\n",
       "      <td>0</td>\n",
       "      <td>0</td>\n",
       "      <td>0</td>\n",
       "      <td>4</td>\n",
       "      <td>256.0</td>\n",
       "    </tr>\n",
       "    <tr>\n",
       "      <th>...</th>\n",
       "      <td>...</td>\n",
       "      <td>...</td>\n",
       "      <td>...</td>\n",
       "      <td>...</td>\n",
       "      <td>...</td>\n",
       "      <td>...</td>\n",
       "      <td>...</td>\n",
       "      <td>...</td>\n",
       "      <td>...</td>\n",
       "    </tr>\n",
       "    <tr>\n",
       "      <th>6212</th>\n",
       "      <td>342_a_ASAP</td>\n",
       "      <td>77568</td>\n",
       "      <td>9984</td>\n",
       "      <td>0</td>\n",
       "      <td>0</td>\n",
       "      <td>0</td>\n",
       "      <td>0</td>\n",
       "      <td>6212</td>\n",
       "      <td>256.0</td>\n",
       "    </tr>\n",
       "    <tr>\n",
       "      <th>6213</th>\n",
       "      <td>342_a_ASAP</td>\n",
       "      <td>77568</td>\n",
       "      <td>10240</td>\n",
       "      <td>0</td>\n",
       "      <td>2</td>\n",
       "      <td>0</td>\n",
       "      <td>1</td>\n",
       "      <td>6213</td>\n",
       "      <td>256.0</td>\n",
       "    </tr>\n",
       "    <tr>\n",
       "      <th>6214</th>\n",
       "      <td>342_a_ASAP</td>\n",
       "      <td>77568</td>\n",
       "      <td>10496</td>\n",
       "      <td>0</td>\n",
       "      <td>2</td>\n",
       "      <td>0</td>\n",
       "      <td>1</td>\n",
       "      <td>6214</td>\n",
       "      <td>256.0</td>\n",
       "    </tr>\n",
       "    <tr>\n",
       "      <th>6215</th>\n",
       "      <td>342_a_ASAP</td>\n",
       "      <td>77568</td>\n",
       "      <td>10752</td>\n",
       "      <td>0</td>\n",
       "      <td>2</td>\n",
       "      <td>0</td>\n",
       "      <td>1</td>\n",
       "      <td>6215</td>\n",
       "      <td>256.0</td>\n",
       "    </tr>\n",
       "    <tr>\n",
       "      <th>6216</th>\n",
       "      <td>342_a_ASAP</td>\n",
       "      <td>77568</td>\n",
       "      <td>11008</td>\n",
       "      <td>0</td>\n",
       "      <td>2</td>\n",
       "      <td>0</td>\n",
       "      <td>1</td>\n",
       "      <td>6216</td>\n",
       "      <td>256.0</td>\n",
       "    </tr>\n",
       "  </tbody>\n",
       "</table>\n",
       "<p>1608083 rows × 9 columns</p>\n",
       "</div>"
      ],
      "text/plain": [
       "                ID      x      y annotation y_true inflamm scc patch_index  \\\n",
       "0     365_A1b_ASAP      0   7936          0      0       0   0           0   \n",
       "1     365_A1b_ASAP      0   8192          0      0       0   0           1   \n",
       "2     365_A1b_ASAP      0   8448          0      0       0   0           2   \n",
       "3     365_A1b_ASAP      0   8704          0      0       0   0           3   \n",
       "4     365_A1b_ASAP      0   8960          0      0       0   0           4   \n",
       "...            ...    ...    ...        ...    ...     ...  ..         ...   \n",
       "6212    342_a_ASAP  77568   9984          0      0       0   0        6212   \n",
       "6213    342_a_ASAP  77568  10240          0      2       0   1        6213   \n",
       "6214    342_a_ASAP  77568  10496          0      2       0   1        6214   \n",
       "6215    342_a_ASAP  77568  10752          0      2       0   1        6215   \n",
       "6216    342_a_ASAP  77568  11008          0      2       0   1        6216   \n",
       "\n",
       "      patch_size  \n",
       "0          256.0  \n",
       "1          256.0  \n",
       "2          256.0  \n",
       "3          256.0  \n",
       "4          256.0  \n",
       "...          ...  \n",
       "6212       256.0  \n",
       "6213       256.0  \n",
       "6214       256.0  \n",
       "6215       256.0  \n",
       "6216       256.0  \n",
       "\n",
       "[1608083 rows x 9 columns]"
      ]
     },
     "execution_count": 5,
     "metadata": {},
     "output_type": "execute_result"
    }
   ],
   "source": [
    "patch_df #checks out "
   ]
  },
  {
   "cell_type": "code",
   "execution_count": 6,
   "id": "0c9b221c",
   "metadata": {},
   "outputs": [
    {
     "data": {
      "text/plain": [
       "False"
      ]
     },
     "execution_count": 6,
     "metadata": {},
     "output_type": "execute_result"
    }
   ],
   "source": [
    "list(patch_dic[\"365_A1b_ASAP\"][0])[0]"
   ]
  },
  {
   "cell_type": "markdown",
   "id": "5e1a5351",
   "metadata": {},
   "source": [
    "# Create the train/test split with ids \n",
    "- I think that we are only including samples that have a sufficient amount of tumor, which has been arbitrarily chosen? "
   ]
  },
  {
   "cell_type": "code",
   "execution_count": 24,
   "id": "24273f25",
   "metadata": {},
   "outputs": [],
   "source": [
    "ids = set() #qualified ids to include in train/test process..."
   ]
  },
  {
   "cell_type": "code",
   "execution_count": 25,
   "id": "0f3b0fab",
   "metadata": {},
   "outputs": [],
   "source": [
    "TUMOR_THRESHOLD = 0.2 #samples need at least 20% cancer \n",
    "for id, group in patch_df.groupby(\"ID\"):\n",
    "    if sum(group[\"scc\"] == True)/len(group) > TUMOR_THRESHOLD:\n",
    "        ids.add(id)"
   ]
  },
  {
   "cell_type": "code",
   "execution_count": 34,
   "id": "3c9cb18f",
   "metadata": {},
   "outputs": [
    {
     "name": "stdout",
     "output_type": "stream",
     "text": [
      "30\n",
      "{'361_a_ASAP', '345_b_ASAP', '350_A1e_ASAP', '350_A1b_ASAP', '343_b_ASAP', '346_b_ASAP', '350_A1c_ASAP', '352_A1h_ASAP', '352_A1i_ASAP', '7_A1d_ASAP', '345_a_ASAP', '342_b_ASAP', '350_A1d_ASAP', '344_b_ASAP', '112_b_ASAP', '112_a_ASAP', '342_a_ASAP', '346_a_ASAP', '7_A1c_ASAP', '344_a_ASAP', '361_b_ASAP', '369_A1c_ASAP', '343_d_ASAP', '327_A1d_ASAP', '341_b_ASAP', '352_A1g_ASAP', '343_a_ASAP', '343_c_ASAP', '369_A2b_ASAP', '7_A1e_ASAP'}\n"
     ]
    }
   ],
   "source": [
    "print(len(ids)) #these are the included ids \n",
    "print(ids)"
   ]
  },
  {
   "cell_type": "code",
   "execution_count": 35,
   "id": "0b022df3",
   "metadata": {},
   "outputs": [],
   "source": [
    "data = [] #this will collect all of the patch data "
   ]
  },
  {
   "cell_type": "code",
   "execution_count": 38,
   "id": "36023bd6",
   "metadata": {},
   "outputs": [],
   "source": [
    "#get the correct metadata \n",
    "metadata = patch_df[patch_df[\"ID\"].isin(ids)]"
   ]
  },
  {
   "cell_type": "code",
   "execution_count": 39,
   "id": "969bf04f",
   "metadata": {},
   "outputs": [
    {
     "data": {
      "text/plain": [
       "438511"
      ]
     },
     "execution_count": 39,
     "metadata": {},
     "output_type": "execute_result"
    }
   ],
   "source": [
    "len(metadata)"
   ]
  },
  {
   "cell_type": "code",
   "execution_count": 40,
   "id": "333034be",
   "metadata": {},
   "outputs": [],
   "source": [
    "#now create an np array containing all of the included patches from the relevant tumor maps\n",
    "parent_dir = \"/dartfs/rc/nosnapshots/V/VaickusL-nb/EDIT_Students/users/Sophie_Chen/scc_tumor_data/prelim_patch_info/\"\n"
   ]
  },
  {
   "cell_type": "code",
   "execution_count": 44,
   "id": "e03a8f53",
   "metadata": {},
   "outputs": [
    {
     "name": "stderr",
     "output_type": "stream",
     "text": [
      "  7%|███████████▎                                                                                                                                                          | 13/190 [01:33<21:10,  7.18s/it]\n"
     ]
    },
    {
     "ename": "KeyboardInterrupt",
     "evalue": "",
     "output_type": "error",
     "traceback": [
      "\u001b[0;31m---------------------------------------------------------------------------\u001b[0m",
      "\u001b[0;31mKeyboardInterrupt\u001b[0m                         Traceback (most recent call last)",
      "\u001b[0;32m/scratch/ipykernel_50057/2296044315.py\u001b[0m in \u001b[0;36m<module>\u001b[0;34m\u001b[0m\n\u001b[1;32m      9\u001b[0m         \u001b[0;32mfor\u001b[0m \u001b[0mi\u001b[0m \u001b[0;32min\u001b[0m \u001b[0mrange\u001b[0m\u001b[0;34m(\u001b[0m\u001b[0;36m0\u001b[0m\u001b[0;34m,\u001b[0m \u001b[0marr\u001b[0m\u001b[0;34m.\u001b[0m\u001b[0mshape\u001b[0m\u001b[0;34m[\u001b[0m\u001b[0;36m0\u001b[0m\u001b[0;34m]\u001b[0m\u001b[0;34m)\u001b[0m\u001b[0;34m:\u001b[0m\u001b[0;34m\u001b[0m\u001b[0;34m\u001b[0m\u001b[0m\n\u001b[1;32m     10\u001b[0m             \u001b[0ms_path\u001b[0m \u001b[0;34m=\u001b[0m \u001b[0msave_dir\u001b[0m \u001b[0;34m+\u001b[0m \u001b[0;34m\"/\"\u001b[0m \u001b[0;34m+\u001b[0m \u001b[0mstr\u001b[0m\u001b[0;34m(\u001b[0m\u001b[0mid\u001b[0m\u001b[0;34m)\u001b[0m \u001b[0;34m+\u001b[0m \u001b[0;34m\"_\"\u001b[0m \u001b[0;34m+\u001b[0m \u001b[0mstr\u001b[0m\u001b[0;34m(\u001b[0m\u001b[0mi\u001b[0m\u001b[0;34m)\u001b[0m \u001b[0;34m+\u001b[0m \u001b[0;34m\".npy\"\u001b[0m\u001b[0;34m\u001b[0m\u001b[0;34m\u001b[0m\u001b[0m\n\u001b[0;32m---> 11\u001b[0;31m             \u001b[0mnp\u001b[0m\u001b[0;34m.\u001b[0m\u001b[0msave\u001b[0m\u001b[0;34m(\u001b[0m\u001b[0ms_path\u001b[0m\u001b[0;34m,\u001b[0m \u001b[0marr\u001b[0m\u001b[0;34m)\u001b[0m\u001b[0;34m\u001b[0m\u001b[0;34m\u001b[0m\u001b[0m\n\u001b[0m\u001b[1;32m     12\u001b[0m \u001b[0;34m\u001b[0m\u001b[0m\n\u001b[1;32m     13\u001b[0m \u001b[0;34m\u001b[0m\u001b[0m\n",
      "\u001b[0;32m<__array_function__ internals>\u001b[0m in \u001b[0;36msave\u001b[0;34m(*args, **kwargs)\u001b[0m\n",
      "\u001b[0;32m~/anaconda3/envs/jupyter_ultimate/lib/python3.7/site-packages/numpy/lib/npyio.py\u001b[0m in \u001b[0;36msave\u001b[0;34m(file, arr, allow_pickle, fix_imports)\u001b[0m\n\u001b[1;32m    528\u001b[0m         \u001b[0marr\u001b[0m \u001b[0;34m=\u001b[0m \u001b[0mnp\u001b[0m\u001b[0;34m.\u001b[0m\u001b[0masanyarray\u001b[0m\u001b[0;34m(\u001b[0m\u001b[0marr\u001b[0m\u001b[0;34m)\u001b[0m\u001b[0;34m\u001b[0m\u001b[0;34m\u001b[0m\u001b[0m\n\u001b[1;32m    529\u001b[0m         format.write_array(fid, arr, allow_pickle=allow_pickle,\n\u001b[0;32m--> 530\u001b[0;31m                            pickle_kwargs=dict(fix_imports=fix_imports))\n\u001b[0m\u001b[1;32m    531\u001b[0m \u001b[0;34m\u001b[0m\u001b[0m\n\u001b[1;32m    532\u001b[0m \u001b[0;34m\u001b[0m\u001b[0m\n",
      "\u001b[0;32m~/anaconda3/envs/jupyter_ultimate/lib/python3.7/site-packages/numpy/lib/format.py\u001b[0m in \u001b[0;36mwrite_array\u001b[0;34m(fp, array, version, allow_pickle, pickle_kwargs)\u001b[0m\n\u001b[1;32m    689\u001b[0m     \u001b[0;32melse\u001b[0m\u001b[0;34m:\u001b[0m\u001b[0;34m\u001b[0m\u001b[0;34m\u001b[0m\u001b[0m\n\u001b[1;32m    690\u001b[0m         \u001b[0;32mif\u001b[0m \u001b[0misfileobj\u001b[0m\u001b[0;34m(\u001b[0m\u001b[0mfp\u001b[0m\u001b[0;34m)\u001b[0m\u001b[0;34m:\u001b[0m\u001b[0;34m\u001b[0m\u001b[0;34m\u001b[0m\u001b[0m\n\u001b[0;32m--> 691\u001b[0;31m             \u001b[0marray\u001b[0m\u001b[0;34m.\u001b[0m\u001b[0mtofile\u001b[0m\u001b[0;34m(\u001b[0m\u001b[0mfp\u001b[0m\u001b[0;34m)\u001b[0m\u001b[0;34m\u001b[0m\u001b[0;34m\u001b[0m\u001b[0m\n\u001b[0m\u001b[1;32m    692\u001b[0m         \u001b[0;32melse\u001b[0m\u001b[0;34m:\u001b[0m\u001b[0;34m\u001b[0m\u001b[0;34m\u001b[0m\u001b[0m\n\u001b[1;32m    693\u001b[0m             for chunk in numpy.nditer(\n",
      "\u001b[0;31mKeyboardInterrupt\u001b[0m: "
     ]
    }
   ],
   "source": [
    "for f in tqdm(os.listdir(parent_dir)):\n",
    "    id, ext = f.split(\".\")\n",
    "    id = id[0:id.find(\"tumor\")-1]\n",
    "    #if it is the npy file\n",
    "    if ext == \"npy\" and id in ids:\n",
    "        #get the np array \n",
    "        arr = np.load(parent_dir+f)\n",
    "        #here, we can basically save each persons image in a seperate directory\n",
    "        sub_dir = id + \"/\"\n",
    "        data = [] # collect all a persons patch level data\n",
    "        for i in range(0, arr.shape[0]):\n",
    "            data.append(arr[i])\n",
    "        n_data = np.array(data)\n",
    "        np.save(, n_data)\n",
    "        "
   ]
  },
  {
   "cell_type": "code",
   "execution_count": 13,
   "id": "abd27430",
   "metadata": {},
   "outputs": [
    {
     "data": {
      "text/plain": [
       "438511"
      ]
     },
     "execution_count": 13,
     "metadata": {},
     "output_type": "execute_result"
    }
   ],
   "source": [
    "#store this data somewhere \n",
    "len(data)"
   ]
  },
  {
   "cell_type": "code",
   "execution_count": 16,
   "id": "3acc5af9",
   "metadata": {},
   "outputs": [],
   "source": [
    "n_data = np.array(data)"
   ]
  },
  {
   "cell_type": "code",
   "execution_count": 17,
   "id": "bfcc0e36",
   "metadata": {},
   "outputs": [
    {
     "data": {
      "text/plain": [
       "(438511, 256, 256, 3)"
      ]
     },
     "execution_count": 17,
     "metadata": {},
     "output_type": "execute_result"
    }
   ],
   "source": [
    "n_data.shape"
   ]
  },
  {
   "cell_type": "code",
   "execution_count": 18,
   "id": "a11bde72",
   "metadata": {},
   "outputs": [
    {
     "data": {
      "text/plain": [
       "(438511,)"
      ]
     },
     "execution_count": 18,
     "metadata": {},
     "output_type": "execute_result"
    }
   ],
   "source": [
    "n_targets.shape"
   ]
  },
  {
   "cell_type": "markdown",
   "id": "434f6f9f",
   "metadata": {},
   "source": [
    "# Save this data in a way that is then accessible to torch datasets\n",
    "- This means that patch_img will need to be saved in a directory"
   ]
  },
  {
   "cell_type": "code",
   "execution_count": 19,
   "id": "e0b881bf",
   "metadata": {},
   "outputs": [],
   "source": [
    "#save this data\n",
    "np.save(\"/dartfs/rc/nosnapshots/V/VaickusL-nb/EDIT_Students/users/Gokul_Srinivasan/SCC-Tumor-Detection/Gokul_files/data/data.npy\", n_data)"
   ]
  },
  {
   "cell_type": "code",
   "execution_count": null,
   "id": "b301aae4",
   "metadata": {},
   "outputs": [],
   "source": []
  }
 ],
 "metadata": {
  "kernelspec": {
   "display_name": "jupyter_ultimate",
   "language": "python",
   "name": "jupyter_ultimate"
  },
  "language_info": {
   "codemirror_mode": {
    "name": "ipython",
    "version": 3
   },
   "file_extension": ".py",
   "mimetype": "text/x-python",
   "name": "python",
   "nbconvert_exporter": "python",
   "pygments_lexer": "ipython3",
   "version": "3.7.15"
  }
 },
 "nbformat": 4,
 "nbformat_minor": 5
}
