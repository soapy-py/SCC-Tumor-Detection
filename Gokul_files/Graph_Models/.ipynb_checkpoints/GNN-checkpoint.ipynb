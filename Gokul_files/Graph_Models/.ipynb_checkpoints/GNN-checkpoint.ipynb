{
 "cells": [
  {
   "cell_type": "code",
   "execution_count": null,
   "id": "8956b385",
   "metadata": {},
   "outputs": [],
   "source": [
    "import pandas as pd\n",
    "import numpy as np\n",
    "import torch \n",
    "from tqdm import tqdm \n",
    "from sklearn.model_selection import train_test_split\n",
    "import glob, os, pickle\n",
    "from matplotlib import pyplot as plt\n",
    "from torch.utils.data import DataLoader\n",
    "from torch import nn\n",
    "from torchvision import transforms\n",
    "from torch_geometric.data import Data, Dataset\n",
    "import dgl"
   ]
  },
  {
   "cell_type": "code",
   "execution_count": 1,
   "id": "d6ecc5ce",
   "metadata": {},
   "outputs": [],
   "source": [
    "import torch.nn.functional as F \n",
    "from torch.nn import Linear, BatchNorm1d, ModuleList\n",
    "from torch_geometric.nn import TransformerConv, TopKPooling, GATConv\n",
    "from torch_geometric.nn import global_mean_pool as gap, global_max_pool as gmp"
   ]
  },
  {
   "cell_type": "code",
   "execution_count": 2,
   "id": "336bf912",
   "metadata": {},
   "outputs": [
    {
     "ename": "NameError",
     "evalue": "name 'torch' is not defined",
     "output_type": "error",
     "traceback": [
      "\u001b[0;31m---------------------------------------------------------------------------\u001b[0m",
      "\u001b[0;31mNameError\u001b[0m                                 Traceback (most recent call last)",
      "\u001b[0;32m/scratch/ipykernel_248775/980380746.py\u001b[0m in \u001b[0;36m<module>\u001b[0;34m\u001b[0m\n\u001b[0;32m----> 1\u001b[0;31m \u001b[0mdevice\u001b[0m \u001b[0;34m=\u001b[0m \u001b[0mtorch\u001b[0m\u001b[0;34m.\u001b[0m\u001b[0mdevice\u001b[0m\u001b[0;34m(\u001b[0m\u001b[0;34m\"cuda\"\u001b[0m \u001b[0;32mif\u001b[0m \u001b[0mtorch\u001b[0m\u001b[0;34m.\u001b[0m\u001b[0mcuda\u001b[0m\u001b[0;34m.\u001b[0m\u001b[0mis_available\u001b[0m\u001b[0;34m(\u001b[0m\u001b[0;34m)\u001b[0m \u001b[0;32melse\u001b[0m \u001b[0;34m\"cpu\"\u001b[0m\u001b[0;34m)\u001b[0m\u001b[0;34m\u001b[0m\u001b[0;34m\u001b[0m\u001b[0m\n\u001b[0m",
      "\u001b[0;31mNameError\u001b[0m: name 'torch' is not defined"
     ]
    }
   ],
   "source": [
    "device = torch.device(\"cuda\" if torch.cuda.is_available() else \"cpu\")"
   ]
  },
  {
   "cell_type": "markdown",
   "id": "dda76be4",
   "metadata": {},
   "source": [
    "# Need to define the data class \n",
    "- Here focus mainly on the get() method. We don't need to process anything\n",
    "- We also return masks for each graph, that will help with training "
   ]
  },
  {
   "cell_type": "code",
   "execution_count": null,
   "id": "e61c0402",
   "metadata": {},
   "outputs": [],
   "source": [
    "class WSI_Graph_Class(Dataset):\n",
    "    \n",
    "    def __init__(self, root, transform=None, pre_transform=None, pre_filter=None):\n",
    "        super().__init__(None, transform, pre_transform)\n",
    "        self.root_dir = root\n",
    "        self.WSI_df = pd.read_csv(root) #get the WSI metadata\n",
    "        self.masks = {} #map node num -> train/val/test masks\n",
    "        \n",
    "    def create_mask(self, nodes, train_mask, val_mask, test_mask):        \n",
    "        #create train/test/val nodes (75/25)\n",
    "        train, test = train_test_split(nodes)\n",
    "        test, val = train_test_split(test)\n",
    "        \n",
    "        #now create masks\n",
    "        for i in range(len(nodes)):\n",
    "            if i in train: \n",
    "                train_mask[i] = True \n",
    "                \n",
    "        for i in range(len(nodes)):\n",
    "            if nodes[i] in val: \n",
    "                val_mask[i] = True \n",
    "                \n",
    "        for i in range(len(nodes)):\n",
    "            if nodes[i] in test: \n",
    "                test_mask[i] = True \n",
    "                \n",
    "    #just pass here, we aren't going to return any raw file names\n",
    "    def raw_file_names(self):\n",
    "        pass \n",
    "    #here we can return each of the WSI \n",
    "    def processed_file_names(self):\n",
    "        return list(self.WSI_df[\"sample_id\"])\n",
    "    \n",
    "    def len(self):\n",
    "        return len(self.processed_file_names())\n",
    "    \n",
    "    #return the graph class for that idx \n",
    "    def get(self, idx):\n",
    "        path = self.WSI_df[\"path\"].iloc[idx]\n",
    "        #this is the graph. We also need to return the training/validation/testing masks \n",
    "        data = torch.load(path)\n",
    "        nodes = [i for i in range(data.x.shape[0])] #node 0 is in 0th pos, 1 in 1, and so on \n",
    "        #all of the masks \n",
    "        train_mask = [False] * len(nodes)\n",
    "        val_mask = [False] * len(nodes)\n",
    "        test_mask = [False] * len(nodes)\n",
    "        self.create_mask(nodes, train_mask, val_mask, test_mask)\n",
    "        \n",
    "        return (data, torch.tensor(train_mask), torch.tensor(val_mask), torch.tensor(test_mask))"
   ]
  },
  {
   "cell_type": "code",
   "execution_count": null,
   "id": "34847690",
   "metadata": {},
   "outputs": [],
   "source": [
    "root = \"/dartfs/rc/nosnapshots/V/VaickusL-nb/EDIT_Students/users/Gokul_Srinivasan/SCC-Tumor-Detection/Gokul_files/graph_data/metadata.csv\"\n",
    "\n",
    "dataset = WSI_Graph_Class(root = root, transform = None, pre_transform = None, pre_filter = None)"
   ]
  },
  {
   "cell_type": "code",
   "execution_count": null,
   "id": "45858761",
   "metadata": {},
   "outputs": [],
   "source": [
    "dataset.get(0)"
   ]
  },
  {
   "cell_type": "markdown",
   "id": "7a9030ed",
   "metadata": {},
   "source": [
    "# Define Model \n",
    "- This mainly draws upon HIV project code "
   ]
  },
  {
   "cell_type": "code",
   "execution_count": null,
   "id": "8392f1d6",
   "metadata": {},
   "outputs": [],
   "source": [
    "torch.manual_seed(42)\n",
    "\n",
    "# class GNN(torch.nn.Module):\n",
    "#     def __init__(self, feature_size):\n",
    "#         super(GNN, self).__init__()\n",
    "#         num_classes = 2\n",
    "#         embedding_size = 2048 # from resnet  \n",
    "\n",
    "#         #define the GNN layers \n",
    "\n",
    "#         #layer 1\n",
    "#         #the first graph attention layer which will create 3*embed size embeddings for each node. This will also take care of all the message passing and aggregation\n",
    "#         self.conv1 = GATConv(feature_size, embedding_size, heads=3, dropout = 0.3)\n",
    "#         #reduce the dimensionality back\n",
    "#         self.head_transform1 = Linear(embedding_size*3, embedding_size)\n",
    "#         self.pool1 = TopKPooling(embedding_size, ratio=0.8)\n",
    "\n",
    "#         #layer 2\n",
    "#         self.conv2 = GATConv(embedding_size, embedding_size, heads=3, dropout = 0.3)\n",
    "#         self.head_transform2 = Linear(embedding_size*3, embedding_size)\n",
    "#         self.pool2 = TopKPooling(embedding_size, ratio=0.5)\n",
    "\n",
    "#         #layer 3\n",
    "#         self.conv3 = GATConv(embedding_size, embedding_size, heads=3, dropout = 0.3)\n",
    "#         self.head_transform3 = Linear(embedding_size*3, embedding_size)\n",
    "#         self.pool3 = TopKPooling(embedding_size, ratio=0.2)\n",
    "\n",
    "\n",
    "#         #linear layers - these need to be modified to match the output size? Or maybe not\n",
    "#         self.linear1 = Linear(embedding_size*2, embedding_size)\n",
    "#         self.linear2 = Linear(embedding_size, 2)\n",
    "\n",
    "#     def forward(self, x, edge_attr, edge_index, batch_index):\n",
    "#         #block 1 \n",
    "#         x = self.conv1(x, edge_index)\n",
    "#         x = self.head_transform1(x)\n",
    "\n",
    "#         x, edge_index, edge_attr, batch_index, _, _ = self.pool1(x, edge_index, None, batch_index)\n",
    "#         #graph rep. \n",
    "#         x1 = torch.cat([gmp(x, batch_index), gap(x, batch_index)], dim=1)\n",
    "#         #block 2 \n",
    "#         x = self.conv2(x, edge_index)\n",
    "#         x = self.head_transform2(x)\n",
    "\n",
    "#         x, edge_index, edge_attr, batch_index, _, _ = self.pool2(x, edge_index, None, batch_index)\n",
    "#         #graph rep. \n",
    "#         x2 = torch.cat([gmp(x, batch_index), gap(x, batch_index)], dim=1)\n",
    "#         #block 3\n",
    "#         x = self.conv3(x, edge_index)\n",
    "#         x = self.head_transform3(x)\n",
    "\n",
    "#         x, edge_index, edge_attr, batch_index, _, _ = self.pool3(x, edge_index, None, batch_index)\n",
    "#         #graph rep. \n",
    "#         x3 = torch.cat([gmp(x, batch_index), gap(x, batch_index)], dim=1)\n",
    "#         #element wise addition , and each is 2048 \n",
    "#         x = x1 + x2 + x3\n",
    "#         #output block \n",
    "#         x = self.linear1(x).relu()\n",
    "#         x = F.dropout(x, p=0.5)\n",
    "#         x = self.linear2(x)\n",
    "\n",
    "#         return x"
   ]
  },
  {
   "cell_type": "code",
   "execution_count": null,
   "id": "04c946ff",
   "metadata": {},
   "outputs": [],
   "source": [
    "torch.manual_seed(42)\n",
    "\n",
    "class simple_GNN(torch.nn.Module):\n",
    "    def __init__(self, feature_size):\n",
    "        super(simple_GNN, self).__init__()\n",
    "        \n",
    "        self.num_classes = 2 #scc or normal\n",
    "        self.embedding_size = 2048 # this is what we want the embedding to be\n",
    "        \n",
    "        #define the GNN layers \n",
    "\n",
    "        #layer 1\n",
    "        #the first graph attention layer which will create 3*embed size embeddings for each node. This will also take care of all the message passing and aggregation\n",
    "        self.conv1 = GATConv(feature_size, self.embedding_size, heads=3, dropout = 0.3)\n",
    "        #reduce the dimensionality back\n",
    "        self.head_transform1 = Linear(self.embedding_size*3, self.embedding_size)\n",
    "        \n",
    "        #layer 2\n",
    "        self.conv2 = GATConv(self.embedding_size, self.embedding_size, heads=3, dropout = 0.3)\n",
    "        self.head_transform2 = Linear(self.embedding_size*3, self.embedding_size)\n",
    "\n",
    "           \n",
    "        #layer 2\n",
    "        self.conv3 = GATConv(self.embedding_size, self.embedding_size, heads=3, dropout = 0.3)\n",
    "        self.head_transform3 = Linear(self.embedding_size*3, self.embedding_size)\n",
    "\n",
    "        #linear layers - these need to be modified to match the output size? Or maybe not\n",
    "        self.linear1 = Linear(self.embedding_size, self.embedding_size)\n",
    "        self.linear2 = Linear(self.embedding_size, self.num_classes) #prediction for each class\n",
    "\n",
    "    def forward(self,data):\n",
    "        x, edge_index = data.x, data.edge_index\n",
    "        x = x.to(device)\n",
    "        edge_index = edge_index.to(device) #we put stuff on the device here? maybe memory error? \n",
    "        \n",
    "        #block 1 \n",
    "        x = self.conv1(x, edge_index) #this is does all the aggregation and message passing\n",
    "        x = self.head_transform1(x)       \n",
    "       \n",
    "        #block 2\n",
    "        x = self.conv2(x, edge_index) \n",
    "        x = self.head_transform2(x)      \n",
    "        \n",
    "        #block 3\n",
    "        x = self.conv3(x, edge_index) #this is does all the aggregation and message passing\n",
    "        x = self.head_transform3(x)   \n",
    "        \n",
    "        #output block \n",
    "        x = self.linear1(x).relu()\n",
    "        x = F.dropout(x, p=0.5)\n",
    "        x = self.linear2(x)\n",
    "\n",
    "        return x"
   ]
  },
  {
   "cell_type": "markdown",
   "id": "26f0ef05",
   "metadata": {},
   "source": [
    "# Dataloader"
   ]
  },
  {
   "cell_type": "code",
   "execution_count": null,
   "id": "ade768a2",
   "metadata": {},
   "outputs": [],
   "source": [
    "num_features = 2048\n",
    "model = simple_GNN(feature_size=num_features)\n",
    "model = model.to(device)"
   ]
  },
  {
   "cell_type": "code",
   "execution_count": null,
   "id": "e6345fe3",
   "metadata": {},
   "outputs": [],
   "source": [
    "#loss and optimizer \n",
    "import torch.optim as optim\n",
    "loss_fn = torch.nn.CrossEntropyLoss()\n",
    "opt = optim.Adam(model.parameters(), lr=0.01)"
   ]
  },
  {
   "cell_type": "code",
   "execution_count": null,
   "id": "8e2eb630",
   "metadata": {},
   "outputs": [],
   "source": [
    "#prepare training \n",
    "from torch_geometric.data import DataLoader\n",
    "data_loader = DataLoader(dataset, batch_size=1)\n",
    "num_epochs = 10"
   ]
  },
  {
   "cell_type": "markdown",
   "id": "28544066",
   "metadata": {},
   "source": [
    "# Actual Model Training "
   ]
  },
  {
   "cell_type": "code",
   "execution_count": null,
   "id": "9ea4b7a1",
   "metadata": {},
   "outputs": [],
   "source": [
    "for epoch in range(num_epochs):\n",
    "    #training portion\n",
    "    epoch_loss = []\n",
    "    model.train()\n",
    "    for data in tqdm(data_loader):\n",
    "        #get graph\n",
    "        graph = data[0]\n",
    "        y = graph.y \n",
    "        y = y.to(device)\n",
    "        #get masks\n",
    "        train_mask = data[1].T.reshape([data[1].T.shape[0]])\n",
    "\n",
    "        #get predictions \n",
    "        logits = model(graph)\n",
    "        \n",
    "        loss = loss_fn(logits[train_mask], y[train_mask])\n",
    "        epoch_loss.append(loss.item())\n",
    "\n",
    "        opt.zero_grad()\n",
    "        loss.backward()\n",
    "        opt.step()\n",
    "    #now find the average training loss for this epoch \n",
    "    epoch_loss = sum(epoch_loss)/len(epoch_loss)\n",
    "    print(\"Epoch :%d. Epoch loss: %f\" %(epoch, epoch_loss))    \n",
    "    \n",
    "    #validation portion\n",
    "    validation_correct = 0\n",
    "    validation_total = 0\n",
    "    model.eval()\n",
    "    with torch.no_grad():\n",
    "        for data in tqdm(data_loader):\n",
    "            #get graph\n",
    "            graph = data[0]\n",
    "            y = graph.y \n",
    "            y = y.to(device)\n",
    "            #get masks\n",
    "            val_mask = data[2].T.reshape([data[2].T.shape[0]])\n",
    "\n",
    "            #get predictions \n",
    "            logits = model(graph)\n",
    "            #get them into label predictions\n",
    "            _, indices = torch.max(logits, dim=1).detach()\n",
    "\n",
    "            validation_correct += sum(indices[val_mask] == y[val_mask]).item()\n",
    "            validation_total += sum(val_mask == True).item()\n",
    "    \n",
    "    print(\"Epoch :%d. Validation accuracy: %f\" %(epoch, validation_correct/validation_total))"
   ]
  },
  {
   "cell_type": "code",
   "execution_count": null,
   "id": "ddd2b8eb",
   "metadata": {},
   "outputs": [],
   "source": [
    "!nvidia-smi"
   ]
  },
  {
   "cell_type": "code",
   "execution_count": null,
   "id": "f6d91140",
   "metadata": {},
   "outputs": [],
   "source": []
  }
 ],
 "metadata": {
  "kernelspec": {
   "display_name": "jupyter_ultimate",
   "language": "python",
   "name": "jupyter_ultimate"
  },
  "language_info": {
   "codemirror_mode": {
    "name": "ipython",
    "version": 3
   },
   "file_extension": ".py",
   "mimetype": "text/x-python",
   "name": "python",
   "nbconvert_exporter": "python",
   "pygments_lexer": "ipython3",
   "version": "3.7.15"
  }
 },
 "nbformat": 4,
 "nbformat_minor": 5
}
