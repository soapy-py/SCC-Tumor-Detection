{
 "cells": [
  {
   "cell_type": "code",
   "execution_count": 1,
   "id": "8956b385",
   "metadata": {},
   "outputs": [],
   "source": [
    "import pandas as pd\n",
    "import numpy as np\n",
    "import torch \n",
    "from tqdm import tqdm \n",
    "from sklearn.model_selection import train_test_split\n",
    "import glob, os, pickle\n",
    "from matplotlib import pyplot as plt\n",
    "from torch.utils.data import DataLoader\n",
    "from torch import nn\n",
    "from torchvision import transforms\n",
    "from torch_geometric.data import Data, Dataset\n",
    "import dgl"
   ]
  },
  {
   "cell_type": "code",
   "execution_count": 2,
   "id": "d6ecc5ce",
   "metadata": {},
   "outputs": [],
   "source": [
    "import torch.nn.functional as F \n",
    "from torch.nn import Linear, BatchNorm1d, ModuleList\n",
    "from torch_geometric.nn import TransformerConv, TopKPooling, GATConv\n",
    "from torch_geometric.nn import global_mean_pool as gap, global_max_pool as gmp"
   ]
  },
  {
   "cell_type": "code",
   "execution_count": 3,
   "id": "336bf912",
   "metadata": {},
   "outputs": [],
   "source": [
    "device = torch.device(\"cuda\" if torch.cuda.is_available() else \"cpu\")"
   ]
  },
  {
   "cell_type": "markdown",
   "id": "dda76be4",
   "metadata": {},
   "source": [
    "# Need to define the data class \n",
    "- Here focus mainly on the get() method. We don't need to process anything\n",
    "- We also return masks for each graph, that will help with training "
   ]
  },
  {
   "cell_type": "code",
   "execution_count": 4,
   "id": "e61c0402",
   "metadata": {},
   "outputs": [],
   "source": [
    "class WSI_Graph_Class(Dataset):\n",
    "    \n",
    "    def __init__(self, root, transform=None, pre_transform=None, pre_filter=None, mode):\n",
    "        super().__init__(None, transform, pre_transform)\n",
    "        self.root_dir = root\n",
    "        self.WSI_df = pd.read_csv(root) #get the WSI metadata\n",
    "        self.mode = mode #either train/val/or test \n",
    "\n",
    "        \n",
    "    def create_masks(self, nodes, train_mask, val_mask, test_mask):        \n",
    "        #create train/test/val nodes (75/25)\n",
    "        train, test = train_test_split(nodes)\n",
    "        test, val = train_test_split(test)\n",
    "        \n",
    "        #now create masks\n",
    "        for i in range(len(nodes)):\n",
    "            if i in train: \n",
    "                train_mask[i] = True \n",
    "                \n",
    "        for i in range(len(nodes)):\n",
    "            if nodes[i] in val: \n",
    "                val_mask[i] = True \n",
    "                \n",
    "        for i in range(len(nodes)):\n",
    "            if nodes[i] in test: \n",
    "                test_mask[i] = True \n",
    "                \n",
    "    #just pass here, we aren't going to return any raw file names\n",
    "    def raw_file_names(self):\n",
    "        pass \n",
    "    #here we can return each of the WSI \n",
    "    def processed_file_names(self):\n",
    "        return list(self.WSI_df[\"sample_id\"])\n",
    "    \n",
    "    def len(self):\n",
    "        return len(self.processed_file_names())\n",
    "    \n",
    "    #return the graph class for that idx \n",
    "    def get(self, idx):\n",
    "        path = self.WSI_df[\"path\"].iloc[idx]\n",
    "        #this is the graph. We also need to return the training/validation/testing masks \n",
    "        data = torch.load(path)\n",
    "        nodes = [i for i in range(data.x.shape[0])] #node 0 is in 0th pos, 1 in 1, and so on \n",
    "        #all of the masks \n",
    "        train_mask = [False] * len(nodes)\n",
    "        val_mask = [False] * len(nodes)\n",
    "        test_mask = [False] * len(nodes)\n",
    "        self.create_masks(nodes, train_mask, val_mask, test_mask)\n",
    "        \n",
    "        return (data, torch.tensor(train_mask), torch.tensor(val_mask), torch.tensor(test_mask))"
   ]
  },
  {
   "cell_type": "code",
   "execution_count": 5,
   "id": "34847690",
   "metadata": {},
   "outputs": [],
   "source": [
    "root = \"/dartfs/rc/nosnapshots/V/VaickusL-nb/EDIT_Students/users/Gokul_Srinivasan/SCC-Tumor-Detection/Gokul_files/graph_data/metadata.csv\"\n",
    "\n",
    "dataset = WSI_Graph_Class(root = root, transform = None, pre_transform = None, pre_filter = None)"
   ]
  },
  {
   "cell_type": "code",
   "execution_count": 6,
   "id": "45858761",
   "metadata": {},
   "outputs": [
    {
     "data": {
      "text/plain": [
       "(Data(x=[23215, 2048], edge_index=[2, 179532], y=[23215]),\n",
       " tensor([ True,  True,  True,  ...,  True,  True, False]),\n",
       " tensor([False, False, False,  ..., False, False, False]),\n",
       " tensor([False, False, False,  ..., False, False,  True]))"
      ]
     },
     "execution_count": 6,
     "metadata": {},
     "output_type": "execute_result"
    }
   ],
   "source": [
    "dataset.get(0)"
   ]
  },
  {
   "cell_type": "markdown",
   "id": "7a9030ed",
   "metadata": {},
   "source": [
    "# Define Model \n",
    "- This mainly draws upon HIV project code "
   ]
  },
  {
   "cell_type": "code",
   "execution_count": 7,
   "id": "8392f1d6",
   "metadata": {},
   "outputs": [
    {
     "data": {
      "text/plain": [
       "<torch._C.Generator at 0x2b2aabe76c90>"
      ]
     },
     "execution_count": 7,
     "metadata": {},
     "output_type": "execute_result"
    }
   ],
   "source": [
    "torch.manual_seed(42)\n",
    "\n",
    "# class GNN(torch.nn.Module):\n",
    "#     def __init__(self, feature_size):\n",
    "#         super(GNN, self).__init__()\n",
    "#         num_classes = 2\n",
    "#         embedding_size = 2048 # from resnet  \n",
    "\n",
    "#         #define the GNN layers \n",
    "\n",
    "#         #layer 1\n",
    "#         #the first graph attention layer which will create 3*embed size embeddings for each node. This will also take care of all the message passing and aggregation\n",
    "#         self.conv1 = GATConv(feature_size, embedding_size, heads=3, dropout = 0.3)\n",
    "#         #reduce the dimensionality back\n",
    "#         self.head_transform1 = Linear(embedding_size*3, embedding_size)\n",
    "#         self.pool1 = TopKPooling(embedding_size, ratio=0.8)\n",
    "\n",
    "#         #layer 2\n",
    "#         self.conv2 = GATConv(embedding_size, embedding_size, heads=3, dropout = 0.3)\n",
    "#         self.head_transform2 = Linear(embedding_size*3, embedding_size)\n",
    "#         self.pool2 = TopKPooling(embedding_size, ratio=0.5)\n",
    "\n",
    "#         #layer 3\n",
    "#         self.conv3 = GATConv(embedding_size, embedding_size, heads=3, dropout = 0.3)\n",
    "#         self.head_transform3 = Linear(embedding_size*3, embedding_size)\n",
    "#         self.pool3 = TopKPooling(embedding_size, ratio=0.2)\n",
    "\n",
    "\n",
    "#         #linear layers - these need to be modified to match the output size? Or maybe not\n",
    "#         self.linear1 = Linear(embedding_size*2, embedding_size)\n",
    "#         self.linear2 = Linear(embedding_size, 2)\n",
    "\n",
    "#     def forward(self, x, edge_attr, edge_index, batch_index):\n",
    "#         #block 1 \n",
    "#         x = self.conv1(x, edge_index)\n",
    "#         x = self.head_transform1(x)\n",
    "\n",
    "#         x, edge_index, edge_attr, batch_index, _, _ = self.pool1(x, edge_index, None, batch_index)\n",
    "#         #graph rep. \n",
    "#         x1 = torch.cat([gmp(x, batch_index), gap(x, batch_index)], dim=1)\n",
    "#         #block 2 \n",
    "#         x = self.conv2(x, edge_index)\n",
    "#         x = self.head_transform2(x)\n",
    "\n",
    "#         x, edge_index, edge_attr, batch_index, _, _ = self.pool2(x, edge_index, None, batch_index)\n",
    "#         #graph rep. \n",
    "#         x2 = torch.cat([gmp(x, batch_index), gap(x, batch_index)], dim=1)\n",
    "#         #block 3\n",
    "#         x = self.conv3(x, edge_index)\n",
    "#         x = self.head_transform3(x)\n",
    "\n",
    "#         x, edge_index, edge_attr, batch_index, _, _ = self.pool3(x, edge_index, None, batch_index)\n",
    "#         #graph rep. \n",
    "#         x3 = torch.cat([gmp(x, batch_index), gap(x, batch_index)], dim=1)\n",
    "#         #element wise addition , and each is 2048 \n",
    "#         x = x1 + x2 + x3\n",
    "#         #output block \n",
    "#         x = self.linear1(x).relu()\n",
    "#         x = F.dropout(x, p=0.5)\n",
    "#         x = self.linear2(x)\n",
    "\n",
    "#         return x"
   ]
  },
  {
   "cell_type": "code",
   "execution_count": 15,
   "id": "04c946ff",
   "metadata": {},
   "outputs": [],
   "source": [
    "torch.manual_seed(42)\n",
    "\n",
    "class simple_GNN(torch.nn.Module):\n",
    "    def __init__(self, feature_size):\n",
    "        super(simple_GNN, self).__init__()\n",
    "        \n",
    "        self.num_classes = 2 #scc or normal\n",
    "        self.embedding_size = 2048 # this is what we want the embedding to be\n",
    "        \n",
    "        #define the GNN layers \n",
    "\n",
    "        #layer 1\n",
    "        #the first graph attention layer which will create 3*embed size embeddings for each node. This will also take care of all the message passing and aggregation\n",
    "        self.conv1 = GATConv(feature_size, self.embedding_size, heads=3, dropout = 0.3)\n",
    "        #reduce the dimensionality back\n",
    "        self.head_transform1 = Linear(self.embedding_size*3, self.embedding_size)\n",
    "        \n",
    "        #layer 2\n",
    "        self.conv2 = GATConv(self.embedding_size, self.embedding_size, heads=3, dropout = 0.3)\n",
    "        self.head_transform2 = Linear(self.embedding_size*3, self.embedding_size)\n",
    "\n",
    "           \n",
    "        #layer 2\n",
    "        self.conv3 = GATConv(self.embedding_size, self.embedding_size, heads=3, dropout = 0.3)\n",
    "        self.head_transform3 = Linear(self.embedding_size*3, self.embedding_size)\n",
    "\n",
    "        #linear layers - these need to be modified to match the output size? Or maybe not\n",
    "        self.linear1 = Linear(self.embedding_size, self.embedding_size)\n",
    "        self.linear2 = Linear(self.embedding_size, self.num_classes) #prediction for each class\n",
    "\n",
    "    def forward(self,data):\n",
    "        x, edge_index = data.x, data.edge_index\n",
    "        x = x.to(device)\n",
    "        edge_index = edge_index.to(device) #we put stuff on the device here? maybe memory error? \n",
    "        \n",
    "        #block 1 \n",
    "        x = self.conv1(x, edge_index) #this is does all the aggregation and message passing\n",
    "        x = self.head_transform1(x)       \n",
    "       \n",
    "        #block 2\n",
    "        x = self.conv2(x, edge_index) \n",
    "        x = self.head_transform2(x)      \n",
    "        \n",
    "        #block 3\n",
    "        x = self.conv3(x, edge_index) #this is does all the aggregation and message passing\n",
    "        x = self.head_transform3(x)   \n",
    "        \n",
    "        #output block \n",
    "        x = self.linear1(x).relu()\n",
    "        x = F.dropout(x, p=0.5)\n",
    "        x = self.linear2(x)\n",
    "\n",
    "        return x"
   ]
  },
  {
   "cell_type": "markdown",
   "id": "26f0ef05",
   "metadata": {},
   "source": [
    "# Dataloader"
   ]
  },
  {
   "cell_type": "code",
   "execution_count": 16,
   "id": "ade768a2",
   "metadata": {},
   "outputs": [],
   "source": [
    "num_features = 2048\n",
    "model = simple_GNN(feature_size=num_features)\n",
    "model = model.to(device)"
   ]
  },
  {
   "cell_type": "code",
   "execution_count": 17,
   "id": "e6345fe3",
   "metadata": {},
   "outputs": [],
   "source": [
    "#loss and optimizer \n",
    "import torch.optim as optim\n",
    "loss_fn = torch.nn.CrossEntropyLoss()\n",
    "opt = optim.Adam(model.parameters(), lr=0.01)"
   ]
  },
  {
   "cell_type": "code",
   "execution_count": 18,
   "id": "8e2eb630",
   "metadata": {},
   "outputs": [],
   "source": [
    "#prepare training \n",
    "from torch_geometric.data import DataLoader\n",
    "data_loader = DataLoader(dataset, batch_size=1)\n",
    "num_epochs = 10"
   ]
  },
  {
   "cell_type": "markdown",
   "id": "28544066",
   "metadata": {},
   "source": [
    "# Actual Model Training "
   ]
  },
  {
   "cell_type": "code",
   "execution_count": 19,
   "id": "9ea4b7a1",
   "metadata": {},
   "outputs": [
    {
     "name": "stderr",
     "output_type": "stream",
     "text": [
      "  0%|                                                                                                                                                                                | 0/30 [00:05<?, ?it/s]\n"
     ]
    },
    {
     "ename": "OutOfMemoryError",
     "evalue": "CUDA out of memory. Tried to allocate 4.64 GiB (GPU 0; 31.75 GiB total capacity; 26.93 GiB already allocated; 1.60 GiB free; 29.22 GiB reserved in total by PyTorch) If reserved memory is >> allocated memory try setting max_split_size_mb to avoid fragmentation.  See documentation for Memory Management and PYTORCH_CUDA_ALLOC_CONF",
     "output_type": "error",
     "traceback": [
      "\u001b[0;31m---------------------------------------------------------------------------\u001b[0m",
      "\u001b[0;31mOutOfMemoryError\u001b[0m                          Traceback (most recent call last)",
      "\u001b[0;32m/scratch/ipykernel_117922/2503550426.py\u001b[0m in \u001b[0;36m<module>\u001b[0;34m\u001b[0m\n\u001b[1;32m     20\u001b[0m \u001b[0;34m\u001b[0m\u001b[0m\n\u001b[1;32m     21\u001b[0m         \u001b[0mopt\u001b[0m\u001b[0;34m.\u001b[0m\u001b[0mzero_grad\u001b[0m\u001b[0;34m(\u001b[0m\u001b[0;34m)\u001b[0m\u001b[0;34m\u001b[0m\u001b[0;34m\u001b[0m\u001b[0m\n\u001b[0;32m---> 22\u001b[0;31m         \u001b[0mloss\u001b[0m\u001b[0;34m.\u001b[0m\u001b[0mbackward\u001b[0m\u001b[0;34m(\u001b[0m\u001b[0;34m)\u001b[0m\u001b[0;34m\u001b[0m\u001b[0;34m\u001b[0m\u001b[0m\n\u001b[0m\u001b[1;32m     23\u001b[0m         \u001b[0mopt\u001b[0m\u001b[0;34m.\u001b[0m\u001b[0mstep\u001b[0m\u001b[0;34m(\u001b[0m\u001b[0;34m)\u001b[0m\u001b[0;34m\u001b[0m\u001b[0;34m\u001b[0m\u001b[0m\n\u001b[1;32m     24\u001b[0m     \u001b[0;31m#now find the average training loss for this epoch\u001b[0m\u001b[0;34m\u001b[0m\u001b[0;34m\u001b[0m\u001b[0;34m\u001b[0m\u001b[0m\n",
      "\u001b[0;32m~/anaconda3/envs/jupyter_ultimate/lib/python3.7/site-packages/torch/_tensor.py\u001b[0m in \u001b[0;36mbackward\u001b[0;34m(self, gradient, retain_graph, create_graph, inputs)\u001b[0m\n\u001b[1;32m    486\u001b[0m             )\n\u001b[1;32m    487\u001b[0m         torch.autograd.backward(\n\u001b[0;32m--> 488\u001b[0;31m             \u001b[0mself\u001b[0m\u001b[0;34m,\u001b[0m \u001b[0mgradient\u001b[0m\u001b[0;34m,\u001b[0m \u001b[0mretain_graph\u001b[0m\u001b[0;34m,\u001b[0m \u001b[0mcreate_graph\u001b[0m\u001b[0;34m,\u001b[0m \u001b[0minputs\u001b[0m\u001b[0;34m=\u001b[0m\u001b[0minputs\u001b[0m\u001b[0;34m\u001b[0m\u001b[0;34m\u001b[0m\u001b[0m\n\u001b[0m\u001b[1;32m    489\u001b[0m         )\n\u001b[1;32m    490\u001b[0m \u001b[0;34m\u001b[0m\u001b[0m\n",
      "\u001b[0;32m~/anaconda3/envs/jupyter_ultimate/lib/python3.7/site-packages/torch/autograd/__init__.py\u001b[0m in \u001b[0;36mbackward\u001b[0;34m(tensors, grad_tensors, retain_graph, create_graph, grad_variables, inputs)\u001b[0m\n\u001b[1;32m    197\u001b[0m     Variable._execution_engine.run_backward(  # Calls into the C++ engine to run the backward pass\n\u001b[1;32m    198\u001b[0m         \u001b[0mtensors\u001b[0m\u001b[0;34m,\u001b[0m \u001b[0mgrad_tensors_\u001b[0m\u001b[0;34m,\u001b[0m \u001b[0mretain_graph\u001b[0m\u001b[0;34m,\u001b[0m \u001b[0mcreate_graph\u001b[0m\u001b[0;34m,\u001b[0m \u001b[0minputs\u001b[0m\u001b[0;34m,\u001b[0m\u001b[0;34m\u001b[0m\u001b[0;34m\u001b[0m\u001b[0m\n\u001b[0;32m--> 199\u001b[0;31m         allow_unreachable=True, accumulate_grad=True)  # Calls into the C++ engine to run the backward pass\n\u001b[0m\u001b[1;32m    200\u001b[0m \u001b[0;34m\u001b[0m\u001b[0m\n\u001b[1;32m    201\u001b[0m def grad(\n",
      "\u001b[0;31mOutOfMemoryError\u001b[0m: CUDA out of memory. Tried to allocate 4.64 GiB (GPU 0; 31.75 GiB total capacity; 26.93 GiB already allocated; 1.60 GiB free; 29.22 GiB reserved in total by PyTorch) If reserved memory is >> allocated memory try setting max_split_size_mb to avoid fragmentation.  See documentation for Memory Management and PYTORCH_CUDA_ALLOC_CONF"
     ]
    }
   ],
   "source": [
    "for epoch in range(num_epochs):\n",
    "    #training portion\n",
    "    epoch_loss = []\n",
    "    model.train()\n",
    "    for data in tqdm(data_loader):\n",
    "        #get graph\n",
    "        graph = data[0]\n",
    "        y = graph.y \n",
    "        y = y.to(device)\n",
    "        #get masks\n",
    "        train_mask = data[1].T.reshape([data[1].T.shape[0]])\n",
    "\n",
    "        #get predictions \n",
    "        logits = model(graph)\n",
    "        \n",
    "        loss = loss_fn(logits[train_mask], y[train_mask])\n",
    "        epoch_loss.append(loss.item())\n",
    "\n",
    "        opt.zero_grad()\n",
    "        loss.backward()\n",
    "        opt.step()\n",
    "    #now find the average training loss for this epoch \n",
    "    epoch_loss = sum(epoch_loss)/len(epoch_loss)\n",
    "    print(\"Epoch :%d. Epoch loss: %f\" %(epoch, epoch_loss))    \n",
    "    \n",
    "    #validation portion\n",
    "    validation_correct = 0\n",
    "    validation_total = 0\n",
    "    model.eval()\n",
    "    for data in tqdm(data_loader):\n",
    "        #get graph\n",
    "        graph = data[0]\n",
    "        y = graph.y \n",
    "        y = y.to(device)\n",
    "        #get masks\n",
    "        val_mask = data[2].T.reshape([data[2].T.shape[0]])\n",
    "\n",
    "        #get predictions \n",
    "        logits = model(graph)\n",
    "        #get them into label predictions\n",
    "        _, indices = torch.max(logits, dim=1).detach()\n",
    "        \n",
    "        validation_correct += sum(indices[val_mask] == y[val_mask]).item()\n",
    "        validation_total += sum(val_mask == True).item()\n",
    "    \n",
    "    print(\"Epoch :%d. Validation accuracy: %f\" %(epoch, validation_correct/validation_total))"
   ]
  },
  {
   "cell_type": "code",
   "execution_count": 20,
   "id": "ddd2b8eb",
   "metadata": {},
   "outputs": [
    {
     "name": "stdout",
     "output_type": "stream",
     "text": [
      "Thu Dec 22 21:16:01 2022       \n",
      "+-----------------------------------------------------------------------------+\n",
      "| NVIDIA-SMI 510.47.03    Driver Version: 510.47.03    CUDA Version: 11.6     |\n",
      "|-------------------------------+----------------------+----------------------+\n",
      "| GPU  Name        Persistence-M| Bus-Id        Disp.A | Volatile Uncorr. ECC |\n",
      "| Fan  Temp  Perf  Pwr:Usage/Cap|         Memory-Usage | GPU-Util  Compute M. |\n",
      "|                               |                      |               MIG M. |\n",
      "|===============================+======================+======================|\n",
      "|   0  Tesla V100-SXM2...  Off  | 00000000:18:00.0 Off |                    0 |\n",
      "| N/A   37C    P0    55W / 300W |  30872MiB / 32768MiB |      0%   E. Process |\n",
      "|                               |                      |                  N/A |\n",
      "+-------------------------------+----------------------+----------------------+\n",
      "|   1  Tesla V100-SXM2...  Off  | 00000000:3B:00.0 Off |                    0 |\n",
      "| N/A   29C    P0    39W / 300W |      3MiB / 32768MiB |      0%   E. Process |\n",
      "|                               |                      |                  N/A |\n",
      "+-------------------------------+----------------------+----------------------+\n",
      "|   2  Tesla V100-SXM2...  Off  | 00000000:86:00.0 Off |                    0 |\n",
      "| N/A   27C    P0    39W / 300W |      3MiB / 32768MiB |      0%   E. Process |\n",
      "|                               |                      |                  N/A |\n",
      "+-------------------------------+----------------------+----------------------+\n",
      "|   3  Tesla V100-SXM2...  Off  | 00000000:AF:00.0 Off |                    0 |\n",
      "| N/A   31C    P0    40W / 300W |      3MiB / 32768MiB |      0%      Default |\n",
      "|                               |                      |                  N/A |\n",
      "+-------------------------------+----------------------+----------------------+\n",
      "                                                                               \n",
      "+-----------------------------------------------------------------------------+\n",
      "| Processes:                                                                  |\n",
      "|  GPU   GI   CI        PID   Type   Process name                  GPU Memory |\n",
      "|        ID   ID                                                   Usage      |\n",
      "|=============================================================================|\n",
      "|    0   N/A  N/A    117922      C   ...pyter_ultimate/bin/python    30869MiB |\n",
      "+-----------------------------------------------------------------------------+\n"
     ]
    }
   ],
   "source": [
    "!nvidia-smi"
   ]
  },
  {
   "cell_type": "code",
   "execution_count": null,
   "id": "f6d91140",
   "metadata": {},
   "outputs": [],
   "source": []
  }
 ],
 "metadata": {
  "kernelspec": {
   "display_name": "jupyter_ultimate",
   "language": "python",
   "name": "jupyter_ultimate"
  },
  "language_info": {
   "codemirror_mode": {
    "name": "ipython",
    "version": 3
   },
   "file_extension": ".py",
   "mimetype": "text/x-python",
   "name": "python",
   "nbconvert_exporter": "python",
   "pygments_lexer": "ipython3",
   "version": "3.7.15"
  }
 },
 "nbformat": 4,
 "nbformat_minor": 5
}
