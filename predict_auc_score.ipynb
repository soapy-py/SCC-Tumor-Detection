{
 "cells": [
  {
   "cell_type": "code",
   "execution_count": 34,
   "id": "90f292b0",
   "metadata": {},
   "outputs": [
    {
     "name": "stderr",
     "output_type": "stream",
     "text": [
      "100%|███████████████████| 95/95 [00:00<00:00, 222851.72it/s]"
     ]
    },
    {
     "name": "stdout",
     "output_type": "stream",
     "text": [
      "['109_A1c', '10_A1a', '10_A1b', '10_A2b', '110_A2b', '112_a', '112_b', '123_A1a', '12_A1c', '14_A1b', '14_A2b', '169_A2b', '270_A1b', '270_A1d', '270_A1e', '270_A2b', '270_A2f', '281_A1d', '281_A1f', '281_A2eX', '311_A2c', '327_A1a', '327_A1d', '327_B1c', '341_a', '341_b', '342_a', '342_b', '343_a', '343_b', '343_c', '343_d', '344_a', '344_b', '345_a', '345_b', '346_a', '346_b', '350_A1a', '350_A1b', '350_A1c', '350_A1d', '350_A1e', '351_A2b', '352_A1d', '352_A1e', '352_A1g', '352_A1h', '352_A1i', '353_A2b', '354_A1b', '354_A1c', '354_A1d', '354_A3a', '354_A3b', '354_A3c', '354_D1b', '355_A1d', '356_A1b', '358_A1a', '358_A1b', '361_a', '361_b', '362_A1a', '362_A1b', '362_A1c', '363_A1b', '363_A1c', '363_A2b', '363_A3b', '364_A1b', '364_A2b', '364_A4b', '365_A1b', '365_A2b', '366_A1a', '366_A1b', '366_A1c', '367_A2b', '368_A1b', '368_A1c', '368_A1d', '369_A1b', '369_A1c', '369_A2b', '370_A1b', '370_A2a', '370_A2b', '37_A2d', '61_A1a', '61_B1a', '70_A2b', '7_A1c', '7_A1d', '7_A1e']\n"
     ]
    },
    {
     "name": "stderr",
     "output_type": "stream",
     "text": [
      "\n"
     ]
    }
   ],
   "source": [
    "import tqdm, glob,os\n",
    "path3=\"/dartfs/rc/nosnapshots/V/VaickusL-nb/EDIT_Students/users/Sophie_Chen/scc_tumor_data/prelim_patch_info_v2\"\n",
    "titles=[]\n",
    "for file in tqdm.tqdm(sorted(glob.glob(path2 + '/*.pkl'))):\n",
    "    name=os.path.basename(file).replace(path,'').replace('_ASAP_tumor_map.pkl','')\n",
    "    titles.append(name)\n",
    "    \n",
    "titles.sort()\n",
    "print(titles)"
   ]
  },
  {
   "cell_type": "code",
   "execution_count": 7,
   "id": "28cbffc4",
   "metadata": {
    "scrolled": false
   },
   "outputs": [
    {
     "name": "stderr",
     "output_type": "stream",
     "text": [
      "100%|███████████████████████████████████████| 95/95 [00:00<00:00, 457998.71it/s]\n"
     ]
    }
   ],
   "source": [
    "import tqdm, glob\n",
    "path=\"/dartfs/rc/nosnapshots/V/VaickusL-nb/EDIT_Students/users/Sophie_Chen/scc_tumor_data/prelim_patch_info\"\n",
    "npy=[]\n",
    "for file in tqdm.tqdm(sorted(glob.glob(path + '/*.npy'))):\n",
    "    npy_file=(file)\n",
    "    npy.append(npy_file)"
   ]
  },
  {
   "cell_type": "code",
   "execution_count": 9,
   "id": "37d3387a",
   "metadata": {
    "collapsed": true
   },
   "outputs": [
    {
     "name": "stdout",
     "output_type": "stream",
     "text": [
      "['/dartfs/rc/nosnapshots/V/VaickusL-nb/EDIT_Students/users/Sophie_Chen/scc_tumor_data/prelim_patch_info/109_A1c_ASAP_tumor_map.npy', '/dartfs/rc/nosnapshots/V/VaickusL-nb/EDIT_Students/users/Sophie_Chen/scc_tumor_data/prelim_patch_info/10_A1a_ASAP_tumor_map.npy', '/dartfs/rc/nosnapshots/V/VaickusL-nb/EDIT_Students/users/Sophie_Chen/scc_tumor_data/prelim_patch_info/10_A1b_ASAP_tumor_map.npy', '/dartfs/rc/nosnapshots/V/VaickusL-nb/EDIT_Students/users/Sophie_Chen/scc_tumor_data/prelim_patch_info/10_A2b_ASAP_tumor_map.npy', '/dartfs/rc/nosnapshots/V/VaickusL-nb/EDIT_Students/users/Sophie_Chen/scc_tumor_data/prelim_patch_info/110_A2b_ASAP_tumor_map.npy', '/dartfs/rc/nosnapshots/V/VaickusL-nb/EDIT_Students/users/Sophie_Chen/scc_tumor_data/prelim_patch_info/112_a_ASAP_tumor_map.npy', '/dartfs/rc/nosnapshots/V/VaickusL-nb/EDIT_Students/users/Sophie_Chen/scc_tumor_data/prelim_patch_info/112_b_ASAP_tumor_map.npy', '/dartfs/rc/nosnapshots/V/VaickusL-nb/EDIT_Students/users/Sophie_Chen/scc_tumor_data/prelim_patch_info/123_A1a_ASAP_tumor_map.npy', '/dartfs/rc/nosnapshots/V/VaickusL-nb/EDIT_Students/users/Sophie_Chen/scc_tumor_data/prelim_patch_info/12_A1c_ASAP_tumor_map.npy', '/dartfs/rc/nosnapshots/V/VaickusL-nb/EDIT_Students/users/Sophie_Chen/scc_tumor_data/prelim_patch_info/14_A1b_ASAP_tumor_map.npy', '/dartfs/rc/nosnapshots/V/VaickusL-nb/EDIT_Students/users/Sophie_Chen/scc_tumor_data/prelim_patch_info/14_A2b_ASAP_tumor_map.npy', '/dartfs/rc/nosnapshots/V/VaickusL-nb/EDIT_Students/users/Sophie_Chen/scc_tumor_data/prelim_patch_info/169_A2b_ASAP_tumor_map.npy', '/dartfs/rc/nosnapshots/V/VaickusL-nb/EDIT_Students/users/Sophie_Chen/scc_tumor_data/prelim_patch_info/270_A1b_ASAP_tumor_map.npy', '/dartfs/rc/nosnapshots/V/VaickusL-nb/EDIT_Students/users/Sophie_Chen/scc_tumor_data/prelim_patch_info/270_A1d_ASAP_tumor_map.npy', '/dartfs/rc/nosnapshots/V/VaickusL-nb/EDIT_Students/users/Sophie_Chen/scc_tumor_data/prelim_patch_info/270_A1e_ASAP_tumor_map.npy', '/dartfs/rc/nosnapshots/V/VaickusL-nb/EDIT_Students/users/Sophie_Chen/scc_tumor_data/prelim_patch_info/270_A2b_ASAP_tumor_map.npy', '/dartfs/rc/nosnapshots/V/VaickusL-nb/EDIT_Students/users/Sophie_Chen/scc_tumor_data/prelim_patch_info/270_A2f_ASAP_tumor_map.npy', '/dartfs/rc/nosnapshots/V/VaickusL-nb/EDIT_Students/users/Sophie_Chen/scc_tumor_data/prelim_patch_info/281_A1d_ASAP_tumor_map.npy', '/dartfs/rc/nosnapshots/V/VaickusL-nb/EDIT_Students/users/Sophie_Chen/scc_tumor_data/prelim_patch_info/281_A1f_ASAP_tumor_map.npy', '/dartfs/rc/nosnapshots/V/VaickusL-nb/EDIT_Students/users/Sophie_Chen/scc_tumor_data/prelim_patch_info/281_A2eX_ASAP_tumor_map.npy', '/dartfs/rc/nosnapshots/V/VaickusL-nb/EDIT_Students/users/Sophie_Chen/scc_tumor_data/prelim_patch_info/311_A2c_ASAP_tumor_map.npy', '/dartfs/rc/nosnapshots/V/VaickusL-nb/EDIT_Students/users/Sophie_Chen/scc_tumor_data/prelim_patch_info/327_A1a_ASAP_tumor_map.npy', '/dartfs/rc/nosnapshots/V/VaickusL-nb/EDIT_Students/users/Sophie_Chen/scc_tumor_data/prelim_patch_info/327_A1d_ASAP_tumor_map.npy', '/dartfs/rc/nosnapshots/V/VaickusL-nb/EDIT_Students/users/Sophie_Chen/scc_tumor_data/prelim_patch_info/327_B1c_ASAP_tumor_map.npy', '/dartfs/rc/nosnapshots/V/VaickusL-nb/EDIT_Students/users/Sophie_Chen/scc_tumor_data/prelim_patch_info/341_a_ASAP_tumor_map.npy', '/dartfs/rc/nosnapshots/V/VaickusL-nb/EDIT_Students/users/Sophie_Chen/scc_tumor_data/prelim_patch_info/341_b_ASAP_tumor_map.npy', '/dartfs/rc/nosnapshots/V/VaickusL-nb/EDIT_Students/users/Sophie_Chen/scc_tumor_data/prelim_patch_info/342_a_ASAP_tumor_map.npy', '/dartfs/rc/nosnapshots/V/VaickusL-nb/EDIT_Students/users/Sophie_Chen/scc_tumor_data/prelim_patch_info/342_b_ASAP_tumor_map.npy', '/dartfs/rc/nosnapshots/V/VaickusL-nb/EDIT_Students/users/Sophie_Chen/scc_tumor_data/prelim_patch_info/343_a_ASAP_tumor_map.npy', '/dartfs/rc/nosnapshots/V/VaickusL-nb/EDIT_Students/users/Sophie_Chen/scc_tumor_data/prelim_patch_info/343_b_ASAP_tumor_map.npy', '/dartfs/rc/nosnapshots/V/VaickusL-nb/EDIT_Students/users/Sophie_Chen/scc_tumor_data/prelim_patch_info/343_c_ASAP_tumor_map.npy', '/dartfs/rc/nosnapshots/V/VaickusL-nb/EDIT_Students/users/Sophie_Chen/scc_tumor_data/prelim_patch_info/343_d_ASAP_tumor_map.npy', '/dartfs/rc/nosnapshots/V/VaickusL-nb/EDIT_Students/users/Sophie_Chen/scc_tumor_data/prelim_patch_info/344_a_ASAP_tumor_map.npy', '/dartfs/rc/nosnapshots/V/VaickusL-nb/EDIT_Students/users/Sophie_Chen/scc_tumor_data/prelim_patch_info/344_b_ASAP_tumor_map.npy', '/dartfs/rc/nosnapshots/V/VaickusL-nb/EDIT_Students/users/Sophie_Chen/scc_tumor_data/prelim_patch_info/345_a_ASAP_tumor_map.npy', '/dartfs/rc/nosnapshots/V/VaickusL-nb/EDIT_Students/users/Sophie_Chen/scc_tumor_data/prelim_patch_info/345_b_ASAP_tumor_map.npy', '/dartfs/rc/nosnapshots/V/VaickusL-nb/EDIT_Students/users/Sophie_Chen/scc_tumor_data/prelim_patch_info/346_a_ASAP_tumor_map.npy', '/dartfs/rc/nosnapshots/V/VaickusL-nb/EDIT_Students/users/Sophie_Chen/scc_tumor_data/prelim_patch_info/346_b_ASAP_tumor_map.npy', '/dartfs/rc/nosnapshots/V/VaickusL-nb/EDIT_Students/users/Sophie_Chen/scc_tumor_data/prelim_patch_info/350_A1a_ASAP_tumor_map.npy', '/dartfs/rc/nosnapshots/V/VaickusL-nb/EDIT_Students/users/Sophie_Chen/scc_tumor_data/prelim_patch_info/350_A1b_ASAP_tumor_map.npy', '/dartfs/rc/nosnapshots/V/VaickusL-nb/EDIT_Students/users/Sophie_Chen/scc_tumor_data/prelim_patch_info/350_A1c_ASAP_tumor_map.npy', '/dartfs/rc/nosnapshots/V/VaickusL-nb/EDIT_Students/users/Sophie_Chen/scc_tumor_data/prelim_patch_info/350_A1d_ASAP_tumor_map.npy', '/dartfs/rc/nosnapshots/V/VaickusL-nb/EDIT_Students/users/Sophie_Chen/scc_tumor_data/prelim_patch_info/350_A1e_ASAP_tumor_map.npy', '/dartfs/rc/nosnapshots/V/VaickusL-nb/EDIT_Students/users/Sophie_Chen/scc_tumor_data/prelim_patch_info/351_A2b_ASAP_tumor_map.npy', '/dartfs/rc/nosnapshots/V/VaickusL-nb/EDIT_Students/users/Sophie_Chen/scc_tumor_data/prelim_patch_info/352_A1d_ASAP_tumor_map.npy', '/dartfs/rc/nosnapshots/V/VaickusL-nb/EDIT_Students/users/Sophie_Chen/scc_tumor_data/prelim_patch_info/352_A1e_ASAP_tumor_map.npy', '/dartfs/rc/nosnapshots/V/VaickusL-nb/EDIT_Students/users/Sophie_Chen/scc_tumor_data/prelim_patch_info/352_A1g_ASAP_tumor_map.npy', '/dartfs/rc/nosnapshots/V/VaickusL-nb/EDIT_Students/users/Sophie_Chen/scc_tumor_data/prelim_patch_info/352_A1h_ASAP_tumor_map.npy', '/dartfs/rc/nosnapshots/V/VaickusL-nb/EDIT_Students/users/Sophie_Chen/scc_tumor_data/prelim_patch_info/352_A1i_ASAP_tumor_map.npy', '/dartfs/rc/nosnapshots/V/VaickusL-nb/EDIT_Students/users/Sophie_Chen/scc_tumor_data/prelim_patch_info/353_A2b_ASAP_tumor_map.npy', '/dartfs/rc/nosnapshots/V/VaickusL-nb/EDIT_Students/users/Sophie_Chen/scc_tumor_data/prelim_patch_info/354_A1b_ASAP_tumor_map.npy', '/dartfs/rc/nosnapshots/V/VaickusL-nb/EDIT_Students/users/Sophie_Chen/scc_tumor_data/prelim_patch_info/354_A1c_ASAP_tumor_map.npy', '/dartfs/rc/nosnapshots/V/VaickusL-nb/EDIT_Students/users/Sophie_Chen/scc_tumor_data/prelim_patch_info/354_A1d_ASAP_tumor_map.npy', '/dartfs/rc/nosnapshots/V/VaickusL-nb/EDIT_Students/users/Sophie_Chen/scc_tumor_data/prelim_patch_info/354_A3a_ASAP_tumor_map.npy', '/dartfs/rc/nosnapshots/V/VaickusL-nb/EDIT_Students/users/Sophie_Chen/scc_tumor_data/prelim_patch_info/354_A3b_ASAP_tumor_map.npy', '/dartfs/rc/nosnapshots/V/VaickusL-nb/EDIT_Students/users/Sophie_Chen/scc_tumor_data/prelim_patch_info/354_A3c_ASAP_tumor_map.npy', '/dartfs/rc/nosnapshots/V/VaickusL-nb/EDIT_Students/users/Sophie_Chen/scc_tumor_data/prelim_patch_info/354_D1b_ASAP_tumor_map.npy', '/dartfs/rc/nosnapshots/V/VaickusL-nb/EDIT_Students/users/Sophie_Chen/scc_tumor_data/prelim_patch_info/355_A1d_ASAP_tumor_map.npy', '/dartfs/rc/nosnapshots/V/VaickusL-nb/EDIT_Students/users/Sophie_Chen/scc_tumor_data/prelim_patch_info/356_A1b_ASAP_tumor_map.npy', '/dartfs/rc/nosnapshots/V/VaickusL-nb/EDIT_Students/users/Sophie_Chen/scc_tumor_data/prelim_patch_info/358_A1a_ASAP_tumor_map.npy', '/dartfs/rc/nosnapshots/V/VaickusL-nb/EDIT_Students/users/Sophie_Chen/scc_tumor_data/prelim_patch_info/358_A1b_ASAP_tumor_map.npy', '/dartfs/rc/nosnapshots/V/VaickusL-nb/EDIT_Students/users/Sophie_Chen/scc_tumor_data/prelim_patch_info/361_a_ASAP_tumor_map.npy', '/dartfs/rc/nosnapshots/V/VaickusL-nb/EDIT_Students/users/Sophie_Chen/scc_tumor_data/prelim_patch_info/361_b_ASAP_tumor_map.npy', '/dartfs/rc/nosnapshots/V/VaickusL-nb/EDIT_Students/users/Sophie_Chen/scc_tumor_data/prelim_patch_info/362_A1a_ASAP_tumor_map.npy', '/dartfs/rc/nosnapshots/V/VaickusL-nb/EDIT_Students/users/Sophie_Chen/scc_tumor_data/prelim_patch_info/362_A1b_ASAP_tumor_map.npy', '/dartfs/rc/nosnapshots/V/VaickusL-nb/EDIT_Students/users/Sophie_Chen/scc_tumor_data/prelim_patch_info/362_A1c_ASAP_tumor_map.npy', '/dartfs/rc/nosnapshots/V/VaickusL-nb/EDIT_Students/users/Sophie_Chen/scc_tumor_data/prelim_patch_info/363_A1b_ASAP_tumor_map.npy', '/dartfs/rc/nosnapshots/V/VaickusL-nb/EDIT_Students/users/Sophie_Chen/scc_tumor_data/prelim_patch_info/363_A1c_ASAP_tumor_map.npy', '/dartfs/rc/nosnapshots/V/VaickusL-nb/EDIT_Students/users/Sophie_Chen/scc_tumor_data/prelim_patch_info/363_A2b_ASAP_tumor_map.npy', '/dartfs/rc/nosnapshots/V/VaickusL-nb/EDIT_Students/users/Sophie_Chen/scc_tumor_data/prelim_patch_info/363_A3b_ASAP_tumor_map.npy', '/dartfs/rc/nosnapshots/V/VaickusL-nb/EDIT_Students/users/Sophie_Chen/scc_tumor_data/prelim_patch_info/364_A1b_ASAP_tumor_map.npy', '/dartfs/rc/nosnapshots/V/VaickusL-nb/EDIT_Students/users/Sophie_Chen/scc_tumor_data/prelim_patch_info/364_A2b_ASAP_tumor_map.npy', '/dartfs/rc/nosnapshots/V/VaickusL-nb/EDIT_Students/users/Sophie_Chen/scc_tumor_data/prelim_patch_info/364_A4b_ASAP_tumor_map.npy', '/dartfs/rc/nosnapshots/V/VaickusL-nb/EDIT_Students/users/Sophie_Chen/scc_tumor_data/prelim_patch_info/365_A1b_ASAP_tumor_map.npy', '/dartfs/rc/nosnapshots/V/VaickusL-nb/EDIT_Students/users/Sophie_Chen/scc_tumor_data/prelim_patch_info/365_A2b_ASAP_tumor_map.npy', '/dartfs/rc/nosnapshots/V/VaickusL-nb/EDIT_Students/users/Sophie_Chen/scc_tumor_data/prelim_patch_info/366_A1a_ASAP_tumor_map.npy', '/dartfs/rc/nosnapshots/V/VaickusL-nb/EDIT_Students/users/Sophie_Chen/scc_tumor_data/prelim_patch_info/366_A1b_ASAP_tumor_map.npy', '/dartfs/rc/nosnapshots/V/VaickusL-nb/EDIT_Students/users/Sophie_Chen/scc_tumor_data/prelim_patch_info/366_A1c_ASAP_tumor_map.npy', '/dartfs/rc/nosnapshots/V/VaickusL-nb/EDIT_Students/users/Sophie_Chen/scc_tumor_data/prelim_patch_info/367_A2b_ASAP_tumor_map.npy', '/dartfs/rc/nosnapshots/V/VaickusL-nb/EDIT_Students/users/Sophie_Chen/scc_tumor_data/prelim_patch_info/368_A1b_ASAP_tumor_map.npy', '/dartfs/rc/nosnapshots/V/VaickusL-nb/EDIT_Students/users/Sophie_Chen/scc_tumor_data/prelim_patch_info/368_A1c_ASAP_tumor_map.npy', '/dartfs/rc/nosnapshots/V/VaickusL-nb/EDIT_Students/users/Sophie_Chen/scc_tumor_data/prelim_patch_info/368_A1d_ASAP_tumor_map.npy', '/dartfs/rc/nosnapshots/V/VaickusL-nb/EDIT_Students/users/Sophie_Chen/scc_tumor_data/prelim_patch_info/369_A1b_ASAP_tumor_map.npy', '/dartfs/rc/nosnapshots/V/VaickusL-nb/EDIT_Students/users/Sophie_Chen/scc_tumor_data/prelim_patch_info/369_A1c_ASAP_tumor_map.npy', '/dartfs/rc/nosnapshots/V/VaickusL-nb/EDIT_Students/users/Sophie_Chen/scc_tumor_data/prelim_patch_info/369_A2b_ASAP_tumor_map.npy', '/dartfs/rc/nosnapshots/V/VaickusL-nb/EDIT_Students/users/Sophie_Chen/scc_tumor_data/prelim_patch_info/370_A1b_ASAP_tumor_map.npy', '/dartfs/rc/nosnapshots/V/VaickusL-nb/EDIT_Students/users/Sophie_Chen/scc_tumor_data/prelim_patch_info/370_A2a_ASAP_tumor_map.npy', '/dartfs/rc/nosnapshots/V/VaickusL-nb/EDIT_Students/users/Sophie_Chen/scc_tumor_data/prelim_patch_info/370_A2b_ASAP_tumor_map.npy', '/dartfs/rc/nosnapshots/V/VaickusL-nb/EDIT_Students/users/Sophie_Chen/scc_tumor_data/prelim_patch_info/37_A2d_ASAP_tumor_map.npy', '/dartfs/rc/nosnapshots/V/VaickusL-nb/EDIT_Students/users/Sophie_Chen/scc_tumor_data/prelim_patch_info/61_A1a_ASAP_tumor_map.npy', '/dartfs/rc/nosnapshots/V/VaickusL-nb/EDIT_Students/users/Sophie_Chen/scc_tumor_data/prelim_patch_info/61_B1a_ASAP_tumor_map.npy', '/dartfs/rc/nosnapshots/V/VaickusL-nb/EDIT_Students/users/Sophie_Chen/scc_tumor_data/prelim_patch_info/70_A2b_ASAP_tumor_map.npy', '/dartfs/rc/nosnapshots/V/VaickusL-nb/EDIT_Students/users/Sophie_Chen/scc_tumor_data/prelim_patch_info/7_A1c_ASAP_tumor_map.npy', '/dartfs/rc/nosnapshots/V/VaickusL-nb/EDIT_Students/users/Sophie_Chen/scc_tumor_data/prelim_patch_info/7_A1d_ASAP_tumor_map.npy', '/dartfs/rc/nosnapshots/V/VaickusL-nb/EDIT_Students/users/Sophie_Chen/scc_tumor_data/prelim_patch_info/7_A1e_ASAP_tumor_map.npy']\n"
     ]
    }
   ],
   "source": [
    "npy.sort()\n",
    "print (npy)"
   ]
  },
  {
   "cell_type": "code",
   "execution_count": 8,
   "id": "34cf8cea",
   "metadata": {},
   "outputs": [
    {
     "name": "stderr",
     "output_type": "stream",
     "text": [
      "100%|███████████████████████████████████████| 95/95 [00:00<00:00, 518826.67it/s]\n"
     ]
    }
   ],
   "source": [
    "import tqdm, glob\n",
    "path2=\"/dartfs/rc/nosnapshots/V/VaickusL-nb/EDIT_Students/users/Sophie_Chen/scc_tumor_data/prelim_patch_info_v2\"\n",
    "pkl=[]\n",
    "for file in tqdm.tqdm(sorted(glob.glob(path2 + '/*.pkl'))):\n",
    "    pkl_file=(file)\n",
    "    pkl.append(pkl_file)"
   ]
  },
  {
   "cell_type": "code",
   "execution_count": 10,
   "id": "a985b721",
   "metadata": {
    "collapsed": true
   },
   "outputs": [
    {
     "name": "stdout",
     "output_type": "stream",
     "text": [
      "['/dartfs/rc/nosnapshots/V/VaickusL-nb/EDIT_Students/users/Sophie_Chen/scc_tumor_data/prelim_patch_info_v2/109_A1c_ASAP_tumor_map.pkl', '/dartfs/rc/nosnapshots/V/VaickusL-nb/EDIT_Students/users/Sophie_Chen/scc_tumor_data/prelim_patch_info_v2/10_A1a_ASAP_tumor_map.pkl', '/dartfs/rc/nosnapshots/V/VaickusL-nb/EDIT_Students/users/Sophie_Chen/scc_tumor_data/prelim_patch_info_v2/10_A1b_ASAP_tumor_map.pkl', '/dartfs/rc/nosnapshots/V/VaickusL-nb/EDIT_Students/users/Sophie_Chen/scc_tumor_data/prelim_patch_info_v2/10_A2b_ASAP_tumor_map.pkl', '/dartfs/rc/nosnapshots/V/VaickusL-nb/EDIT_Students/users/Sophie_Chen/scc_tumor_data/prelim_patch_info_v2/110_A2b_ASAP_tumor_map.pkl', '/dartfs/rc/nosnapshots/V/VaickusL-nb/EDIT_Students/users/Sophie_Chen/scc_tumor_data/prelim_patch_info_v2/112_a_ASAP_tumor_map.pkl', '/dartfs/rc/nosnapshots/V/VaickusL-nb/EDIT_Students/users/Sophie_Chen/scc_tumor_data/prelim_patch_info_v2/112_b_ASAP_tumor_map.pkl', '/dartfs/rc/nosnapshots/V/VaickusL-nb/EDIT_Students/users/Sophie_Chen/scc_tumor_data/prelim_patch_info_v2/123_A1a_ASAP_tumor_map.pkl', '/dartfs/rc/nosnapshots/V/VaickusL-nb/EDIT_Students/users/Sophie_Chen/scc_tumor_data/prelim_patch_info_v2/12_A1c_ASAP_tumor_map.pkl', '/dartfs/rc/nosnapshots/V/VaickusL-nb/EDIT_Students/users/Sophie_Chen/scc_tumor_data/prelim_patch_info_v2/14_A1b_ASAP_tumor_map.pkl', '/dartfs/rc/nosnapshots/V/VaickusL-nb/EDIT_Students/users/Sophie_Chen/scc_tumor_data/prelim_patch_info_v2/14_A2b_ASAP_tumor_map.pkl', '/dartfs/rc/nosnapshots/V/VaickusL-nb/EDIT_Students/users/Sophie_Chen/scc_tumor_data/prelim_patch_info_v2/169_A2b_ASAP_tumor_map.pkl', '/dartfs/rc/nosnapshots/V/VaickusL-nb/EDIT_Students/users/Sophie_Chen/scc_tumor_data/prelim_patch_info_v2/270_A1b_ASAP_tumor_map.pkl', '/dartfs/rc/nosnapshots/V/VaickusL-nb/EDIT_Students/users/Sophie_Chen/scc_tumor_data/prelim_patch_info_v2/270_A1d_ASAP_tumor_map.pkl', '/dartfs/rc/nosnapshots/V/VaickusL-nb/EDIT_Students/users/Sophie_Chen/scc_tumor_data/prelim_patch_info_v2/270_A1e_ASAP_tumor_map.pkl', '/dartfs/rc/nosnapshots/V/VaickusL-nb/EDIT_Students/users/Sophie_Chen/scc_tumor_data/prelim_patch_info_v2/270_A2b_ASAP_tumor_map.pkl', '/dartfs/rc/nosnapshots/V/VaickusL-nb/EDIT_Students/users/Sophie_Chen/scc_tumor_data/prelim_patch_info_v2/270_A2f_ASAP_tumor_map.pkl', '/dartfs/rc/nosnapshots/V/VaickusL-nb/EDIT_Students/users/Sophie_Chen/scc_tumor_data/prelim_patch_info_v2/281_A1d_ASAP_tumor_map.pkl', '/dartfs/rc/nosnapshots/V/VaickusL-nb/EDIT_Students/users/Sophie_Chen/scc_tumor_data/prelim_patch_info_v2/281_A1f_ASAP_tumor_map.pkl', '/dartfs/rc/nosnapshots/V/VaickusL-nb/EDIT_Students/users/Sophie_Chen/scc_tumor_data/prelim_patch_info_v2/281_A2eX_ASAP_tumor_map.pkl', '/dartfs/rc/nosnapshots/V/VaickusL-nb/EDIT_Students/users/Sophie_Chen/scc_tumor_data/prelim_patch_info_v2/311_A2c_ASAP_tumor_map.pkl', '/dartfs/rc/nosnapshots/V/VaickusL-nb/EDIT_Students/users/Sophie_Chen/scc_tumor_data/prelim_patch_info_v2/327_A1a_ASAP_tumor_map.pkl', '/dartfs/rc/nosnapshots/V/VaickusL-nb/EDIT_Students/users/Sophie_Chen/scc_tumor_data/prelim_patch_info_v2/327_A1d_ASAP_tumor_map.pkl', '/dartfs/rc/nosnapshots/V/VaickusL-nb/EDIT_Students/users/Sophie_Chen/scc_tumor_data/prelim_patch_info_v2/327_B1c_ASAP_tumor_map.pkl', '/dartfs/rc/nosnapshots/V/VaickusL-nb/EDIT_Students/users/Sophie_Chen/scc_tumor_data/prelim_patch_info_v2/341_a_ASAP_tumor_map.pkl', '/dartfs/rc/nosnapshots/V/VaickusL-nb/EDIT_Students/users/Sophie_Chen/scc_tumor_data/prelim_patch_info_v2/341_b_ASAP_tumor_map.pkl', '/dartfs/rc/nosnapshots/V/VaickusL-nb/EDIT_Students/users/Sophie_Chen/scc_tumor_data/prelim_patch_info_v2/342_a_ASAP_tumor_map.pkl', '/dartfs/rc/nosnapshots/V/VaickusL-nb/EDIT_Students/users/Sophie_Chen/scc_tumor_data/prelim_patch_info_v2/342_b_ASAP_tumor_map.pkl', '/dartfs/rc/nosnapshots/V/VaickusL-nb/EDIT_Students/users/Sophie_Chen/scc_tumor_data/prelim_patch_info_v2/343_a_ASAP_tumor_map.pkl', '/dartfs/rc/nosnapshots/V/VaickusL-nb/EDIT_Students/users/Sophie_Chen/scc_tumor_data/prelim_patch_info_v2/343_b_ASAP_tumor_map.pkl', '/dartfs/rc/nosnapshots/V/VaickusL-nb/EDIT_Students/users/Sophie_Chen/scc_tumor_data/prelim_patch_info_v2/343_c_ASAP_tumor_map.pkl', '/dartfs/rc/nosnapshots/V/VaickusL-nb/EDIT_Students/users/Sophie_Chen/scc_tumor_data/prelim_patch_info_v2/343_d_ASAP_tumor_map.pkl', '/dartfs/rc/nosnapshots/V/VaickusL-nb/EDIT_Students/users/Sophie_Chen/scc_tumor_data/prelim_patch_info_v2/344_a_ASAP_tumor_map.pkl', '/dartfs/rc/nosnapshots/V/VaickusL-nb/EDIT_Students/users/Sophie_Chen/scc_tumor_data/prelim_patch_info_v2/344_b_ASAP_tumor_map.pkl', '/dartfs/rc/nosnapshots/V/VaickusL-nb/EDIT_Students/users/Sophie_Chen/scc_tumor_data/prelim_patch_info_v2/345_a_ASAP_tumor_map.pkl', '/dartfs/rc/nosnapshots/V/VaickusL-nb/EDIT_Students/users/Sophie_Chen/scc_tumor_data/prelim_patch_info_v2/345_b_ASAP_tumor_map.pkl', '/dartfs/rc/nosnapshots/V/VaickusL-nb/EDIT_Students/users/Sophie_Chen/scc_tumor_data/prelim_patch_info_v2/346_a_ASAP_tumor_map.pkl', '/dartfs/rc/nosnapshots/V/VaickusL-nb/EDIT_Students/users/Sophie_Chen/scc_tumor_data/prelim_patch_info_v2/346_b_ASAP_tumor_map.pkl', '/dartfs/rc/nosnapshots/V/VaickusL-nb/EDIT_Students/users/Sophie_Chen/scc_tumor_data/prelim_patch_info_v2/350_A1a_ASAP_tumor_map.pkl', '/dartfs/rc/nosnapshots/V/VaickusL-nb/EDIT_Students/users/Sophie_Chen/scc_tumor_data/prelim_patch_info_v2/350_A1b_ASAP_tumor_map.pkl', '/dartfs/rc/nosnapshots/V/VaickusL-nb/EDIT_Students/users/Sophie_Chen/scc_tumor_data/prelim_patch_info_v2/350_A1c_ASAP_tumor_map.pkl', '/dartfs/rc/nosnapshots/V/VaickusL-nb/EDIT_Students/users/Sophie_Chen/scc_tumor_data/prelim_patch_info_v2/350_A1d_ASAP_tumor_map.pkl', '/dartfs/rc/nosnapshots/V/VaickusL-nb/EDIT_Students/users/Sophie_Chen/scc_tumor_data/prelim_patch_info_v2/350_A1e_ASAP_tumor_map.pkl', '/dartfs/rc/nosnapshots/V/VaickusL-nb/EDIT_Students/users/Sophie_Chen/scc_tumor_data/prelim_patch_info_v2/351_A2b_ASAP_tumor_map.pkl', '/dartfs/rc/nosnapshots/V/VaickusL-nb/EDIT_Students/users/Sophie_Chen/scc_tumor_data/prelim_patch_info_v2/352_A1d_ASAP_tumor_map.pkl', '/dartfs/rc/nosnapshots/V/VaickusL-nb/EDIT_Students/users/Sophie_Chen/scc_tumor_data/prelim_patch_info_v2/352_A1e_ASAP_tumor_map.pkl', '/dartfs/rc/nosnapshots/V/VaickusL-nb/EDIT_Students/users/Sophie_Chen/scc_tumor_data/prelim_patch_info_v2/352_A1g_ASAP_tumor_map.pkl', '/dartfs/rc/nosnapshots/V/VaickusL-nb/EDIT_Students/users/Sophie_Chen/scc_tumor_data/prelim_patch_info_v2/352_A1h_ASAP_tumor_map.pkl', '/dartfs/rc/nosnapshots/V/VaickusL-nb/EDIT_Students/users/Sophie_Chen/scc_tumor_data/prelim_patch_info_v2/352_A1i_ASAP_tumor_map.pkl', '/dartfs/rc/nosnapshots/V/VaickusL-nb/EDIT_Students/users/Sophie_Chen/scc_tumor_data/prelim_patch_info_v2/353_A2b_ASAP_tumor_map.pkl', '/dartfs/rc/nosnapshots/V/VaickusL-nb/EDIT_Students/users/Sophie_Chen/scc_tumor_data/prelim_patch_info_v2/354_A1b_ASAP_tumor_map.pkl', '/dartfs/rc/nosnapshots/V/VaickusL-nb/EDIT_Students/users/Sophie_Chen/scc_tumor_data/prelim_patch_info_v2/354_A1c_ASAP_tumor_map.pkl', '/dartfs/rc/nosnapshots/V/VaickusL-nb/EDIT_Students/users/Sophie_Chen/scc_tumor_data/prelim_patch_info_v2/354_A1d_ASAP_tumor_map.pkl', '/dartfs/rc/nosnapshots/V/VaickusL-nb/EDIT_Students/users/Sophie_Chen/scc_tumor_data/prelim_patch_info_v2/354_A3a_ASAP_tumor_map.pkl', '/dartfs/rc/nosnapshots/V/VaickusL-nb/EDIT_Students/users/Sophie_Chen/scc_tumor_data/prelim_patch_info_v2/354_A3b_ASAP_tumor_map.pkl', '/dartfs/rc/nosnapshots/V/VaickusL-nb/EDIT_Students/users/Sophie_Chen/scc_tumor_data/prelim_patch_info_v2/354_A3c_ASAP_tumor_map.pkl', '/dartfs/rc/nosnapshots/V/VaickusL-nb/EDIT_Students/users/Sophie_Chen/scc_tumor_data/prelim_patch_info_v2/354_D1b_ASAP_tumor_map.pkl', '/dartfs/rc/nosnapshots/V/VaickusL-nb/EDIT_Students/users/Sophie_Chen/scc_tumor_data/prelim_patch_info_v2/355_A1d_ASAP_tumor_map.pkl', '/dartfs/rc/nosnapshots/V/VaickusL-nb/EDIT_Students/users/Sophie_Chen/scc_tumor_data/prelim_patch_info_v2/356_A1b_ASAP_tumor_map.pkl', '/dartfs/rc/nosnapshots/V/VaickusL-nb/EDIT_Students/users/Sophie_Chen/scc_tumor_data/prelim_patch_info_v2/358_A1a_ASAP_tumor_map.pkl', '/dartfs/rc/nosnapshots/V/VaickusL-nb/EDIT_Students/users/Sophie_Chen/scc_tumor_data/prelim_patch_info_v2/358_A1b_ASAP_tumor_map.pkl', '/dartfs/rc/nosnapshots/V/VaickusL-nb/EDIT_Students/users/Sophie_Chen/scc_tumor_data/prelim_patch_info_v2/361_a_ASAP_tumor_map.pkl', '/dartfs/rc/nosnapshots/V/VaickusL-nb/EDIT_Students/users/Sophie_Chen/scc_tumor_data/prelim_patch_info_v2/361_b_ASAP_tumor_map.pkl', '/dartfs/rc/nosnapshots/V/VaickusL-nb/EDIT_Students/users/Sophie_Chen/scc_tumor_data/prelim_patch_info_v2/362_A1a_ASAP_tumor_map.pkl', '/dartfs/rc/nosnapshots/V/VaickusL-nb/EDIT_Students/users/Sophie_Chen/scc_tumor_data/prelim_patch_info_v2/362_A1b_ASAP_tumor_map.pkl', '/dartfs/rc/nosnapshots/V/VaickusL-nb/EDIT_Students/users/Sophie_Chen/scc_tumor_data/prelim_patch_info_v2/362_A1c_ASAP_tumor_map.pkl', '/dartfs/rc/nosnapshots/V/VaickusL-nb/EDIT_Students/users/Sophie_Chen/scc_tumor_data/prelim_patch_info_v2/363_A1b_ASAP_tumor_map.pkl', '/dartfs/rc/nosnapshots/V/VaickusL-nb/EDIT_Students/users/Sophie_Chen/scc_tumor_data/prelim_patch_info_v2/363_A1c_ASAP_tumor_map.pkl', '/dartfs/rc/nosnapshots/V/VaickusL-nb/EDIT_Students/users/Sophie_Chen/scc_tumor_data/prelim_patch_info_v2/363_A2b_ASAP_tumor_map.pkl', '/dartfs/rc/nosnapshots/V/VaickusL-nb/EDIT_Students/users/Sophie_Chen/scc_tumor_data/prelim_patch_info_v2/363_A3b_ASAP_tumor_map.pkl', '/dartfs/rc/nosnapshots/V/VaickusL-nb/EDIT_Students/users/Sophie_Chen/scc_tumor_data/prelim_patch_info_v2/364_A1b_ASAP_tumor_map.pkl', '/dartfs/rc/nosnapshots/V/VaickusL-nb/EDIT_Students/users/Sophie_Chen/scc_tumor_data/prelim_patch_info_v2/364_A2b_ASAP_tumor_map.pkl', '/dartfs/rc/nosnapshots/V/VaickusL-nb/EDIT_Students/users/Sophie_Chen/scc_tumor_data/prelim_patch_info_v2/364_A4b_ASAP_tumor_map.pkl', '/dartfs/rc/nosnapshots/V/VaickusL-nb/EDIT_Students/users/Sophie_Chen/scc_tumor_data/prelim_patch_info_v2/365_A1b_ASAP_tumor_map.pkl', '/dartfs/rc/nosnapshots/V/VaickusL-nb/EDIT_Students/users/Sophie_Chen/scc_tumor_data/prelim_patch_info_v2/365_A2b_ASAP_tumor_map.pkl', '/dartfs/rc/nosnapshots/V/VaickusL-nb/EDIT_Students/users/Sophie_Chen/scc_tumor_data/prelim_patch_info_v2/366_A1a_ASAP_tumor_map.pkl', '/dartfs/rc/nosnapshots/V/VaickusL-nb/EDIT_Students/users/Sophie_Chen/scc_tumor_data/prelim_patch_info_v2/366_A1b_ASAP_tumor_map.pkl', '/dartfs/rc/nosnapshots/V/VaickusL-nb/EDIT_Students/users/Sophie_Chen/scc_tumor_data/prelim_patch_info_v2/366_A1c_ASAP_tumor_map.pkl', '/dartfs/rc/nosnapshots/V/VaickusL-nb/EDIT_Students/users/Sophie_Chen/scc_tumor_data/prelim_patch_info_v2/367_A2b_ASAP_tumor_map.pkl', '/dartfs/rc/nosnapshots/V/VaickusL-nb/EDIT_Students/users/Sophie_Chen/scc_tumor_data/prelim_patch_info_v2/368_A1b_ASAP_tumor_map.pkl', '/dartfs/rc/nosnapshots/V/VaickusL-nb/EDIT_Students/users/Sophie_Chen/scc_tumor_data/prelim_patch_info_v2/368_A1c_ASAP_tumor_map.pkl', '/dartfs/rc/nosnapshots/V/VaickusL-nb/EDIT_Students/users/Sophie_Chen/scc_tumor_data/prelim_patch_info_v2/368_A1d_ASAP_tumor_map.pkl', '/dartfs/rc/nosnapshots/V/VaickusL-nb/EDIT_Students/users/Sophie_Chen/scc_tumor_data/prelim_patch_info_v2/369_A1b_ASAP_tumor_map.pkl', '/dartfs/rc/nosnapshots/V/VaickusL-nb/EDIT_Students/users/Sophie_Chen/scc_tumor_data/prelim_patch_info_v2/369_A1c_ASAP_tumor_map.pkl', '/dartfs/rc/nosnapshots/V/VaickusL-nb/EDIT_Students/users/Sophie_Chen/scc_tumor_data/prelim_patch_info_v2/369_A2b_ASAP_tumor_map.pkl', '/dartfs/rc/nosnapshots/V/VaickusL-nb/EDIT_Students/users/Sophie_Chen/scc_tumor_data/prelim_patch_info_v2/370_A1b_ASAP_tumor_map.pkl', '/dartfs/rc/nosnapshots/V/VaickusL-nb/EDIT_Students/users/Sophie_Chen/scc_tumor_data/prelim_patch_info_v2/370_A2a_ASAP_tumor_map.pkl', '/dartfs/rc/nosnapshots/V/VaickusL-nb/EDIT_Students/users/Sophie_Chen/scc_tumor_data/prelim_patch_info_v2/370_A2b_ASAP_tumor_map.pkl', '/dartfs/rc/nosnapshots/V/VaickusL-nb/EDIT_Students/users/Sophie_Chen/scc_tumor_data/prelim_patch_info_v2/37_A2d_ASAP_tumor_map.pkl', '/dartfs/rc/nosnapshots/V/VaickusL-nb/EDIT_Students/users/Sophie_Chen/scc_tumor_data/prelim_patch_info_v2/61_A1a_ASAP_tumor_map.pkl', '/dartfs/rc/nosnapshots/V/VaickusL-nb/EDIT_Students/users/Sophie_Chen/scc_tumor_data/prelim_patch_info_v2/61_B1a_ASAP_tumor_map.pkl', '/dartfs/rc/nosnapshots/V/VaickusL-nb/EDIT_Students/users/Sophie_Chen/scc_tumor_data/prelim_patch_info_v2/70_A2b_ASAP_tumor_map.pkl', '/dartfs/rc/nosnapshots/V/VaickusL-nb/EDIT_Students/users/Sophie_Chen/scc_tumor_data/prelim_patch_info_v2/7_A1c_ASAP_tumor_map.pkl', '/dartfs/rc/nosnapshots/V/VaickusL-nb/EDIT_Students/users/Sophie_Chen/scc_tumor_data/prelim_patch_info_v2/7_A1d_ASAP_tumor_map.pkl', '/dartfs/rc/nosnapshots/V/VaickusL-nb/EDIT_Students/users/Sophie_Chen/scc_tumor_data/prelim_patch_info_v2/7_A1e_ASAP_tumor_map.pkl']\n"
     ]
    }
   ],
   "source": [
    "pkl.sort()\n",
    "print(pkl)"
   ]
  },
  {
   "cell_type": "code",
   "execution_count": 6,
   "id": "12272da8",
   "metadata": {},
   "outputs": [],
   "source": [
    "Set=['val','val','train','val','val','train','val','train','train','test','train','train','test','train','train','val','test','train','train','val','test','val','test','test','train','test','train','train','train','test','train','train','train','val','train','test','test','train','test','test','test','train','train','test','train','train','val','val','val','train','train','test','train','train','train','train','val','train','test','train','train','train','val','test','test','train','val','test','train','train','train','train','train','train','train','val','test','test','val','test','train','train','test','test','train','train','val','train','train','train','train','train','train','train','train']"
   ]
  },
  {
   "cell_type": "code",
   "execution_count": 38,
   "id": "232b0a17",
   "metadata": {},
   "outputs": [],
   "source": [
    "Set=['val','val','train','val','val','train','val','train','train','test','train','train','test','train','train','val','test','train','train','val','test','test','train','test','train','train','train','test','train','train','train','val','train','test','test','train','test','test','test','train','train','test','train','train','val','val','val','train','train','test','train','train','train','train','val','train','test','train','train','train','val','test','test','train','val','test','val','test','train','train','train','train','train','train','train','val','test','test','val','test','train','train','test','test','train','train','val','train','train','train','train','train','train','train','train']"
   ]
  },
  {
   "cell_type": "code",
   "execution_count": 1,
   "id": "b1d94d6e",
   "metadata": {
    "scrolled": true
   },
   "outputs": [],
   "source": [
    "list=['109_A1c', '10_A1a', '10_A1b', '10_A2b', '110_A2b', '112_a', '112_b', '123_A1a', '12_A1c', '14_A1b', '14_A2b', '169_A2b', '270_A1b', '270_A1d', '270_A1e', '270_A2b', '270_A2f', '281_A1d', '281_A1f', '281_A2eX', '311_A2c', '327_A1a', '327_A1d', '327_B1c', '341_a', '341_b', '342_a', '342_b', '343_a', '343_b', '343_c', '343_d', '344_a', '344_b', '345_a', '345_b', '346_a', '346_b', '350_A1a', '350_A1b', '350_A1c', '350_A1d', '350_A1e', '351_A2b', '352_A1d', '352_A1e', '352_A1g', '352_A1h', '352_A1i', '353_A2b', '354_A1b', '354_A1c', '354_A1d', '354_A3a', '354_A3b', '354_A3c', '354_D1b', '355_A1d', '356_A1b', '358_A1a', '358_A1b', '361_a', '361_b', '362_A1a', '362_A1b', '362_A1c', '363_A1b', '363_A1c', '363_A2b', '363_A3b', '364_A1b', '364_A2b', '364_A4b', '365_A1b', '365_A2b', '366_A1a', '366_A1b', '366_A1c', '367_A2b', '368_A1b', '368_A1c', '368_A1d', '369_A1b', '369_A1c', '369_A2b', '370_A1b', '370_A2a', '370_A2b', '37_A2d', '61_A1a', '61_B1a', '70_A2b', '7_A1c', '7_A1d', '7_A1e']"
   ]
  },
  {
   "cell_type": "code",
   "execution_count": 3,
   "id": "3e0abdf1",
   "metadata": {
    "scrolled": false
   },
   "outputs": [
    {
     "name": "stdout",
     "output_type": "stream",
     "text": [
      "['109_A1c', '10_A1a', '10_A1b', '10_A2b', '110_A2b', '112_a', '112_b', '123_A1a', '12_A1c', '14_A1b', '14_A2b', '169_A2b', '270_A1b', '270_A1d', '270_A1e', '270_A2b', '270_A2f', '281_A1d', '281_A1f', '281_A2eX', '311_A2c', '327_A1a', '327_A1d', '327_B1c', '341_a', '341_b', '342_a', '342_b', '343_a', '343_b', '343_c', '343_d', '344_a', '344_b', '345_a', '345_b', '346_a', '346_b', '350_A1a', '350_A1b', '350_A1c', '350_A1d', '350_A1e', '351_A2b', '352_A1d', '352_A1e', '352_A1g', '352_A1h', '352_A1i', '353_A2b', '354_A1b', '354_A1c', '354_A1d', '354_A3a', '354_A3b', '354_A3c', '354_D1b', '355_A1d', '356_A1b', '358_A1a', '358_A1b', '361_a', '361_b', '362_A1a', '362_A1b', '362_A1c', '363_A1b', '363_A1c', '363_A2b', '363_A3b', '364_A1b', '364_A2b', '364_A4b', '365_A1b', '365_A2b', '366_A1a', '366_A1b', '366_A1c', '367_A2b', '368_A1b', '368_A1c', '368_A1d', '369_A1b', '369_A1c', '369_A2b', '370_A1b', '370_A2a', '370_A2b', '37_A2d', '61_A1a', '61_B1a', '70_A2b', '7_A1c', '7_A1d', '7_A1e']\n"
     ]
    }
   ],
   "source": [
    "print(list)"
   ]
  },
  {
   "cell_type": "code",
   "execution_count": 11,
   "id": "1226cd27",
   "metadata": {},
   "outputs": [],
   "source": [
    "data={'npy':npy, 'pkl':pkl, 'set':Set}"
   ]
  },
  {
   "cell_type": "code",
   "execution_count": 12,
   "id": "2be584e1",
   "metadata": {},
   "outputs": [],
   "source": [
    "import pandas as pd\n",
    "df=pd.DataFrame(data)"
   ]
  },
  {
   "cell_type": "code",
   "execution_count": 13,
   "id": "2ab409f0",
   "metadata": {
    "collapsed": true
   },
   "outputs": [
    {
     "name": "stdout",
     "output_type": "stream",
     "text": [
      "                                                  npy  \\\n",
      "0   /dartfs/rc/nosnapshots/V/VaickusL-nb/EDIT_Stud...   \n",
      "1   /dartfs/rc/nosnapshots/V/VaickusL-nb/EDIT_Stud...   \n",
      "2   /dartfs/rc/nosnapshots/V/VaickusL-nb/EDIT_Stud...   \n",
      "3   /dartfs/rc/nosnapshots/V/VaickusL-nb/EDIT_Stud...   \n",
      "4   /dartfs/rc/nosnapshots/V/VaickusL-nb/EDIT_Stud...   \n",
      "..                                                ...   \n",
      "90  /dartfs/rc/nosnapshots/V/VaickusL-nb/EDIT_Stud...   \n",
      "91  /dartfs/rc/nosnapshots/V/VaickusL-nb/EDIT_Stud...   \n",
      "92  /dartfs/rc/nosnapshots/V/VaickusL-nb/EDIT_Stud...   \n",
      "93  /dartfs/rc/nosnapshots/V/VaickusL-nb/EDIT_Stud...   \n",
      "94  /dartfs/rc/nosnapshots/V/VaickusL-nb/EDIT_Stud...   \n",
      "\n",
      "                                                  pkl    set  \n",
      "0   /dartfs/rc/nosnapshots/V/VaickusL-nb/EDIT_Stud...    val  \n",
      "1   /dartfs/rc/nosnapshots/V/VaickusL-nb/EDIT_Stud...    val  \n",
      "2   /dartfs/rc/nosnapshots/V/VaickusL-nb/EDIT_Stud...  train  \n",
      "3   /dartfs/rc/nosnapshots/V/VaickusL-nb/EDIT_Stud...    val  \n",
      "4   /dartfs/rc/nosnapshots/V/VaickusL-nb/EDIT_Stud...    val  \n",
      "..                                                ...    ...  \n",
      "90  /dartfs/rc/nosnapshots/V/VaickusL-nb/EDIT_Stud...  train  \n",
      "91  /dartfs/rc/nosnapshots/V/VaickusL-nb/EDIT_Stud...  train  \n",
      "92  /dartfs/rc/nosnapshots/V/VaickusL-nb/EDIT_Stud...  train  \n",
      "93  /dartfs/rc/nosnapshots/V/VaickusL-nb/EDIT_Stud...  train  \n",
      "94  /dartfs/rc/nosnapshots/V/VaickusL-nb/EDIT_Stud...  train  \n",
      "\n",
      "[95 rows x 3 columns]\n"
     ]
    }
   ],
   "source": [
    "print (df)"
   ]
  },
  {
   "cell_type": "code",
   "execution_count": 14,
   "id": "3c304824",
   "metadata": {},
   "outputs": [],
   "source": [
    "df.to_pickle(\"file_locations.pkl\")"
   ]
  },
  {
   "cell_type": "code",
   "execution_count": 15,
   "id": "53e69ca2",
   "metadata": {},
   "outputs": [],
   "source": [
    "from pathpretrain.predict import predict\n",
    "from pathpretrain.train_model import train_model, generate_transformers\n",
    "from pathpretrain.datasets import NPYDataset\n",
    "import pandas as pd\n",
    "from sklearn.metrics import roc_auc_score\n",
    "from statistics import mean\n",
    "from torch.utils.data import Dataset\n",
    "from pathpretrain.utils import load_image\n",
    "from PIL import Image\n",
    "import os \n",
    "import torch\n",
    "\n",
    "class CustomDataset(Dataset):\n",
    "    def __init__(self, patch_info, npy_file, transform, image_stack=False, predict_only=False, target_col=None):\n",
    "        self.X=load_image(npy_file)\n",
    "        self.patch_info=pd.read_pickle(patch_info)\n",
    "        self.xy=self.patch_info[['x','y']].values\n",
    "        self.patch_size=self.patch_info['patch_size'].iloc[0]\n",
    "        self.length=self.patch_info.shape[0]\n",
    "        self.transform=transform\n",
    "        self.to_pil=lambda x: Image.fromarray(x)\n",
    "        self.ID=os.path.basename(npy_file).replace(\".npy\",\"\").replace(\".tiff\",\"\").replace(\".tif\",\"\").replace(\".svs\",\"\")\n",
    "        self.image_stack=image_stack\n",
    "        self.predict_only=predict_only\n",
    "        self.target_col=target_col\n",
    "\n",
    "    def __getitem__(self,i):\n",
    "        x,y=self.xy[i]\n",
    "        X=self.X[i] if self.image_stack else self.X[x:(x+self.patch_size),y:(y+self.patch_size)]\n",
    "        X=self.transform(self.to_pil(X))\n",
    "        if not self.predict_only: return X, torch.LongTensor([x,y])\n",
    "        else: return X, torch.LongTensor([self.patch_info.iloc[i][self.target_col]])\n",
    "\n",
    "    def __len__(self):\n",
    "        return self.length"
   ]
  },
  {
   "cell_type": "code",
   "execution_count": 2,
   "id": "ca388d4a",
   "metadata": {
    "scrolled": true
   },
   "outputs": [],
   "source": [
    "List=list(range(0,94))"
   ]
  },
  {
   "cell_type": "code",
   "execution_count": null,
   "id": "ee3feaa7",
   "metadata": {
    "scrolled": false
   },
   "outputs": [],
   "source": [
    "roc_auc_list=[]\n",
    "df = pd.read_pickle(\"/dartfs-hpc/rc/home/3/f006n33/file_locations.pkl\")   #pkl file with train, val, test designations and associated npy stacks and pkl files\n",
    "transform=generate_transformers(224,256)['test']\n",
    "for index in List:\n",
    "    i=index\n",
    "    custom_dataset=CustomDataset(df.loc[i,\"pkl\"], df.loc[i,\"npy\"], transform, image_stack=True, predict_only=True, target_col=\"scc\")\n",
    "    Y_pred=train_model(inputs_dir='',\n",
    "                        architecture='resnet50',\n",
    "                        batch_size=128,\n",
    "                        predict=True,\n",
    "                        num_classes=2,\n",
    "                        model_save_loc=\"/dartfs/rc/nosnapshots/V/VaickusL-nb/EDIT_Students/users/Sophie_Chen/cnn_model.pkl\",\n",
    "                        predictions_save_path='/dartfs/rc/nosnapshots/V/VaickusL-nb/EDIT_Students/users/Sophie_Chen/predictions/',\n",
    "                        predict_set='custom',\n",
    "                        verbose=False,\n",
    "                        class_balance=False,\n",
    "                        gpu_id=-1,\n",
    "                        tensor_dataset=False,\n",
    "                        pickle_dataset=True,\n",
    "                        semantic_segmentation=False,\n",
    "                        custom_dataset=custom_dataset,\n",
    "                        save_predictions=False)\n",
    "    roc_auc=roc_auc_score(Y_pred['true'], Y_pred['pred'][:,1])\n",
    "    roc_auc_list.append(roc_auc)"
   ]
  },
  {
   "cell_type": "code",
   "execution_count": 8,
   "id": "98e862dd",
   "metadata": {},
   "outputs": [],
   "source": [
    "roc_auc_score=[0.9502108988397062,\n",
    " 0.9848114768564427,\n",
    " 0.9680754167403667,\n",
    " 0.9632093006494924,\n",
    " 0.9543852560978172,\n",
    " 0.7617637758779502,\n",
    " 0.8095458237904083,\n",
    " 0.826716390801693,\n",
    " 0.9172403525338546,\n",
    " 0.5549569916269728,\n",
    " 0.5987424007570044,\n",
    " 0.9718851651392244,\n",
    " 0.961803247082601,\n",
    " 0.960982428141052,\n",
    " 0.9751091283513678,\n",
    " 0.9099749183064714,\n",
    " 0.7972336394085244,\n",
    " 0.9543893661888516,\n",
    " 0.9475282248929322,\n",
    " 0.9186985418009016,\n",
    " 0.9786732476195396,\n",
    " 0.847359453241091,\n",
    " 0.8528257772172003,\n",
    " 0.8952565013664281,\n",
    " 0.7927498621519476,\n",
    " 0.6884500558739871,\n",
    " 0.7927672130954241,\n",
    " 0.7850412382231302,\n",
    " 0.9021052901474006,\n",
    " 0.9109410260850805,\n",
    " 0.9281369407289195,\n",
    " 0.9099193402080855,\n",
    " 0.8722582731457513,\n",
    " 0.640568173114321,\n",
    " 0.8512810164560296,\n",
    " 0.8720910779041836,\n",
    " 0.7644125346559225,\n",
    " 0.7911116576534869,\n",
    " 0.9166920902642101,\n",
    " 0.9076806375016462,\n",
    " 0.9333402022311805,\n",
    " 0.9369699189696742,\n",
    " 0.9124404570610845,\n",
    " 0.9047489449924485,\n",
    " 0.9071500539937093,\n",
    " 0.9028809809772869,\n",
    " 0.8675225050628619,\n",
    " 0.8643113711346642,\n",
    " 0.8699347224464973,\n",
    " 0.9610002461681408,\n",
    " 0.9375434056981328,\n",
    " 0.9384568593313706,\n",
    " 0.9659904094093884,\n",
    " 0.9600620610872169,\n",
    " 0.96050425654245,\n",
    " 0.9764462191560993,\n",
    " 0.9737607607526374,\n",
    " 0.9449004516891386,\n",
    " 0.9203718526475834,\n",
    " 0.7611150495308098,\n",
    " 0.8118208876575178,\n",
    " 0.8853231354112048,\n",
    " 0.8499516451910775,\n",
    " 0.9115323359544424,\n",
    " 0.9590341952561744,\n",
    " 0.9501390064501892,\n",
    " 0.9714905958145871,\n",
    " 0.9157133705441441,\n",
    " 0.9808298434153627,\n",
    " 0.9885024100737947,\n",
    " 0.8543458507602819,\n",
    " 0.9487691343065007,\n",
    " 0.9020702190316536,\n",
    " 0.9732193492361678,\n",
    " 0.988165976371773,\n",
    " 0.9576351768364629,\n",
    " 0.9199347774097937,\n",
    " 0.9165166664714022,\n",
    " 0.9631648089658816,\n",
    " 0.9352164003189241,\n",
    " 0.9318335731649152,\n",
    " 0.9395454744853825,\n",
    " 0.8798324324117974,\n",
    " 0.8702211394708101,\n",
    " 0.9162689880280249,\n",
    " 0.9420214512908812,\n",
    " 0.9264677868209779,\n",
    " 0.892413901178819,\n",
    " 0.9793809012071503,\n",
    " 0.8725757041124014,\n",
    " 0.9357224570598688,\n",
    " 0.9461286730450196,\n",
    " 0.9333096124169705,\n",
    " 0.9539987556222066]"
   ]
  },
  {
   "cell_type": "code",
   "execution_count": 9,
   "id": "1dda97eb",
   "metadata": {
    "scrolled": false
   },
   "outputs": [
    {
     "data": {
      "text/plain": [
       "0.8988311863320464"
      ]
     },
     "execution_count": 9,
     "metadata": {},
     "output_type": "execute_result"
    }
   ],
   "source": [
    "from statistics import mean\n",
    "mean(roc_auc_score)"
   ]
  }
 ],
 "metadata": {
  "kernelspec": {
   "display_name": "hiss",
   "language": "python",
   "name": "hiss"
  },
  "language_info": {
   "codemirror_mode": {
    "name": "ipython",
    "version": 3
   },
   "file_extension": ".py",
   "mimetype": "text/x-python",
   "name": "python",
   "nbconvert_exporter": "python",
   "pygments_lexer": "ipython3",
   "version": "3.8.13"
  }
 },
 "nbformat": 4,
 "nbformat_minor": 5
}
