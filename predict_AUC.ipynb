{
 "cells": [
  {
   "cell_type": "code",
   "execution_count": 1,
   "id": "53e69ca2",
   "metadata": {},
   "outputs": [],
   "source": [
    "from pathpretrain.predict import predict\n",
    "from pathpretrain.train_model import train_model, generate_transformers\n",
    "from pathpretrain.datasets import NPYDataset\n",
    "import pandas as pd\n",
    "from sklearn.metrics import roc_auc_score\n",
    "from statistics import mean\n",
    "from torch.utils.data import Dataset\n",
    "from pathpretrain.utils import load_image\n",
    "from PIL import Image\n",
    "import os \n",
    "import torch\n",
    "\n",
    "class CustomDataset(Dataset):\n",
    "    def __init__(self, patch_info, npy_file, transform, image_stack=False, predict_only=False, target_col=None):\n",
    "        self.X=load_image(npy_file)\n",
    "        self.patch_info=pd.read_pickle(patch_info)\n",
    "        self.xy=self.patch_info[['x','y']].values\n",
    "        self.patch_size=self.patch_info['patch_size'].iloc[0]\n",
    "        self.length=self.patch_info.shape[0]\n",
    "        self.transform=transform\n",
    "        self.to_pil=lambda x: Image.fromarray(x)\n",
    "        self.ID=os.path.basename(npy_file).replace(\".npy\",\"\").replace(\".tiff\",\"\").replace(\".tif\",\"\").replace(\".svs\",\"\")\n",
    "        self.image_stack=image_stack\n",
    "        self.predict_only=predict_only\n",
    "        self.target_col=target_col\n",
    "\n",
    "    def __getitem__(self,i):\n",
    "        x,y=self.xy[i]\n",
    "        X=self.X[i] if self.image_stack else self.X[x:(x+self.patch_size),y:(y+self.patch_size)]\n",
    "        X=self.transform(self.to_pil(X))\n",
    "        if not self.predict_only: return X, torch.LongTensor([x,y])\n",
    "        else: return X, torch.LongTensor([self.patch_info.iloc[i][self.target_col]])\n",
    "\n",
    "    def __len__(self):\n",
    "        return self.length"
   ]
  },
  {
   "cell_type": "code",
   "execution_count": null,
   "id": "ee3feaa7",
   "metadata": {},
   "outputs": [],
   "source": [
    "df = pd.read_pickle('.pkl')   #pkl file with train, val, test designations and associated npy stacks and pkl files\n",
    "transform=generate_transformers(224,256)['test']\n",
    "i=#index\n",
    "custom_dataset=CustomDataset(df.loc[i,\"pkl\"], df.loc[i,\"npy\"], transform, image_stack=True, predict_only=True, target_col=\"tumor\")\n",
    "Y_pred=train_model(inputs_dir='',\n",
    "                        architecture='resnet50',\n",
    "                        batch_size=128,\n",
    "                        predict=True,\n",
    "                        num_classes=2,\n",
    "                        model_save_loc='/dartfs/rc/nosnapshots/V/VaickusL-nb/EDIT_Students/users/Zavras/checkpoints_cnn_tumor_liver/liver_cyclegan_baseline_DH_20220916/3.epoch.checkpoint.pth',\n",
    "                        predictions_save_path='/dartfs/rc/nosnapshots/V/VaickusL-nb/EDIT_Students/users/Zavras/experiments/predictions_liver_cyclegan_baseline_DH.pkl',\n",
    "                        predict_set='custom',\n",
    "                        verbose=False,\n",
    "                        class_balance=False,\n",
    "                        gpu_id=-1,\n",
    "                        tensor_dataset=False,\n",
    "                        pickle_dataset=True,\n",
    "                        semantic_segmentation=False,\n",
    "                        custom_dataset=custom_dataset,\n",
    "                        save_predictions=False)\n",
    "    roc_auc=roc_auc_score(Y_pred['true'], Y_pred['pred'][:,1])"
   ]
  },
  {
   "cell_type": "code",
   "execution_count": null,
   "id": "e3de4c65",
   "metadata": {},
   "outputs": [],
   "source": []
  }
 ],
 "metadata": {
  "kernelspec": {
   "display_name": "pathflowJZ",
   "language": "python",
   "name": "pathflowjz"
  },
  "language_info": {
   "codemirror_mode": {
    "name": "ipython",
    "version": 3
   },
   "file_extension": ".py",
   "mimetype": "text/x-python",
   "name": "python",
   "nbconvert_exporter": "python",
   "pygments_lexer": "ipython3",
   "version": "3.7.3"
  }
 },
 "nbformat": 4,
 "nbformat_minor": 5
}
